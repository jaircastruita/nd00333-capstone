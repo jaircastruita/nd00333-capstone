{
  "cells": [
    {
      "cell_type": "markdown",
      "source": [
        "# Automated ML"
      ],
      "metadata": {}
    },
    {
      "cell_type": "code",
      "source": [
        "from azureml.core import Experiment, Dataset, Workspace\n",
        "from azureml.core.dataset import Dataset\n",
        "from azureml.train.automl import AutoMLConfig\n",
        "from azureml.core.compute import AmlCompute, ComputeTarget\n",
        "from azureml.core.compute_target import ComputeTargetException\n",
        "from azureml.widgets import RunDetails\n",
        "from azureml.core.model import InferenceConfig, Model\n",
        "from azureml.core.webservice import AciWebservice, Webservice\n",
        "\n",
        "import pandas as pd\n",
        "import logging"
      ],
      "outputs": [],
      "execution_count": 1,
      "metadata": {
        "gather": {
          "logged": 1613771401792
        },
        "jupyter": {
          "outputs_hidden": false,
          "source_hidden": false
        },
        "nteract": {
          "transient": {
            "deleting": false
          }
        }
      }
    },
    {
      "cell_type": "code",
      "source": [
        "ws = Workspace.from_config()\n",
        "\n",
        "# choose a name for experiment\n",
        "experiment_name = 'automl-experiment'\n",
        "\n",
        "experiment=Experiment(ws, experiment_name)"
      ],
      "outputs": [
        {
          "output_type": "stream",
          "name": "stdout",
          "text": [
            "Performing interactive authentication. Please follow the instructions on the terminal.\n",
            "To sign in, use a web browser to open the page https://microsoft.com/devicelogin and enter the code RWMUZ4DKH to authenticate.\n",
            "You have logged in. Now let us find all the subscriptions to which you have access...\n",
            "Interactive authentication successfully completed.\n"
          ]
        }
      ],
      "execution_count": 3,
      "metadata": {
        "gather": {
          "logged": 1613771494899
        },
        "jupyter": {
          "outputs_hidden": false,
          "source_hidden": false
        },
        "nteract": {
          "transient": {
            "deleting": false
          }
        }
      }
    },
    {
      "cell_type": "markdown",
      "source": [
        "## Attrition Dataset\n",
        "\n",
        "### Overview\n",
        "\n",
        "This is a fictional dataset made by the IBM data scientists to find relations between dependent and independent variables. The prediction task consist in detect the factors that lead to employee attrition."
      ],
      "metadata": {}
    },
    {
      "cell_type": "code",
      "source": [
        "# data_path = \"https://raw.githubusercontent.com/jaircastruita/nd00333-capstone/master/starter_file/data/WA_Fn-UseC_-HR-Employee-Attrition.csv\"\n",
        "# ibm_ds = Dataset.Tabular.from_delimited_files(path=data_path)\n",
        "\n",
        "ibm_ds = Dataset.get_by_name(ws, 'attrition-dataset')"
      ],
      "outputs": [],
      "execution_count": 4,
      "metadata": {
        "gather": {
          "logged": 1613771501165
        }
      }
    },
    {
      "cell_type": "code",
      "source": [
        "ibm_ds.to_pandas_dataframe().head()"
      ],
      "outputs": [
        {
          "output_type": "execute_result",
          "execution_count": 5,
          "data": {
            "text/plain": "   Age  Attrition     BusinessTravel  DailyRate              Department  \\\n0   41       True      Travel_Rarely       1102                   Sales   \n1   49      False  Travel_Frequently        279  Research & Development   \n2   37       True      Travel_Rarely       1373  Research & Development   \n3   33      False  Travel_Frequently       1392  Research & Development   \n4   27      False      Travel_Rarely        591  Research & Development   \n\n   DistanceFromHome  Education EducationField  EmployeeCount  EmployeeNumber  \\\n0                 1          2  Life Sciences              1               1   \n1                 8          1  Life Sciences              1               2   \n2                 2          2          Other              1               4   \n3                 3          4  Life Sciences              1               5   \n4                 2          1        Medical              1               7   \n\n   ...  RelationshipSatisfaction StandardHours  StockOptionLevel  \\\n0  ...                         1            80                 0   \n1  ...                         4            80                 1   \n2  ...                         2            80                 0   \n3  ...                         3            80                 0   \n4  ...                         4            80                 1   \n\n   TotalWorkingYears  TrainingTimesLastYear WorkLifeBalance  YearsAtCompany  \\\n0                  8                      0               1               6   \n1                 10                      3               3              10   \n2                  7                      3               3               0   \n3                  8                      3               3               8   \n4                  6                      3               3               2   \n\n  YearsInCurrentRole  YearsSinceLastPromotion  YearsWithCurrManager  \n0                  4                        0                     5  \n1                  7                        1                     7  \n2                  0                        0                     0  \n3                  7                        3                     0  \n4                  2                        2                     2  \n\n[5 rows x 35 columns]",
            "text/html": "<div>\n<style scoped>\n    .dataframe tbody tr th:only-of-type {\n        vertical-align: middle;\n    }\n\n    .dataframe tbody tr th {\n        vertical-align: top;\n    }\n\n    .dataframe thead th {\n        text-align: right;\n    }\n</style>\n<table border=\"1\" class=\"dataframe\">\n  <thead>\n    <tr style=\"text-align: right;\">\n      <th></th>\n      <th>Age</th>\n      <th>Attrition</th>\n      <th>BusinessTravel</th>\n      <th>DailyRate</th>\n      <th>Department</th>\n      <th>DistanceFromHome</th>\n      <th>Education</th>\n      <th>EducationField</th>\n      <th>EmployeeCount</th>\n      <th>EmployeeNumber</th>\n      <th>...</th>\n      <th>RelationshipSatisfaction</th>\n      <th>StandardHours</th>\n      <th>StockOptionLevel</th>\n      <th>TotalWorkingYears</th>\n      <th>TrainingTimesLastYear</th>\n      <th>WorkLifeBalance</th>\n      <th>YearsAtCompany</th>\n      <th>YearsInCurrentRole</th>\n      <th>YearsSinceLastPromotion</th>\n      <th>YearsWithCurrManager</th>\n    </tr>\n  </thead>\n  <tbody>\n    <tr>\n      <th>0</th>\n      <td>41</td>\n      <td>True</td>\n      <td>Travel_Rarely</td>\n      <td>1102</td>\n      <td>Sales</td>\n      <td>1</td>\n      <td>2</td>\n      <td>Life Sciences</td>\n      <td>1</td>\n      <td>1</td>\n      <td>...</td>\n      <td>1</td>\n      <td>80</td>\n      <td>0</td>\n      <td>8</td>\n      <td>0</td>\n      <td>1</td>\n      <td>6</td>\n      <td>4</td>\n      <td>0</td>\n      <td>5</td>\n    </tr>\n    <tr>\n      <th>1</th>\n      <td>49</td>\n      <td>False</td>\n      <td>Travel_Frequently</td>\n      <td>279</td>\n      <td>Research &amp; Development</td>\n      <td>8</td>\n      <td>1</td>\n      <td>Life Sciences</td>\n      <td>1</td>\n      <td>2</td>\n      <td>...</td>\n      <td>4</td>\n      <td>80</td>\n      <td>1</td>\n      <td>10</td>\n      <td>3</td>\n      <td>3</td>\n      <td>10</td>\n      <td>7</td>\n      <td>1</td>\n      <td>7</td>\n    </tr>\n    <tr>\n      <th>2</th>\n      <td>37</td>\n      <td>True</td>\n      <td>Travel_Rarely</td>\n      <td>1373</td>\n      <td>Research &amp; Development</td>\n      <td>2</td>\n      <td>2</td>\n      <td>Other</td>\n      <td>1</td>\n      <td>4</td>\n      <td>...</td>\n      <td>2</td>\n      <td>80</td>\n      <td>0</td>\n      <td>7</td>\n      <td>3</td>\n      <td>3</td>\n      <td>0</td>\n      <td>0</td>\n      <td>0</td>\n      <td>0</td>\n    </tr>\n    <tr>\n      <th>3</th>\n      <td>33</td>\n      <td>False</td>\n      <td>Travel_Frequently</td>\n      <td>1392</td>\n      <td>Research &amp; Development</td>\n      <td>3</td>\n      <td>4</td>\n      <td>Life Sciences</td>\n      <td>1</td>\n      <td>5</td>\n      <td>...</td>\n      <td>3</td>\n      <td>80</td>\n      <td>0</td>\n      <td>8</td>\n      <td>3</td>\n      <td>3</td>\n      <td>8</td>\n      <td>7</td>\n      <td>3</td>\n      <td>0</td>\n    </tr>\n    <tr>\n      <th>4</th>\n      <td>27</td>\n      <td>False</td>\n      <td>Travel_Rarely</td>\n      <td>591</td>\n      <td>Research &amp; Development</td>\n      <td>2</td>\n      <td>1</td>\n      <td>Medical</td>\n      <td>1</td>\n      <td>7</td>\n      <td>...</td>\n      <td>4</td>\n      <td>80</td>\n      <td>1</td>\n      <td>6</td>\n      <td>3</td>\n      <td>3</td>\n      <td>2</td>\n      <td>2</td>\n      <td>2</td>\n      <td>2</td>\n    </tr>\n  </tbody>\n</table>\n<p>5 rows × 35 columns</p>\n</div>"
          },
          "metadata": {}
        }
      ],
      "execution_count": 5,
      "metadata": {
        "collapsed": true,
        "jupyter": {
          "source_hidden": false,
          "outputs_hidden": false
        },
        "nteract": {
          "transient": {
            "deleting": false
          }
        },
        "gather": {
          "logged": 1613771511442
        }
      }
    },
    {
      "cell_type": "markdown",
      "source": [
        "## Creating a compute instance"
      ],
      "metadata": {}
    },
    {
      "cell_type": "code",
      "source": [
        "cluster_name = \"automl-cluster\"\n",
        "\n",
        "try:\n",
        "    compute_target = ComputeTarget(workspace=ws, name=cluster_name)\n",
        "    print(\"Reusing already created cluster: {}\".format(cluster_name))\n",
        "\n",
        "except ComputeTargetException:\n",
        "    print(\"Creating a new compute cluster...\")\n",
        "    cluster_config = AmlCompute.provisioning_configuration(vm_size='STANDARD_D2_V2', max_nodes=5)\n",
        "    compute_target = ComputeTarget.create(workspace=ws, name=cluster_name, provisioning_configuration=cluster_config)\n",
        "\n",
        "compute_target.wait_for_completion(show_output=True)"
      ],
      "outputs": [
        {
          "output_type": "stream",
          "name": "stdout",
          "text": [
            "Creating a new compute cluster...\n",
            "Creating\n",
            "Succeeded\n",
            "AmlCompute wait for completion finished\n",
            "\n",
            "Minimum number of nodes requested have been provisioned\n"
          ]
        }
      ],
      "execution_count": 6,
      "metadata": {
        "gather": {
          "logged": 1613771607828
        }
      }
    },
    {
      "cell_type": "markdown",
      "source": [
        "## AutoML Configuration\n",
        "\n",
        "Given the nature of the selected dataset: tabular, with categorical and numeric columns, relatively few observations with relatively many columns, the following settings were selected in the automl configuration:\n",
        "\n",
        "- *iteration_timeout_minutes* to 30, just to make sure the experiment will finish in a feasible time\n",
        "- *enable_early_stopping* to True in order to not waste resources when the model performance is not improving\n",
        "- *primary_metric* \"AUC_weighted\" given we are facing an umbalanced dataset problem\n",
        "- *verbosity* logging.INFO to capture important events for the model experiments\n",
        "- *max_concurrent_iterations* to 5 in order to parallelize experimentation\n",
        "- *n_cross_validations* to 5 to give an estimated 80-20 proportion to the training-testing sets in each fold\n",
        "- *task* will be \"classification\" because the objective is to identify attrition as a \"Yes\", \"No\" labeling problem "
      ],
      "metadata": {}
    },
    {
      "cell_type": "code",
      "source": [
        "automl_settings = {\"iteration_timeout_minutes\": 30,\n",
        "                    \"enable_early_stopping\": True,\n",
        "                    \"primary_metric\": \"AUC_weighted\",\n",
        "                    \"verbosity\": logging.INFO,\n",
        "                    \"max_concurrent_iterations\": 5,\n",
        "                    \"n_cross_validations\": 5\n",
        "                    }\n",
        "\n",
        "automl_config = AutoMLConfig(task=\"classification\",\n",
        "                             compute_target=compute_target,\n",
        "                             training_data=ibm_ds,\n",
        "                             label_column_name=\"Attrition\",\n",
        "                             **automl_settings)"
      ],
      "outputs": [],
      "execution_count": 7,
      "metadata": {
        "gather": {
          "logged": 1613771695684
        },
        "jupyter": {
          "outputs_hidden": false,
          "source_hidden": false
        },
        "nteract": {
          "transient": {
            "deleting": false
          }
        }
      }
    },
    {
      "cell_type": "code",
      "source": [
        "remote_run = experiment.submit(automl_config, show_output=True)\n",
        "remote_run.wait_for_completion(show_output=True)"
      ],
      "outputs": [
        {
          "output_type": "stream",
          "name": "stdout",
          "text": [
            "Running on remote.\n",
            "No run_configuration provided, running on automl-cluster with default configuration\n",
            "Running on remote compute: automl-cluster\n",
            "Parent Run ID: AutoML_f0166041-60b0-404f-bdd5-880e74fdb44e\n",
            "\n",
            "Current status: FeaturesGeneration. Generating features for the dataset.\n",
            "Current status: DatasetBalancing. Performing class balancing sweeping\n",
            "Current status: DatasetCrossValidationSplit. Generating individually featurized CV splits.\n",
            "Current status: ModelSelection. Beginning model selection.\n",
            "\n",
            "****************************************************************************************************\n",
            "DATA GUARDRAILS: \n",
            "\n",
            "TYPE:         Class balancing detection\n",
            "STATUS:       ALERTED\n",
            "DESCRIPTION:  To decrease model bias, please cancel the current run and fix balancing problem.\n",
            "              Learn more about imbalanced data: https://aka.ms/AutomatedMLImbalancedData\n",
            "DETAILS:      Imbalanced data can lead to a falsely perceived positive effect of a model's accuracy because the input data has bias towards one class.\n",
            "+---------------------------------+---------------------------------+--------------------------------------+\n",
            "|Size of the smallest class       |Name/Label of the smallest class |Number of samples in the training data|\n",
            "+=================================+=================================+======================================+\n",
            "|237                              |True                             |1470                                  |\n",
            "+---------------------------------+---------------------------------+--------------------------------------+\n",
            "\n",
            "****************************************************************************************************\n",
            "\n",
            "TYPE:         Missing feature values imputation\n",
            "STATUS:       PASSED\n",
            "DESCRIPTION:  No feature missing values were detected in the training data.\n",
            "              Learn more about missing value imputation: https://aka.ms/AutomatedMLFeaturization\n",
            "\n",
            "****************************************************************************************************\n",
            "\n",
            "TYPE:         High cardinality feature detection\n",
            "STATUS:       PASSED\n",
            "DESCRIPTION:  Your inputs were analyzed, and no high cardinality features were detected.\n",
            "              Learn more about high cardinality feature handling: https://aka.ms/AutomatedMLFeaturization\n",
            "\n",
            "****************************************************************************************************\n",
            "\n",
            "****************************************************************************************************\n",
            "ITERATION: The iteration being evaluated.\n",
            "PIPELINE: A summary description of the pipeline being evaluated.\n",
            "DURATION: Time taken for the current iteration.\n",
            "METRIC: The result of computing score on the fitted pipeline.\n",
            "BEST: The best observed score thus far.\n",
            "****************************************************************************************************\n",
            "\n",
            " ITERATION   PIPELINE                                       DURATION      METRIC      BEST\n",
            "         2   MaxAbsScaler RandomForest                      0:01:06       0.7725    0.7725\n",
            "         1   MaxAbsScaler XGBoostClassifier                 0:01:03       0.7960    0.7960\n",
            "         3   MaxAbsScaler RandomForest                      0:01:13       0.7760    0.7960\n",
            "         6   MaxAbsScaler ExtremeRandomTrees                0:01:08       0.7964    0.7964\n",
            "         7   MaxAbsScaler ExtremeRandomTrees                0:01:06       0.7850    0.7964\n",
            "         0   MaxAbsScaler LightGBM                          0:03:38       0.7989    0.7989\n",
            "         4   MaxAbsScaler RandomForest                      0:03:41       0.7749    0.7989\n",
            "         5   MaxAbsScaler ExtremeRandomTrees                0:03:42       0.7717    0.7989\n",
            "         9   MaxAbsScaler ExtremeRandomTrees                0:01:06       0.7944    0.7989\n",
            "        10   MaxAbsScaler RandomForest                      0:01:08       0.7532    0.7989\n",
            "        12   MaxAbsScaler RandomForest                      0:01:15       0.7854    0.7989\n",
            "        11   MaxAbsScaler RandomForest                      0:01:15       0.7766    0.7989\n",
            "        13   StandardScalerWrapper XGBoostClassifier        0:01:06       0.7770    0.7989\n",
            "         8   MaxAbsScaler RandomForest                      0:03:43       0.7781    0.7989\n",
            "        14   MaxAbsScaler RandomForest                      0:01:01       0.7415    0.7989\n",
            "        15   StandardScalerWrapper ExtremeRandomTrees       0:01:05       0.7430    0.7989\n",
            "        16   MaxAbsScaler ExtremeRandomTrees                0:01:01       0.7663    0.7989\n",
            "        17   MaxAbsScaler ExtremeRandomTrees                0:01:05       0.8036    0.8036\n",
            "        18   MaxAbsScaler RandomForest                      0:01:07       0.7714    0.8036\n",
            "        19   StandardScalerWrapper LogisticRegression       0:01:12       0.7947    0.8036\n",
            "        20   StandardScalerWrapper XGBoostClassifier        0:01:07       0.7841    0.8036\n",
            "        21   MaxAbsScaler LightGBM                          0:01:13       0.8005    0.8036\n",
            "        22   MaxAbsScaler LightGBM                          0:01:03       0.8032    0.8036\n",
            "        23   MaxAbsScaler LightGBM                          0:01:09       0.8067    0.8067\n",
            "        24   MaxAbsScaler LightGBM                          0:01:18       0.8185    0.8185\n",
            "        25   MaxAbsScaler ExtremeRandomTrees                0:01:09       0.7196    0.8185\n",
            "        26   StandardScalerWrapper LightGBM                 0:01:06       0.7851    0.8185\n",
            "        27   MaxAbsScaler LogisticRegression                0:01:15       0.7956    0.8185\n",
            "        28   MaxAbsScaler LogisticRegression                0:01:04       0.8028    0.8185\n",
            "        29   TruncatedSVDWrapper LightGBM                   0:01:09       0.7610    0.8185\n",
            "        31   SparseNormalizer XGBoostClassifier             0:01:06       0.7929    0.8185\n",
            "        30   StandardScalerWrapper GradientBoosting         0:01:17       0.8187    0.8187\n",
            "        32   SparseNormalizer XGBoostClassifier             0:01:36       0.8080    0.8187\n",
            "        34   SparseNormalizer LightGBM                      0:01:01       0.8032    0.8187\n",
            "        35   StandardScalerWrapper LightGBM                 0:01:01       0.8152    0.8187\n",
            "        33   TruncatedSVDWrapper XGBoostClassifier          0:02:19       0.8070    0.8187\n",
            "        36   TruncatedSVDWrapper XGBoostClassifier          0:01:46       0.7278    0.8187\n",
            "        37   TruncatedSVDWrapper XGBoostClassifier          0:01:25       0.7781    0.8187\n",
            "        38   TruncatedSVDWrapper XGBoostClassifier          0:01:12       0.7479    0.8187\n",
            "        39   StandardScalerWrapper LogisticRegression       0:01:06       0.8118    0.8187\n",
            "        40   TruncatedSVDWrapper GradientBoosting           0:01:04       0.5915    0.8187\n",
            "        41   MaxAbsScaler LogisticRegression                0:01:05       0.8177    0.8187\n",
            "        42   MaxAbsScaler LightGBM                          0:01:04       0.8186    0.8187\n",
            "        43   MaxAbsScaler LogisticRegression                0:00:59       0.8315    0.8315\n",
            "        44   MaxAbsScaler LightGBM                          0:01:02       0.8008    0.8315\n",
            "        45   StandardScalerWrapper GradientBoosting         0:01:14       0.6074    0.8315\n",
            "        46   MaxAbsScaler LightGBM                          0:01:14       0.8082    0.8315\n",
            "        47   StandardScalerWrapper XGBoostClassifier        0:01:03       0.7973    0.8315\n",
            "        48   MaxAbsScaler LightGBM                          0:01:04       0.7986    0.8315\n",
            "        49   MaxAbsScaler LightGBM                          0:01:02       0.8052    0.8315\n",
            "        50   StandardScalerWrapper LogisticRegression       0:01:13       0.7631    0.8315\n",
            "        51   StandardScalerWrapper GradientBoosting         0:01:07       0.8020    0.8315\n",
            "        52   MaxAbsScaler LogisticRegression                0:01:00       0.7885    0.8315\n",
            "        53   MaxAbsScaler LogisticRegression                0:01:13       0.8011    0.8315\n",
            "        54   StandardScalerWrapper LogisticRegression       0:01:05       0.7959    0.8315\n",
            "        55   SparseNormalizer LogisticRegression            0:01:01       0.6251    0.8315\n",
            "        56   StandardScalerWrapper ExtremeRandomTrees       0:01:03       0.8000    0.8315\n",
            "        57   StandardScalerWrapper XGBoostClassifier        0:01:07       0.8070    0.8315\n",
            "        58   StandardScalerWrapper XGBoostClassifier        0:01:07       0.8085    0.8315\n",
            "        59   StandardScalerWrapper XGBoostClassifier        0:01:04       0.8002    0.8315\n",
            "        60                                                  0:00:08          nan    0.8315\n",
            "        61                                                  0:00:08          nan    0.8315\n",
            "        63    StackEnsemble                                 0:01:53       0.8395    0.8395\n",
            "        62    VotingEnsemble                                0:01:57       0.8427    0.8427\n",
            "\n",
            "\n",
            "****************************************************************************************************\n",
            "DATA GUARDRAILS: \n",
            "\n",
            "TYPE:         Class balancing detection\n",
            "STATUS:       ALERTED\n",
            "DESCRIPTION:  To decrease model bias, please cancel the current run and fix balancing problem.\n",
            "              Learn more about imbalanced data: https://aka.ms/AutomatedMLImbalancedData\n",
            "DETAILS:      Imbalanced data can lead to a falsely perceived positive effect of a model's accuracy because the input data has bias towards one class.\n",
            "+---------------------------------+---------------------------------+--------------------------------------+\n",
            "|Size of the smallest class       |Name/Label of the smallest class |Number of samples in the training data|\n",
            "+=================================+=================================+======================================+\n",
            "|237                              |True                             |1470                                  |\n",
            "+---------------------------------+---------------------------------+--------------------------------------+\n",
            "\n",
            "****************************************************************************************************\n",
            "\n",
            "TYPE:         Missing feature values imputation\n",
            "STATUS:       PASSED\n",
            "DESCRIPTION:  No feature missing values were detected in the training data.\n",
            "              Learn more about missing value imputation: https://aka.ms/AutomatedMLFeaturization\n",
            "\n",
            "****************************************************************************************************\n",
            "\n",
            "TYPE:         High cardinality feature detection\n",
            "STATUS:       PASSED\n",
            "DESCRIPTION:  Your inputs were analyzed, and no high cardinality features were detected.\n",
            "              Learn more about high cardinality feature handling: https://aka.ms/AutomatedMLFeaturization\n",
            "\n",
            "****************************************************************************************************\n",
            "\n",
            "****************************************************************************************************\n",
            "ITERATION: The iteration being evaluated.\n",
            "PIPELINE: A summary description of the pipeline being evaluated.\n",
            "DURATION: Time taken for the current iteration.\n",
            "METRIC: The result of computing score on the fitted pipeline.\n",
            "BEST: The best observed score thus far.\n",
            "****************************************************************************************************\n",
            "\n",
            " ITERATION   PIPELINE                                       DURATION      METRIC      BEST\n",
            "         0   MaxAbsScaler LightGBM                          0:03:38       0.7989    0.7989\n",
            "         1   MaxAbsScaler XGBoostClassifier                 0:01:03       0.7960    0.7989\n",
            "         2   MaxAbsScaler RandomForest                      0:01:06       0.7725    0.7989\n",
            "         3   MaxAbsScaler RandomForest                      0:01:13       0.7760    0.7989\n",
            "         4   MaxAbsScaler RandomForest                      0:03:41       0.7749    0.7989\n",
            "         5   MaxAbsScaler ExtremeRandomTrees                0:03:42       0.7717    0.7989\n",
            "         6   MaxAbsScaler ExtremeRandomTrees                0:01:08       0.7964    0.7989\n",
            "         7   MaxAbsScaler ExtremeRandomTrees                0:01:06       0.7850    0.7989\n",
            "         8   MaxAbsScaler RandomForest                      0:03:43       0.7781    0.7989\n",
            "         9   MaxAbsScaler ExtremeRandomTrees                0:01:06       0.7944    0.7989\n",
            "        10   MaxAbsScaler RandomForest                      0:01:08       0.7532    0.7989\n",
            "        11   MaxAbsScaler RandomForest                      0:01:15       0.7766    0.7989\n",
            "        12   MaxAbsScaler RandomForest                      0:01:15       0.7854    0.7989\n",
            "        13   StandardScalerWrapper XGBoostClassifier        0:01:06       0.7770    0.7989\n",
            "        14   MaxAbsScaler RandomForest                      0:01:01       0.7415    0.7989\n",
            "        15   StandardScalerWrapper ExtremeRandomTrees       0:01:05       0.7430    0.7989\n",
            "        16   MaxAbsScaler ExtremeRandomTrees                0:01:01       0.7663    0.7989\n",
            "        17   MaxAbsScaler ExtremeRandomTrees                0:01:05       0.8036    0.8036\n",
            "        18   MaxAbsScaler RandomForest                      0:01:07       0.7714    0.8036\n",
            "        19   StandardScalerWrapper LogisticRegression       0:01:12       0.7947    0.8036\n",
            "        20   StandardScalerWrapper XGBoostClassifier        0:01:07       0.7841    0.8036\n",
            "        21   MaxAbsScaler LightGBM                          0:01:13       0.8005    0.8036\n",
            "        22   MaxAbsScaler LightGBM                          0:01:03       0.8032    0.8036\n",
            "        23   MaxAbsScaler LightGBM                          0:01:09       0.8067    0.8067\n",
            "        24   MaxAbsScaler LightGBM                          0:01:18       0.8185    0.8185\n",
            "        25   MaxAbsScaler ExtremeRandomTrees                0:01:09       0.7196    0.8185\n",
            "        26   StandardScalerWrapper LightGBM                 0:01:06       0.7851    0.8185\n",
            "        27   MaxAbsScaler LogisticRegression                0:01:15       0.7956    0.8185\n",
            "        28   MaxAbsScaler LogisticRegression                0:01:04       0.8028    0.8185\n",
            "        29   TruncatedSVDWrapper LightGBM                   0:01:09       0.7610    0.8185\n",
            "        30   StandardScalerWrapper GradientBoosting         0:01:17       0.8187    0.8187\n",
            "        31   SparseNormalizer XGBoostClassifier             0:01:06       0.7929    0.8187\n",
            "        32   SparseNormalizer XGBoostClassifier             0:01:36       0.8080    0.8187\n",
            "        33   TruncatedSVDWrapper XGBoostClassifier          0:02:19       0.8070    0.8187\n",
            "        34   SparseNormalizer LightGBM                      0:01:01       0.8032    0.8187\n",
            "        35   StandardScalerWrapper LightGBM                 0:01:01       0.8152    0.8187\n",
            "        36   TruncatedSVDWrapper XGBoostClassifier          0:01:46       0.7278    0.8187\n",
            "        37   TruncatedSVDWrapper XGBoostClassifier          0:01:25       0.7781    0.8187\n",
            "        38   TruncatedSVDWrapper XGBoostClassifier          0:01:12       0.7479    0.8187\n",
            "        39   StandardScalerWrapper LogisticRegression       0:01:06       0.8118    0.8187\n",
            "        40   TruncatedSVDWrapper GradientBoosting           0:01:04       0.5915    0.8187\n",
            "        41   MaxAbsScaler LogisticRegression                0:01:05       0.8177    0.8187\n",
            "        42   MaxAbsScaler LightGBM                          0:01:04       0.8186    0.8187\n",
            "        43   MaxAbsScaler LogisticRegression                0:00:59       0.8315    0.8315\n",
            "        44   MaxAbsScaler LightGBM                          0:01:02       0.8008    0.8315\n",
            "        45   StandardScalerWrapper GradientBoosting         0:01:14       0.6074    0.8315\n",
            "        46   MaxAbsScaler LightGBM                          0:01:14       0.8082    0.8315\n",
            "        47   StandardScalerWrapper XGBoostClassifier        0:01:03       0.7973    0.8315\n",
            "        48   MaxAbsScaler LightGBM                          0:01:04       0.7986    0.8315\n",
            "        49   MaxAbsScaler LightGBM                          0:01:02       0.8052    0.8315\n",
            "        50   StandardScalerWrapper LogisticRegression       0:01:13       0.7631    0.8315\n",
            "        51   StandardScalerWrapper GradientBoosting         0:01:07       0.8020    0.8315\n",
            "        52   MaxAbsScaler LogisticRegression                0:01:00       0.7885    0.8315\n",
            "        53   MaxAbsScaler LogisticRegression                0:01:13       0.8011    0.8315\n",
            "        54   StandardScalerWrapper LogisticRegression       0:01:05       0.7959    0.8315\n",
            "        55   SparseNormalizer LogisticRegression            0:01:01       0.6251    0.8315\n",
            "        56   StandardScalerWrapper ExtremeRandomTrees       0:01:03       0.8000    0.8315\n",
            "        57   StandardScalerWrapper XGBoostClassifier        0:01:07       0.8070    0.8315\n",
            "        58   StandardScalerWrapper XGBoostClassifier        0:01:07       0.8085    0.8315\n",
            "        59   StandardScalerWrapper XGBoostClassifier        0:01:04       0.8002    0.8315\n",
            "        60                                                  0:00:08          nan    0.8315\n",
            "        61                                                  0:00:08          nan    0.8315\n",
            "        62    VotingEnsemble                                0:01:57       0.8427    0.8427\n",
            "        63    StackEnsemble                                 0:01:53       0.8395    0.8427\n"
          ]
        },
        {
          "output_type": "execute_result",
          "execution_count": 8,
          "data": {
            "text/plain": "{'runId': 'AutoML_f0166041-60b0-404f-bdd5-880e74fdb44e',\n 'target': 'automl-cluster',\n 'status': 'Completed',\n 'startTimeUtc': '2021-02-19T21:55:29.1065Z',\n 'endTimeUtc': '2021-02-19T22:29:50.569986Z',\n 'properties': {'num_iterations': '1000',\n  'training_type': 'TrainFull',\n  'acquisition_function': 'EI',\n  'primary_metric': 'AUC_weighted',\n  'train_split': '0',\n  'acquisition_parameter': '0',\n  'num_cross_validation': '5',\n  'target': 'automl-cluster',\n  'AMLSettingsJsonString': '{\"path\":null,\"name\":\"automl-experiment\",\"subscription_id\":\"9e65f93e-bdd8-437b-b1e8-0647cd6098f7\",\"resource_group\":\"aml-quickstarts-139183\",\"workspace_name\":\"quick-starts-ws-139183\",\"region\":\"southcentralus\",\"compute_target\":\"automl-cluster\",\"spark_service\":null,\"azure_service\":\"remote\",\"many_models\":false,\"pipeline_fetch_max_batch_size\":1,\"iterations\":1000,\"primary_metric\":\"AUC_weighted\",\"task_type\":\"classification\",\"data_script\":null,\"validation_size\":0.0,\"n_cross_validations\":5,\"y_min\":null,\"y_max\":null,\"num_classes\":null,\"featurization\":\"auto\",\"_ignore_package_version_incompatibilities\":false,\"is_timeseries\":false,\"max_cores_per_iteration\":1,\"max_concurrent_iterations\":5,\"iteration_timeout_minutes\":30,\"mem_in_mb\":null,\"enforce_time_on_windows\":false,\"experiment_timeout_minutes\":8640,\"experiment_exit_score\":null,\"whitelist_models\":null,\"blacklist_algos\":[\"TensorFlowLinearClassifier\",\"TensorFlowDNN\"],\"supported_models\":[\"LinearSVM\",\"DecisionTree\",\"MultinomialNaiveBayes\",\"ExtremeRandomTrees\",\"LightGBM\",\"TensorFlowDNN\",\"LogisticRegression\",\"AveragedPerceptronClassifier\",\"BernoulliNaiveBayes\",\"TensorFlowLinearClassifier\",\"KNN\",\"RandomForest\",\"GradientBoosting\",\"SGD\",\"XGBoostClassifier\",\"SVM\"],\"auto_blacklist\":true,\"blacklist_samples_reached\":false,\"exclude_nan_labels\":true,\"verbosity\":20,\"_debug_log\":\"azureml_automl.log\",\"show_warnings\":false,\"model_explainability\":true,\"service_url\":null,\"sdk_url\":null,\"sdk_packages\":null,\"enable_onnx_compatible_models\":false,\"enable_split_onnx_featurizer_estimator_models\":false,\"vm_type\":\"STANDARD_D2_V2\",\"telemetry_verbosity\":20,\"send_telemetry\":true,\"enable_dnn\":false,\"scenario\":\"SDK-1.13.0\",\"environment_label\":null,\"force_text_dnn\":false,\"enable_feature_sweeping\":true,\"enable_early_stopping\":true,\"early_stopping_n_iters\":10,\"metrics\":null,\"enable_ensembling\":true,\"enable_stack_ensembling\":true,\"ensemble_iterations\":15,\"enable_tf\":false,\"enable_subsampling\":null,\"subsample_seed\":null,\"enable_nimbusml\":false,\"enable_streaming\":false,\"force_streaming\":false,\"track_child_runs\":true,\"allowed_private_models\":[],\"label_column_name\":\"Attrition\",\"weight_column_name\":null,\"cv_split_column_names\":null,\"enable_local_managed\":false,\"_local_managed_run_id\":null,\"cost_mode\":1,\"lag_length\":0,\"metric_operation\":\"maximize\",\"preprocess\":true}',\n  'DataPrepJsonString': '{\\\\\"training_data\\\\\": \\\\\"{\\\\\\\\\\\\\"blocks\\\\\\\\\\\\\": [{\\\\\\\\\\\\\"id\\\\\\\\\\\\\": \\\\\\\\\\\\\"996a38b0-7659-443f-9ba7-7605905b691c\\\\\\\\\\\\\", \\\\\\\\\\\\\"type\\\\\\\\\\\\\": \\\\\\\\\\\\\"Microsoft.DPrep.GetDatastoreFilesBlock\\\\\\\\\\\\\", \\\\\\\\\\\\\"arguments\\\\\\\\\\\\\": {\\\\\\\\\\\\\"datastores\\\\\\\\\\\\\": [{\\\\\\\\\\\\\"datastoreName\\\\\\\\\\\\\": \\\\\\\\\\\\\"workspaceblobstore\\\\\\\\\\\\\", \\\\\\\\\\\\\"path\\\\\\\\\\\\\": \\\\\\\\\\\\\"UI/02-19-2021_094529_UTC/WA_Fn-UseC_-HR-Employee-Attrition.csv\\\\\\\\\\\\\", \\\\\\\\\\\\\"resourceGroup\\\\\\\\\\\\\": \\\\\\\\\\\\\"aml-quickstarts-139183\\\\\\\\\\\\\", \\\\\\\\\\\\\"subscription\\\\\\\\\\\\\": \\\\\\\\\\\\\"9e65f93e-bdd8-437b-b1e8-0647cd6098f7\\\\\\\\\\\\\", \\\\\\\\\\\\\"workspaceName\\\\\\\\\\\\\": \\\\\\\\\\\\\"quick-starts-ws-139183\\\\\\\\\\\\\"}]}, \\\\\\\\\\\\\"localData\\\\\\\\\\\\\": {}, \\\\\\\\\\\\\"isEnabled\\\\\\\\\\\\\": true, \\\\\\\\\\\\\"name\\\\\\\\\\\\\": null, \\\\\\\\\\\\\"annotation\\\\\\\\\\\\\": null}, {\\\\\\\\\\\\\"id\\\\\\\\\\\\\": \\\\\\\\\\\\\"abd9f5ba-22c8-4ea0-81f0-0757cfe6e5a4\\\\\\\\\\\\\", \\\\\\\\\\\\\"type\\\\\\\\\\\\\": \\\\\\\\\\\\\"Microsoft.DPrep.ParseDelimitedBlock\\\\\\\\\\\\\", \\\\\\\\\\\\\"arguments\\\\\\\\\\\\\": {\\\\\\\\\\\\\"columnHeadersMode\\\\\\\\\\\\\": 1, \\\\\\\\\\\\\"fileEncoding\\\\\\\\\\\\\": 0, \\\\\\\\\\\\\"handleQuotedLineBreaks\\\\\\\\\\\\\": false, \\\\\\\\\\\\\"preview\\\\\\\\\\\\\": false, \\\\\\\\\\\\\"separator\\\\\\\\\\\\\": \\\\\\\\\\\\\",\\\\\\\\\\\\\", \\\\\\\\\\\\\"skipRows\\\\\\\\\\\\\": 0, \\\\\\\\\\\\\"skipRowsMode\\\\\\\\\\\\\": 0}, \\\\\\\\\\\\\"localData\\\\\\\\\\\\\": {}, \\\\\\\\\\\\\"isEnabled\\\\\\\\\\\\\": true, \\\\\\\\\\\\\"name\\\\\\\\\\\\\": null, \\\\\\\\\\\\\"annotation\\\\\\\\\\\\\": null}, {\\\\\\\\\\\\\"id\\\\\\\\\\\\\": \\\\\\\\\\\\\"c842bcf4-d5be-4824-a767-c32ab3cfb8e6\\\\\\\\\\\\\", \\\\\\\\\\\\\"type\\\\\\\\\\\\\": \\\\\\\\\\\\\"Microsoft.DPrep.DropColumnsBlock\\\\\\\\\\\\\", \\\\\\\\\\\\\"arguments\\\\\\\\\\\\\": {\\\\\\\\\\\\\"columns\\\\\\\\\\\\\": {\\\\\\\\\\\\\"type\\\\\\\\\\\\\": 0, \\\\\\\\\\\\\"details\\\\\\\\\\\\\": {\\\\\\\\\\\\\"selectedColumns\\\\\\\\\\\\\": [\\\\\\\\\\\\\"Path\\\\\\\\\\\\\"]}}}, \\\\\\\\\\\\\"localData\\\\\\\\\\\\\": {}, \\\\\\\\\\\\\"isEnabled\\\\\\\\\\\\\": true, \\\\\\\\\\\\\"name\\\\\\\\\\\\\": null, \\\\\\\\\\\\\"annotation\\\\\\\\\\\\\": null}, {\\\\\\\\\\\\\"id\\\\\\\\\\\\\": \\\\\\\\\\\\\"b032b48d-736a-41c5-8243-391b066ce6e6\\\\\\\\\\\\\", \\\\\\\\\\\\\"type\\\\\\\\\\\\\": \\\\\\\\\\\\\"Microsoft.DPrep.SetColumnTypesBlock\\\\\\\\\\\\\", \\\\\\\\\\\\\"arguments\\\\\\\\\\\\\": {\\\\\\\\\\\\\"columnConversion\\\\\\\\\\\\\": [{\\\\\\\\\\\\\"column\\\\\\\\\\\\\": {\\\\\\\\\\\\\"type\\\\\\\\\\\\\": 2, \\\\\\\\\\\\\"details\\\\\\\\\\\\\": {\\\\\\\\\\\\\"selectedColumn\\\\\\\\\\\\\": \\\\\\\\\\\\\"Path\\\\\\\\\\\\\"}}, \\\\\\\\\\\\\"typeProperty\\\\\\\\\\\\\": 0}, {\\\\\\\\\\\\\"column\\\\\\\\\\\\\": {\\\\\\\\\\\\\"type\\\\\\\\\\\\\": 2, \\\\\\\\\\\\\"details\\\\\\\\\\\\\": {\\\\\\\\\\\\\"selectedColumn\\\\\\\\\\\\\": \\\\\\\\\\\\\"Age\\\\\\\\\\\\\"}}, \\\\\\\\\\\\\"typeProperty\\\\\\\\\\\\\": 2}, {\\\\\\\\\\\\\"column\\\\\\\\\\\\\": {\\\\\\\\\\\\\"type\\\\\\\\\\\\\": 2, \\\\\\\\\\\\\"details\\\\\\\\\\\\\": {\\\\\\\\\\\\\"selectedColumn\\\\\\\\\\\\\": \\\\\\\\\\\\\"Attrition\\\\\\\\\\\\\"}}, \\\\\\\\\\\\\"typeProperty\\\\\\\\\\\\\": 1}, {\\\\\\\\\\\\\"column\\\\\\\\\\\\\": {\\\\\\\\\\\\\"type\\\\\\\\\\\\\": 2, \\\\\\\\\\\\\"details\\\\\\\\\\\\\": {\\\\\\\\\\\\\"selectedColumn\\\\\\\\\\\\\": \\\\\\\\\\\\\"BusinessTravel\\\\\\\\\\\\\"}}, \\\\\\\\\\\\\"typeProperty\\\\\\\\\\\\\": 0}, {\\\\\\\\\\\\\"column\\\\\\\\\\\\\": {\\\\\\\\\\\\\"type\\\\\\\\\\\\\": 2, \\\\\\\\\\\\\"details\\\\\\\\\\\\\": {\\\\\\\\\\\\\"selectedColumn\\\\\\\\\\\\\": \\\\\\\\\\\\\"DailyRate\\\\\\\\\\\\\"}}, \\\\\\\\\\\\\"typeProperty\\\\\\\\\\\\\": 2}, {\\\\\\\\\\\\\"column\\\\\\\\\\\\\": {\\\\\\\\\\\\\"type\\\\\\\\\\\\\": 2, \\\\\\\\\\\\\"details\\\\\\\\\\\\\": {\\\\\\\\\\\\\"selectedColumn\\\\\\\\\\\\\": \\\\\\\\\\\\\"Department\\\\\\\\\\\\\"}}, \\\\\\\\\\\\\"typeProperty\\\\\\\\\\\\\": 0}, {\\\\\\\\\\\\\"column\\\\\\\\\\\\\": {\\\\\\\\\\\\\"type\\\\\\\\\\\\\": 2, \\\\\\\\\\\\\"details\\\\\\\\\\\\\": {\\\\\\\\\\\\\"selectedColumn\\\\\\\\\\\\\": \\\\\\\\\\\\\"DistanceFromHome\\\\\\\\\\\\\"}}, \\\\\\\\\\\\\"typeProperty\\\\\\\\\\\\\": 2}, {\\\\\\\\\\\\\"column\\\\\\\\\\\\\": {\\\\\\\\\\\\\"type\\\\\\\\\\\\\": 2, \\\\\\\\\\\\\"details\\\\\\\\\\\\\": {\\\\\\\\\\\\\"selectedColumn\\\\\\\\\\\\\": \\\\\\\\\\\\\"Education\\\\\\\\\\\\\"}}, \\\\\\\\\\\\\"typeProperty\\\\\\\\\\\\\": 2}, {\\\\\\\\\\\\\"column\\\\\\\\\\\\\": {\\\\\\\\\\\\\"type\\\\\\\\\\\\\": 2, \\\\\\\\\\\\\"details\\\\\\\\\\\\\": {\\\\\\\\\\\\\"selectedColumn\\\\\\\\\\\\\": \\\\\\\\\\\\\"EducationField\\\\\\\\\\\\\"}}, \\\\\\\\\\\\\"typeProperty\\\\\\\\\\\\\": 0}, {\\\\\\\\\\\\\"column\\\\\\\\\\\\\": {\\\\\\\\\\\\\"type\\\\\\\\\\\\\": 2, \\\\\\\\\\\\\"details\\\\\\\\\\\\\": {\\\\\\\\\\\\\"selectedColumn\\\\\\\\\\\\\": \\\\\\\\\\\\\"EmployeeCount\\\\\\\\\\\\\"}}, \\\\\\\\\\\\\"typeProperty\\\\\\\\\\\\\": 2}, {\\\\\\\\\\\\\"column\\\\\\\\\\\\\": {\\\\\\\\\\\\\"type\\\\\\\\\\\\\": 2, \\\\\\\\\\\\\"details\\\\\\\\\\\\\": {\\\\\\\\\\\\\"selectedColumn\\\\\\\\\\\\\": \\\\\\\\\\\\\"EmployeeNumber\\\\\\\\\\\\\"}}, \\\\\\\\\\\\\"typeProperty\\\\\\\\\\\\\": 2}, {\\\\\\\\\\\\\"column\\\\\\\\\\\\\": {\\\\\\\\\\\\\"type\\\\\\\\\\\\\": 2, \\\\\\\\\\\\\"details\\\\\\\\\\\\\": {\\\\\\\\\\\\\"selectedColumn\\\\\\\\\\\\\": \\\\\\\\\\\\\"EnvironmentSatisfaction\\\\\\\\\\\\\"}}, \\\\\\\\\\\\\"typeProperty\\\\\\\\\\\\\": 2}, {\\\\\\\\\\\\\"column\\\\\\\\\\\\\": {\\\\\\\\\\\\\"type\\\\\\\\\\\\\": 2, \\\\\\\\\\\\\"details\\\\\\\\\\\\\": {\\\\\\\\\\\\\"selectedColumn\\\\\\\\\\\\\": \\\\\\\\\\\\\"Gender\\\\\\\\\\\\\"}}, \\\\\\\\\\\\\"typeProperty\\\\\\\\\\\\\": 0}, {\\\\\\\\\\\\\"column\\\\\\\\\\\\\": {\\\\\\\\\\\\\"type\\\\\\\\\\\\\": 2, \\\\\\\\\\\\\"details\\\\\\\\\\\\\": {\\\\\\\\\\\\\"selectedColumn\\\\\\\\\\\\\": \\\\\\\\\\\\\"HourlyRate\\\\\\\\\\\\\"}}, \\\\\\\\\\\\\"typeProperty\\\\\\\\\\\\\": 2}, {\\\\\\\\\\\\\"column\\\\\\\\\\\\\": {\\\\\\\\\\\\\"type\\\\\\\\\\\\\": 2, \\\\\\\\\\\\\"details\\\\\\\\\\\\\": {\\\\\\\\\\\\\"selectedColumn\\\\\\\\\\\\\": \\\\\\\\\\\\\"JobInvolvement\\\\\\\\\\\\\"}}, \\\\\\\\\\\\\"typeProperty\\\\\\\\\\\\\": 2}, {\\\\\\\\\\\\\"column\\\\\\\\\\\\\": {\\\\\\\\\\\\\"type\\\\\\\\\\\\\": 2, \\\\\\\\\\\\\"details\\\\\\\\\\\\\": {\\\\\\\\\\\\\"selectedColumn\\\\\\\\\\\\\": \\\\\\\\\\\\\"JobLevel\\\\\\\\\\\\\"}}, \\\\\\\\\\\\\"typeProperty\\\\\\\\\\\\\": 2}, {\\\\\\\\\\\\\"column\\\\\\\\\\\\\": {\\\\\\\\\\\\\"type\\\\\\\\\\\\\": 2, \\\\\\\\\\\\\"details\\\\\\\\\\\\\": {\\\\\\\\\\\\\"selectedColumn\\\\\\\\\\\\\": \\\\\\\\\\\\\"JobRole\\\\\\\\\\\\\"}}, \\\\\\\\\\\\\"typeProperty\\\\\\\\\\\\\": 0}, {\\\\\\\\\\\\\"column\\\\\\\\\\\\\": {\\\\\\\\\\\\\"type\\\\\\\\\\\\\": 2, \\\\\\\\\\\\\"details\\\\\\\\\\\\\": {\\\\\\\\\\\\\"selectedColumn\\\\\\\\\\\\\": \\\\\\\\\\\\\"JobSatisfaction\\\\\\\\\\\\\"}}, \\\\\\\\\\\\\"typeProperty\\\\\\\\\\\\\": 2}, {\\\\\\\\\\\\\"column\\\\\\\\\\\\\": {\\\\\\\\\\\\\"type\\\\\\\\\\\\\": 2, \\\\\\\\\\\\\"details\\\\\\\\\\\\\": {\\\\\\\\\\\\\"selectedColumn\\\\\\\\\\\\\": \\\\\\\\\\\\\"MaritalStatus\\\\\\\\\\\\\"}}, \\\\\\\\\\\\\"typeProperty\\\\\\\\\\\\\": 0}, {\\\\\\\\\\\\\"column\\\\\\\\\\\\\": {\\\\\\\\\\\\\"type\\\\\\\\\\\\\": 2, \\\\\\\\\\\\\"details\\\\\\\\\\\\\": {\\\\\\\\\\\\\"selectedColumn\\\\\\\\\\\\\": \\\\\\\\\\\\\"MonthlyIncome\\\\\\\\\\\\\"}}, \\\\\\\\\\\\\"typeProperty\\\\\\\\\\\\\": 2}, {\\\\\\\\\\\\\"column\\\\\\\\\\\\\": {\\\\\\\\\\\\\"type\\\\\\\\\\\\\": 2, \\\\\\\\\\\\\"details\\\\\\\\\\\\\": {\\\\\\\\\\\\\"selectedColumn\\\\\\\\\\\\\": \\\\\\\\\\\\\"MonthlyRate\\\\\\\\\\\\\"}}, \\\\\\\\\\\\\"typeProperty\\\\\\\\\\\\\": 2}, {\\\\\\\\\\\\\"column\\\\\\\\\\\\\": {\\\\\\\\\\\\\"type\\\\\\\\\\\\\": 2, \\\\\\\\\\\\\"details\\\\\\\\\\\\\": {\\\\\\\\\\\\\"selectedColumn\\\\\\\\\\\\\": \\\\\\\\\\\\\"NumCompaniesWorked\\\\\\\\\\\\\"}}, \\\\\\\\\\\\\"typeProperty\\\\\\\\\\\\\": 2}, {\\\\\\\\\\\\\"column\\\\\\\\\\\\\": {\\\\\\\\\\\\\"type\\\\\\\\\\\\\": 2, \\\\\\\\\\\\\"details\\\\\\\\\\\\\": {\\\\\\\\\\\\\"selectedColumn\\\\\\\\\\\\\": \\\\\\\\\\\\\"Over18\\\\\\\\\\\\\"}}, \\\\\\\\\\\\\"typeProperty\\\\\\\\\\\\\": 1}, {\\\\\\\\\\\\\"column\\\\\\\\\\\\\": {\\\\\\\\\\\\\"type\\\\\\\\\\\\\": 2, \\\\\\\\\\\\\"details\\\\\\\\\\\\\": {\\\\\\\\\\\\\"selectedColumn\\\\\\\\\\\\\": \\\\\\\\\\\\\"OverTime\\\\\\\\\\\\\"}}, \\\\\\\\\\\\\"typeProperty\\\\\\\\\\\\\": 1}, {\\\\\\\\\\\\\"column\\\\\\\\\\\\\": {\\\\\\\\\\\\\"type\\\\\\\\\\\\\": 2, \\\\\\\\\\\\\"details\\\\\\\\\\\\\": {\\\\\\\\\\\\\"selectedColumn\\\\\\\\\\\\\": \\\\\\\\\\\\\"PercentSalaryHike\\\\\\\\\\\\\"}}, \\\\\\\\\\\\\"typeProperty\\\\\\\\\\\\\": 2}, {\\\\\\\\\\\\\"column\\\\\\\\\\\\\": {\\\\\\\\\\\\\"type\\\\\\\\\\\\\": 2, \\\\\\\\\\\\\"details\\\\\\\\\\\\\": {\\\\\\\\\\\\\"selectedColumn\\\\\\\\\\\\\": \\\\\\\\\\\\\"PerformanceRating\\\\\\\\\\\\\"}}, \\\\\\\\\\\\\"typeProperty\\\\\\\\\\\\\": 2}, {\\\\\\\\\\\\\"column\\\\\\\\\\\\\": {\\\\\\\\\\\\\"type\\\\\\\\\\\\\": 2, \\\\\\\\\\\\\"details\\\\\\\\\\\\\": {\\\\\\\\\\\\\"selectedColumn\\\\\\\\\\\\\": \\\\\\\\\\\\\"RelationshipSatisfaction\\\\\\\\\\\\\"}}, \\\\\\\\\\\\\"typeProperty\\\\\\\\\\\\\": 2}, {\\\\\\\\\\\\\"column\\\\\\\\\\\\\": {\\\\\\\\\\\\\"type\\\\\\\\\\\\\": 2, \\\\\\\\\\\\\"details\\\\\\\\\\\\\": {\\\\\\\\\\\\\"selectedColumn\\\\\\\\\\\\\": \\\\\\\\\\\\\"StandardHours\\\\\\\\\\\\\"}}, \\\\\\\\\\\\\"typeProperty\\\\\\\\\\\\\": 2}, {\\\\\\\\\\\\\"column\\\\\\\\\\\\\": {\\\\\\\\\\\\\"type\\\\\\\\\\\\\": 2, \\\\\\\\\\\\\"details\\\\\\\\\\\\\": {\\\\\\\\\\\\\"selectedColumn\\\\\\\\\\\\\": \\\\\\\\\\\\\"StockOptionLevel\\\\\\\\\\\\\"}}, \\\\\\\\\\\\\"typeProperty\\\\\\\\\\\\\": 2}, {\\\\\\\\\\\\\"column\\\\\\\\\\\\\": {\\\\\\\\\\\\\"type\\\\\\\\\\\\\": 2, \\\\\\\\\\\\\"details\\\\\\\\\\\\\": {\\\\\\\\\\\\\"selectedColumn\\\\\\\\\\\\\": \\\\\\\\\\\\\"TotalWorkingYears\\\\\\\\\\\\\"}}, \\\\\\\\\\\\\"typeProperty\\\\\\\\\\\\\": 2}, {\\\\\\\\\\\\\"column\\\\\\\\\\\\\": {\\\\\\\\\\\\\"type\\\\\\\\\\\\\": 2, \\\\\\\\\\\\\"details\\\\\\\\\\\\\": {\\\\\\\\\\\\\"selectedColumn\\\\\\\\\\\\\": \\\\\\\\\\\\\"TrainingTimesLastYear\\\\\\\\\\\\\"}}, \\\\\\\\\\\\\"typeProperty\\\\\\\\\\\\\": 2}, {\\\\\\\\\\\\\"column\\\\\\\\\\\\\": {\\\\\\\\\\\\\"type\\\\\\\\\\\\\": 2, \\\\\\\\\\\\\"details\\\\\\\\\\\\\": {\\\\\\\\\\\\\"selectedColumn\\\\\\\\\\\\\": \\\\\\\\\\\\\"WorkLifeBalance\\\\\\\\\\\\\"}}, \\\\\\\\\\\\\"typeProperty\\\\\\\\\\\\\": 2}, {\\\\\\\\\\\\\"column\\\\\\\\\\\\\": {\\\\\\\\\\\\\"type\\\\\\\\\\\\\": 2, \\\\\\\\\\\\\"details\\\\\\\\\\\\\": {\\\\\\\\\\\\\"selectedColumn\\\\\\\\\\\\\": \\\\\\\\\\\\\"YearsAtCompany\\\\\\\\\\\\\"}}, \\\\\\\\\\\\\"typeProperty\\\\\\\\\\\\\": 2}, {\\\\\\\\\\\\\"column\\\\\\\\\\\\\": {\\\\\\\\\\\\\"type\\\\\\\\\\\\\": 2, \\\\\\\\\\\\\"details\\\\\\\\\\\\\": {\\\\\\\\\\\\\"selectedColumn\\\\\\\\\\\\\": \\\\\\\\\\\\\"YearsInCurrentRole\\\\\\\\\\\\\"}}, \\\\\\\\\\\\\"typeProperty\\\\\\\\\\\\\": 2}, {\\\\\\\\\\\\\"column\\\\\\\\\\\\\": {\\\\\\\\\\\\\"type\\\\\\\\\\\\\": 2, \\\\\\\\\\\\\"details\\\\\\\\\\\\\": {\\\\\\\\\\\\\"selectedColumn\\\\\\\\\\\\\": \\\\\\\\\\\\\"YearsSinceLastPromotion\\\\\\\\\\\\\"}}, \\\\\\\\\\\\\"typeProperty\\\\\\\\\\\\\": 2}, {\\\\\\\\\\\\\"column\\\\\\\\\\\\\": {\\\\\\\\\\\\\"type\\\\\\\\\\\\\": 2, \\\\\\\\\\\\\"details\\\\\\\\\\\\\": {\\\\\\\\\\\\\"selectedColumn\\\\\\\\\\\\\": \\\\\\\\\\\\\"YearsWithCurrManager\\\\\\\\\\\\\"}}, \\\\\\\\\\\\\"typeProperty\\\\\\\\\\\\\": 2}]}, \\\\\\\\\\\\\"localData\\\\\\\\\\\\\": {}, \\\\\\\\\\\\\"isEnabled\\\\\\\\\\\\\": true, \\\\\\\\\\\\\"name\\\\\\\\\\\\\": null, \\\\\\\\\\\\\"annotation\\\\\\\\\\\\\": null}], \\\\\\\\\\\\\"inspectors\\\\\\\\\\\\\": [], \\\\\\\\\\\\\"meta\\\\\\\\\\\\\": {\\\\\\\\\\\\\"savedDatasetId\\\\\\\\\\\\\": \\\\\\\\\\\\\"a4e293d5-3155-4ddf-aef7-901e826b08d6\\\\\\\\\\\\\", \\\\\\\\\\\\\"datasetType\\\\\\\\\\\\\": \\\\\\\\\\\\\"tabular\\\\\\\\\\\\\", \\\\\\\\\\\\\"subscriptionId\\\\\\\\\\\\\": \\\\\\\\\\\\\"9e65f93e-bdd8-437b-b1e8-0647cd6098f7\\\\\\\\\\\\\", \\\\\\\\\\\\\"workspaceId\\\\\\\\\\\\\": \\\\\\\\\\\\\"8f9cbc3f-0a3d-45a3-8c98-fbb3c64b9ac4\\\\\\\\\\\\\", \\\\\\\\\\\\\"workspaceLocation\\\\\\\\\\\\\": \\\\\\\\\\\\\"southcentralus\\\\\\\\\\\\\"}}\\\\\", \\\\\"activities\\\\\": 0}',\n  'EnableSubsampling': None,\n  'runTemplate': 'AutoML',\n  'azureml.runsource': 'automl',\n  'display_task_type': 'classification',\n  'dependencies_versions': '{\"azureml-widgets\": \"1.20.0\", \"azureml-train\": \"1.20.0\", \"azureml-train-restclients-hyperdrive\": \"1.20.0\", \"azureml-train-core\": \"1.20.0\", \"azureml-train-automl\": \"1.20.0\", \"azureml-train-automl-runtime\": \"1.20.0\", \"azureml-train-automl-client\": \"1.20.0\", \"azureml-tensorboard\": \"1.20.0\", \"azureml-telemetry\": \"1.20.0\", \"azureml-sdk\": \"1.20.0\", \"azureml-samples\": \"0+unknown\", \"azureml-pipeline\": \"1.20.0\", \"azureml-pipeline-steps\": \"1.20.0\", \"azureml-pipeline-core\": \"1.20.0\", \"azureml-opendatasets\": \"1.20.0\", \"azureml-model-management-sdk\": \"1.0.1b6.post1\", \"azureml-mlflow\": \"1.20.0.post1\", \"azureml-interpret\": \"1.20.0\", \"azureml-explain-model\": \"1.20.0\", \"azureml-defaults\": \"1.20.0\", \"azureml-dataset-runtime\": \"1.20.0\", \"azureml-dataprep\": \"2.7.3\", \"azureml-dataprep-rslex\": \"1.5.0\", \"azureml-dataprep-native\": \"27.0.0\", \"azureml-datadrift\": \"1.20.0\", \"azureml-core\": \"1.20.0\", \"azureml-contrib-services\": \"1.20.0\", \"azureml-contrib-server\": \"1.20.0\", \"azureml-contrib-reinforcementlearning\": \"1.20.0\", \"azureml-contrib-pipeline-steps\": \"1.20.0\", \"azureml-contrib-notebook\": \"1.20.0\", \"azureml-contrib-interpret\": \"1.20.0\", \"azureml-contrib-gbdt\": \"1.20.0\", \"azureml-contrib-fairness\": \"1.20.0\", \"azureml-contrib-dataset\": \"1.20.0\", \"azureml-cli-common\": \"1.20.0\", \"azureml-automl-runtime\": \"1.20.0\", \"azureml-automl-core\": \"1.20.0\", \"azureml-accel-models\": \"1.20.0\"}',\n  '_aml_system_scenario_identification': 'Remote.Parent',\n  'ClientType': 'SDK',\n  'environment_cpu_name': 'AzureML-AutoML',\n  'environment_cpu_label': 'prod',\n  'environment_gpu_name': 'AzureML-AutoML-GPU',\n  'environment_gpu_label': 'prod',\n  'root_attribution': 'automl',\n  'attribution': 'AutoML',\n  'Orchestrator': 'AutoML',\n  'CancelUri': 'https://southcentralus.experiments.azureml.net/jasmine/v1.0/subscriptions/9e65f93e-bdd8-437b-b1e8-0647cd6098f7/resourceGroups/aml-quickstarts-139183/providers/Microsoft.MachineLearningServices/workspaces/quick-starts-ws-139183/experimentids/937c0c10-7f39-4847-aa25-9c728d95b623/cancel/AutoML_f0166041-60b0-404f-bdd5-880e74fdb44e',\n  'ClientSdkVersion': '1.21.0',\n  'snapshotId': '00000000-0000-0000-0000-000000000000',\n  'SetupRunId': 'AutoML_f0166041-60b0-404f-bdd5-880e74fdb44e_setup',\n  'SetupRunContainerId': 'dcid.AutoML_f0166041-60b0-404f-bdd5-880e74fdb44e_setup',\n  'FeaturizationRunJsonPath': 'featurizer_container.json',\n  'FeaturizationRunId': 'AutoML_f0166041-60b0-404f-bdd5-880e74fdb44e_featurize',\n  'ProblemInfoJsonString': '{\"dataset_num_categorical\": 0, \"is_sparse\": true, \"subsampling\": false, \"dataset_classes\": 2, \"dataset_features\": 300, \"dataset_samples\": 1470, \"single_frequency_class_detected\": false}',\n  'ModelExplainRunId': 'AutoML_f0166041-60b0-404f-bdd5-880e74fdb44e_ModelExplain'},\n 'inputDatasets': [{'dataset': {'id': 'a4e293d5-3155-4ddf-aef7-901e826b08d6'}, 'consumptionDetails': {'type': 'RunInput', 'inputName': 'training_data', 'mechanism': 'Direct'}}],\n 'outputDatasets': [],\n 'logFiles': {},\n 'submittedBy': 'ODL_User 139183'}"
          },
          "metadata": {}
        }
      ],
      "execution_count": 8,
      "metadata": {
        "gather": {
          "logged": 1613774104913
        },
        "jupyter": {
          "outputs_hidden": false,
          "source_hidden": false
        },
        "nteract": {
          "transient": {
            "deleting": false
          }
        }
      }
    },
    {
      "cell_type": "code",
      "source": [
        "# from azureml.train.automl.run import AutoMLRun\r\n",
        "\r\n",
        "# remote_run = AutoMLRun(experiment=experiment, run_id='AutoML_087c6ad3-ea12-4397-aec0-abb21503bc96')"
      ],
      "outputs": [],
      "execution_count": 9,
      "metadata": {
        "collapsed": true,
        "jupyter": {
          "source_hidden": false,
          "outputs_hidden": false
        },
        "nteract": {
          "transient": {
            "deleting": false
          }
        },
        "gather": {
          "logged": 1613774281558
        }
      }
    },
    {
      "cell_type": "code",
      "source": [
        "remote_run"
      ],
      "outputs": [
        {
          "output_type": "execute_result",
          "execution_count": 10,
          "data": {
            "text/plain": "Run(Experiment: automl-experiment,\nId: AutoML_f0166041-60b0-404f-bdd5-880e74fdb44e,\nType: automl,\nStatus: Completed)",
            "text/html": "<table style=\"width:100%\"><tr><th>Experiment</th><th>Id</th><th>Type</th><th>Status</th><th>Details Page</th><th>Docs Page</th></tr><tr><td>automl-experiment</td><td>AutoML_f0166041-60b0-404f-bdd5-880e74fdb44e</td><td>automl</td><td>Completed</td><td><a href=\"https://ml.azure.com/experiments/automl-experiment/runs/AutoML_f0166041-60b0-404f-bdd5-880e74fdb44e?wsid=/subscriptions/9e65f93e-bdd8-437b-b1e8-0647cd6098f7/resourcegroups/aml-quickstarts-139183/workspaces/quick-starts-ws-139183\" target=\"_blank\" rel=\"noopener\">Link to Azure Machine Learning studio</a></td><td><a href=\"https://docs.microsoft.com/en-us/python/api/overview/azure/ml/intro?view=azure-ml-py\" target=\"_blank\" rel=\"noopener\">Link to Documentation</a></td></tr></table>"
          },
          "metadata": {}
        }
      ],
      "execution_count": 10,
      "metadata": {
        "collapsed": true,
        "jupyter": {
          "source_hidden": false,
          "outputs_hidden": false
        },
        "nteract": {
          "transient": {
            "deleting": false
          }
        },
        "gather": {
          "logged": 1613774284717
        }
      }
    },
    {
      "cell_type": "markdown",
      "source": [
        "## Run Details\n",
        "\n",
        "OPTIONAL: Write about the different models trained and their performance. Why do you think some models did better than others?"
      ],
      "metadata": {}
    },
    {
      "cell_type": "code",
      "source": [
        "RunDetails(remote_run).show()"
      ],
      "outputs": [
        {
          "output_type": "display_data",
          "data": {
            "text/plain": "_AutoMLWidget(widget_settings={'childWidgetDisplay': 'popup', 'send_telemetry': False, 'log_level': 'INFO', 's…",
            "application/vnd.jupyter.widget-view+json": {
              "version_major": 2,
              "version_minor": 0,
              "model_id": "0215957dcd9b418db9acf35ee59fee9e"
            }
          },
          "metadata": {}
        },
        {
          "output_type": "display_data",
          "data": {
            "application/aml.mini.widget.v1": "{\"status\": \"Completed\", \"workbench_run_details_uri\": \"https://ml.azure.com/experiments/automl-experiment/runs/AutoML_f0166041-60b0-404f-bdd5-880e74fdb44e?wsid=/subscriptions/9e65f93e-bdd8-437b-b1e8-0647cd6098f7/resourcegroups/aml-quickstarts-139183/workspaces/quick-starts-ws-139183\", \"run_id\": \"AutoML_f0166041-60b0-404f-bdd5-880e74fdb44e\", \"run_properties\": {\"run_id\": \"AutoML_f0166041-60b0-404f-bdd5-880e74fdb44e\", \"created_utc\": \"2021-02-19T21:55:10.252496Z\", \"properties\": {\"num_iterations\": \"1000\", \"training_type\": \"TrainFull\", \"acquisition_function\": \"EI\", \"primary_metric\": \"AUC_weighted\", \"train_split\": \"0\", \"acquisition_parameter\": \"0\", \"num_cross_validation\": \"5\", \"target\": \"automl-cluster\", \"AMLSettingsJsonString\": \"{\\\"path\\\":null,\\\"name\\\":\\\"automl-experiment\\\",\\\"subscription_id\\\":\\\"9e65f93e-bdd8-437b-b1e8-0647cd6098f7\\\",\\\"resource_group\\\":\\\"aml-quickstarts-139183\\\",\\\"workspace_name\\\":\\\"quick-starts-ws-139183\\\",\\\"region\\\":\\\"southcentralus\\\",\\\"compute_target\\\":\\\"automl-cluster\\\",\\\"spark_service\\\":null,\\\"azure_service\\\":\\\"remote\\\",\\\"many_models\\\":false,\\\"pipeline_fetch_max_batch_size\\\":1,\\\"iterations\\\":1000,\\\"primary_metric\\\":\\\"AUC_weighted\\\",\\\"task_type\\\":\\\"classification\\\",\\\"data_script\\\":null,\\\"validation_size\\\":0.0,\\\"n_cross_validations\\\":5,\\\"y_min\\\":null,\\\"y_max\\\":null,\\\"num_classes\\\":null,\\\"featurization\\\":\\\"auto\\\",\\\"_ignore_package_version_incompatibilities\\\":false,\\\"is_timeseries\\\":false,\\\"max_cores_per_iteration\\\":1,\\\"max_concurrent_iterations\\\":5,\\\"iteration_timeout_minutes\\\":30,\\\"mem_in_mb\\\":null,\\\"enforce_time_on_windows\\\":false,\\\"experiment_timeout_minutes\\\":8640,\\\"experiment_exit_score\\\":null,\\\"whitelist_models\\\":null,\\\"blacklist_algos\\\":[\\\"TensorFlowLinearClassifier\\\",\\\"TensorFlowDNN\\\"],\\\"supported_models\\\":[\\\"LinearSVM\\\",\\\"DecisionTree\\\",\\\"MultinomialNaiveBayes\\\",\\\"ExtremeRandomTrees\\\",\\\"LightGBM\\\",\\\"TensorFlowDNN\\\",\\\"LogisticRegression\\\",\\\"AveragedPerceptronClassifier\\\",\\\"BernoulliNaiveBayes\\\",\\\"TensorFlowLinearClassifier\\\",\\\"KNN\\\",\\\"RandomForest\\\",\\\"GradientBoosting\\\",\\\"SGD\\\",\\\"XGBoostClassifier\\\",\\\"SVM\\\"],\\\"auto_blacklist\\\":true,\\\"blacklist_samples_reached\\\":false,\\\"exclude_nan_labels\\\":true,\\\"verbosity\\\":20,\\\"_debug_log\\\":\\\"azureml_automl.log\\\",\\\"show_warnings\\\":false,\\\"model_explainability\\\":true,\\\"service_url\\\":null,\\\"sdk_url\\\":null,\\\"sdk_packages\\\":null,\\\"enable_onnx_compatible_models\\\":false,\\\"enable_split_onnx_featurizer_estimator_models\\\":false,\\\"vm_type\\\":\\\"STANDARD_D2_V2\\\",\\\"telemetry_verbosity\\\":20,\\\"send_telemetry\\\":true,\\\"enable_dnn\\\":false,\\\"scenario\\\":\\\"SDK-1.13.0\\\",\\\"environment_label\\\":null,\\\"force_text_dnn\\\":false,\\\"enable_feature_sweeping\\\":true,\\\"enable_early_stopping\\\":true,\\\"early_stopping_n_iters\\\":10,\\\"metrics\\\":null,\\\"enable_ensembling\\\":true,\\\"enable_stack_ensembling\\\":true,\\\"ensemble_iterations\\\":15,\\\"enable_tf\\\":false,\\\"enable_subsampling\\\":null,\\\"subsample_seed\\\":null,\\\"enable_nimbusml\\\":false,\\\"enable_streaming\\\":false,\\\"force_streaming\\\":false,\\\"track_child_runs\\\":true,\\\"allowed_private_models\\\":[],\\\"label_column_name\\\":\\\"Attrition\\\",\\\"weight_column_name\\\":null,\\\"cv_split_column_names\\\":null,\\\"enable_local_managed\\\":false,\\\"_local_managed_run_id\\\":null,\\\"cost_mode\\\":1,\\\"lag_length\\\":0,\\\"metric_operation\\\":\\\"maximize\\\",\\\"preprocess\\\":true}\", \"DataPrepJsonString\": \"{\\\\\\\"training_data\\\\\\\": \\\\\\\"{\\\\\\\\\\\\\\\"blocks\\\\\\\\\\\\\\\": [{\\\\\\\\\\\\\\\"id\\\\\\\\\\\\\\\": \\\\\\\\\\\\\\\"996a38b0-7659-443f-9ba7-7605905b691c\\\\\\\\\\\\\\\", \\\\\\\\\\\\\\\"type\\\\\\\\\\\\\\\": \\\\\\\\\\\\\\\"Microsoft.DPrep.GetDatastoreFilesBlock\\\\\\\\\\\\\\\", \\\\\\\\\\\\\\\"arguments\\\\\\\\\\\\\\\": {\\\\\\\\\\\\\\\"datastores\\\\\\\\\\\\\\\": [{\\\\\\\\\\\\\\\"datastoreName\\\\\\\\\\\\\\\": \\\\\\\\\\\\\\\"workspaceblobstore\\\\\\\\\\\\\\\", \\\\\\\\\\\\\\\"path\\\\\\\\\\\\\\\": \\\\\\\\\\\\\\\"UI/02-19-2021_094529_UTC/WA_Fn-UseC_-HR-Employee-Attrition.csv\\\\\\\\\\\\\\\", \\\\\\\\\\\\\\\"resourceGroup\\\\\\\\\\\\\\\": \\\\\\\\\\\\\\\"aml-quickstarts-139183\\\\\\\\\\\\\\\", \\\\\\\\\\\\\\\"subscription\\\\\\\\\\\\\\\": \\\\\\\\\\\\\\\"9e65f93e-bdd8-437b-b1e8-0647cd6098f7\\\\\\\\\\\\\\\", \\\\\\\\\\\\\\\"workspaceName\\\\\\\\\\\\\\\": \\\\\\\\\\\\\\\"quick-starts-ws-139183\\\\\\\\\\\\\\\"}]}, \\\\\\\\\\\\\\\"localData\\\\\\\\\\\\\\\": {}, \\\\\\\\\\\\\\\"isEnabled\\\\\\\\\\\\\\\": true, \\\\\\\\\\\\\\\"name\\\\\\\\\\\\\\\": null, \\\\\\\\\\\\\\\"annotation\\\\\\\\\\\\\\\": null}, {\\\\\\\\\\\\\\\"id\\\\\\\\\\\\\\\": \\\\\\\\\\\\\\\"abd9f5ba-22c8-4ea0-81f0-0757cfe6e5a4\\\\\\\\\\\\\\\", \\\\\\\\\\\\\\\"type\\\\\\\\\\\\\\\": \\\\\\\\\\\\\\\"Microsoft.DPrep.ParseDelimitedBlock\\\\\\\\\\\\\\\", \\\\\\\\\\\\\\\"arguments\\\\\\\\\\\\\\\": {\\\\\\\\\\\\\\\"columnHeadersMode\\\\\\\\\\\\\\\": 1, \\\\\\\\\\\\\\\"fileEncoding\\\\\\\\\\\\\\\": 0, \\\\\\\\\\\\\\\"handleQuotedLineBreaks\\\\\\\\\\\\\\\": false, \\\\\\\\\\\\\\\"preview\\\\\\\\\\\\\\\": false, \\\\\\\\\\\\\\\"separator\\\\\\\\\\\\\\\": \\\\\\\\\\\\\\\",\\\\\\\\\\\\\\\", \\\\\\\\\\\\\\\"skipRows\\\\\\\\\\\\\\\": 0, \\\\\\\\\\\\\\\"skipRowsMode\\\\\\\\\\\\\\\": 0}, \\\\\\\\\\\\\\\"localData\\\\\\\\\\\\\\\": {}, \\\\\\\\\\\\\\\"isEnabled\\\\\\\\\\\\\\\": true, \\\\\\\\\\\\\\\"name\\\\\\\\\\\\\\\": null, \\\\\\\\\\\\\\\"annotation\\\\\\\\\\\\\\\": null}, {\\\\\\\\\\\\\\\"id\\\\\\\\\\\\\\\": \\\\\\\\\\\\\\\"c842bcf4-d5be-4824-a767-c32ab3cfb8e6\\\\\\\\\\\\\\\", \\\\\\\\\\\\\\\"type\\\\\\\\\\\\\\\": \\\\\\\\\\\\\\\"Microsoft.DPrep.DropColumnsBlock\\\\\\\\\\\\\\\", \\\\\\\\\\\\\\\"arguments\\\\\\\\\\\\\\\": {\\\\\\\\\\\\\\\"columns\\\\\\\\\\\\\\\": {\\\\\\\\\\\\\\\"type\\\\\\\\\\\\\\\": 0, \\\\\\\\\\\\\\\"details\\\\\\\\\\\\\\\": {\\\\\\\\\\\\\\\"selectedColumns\\\\\\\\\\\\\\\": [\\\\\\\\\\\\\\\"Path\\\\\\\\\\\\\\\"]}}}, \\\\\\\\\\\\\\\"localData\\\\\\\\\\\\\\\": {}, \\\\\\\\\\\\\\\"isEnabled\\\\\\\\\\\\\\\": true, \\\\\\\\\\\\\\\"name\\\\\\\\\\\\\\\": null, \\\\\\\\\\\\\\\"annotation\\\\\\\\\\\\\\\": null}, {\\\\\\\\\\\\\\\"id\\\\\\\\\\\\\\\": \\\\\\\\\\\\\\\"b032b48d-736a-41c5-8243-391b066ce6e6\\\\\\\\\\\\\\\", \\\\\\\\\\\\\\\"type\\\\\\\\\\\\\\\": \\\\\\\\\\\\\\\"Microsoft.DPrep.SetColumnTypesBlock\\\\\\\\\\\\\\\", \\\\\\\\\\\\\\\"arguments\\\\\\\\\\\\\\\": {\\\\\\\\\\\\\\\"columnConversion\\\\\\\\\\\\\\\": [{\\\\\\\\\\\\\\\"column\\\\\\\\\\\\\\\": {\\\\\\\\\\\\\\\"type\\\\\\\\\\\\\\\": 2, \\\\\\\\\\\\\\\"details\\\\\\\\\\\\\\\": {\\\\\\\\\\\\\\\"selectedColumn\\\\\\\\\\\\\\\": \\\\\\\\\\\\\\\"Path\\\\\\\\\\\\\\\"}}, \\\\\\\\\\\\\\\"typeProperty\\\\\\\\\\\\\\\": 0}, {\\\\\\\\\\\\\\\"column\\\\\\\\\\\\\\\": {\\\\\\\\\\\\\\\"type\\\\\\\\\\\\\\\": 2, \\\\\\\\\\\\\\\"details\\\\\\\\\\\\\\\": {\\\\\\\\\\\\\\\"selectedColumn\\\\\\\\\\\\\\\": \\\\\\\\\\\\\\\"Age\\\\\\\\\\\\\\\"}}, \\\\\\\\\\\\\\\"typeProperty\\\\\\\\\\\\\\\": 2}, {\\\\\\\\\\\\\\\"column\\\\\\\\\\\\\\\": {\\\\\\\\\\\\\\\"type\\\\\\\\\\\\\\\": 2, \\\\\\\\\\\\\\\"details\\\\\\\\\\\\\\\": {\\\\\\\\\\\\\\\"selectedColumn\\\\\\\\\\\\\\\": \\\\\\\\\\\\\\\"Attrition\\\\\\\\\\\\\\\"}}, \\\\\\\\\\\\\\\"typeProperty\\\\\\\\\\\\\\\": 1}, {\\\\\\\\\\\\\\\"column\\\\\\\\\\\\\\\": {\\\\\\\\\\\\\\\"type\\\\\\\\\\\\\\\": 2, \\\\\\\\\\\\\\\"details\\\\\\\\\\\\\\\": {\\\\\\\\\\\\\\\"selectedColumn\\\\\\\\\\\\\\\": \\\\\\\\\\\\\\\"BusinessTravel\\\\\\\\\\\\\\\"}}, \\\\\\\\\\\\\\\"typeProperty\\\\\\\\\\\\\\\": 0}, {\\\\\\\\\\\\\\\"column\\\\\\\\\\\\\\\": {\\\\\\\\\\\\\\\"type\\\\\\\\\\\\\\\": 2, \\\\\\\\\\\\\\\"details\\\\\\\\\\\\\\\": {\\\\\\\\\\\\\\\"selectedColumn\\\\\\\\\\\\\\\": \\\\\\\\\\\\\\\"DailyRate\\\\\\\\\\\\\\\"}}, \\\\\\\\\\\\\\\"typeProperty\\\\\\\\\\\\\\\": 2}, {\\\\\\\\\\\\\\\"column\\\\\\\\\\\\\\\": {\\\\\\\\\\\\\\\"type\\\\\\\\\\\\\\\": 2, \\\\\\\\\\\\\\\"details\\\\\\\\\\\\\\\": {\\\\\\\\\\\\\\\"selectedColumn\\\\\\\\\\\\\\\": \\\\\\\\\\\\\\\"Department\\\\\\\\\\\\\\\"}}, \\\\\\\\\\\\\\\"typeProperty\\\\\\\\\\\\\\\": 0}, {\\\\\\\\\\\\\\\"column\\\\\\\\\\\\\\\": {\\\\\\\\\\\\\\\"type\\\\\\\\\\\\\\\": 2, \\\\\\\\\\\\\\\"details\\\\\\\\\\\\\\\": {\\\\\\\\\\\\\\\"selectedColumn\\\\\\\\\\\\\\\": \\\\\\\\\\\\\\\"DistanceFromHome\\\\\\\\\\\\\\\"}}, \\\\\\\\\\\\\\\"typeProperty\\\\\\\\\\\\\\\": 2}, {\\\\\\\\\\\\\\\"column\\\\\\\\\\\\\\\": {\\\\\\\\\\\\\\\"type\\\\\\\\\\\\\\\": 2, \\\\\\\\\\\\\\\"details\\\\\\\\\\\\\\\": {\\\\\\\\\\\\\\\"selectedColumn\\\\\\\\\\\\\\\": \\\\\\\\\\\\\\\"Education\\\\\\\\\\\\\\\"}}, \\\\\\\\\\\\\\\"typeProperty\\\\\\\\\\\\\\\": 2}, {\\\\\\\\\\\\\\\"column\\\\\\\\\\\\\\\": {\\\\\\\\\\\\\\\"type\\\\\\\\\\\\\\\": 2, \\\\\\\\\\\\\\\"details\\\\\\\\\\\\\\\": {\\\\\\\\\\\\\\\"selectedColumn\\\\\\\\\\\\\\\": \\\\\\\\\\\\\\\"EducationField\\\\\\\\\\\\\\\"}}, \\\\\\\\\\\\\\\"typeProperty\\\\\\\\\\\\\\\": 0}, {\\\\\\\\\\\\\\\"column\\\\\\\\\\\\\\\": {\\\\\\\\\\\\\\\"type\\\\\\\\\\\\\\\": 2, \\\\\\\\\\\\\\\"details\\\\\\\\\\\\\\\": {\\\\\\\\\\\\\\\"selectedColumn\\\\\\\\\\\\\\\": \\\\\\\\\\\\\\\"EmployeeCount\\\\\\\\\\\\\\\"}}, \\\\\\\\\\\\\\\"typeProperty\\\\\\\\\\\\\\\": 2}, {\\\\\\\\\\\\\\\"column\\\\\\\\\\\\\\\": {\\\\\\\\\\\\\\\"type\\\\\\\\\\\\\\\": 2, \\\\\\\\\\\\\\\"details\\\\\\\\\\\\\\\": {\\\\\\\\\\\\\\\"selectedColumn\\\\\\\\\\\\\\\": \\\\\\\\\\\\\\\"EmployeeNumber\\\\\\\\\\\\\\\"}}, \\\\\\\\\\\\\\\"typeProperty\\\\\\\\\\\\\\\": 2}, {\\\\\\\\\\\\\\\"column\\\\\\\\\\\\\\\": {\\\\\\\\\\\\\\\"type\\\\\\\\\\\\\\\": 2, \\\\\\\\\\\\\\\"details\\\\\\\\\\\\\\\": {\\\\\\\\\\\\\\\"selectedColumn\\\\\\\\\\\\\\\": \\\\\\\\\\\\\\\"EnvironmentSatisfaction\\\\\\\\\\\\\\\"}}, \\\\\\\\\\\\\\\"typeProperty\\\\\\\\\\\\\\\": 2}, {\\\\\\\\\\\\\\\"column\\\\\\\\\\\\\\\": {\\\\\\\\\\\\\\\"type\\\\\\\\\\\\\\\": 2, \\\\\\\\\\\\\\\"details\\\\\\\\\\\\\\\": {\\\\\\\\\\\\\\\"selectedColumn\\\\\\\\\\\\\\\": \\\\\\\\\\\\\\\"Gender\\\\\\\\\\\\\\\"}}, \\\\\\\\\\\\\\\"typeProperty\\\\\\\\\\\\\\\": 0}, {\\\\\\\\\\\\\\\"column\\\\\\\\\\\\\\\": {\\\\\\\\\\\\\\\"type\\\\\\\\\\\\\\\": 2, \\\\\\\\\\\\\\\"details\\\\\\\\\\\\\\\": {\\\\\\\\\\\\\\\"selectedColumn\\\\\\\\\\\\\\\": \\\\\\\\\\\\\\\"HourlyRate\\\\\\\\\\\\\\\"}}, \\\\\\\\\\\\\\\"typeProperty\\\\\\\\\\\\\\\": 2}, {\\\\\\\\\\\\\\\"column\\\\\\\\\\\\\\\": {\\\\\\\\\\\\\\\"type\\\\\\\\\\\\\\\": 2, \\\\\\\\\\\\\\\"details\\\\\\\\\\\\\\\": {\\\\\\\\\\\\\\\"selectedColumn\\\\\\\\\\\\\\\": \\\\\\\\\\\\\\\"JobInvolvement\\\\\\\\\\\\\\\"}}, \\\\\\\\\\\\\\\"typeProperty\\\\\\\\\\\\\\\": 2}, {\\\\\\\\\\\\\\\"column\\\\\\\\\\\\\\\": {\\\\\\\\\\\\\\\"type\\\\\\\\\\\\\\\": 2, \\\\\\\\\\\\\\\"details\\\\\\\\\\\\\\\": {\\\\\\\\\\\\\\\"selectedColumn\\\\\\\\\\\\\\\": \\\\\\\\\\\\\\\"JobLevel\\\\\\\\\\\\\\\"}}, \\\\\\\\\\\\\\\"typeProperty\\\\\\\\\\\\\\\": 2}, {\\\\\\\\\\\\\\\"column\\\\\\\\\\\\\\\": {\\\\\\\\\\\\\\\"type\\\\\\\\\\\\\\\": 2, \\\\\\\\\\\\\\\"details\\\\\\\\\\\\\\\": {\\\\\\\\\\\\\\\"selectedColumn\\\\\\\\\\\\\\\": \\\\\\\\\\\\\\\"JobRole\\\\\\\\\\\\\\\"}}, \\\\\\\\\\\\\\\"typeProperty\\\\\\\\\\\\\\\": 0}, {\\\\\\\\\\\\\\\"column\\\\\\\\\\\\\\\": {\\\\\\\\\\\\\\\"type\\\\\\\\\\\\\\\": 2, \\\\\\\\\\\\\\\"details\\\\\\\\\\\\\\\": {\\\\\\\\\\\\\\\"selectedColumn\\\\\\\\\\\\\\\": \\\\\\\\\\\\\\\"JobSatisfaction\\\\\\\\\\\\\\\"}}, \\\\\\\\\\\\\\\"typeProperty\\\\\\\\\\\\\\\": 2}, {\\\\\\\\\\\\\\\"column\\\\\\\\\\\\\\\": {\\\\\\\\\\\\\\\"type\\\\\\\\\\\\\\\": 2, \\\\\\\\\\\\\\\"details\\\\\\\\\\\\\\\": {\\\\\\\\\\\\\\\"selectedColumn\\\\\\\\\\\\\\\": \\\\\\\\\\\\\\\"MaritalStatus\\\\\\\\\\\\\\\"}}, \\\\\\\\\\\\\\\"typeProperty\\\\\\\\\\\\\\\": 0}, {\\\\\\\\\\\\\\\"column\\\\\\\\\\\\\\\": {\\\\\\\\\\\\\\\"type\\\\\\\\\\\\\\\": 2, \\\\\\\\\\\\\\\"details\\\\\\\\\\\\\\\": {\\\\\\\\\\\\\\\"selectedColumn\\\\\\\\\\\\\\\": \\\\\\\\\\\\\\\"MonthlyIncome\\\\\\\\\\\\\\\"}}, \\\\\\\\\\\\\\\"typeProperty\\\\\\\\\\\\\\\": 2}, {\\\\\\\\\\\\\\\"column\\\\\\\\\\\\\\\": {\\\\\\\\\\\\\\\"type\\\\\\\\\\\\\\\": 2, \\\\\\\\\\\\\\\"details\\\\\\\\\\\\\\\": {\\\\\\\\\\\\\\\"selectedColumn\\\\\\\\\\\\\\\": \\\\\\\\\\\\\\\"MonthlyRate\\\\\\\\\\\\\\\"}}, \\\\\\\\\\\\\\\"typeProperty\\\\\\\\\\\\\\\": 2}, {\\\\\\\\\\\\\\\"column\\\\\\\\\\\\\\\": {\\\\\\\\\\\\\\\"type\\\\\\\\\\\\\\\": 2, \\\\\\\\\\\\\\\"details\\\\\\\\\\\\\\\": {\\\\\\\\\\\\\\\"selectedColumn\\\\\\\\\\\\\\\": \\\\\\\\\\\\\\\"NumCompaniesWorked\\\\\\\\\\\\\\\"}}, \\\\\\\\\\\\\\\"typeProperty\\\\\\\\\\\\\\\": 2}, {\\\\\\\\\\\\\\\"column\\\\\\\\\\\\\\\": {\\\\\\\\\\\\\\\"type\\\\\\\\\\\\\\\": 2, \\\\\\\\\\\\\\\"details\\\\\\\\\\\\\\\": {\\\\\\\\\\\\\\\"selectedColumn\\\\\\\\\\\\\\\": \\\\\\\\\\\\\\\"Over18\\\\\\\\\\\\\\\"}}, \\\\\\\\\\\\\\\"typeProperty\\\\\\\\\\\\\\\": 1}, {\\\\\\\\\\\\\\\"column\\\\\\\\\\\\\\\": {\\\\\\\\\\\\\\\"type\\\\\\\\\\\\\\\": 2, \\\\\\\\\\\\\\\"details\\\\\\\\\\\\\\\": {\\\\\\\\\\\\\\\"selectedColumn\\\\\\\\\\\\\\\": \\\\\\\\\\\\\\\"OverTime\\\\\\\\\\\\\\\"}}, \\\\\\\\\\\\\\\"typeProperty\\\\\\\\\\\\\\\": 1}, {\\\\\\\\\\\\\\\"column\\\\\\\\\\\\\\\": {\\\\\\\\\\\\\\\"type\\\\\\\\\\\\\\\": 2, \\\\\\\\\\\\\\\"details\\\\\\\\\\\\\\\": {\\\\\\\\\\\\\\\"selectedColumn\\\\\\\\\\\\\\\": \\\\\\\\\\\\\\\"PercentSalaryHike\\\\\\\\\\\\\\\"}}, \\\\\\\\\\\\\\\"typeProperty\\\\\\\\\\\\\\\": 2}, {\\\\\\\\\\\\\\\"column\\\\\\\\\\\\\\\": {\\\\\\\\\\\\\\\"type\\\\\\\\\\\\\\\": 2, \\\\\\\\\\\\\\\"details\\\\\\\\\\\\\\\": {\\\\\\\\\\\\\\\"selectedColumn\\\\\\\\\\\\\\\": \\\\\\\\\\\\\\\"PerformanceRating\\\\\\\\\\\\\\\"}}, \\\\\\\\\\\\\\\"typeProperty\\\\\\\\\\\\\\\": 2}, {\\\\\\\\\\\\\\\"column\\\\\\\\\\\\\\\": {\\\\\\\\\\\\\\\"type\\\\\\\\\\\\\\\": 2, \\\\\\\\\\\\\\\"details\\\\\\\\\\\\\\\": {\\\\\\\\\\\\\\\"selectedColumn\\\\\\\\\\\\\\\": \\\\\\\\\\\\\\\"RelationshipSatisfaction\\\\\\\\\\\\\\\"}}, \\\\\\\\\\\\\\\"typeProperty\\\\\\\\\\\\\\\": 2}, {\\\\\\\\\\\\\\\"column\\\\\\\\\\\\\\\": {\\\\\\\\\\\\\\\"type\\\\\\\\\\\\\\\": 2, \\\\\\\\\\\\\\\"details\\\\\\\\\\\\\\\": {\\\\\\\\\\\\\\\"selectedColumn\\\\\\\\\\\\\\\": \\\\\\\\\\\\\\\"StandardHours\\\\\\\\\\\\\\\"}}, \\\\\\\\\\\\\\\"typeProperty\\\\\\\\\\\\\\\": 2}, {\\\\\\\\\\\\\\\"column\\\\\\\\\\\\\\\": {\\\\\\\\\\\\\\\"type\\\\\\\\\\\\\\\": 2, \\\\\\\\\\\\\\\"details\\\\\\\\\\\\\\\": {\\\\\\\\\\\\\\\"selectedColumn\\\\\\\\\\\\\\\": \\\\\\\\\\\\\\\"StockOptionLevel\\\\\\\\\\\\\\\"}}, \\\\\\\\\\\\\\\"typeProperty\\\\\\\\\\\\\\\": 2}, {\\\\\\\\\\\\\\\"column\\\\\\\\\\\\\\\": {\\\\\\\\\\\\\\\"type\\\\\\\\\\\\\\\": 2, \\\\\\\\\\\\\\\"details\\\\\\\\\\\\\\\": {\\\\\\\\\\\\\\\"selectedColumn\\\\\\\\\\\\\\\": \\\\\\\\\\\\\\\"TotalWorkingYears\\\\\\\\\\\\\\\"}}, \\\\\\\\\\\\\\\"typeProperty\\\\\\\\\\\\\\\": 2}, {\\\\\\\\\\\\\\\"column\\\\\\\\\\\\\\\": {\\\\\\\\\\\\\\\"type\\\\\\\\\\\\\\\": 2, \\\\\\\\\\\\\\\"details\\\\\\\\\\\\\\\": {\\\\\\\\\\\\\\\"selectedColumn\\\\\\\\\\\\\\\": \\\\\\\\\\\\\\\"TrainingTimesLastYear\\\\\\\\\\\\\\\"}}, \\\\\\\\\\\\\\\"typeProperty\\\\\\\\\\\\\\\": 2}, {\\\\\\\\\\\\\\\"column\\\\\\\\\\\\\\\": {\\\\\\\\\\\\\\\"type\\\\\\\\\\\\\\\": 2, \\\\\\\\\\\\\\\"details\\\\\\\\\\\\\\\": {\\\\\\\\\\\\\\\"selectedColumn\\\\\\\\\\\\\\\": \\\\\\\\\\\\\\\"WorkLifeBalance\\\\\\\\\\\\\\\"}}, \\\\\\\\\\\\\\\"typeProperty\\\\\\\\\\\\\\\": 2}, {\\\\\\\\\\\\\\\"column\\\\\\\\\\\\\\\": {\\\\\\\\\\\\\\\"type\\\\\\\\\\\\\\\": 2, \\\\\\\\\\\\\\\"details\\\\\\\\\\\\\\\": {\\\\\\\\\\\\\\\"selectedColumn\\\\\\\\\\\\\\\": \\\\\\\\\\\\\\\"YearsAtCompany\\\\\\\\\\\\\\\"}}, \\\\\\\\\\\\\\\"typeProperty\\\\\\\\\\\\\\\": 2}, {\\\\\\\\\\\\\\\"column\\\\\\\\\\\\\\\": {\\\\\\\\\\\\\\\"type\\\\\\\\\\\\\\\": 2, \\\\\\\\\\\\\\\"details\\\\\\\\\\\\\\\": {\\\\\\\\\\\\\\\"selectedColumn\\\\\\\\\\\\\\\": \\\\\\\\\\\\\\\"YearsInCurrentRole\\\\\\\\\\\\\\\"}}, \\\\\\\\\\\\\\\"typeProperty\\\\\\\\\\\\\\\": 2}, {\\\\\\\\\\\\\\\"column\\\\\\\\\\\\\\\": {\\\\\\\\\\\\\\\"type\\\\\\\\\\\\\\\": 2, \\\\\\\\\\\\\\\"details\\\\\\\\\\\\\\\": {\\\\\\\\\\\\\\\"selectedColumn\\\\\\\\\\\\\\\": \\\\\\\\\\\\\\\"YearsSinceLastPromotion\\\\\\\\\\\\\\\"}}, \\\\\\\\\\\\\\\"typeProperty\\\\\\\\\\\\\\\": 2}, {\\\\\\\\\\\\\\\"column\\\\\\\\\\\\\\\": {\\\\\\\\\\\\\\\"type\\\\\\\\\\\\\\\": 2, \\\\\\\\\\\\\\\"details\\\\\\\\\\\\\\\": {\\\\\\\\\\\\\\\"selectedColumn\\\\\\\\\\\\\\\": \\\\\\\\\\\\\\\"YearsWithCurrManager\\\\\\\\\\\\\\\"}}, \\\\\\\\\\\\\\\"typeProperty\\\\\\\\\\\\\\\": 2}]}, \\\\\\\\\\\\\\\"localData\\\\\\\\\\\\\\\": {}, \\\\\\\\\\\\\\\"isEnabled\\\\\\\\\\\\\\\": true, \\\\\\\\\\\\\\\"name\\\\\\\\\\\\\\\": null, \\\\\\\\\\\\\\\"annotation\\\\\\\\\\\\\\\": null}], \\\\\\\\\\\\\\\"inspectors\\\\\\\\\\\\\\\": [], \\\\\\\\\\\\\\\"meta\\\\\\\\\\\\\\\": {\\\\\\\\\\\\\\\"savedDatasetId\\\\\\\\\\\\\\\": \\\\\\\\\\\\\\\"a4e293d5-3155-4ddf-aef7-901e826b08d6\\\\\\\\\\\\\\\", \\\\\\\\\\\\\\\"datasetType\\\\\\\\\\\\\\\": \\\\\\\\\\\\\\\"tabular\\\\\\\\\\\\\\\", \\\\\\\\\\\\\\\"subscriptionId\\\\\\\\\\\\\\\": \\\\\\\\\\\\\\\"9e65f93e-bdd8-437b-b1e8-0647cd6098f7\\\\\\\\\\\\\\\", \\\\\\\\\\\\\\\"workspaceId\\\\\\\\\\\\\\\": \\\\\\\\\\\\\\\"8f9cbc3f-0a3d-45a3-8c98-fbb3c64b9ac4\\\\\\\\\\\\\\\", \\\\\\\\\\\\\\\"workspaceLocation\\\\\\\\\\\\\\\": \\\\\\\\\\\\\\\"southcentralus\\\\\\\\\\\\\\\"}}\\\\\\\", \\\\\\\"activities\\\\\\\": 0}\", \"EnableSubsampling\": null, \"runTemplate\": \"AutoML\", \"azureml.runsource\": \"automl\", \"display_task_type\": \"classification\", \"dependencies_versions\": \"{\\\"azureml-widgets\\\": \\\"1.20.0\\\", \\\"azureml-train\\\": \\\"1.20.0\\\", \\\"azureml-train-restclients-hyperdrive\\\": \\\"1.20.0\\\", \\\"azureml-train-core\\\": \\\"1.20.0\\\", \\\"azureml-train-automl\\\": \\\"1.20.0\\\", \\\"azureml-train-automl-runtime\\\": \\\"1.20.0\\\", \\\"azureml-train-automl-client\\\": \\\"1.20.0\\\", \\\"azureml-tensorboard\\\": \\\"1.20.0\\\", \\\"azureml-telemetry\\\": \\\"1.20.0\\\", \\\"azureml-sdk\\\": \\\"1.20.0\\\", \\\"azureml-samples\\\": \\\"0+unknown\\\", \\\"azureml-pipeline\\\": \\\"1.20.0\\\", \\\"azureml-pipeline-steps\\\": \\\"1.20.0\\\", \\\"azureml-pipeline-core\\\": \\\"1.20.0\\\", \\\"azureml-opendatasets\\\": \\\"1.20.0\\\", \\\"azureml-model-management-sdk\\\": \\\"1.0.1b6.post1\\\", \\\"azureml-mlflow\\\": \\\"1.20.0.post1\\\", \\\"azureml-interpret\\\": \\\"1.20.0\\\", \\\"azureml-explain-model\\\": \\\"1.20.0\\\", \\\"azureml-defaults\\\": \\\"1.20.0\\\", \\\"azureml-dataset-runtime\\\": \\\"1.20.0\\\", \\\"azureml-dataprep\\\": \\\"2.7.3\\\", \\\"azureml-dataprep-rslex\\\": \\\"1.5.0\\\", \\\"azureml-dataprep-native\\\": \\\"27.0.0\\\", \\\"azureml-datadrift\\\": \\\"1.20.0\\\", \\\"azureml-core\\\": \\\"1.20.0\\\", \\\"azureml-contrib-services\\\": \\\"1.20.0\\\", \\\"azureml-contrib-server\\\": \\\"1.20.0\\\", \\\"azureml-contrib-reinforcementlearning\\\": \\\"1.20.0\\\", \\\"azureml-contrib-pipeline-steps\\\": \\\"1.20.0\\\", \\\"azureml-contrib-notebook\\\": \\\"1.20.0\\\", \\\"azureml-contrib-interpret\\\": \\\"1.20.0\\\", \\\"azureml-contrib-gbdt\\\": \\\"1.20.0\\\", \\\"azureml-contrib-fairness\\\": \\\"1.20.0\\\", \\\"azureml-contrib-dataset\\\": \\\"1.20.0\\\", \\\"azureml-cli-common\\\": \\\"1.20.0\\\", \\\"azureml-automl-runtime\\\": \\\"1.20.0\\\", \\\"azureml-automl-core\\\": \\\"1.20.0\\\", \\\"azureml-accel-models\\\": \\\"1.20.0\\\"}\", \"_aml_system_scenario_identification\": \"Remote.Parent\", \"ClientType\": \"SDK\", \"environment_cpu_name\": \"AzureML-AutoML\", \"environment_cpu_label\": \"prod\", \"environment_gpu_name\": \"AzureML-AutoML-GPU\", \"environment_gpu_label\": \"prod\", \"root_attribution\": \"automl\", \"attribution\": \"AutoML\", \"Orchestrator\": \"AutoML\", \"CancelUri\": \"https://southcentralus.experiments.azureml.net/jasmine/v1.0/subscriptions/9e65f93e-bdd8-437b-b1e8-0647cd6098f7/resourceGroups/aml-quickstarts-139183/providers/Microsoft.MachineLearningServices/workspaces/quick-starts-ws-139183/experimentids/937c0c10-7f39-4847-aa25-9c728d95b623/cancel/AutoML_f0166041-60b0-404f-bdd5-880e74fdb44e\", \"ClientSdkVersion\": \"1.21.0\", \"snapshotId\": \"00000000-0000-0000-0000-000000000000\", \"SetupRunId\": \"AutoML_f0166041-60b0-404f-bdd5-880e74fdb44e_setup\", \"SetupRunContainerId\": \"dcid.AutoML_f0166041-60b0-404f-bdd5-880e74fdb44e_setup\", \"FeaturizationRunJsonPath\": \"featurizer_container.json\", \"FeaturizationRunId\": \"AutoML_f0166041-60b0-404f-bdd5-880e74fdb44e_featurize\", \"ProblemInfoJsonString\": \"{\\\"dataset_num_categorical\\\": 0, \\\"is_sparse\\\": true, \\\"subsampling\\\": false, \\\"dataset_classes\\\": 2, \\\"dataset_features\\\": 300, \\\"dataset_samples\\\": 1470, \\\"single_frequency_class_detected\\\": false}\", \"ModelExplainRunId\": \"AutoML_f0166041-60b0-404f-bdd5-880e74fdb44e_ModelExplain\"}, \"tags\": {\"model_explain_run\": \"best_run\", \"_aml_system_azureml.automlComponent\": \"AutoML\", \"pipeline_id\": \"\", \"score\": \"\", \"predicted_cost\": \"\", \"fit_time\": \"\", \"training_percent\": \"\", \"iteration\": \"\", \"run_preprocessor\": \"\", \"run_algorithm\": \"\", \"dynamic_whitelisting_iterations\": \"<25>;<29>;<35>;<40>;<45>;<50>;<55>;<60>;\", \"automl_best_child_run_id\": \"AutoML_f0166041-60b0-404f-bdd5-880e74fdb44e_62\", \"model_explain_best_run_child_id\": \"AutoML_f0166041-60b0-404f-bdd5-880e74fdb44e_62\"}, \"end_time_utc\": \"2021-02-19T22:29:50.569986Z\", \"status\": \"Completed\", \"log_files\": {}, \"log_groups\": [], \"run_duration\": \"0:34:40\"}, \"child_runs\": [{\"run_id\": \"AutoML_f0166041-60b0-404f-bdd5-880e74fdb44e_0\", \"run_number\": 5, \"metric\": null, \"status\": \"Completed\", \"run_type\": \"azureml.scriptrun\", \"training_percent\": \"100\", \"start_time\": \"2021-02-19T22:09:02.801021Z\", \"end_time\": \"2021-02-19T22:12:40.595711Z\", \"created_time\": \"2021-02-19T22:05:59.847866Z\", \"created_time_dt\": \"2021-02-19T22:05:59.847866Z\", \"duration\": \"0:06:40\", \"iteration\": \"0\", \"goal\": \"AUC_weighted_max\", \"run_name\": \"MaxAbsScaler, LightGBM\", \"run_properties\": \"copy=True\", \"primary_metric\": 0.79891559, \"best_metric\": 0.79891559}, {\"run_id\": \"AutoML_f0166041-60b0-404f-bdd5-880e74fdb44e_2\", \"run_number\": 6, \"metric\": null, \"status\": \"Completed\", \"run_type\": \"azureml.scriptrun\", \"training_percent\": \"100\", \"start_time\": \"2021-02-19T22:06:08.62867Z\", \"end_time\": \"2021-02-19T22:07:14.156327Z\", \"created_time\": \"2021-02-19T22:05:59.916949Z\", \"created_time_dt\": \"2021-02-19T22:05:59.916949Z\", \"duration\": \"0:01:14\", \"iteration\": \"2\", \"goal\": \"AUC_weighted_max\", \"run_name\": \"MaxAbsScaler, RandomForest\", \"run_properties\": \"copy=True\", \"primary_metric\": 0.77253529, \"best_metric\": 0.79891559}, {\"run_id\": \"AutoML_f0166041-60b0-404f-bdd5-880e74fdb44e_1\", \"run_number\": 7, \"metric\": null, \"status\": \"Completed\", \"run_type\": \"azureml.scriptrun\", \"training_percent\": \"100\", \"start_time\": \"2021-02-19T22:07:18.405535Z\", \"end_time\": \"2021-02-19T22:08:21.552373Z\", \"created_time\": \"2021-02-19T22:05:59.928968Z\", \"created_time_dt\": \"2021-02-19T22:05:59.928968Z\", \"duration\": \"0:02:21\", \"iteration\": \"1\", \"goal\": \"AUC_weighted_max\", \"run_name\": \"MaxAbsScaler, XGBoostClassifier\", \"run_properties\": \"copy=True\", \"primary_metric\": 0.79601962, \"best_metric\": 0.79891559}, {\"run_id\": \"AutoML_f0166041-60b0-404f-bdd5-880e74fdb44e_4\", \"run_number\": 8, \"metric\": null, \"status\": \"Completed\", \"run_type\": \"azureml.scriptrun\", \"training_percent\": \"100\", \"start_time\": \"2021-02-19T22:09:00.78099Z\", \"end_time\": \"2021-02-19T22:12:41.406052Z\", \"created_time\": \"2021-02-19T22:06:00.171955Z\", \"created_time_dt\": \"2021-02-19T22:06:00.171955Z\", \"duration\": \"0:06:41\", \"iteration\": \"4\", \"goal\": \"AUC_weighted_max\", \"run_name\": \"MaxAbsScaler, RandomForest\", \"run_properties\": \"copy=True\", \"primary_metric\": 0.77489875, \"best_metric\": 0.79891559}, {\"run_id\": \"AutoML_f0166041-60b0-404f-bdd5-880e74fdb44e_3\", \"run_number\": 9, \"metric\": null, \"status\": \"Completed\", \"run_type\": \"azureml.scriptrun\", \"training_percent\": \"100\", \"start_time\": \"2021-02-19T22:08:28.949619Z\", \"end_time\": \"2021-02-19T22:09:41.850674Z\", \"created_time\": \"2021-02-19T22:05:59.929502Z\", \"created_time_dt\": \"2021-02-19T22:05:59.929502Z\", \"duration\": \"0:03:41\", \"iteration\": \"3\", \"goal\": \"AUC_weighted_max\", \"run_name\": \"MaxAbsScaler, RandomForest\", \"run_properties\": \"copy=True\", \"primary_metric\": 0.7760049, \"best_metric\": 0.79891559}, {\"run_id\": \"AutoML_f0166041-60b0-404f-bdd5-880e74fdb44e_5\", \"run_number\": 10, \"metric\": null, \"status\": \"Completed\", \"run_type\": \"azureml.scriptrun\", \"training_percent\": \"100\", \"start_time\": \"2021-02-19T22:09:01.534289Z\", \"end_time\": \"2021-02-19T22:12:43.095167Z\", \"created_time\": \"2021-02-19T22:07:17.233557Z\", \"created_time_dt\": \"2021-02-19T22:07:17.233557Z\", \"duration\": \"0:05:25\", \"iteration\": \"5\", \"goal\": \"AUC_weighted_max\", \"run_name\": \"MaxAbsScaler, ExtremeRandomTrees\", \"run_properties\": \"copy=True\", \"primary_metric\": 0.77174112, \"best_metric\": 0.79891559}, {\"run_id\": \"AutoML_f0166041-60b0-404f-bdd5-880e74fdb44e_6\", \"run_number\": 11, \"metric\": null, \"status\": \"Completed\", \"run_type\": \"azureml.scriptrun\", \"training_percent\": \"100\", \"start_time\": \"2021-02-19T22:09:41.140122Z\", \"end_time\": \"2021-02-19T22:10:48.924417Z\", \"created_time\": \"2021-02-19T22:08:24.507362Z\", \"created_time_dt\": \"2021-02-19T22:08:24.507362Z\", \"duration\": \"0:02:24\", \"iteration\": \"6\", \"goal\": \"AUC_weighted_max\", \"run_name\": \"MaxAbsScaler, ExtremeRandomTrees\", \"run_properties\": \"copy=True\", \"primary_metric\": 0.79635886, \"best_metric\": 0.79891559}, {\"run_id\": \"AutoML_f0166041-60b0-404f-bdd5-880e74fdb44e_7\", \"run_number\": 12, \"metric\": null, \"status\": \"Completed\", \"run_type\": \"azureml.scriptrun\", \"training_percent\": \"100\", \"start_time\": \"2021-02-19T22:10:52.531533Z\", \"end_time\": \"2021-02-19T22:11:58.241341Z\", \"created_time\": \"2021-02-19T22:09:46.241567Z\", \"created_time_dt\": \"2021-02-19T22:09:46.241567Z\", \"duration\": \"0:02:11\", \"iteration\": \"7\", \"goal\": \"AUC_weighted_max\", \"run_name\": \"MaxAbsScaler, ExtremeRandomTrees\", \"run_properties\": \"copy=True\", \"primary_metric\": 0.78499332, \"best_metric\": 0.79891559}, {\"run_id\": \"AutoML_f0166041-60b0-404f-bdd5-880e74fdb44e_8\", \"run_number\": 13, \"metric\": null, \"status\": \"Completed\", \"run_type\": \"azureml.scriptrun\", \"training_percent\": \"100\", \"start_time\": \"2021-02-19T22:11:17.367474Z\", \"end_time\": \"2021-02-19T22:15:00.330606Z\", \"created_time\": \"2021-02-19T22:10:52.752916Z\", \"created_time_dt\": \"2021-02-19T22:10:52.752916Z\", \"duration\": \"0:04:07\", \"iteration\": \"8\", \"goal\": \"AUC_weighted_max\", \"run_name\": \"MaxAbsScaler, RandomForest\", \"run_properties\": \"copy=True\", \"primary_metric\": 0.77808655, \"best_metric\": 0.79891559}, {\"run_id\": \"AutoML_f0166041-60b0-404f-bdd5-880e74fdb44e_9\", \"run_number\": 14, \"metric\": null, \"status\": \"Completed\", \"run_type\": \"azureml.scriptrun\", \"training_percent\": \"100\", \"start_time\": \"2021-02-19T22:12:09.66133Z\", \"end_time\": \"2021-02-19T22:13:15.234958Z\", \"created_time\": \"2021-02-19T22:12:02.100012Z\", \"created_time_dt\": \"2021-02-19T22:12:02.100012Z\", \"duration\": \"0:01:13\", \"iteration\": \"9\", \"goal\": \"AUC_weighted_max\", \"run_name\": \"MaxAbsScaler, ExtremeRandomTrees\", \"run_properties\": \"copy=True\", \"primary_metric\": 0.79436714, \"best_metric\": 0.79891559}, {\"run_id\": \"AutoML_f0166041-60b0-404f-bdd5-880e74fdb44e_10\", \"run_number\": 15, \"metric\": null, \"status\": \"Completed\", \"run_type\": \"azureml.scriptrun\", \"training_percent\": \"100\", \"start_time\": \"2021-02-19T22:12:52.514193Z\", \"end_time\": \"2021-02-19T22:14:00.719452Z\", \"created_time\": \"2021-02-19T22:12:43.948187Z\", \"created_time_dt\": \"2021-02-19T22:12:43.948187Z\", \"duration\": \"0:01:16\", \"iteration\": \"10\", \"goal\": \"AUC_weighted_max\", \"run_name\": \"MaxAbsScaler, RandomForest\", \"run_properties\": \"copy=True\", \"primary_metric\": 0.75323422, \"best_metric\": 0.79891559}, {\"run_id\": \"AutoML_f0166041-60b0-404f-bdd5-880e74fdb44e_11\", \"run_number\": 16, \"metric\": null, \"status\": \"Completed\", \"run_type\": \"azureml.scriptrun\", \"training_percent\": \"100\", \"start_time\": \"2021-02-19T22:13:01.129075Z\", \"end_time\": \"2021-02-19T22:14:16.220098Z\", \"created_time\": \"2021-02-19T22:12:50.111822Z\", \"created_time_dt\": \"2021-02-19T22:12:50.111822Z\", \"duration\": \"0:01:26\", \"iteration\": \"11\", \"goal\": \"AUC_weighted_max\", \"run_name\": \"MaxAbsScaler, RandomForest\", \"run_properties\": \"copy=True\", \"primary_metric\": 0.77658097, \"best_metric\": 0.79891559}, {\"run_id\": \"AutoML_f0166041-60b0-404f-bdd5-880e74fdb44e_12\", \"run_number\": 17, \"metric\": null, \"status\": \"Completed\", \"run_type\": \"azureml.scriptrun\", \"training_percent\": \"100\", \"start_time\": \"2021-02-19T22:12:59.660608Z\", \"end_time\": \"2021-02-19T22:14:14.456064Z\", \"created_time\": \"2021-02-19T22:12:50.238791Z\", \"created_time_dt\": \"2021-02-19T22:12:50.238791Z\", \"duration\": \"0:01:24\", \"iteration\": \"12\", \"goal\": \"AUC_weighted_max\", \"run_name\": \"MaxAbsScaler, RandomForest\", \"run_properties\": \"copy=True\", \"primary_metric\": 0.78541422, \"best_metric\": 0.79891559}, {\"run_id\": \"AutoML_f0166041-60b0-404f-bdd5-880e74fdb44e_13\", \"run_number\": 18, \"metric\": null, \"status\": \"Completed\", \"run_type\": \"azureml.scriptrun\", \"training_percent\": \"100\", \"start_time\": \"2021-02-19T22:13:28.239519Z\", \"end_time\": \"2021-02-19T22:14:34.134558Z\", \"created_time\": \"2021-02-19T22:13:18.682776Z\", \"created_time_dt\": \"2021-02-19T22:13:18.682776Z\", \"duration\": \"0:01:15\", \"iteration\": \"13\", \"goal\": \"AUC_weighted_max\", \"run_name\": \"StandardScalerWrapper, XGBoostClassifier\", \"run_properties\": \"<azureml.automl.runtime.shared.model_wrappers.StandardScalerWrapper object at 0x7f10eae352e8\", \"primary_metric\": 0.77701124, \"best_metric\": 0.79891559}, {\"run_id\": \"AutoML_f0166041-60b0-404f-bdd5-880e74fdb44e_14\", \"run_number\": 19, \"metric\": null, \"status\": \"Completed\", \"run_type\": \"azureml.scriptrun\", \"training_percent\": \"100\", \"start_time\": \"2021-02-19T22:14:16.351453Z\", \"end_time\": \"2021-02-19T22:15:17.670518Z\", \"created_time\": \"2021-02-19T22:14:04.088471Z\", \"created_time_dt\": \"2021-02-19T22:14:04.088471Z\", \"duration\": \"0:01:13\", \"iteration\": \"14\", \"goal\": \"AUC_weighted_max\", \"run_name\": \"MaxAbsScaler, RandomForest\", \"run_properties\": \"copy=True\", \"primary_metric\": 0.74153789, \"best_metric\": 0.79891559}, {\"run_id\": \"AutoML_f0166041-60b0-404f-bdd5-880e74fdb44e_15\", \"run_number\": 20, \"metric\": null, \"status\": \"Completed\", \"run_type\": \"azureml.scriptrun\", \"training_percent\": \"100\", \"start_time\": \"2021-02-19T22:14:27.891529Z\", \"end_time\": \"2021-02-19T22:15:32.904015Z\", \"created_time\": \"2021-02-19T22:14:17.928088Z\", \"created_time_dt\": \"2021-02-19T22:14:17.928088Z\", \"duration\": \"0:01:14\", \"iteration\": \"15\", \"goal\": \"AUC_weighted_max\", \"run_name\": \"StandardScalerWrapper, ExtremeRandomTrees\", \"run_properties\": \"<azureml.automl.runtime.shared.model_wrappers.StandardScalerWrapper object at 0x7f8cae7c1fd0\", \"primary_metric\": 0.74296165, \"best_metric\": 0.79891559}, {\"run_id\": \"AutoML_f0166041-60b0-404f-bdd5-880e74fdb44e_16\", \"run_number\": 21, \"metric\": null, \"status\": \"Completed\", \"run_type\": \"azureml.scriptrun\", \"training_percent\": \"100\", \"start_time\": \"2021-02-19T22:14:35.520178Z\", \"end_time\": \"2021-02-19T22:15:36.289714Z\", \"created_time\": \"2021-02-19T22:14:25.175492Z\", \"created_time_dt\": \"2021-02-19T22:14:25.175492Z\", \"duration\": \"0:01:11\", \"iteration\": \"16\", \"goal\": \"AUC_weighted_max\", \"run_name\": \"MaxAbsScaler, ExtremeRandomTrees\", \"run_properties\": \"copy=True\", \"primary_metric\": 0.76634771, \"best_metric\": 0.79891559}, {\"run_id\": \"AutoML_f0166041-60b0-404f-bdd5-880e74fdb44e_17\", \"run_number\": 22, \"metric\": null, \"status\": \"Completed\", \"run_type\": \"azureml.scriptrun\", \"training_percent\": \"100\", \"start_time\": \"2021-02-19T22:14:45.991549Z\", \"end_time\": \"2021-02-19T22:15:51.278325Z\", \"created_time\": \"2021-02-19T22:14:37.800143Z\", \"created_time_dt\": \"2021-02-19T22:14:37.800143Z\", \"duration\": \"0:01:13\", \"iteration\": \"17\", \"goal\": \"AUC_weighted_max\", \"run_name\": \"MaxAbsScaler, ExtremeRandomTrees\", \"run_properties\": \"copy=True\", \"primary_metric\": 0.80358111, \"best_metric\": 0.80358111}, {\"run_id\": \"AutoML_f0166041-60b0-404f-bdd5-880e74fdb44e_18\", \"run_number\": 23, \"metric\": null, \"status\": \"Completed\", \"run_type\": \"azureml.scriptrun\", \"training_percent\": \"100\", \"start_time\": \"2021-02-19T22:15:15.294448Z\", \"end_time\": \"2021-02-19T22:16:22.205492Z\", \"created_time\": \"2021-02-19T22:15:04.802919Z\", \"created_time_dt\": \"2021-02-19T22:15:04.802919Z\", \"duration\": \"0:01:17\", \"iteration\": \"18\", \"goal\": \"AUC_weighted_max\", \"run_name\": \"MaxAbsScaler, RandomForest\", \"run_properties\": \"copy=True\", \"primary_metric\": 0.77142564, \"best_metric\": 0.80358111}, {\"run_id\": \"AutoML_f0166041-60b0-404f-bdd5-880e74fdb44e_19\", \"run_number\": 24, \"metric\": null, \"status\": \"Completed\", \"run_type\": \"azureml.scriptrun\", \"training_percent\": \"100\", \"start_time\": \"2021-02-19T22:15:32.073047Z\", \"end_time\": \"2021-02-19T22:16:44.523962Z\", \"created_time\": \"2021-02-19T22:15:21.152796Z\", \"created_time_dt\": \"2021-02-19T22:15:21.152796Z\", \"duration\": \"0:01:23\", \"iteration\": \"19\", \"goal\": \"AUC_weighted_max\", \"run_name\": \"StandardScalerWrapper, LogisticRegression\", \"run_properties\": \"<azureml.automl.runtime.shared.model_wrappers.StandardScalerWrapper object at 0x7f5d8440f3c8\", \"primary_metric\": 0.79469818, \"best_metric\": 0.80358111}, {\"run_id\": \"AutoML_f0166041-60b0-404f-bdd5-880e74fdb44e_20\", \"run_number\": 25, \"metric\": null, \"status\": \"Completed\", \"run_type\": \"azureml.scriptrun\", \"training_percent\": \"100\", \"start_time\": \"2021-02-19T22:15:45.9501Z\", \"end_time\": \"2021-02-19T22:16:52.530996Z\", \"created_time\": \"2021-02-19T22:15:36.18397Z\", \"created_time_dt\": \"2021-02-19T22:15:36.18397Z\", \"duration\": \"0:01:16\", \"iteration\": \"20\", \"goal\": \"AUC_weighted_max\", \"run_name\": \"StandardScalerWrapper, XGBoostClassifier\", \"run_properties\": \"<azureml.automl.runtime.shared.model_wrappers.StandardScalerWrapper object at 0x7f734f40c5f8\", \"primary_metric\": 0.78407863, \"best_metric\": 0.80358111}, {\"run_id\": \"AutoML_f0166041-60b0-404f-bdd5-880e74fdb44e_21\", \"run_number\": 26, \"metric\": null, \"status\": \"Completed\", \"run_type\": \"azureml.scriptrun\", \"training_percent\": \"100\", \"start_time\": \"2021-02-19T22:15:51.536162Z\", \"end_time\": \"2021-02-19T22:17:04.605333Z\", \"created_time\": \"2021-02-19T22:15:40.919953Z\", \"created_time_dt\": \"2021-02-19T22:15:40.919953Z\", \"duration\": \"0:01:23\", \"iteration\": \"21\", \"goal\": \"AUC_weighted_max\", \"run_name\": \"MaxAbsScaler, LightGBM\", \"run_properties\": \"copy=True\", \"primary_metric\": 0.80049536, \"best_metric\": 0.80358111}, {\"run_id\": \"AutoML_f0166041-60b0-404f-bdd5-880e74fdb44e_22\", \"run_number\": 27, \"metric\": null, \"status\": \"Completed\", \"run_type\": \"azureml.scriptrun\", \"training_percent\": \"100\", \"start_time\": \"2021-02-19T22:16:04.491381Z\", \"end_time\": \"2021-02-19T22:17:07.297599Z\", \"created_time\": \"2021-02-19T22:15:53.915209Z\", \"created_time_dt\": \"2021-02-19T22:15:53.915209Z\", \"duration\": \"0:01:13\", \"iteration\": \"22\", \"goal\": \"AUC_weighted_max\", \"run_name\": \"MaxAbsScaler, LightGBM\", \"run_properties\": \"copy=True\", \"primary_metric\": 0.80324536, \"best_metric\": 0.80358111}, {\"run_id\": \"AutoML_f0166041-60b0-404f-bdd5-880e74fdb44e_23\", \"run_number\": 28, \"metric\": null, \"status\": \"Completed\", \"run_type\": \"azureml.scriptrun\", \"training_percent\": \"100\", \"start_time\": \"2021-02-19T22:16:34.046134Z\", \"end_time\": \"2021-02-19T22:17:42.884067Z\", \"created_time\": \"2021-02-19T22:16:24.915616Z\", \"created_time_dt\": \"2021-02-19T22:16:24.915616Z\", \"duration\": \"0:01:17\", \"iteration\": \"23\", \"goal\": \"AUC_weighted_max\", \"run_name\": \"MaxAbsScaler, LightGBM\", \"run_properties\": \"copy=True\", \"primary_metric\": 0.80673988, \"best_metric\": 0.80673988}, {\"run_id\": \"AutoML_f0166041-60b0-404f-bdd5-880e74fdb44e_24\", \"run_number\": 29, \"metric\": null, \"status\": \"Completed\", \"run_type\": \"azureml.scriptrun\", \"training_percent\": \"100\", \"start_time\": \"2021-02-19T22:16:55.902381Z\", \"end_time\": \"2021-02-19T22:18:13.730623Z\", \"created_time\": \"2021-02-19T22:16:47.154608Z\", \"created_time_dt\": \"2021-02-19T22:16:47.154608Z\", \"duration\": \"0:01:26\", \"iteration\": \"24\", \"goal\": \"AUC_weighted_max\", \"run_name\": \"MaxAbsScaler, LightGBM\", \"run_properties\": \"copy=True\", \"primary_metric\": 0.81848538, \"best_metric\": 0.81848538}, {\"run_id\": \"AutoML_f0166041-60b0-404f-bdd5-880e74fdb44e_25\", \"run_number\": 30, \"metric\": null, \"status\": \"Completed\", \"run_type\": \"azureml.scriptrun\", \"training_percent\": \"100\", \"start_time\": \"2021-02-19T22:17:04.46306Z\", \"end_time\": \"2021-02-19T22:18:13.828562Z\", \"created_time\": \"2021-02-19T22:16:55.811369Z\", \"created_time_dt\": \"2021-02-19T22:16:55.811369Z\", \"duration\": \"0:01:18\", \"iteration\": \"25\", \"goal\": \"AUC_weighted_max\", \"run_name\": \"MaxAbsScaler, ExtremeRandomTrees\", \"run_properties\": \"copy=True\", \"primary_metric\": 0.71960435, \"best_metric\": 0.81848538}, {\"run_id\": \"AutoML_f0166041-60b0-404f-bdd5-880e74fdb44e_26\", \"run_number\": 31, \"metric\": null, \"status\": \"Completed\", \"run_type\": \"azureml.scriptrun\", \"training_percent\": \"100\", \"start_time\": \"2021-02-19T22:17:16.852159Z\", \"end_time\": \"2021-02-19T22:18:23.275558Z\", \"created_time\": \"2021-02-19T22:17:07.319284Z\", \"created_time_dt\": \"2021-02-19T22:17:07.319284Z\", \"duration\": \"0:01:15\", \"iteration\": \"26\", \"goal\": \"AUC_weighted_max\", \"run_name\": \"StandardScalerWrapper, LightGBM\", \"run_properties\": \"<azureml.automl.runtime.shared.model_wrappers.StandardScalerWrapper object at 0x7efbbd2abef0\", \"primary_metric\": 0.7851394, \"best_metric\": 0.81848538}, {\"run_id\": \"AutoML_f0166041-60b0-404f-bdd5-880e74fdb44e_27\", \"run_number\": 32, \"metric\": null, \"status\": \"Completed\", \"run_type\": \"azureml.scriptrun\", \"training_percent\": \"100\", \"start_time\": \"2021-02-19T22:17:20.09642Z\", \"end_time\": \"2021-02-19T22:18:35.135393Z\", \"created_time\": \"2021-02-19T22:17:11.454218Z\", \"created_time_dt\": \"2021-02-19T22:17:11.454218Z\", \"duration\": \"0:01:23\", \"iteration\": \"27\", \"goal\": \"AUC_weighted_max\", \"run_name\": \"MaxAbsScaler, LogisticRegression\", \"run_properties\": \"copy=True\", \"primary_metric\": 0.79561022, \"best_metric\": 0.81848538}, {\"run_id\": \"AutoML_f0166041-60b0-404f-bdd5-880e74fdb44e_28\", \"run_number\": 33, \"metric\": null, \"status\": \"Completed\", \"run_type\": \"azureml.scriptrun\", \"training_percent\": \"100\", \"start_time\": \"2021-02-19T22:17:53.65628Z\", \"end_time\": \"2021-02-19T22:18:57.98288Z\", \"created_time\": \"2021-02-19T22:17:45.465252Z\", \"created_time_dt\": \"2021-02-19T22:17:45.465252Z\", \"duration\": \"0:01:12\", \"iteration\": \"28\", \"goal\": \"AUC_weighted_max\", \"run_name\": \"MaxAbsScaler, LogisticRegression\", \"run_properties\": \"copy=True\", \"primary_metric\": 0.80283993, \"best_metric\": 0.81848538}, {\"run_id\": \"AutoML_f0166041-60b0-404f-bdd5-880e74fdb44e_29\", \"run_number\": 34, \"metric\": null, \"status\": \"Completed\", \"run_type\": \"azureml.scriptrun\", \"training_percent\": \"100\", \"start_time\": \"2021-02-19T22:18:25.145255Z\", \"end_time\": \"2021-02-19T22:19:33.894444Z\", \"created_time\": \"2021-02-19T22:18:17.111025Z\", \"created_time_dt\": \"2021-02-19T22:18:17.111025Z\", \"duration\": \"0:01:16\", \"iteration\": \"29\", \"goal\": \"AUC_weighted_max\", \"run_name\": \"TruncatedSVDWrapper, LightGBM\", \"run_properties\": \"n_components=0.10894736842105263, random_state=None\", \"primary_metric\": 0.7610155, \"best_metric\": 0.81848538}, {\"run_id\": \"AutoML_f0166041-60b0-404f-bdd5-880e74fdb44e_30\", \"run_number\": 35, \"metric\": null, \"status\": \"Completed\", \"run_type\": \"azureml.scriptrun\", \"training_percent\": \"100\", \"start_time\": \"2021-02-19T22:18:25.602259Z\", \"end_time\": \"2021-02-19T22:19:42.821743Z\", \"created_time\": \"2021-02-19T22:18:17.275445Z\", \"created_time_dt\": \"2021-02-19T22:18:17.275445Z\", \"duration\": \"0:01:25\", \"iteration\": \"30\", \"goal\": \"AUC_weighted_max\", \"run_name\": \"StandardScalerWrapper, GradientBoosting\", \"run_properties\": \"<azureml.automl.runtime.shared.model_wrappers.StandardScalerWrapper object at 0x7fea074cb9e8\", \"primary_metric\": 0.8187475, \"best_metric\": 0.8187475}, {\"run_id\": \"AutoML_f0166041-60b0-404f-bdd5-880e74fdb44e_31\", \"run_number\": 36, \"metric\": null, \"status\": \"Completed\", \"run_type\": \"azureml.scriptrun\", \"training_percent\": \"100\", \"start_time\": \"2021-02-19T22:18:33.728595Z\", \"end_time\": \"2021-02-19T22:19:39.541614Z\", \"created_time\": \"2021-02-19T22:18:25.836784Z\", \"created_time_dt\": \"2021-02-19T22:18:25.836784Z\", \"duration\": \"0:01:13\", \"iteration\": \"31\", \"goal\": \"AUC_weighted_max\", \"run_name\": \"SparseNormalizer, XGBoostClassifier\", \"run_properties\": \"<azureml.automl.runtime.shared.model_wrappers.SparseNormalizer object at 0x7ff3f019d7b8\", \"primary_metric\": 0.7929479, \"best_metric\": 0.8187475}, {\"run_id\": \"AutoML_f0166041-60b0-404f-bdd5-880e74fdb44e_32\", \"run_number\": 37, \"metric\": null, \"status\": \"Completed\", \"run_type\": \"azureml.scriptrun\", \"training_percent\": \"100\", \"start_time\": \"2021-02-19T22:18:47.535131Z\", \"end_time\": \"2021-02-19T22:20:23.20226Z\", \"created_time\": \"2021-02-19T22:18:37.265829Z\", \"created_time_dt\": \"2021-02-19T22:18:37.265829Z\", \"duration\": \"0:01:45\", \"iteration\": \"32\", \"goal\": \"AUC_weighted_max\", \"run_name\": \"SparseNormalizer, XGBoostClassifier\", \"run_properties\": \"<azureml.automl.runtime.shared.model_wrappers.SparseNormalizer object at 0x7f974e24a978\", \"primary_metric\": 0.80800738, \"best_metric\": 0.8187475}, {\"run_id\": \"AutoML_f0166041-60b0-404f-bdd5-880e74fdb44e_33\", \"run_number\": 38, \"metric\": null, \"status\": \"Completed\", \"run_type\": \"azureml.scriptrun\", \"training_percent\": \"100\", \"start_time\": \"2021-02-19T22:19:09.707964Z\", \"end_time\": \"2021-02-19T22:21:28.641311Z\", \"created_time\": \"2021-02-19T22:19:00.977634Z\", \"created_time_dt\": \"2021-02-19T22:19:00.977634Z\", \"duration\": \"0:02:27\", \"iteration\": \"33\", \"goal\": \"AUC_weighted_max\", \"run_name\": \"TruncatedSVDWrapper, XGBoostClassifier\", \"run_properties\": \"n_components=0.8015789473684211, random_state=None\", \"primary_metric\": 0.80702664, \"best_metric\": 0.8187475}, {\"run_id\": \"AutoML_f0166041-60b0-404f-bdd5-880e74fdb44e_34\", \"run_number\": 39, \"metric\": null, \"status\": \"Completed\", \"run_type\": \"azureml.scriptrun\", \"training_percent\": \"100\", \"start_time\": \"2021-02-19T22:19:46.176441Z\", \"end_time\": \"2021-02-19T22:20:47.508385Z\", \"created_time\": \"2021-02-19T22:19:36.139006Z\", \"created_time_dt\": \"2021-02-19T22:19:36.139006Z\", \"duration\": \"0:01:11\", \"iteration\": \"34\", \"goal\": \"AUC_weighted_max\", \"run_name\": \"SparseNormalizer, LightGBM\", \"run_properties\": \"<azureml.automl.runtime.shared.model_wrappers.SparseNormalizer object at 0x7f05534d7c18\", \"primary_metric\": 0.803235, \"best_metric\": 0.8187475}, {\"run_id\": \"AutoML_f0166041-60b0-404f-bdd5-880e74fdb44e_35\", \"run_number\": 40, \"metric\": null, \"status\": \"Completed\", \"run_type\": \"azureml.scriptrun\", \"training_percent\": \"100\", \"start_time\": \"2021-02-19T22:19:55.180567Z\", \"end_time\": \"2021-02-19T22:20:56.209255Z\", \"created_time\": \"2021-02-19T22:19:42.716315Z\", \"created_time_dt\": \"2021-02-19T22:19:42.716315Z\", \"duration\": \"0:01:13\", \"iteration\": \"35\", \"goal\": \"AUC_weighted_max\", \"run_name\": \"StandardScalerWrapper, LightGBM\", \"run_properties\": \"<azureml.automl.runtime.shared.model_wrappers.StandardScalerWrapper object at 0x7f75d861fdd8\", \"primary_metric\": 0.81523507, \"best_metric\": 0.8187475}, {\"run_id\": \"AutoML_f0166041-60b0-404f-bdd5-880e74fdb44e_36\", \"run_number\": 41, \"metric\": null, \"status\": \"Completed\", \"run_type\": \"azureml.scriptrun\", \"training_percent\": \"100\", \"start_time\": \"2021-02-19T22:19:59.519662Z\", \"end_time\": \"2021-02-19T22:21:45.066187Z\", \"created_time\": \"2021-02-19T22:19:49.717966Z\", \"created_time_dt\": \"2021-02-19T22:19:49.717966Z\", \"duration\": \"0:01:55\", \"iteration\": \"36\", \"goal\": \"AUC_weighted_max\", \"run_name\": \"TruncatedSVDWrapper, XGBoostClassifier\", \"run_properties\": \"n_components=0.7521052631578947, random_state=None\", \"primary_metric\": 0.72783583, \"best_metric\": 0.8187475}, {\"run_id\": \"AutoML_f0166041-60b0-404f-bdd5-880e74fdb44e_37\", \"run_number\": 42, \"metric\": null, \"status\": \"Completed\", \"run_type\": \"azureml.scriptrun\", \"training_percent\": \"100\", \"start_time\": \"2021-02-19T22:20:34.92127Z\", \"end_time\": \"2021-02-19T22:21:59.689659Z\", \"created_time\": \"2021-02-19T22:20:26.259793Z\", \"created_time_dt\": \"2021-02-19T22:20:26.259793Z\", \"duration\": \"0:01:33\", \"iteration\": \"37\", \"goal\": \"AUC_weighted_max\", \"run_name\": \"TruncatedSVDWrapper, XGBoostClassifier\", \"run_properties\": \"n_components=0.8015789473684211, random_state=None\", \"primary_metric\": 0.77807662, \"best_metric\": 0.8187475}, {\"run_id\": \"AutoML_f0166041-60b0-404f-bdd5-880e74fdb44e_38\", \"run_number\": 43, \"metric\": null, \"status\": \"Completed\", \"run_type\": \"azureml.scriptrun\", \"training_percent\": \"100\", \"start_time\": \"2021-02-19T22:20:58.793916Z\", \"end_time\": \"2021-02-19T22:22:10.351033Z\", \"created_time\": \"2021-02-19T22:20:49.993672Z\", \"created_time_dt\": \"2021-02-19T22:20:49.993672Z\", \"duration\": \"0:01:20\", \"iteration\": \"38\", \"goal\": \"AUC_weighted_max\", \"run_name\": \"TruncatedSVDWrapper, XGBoostClassifier\", \"run_properties\": \"n_components=0.8510526315789474, random_state=None\", \"primary_metric\": 0.74787218, \"best_metric\": 0.8187475}, {\"run_id\": \"AutoML_f0166041-60b0-404f-bdd5-880e74fdb44e_39\", \"run_number\": 44, \"metric\": null, \"status\": \"Completed\", \"run_type\": \"azureml.scriptrun\", \"training_percent\": \"100\", \"start_time\": \"2021-02-19T22:21:06.730134Z\", \"end_time\": \"2021-02-19T22:22:12.320634Z\", \"created_time\": \"2021-02-19T22:20:58.354382Z\", \"created_time_dt\": \"2021-02-19T22:20:58.354382Z\", \"duration\": \"0:01:13\", \"iteration\": \"39\", \"goal\": \"AUC_weighted_max\", \"run_name\": \"StandardScalerWrapper, LogisticRegression\", \"run_properties\": \"<azureml.automl.runtime.shared.model_wrappers.StandardScalerWrapper object at 0x7fd6cfe1cda0\", \"primary_metric\": 0.81178326, \"best_metric\": 0.8187475}, {\"run_id\": \"AutoML_f0166041-60b0-404f-bdd5-880e74fdb44e_40\", \"run_number\": 45, \"metric\": null, \"status\": \"Completed\", \"run_type\": \"azureml.scriptrun\", \"training_percent\": \"100\", \"start_time\": \"2021-02-19T22:21:42.308664Z\", \"end_time\": \"2021-02-19T22:22:45.932564Z\", \"created_time\": \"2021-02-19T22:21:32.299267Z\", \"created_time_dt\": \"2021-02-19T22:21:32.299267Z\", \"duration\": \"0:01:13\", \"iteration\": \"40\", \"goal\": \"AUC_weighted_max\", \"run_name\": \"TruncatedSVDWrapper, GradientBoosting\", \"run_properties\": \"n_components=0.9005263157894737, random_state=None\", \"primary_metric\": 0.59151378, \"best_metric\": 0.8187475}, {\"run_id\": \"AutoML_f0166041-60b0-404f-bdd5-880e74fdb44e_41\", \"run_number\": 46, \"metric\": null, \"status\": \"Completed\", \"run_type\": \"azureml.scriptrun\", \"training_percent\": \"100\", \"start_time\": \"2021-02-19T22:21:55.307139Z\", \"end_time\": \"2021-02-19T22:22:59.931876Z\", \"created_time\": \"2021-02-19T22:21:47.378161Z\", \"created_time_dt\": \"2021-02-19T22:21:47.378161Z\", \"duration\": \"0:01:12\", \"iteration\": \"41\", \"goal\": \"AUC_weighted_max\", \"run_name\": \"MaxAbsScaler, LogisticRegression\", \"run_properties\": \"copy=True\", \"primary_metric\": 0.81768702, \"best_metric\": 0.8187475}, {\"run_id\": \"AutoML_f0166041-60b0-404f-bdd5-880e74fdb44e_42\", \"run_number\": 47, \"metric\": null, \"status\": \"Completed\", \"run_type\": \"azureml.scriptrun\", \"training_percent\": \"100\", \"start_time\": \"2021-02-19T22:22:12.294291Z\", \"end_time\": \"2021-02-19T22:23:16.491679Z\", \"created_time\": \"2021-02-19T22:22:01.893688Z\", \"created_time_dt\": \"2021-02-19T22:22:01.893688Z\", \"duration\": \"0:01:14\", \"iteration\": \"42\", \"goal\": \"AUC_weighted_max\", \"run_name\": \"MaxAbsScaler, LightGBM\", \"run_properties\": \"copy=True\", \"primary_metric\": 0.81858431, \"best_metric\": 0.8187475}, {\"run_id\": \"AutoML_f0166041-60b0-404f-bdd5-880e74fdb44e_43\", \"run_number\": 48, \"metric\": null, \"status\": \"Completed\", \"run_type\": \"azureml.scriptrun\", \"training_percent\": \"100\", \"start_time\": \"2021-02-19T22:22:23.184933Z\", \"end_time\": \"2021-02-19T22:23:21.726154Z\", \"created_time\": \"2021-02-19T22:22:12.599575Z\", \"created_time_dt\": \"2021-02-19T22:22:12.599575Z\", \"duration\": \"0:01:09\", \"iteration\": \"43\", \"goal\": \"AUC_weighted_max\", \"run_name\": \"MaxAbsScaler, LogisticRegression\", \"run_properties\": \"copy=True\", \"primary_metric\": 0.83146761, \"best_metric\": 0.83146761}, {\"run_id\": \"AutoML_f0166041-60b0-404f-bdd5-880e74fdb44e_44\", \"run_number\": 49, \"metric\": null, \"status\": \"Completed\", \"run_type\": \"azureml.scriptrun\", \"training_percent\": \"100\", \"start_time\": \"2021-02-19T22:22:29.509187Z\", \"end_time\": \"2021-02-19T22:23:31.27575Z\", \"created_time\": \"2021-02-19T22:22:17.057071Z\", \"created_time_dt\": \"2021-02-19T22:22:17.057071Z\", \"duration\": \"0:01:14\", \"iteration\": \"44\", \"goal\": \"AUC_weighted_max\", \"run_name\": \"MaxAbsScaler, LightGBM\", \"run_properties\": \"copy=True\", \"primary_metric\": 0.80083267, \"best_metric\": 0.83146761}, {\"run_id\": \"AutoML_f0166041-60b0-404f-bdd5-880e74fdb44e_45\", \"run_number\": 50, \"metric\": null, \"status\": \"Completed\", \"run_type\": \"azureml.scriptrun\", \"training_percent\": \"100\", \"start_time\": \"2021-02-19T22:23:03.478036Z\", \"end_time\": \"2021-02-19T22:24:17.052619Z\", \"created_time\": \"2021-02-19T22:22:50.782143Z\", \"created_time_dt\": \"2021-02-19T22:22:50.782143Z\", \"duration\": \"0:01:26\", \"iteration\": \"45\", \"goal\": \"AUC_weighted_max\", \"run_name\": \"StandardScalerWrapper, GradientBoosting\", \"run_properties\": \"<azureml.automl.runtime.shared.model_wrappers.StandardScalerWrapper object at 0x7f0166c88748\", \"primary_metric\": 0.60744382, \"best_metric\": 0.83146761}, {\"run_id\": \"AutoML_f0166041-60b0-404f-bdd5-880e74fdb44e_46\", \"run_number\": 51, \"metric\": null, \"status\": \"Completed\", \"run_type\": \"azureml.scriptrun\", \"training_percent\": \"100\", \"start_time\": \"2021-02-19T22:23:12.156007Z\", \"end_time\": \"2021-02-19T22:24:26.075868Z\", \"created_time\": \"2021-02-19T22:23:03.071433Z\", \"created_time_dt\": \"2021-02-19T22:23:03.071433Z\", \"duration\": \"0:01:23\", \"iteration\": \"46\", \"goal\": \"AUC_weighted_max\", \"run_name\": \"MaxAbsScaler, LightGBM\", \"run_properties\": \"copy=True\", \"primary_metric\": 0.80815632, \"best_metric\": 0.83146761}, {\"run_id\": \"AutoML_f0166041-60b0-404f-bdd5-880e74fdb44e_47\", \"run_number\": 52, \"metric\": null, \"status\": \"Completed\", \"run_type\": \"azureml.scriptrun\", \"training_percent\": \"100\", \"start_time\": \"2021-02-19T22:23:31.086643Z\", \"end_time\": \"2021-02-19T22:24:34.202164Z\", \"created_time\": \"2021-02-19T22:23:19.842295Z\", \"created_time_dt\": \"2021-02-19T22:23:19.842295Z\", \"duration\": \"0:01:14\", \"iteration\": \"47\", \"goal\": \"AUC_weighted_max\", \"run_name\": \"StandardScalerWrapper, XGBoostClassifier\", \"run_properties\": \"<azureml.automl.runtime.shared.model_wrappers.StandardScalerWrapper object at 0x7f2a01dce9b0\", \"primary_metric\": 0.79725445, \"best_metric\": 0.83146761}, {\"run_id\": \"AutoML_f0166041-60b0-404f-bdd5-880e74fdb44e_48\", \"run_number\": 53, \"metric\": null, \"status\": \"Completed\", \"run_type\": \"azureml.scriptrun\", \"training_percent\": \"100\", \"start_time\": \"2021-02-19T22:23:33.870016Z\", \"end_time\": \"2021-02-19T22:24:38.228935Z\", \"created_time\": \"2021-02-19T22:23:25.751282Z\", \"created_time_dt\": \"2021-02-19T22:23:25.751282Z\", \"duration\": \"0:01:12\", \"iteration\": \"48\", \"goal\": \"AUC_weighted_max\", \"run_name\": \"MaxAbsScaler, LightGBM\", \"run_properties\": \"copy=True\", \"primary_metric\": 0.7986218, \"best_metric\": 0.83146761}, {\"run_id\": \"AutoML_f0166041-60b0-404f-bdd5-880e74fdb44e_49\", \"run_number\": 54, \"metric\": null, \"status\": \"Completed\", \"run_type\": \"azureml.scriptrun\", \"training_percent\": \"100\", \"start_time\": \"2021-02-19T22:23:42.530131Z\", \"end_time\": \"2021-02-19T22:24:44.882968Z\", \"created_time\": \"2021-02-19T22:23:33.937152Z\", \"created_time_dt\": \"2021-02-19T22:23:33.937152Z\", \"duration\": \"0:01:10\", \"iteration\": \"49\", \"goal\": \"AUC_weighted_max\", \"run_name\": \"MaxAbsScaler, LightGBM\", \"run_properties\": \"copy=True\", \"primary_metric\": 0.80516999, \"best_metric\": 0.83146761}, {\"run_id\": \"AutoML_f0166041-60b0-404f-bdd5-880e74fdb44e_50\", \"run_number\": 55, \"metric\": null, \"status\": \"Completed\", \"run_type\": \"azureml.scriptrun\", \"training_percent\": \"100\", \"start_time\": \"2021-02-19T22:24:31.989394Z\", \"end_time\": \"2021-02-19T22:25:45.19951Z\", \"created_time\": \"2021-02-19T22:24:20.45477Z\", \"created_time_dt\": \"2021-02-19T22:24:20.45477Z\", \"duration\": \"0:01:24\", \"iteration\": \"50\", \"goal\": \"AUC_weighted_max\", \"run_name\": \"StandardScalerWrapper, LogisticRegression\", \"run_properties\": \"<azureml.automl.runtime.shared.model_wrappers.StandardScalerWrapper object at 0x7fbbcc0dfd68\", \"primary_metric\": 0.76311495, \"best_metric\": 0.83146761}, {\"run_id\": \"AutoML_f0166041-60b0-404f-bdd5-880e74fdb44e_51\", \"run_number\": 56, \"metric\": null, \"status\": \"Completed\", \"run_type\": \"azureml.scriptrun\", \"training_percent\": \"100\", \"start_time\": \"2021-02-19T22:24:40.141714Z\", \"end_time\": \"2021-02-19T22:25:47.063548Z\", \"created_time\": \"2021-02-19T22:24:28.418276Z\", \"created_time_dt\": \"2021-02-19T22:24:28.418276Z\", \"duration\": \"0:01:18\", \"iteration\": \"51\", \"goal\": \"AUC_weighted_max\", \"run_name\": \"StandardScalerWrapper, GradientBoosting\", \"run_properties\": \"<azureml.automl.runtime.shared.model_wrappers.StandardScalerWrapper object at 0x7f7747495550\", \"primary_metric\": 0.80198563, \"best_metric\": 0.83146761}, {\"run_id\": \"AutoML_f0166041-60b0-404f-bdd5-880e74fdb44e_52\", \"run_number\": 57, \"metric\": null, \"status\": \"Completed\", \"run_type\": \"azureml.scriptrun\", \"training_percent\": \"100\", \"start_time\": \"2021-02-19T22:24:46.395818Z\", \"end_time\": \"2021-02-19T22:25:46.717969Z\", \"created_time\": \"2021-02-19T22:24:36.304529Z\", \"created_time_dt\": \"2021-02-19T22:24:36.304529Z\", \"duration\": \"0:01:10\", \"iteration\": \"52\", \"goal\": \"AUC_weighted_max\", \"run_name\": \"MaxAbsScaler, LogisticRegression\", \"run_properties\": \"copy=True\", \"primary_metric\": 0.78847991, \"best_metric\": 0.83146761}, {\"run_id\": \"AutoML_f0166041-60b0-404f-bdd5-880e74fdb44e_53\", \"run_number\": 58, \"metric\": null, \"status\": \"Completed\", \"run_type\": \"azureml.scriptrun\", \"training_percent\": \"100\", \"start_time\": \"2021-02-19T22:24:49.851964Z\", \"end_time\": \"2021-02-19T22:26:02.579428Z\", \"created_time\": \"2021-02-19T22:24:41.603762Z\", \"created_time_dt\": \"2021-02-19T22:24:41.603762Z\", \"duration\": \"0:01:20\", \"iteration\": \"53\", \"goal\": \"AUC_weighted_max\", \"run_name\": \"MaxAbsScaler, LogisticRegression\", \"run_properties\": \"copy=True\", \"primary_metric\": 0.80107201, \"best_metric\": 0.83146761}, {\"run_id\": \"AutoML_f0166041-60b0-404f-bdd5-880e74fdb44e_54\", \"run_number\": 59, \"metric\": null, \"status\": \"Completed\", \"run_type\": \"azureml.scriptrun\", \"training_percent\": \"100\", \"start_time\": \"2021-02-19T22:24:55.260732Z\", \"end_time\": \"2021-02-19T22:26:00.198158Z\", \"created_time\": \"2021-02-19T22:24:47.346125Z\", \"created_time_dt\": \"2021-02-19T22:24:47.346125Z\", \"duration\": \"0:01:12\", \"iteration\": \"54\", \"goal\": \"AUC_weighted_max\", \"run_name\": \"StandardScalerWrapper, LogisticRegression\", \"run_properties\": \"<azureml.automl.runtime.shared.model_wrappers.StandardScalerWrapper object at 0x7f1576265550\", \"primary_metric\": 0.79590891, \"best_metric\": 0.83146761}, {\"run_id\": \"AutoML_f0166041-60b0-404f-bdd5-880e74fdb44e_55\", \"run_number\": 60, \"metric\": null, \"status\": \"Completed\", \"run_type\": \"azureml.scriptrun\", \"training_percent\": \"100\", \"start_time\": \"2021-02-19T22:25:59.122475Z\", \"end_time\": \"2021-02-19T22:26:59.625084Z\", \"created_time\": \"2021-02-19T22:25:48.414464Z\", \"created_time_dt\": \"2021-02-19T22:25:48.414464Z\", \"duration\": \"0:01:11\", \"iteration\": \"55\", \"goal\": \"AUC_weighted_max\", \"run_name\": \"SparseNormalizer, LogisticRegression\", \"run_properties\": \"<azureml.automl.runtime.shared.model_wrappers.SparseNormalizer object at 0x7fae1a85b198\", \"primary_metric\": 0.62513596, \"best_metric\": 0.83146761}, {\"run_id\": \"AutoML_f0166041-60b0-404f-bdd5-880e74fdb44e_56\", \"run_number\": 61, \"metric\": null, \"status\": \"Completed\", \"run_type\": \"azureml.scriptrun\", \"training_percent\": \"100\", \"start_time\": \"2021-02-19T22:26:02.015719Z\", \"end_time\": \"2021-02-19T22:27:05.020472Z\", \"created_time\": \"2021-02-19T22:25:53.492689Z\", \"created_time_dt\": \"2021-02-19T22:25:53.492689Z\", \"duration\": \"0:01:11\", \"iteration\": \"56\", \"goal\": \"AUC_weighted_max\", \"run_name\": \"StandardScalerWrapper, ExtremeRandomTrees\", \"run_properties\": \"<azureml.automl.runtime.shared.model_wrappers.StandardScalerWrapper object at 0x7f04a9d85e10\", \"primary_metric\": 0.80004042, \"best_metric\": 0.83146761}, {\"run_id\": \"AutoML_f0166041-60b0-404f-bdd5-880e74fdb44e_57\", \"run_number\": 62, \"metric\": null, \"status\": \"Completed\", \"run_type\": \"azureml.scriptrun\", \"training_percent\": \"100\", \"start_time\": \"2021-02-19T22:26:04.138268Z\", \"end_time\": \"2021-02-19T22:27:10.839585Z\", \"created_time\": \"2021-02-19T22:25:53.616345Z\", \"created_time_dt\": \"2021-02-19T22:25:53.616345Z\", \"duration\": \"0:01:17\", \"iteration\": \"57\", \"goal\": \"AUC_weighted_max\", \"run_name\": \"StandardScalerWrapper, XGBoostClassifier\", \"run_properties\": \"<azureml.automl.runtime.shared.model_wrappers.StandardScalerWrapper object at 0x7facabcd8a20\", \"primary_metric\": 0.80695584, \"best_metric\": 0.83146761}, {\"run_id\": \"AutoML_f0166041-60b0-404f-bdd5-880e74fdb44e_58\", \"run_number\": 63, \"metric\": null, \"status\": \"Canceled\", \"run_type\": \"azureml.scriptrun\", \"training_percent\": \"100\", \"start_time\": \"2021-02-19T22:26:11.472856Z\", \"end_time\": \"2021-02-19T22:27:18.489684Z\", \"created_time\": \"2021-02-19T22:26:02.307643Z\", \"created_time_dt\": \"2021-02-19T22:26:02.307643Z\", \"duration\": \"0:01:16\", \"iteration\": \"58\", \"goal\": \"AUC_weighted_max\", \"run_name\": \"StandardScalerWrapper, XGBoostClassifier\", \"run_properties\": \"<azureml.automl.runtime.shared.model_wrappers.StandardScalerWrapper object at 0x7fe779c0d048\", \"primary_metric\": 0.8085002, \"best_metric\": 0.83146761}, {\"run_id\": \"AutoML_f0166041-60b0-404f-bdd5-880e74fdb44e_59\", \"run_number\": 64, \"metric\": null, \"status\": \"Canceled\", \"run_type\": \"azureml.scriptrun\", \"training_percent\": \"100\", \"start_time\": \"2021-02-19T22:26:16.874443Z\", \"end_time\": \"2021-02-19T22:27:21.060241Z\", \"created_time\": \"2021-02-19T22:26:06.545211Z\", \"created_time_dt\": \"2021-02-19T22:26:06.545211Z\", \"duration\": \"0:01:14\", \"iteration\": \"59\", \"goal\": \"AUC_weighted_max\", \"run_name\": \"StandardScalerWrapper, XGBoostClassifier\", \"run_properties\": \"<azureml.automl.runtime.shared.model_wrappers.StandardScalerWrapper object at 0x7f4bfab46080\", \"primary_metric\": 0.80022578, \"best_metric\": 0.83146761}, {\"run_id\": \"AutoML_f0166041-60b0-404f-bdd5-880e74fdb44e_60\", \"run_number\": 65, \"metric\": null, \"status\": \"Canceled\", \"run_type\": \"azureml.scriptrun\", \"training_percent\": \"100\", \"start_time\": \"2021-02-19T22:27:13.890561Z\", \"end_time\": \"2021-02-19T22:27:21.727524Z\", \"created_time\": \"2021-02-19T22:27:03.017923Z\", \"created_time_dt\": \"2021-02-19T22:27:03.017923Z\", \"duration\": \"0:00:18\", \"iteration\": \"60\", \"goal\": null, \"run_name\": \"Canceled\", \"run_properties\": null}, {\"run_id\": \"AutoML_f0166041-60b0-404f-bdd5-880e74fdb44e_61\", \"run_number\": 66, \"metric\": null, \"status\": \"Canceled\", \"run_type\": \"azureml.scriptrun\", \"training_percent\": \"100\", \"start_time\": \"2021-02-19T22:27:18.42709Z\", \"end_time\": \"2021-02-19T22:27:26.229272Z\", \"created_time\": \"2021-02-19T22:27:07.767964Z\", \"created_time_dt\": \"2021-02-19T22:27:07.767964Z\", \"duration\": \"0:00:18\", \"iteration\": \"61\", \"goal\": null, \"run_name\": \"Canceled\", \"run_properties\": null}, {\"run_id\": \"AutoML_f0166041-60b0-404f-bdd5-880e74fdb44e_62\", \"run_number\": 67, \"metric\": null, \"status\": \"Completed\", \"run_type\": \"azureml.scriptrun\", \"training_percent\": \"100\", \"start_time\": \"2021-02-19T22:27:42.074116Z\", \"end_time\": \"2021-02-19T22:29:39.082442Z\", \"created_time\": \"2021-02-19T22:27:28.071168Z\", \"created_time_dt\": \"2021-02-19T22:27:28.071168Z\", \"duration\": \"0:02:11\", \"iteration\": \"62\", \"goal\": \"AUC_weighted_max\", \"run_name\": \"VotingEnsemble\", \"run_properties\": \"classification_labels=None,\\n                              estimators=[('43',\\n                                           Pipeline(memory=None,\\n                                                    steps=[('maxabsscaler',\\n                                                            MaxAbsScaler(copy=True\", \"primary_metric\": 0.84267755, \"best_metric\": 0.84267755}, {\"run_id\": \"AutoML_f0166041-60b0-404f-bdd5-880e74fdb44e_63\", \"run_number\": 68, \"metric\": null, \"status\": \"Completed\", \"run_type\": \"azureml.scriptrun\", \"training_percent\": \"100\", \"start_time\": \"2021-02-19T22:27:37.473234Z\", \"end_time\": \"2021-02-19T22:29:30.489998Z\", \"created_time\": \"2021-02-19T22:27:28.103156Z\", \"created_time_dt\": \"2021-02-19T22:27:28.103156Z\", \"duration\": \"0:02:02\", \"iteration\": \"63\", \"goal\": \"AUC_weighted_max\", \"run_name\": \"StackEnsemble\", \"run_properties\": \"base_learners=[('43',\\n                                        Pipeline(memory=None,\\n                                                 steps=[('maxabsscaler',\\n                                                         MaxAbsScaler(copy=True\", \"primary_metric\": 0.83953839, \"best_metric\": 0.84267755}], \"children_metrics\": {\"categories\": [0], \"series\": {\"matthews_correlation\": [{\"categories\": [\"0\", \"1\", \"2\", \"3\", \"4\", \"5\", \"6\", \"7\", \"8\", \"9\", \"10\", \"11\", \"12\", \"13\", \"14\", \"15\", \"16\", \"17\", \"18\", \"19\", \"20\", \"21\", \"22\", \"23\", \"24\", \"25\", \"26\", \"27\", \"28\", \"29\", \"30\", \"31\", \"32\", \"33\", \"34\", \"35\", \"36\", \"37\", \"38\", \"39\", \"40\", \"41\", \"42\", \"43\", \"44\", \"45\", \"46\", \"47\", \"48\", \"49\", \"50\", \"51\", \"52\", \"53\", \"54\", \"55\", \"56\", \"57\", \"58\", \"59\", \"62\", \"63\"], \"mode\": \"markers\", \"name\": \"matthews_correlation\", \"stepped\": false, \"type\": \"scatter\", \"data\": [0.3818562587798965, 0.3965238070034194, 0.0, 0.358258326089281, 0.0, 0.18862047132132725, 0.23919535156430785, 0.0, 0.0, 0.36793211448786584, 0.30379434952361833, 0.32491786054668165, 0.3378153326427412, 0.2709479381657536, 0.0, 0.18333069961629617, 0.32147345936803234, 0.37986002327077795, 0.3186752902214028, 0.3652515084050535, 0.35857344551437925, 0.41972706936918336, 0.42209510781238074, 0.41505741492199066, 0.43800931768065066, 0.24354775950096536, 0.34626377303842687, 0.3707193986960083, 0.3748384488977495, 0.1915578383374664, 0.3491718834557348, 0.35433263382088676, 0.3777758983237265, 0.32695888587673944, 0.35248464949235064, 0.4488510584160691, 0.21265493520936615, 0.27446554302584764, 0.2081676705184913, 0.37893598865635014, 0.0, 0.42517046704480943, 0.44428008975994393, 0.42273075385538117, 0.30892859860821437, 0.0, 0.3561716288037099, 0.33493801795913436, 0.389379650626233, 0.3272621769624133, 0.3420807329661262, 0.3471559996131742, 0.3394678211145268, 0.3930411659625338, 0.3660975490232324, 0.07471163546800959, 0.36087008787200625, 0.38244191422527046, 0.3954219919034938, 0.3568184221654326, 0.4682894976601232, 0.2708124321667167]}, {\"categories\": [\"0\", \"1\", \"2\", \"3\", \"4\", \"5\", \"6\", \"7\", \"8\", \"9\", \"10\", \"11\", \"12\", \"13\", \"14\", \"15\", \"16\", \"17\", \"18\", \"19\", \"20\", \"21\", \"22\", \"23\", \"24\", \"25\", \"26\", \"27\", \"28\", \"29\", \"30\", \"31\", \"32\", \"33\", \"34\", \"35\", \"36\", \"37\", \"38\", \"39\", \"40\", \"41\", \"42\", \"43\", \"44\", \"45\", \"46\", \"47\", \"48\", \"49\", \"50\", \"51\", \"52\", \"53\", \"54\", \"55\", \"56\", \"57\", \"58\", \"59\", \"62\", \"63\"], \"mode\": \"lines\", \"name\": \"matthews_correlation_max\", \"stepped\": true, \"type\": \"scatter\", \"data\": [0.3818562587798965, 0.3965238070034194, 0.3965238070034194, 0.3965238070034194, 0.3965238070034194, 0.3965238070034194, 0.3965238070034194, 0.3965238070034194, 0.3965238070034194, 0.3965238070034194, 0.3965238070034194, 0.3965238070034194, 0.3965238070034194, 0.3965238070034194, 0.3965238070034194, 0.3965238070034194, 0.3965238070034194, 0.3965238070034194, 0.3965238070034194, 0.3965238070034194, 0.3965238070034194, 0.41972706936918336, 0.42209510781238074, 0.42209510781238074, 0.43800931768065066, 0.43800931768065066, 0.43800931768065066, 0.43800931768065066, 0.43800931768065066, 0.43800931768065066, 0.43800931768065066, 0.43800931768065066, 0.43800931768065066, 0.43800931768065066, 0.43800931768065066, 0.4488510584160691, 0.4488510584160691, 0.4488510584160691, 0.4488510584160691, 0.4488510584160691, 0.4488510584160691, 0.4488510584160691, 0.4488510584160691, 0.4488510584160691, 0.4488510584160691, 0.4488510584160691, 0.4488510584160691, 0.4488510584160691, 0.4488510584160691, 0.4488510584160691, 0.4488510584160691, 0.4488510584160691, 0.4488510584160691, 0.4488510584160691, 0.4488510584160691, 0.4488510584160691, 0.4488510584160691, 0.4488510584160691, 0.4488510584160691, 0.4488510584160691, 0.4682894976601232, 0.4682894976601232]}], \"average_precision_score_micro\": [{\"categories\": [\"0\", \"1\", \"2\", \"3\", \"4\", \"5\", \"6\", \"7\", \"8\", \"9\", \"10\", \"11\", \"12\", \"13\", \"14\", \"15\", \"16\", \"17\", \"18\", \"19\", \"20\", \"21\", \"22\", \"23\", \"24\", \"25\", \"26\", \"27\", \"28\", \"29\", \"30\", \"31\", \"32\", \"33\", \"34\", \"35\", \"36\", \"37\", \"38\", \"39\", \"40\", \"41\", \"42\", \"43\", \"44\", \"45\", \"46\", \"47\", \"48\", \"49\", \"50\", \"51\", \"52\", \"53\", \"54\", \"55\", \"56\", \"57\", \"58\", \"59\", \"62\", \"63\"], \"mode\": \"markers\", \"name\": \"average_precision_score_micro\", \"stepped\": false, \"type\": \"scatter\", \"data\": [0.9110472266117606, 0.911859676726713, 0.8976116581323741, 0.8609452147118221, 0.9033725256342423, 0.8980055244984513, 0.9099681340377069, 0.9044094668225201, 0.9019589217483537, 0.8350707217641649, 0.8005170840582163, 0.8008863447485289, 0.8154439339465611, 0.904981649453798, 0.8941986504379813, 0.8839766925298089, 0.808012366618932, 0.8783019211369452, 0.789350409331955, 0.8678372042503888, 0.9063532948163413, 0.9155186494090124, 0.9160283521266095, 0.9176834383248886, 0.9197393684507638, 0.7175428070861118, 0.9058659465706353, 0.8574370555834943, 0.8721318018772038, 0.8975279225910503, 0.9166814803174261, 0.9090520649621137, 0.9178788223482375, 0.912250840041968, 0.9155982858891119, 0.9187088894536073, 0.889641615301328, 0.9013573100845893, 0.8952567402695942, 0.8369547478987707, 0.8444220566140744, 0.9149473268244523, 0.9193808161212609, 0.8763210690161383, 0.9115384600144513, 0.851024353474607, 0.9148286392472056, 0.9097681082809943, 0.9148562485637572, 0.9142357592260275, 0.8519664697155716, 0.9149184151302918, 0.8246241523785572, 0.9000427319202551, 0.8677917166280859, 0.6019081316984554, 0.8430480249726836, 0.9146026823148852, 0.9161336804272195, 0.912305143976357, 0.9268823636734916, 0.9231327689496623]}, {\"categories\": [\"0\", \"1\", \"2\", \"3\", \"4\", \"5\", \"6\", \"7\", \"8\", \"9\", \"10\", \"11\", \"12\", \"13\", \"14\", \"15\", \"16\", \"17\", \"18\", \"19\", \"20\", \"21\", \"22\", \"23\", \"24\", \"25\", \"26\", \"27\", \"28\", \"29\", \"30\", \"31\", \"32\", \"33\", \"34\", \"35\", \"36\", \"37\", \"38\", \"39\", \"40\", \"41\", \"42\", \"43\", \"44\", \"45\", \"46\", \"47\", \"48\", \"49\", \"50\", \"51\", \"52\", \"53\", \"54\", \"55\", \"56\", \"57\", \"58\", \"59\", \"62\", \"63\"], \"mode\": \"lines\", \"name\": \"average_precision_score_micro_max\", \"stepped\": true, \"type\": \"scatter\", \"data\": [0.9110472266117606, 0.911859676726713, 0.911859676726713, 0.911859676726713, 0.911859676726713, 0.911859676726713, 0.911859676726713, 0.911859676726713, 0.911859676726713, 0.911859676726713, 0.911859676726713, 0.911859676726713, 0.911859676726713, 0.911859676726713, 0.911859676726713, 0.911859676726713, 0.911859676726713, 0.911859676726713, 0.911859676726713, 0.911859676726713, 0.911859676726713, 0.9155186494090124, 0.9160283521266095, 0.9176834383248886, 0.9197393684507638, 0.9197393684507638, 0.9197393684507638, 0.9197393684507638, 0.9197393684507638, 0.9197393684507638, 0.9197393684507638, 0.9197393684507638, 0.9197393684507638, 0.9197393684507638, 0.9197393684507638, 0.9197393684507638, 0.9197393684507638, 0.9197393684507638, 0.9197393684507638, 0.9197393684507638, 0.9197393684507638, 0.9197393684507638, 0.9197393684507638, 0.9197393684507638, 0.9197393684507638, 0.9197393684507638, 0.9197393684507638, 0.9197393684507638, 0.9197393684507638, 0.9197393684507638, 0.9197393684507638, 0.9197393684507638, 0.9197393684507638, 0.9197393684507638, 0.9197393684507638, 0.9197393684507638, 0.9197393684507638, 0.9197393684507638, 0.9197393684507638, 0.9197393684507638, 0.9268823636734916, 0.9268823636734916]}], \"accuracy\": [{\"categories\": [\"0\", \"1\", \"2\", \"3\", \"4\", \"5\", \"6\", \"7\", \"8\", \"9\", \"10\", \"11\", \"12\", \"13\", \"14\", \"15\", \"16\", \"17\", \"18\", \"19\", \"20\", \"21\", \"22\", \"23\", \"24\", \"25\", \"26\", \"27\", \"28\", \"29\", \"30\", \"31\", \"32\", \"33\", \"34\", \"35\", \"36\", \"37\", \"38\", \"39\", \"40\", \"41\", \"42\", \"43\", \"44\", \"45\", \"46\", \"47\", \"48\", \"49\", \"50\", \"51\", \"52\", \"53\", \"54\", \"55\", \"56\", \"57\", \"58\", \"59\", \"62\", \"63\"], \"mode\": \"markers\", \"name\": \"accuracy\", \"stepped\": false, \"type\": \"scatter\", \"data\": [0.8619047619047618, 0.8666666666666666, 0.8387755102040817, 0.792517006802721, 0.8387755102040817, 0.8380952380952381, 0.8496598639455781, 0.8387755102040817, 0.8387755102040817, 0.7646258503401361, 0.727891156462585, 0.7149659863945579, 0.7353741496598639, 0.8510204081632654, 0.8387755102040817, 0.8360544217687075, 0.7503401360544217, 0.8027210884353743, 0.7108843537414966, 0.7904761904761906, 0.8605442176870749, 0.8666666666666666, 0.8687074829931973, 0.8693877551020408, 0.8687074829931973, 0.6687074829931972, 0.858503401360544, 0.7816326530612244, 0.7931972789115647, 0.8435374149659864, 0.8625850340136054, 0.8619047619047618, 0.8612244897959183, 0.8585034013605443, 0.8591836734693878, 0.8734693877551021, 0.8482993197278912, 0.8530612244897959, 0.8482993197278912, 0.7591836734693878, 0.8387755102040817, 0.848299319727891, 0.8755102040816327, 0.7972789115646258, 0.8564625850340135, 0.8387755102040817, 0.863265306122449, 0.8598639455782313, 0.8625850340136054, 0.8591836734693878, 0.7863945578231293, 0.8571428571428571, 0.7482993197278912, 0.8326530612244898, 0.7897959183673469, 0.519047619047619, 0.7598639455782312, 0.8639455782312926, 0.8646258503401361, 0.8571428571428571, 0.8775510204081632, 0.8585034013605443]}, {\"categories\": [\"0\", \"1\", \"2\", \"3\", \"4\", \"5\", \"6\", \"7\", \"8\", \"9\", \"10\", \"11\", \"12\", \"13\", \"14\", \"15\", \"16\", \"17\", \"18\", \"19\", \"20\", \"21\", \"22\", \"23\", \"24\", \"25\", \"26\", \"27\", \"28\", \"29\", \"30\", \"31\", \"32\", \"33\", \"34\", \"35\", \"36\", \"37\", \"38\", \"39\", \"40\", \"41\", \"42\", \"43\", \"44\", \"45\", \"46\", \"47\", \"48\", \"49\", \"50\", \"51\", \"52\", \"53\", \"54\", \"55\", \"56\", \"57\", \"58\", \"59\", \"62\", \"63\"], \"mode\": \"lines\", \"name\": \"accuracy_max\", \"stepped\": true, \"type\": \"scatter\", \"data\": [0.8619047619047618, 0.8666666666666666, 0.8666666666666666, 0.8666666666666666, 0.8666666666666666, 0.8666666666666666, 0.8666666666666666, 0.8666666666666666, 0.8666666666666666, 0.8666666666666666, 0.8666666666666666, 0.8666666666666666, 0.8666666666666666, 0.8666666666666666, 0.8666666666666666, 0.8666666666666666, 0.8666666666666666, 0.8666666666666666, 0.8666666666666666, 0.8666666666666666, 0.8666666666666666, 0.8666666666666666, 0.8687074829931973, 0.8693877551020408, 0.8693877551020408, 0.8693877551020408, 0.8693877551020408, 0.8693877551020408, 0.8693877551020408, 0.8693877551020408, 0.8693877551020408, 0.8693877551020408, 0.8693877551020408, 0.8693877551020408, 0.8693877551020408, 0.8734693877551021, 0.8734693877551021, 0.8734693877551021, 0.8734693877551021, 0.8734693877551021, 0.8734693877551021, 0.8734693877551021, 0.8755102040816327, 0.8755102040816327, 0.8755102040816327, 0.8755102040816327, 0.8755102040816327, 0.8755102040816327, 0.8755102040816327, 0.8755102040816327, 0.8755102040816327, 0.8755102040816327, 0.8755102040816327, 0.8755102040816327, 0.8755102040816327, 0.8755102040816327, 0.8755102040816327, 0.8755102040816327, 0.8755102040816327, 0.8755102040816327, 0.8775510204081632, 0.8775510204081632]}], \"average_precision_score_weighted\": [{\"categories\": [\"0\", \"1\", \"2\", \"3\", \"4\", \"5\", \"6\", \"7\", \"8\", \"9\", \"10\", \"11\", \"12\", \"13\", \"14\", \"15\", \"16\", \"17\", \"18\", \"19\", \"20\", \"21\", \"22\", \"23\", \"24\", \"25\", \"26\", \"27\", \"28\", \"29\", \"30\", \"31\", \"32\", \"33\", \"34\", \"35\", \"36\", \"37\", \"38\", \"39\", \"40\", \"41\", \"42\", \"43\", \"44\", \"45\", \"46\", \"47\", \"48\", \"49\", \"50\", \"51\", \"52\", \"53\", \"54\", \"55\", \"56\", \"57\", \"58\", \"59\", \"62\", \"63\"], \"mode\": \"markers\", \"name\": \"average_precision_score_weighted\", \"stepped\": false, \"type\": \"scatter\", \"data\": [0.8745536715307383, 0.8765001844508739, 0.8528406308966735, 0.8623911958406406, 0.8599504348944762, 0.8516825675776207, 0.8737377337488059, 0.8618776563456046, 0.8578782969097732, 0.8681882559061311, 0.8475608962097633, 0.8607511388124841, 0.8685147821264334, 0.8646170540768818, 0.8460730404874177, 0.829006453227121, 0.8500443063096377, 0.8769672742243999, 0.8633237419379102, 0.8707105185277401, 0.8663728151510712, 0.8792901267827341, 0.8810886591944167, 0.8818914127899294, 0.8872566740217784, 0.8305704111676077, 0.8658721611313807, 0.8712270313513015, 0.8770785540915819, 0.8501367506907279, 0.8852805619343525, 0.8683140518052005, 0.8798091573588215, 0.87517148213404, 0.8766559358446363, 0.884804620054547, 0.8403742669244888, 0.8618115220375963, 0.8489256695401893, 0.8835787210365996, 0.7762923568419657, 0.8863594788563118, 0.8868972573655955, 0.8932185896292205, 0.8758253512540003, 0.7789503287612083, 0.8811448640237474, 0.8737251530250528, 0.8771649888905827, 0.8795930233792649, 0.8485157382655186, 0.875854081695549, 0.8713627540865627, 0.8759659037750003, 0.8712554192912559, 0.787052814340982, 0.8752032411609413, 0.8795600679504553, 0.8810091194933005, 0.874866313182371, 0.8987521365926515, 0.8968115715219162]}, {\"categories\": [\"0\", \"1\", \"2\", \"3\", \"4\", \"5\", \"6\", \"7\", \"8\", \"9\", \"10\", \"11\", \"12\", \"13\", \"14\", \"15\", \"16\", \"17\", \"18\", \"19\", \"20\", \"21\", \"22\", \"23\", \"24\", \"25\", \"26\", \"27\", \"28\", \"29\", \"30\", \"31\", \"32\", \"33\", \"34\", \"35\", \"36\", \"37\", \"38\", \"39\", \"40\", \"41\", \"42\", \"43\", \"44\", \"45\", \"46\", \"47\", \"48\", \"49\", \"50\", \"51\", \"52\", \"53\", \"54\", \"55\", \"56\", \"57\", \"58\", \"59\", \"62\", \"63\"], \"mode\": \"lines\", \"name\": \"average_precision_score_weighted_max\", \"stepped\": true, \"type\": \"scatter\", \"data\": [0.8745536715307383, 0.8765001844508739, 0.8765001844508739, 0.8765001844508739, 0.8765001844508739, 0.8765001844508739, 0.8765001844508739, 0.8765001844508739, 0.8765001844508739, 0.8765001844508739, 0.8765001844508739, 0.8765001844508739, 0.8765001844508739, 0.8765001844508739, 0.8765001844508739, 0.8765001844508739, 0.8765001844508739, 0.8769672742243999, 0.8769672742243999, 0.8769672742243999, 0.8769672742243999, 0.8792901267827341, 0.8810886591944167, 0.8818914127899294, 0.8872566740217784, 0.8872566740217784, 0.8872566740217784, 0.8872566740217784, 0.8872566740217784, 0.8872566740217784, 0.8872566740217784, 0.8872566740217784, 0.8872566740217784, 0.8872566740217784, 0.8872566740217784, 0.8872566740217784, 0.8872566740217784, 0.8872566740217784, 0.8872566740217784, 0.8872566740217784, 0.8872566740217784, 0.8872566740217784, 0.8872566740217784, 0.8932185896292205, 0.8932185896292205, 0.8932185896292205, 0.8932185896292205, 0.8932185896292205, 0.8932185896292205, 0.8932185896292205, 0.8932185896292205, 0.8932185896292205, 0.8932185896292205, 0.8932185896292205, 0.8932185896292205, 0.8932185896292205, 0.8932185896292205, 0.8932185896292205, 0.8932185896292205, 0.8932185896292205, 0.8987521365926515, 0.8987521365926515]}], \"AUC_micro\": [{\"categories\": [\"0\", \"1\", \"2\", \"3\", \"4\", \"5\", \"6\", \"7\", \"8\", \"9\", \"10\", \"11\", \"12\", \"13\", \"14\", \"15\", \"16\", \"17\", \"18\", \"19\", \"20\", \"21\", \"22\", \"23\", \"24\", \"25\", \"26\", \"27\", \"28\", \"29\", \"30\", \"31\", \"32\", \"33\", \"34\", \"35\", \"36\", \"37\", \"38\", \"39\", \"40\", \"41\", \"42\", \"43\", \"44\", \"45\", \"46\", \"47\", \"48\", \"49\", \"50\", \"51\", \"52\", \"53\", \"54\", \"55\", \"56\", \"57\", \"58\", \"59\", \"62\", \"63\"], \"mode\": \"markers\", \"name\": \"AUC_micro\", \"stepped\": false, \"type\": \"scatter\", \"data\": [0.9221551205516221, 0.9216900365588412, 0.9107709750566892, 0.8662663704937759, 0.9109422000092554, 0.9107177564903512, 0.9177426072469805, 0.9143944652691008, 0.9125618955065018, 0.8402610023601277, 0.8034383821555833, 0.7981373501781664, 0.8174718867138692, 0.9136332083853949, 0.9037924013142671, 0.9034684622148179, 0.8205169142486927, 0.8832708593641538, 0.7865218196121987, 0.8744041834420843, 0.9170600212874265, 0.9223749363691056, 0.9237377944375027, 0.9241473460132351, 0.9277407561664122, 0.7241404044611042, 0.9172057938821787, 0.8622448979591836, 0.8770188347447823, 0.9087694941922349, 0.9257994354204266, 0.9195219584432411, 0.9240686750890832, 0.9228515896154381, 0.9221551205516219, 0.9268129020315609, 0.8997292794668887, 0.9137026239067054, 0.9051622009347957, 0.8397565829052711, 0.863323152390208, 0.920590957471424, 0.9283145911425794, 0.8800222129668194, 0.9202253690591883, 0.8680272108843538, 0.9225577305752234, 0.9199268823175529, 0.9215280670091166, 0.9218589476606969, 0.8640034244990513, 0.9220000925540284, 0.8292979776944792, 0.9067101670600213, 0.874230644638808, 0.5508885186727752, 0.8451085195983156, 0.9246656485723541, 0.9251862649821833, 0.921912166227035, 0.9353001064371327, 0.9319774168170669]}, {\"categories\": [\"0\", \"1\", \"2\", \"3\", \"4\", \"5\", \"6\", \"7\", \"8\", \"9\", \"10\", \"11\", \"12\", \"13\", \"14\", \"15\", \"16\", \"17\", \"18\", \"19\", \"20\", \"21\", \"22\", \"23\", \"24\", \"25\", \"26\", \"27\", \"28\", \"29\", \"30\", \"31\", \"32\", \"33\", \"34\", \"35\", \"36\", \"37\", \"38\", \"39\", \"40\", \"41\", \"42\", \"43\", \"44\", \"45\", \"46\", \"47\", \"48\", \"49\", \"50\", \"51\", \"52\", \"53\", \"54\", \"55\", \"56\", \"57\", \"58\", \"59\", \"62\", \"63\"], \"mode\": \"lines\", \"name\": \"AUC_micro_max\", \"stepped\": true, \"type\": \"scatter\", \"data\": [0.9221551205516221, 0.9221551205516221, 0.9221551205516221, 0.9221551205516221, 0.9221551205516221, 0.9221551205516221, 0.9221551205516221, 0.9221551205516221, 0.9221551205516221, 0.9221551205516221, 0.9221551205516221, 0.9221551205516221, 0.9221551205516221, 0.9221551205516221, 0.9221551205516221, 0.9221551205516221, 0.9221551205516221, 0.9221551205516221, 0.9221551205516221, 0.9221551205516221, 0.9221551205516221, 0.9223749363691056, 0.9237377944375027, 0.9241473460132351, 0.9277407561664122, 0.9277407561664122, 0.9277407561664122, 0.9277407561664122, 0.9277407561664122, 0.9277407561664122, 0.9277407561664122, 0.9277407561664122, 0.9277407561664122, 0.9277407561664122, 0.9277407561664122, 0.9277407561664122, 0.9277407561664122, 0.9277407561664122, 0.9277407561664122, 0.9277407561664122, 0.9277407561664122, 0.9277407561664122, 0.9283145911425794, 0.9283145911425794, 0.9283145911425794, 0.9283145911425794, 0.9283145911425794, 0.9283145911425794, 0.9283145911425794, 0.9283145911425794, 0.9283145911425794, 0.9283145911425794, 0.9283145911425794, 0.9283145911425794, 0.9283145911425794, 0.9283145911425794, 0.9283145911425794, 0.9283145911425794, 0.9283145911425794, 0.9283145911425794, 0.9353001064371327, 0.9353001064371327]}], \"f1_score_macro\": [{\"categories\": [\"0\", \"1\", \"2\", \"3\", \"4\", \"5\", \"6\", \"7\", \"8\", \"9\", \"10\", \"11\", \"12\", \"13\", \"14\", \"15\", \"16\", \"17\", \"18\", \"19\", \"20\", \"21\", \"22\", \"23\", \"24\", \"25\", \"26\", \"27\", \"28\", \"29\", \"30\", \"31\", \"32\", \"33\", \"34\", \"35\", \"36\", \"37\", \"38\", \"39\", \"40\", \"41\", \"42\", \"43\", \"44\", \"45\", \"46\", \"47\", \"48\", \"49\", \"50\", \"51\", \"52\", \"53\", \"54\", \"55\", \"56\", \"57\", \"58\", \"59\", \"62\", \"63\"], \"mode\": \"markers\", \"name\": \"f1_score_macro\", \"stepped\": false, \"type\": \"scatter\", \"data\": [0.6639171660976787, 0.6561804294506011, 0.45603541964656447, 0.6705975760529128, 0.45603541964656447, 0.5385072923330696, 0.5272017405621439, 0.45603541964656447, 0.45603541964656447, 0.6628046655168409, 0.6255130222030602, 0.624064041338328, 0.6381449381970093, 0.5680562052841053, 0.45603541964656447, 0.5706314048213782, 0.6413101760913618, 0.681460432316362, 0.6204867621852829, 0.67164997428334, 0.6393633088692922, 0.6870684780056187, 0.6867065604635202, 0.6716808012218392, 0.7060373596421984, 0.5785866843885545, 0.6399630651157537, 0.669487145699222, 0.6766727279031703, 0.5402956658344845, 0.61674203010514, 0.6307021237290026, 0.6662006866738913, 0.60582070577319, 0.6433137786943246, 0.7025968385225226, 0.5252281985409308, 0.5618380031144607, 0.5346181747245156, 0.6631799366253169, 0.45603541964656447, 0.7099995106031901, 0.6879338217440469, 0.6956752128336474, 0.5874641160990851, 0.45603541964656447, 0.6083860398050005, 0.6030427353251866, 0.6661906326216706, 0.6050759868278458, 0.6618532082069464, 0.6430203872629079, 0.641890945399773, 0.6937476023241005, 0.6718420831652991, 0.41463130001142245, 0.6576825699238805, 0.6540882853499961, 0.6680791244428969, 0.6481681716791889, 0.6940534588255118, 0.5906743933558972]}, {\"categories\": [\"0\", \"1\", \"2\", \"3\", \"4\", \"5\", \"6\", \"7\", \"8\", \"9\", \"10\", \"11\", \"12\", \"13\", \"14\", \"15\", \"16\", \"17\", \"18\", \"19\", \"20\", \"21\", \"22\", \"23\", \"24\", \"25\", \"26\", \"27\", \"28\", \"29\", \"30\", \"31\", \"32\", \"33\", \"34\", \"35\", \"36\", \"37\", \"38\", \"39\", \"40\", \"41\", \"42\", \"43\", \"44\", \"45\", \"46\", \"47\", \"48\", \"49\", \"50\", \"51\", \"52\", \"53\", \"54\", \"55\", \"56\", \"57\", \"58\", \"59\", \"62\", \"63\"], \"mode\": \"lines\", \"name\": \"f1_score_macro_max\", \"stepped\": true, \"type\": \"scatter\", \"data\": [0.6639171660976787, 0.6639171660976787, 0.6639171660976787, 0.6705975760529128, 0.6705975760529128, 0.6705975760529128, 0.6705975760529128, 0.6705975760529128, 0.6705975760529128, 0.6705975760529128, 0.6705975760529128, 0.6705975760529128, 0.6705975760529128, 0.6705975760529128, 0.6705975760529128, 0.6705975760529128, 0.6705975760529128, 0.681460432316362, 0.681460432316362, 0.681460432316362, 0.681460432316362, 0.6870684780056187, 0.6870684780056187, 0.6870684780056187, 0.7060373596421984, 0.7060373596421984, 0.7060373596421984, 0.7060373596421984, 0.7060373596421984, 0.7060373596421984, 0.7060373596421984, 0.7060373596421984, 0.7060373596421984, 0.7060373596421984, 0.7060373596421984, 0.7060373596421984, 0.7060373596421984, 0.7060373596421984, 0.7060373596421984, 0.7060373596421984, 0.7060373596421984, 0.7099995106031901, 0.7099995106031901, 0.7099995106031901, 0.7099995106031901, 0.7099995106031901, 0.7099995106031901, 0.7099995106031901, 0.7099995106031901, 0.7099995106031901, 0.7099995106031901, 0.7099995106031901, 0.7099995106031901, 0.7099995106031901, 0.7099995106031901, 0.7099995106031901, 0.7099995106031901, 0.7099995106031901, 0.7099995106031901, 0.7099995106031901, 0.7099995106031901, 0.7099995106031901]}], \"norm_macro_recall\": [{\"categories\": [\"0\", \"1\", \"2\", \"3\", \"4\", \"5\", \"6\", \"7\", \"8\", \"9\", \"10\", \"11\", \"12\", \"13\", \"14\", \"15\", \"16\", \"17\", \"18\", \"19\", \"20\", \"21\", \"22\", \"23\", \"24\", \"25\", \"26\", \"27\", \"28\", \"29\", \"30\", \"31\", \"32\", \"33\", \"34\", \"35\", \"36\", \"37\", \"38\", \"39\", \"40\", \"41\", \"42\", \"43\", \"44\", \"45\", \"46\", \"47\", \"48\", \"49\", \"50\", \"51\", \"52\", \"53\", \"54\", \"55\", \"56\", \"57\", \"58\", \"59\", \"62\", \"63\"], \"mode\": \"markers\", \"name\": \"norm_macro_recall\", \"stepped\": false, \"type\": \"scatter\", \"data\": [0.2650347625656882, 0.24519082545965648, 0.0, 0.4156695640045392, 0.0, 0.10029496629978958, 0.07436494883040937, 0.0, 0.0, 0.4584184829754353, 0.3834297671845174, 0.4244613154066393, 0.4357624671490267, 0.12037020985823235, 0.0, 0.15754242687288084, 0.39553605673891185, 0.4383248671538068, 0.41826580272203645, 0.42632263123700176, 0.22162412609427426, 0.3092476135460073, 0.31049284151540213, 0.2787655735390656, 0.3589246545230356, 0.3256872959514024, 0.22333853882439839, 0.43749294656707943, 0.43567792847117326, 0.08510611840952684, 0.18630091538631843, 0.20906117012390077, 0.27313511643433924, 0.1730111161135385, 0.23282613886759118, 0.33220289539885817, 0.07005295594361764, 0.11285230493054317, 0.0828189938046271, 0.47948220429362853, 0.0, 0.4165867436798469, 0.3012067835036527, 0.508397791935691, 0.14553245778397925, 0.0, 0.17153651545685888, 0.16603791434577456, 0.27392188811801804, 0.16848454071281355, 0.39677066074752587, 0.2303095875182127, 0.4020205837140768, 0.40167733526893484, 0.4281623456074749, 0.09279159275342544, 0.4532104771355387, 0.24552452011186662, 0.27072423001317, 0.23978903166128435, 0.30887824964637584, 0.16911326476793248]}, {\"categories\": [\"0\", \"1\", \"2\", \"3\", \"4\", \"5\", \"6\", \"7\", \"8\", \"9\", \"10\", \"11\", \"12\", \"13\", \"14\", \"15\", \"16\", \"17\", \"18\", \"19\", \"20\", \"21\", \"22\", \"23\", \"24\", \"25\", \"26\", \"27\", \"28\", \"29\", \"30\", \"31\", \"32\", \"33\", \"34\", \"35\", \"36\", \"37\", \"38\", \"39\", \"40\", \"41\", \"42\", \"43\", \"44\", \"45\", \"46\", \"47\", \"48\", \"49\", \"50\", \"51\", \"52\", \"53\", \"54\", \"55\", \"56\", \"57\", \"58\", \"59\", \"62\", \"63\"], \"mode\": \"lines\", \"name\": \"norm_macro_recall_max\", \"stepped\": true, \"type\": \"scatter\", \"data\": [0.2650347625656882, 0.2650347625656882, 0.2650347625656882, 0.4156695640045392, 0.4156695640045392, 0.4156695640045392, 0.4156695640045392, 0.4156695640045392, 0.4156695640045392, 0.4584184829754353, 0.4584184829754353, 0.4584184829754353, 0.4584184829754353, 0.4584184829754353, 0.4584184829754353, 0.4584184829754353, 0.4584184829754353, 0.4584184829754353, 0.4584184829754353, 0.4584184829754353, 0.4584184829754353, 0.4584184829754353, 0.4584184829754353, 0.4584184829754353, 0.4584184829754353, 0.4584184829754353, 0.4584184829754353, 0.4584184829754353, 0.4584184829754353, 0.4584184829754353, 0.4584184829754353, 0.4584184829754353, 0.4584184829754353, 0.4584184829754353, 0.4584184829754353, 0.4584184829754353, 0.4584184829754353, 0.4584184829754353, 0.4584184829754353, 0.47948220429362853, 0.47948220429362853, 0.47948220429362853, 0.47948220429362853, 0.508397791935691, 0.508397791935691, 0.508397791935691, 0.508397791935691, 0.508397791935691, 0.508397791935691, 0.508397791935691, 0.508397791935691, 0.508397791935691, 0.508397791935691, 0.508397791935691, 0.508397791935691, 0.508397791935691, 0.508397791935691, 0.508397791935691, 0.508397791935691, 0.508397791935691, 0.508397791935691, 0.508397791935691]}], \"balanced_accuracy\": [{\"categories\": [\"0\", \"1\", \"2\", \"3\", \"4\", \"5\", \"6\", \"7\", \"8\", \"9\", \"10\", \"11\", \"12\", \"13\", \"14\", \"15\", \"16\", \"17\", \"18\", \"19\", \"20\", \"21\", \"22\", \"23\", \"24\", \"25\", \"26\", \"27\", \"28\", \"29\", \"30\", \"31\", \"32\", \"33\", \"34\", \"35\", \"36\", \"37\", \"38\", \"39\", \"40\", \"41\", \"42\", \"43\", \"44\", \"45\", \"46\", \"47\", \"48\", \"49\", \"50\", \"51\", \"52\", \"53\", \"54\", \"55\", \"56\", \"57\", \"58\", \"59\", \"62\", \"63\"], \"mode\": \"markers\", \"name\": \"balanced_accuracy\", \"stepped\": false, \"type\": \"scatter\", \"data\": [0.6325173812828442, 0.6225954127298282, 0.5, 0.7078347820022697, 0.5, 0.5501474831498948, 0.5371824744152047, 0.5, 0.5, 0.7292092414877176, 0.6917148835922587, 0.7122306577033196, 0.7178812335745134, 0.5601851049291162, 0.5, 0.5787712134364404, 0.697768028369456, 0.7191624335769033, 0.7091329013610183, 0.7131613156185008, 0.6108120630471372, 0.6546238067730036, 0.655246420757701, 0.6393827867695328, 0.6794623272615179, 0.6628436479757012, 0.6116692694121992, 0.7187464732835396, 0.7178389642355867, 0.5425530592047634, 0.5931504576931592, 0.6045305850619503, 0.6365675582171696, 0.5865055580567693, 0.6164130694337956, 0.666101447699429, 0.5350264779718088, 0.5564261524652716, 0.5414094969023135, 0.7397411021468143, 0.5, 0.7082933718399235, 0.6506033917518264, 0.7541988959678456, 0.5727662288919897, 0.5, 0.5857682577284294, 0.5830189571728872, 0.636960944059009, 0.5842422703564067, 0.6983853303737628, 0.6151547937591063, 0.7010102918570384, 0.7008386676344674, 0.7140811728037375, 0.5463957963767128, 0.7266052385677695, 0.6227622600559333, 0.635362115006585, 0.6198945158306421, 0.6544391248231879, 0.5845566323839663]}, {\"categories\": [\"0\", \"1\", \"2\", \"3\", \"4\", \"5\", \"6\", \"7\", \"8\", \"9\", \"10\", \"11\", \"12\", \"13\", \"14\", \"15\", \"16\", \"17\", \"18\", \"19\", \"20\", \"21\", \"22\", \"23\", \"24\", \"25\", \"26\", \"27\", \"28\", \"29\", \"30\", \"31\", \"32\", \"33\", \"34\", \"35\", \"36\", \"37\", \"38\", \"39\", \"40\", \"41\", \"42\", \"43\", \"44\", \"45\", \"46\", \"47\", \"48\", \"49\", \"50\", \"51\", \"52\", \"53\", \"54\", \"55\", \"56\", \"57\", \"58\", \"59\", \"62\", \"63\"], \"mode\": \"lines\", \"name\": \"balanced_accuracy_max\", \"stepped\": true, \"type\": \"scatter\", \"data\": [0.6325173812828442, 0.6325173812828442, 0.6325173812828442, 0.7078347820022697, 0.7078347820022697, 0.7078347820022697, 0.7078347820022697, 0.7078347820022697, 0.7078347820022697, 0.7292092414877176, 0.7292092414877176, 0.7292092414877176, 0.7292092414877176, 0.7292092414877176, 0.7292092414877176, 0.7292092414877176, 0.7292092414877176, 0.7292092414877176, 0.7292092414877176, 0.7292092414877176, 0.7292092414877176, 0.7292092414877176, 0.7292092414877176, 0.7292092414877176, 0.7292092414877176, 0.7292092414877176, 0.7292092414877176, 0.7292092414877176, 0.7292092414877176, 0.7292092414877176, 0.7292092414877176, 0.7292092414877176, 0.7292092414877176, 0.7292092414877176, 0.7292092414877176, 0.7292092414877176, 0.7292092414877176, 0.7292092414877176, 0.7292092414877176, 0.7397411021468143, 0.7397411021468143, 0.7397411021468143, 0.7397411021468143, 0.7541988959678456, 0.7541988959678456, 0.7541988959678456, 0.7541988959678456, 0.7541988959678456, 0.7541988959678456, 0.7541988959678456, 0.7541988959678456, 0.7541988959678456, 0.7541988959678456, 0.7541988959678456, 0.7541988959678456, 0.7541988959678456, 0.7541988959678456, 0.7541988959678456, 0.7541988959678456, 0.7541988959678456, 0.7541988959678456, 0.7541988959678456]}], \"f1_score_weighted\": [{\"categories\": [\"0\", \"1\", \"2\", \"3\", \"4\", \"5\", \"6\", \"7\", \"8\", \"9\", \"10\", \"11\", \"12\", \"13\", \"14\", \"15\", \"16\", \"17\", \"18\", \"19\", \"20\", \"21\", \"22\", \"23\", \"24\", \"25\", \"26\", \"27\", \"28\", \"29\", \"30\", \"31\", \"32\", \"33\", \"34\", \"35\", \"36\", \"37\", \"38\", \"39\", \"40\", \"41\", \"42\", \"43\", \"44\", \"45\", \"46\", \"47\", \"48\", \"49\", \"50\", \"51\", \"52\", \"53\", \"54\", \"55\", \"56\", \"57\", \"58\", \"59\", \"62\", \"63\"], \"mode\": \"markers\", \"name\": \"f1_score_weighted\", \"stepped\": false, \"type\": \"scatter\", \"data\": [0.8384158202410876, 0.8377645988229133, 0.7654801811150342, 0.8062689365087433, 0.7654801811150342, 0.7884974528036282, 0.79118272788616, 0.7654801811150342, 0.7654801811150342, 0.7883562245958173, 0.7580957927351142, 0.7490761965560769, 0.7654873811586624, 0.8044212073700165, 0.7654801811150342, 0.7994472325115711, 0.7749515106422555, 0.8144957132792895, 0.7465152110583176, 0.8062252927095102, 0.8302764129401222, 0.8468323296124465, 0.8480655275325877, 0.8440323578420148, 0.8545460455881324, 0.7110570271970122, 0.8303137148187891, 0.8009548692626993, 0.8092692048176717, 0.7932715706691142, 0.8248189217009767, 0.8282173972448946, 0.8386501909139786, 0.8186352647332631, 0.8316461606813057, 0.854793438831696, 0.7915197486057488, 0.803198159465466, 0.7920207872489169, 0.7852243682767164, 0.7654801811150342, 0.8460089280649447, 0.851898654723777, 0.8152221111339305, 0.8130330810636389, 0.7654801811150342, 0.82280779274041, 0.8192689835375289, 0.8396441429652219, 0.8197901961365283, 0.8015431981087323, 0.8297920891884993, 0.7708904899295697, 0.8339522819572635, 0.805918375026841, 0.532345318016289, 0.7844745073842622, 0.8354964733096116, 0.8404606751085553, 0.8307593315369667, 0.8529333888324526, 0.8127086291369278]}, {\"categories\": [\"0\", \"1\", \"2\", \"3\", \"4\", \"5\", \"6\", \"7\", \"8\", \"9\", \"10\", \"11\", \"12\", \"13\", \"14\", \"15\", \"16\", \"17\", \"18\", \"19\", \"20\", \"21\", \"22\", \"23\", \"24\", \"25\", \"26\", \"27\", \"28\", \"29\", \"30\", \"31\", \"32\", \"33\", \"34\", \"35\", \"36\", \"37\", \"38\", \"39\", \"40\", \"41\", \"42\", \"43\", \"44\", \"45\", \"46\", \"47\", \"48\", \"49\", \"50\", \"51\", \"52\", \"53\", \"54\", \"55\", \"56\", \"57\", \"58\", \"59\", \"62\", \"63\"], \"mode\": \"lines\", \"name\": \"f1_score_weighted_max\", \"stepped\": true, \"type\": \"scatter\", \"data\": [0.8384158202410876, 0.8384158202410876, 0.8384158202410876, 0.8384158202410876, 0.8384158202410876, 0.8384158202410876, 0.8384158202410876, 0.8384158202410876, 0.8384158202410876, 0.8384158202410876, 0.8384158202410876, 0.8384158202410876, 0.8384158202410876, 0.8384158202410876, 0.8384158202410876, 0.8384158202410876, 0.8384158202410876, 0.8384158202410876, 0.8384158202410876, 0.8384158202410876, 0.8384158202410876, 0.8468323296124465, 0.8480655275325877, 0.8480655275325877, 0.8545460455881324, 0.8545460455881324, 0.8545460455881324, 0.8545460455881324, 0.8545460455881324, 0.8545460455881324, 0.8545460455881324, 0.8545460455881324, 0.8545460455881324, 0.8545460455881324, 0.8545460455881324, 0.854793438831696, 0.854793438831696, 0.854793438831696, 0.854793438831696, 0.854793438831696, 0.854793438831696, 0.854793438831696, 0.854793438831696, 0.854793438831696, 0.854793438831696, 0.854793438831696, 0.854793438831696, 0.854793438831696, 0.854793438831696, 0.854793438831696, 0.854793438831696, 0.854793438831696, 0.854793438831696, 0.854793438831696, 0.854793438831696, 0.854793438831696, 0.854793438831696, 0.854793438831696, 0.854793438831696, 0.854793438831696, 0.854793438831696, 0.854793438831696]}], \"precision_score_macro\": [{\"categories\": [\"0\", \"1\", \"2\", \"3\", \"4\", \"5\", \"6\", \"7\", \"8\", \"9\", \"10\", \"11\", \"12\", \"13\", \"14\", \"15\", \"16\", \"17\", \"18\", \"19\", \"20\", \"21\", \"22\", \"23\", \"24\", \"25\", \"26\", \"27\", \"28\", \"29\", \"30\", \"31\", \"32\", \"33\", \"34\", \"35\", \"36\", \"37\", \"38\", \"39\", \"40\", \"41\", \"42\", \"43\", \"44\", \"45\", \"46\", \"47\", \"48\", \"49\", \"50\", \"51\", \"52\", \"53\", \"54\", \"55\", \"56\", \"57\", \"58\", \"59\", \"62\", \"63\"], \"mode\": \"markers\", \"name\": \"precision_score_macro\", \"stepped\": false, \"type\": \"scatter\", \"data\": [0.7773201030864005, 0.8241139956479303, 0.41938775510204085, 0.6550926473486361, 0.41938775510204085, 0.7084324877558634, 0.9076118918280587, 0.41938775510204085, 0.41938775510204085, 0.6479652606718733, 0.6210997819677164, 0.6249652981963967, 0.6315025948261459, 0.8123003696626828, 0.41938775510204085, 0.5747574634751562, 0.6309419556965101, 0.6656853511009764, 0.6218554201406631, 0.6576526590603491, 0.7927527464026651, 0.7884879640710547, 0.792054808238413, 0.8183921177109141, 0.7707189062705535, 0.5914519915820042, 0.7699731504237194, 0.658857957438898, 0.6623019992496468, 0.7182322421478501, 0.832852057323937, 0.8059990831249255, 0.762552570734913, 0.8184005338385226, 0.772152285356655, 0.8044303716473055, 0.8267102659657695, 0.837084725688458, 0.742785046467176, 0.6501523297128641, 0.41938775510204085, 0.71859393954593, 0.8322784920574279, 0.6764908976407934, 0.8350081635562459, 0.41938775510204085, 0.8730254540860599, 0.8461064048502032, 0.783773975109358, 0.8198334227519805, 0.6483363264562567, 0.7635086889611624, 0.6454278816250387, 0.6940088218274985, 0.6576484241909911, 0.5166206185742197, 0.6440697267231454, 0.800787880146436, 0.791479756630132, 0.7691382799558015, 0.8624115608886221, 0.6871418018169456]}, {\"categories\": [\"0\", \"1\", \"2\", \"3\", \"4\", \"5\", \"6\", \"7\", \"8\", \"9\", \"10\", \"11\", \"12\", \"13\", \"14\", \"15\", \"16\", \"17\", \"18\", \"19\", \"20\", \"21\", \"22\", \"23\", \"24\", \"25\", \"26\", \"27\", \"28\", \"29\", \"30\", \"31\", \"32\", \"33\", \"34\", \"35\", \"36\", \"37\", \"38\", \"39\", \"40\", \"41\", \"42\", \"43\", \"44\", \"45\", \"46\", \"47\", \"48\", \"49\", \"50\", \"51\", \"52\", \"53\", \"54\", \"55\", \"56\", \"57\", \"58\", \"59\", \"62\", \"63\"], \"mode\": \"lines\", \"name\": \"precision_score_macro_max\", \"stepped\": true, \"type\": \"scatter\", \"data\": [0.7773201030864005, 0.8241139956479303, 0.8241139956479303, 0.8241139956479303, 0.8241139956479303, 0.8241139956479303, 0.9076118918280587, 0.9076118918280587, 0.9076118918280587, 0.9076118918280587, 0.9076118918280587, 0.9076118918280587, 0.9076118918280587, 0.9076118918280587, 0.9076118918280587, 0.9076118918280587, 0.9076118918280587, 0.9076118918280587, 0.9076118918280587, 0.9076118918280587, 0.9076118918280587, 0.9076118918280587, 0.9076118918280587, 0.9076118918280587, 0.9076118918280587, 0.9076118918280587, 0.9076118918280587, 0.9076118918280587, 0.9076118918280587, 0.9076118918280587, 0.9076118918280587, 0.9076118918280587, 0.9076118918280587, 0.9076118918280587, 0.9076118918280587, 0.9076118918280587, 0.9076118918280587, 0.9076118918280587, 0.9076118918280587, 0.9076118918280587, 0.9076118918280587, 0.9076118918280587, 0.9076118918280587, 0.9076118918280587, 0.9076118918280587, 0.9076118918280587, 0.9076118918280587, 0.9076118918280587, 0.9076118918280587, 0.9076118918280587, 0.9076118918280587, 0.9076118918280587, 0.9076118918280587, 0.9076118918280587, 0.9076118918280587, 0.9076118918280587, 0.9076118918280587, 0.9076118918280587, 0.9076118918280587, 0.9076118918280587, 0.9076118918280587, 0.9076118918280587]}], \"log_loss\": [{\"categories\": [\"0\", \"1\", \"2\", \"3\", \"4\", \"5\", \"6\", \"7\", \"8\", \"9\", \"10\", \"11\", \"12\", \"13\", \"14\", \"15\", \"16\", \"17\", \"18\", \"19\", \"20\", \"21\", \"22\", \"23\", \"24\", \"25\", \"26\", \"27\", \"28\", \"29\", \"30\", \"31\", \"32\", \"33\", \"34\", \"35\", \"36\", \"37\", \"38\", \"39\", \"40\", \"41\", \"42\", \"43\", \"44\", \"45\", \"46\", \"47\", \"48\", \"49\", \"50\", \"51\", \"52\", \"53\", \"54\", \"55\", \"56\", \"57\", \"58\", \"59\", \"62\", \"63\"], \"mode\": \"markers\", \"name\": \"log_loss\", \"stepped\": false, \"type\": \"scatter\", \"data\": [0.44203379102002494, 0.35148722993020576, 0.3898228459677607, 0.5545668299054958, 0.398673402768064, 0.3790809941643946, 0.36467063563826224, 0.3874600451909259, 0.39531288630526895, 0.5644348604092414, 0.5917531141396999, 0.5757669060690088, 0.6100462026874831, 0.43652852663734826, 0.3995565591546084, 0.3972238775291116, 0.5500763207161501, 0.5550023333997501, 0.6365148490070796, 0.591912864627753, 0.36205815550826803, 0.3623894761857355, 0.3481320023178821, 0.3471190734248996, 0.34521450219733363, 0.6774145395596293, 0.3626544308322483, 0.8018280607231525, 0.5885570456562883, 0.3813401895424602, 0.34534669367442256, 0.3741369654918329, 0.40991934837858074, 0.4158165241605024, 0.35283159232178524, 0.34182672760189836, 0.3933931796392545, 0.39627222377476673, 0.406163558238806, 0.49445788048956274, 0.4431244469271121, 0.43546125734456603, 0.33781497337903116, 0.4374241915239995, 0.3583687734793496, 0.43991214335258133, 0.3544408826504092, 0.36476110226188396, 0.35561555705757214, 0.35427542179144766, 2.1595244452917566, 0.35443802431145055, 0.8556208480462812, 0.6553829375269601, 0.5765034881189681, 0.8034449760763961, 0.6001651685906273, 0.35646999306153015, 0.355107088623786, 0.3641614827144676, 0.3638084448547915, 0.3663621530793599]}, {\"categories\": [\"0\", \"1\", \"2\", \"3\", \"4\", \"5\", \"6\", \"7\", \"8\", \"9\", \"10\", \"11\", \"12\", \"13\", \"14\", \"15\", \"16\", \"17\", \"18\", \"19\", \"20\", \"21\", \"22\", \"23\", \"24\", \"25\", \"26\", \"27\", \"28\", \"29\", \"30\", \"31\", \"32\", \"33\", \"34\", \"35\", \"36\", \"37\", \"38\", \"39\", \"40\", \"41\", \"42\", \"43\", \"44\", \"45\", \"46\", \"47\", \"48\", \"49\", \"50\", \"51\", \"52\", \"53\", \"54\", \"55\", \"56\", \"57\", \"58\", \"59\", \"62\", \"63\"], \"mode\": \"lines\", \"name\": \"log_loss_min\", \"stepped\": true, \"type\": \"scatter\", \"data\": [0.44203379102002494, 0.35148722993020576, 0.35148722993020576, 0.35148722993020576, 0.35148722993020576, 0.35148722993020576, 0.35148722993020576, 0.35148722993020576, 0.35148722993020576, 0.35148722993020576, 0.35148722993020576, 0.35148722993020576, 0.35148722993020576, 0.35148722993020576, 0.35148722993020576, 0.35148722993020576, 0.35148722993020576, 0.35148722993020576, 0.35148722993020576, 0.35148722993020576, 0.35148722993020576, 0.35148722993020576, 0.3481320023178821, 0.3471190734248996, 0.34521450219733363, 0.34521450219733363, 0.34521450219733363, 0.34521450219733363, 0.34521450219733363, 0.34521450219733363, 0.34521450219733363, 0.34521450219733363, 0.34521450219733363, 0.34521450219733363, 0.34521450219733363, 0.34182672760189836, 0.34182672760189836, 0.34182672760189836, 0.34182672760189836, 0.34182672760189836, 0.34182672760189836, 0.34182672760189836, 0.33781497337903116, 0.33781497337903116, 0.33781497337903116, 0.33781497337903116, 0.33781497337903116, 0.33781497337903116, 0.33781497337903116, 0.33781497337903116, 0.33781497337903116, 0.33781497337903116, 0.33781497337903116, 0.33781497337903116, 0.33781497337903116, 0.33781497337903116, 0.33781497337903116, 0.33781497337903116, 0.33781497337903116, 0.33781497337903116, 0.33781497337903116, 0.33781497337903116]}], \"recall_score_micro\": [{\"categories\": [\"0\", \"1\", \"2\", \"3\", \"4\", \"5\", \"6\", \"7\", \"8\", \"9\", \"10\", \"11\", \"12\", \"13\", \"14\", \"15\", \"16\", \"17\", \"18\", \"19\", \"20\", \"21\", \"22\", \"23\", \"24\", \"25\", \"26\", \"27\", \"28\", \"29\", \"30\", \"31\", \"32\", \"33\", \"34\", \"35\", \"36\", \"37\", \"38\", \"39\", \"40\", \"41\", \"42\", \"43\", \"44\", \"45\", \"46\", \"47\", \"48\", \"49\", \"50\", \"51\", \"52\", \"53\", \"54\", \"55\", \"56\", \"57\", \"58\", \"59\", \"62\", \"63\"], \"mode\": \"markers\", \"name\": \"recall_score_micro\", \"stepped\": false, \"type\": \"scatter\", \"data\": [0.8619047619047618, 0.8666666666666666, 0.8387755102040817, 0.792517006802721, 0.8387755102040817, 0.8380952380952381, 0.8496598639455781, 0.8387755102040817, 0.8387755102040817, 0.7646258503401361, 0.727891156462585, 0.7149659863945579, 0.7353741496598639, 0.8510204081632654, 0.8387755102040817, 0.8360544217687075, 0.7503401360544217, 0.8027210884353743, 0.7108843537414966, 0.7904761904761906, 0.8605442176870749, 0.8666666666666666, 0.8687074829931973, 0.8693877551020408, 0.8687074829931973, 0.6687074829931972, 0.858503401360544, 0.7816326530612244, 0.7931972789115647, 0.8435374149659864, 0.8625850340136054, 0.8619047619047618, 0.8612244897959183, 0.8585034013605443, 0.8591836734693878, 0.8734693877551021, 0.8482993197278912, 0.8530612244897959, 0.8482993197278912, 0.7591836734693878, 0.8387755102040817, 0.848299319727891, 0.8755102040816327, 0.7972789115646258, 0.8564625850340135, 0.8387755102040817, 0.863265306122449, 0.8598639455782313, 0.8625850340136054, 0.8591836734693878, 0.7863945578231293, 0.8571428571428571, 0.7482993197278912, 0.8326530612244898, 0.7897959183673469, 0.519047619047619, 0.7598639455782312, 0.8639455782312926, 0.8646258503401361, 0.8571428571428571, 0.8775510204081632, 0.8585034013605443]}, {\"categories\": [\"0\", \"1\", \"2\", \"3\", \"4\", \"5\", \"6\", \"7\", \"8\", \"9\", \"10\", \"11\", \"12\", \"13\", \"14\", \"15\", \"16\", \"17\", \"18\", \"19\", \"20\", \"21\", \"22\", \"23\", \"24\", \"25\", \"26\", \"27\", \"28\", \"29\", \"30\", \"31\", \"32\", \"33\", \"34\", \"35\", \"36\", \"37\", \"38\", \"39\", \"40\", \"41\", \"42\", \"43\", \"44\", \"45\", \"46\", \"47\", \"48\", \"49\", \"50\", \"51\", \"52\", \"53\", \"54\", \"55\", \"56\", \"57\", \"58\", \"59\", \"62\", \"63\"], \"mode\": \"lines\", \"name\": \"recall_score_micro_max\", \"stepped\": true, \"type\": \"scatter\", \"data\": [0.8619047619047618, 0.8666666666666666, 0.8666666666666666, 0.8666666666666666, 0.8666666666666666, 0.8666666666666666, 0.8666666666666666, 0.8666666666666666, 0.8666666666666666, 0.8666666666666666, 0.8666666666666666, 0.8666666666666666, 0.8666666666666666, 0.8666666666666666, 0.8666666666666666, 0.8666666666666666, 0.8666666666666666, 0.8666666666666666, 0.8666666666666666, 0.8666666666666666, 0.8666666666666666, 0.8666666666666666, 0.8687074829931973, 0.8693877551020408, 0.8693877551020408, 0.8693877551020408, 0.8693877551020408, 0.8693877551020408, 0.8693877551020408, 0.8693877551020408, 0.8693877551020408, 0.8693877551020408, 0.8693877551020408, 0.8693877551020408, 0.8693877551020408, 0.8734693877551021, 0.8734693877551021, 0.8734693877551021, 0.8734693877551021, 0.8734693877551021, 0.8734693877551021, 0.8734693877551021, 0.8755102040816327, 0.8755102040816327, 0.8755102040816327, 0.8755102040816327, 0.8755102040816327, 0.8755102040816327, 0.8755102040816327, 0.8755102040816327, 0.8755102040816327, 0.8755102040816327, 0.8755102040816327, 0.8755102040816327, 0.8755102040816327, 0.8755102040816327, 0.8755102040816327, 0.8755102040816327, 0.8755102040816327, 0.8755102040816327, 0.8775510204081632, 0.8775510204081632]}], \"average_precision_score_macro\": [{\"categories\": [\"0\", \"1\", \"2\", \"3\", \"4\", \"5\", \"6\", \"7\", \"8\", \"9\", \"10\", \"11\", \"12\", \"13\", \"14\", \"15\", \"16\", \"17\", \"18\", \"19\", \"20\", \"21\", \"22\", \"23\", \"24\", \"25\", \"26\", \"27\", \"28\", \"29\", \"30\", \"31\", \"32\", \"33\", \"34\", \"35\", \"36\", \"37\", \"38\", \"39\", \"40\", \"41\", \"42\", \"43\", \"44\", \"45\", \"46\", \"47\", \"48\", \"49\", \"50\", \"51\", \"52\", \"53\", \"54\", \"55\", \"56\", \"57\", \"58\", \"59\", \"62\", \"63\"], \"mode\": \"markers\", \"name\": \"average_precision_score_macro\", \"stepped\": false, \"type\": \"scatter\", \"data\": [0.7420786179357055, 0.7468963270272365, 0.694937871047515, 0.7085315766017024, 0.7050676785760934, 0.6882714109868838, 0.7334887671370183, 0.7084389747818931, 0.7002032695481476, 0.7224011565939532, 0.6801259918122602, 0.6943132931531747, 0.7227626769888665, 0.7161846921319889, 0.6731884624991121, 0.6432785593571204, 0.6845834300357142, 0.7382126633074563, 0.7069188157756958, 0.7262652391518325, 0.7229424443478132, 0.7445870038640301, 0.750381898811973, 0.7480523452175036, 0.7633553565966587, 0.6470350594318044, 0.7213175756107029, 0.7234982266411748, 0.7379483987773184, 0.684931902981419, 0.7612280502126961, 0.7222301029586087, 0.7390508046623667, 0.7372328333278781, 0.7320891946556014, 0.7567267462530402, 0.6665443165364631, 0.7183644105918278, 0.686174591504695, 0.7590287908176008, 0.5555275708315881, 0.7536510436537214, 0.763760942947847, 0.7713377570125737, 0.7393812922653533, 0.5486796801936531, 0.7486608028451445, 0.7387350834074166, 0.7374822139294135, 0.7456015609277472, 0.6764749167511288, 0.7360357276947254, 0.7312497722638505, 0.7338373031123467, 0.7270035100954497, 0.5697279020283401, 0.7331476953138816, 0.750781656948577, 0.7508976521537976, 0.7387535366264399, 0.7878989981749115, 0.7843862041670527]}, {\"categories\": [\"0\", \"1\", \"2\", \"3\", \"4\", \"5\", \"6\", \"7\", \"8\", \"9\", \"10\", \"11\", \"12\", \"13\", \"14\", \"15\", \"16\", \"17\", \"18\", \"19\", \"20\", \"21\", \"22\", \"23\", \"24\", \"25\", \"26\", \"27\", \"28\", \"29\", \"30\", \"31\", \"32\", \"33\", \"34\", \"35\", \"36\", \"37\", \"38\", \"39\", \"40\", \"41\", \"42\", \"43\", \"44\", \"45\", \"46\", \"47\", \"48\", \"49\", \"50\", \"51\", \"52\", \"53\", \"54\", \"55\", \"56\", \"57\", \"58\", \"59\", \"62\", \"63\"], \"mode\": \"lines\", \"name\": \"average_precision_score_macro_max\", \"stepped\": true, \"type\": \"scatter\", \"data\": [0.7420786179357055, 0.7468963270272365, 0.7468963270272365, 0.7468963270272365, 0.7468963270272365, 0.7468963270272365, 0.7468963270272365, 0.7468963270272365, 0.7468963270272365, 0.7468963270272365, 0.7468963270272365, 0.7468963270272365, 0.7468963270272365, 0.7468963270272365, 0.7468963270272365, 0.7468963270272365, 0.7468963270272365, 0.7468963270272365, 0.7468963270272365, 0.7468963270272365, 0.7468963270272365, 0.7468963270272365, 0.750381898811973, 0.750381898811973, 0.7633553565966587, 0.7633553565966587, 0.7633553565966587, 0.7633553565966587, 0.7633553565966587, 0.7633553565966587, 0.7633553565966587, 0.7633553565966587, 0.7633553565966587, 0.7633553565966587, 0.7633553565966587, 0.7633553565966587, 0.7633553565966587, 0.7633553565966587, 0.7633553565966587, 0.7633553565966587, 0.7633553565966587, 0.7633553565966587, 0.763760942947847, 0.7713377570125737, 0.7713377570125737, 0.7713377570125737, 0.7713377570125737, 0.7713377570125737, 0.7713377570125737, 0.7713377570125737, 0.7713377570125737, 0.7713377570125737, 0.7713377570125737, 0.7713377570125737, 0.7713377570125737, 0.7713377570125737, 0.7713377570125737, 0.7713377570125737, 0.7713377570125737, 0.7713377570125737, 0.7878989981749115, 0.7878989981749115]}], \"recall_score_macro\": [{\"categories\": [\"0\", \"1\", \"2\", \"3\", \"4\", \"5\", \"6\", \"7\", \"8\", \"9\", \"10\", \"11\", \"12\", \"13\", \"14\", \"15\", \"16\", \"17\", \"18\", \"19\", \"20\", \"21\", \"22\", \"23\", \"24\", \"25\", \"26\", \"27\", \"28\", \"29\", \"30\", \"31\", \"32\", \"33\", \"34\", \"35\", \"36\", \"37\", \"38\", \"39\", \"40\", \"41\", \"42\", \"43\", \"44\", \"45\", \"46\", \"47\", \"48\", \"49\", \"50\", \"51\", \"52\", \"53\", \"54\", \"55\", \"56\", \"57\", \"58\", \"59\", \"62\", \"63\"], \"mode\": \"markers\", \"name\": \"recall_score_macro\", \"stepped\": false, \"type\": \"scatter\", \"data\": [0.6325173812828442, 0.6225954127298282, 0.5, 0.7078347820022697, 0.5, 0.5501474831498948, 0.5371824744152047, 0.5, 0.5, 0.7292092414877176, 0.6917148835922587, 0.7122306577033196, 0.7178812335745134, 0.5601851049291162, 0.5, 0.5787712134364404, 0.697768028369456, 0.7191624335769033, 0.7091329013610183, 0.7131613156185008, 0.6108120630471372, 0.6546238067730036, 0.655246420757701, 0.6393827867695328, 0.6794623272615179, 0.6628436479757012, 0.6116692694121992, 0.7187464732835396, 0.7178389642355867, 0.5425530592047634, 0.5931504576931592, 0.6045305850619503, 0.6365675582171696, 0.5865055580567693, 0.6164130694337956, 0.666101447699429, 0.5350264779718088, 0.5564261524652716, 0.5414094969023135, 0.7397411021468143, 0.5, 0.7082933718399235, 0.6506033917518264, 0.7541988959678456, 0.5727662288919897, 0.5, 0.5857682577284294, 0.5830189571728872, 0.636960944059009, 0.5842422703564067, 0.6983853303737628, 0.6151547937591063, 0.7010102918570384, 0.7008386676344674, 0.7140811728037375, 0.5463957963767128, 0.7266052385677695, 0.6227622600559333, 0.635362115006585, 0.6198945158306421, 0.6544391248231879, 0.5845566323839663]}, {\"categories\": [\"0\", \"1\", \"2\", \"3\", \"4\", \"5\", \"6\", \"7\", \"8\", \"9\", \"10\", \"11\", \"12\", \"13\", \"14\", \"15\", \"16\", \"17\", \"18\", \"19\", \"20\", \"21\", \"22\", \"23\", \"24\", \"25\", \"26\", \"27\", \"28\", \"29\", \"30\", \"31\", \"32\", \"33\", \"34\", \"35\", \"36\", \"37\", \"38\", \"39\", \"40\", \"41\", \"42\", \"43\", \"44\", \"45\", \"46\", \"47\", \"48\", \"49\", \"50\", \"51\", \"52\", \"53\", \"54\", \"55\", \"56\", \"57\", \"58\", \"59\", \"62\", \"63\"], \"mode\": \"lines\", \"name\": \"recall_score_macro_max\", \"stepped\": true, \"type\": \"scatter\", \"data\": [0.6325173812828442, 0.6325173812828442, 0.6325173812828442, 0.7078347820022697, 0.7078347820022697, 0.7078347820022697, 0.7078347820022697, 0.7078347820022697, 0.7078347820022697, 0.7292092414877176, 0.7292092414877176, 0.7292092414877176, 0.7292092414877176, 0.7292092414877176, 0.7292092414877176, 0.7292092414877176, 0.7292092414877176, 0.7292092414877176, 0.7292092414877176, 0.7292092414877176, 0.7292092414877176, 0.7292092414877176, 0.7292092414877176, 0.7292092414877176, 0.7292092414877176, 0.7292092414877176, 0.7292092414877176, 0.7292092414877176, 0.7292092414877176, 0.7292092414877176, 0.7292092414877176, 0.7292092414877176, 0.7292092414877176, 0.7292092414877176, 0.7292092414877176, 0.7292092414877176, 0.7292092414877176, 0.7292092414877176, 0.7292092414877176, 0.7397411021468143, 0.7397411021468143, 0.7397411021468143, 0.7397411021468143, 0.7541988959678456, 0.7541988959678456, 0.7541988959678456, 0.7541988959678456, 0.7541988959678456, 0.7541988959678456, 0.7541988959678456, 0.7541988959678456, 0.7541988959678456, 0.7541988959678456, 0.7541988959678456, 0.7541988959678456, 0.7541988959678456, 0.7541988959678456, 0.7541988959678456, 0.7541988959678456, 0.7541988959678456, 0.7541988959678456, 0.7541988959678456]}], \"AUC_weighted\": [{\"categories\": [\"0\", \"1\", \"2\", \"3\", \"4\", \"5\", \"6\", \"7\", \"8\", \"9\", \"10\", \"11\", \"12\", \"13\", \"14\", \"15\", \"16\", \"17\", \"18\", \"19\", \"20\", \"21\", \"22\", \"23\", \"24\", \"25\", \"26\", \"27\", \"28\", \"29\", \"30\", \"31\", \"32\", \"33\", \"34\", \"35\", \"36\", \"37\", \"38\", \"39\", \"40\", \"41\", \"42\", \"43\", \"44\", \"45\", \"46\", \"47\", \"48\", \"49\", \"50\", \"51\", \"52\", \"53\", \"54\", \"55\", \"56\", \"57\", \"58\", \"59\", \"62\", \"63\"], \"mode\": \"markers\", \"name\": \"AUC_weighted\", \"stepped\": false, \"type\": \"scatter\", \"data\": [0.7989155856183239, 0.7960196173171672, 0.7725352909842231, 0.7760048973470277, 0.7748987504556745, 0.7717411202516126, 0.796358861982197, 0.7849933166535762, 0.7780865538080632, 0.7943671366328919, 0.7532342233492988, 0.7765809653950314, 0.7854142155784556, 0.7770112441752852, 0.7415378912522209, 0.7429616515182289, 0.7663477138925818, 0.8035811092464934, 0.7714256367262842, 0.7946981784779155, 0.7840786331470596, 0.8004953622236245, 0.8032453557472584, 0.8067398839506577, 0.8184853798898966, 0.7196043515781143, 0.7851394019170613, 0.7956102190689857, 0.8028399334112691, 0.7610154999700393, 0.8187474971672823, 0.7929479020550394, 0.8080073832875442, 0.8070266441891855, 0.8032349995777952, 0.8152350725802993, 0.7278358324427815, 0.7780766163615758, 0.7478721836844594, 0.811783257746874, 0.5915137751782766, 0.8176870182216736, 0.8185843121737303, 0.8314676136267461, 0.8008326731516, 0.6074438152490282, 0.8081563160727445, 0.7972544508052355, 0.7986218004487451, 0.8051699861187857, 0.7631149526599359, 0.8019856274731614, 0.7884799145819512, 0.8010720130167377, 0.7959089110782173, 0.6251359624666037, 0.8000404207968623, 0.8069558355208628, 0.8085001995810108, 0.8002257777725144, 0.84267755042465, 0.8395383942778647]}, {\"categories\": [\"0\", \"1\", \"2\", \"3\", \"4\", \"5\", \"6\", \"7\", \"8\", \"9\", \"10\", \"11\", \"12\", \"13\", \"14\", \"15\", \"16\", \"17\", \"18\", \"19\", \"20\", \"21\", \"22\", \"23\", \"24\", \"25\", \"26\", \"27\", \"28\", \"29\", \"30\", \"31\", \"32\", \"33\", \"34\", \"35\", \"36\", \"37\", \"38\", \"39\", \"40\", \"41\", \"42\", \"43\", \"44\", \"45\", \"46\", \"47\", \"48\", \"49\", \"50\", \"51\", \"52\", \"53\", \"54\", \"55\", \"56\", \"57\", \"58\", \"59\", \"62\", \"63\"], \"mode\": \"lines\", \"name\": \"AUC_weighted_max\", \"stepped\": true, \"type\": \"scatter\", \"data\": [0.7989155856183239, 0.7989155856183239, 0.7989155856183239, 0.7989155856183239, 0.7989155856183239, 0.7989155856183239, 0.7989155856183239, 0.7989155856183239, 0.7989155856183239, 0.7989155856183239, 0.7989155856183239, 0.7989155856183239, 0.7989155856183239, 0.7989155856183239, 0.7989155856183239, 0.7989155856183239, 0.7989155856183239, 0.8035811092464934, 0.8035811092464934, 0.8035811092464934, 0.8035811092464934, 0.8035811092464934, 0.8035811092464934, 0.8067398839506577, 0.8184853798898966, 0.8184853798898966, 0.8184853798898966, 0.8184853798898966, 0.8184853798898966, 0.8184853798898966, 0.8187474971672823, 0.8187474971672823, 0.8187474971672823, 0.8187474971672823, 0.8187474971672823, 0.8187474971672823, 0.8187474971672823, 0.8187474971672823, 0.8187474971672823, 0.8187474971672823, 0.8187474971672823, 0.8187474971672823, 0.8187474971672823, 0.8314676136267461, 0.8314676136267461, 0.8314676136267461, 0.8314676136267461, 0.8314676136267461, 0.8314676136267461, 0.8314676136267461, 0.8314676136267461, 0.8314676136267461, 0.8314676136267461, 0.8314676136267461, 0.8314676136267461, 0.8314676136267461, 0.8314676136267461, 0.8314676136267461, 0.8314676136267461, 0.8314676136267461, 0.84267755042465, 0.84267755042465]}], \"recall_score_weighted\": [{\"categories\": [\"0\", \"1\", \"2\", \"3\", \"4\", \"5\", \"6\", \"7\", \"8\", \"9\", \"10\", \"11\", \"12\", \"13\", \"14\", \"15\", \"16\", \"17\", \"18\", \"19\", \"20\", \"21\", \"22\", \"23\", \"24\", \"25\", \"26\", \"27\", \"28\", \"29\", \"30\", \"31\", \"32\", \"33\", \"34\", \"35\", \"36\", \"37\", \"38\", \"39\", \"40\", \"41\", \"42\", \"43\", \"44\", \"45\", \"46\", \"47\", \"48\", \"49\", \"50\", \"51\", \"52\", \"53\", \"54\", \"55\", \"56\", \"57\", \"58\", \"59\", \"62\", \"63\"], \"mode\": \"markers\", \"name\": \"recall_score_weighted\", \"stepped\": false, \"type\": \"scatter\", \"data\": [0.8619047619047618, 0.8666666666666666, 0.8387755102040817, 0.792517006802721, 0.8387755102040817, 0.8380952380952381, 0.8496598639455781, 0.8387755102040817, 0.8387755102040817, 0.7646258503401361, 0.727891156462585, 0.7149659863945579, 0.7353741496598639, 0.8510204081632654, 0.8387755102040817, 0.8360544217687075, 0.7503401360544217, 0.8027210884353743, 0.7108843537414966, 0.7904761904761906, 0.8605442176870749, 0.8666666666666666, 0.8687074829931973, 0.8693877551020408, 0.8687074829931973, 0.6687074829931972, 0.858503401360544, 0.7816326530612244, 0.7931972789115647, 0.8435374149659864, 0.8625850340136054, 0.8619047619047618, 0.8612244897959183, 0.8585034013605443, 0.8591836734693878, 0.8734693877551021, 0.8482993197278912, 0.8530612244897959, 0.8482993197278912, 0.7591836734693878, 0.8387755102040817, 0.848299319727891, 0.8755102040816327, 0.7972789115646258, 0.8564625850340135, 0.8387755102040817, 0.863265306122449, 0.8598639455782313, 0.8625850340136054, 0.8591836734693878, 0.7863945578231293, 0.8571428571428571, 0.7482993197278912, 0.8326530612244898, 0.7897959183673469, 0.519047619047619, 0.7598639455782312, 0.8639455782312926, 0.8646258503401361, 0.8571428571428571, 0.8775510204081632, 0.8585034013605443]}, {\"categories\": [\"0\", \"1\", \"2\", \"3\", \"4\", \"5\", \"6\", \"7\", \"8\", \"9\", \"10\", \"11\", \"12\", \"13\", \"14\", \"15\", \"16\", \"17\", \"18\", \"19\", \"20\", \"21\", \"22\", \"23\", \"24\", \"25\", \"26\", \"27\", \"28\", \"29\", \"30\", \"31\", \"32\", \"33\", \"34\", \"35\", \"36\", \"37\", \"38\", \"39\", \"40\", \"41\", \"42\", \"43\", \"44\", \"45\", \"46\", \"47\", \"48\", \"49\", \"50\", \"51\", \"52\", \"53\", \"54\", \"55\", \"56\", \"57\", \"58\", \"59\", \"62\", \"63\"], \"mode\": \"lines\", \"name\": \"recall_score_weighted_max\", \"stepped\": true, \"type\": \"scatter\", \"data\": [0.8619047619047618, 0.8666666666666666, 0.8666666666666666, 0.8666666666666666, 0.8666666666666666, 0.8666666666666666, 0.8666666666666666, 0.8666666666666666, 0.8666666666666666, 0.8666666666666666, 0.8666666666666666, 0.8666666666666666, 0.8666666666666666, 0.8666666666666666, 0.8666666666666666, 0.8666666666666666, 0.8666666666666666, 0.8666666666666666, 0.8666666666666666, 0.8666666666666666, 0.8666666666666666, 0.8666666666666666, 0.8687074829931973, 0.8693877551020408, 0.8693877551020408, 0.8693877551020408, 0.8693877551020408, 0.8693877551020408, 0.8693877551020408, 0.8693877551020408, 0.8693877551020408, 0.8693877551020408, 0.8693877551020408, 0.8693877551020408, 0.8693877551020408, 0.8734693877551021, 0.8734693877551021, 0.8734693877551021, 0.8734693877551021, 0.8734693877551021, 0.8734693877551021, 0.8734693877551021, 0.8755102040816327, 0.8755102040816327, 0.8755102040816327, 0.8755102040816327, 0.8755102040816327, 0.8755102040816327, 0.8755102040816327, 0.8755102040816327, 0.8755102040816327, 0.8755102040816327, 0.8755102040816327, 0.8755102040816327, 0.8755102040816327, 0.8755102040816327, 0.8755102040816327, 0.8755102040816327, 0.8755102040816327, 0.8755102040816327, 0.8775510204081632, 0.8775510204081632]}], \"precision_score_micro\": [{\"categories\": [\"0\", \"1\", \"2\", \"3\", \"4\", \"5\", \"6\", \"7\", \"8\", \"9\", \"10\", \"11\", \"12\", \"13\", \"14\", \"15\", \"16\", \"17\", \"18\", \"19\", \"20\", \"21\", \"22\", \"23\", \"24\", \"25\", \"26\", \"27\", \"28\", \"29\", \"30\", \"31\", \"32\", \"33\", \"34\", \"35\", \"36\", \"37\", \"38\", \"39\", \"40\", \"41\", \"42\", \"43\", \"44\", \"45\", \"46\", \"47\", \"48\", \"49\", \"50\", \"51\", \"52\", \"53\", \"54\", \"55\", \"56\", \"57\", \"58\", \"59\", \"62\", \"63\"], \"mode\": \"markers\", \"name\": \"precision_score_micro\", \"stepped\": false, \"type\": \"scatter\", \"data\": [0.8619047619047618, 0.8666666666666666, 0.8387755102040817, 0.792517006802721, 0.8387755102040817, 0.8380952380952381, 0.8496598639455781, 0.8387755102040817, 0.8387755102040817, 0.7646258503401361, 0.727891156462585, 0.7149659863945579, 0.7353741496598639, 0.8510204081632654, 0.8387755102040817, 0.8360544217687075, 0.7503401360544217, 0.8027210884353743, 0.7108843537414966, 0.7904761904761906, 0.8605442176870749, 0.8666666666666666, 0.8687074829931973, 0.8693877551020408, 0.8687074829931973, 0.6687074829931972, 0.858503401360544, 0.7816326530612244, 0.7931972789115647, 0.8435374149659864, 0.8625850340136054, 0.8619047619047618, 0.8612244897959183, 0.8585034013605443, 0.8591836734693878, 0.8734693877551021, 0.8482993197278912, 0.8530612244897959, 0.8482993197278912, 0.7591836734693878, 0.8387755102040817, 0.848299319727891, 0.8755102040816327, 0.7972789115646258, 0.8564625850340135, 0.8387755102040817, 0.863265306122449, 0.8598639455782313, 0.8625850340136054, 0.8591836734693878, 0.7863945578231293, 0.8571428571428571, 0.7482993197278912, 0.8326530612244898, 0.7897959183673469, 0.519047619047619, 0.7598639455782312, 0.8639455782312926, 0.8646258503401361, 0.8571428571428571, 0.8775510204081632, 0.8585034013605443]}, {\"categories\": [\"0\", \"1\", \"2\", \"3\", \"4\", \"5\", \"6\", \"7\", \"8\", \"9\", \"10\", \"11\", \"12\", \"13\", \"14\", \"15\", \"16\", \"17\", \"18\", \"19\", \"20\", \"21\", \"22\", \"23\", \"24\", \"25\", \"26\", \"27\", \"28\", \"29\", \"30\", \"31\", \"32\", \"33\", \"34\", \"35\", \"36\", \"37\", \"38\", \"39\", \"40\", \"41\", \"42\", \"43\", \"44\", \"45\", \"46\", \"47\", \"48\", \"49\", \"50\", \"51\", \"52\", \"53\", \"54\", \"55\", \"56\", \"57\", \"58\", \"59\", \"62\", \"63\"], \"mode\": \"lines\", \"name\": \"precision_score_micro_max\", \"stepped\": true, \"type\": \"scatter\", \"data\": [0.8619047619047618, 0.8666666666666666, 0.8666666666666666, 0.8666666666666666, 0.8666666666666666, 0.8666666666666666, 0.8666666666666666, 0.8666666666666666, 0.8666666666666666, 0.8666666666666666, 0.8666666666666666, 0.8666666666666666, 0.8666666666666666, 0.8666666666666666, 0.8666666666666666, 0.8666666666666666, 0.8666666666666666, 0.8666666666666666, 0.8666666666666666, 0.8666666666666666, 0.8666666666666666, 0.8666666666666666, 0.8687074829931973, 0.8693877551020408, 0.8693877551020408, 0.8693877551020408, 0.8693877551020408, 0.8693877551020408, 0.8693877551020408, 0.8693877551020408, 0.8693877551020408, 0.8693877551020408, 0.8693877551020408, 0.8693877551020408, 0.8693877551020408, 0.8734693877551021, 0.8734693877551021, 0.8734693877551021, 0.8734693877551021, 0.8734693877551021, 0.8734693877551021, 0.8734693877551021, 0.8755102040816327, 0.8755102040816327, 0.8755102040816327, 0.8755102040816327, 0.8755102040816327, 0.8755102040816327, 0.8755102040816327, 0.8755102040816327, 0.8755102040816327, 0.8755102040816327, 0.8755102040816327, 0.8755102040816327, 0.8755102040816327, 0.8755102040816327, 0.8755102040816327, 0.8755102040816327, 0.8755102040816327, 0.8755102040816327, 0.8775510204081632, 0.8775510204081632]}], \"f1_score_micro\": [{\"categories\": [\"0\", \"1\", \"2\", \"3\", \"4\", \"5\", \"6\", \"7\", \"8\", \"9\", \"10\", \"11\", \"12\", \"13\", \"14\", \"15\", \"16\", \"17\", \"18\", \"19\", \"20\", \"21\", \"22\", \"23\", \"24\", \"25\", \"26\", \"27\", \"28\", \"29\", \"30\", \"31\", \"32\", \"33\", \"34\", \"35\", \"36\", \"37\", \"38\", \"39\", \"40\", \"41\", \"42\", \"43\", \"44\", \"45\", \"46\", \"47\", \"48\", \"49\", \"50\", \"51\", \"52\", \"53\", \"54\", \"55\", \"56\", \"57\", \"58\", \"59\", \"62\", \"63\"], \"mode\": \"markers\", \"name\": \"f1_score_micro\", \"stepped\": false, \"type\": \"scatter\", \"data\": [0.8619047619047618, 0.8666666666666666, 0.8387755102040817, 0.792517006802721, 0.8387755102040817, 0.8380952380952381, 0.8496598639455781, 0.8387755102040817, 0.8387755102040817, 0.7646258503401361, 0.727891156462585, 0.7149659863945579, 0.7353741496598639, 0.8510204081632654, 0.8387755102040817, 0.8360544217687076, 0.7503401360544217, 0.8027210884353743, 0.7108843537414966, 0.7904761904761906, 0.8605442176870749, 0.8666666666666666, 0.8687074829931973, 0.8693877551020407, 0.8687074829931973, 0.6687074829931972, 0.858503401360544, 0.7816326530612244, 0.7931972789115646, 0.8435374149659864, 0.8625850340136054, 0.8619047619047618, 0.8612244897959183, 0.8585034013605443, 0.8591836734693878, 0.8734693877551021, 0.8482993197278912, 0.8530612244897959, 0.8482993197278912, 0.7591836734693878, 0.8387755102040817, 0.8482993197278912, 0.8755102040816327, 0.7972789115646259, 0.8564625850340135, 0.8387755102040817, 0.863265306122449, 0.8598639455782312, 0.8625850340136054, 0.8591836734693878, 0.7863945578231293, 0.8571428571428571, 0.7482993197278912, 0.8326530612244898, 0.7897959183673469, 0.519047619047619, 0.7598639455782312, 0.8639455782312926, 0.8646258503401361, 0.8571428571428571, 0.8775510204081632, 0.8585034013605443]}, {\"categories\": [\"0\", \"1\", \"2\", \"3\", \"4\", \"5\", \"6\", \"7\", \"8\", \"9\", \"10\", \"11\", \"12\", \"13\", \"14\", \"15\", \"16\", \"17\", \"18\", \"19\", \"20\", \"21\", \"22\", \"23\", \"24\", \"25\", \"26\", \"27\", \"28\", \"29\", \"30\", \"31\", \"32\", \"33\", \"34\", \"35\", \"36\", \"37\", \"38\", \"39\", \"40\", \"41\", \"42\", \"43\", \"44\", \"45\", \"46\", \"47\", \"48\", \"49\", \"50\", \"51\", \"52\", \"53\", \"54\", \"55\", \"56\", \"57\", \"58\", \"59\", \"62\", \"63\"], \"mode\": \"lines\", \"name\": \"f1_score_micro_max\", \"stepped\": true, \"type\": \"scatter\", \"data\": [0.8619047619047618, 0.8666666666666666, 0.8666666666666666, 0.8666666666666666, 0.8666666666666666, 0.8666666666666666, 0.8666666666666666, 0.8666666666666666, 0.8666666666666666, 0.8666666666666666, 0.8666666666666666, 0.8666666666666666, 0.8666666666666666, 0.8666666666666666, 0.8666666666666666, 0.8666666666666666, 0.8666666666666666, 0.8666666666666666, 0.8666666666666666, 0.8666666666666666, 0.8666666666666666, 0.8666666666666666, 0.8687074829931973, 0.8693877551020407, 0.8693877551020407, 0.8693877551020407, 0.8693877551020407, 0.8693877551020407, 0.8693877551020407, 0.8693877551020407, 0.8693877551020407, 0.8693877551020407, 0.8693877551020407, 0.8693877551020407, 0.8693877551020407, 0.8734693877551021, 0.8734693877551021, 0.8734693877551021, 0.8734693877551021, 0.8734693877551021, 0.8734693877551021, 0.8734693877551021, 0.8755102040816327, 0.8755102040816327, 0.8755102040816327, 0.8755102040816327, 0.8755102040816327, 0.8755102040816327, 0.8755102040816327, 0.8755102040816327, 0.8755102040816327, 0.8755102040816327, 0.8755102040816327, 0.8755102040816327, 0.8755102040816327, 0.8755102040816327, 0.8755102040816327, 0.8755102040816327, 0.8755102040816327, 0.8755102040816327, 0.8775510204081632, 0.8775510204081632]}], \"precision_score_weighted\": [{\"categories\": [\"0\", \"1\", \"2\", \"3\", \"4\", \"5\", \"6\", \"7\", \"8\", \"9\", \"10\", \"11\", \"12\", \"13\", \"14\", \"15\", \"16\", \"17\", \"18\", \"19\", \"20\", \"21\", \"22\", \"23\", \"24\", \"25\", \"26\", \"27\", \"28\", \"29\", \"30\", \"31\", \"32\", \"33\", \"34\", \"35\", \"36\", \"37\", \"38\", \"39\", \"40\", \"41\", \"42\", \"43\", \"44\", \"45\", \"46\", \"47\", \"48\", \"49\", \"50\", \"51\", \"52\", \"53\", \"54\", \"55\", \"56\", \"57\", \"58\", \"59\", \"62\", \"63\"], \"mode\": \"markers\", \"name\": \"precision_score_weighted\", \"stepped\": false, \"type\": \"scatter\", \"data\": [0.8450346008852863, 0.8565560301787951, 0.7043153315748069, 0.8289245476099479, 0.7043153315748069, 0.8044904761454946, 0.8694699907990279, 0.7043153315748069, 0.7043153315748069, 0.8362766189956545, 0.8194472420132695, 0.8301660810130013, 0.8316518633929547, 0.8427451978131181, 0.7043153315748069, 0.7713786728278356, 0.822453262443435, 0.8348324175587944, 0.8295371381717869, 0.833472383451757, 0.8470507505620415, 0.8523767115769821, 0.8550790614865793, 0.8599580951664418, 0.8545936945878791, 0.8078483788146278, 0.838951353677874, 0.8376654805842818, 0.8366766355263646, 0.8076362067099687, 0.8562706759402781, 0.8488529225112289, 0.8414439111260366, 0.8480937098636658, 0.8417561720209594, 0.8603111554043572, 0.8443752453076712, 0.8475122408793627, 0.8090422041173543, 0.8416417939383397, 0.7043153315748069, 0.8468268994240298, 0.8673882220624085, 0.8503271656326248, 0.851745172603478, 0.7043153315748069, 0.8661877964520975, 0.8549915953147155, 0.8495362063502642, 0.8500895800501119, 0.8262819115042379, 0.8362333450073767, 0.8306999017030174, 0.8382918203926956, 0.8338405994823305, 0.7610796549442534, 0.8351107606601194, 0.84931356116102, 0.8495470827108045, 0.8377826948246959, 0.8744500921698514, 0.7994143792764958]}, {\"categories\": [\"0\", \"1\", \"2\", \"3\", \"4\", \"5\", \"6\", \"7\", \"8\", \"9\", \"10\", \"11\", \"12\", \"13\", \"14\", \"15\", \"16\", \"17\", \"18\", \"19\", \"20\", \"21\", \"22\", \"23\", \"24\", \"25\", \"26\", \"27\", \"28\", \"29\", \"30\", \"31\", \"32\", \"33\", \"34\", \"35\", \"36\", \"37\", \"38\", \"39\", \"40\", \"41\", \"42\", \"43\", \"44\", \"45\", \"46\", \"47\", \"48\", \"49\", \"50\", \"51\", \"52\", \"53\", \"54\", \"55\", \"56\", \"57\", \"58\", \"59\", \"62\", \"63\"], \"mode\": \"lines\", \"name\": \"precision_score_weighted_max\", \"stepped\": true, \"type\": \"scatter\", \"data\": [0.8450346008852863, 0.8565560301787951, 0.8565560301787951, 0.8565560301787951, 0.8565560301787951, 0.8565560301787951, 0.8694699907990279, 0.8694699907990279, 0.8694699907990279, 0.8694699907990279, 0.8694699907990279, 0.8694699907990279, 0.8694699907990279, 0.8694699907990279, 0.8694699907990279, 0.8694699907990279, 0.8694699907990279, 0.8694699907990279, 0.8694699907990279, 0.8694699907990279, 0.8694699907990279, 0.8694699907990279, 0.8694699907990279, 0.8694699907990279, 0.8694699907990279, 0.8694699907990279, 0.8694699907990279, 0.8694699907990279, 0.8694699907990279, 0.8694699907990279, 0.8694699907990279, 0.8694699907990279, 0.8694699907990279, 0.8694699907990279, 0.8694699907990279, 0.8694699907990279, 0.8694699907990279, 0.8694699907990279, 0.8694699907990279, 0.8694699907990279, 0.8694699907990279, 0.8694699907990279, 0.8694699907990279, 0.8694699907990279, 0.8694699907990279, 0.8694699907990279, 0.8694699907990279, 0.8694699907990279, 0.8694699907990279, 0.8694699907990279, 0.8694699907990279, 0.8694699907990279, 0.8694699907990279, 0.8694699907990279, 0.8694699907990279, 0.8694699907990279, 0.8694699907990279, 0.8694699907990279, 0.8694699907990279, 0.8694699907990279, 0.8744500921698514, 0.8744500921698514]}], \"AUC_macro\": [{\"categories\": [\"0\", \"1\", \"2\", \"3\", \"4\", \"5\", \"6\", \"7\", \"8\", \"9\", \"10\", \"11\", \"12\", \"13\", \"14\", \"15\", \"16\", \"17\", \"18\", \"19\", \"20\", \"21\", \"22\", \"23\", \"24\", \"25\", \"26\", \"27\", \"28\", \"29\", \"30\", \"31\", \"32\", \"33\", \"34\", \"35\", \"36\", \"37\", \"38\", \"39\", \"40\", \"41\", \"42\", \"43\", \"44\", \"45\", \"46\", \"47\", \"48\", \"49\", \"50\", \"51\", \"52\", \"53\", \"54\", \"55\", \"56\", \"57\", \"58\", \"59\", \"62\", \"63\"], \"mode\": \"markers\", \"name\": \"AUC_macro\", \"stepped\": false, \"type\": \"scatter\", \"data\": [0.7989155856183239, 0.7960196173171672, 0.7725352909842229, 0.7760048973470277, 0.7748987504556745, 0.7717411202516126, 0.796358861982197, 0.7849933166535761, 0.7780865538080635, 0.7943671366328919, 0.7532342233492988, 0.7765809653950314, 0.7854142155784556, 0.7770112441752852, 0.7415378912522209, 0.7429616515182291, 0.7663477138925818, 0.8035811092464933, 0.7714256367262842, 0.7946981784779155, 0.7840786331470596, 0.8004953622236245, 0.8032453557472584, 0.8067398839506577, 0.8184853798898966, 0.7196043515781143, 0.7851394019170612, 0.7956102190689857, 0.802839933411269, 0.7610154999700393, 0.8187474971672823, 0.7929479020550396, 0.8080073832875444, 0.8070266441891855, 0.8032349995777954, 0.8152350725802993, 0.7278358324427815, 0.7780766163615758, 0.7478721836844594, 0.811783257746874, 0.5915137751782766, 0.8176870182216736, 0.8185843121737303, 0.8314676136267461, 0.8008326731515998, 0.6074438152490282, 0.8081563160727445, 0.7972544508052355, 0.7986218004487451, 0.8051699861187857, 0.7624468971473763, 0.8019856274731614, 0.7884799145819511, 0.8010720130167377, 0.7959089110782174, 0.6251359624666037, 0.8000404207968623, 0.8069558355208628, 0.8085001995810106, 0.8002257777725144, 0.84267755042465, 0.8395383942778647]}, {\"categories\": [\"0\", \"1\", \"2\", \"3\", \"4\", \"5\", \"6\", \"7\", \"8\", \"9\", \"10\", \"11\", \"12\", \"13\", \"14\", \"15\", \"16\", \"17\", \"18\", \"19\", \"20\", \"21\", \"22\", \"23\", \"24\", \"25\", \"26\", \"27\", \"28\", \"29\", \"30\", \"31\", \"32\", \"33\", \"34\", \"35\", \"36\", \"37\", \"38\", \"39\", \"40\", \"41\", \"42\", \"43\", \"44\", \"45\", \"46\", \"47\", \"48\", \"49\", \"50\", \"51\", \"52\", \"53\", \"54\", \"55\", \"56\", \"57\", \"58\", \"59\", \"62\", \"63\"], \"mode\": \"lines\", \"name\": \"AUC_macro_max\", \"stepped\": true, \"type\": \"scatter\", \"data\": [0.7989155856183239, 0.7989155856183239, 0.7989155856183239, 0.7989155856183239, 0.7989155856183239, 0.7989155856183239, 0.7989155856183239, 0.7989155856183239, 0.7989155856183239, 0.7989155856183239, 0.7989155856183239, 0.7989155856183239, 0.7989155856183239, 0.7989155856183239, 0.7989155856183239, 0.7989155856183239, 0.7989155856183239, 0.8035811092464933, 0.8035811092464933, 0.8035811092464933, 0.8035811092464933, 0.8035811092464933, 0.8035811092464933, 0.8067398839506577, 0.8184853798898966, 0.8184853798898966, 0.8184853798898966, 0.8184853798898966, 0.8184853798898966, 0.8184853798898966, 0.8187474971672823, 0.8187474971672823, 0.8187474971672823, 0.8187474971672823, 0.8187474971672823, 0.8187474971672823, 0.8187474971672823, 0.8187474971672823, 0.8187474971672823, 0.8187474971672823, 0.8187474971672823, 0.8187474971672823, 0.8187474971672823, 0.8314676136267461, 0.8314676136267461, 0.8314676136267461, 0.8314676136267461, 0.8314676136267461, 0.8314676136267461, 0.8314676136267461, 0.8314676136267461, 0.8314676136267461, 0.8314676136267461, 0.8314676136267461, 0.8314676136267461, 0.8314676136267461, 0.8314676136267461, 0.8314676136267461, 0.8314676136267461, 0.8314676136267461, 0.84267755042465, 0.84267755042465]}], \"weighted_accuracy\": [{\"categories\": [\"0\", \"1\", \"2\", \"3\", \"4\", \"5\", \"6\", \"7\", \"8\", \"9\", \"10\", \"11\", \"12\", \"13\", \"14\", \"15\", \"16\", \"17\", \"18\", \"19\", \"20\", \"21\", \"22\", \"23\", \"24\", \"25\", \"26\", \"27\", \"28\", \"29\", \"30\", \"31\", \"32\", \"33\", \"34\", \"35\", \"36\", \"37\", \"38\", \"39\", \"40\", \"41\", \"42\", \"43\", \"44\", \"45\", \"46\", \"47\", \"48\", \"49\", \"50\", \"51\", \"52\", \"53\", \"54\", \"55\", \"56\", \"57\", \"58\", \"59\", \"62\", \"63\"], \"mode\": \"markers\", \"name\": \"weighted_accuracy\", \"stepped\": false, \"type\": \"scatter\", \"data\": [0.9459741060945535, 0.9563343611257199, 0.962650571738967, 0.8248272057734083, 0.962650571738967, 0.9446912282656303, 0.9644089347870229, 0.962650571738967, 0.962650571738967, 0.7778047303842147, 0.7420395235779268, 0.7165716029515361, 0.7425692978135888, 0.957860503068931, 0.962650571738967, 0.9295978837649027, 0.7694951140082432, 0.8353557885770726, 0.7115716470002166, 0.8200155354488003, 0.9525640783367324, 0.9449919253656137, 0.9474854160870623, 0.9539342490417285, 0.9377397577830188, 0.6711385785317778, 0.9484909801390662, 0.8058722443118237, 0.8214771390567472, 0.953633574870417, 0.9612612059357311, 0.9565783931122276, 0.9438845130335327, 0.9587800701106236, 0.948040416681355, 0.9497782071443523, 0.9625123379731241, 0.9620007768318309, 0.9614175059470942, 0.7666940312849041, 0.962650571738967, 0.9005439301008021, 0.957969165832959, 0.8137830675164214, 0.9604010116435407, 0.962650571738967, 0.9645755571987558, 0.9611251521361586, 0.9456114474904084, 0.9598427063930416, 0.8195720912450906, 0.9460136297213587, 0.7632856104340264, 0.8820082362214985, 0.8186184476974147, 0.5083281595839707, 0.7723805049632777, 0.9530892005758936, 0.948984120543165, 0.944582401661785, 0.9604198554687488, 0.9598479507392147]}, {\"categories\": [\"0\", \"1\", \"2\", \"3\", \"4\", \"5\", \"6\", \"7\", \"8\", \"9\", \"10\", \"11\", \"12\", \"13\", \"14\", \"15\", \"16\", \"17\", \"18\", \"19\", \"20\", \"21\", \"22\", \"23\", \"24\", \"25\", \"26\", \"27\", \"28\", \"29\", \"30\", \"31\", \"32\", \"33\", \"34\", \"35\", \"36\", \"37\", \"38\", \"39\", \"40\", \"41\", \"42\", \"43\", \"44\", \"45\", \"46\", \"47\", \"48\", \"49\", \"50\", \"51\", \"52\", \"53\", \"54\", \"55\", \"56\", \"57\", \"58\", \"59\", \"62\", \"63\"], \"mode\": \"lines\", \"name\": \"weighted_accuracy_max\", \"stepped\": true, \"type\": \"scatter\", \"data\": [0.9459741060945535, 0.9563343611257199, 0.962650571738967, 0.962650571738967, 0.962650571738967, 0.962650571738967, 0.9644089347870229, 0.9644089347870229, 0.9644089347870229, 0.9644089347870229, 0.9644089347870229, 0.9644089347870229, 0.9644089347870229, 0.9644089347870229, 0.9644089347870229, 0.9644089347870229, 0.9644089347870229, 0.9644089347870229, 0.9644089347870229, 0.9644089347870229, 0.9644089347870229, 0.9644089347870229, 0.9644089347870229, 0.9644089347870229, 0.9644089347870229, 0.9644089347870229, 0.9644089347870229, 0.9644089347870229, 0.9644089347870229, 0.9644089347870229, 0.9644089347870229, 0.9644089347870229, 0.9644089347870229, 0.9644089347870229, 0.9644089347870229, 0.9644089347870229, 0.9644089347870229, 0.9644089347870229, 0.9644089347870229, 0.9644089347870229, 0.9644089347870229, 0.9644089347870229, 0.9644089347870229, 0.9644089347870229, 0.9644089347870229, 0.9644089347870229, 0.9645755571987558, 0.9645755571987558, 0.9645755571987558, 0.9645755571987558, 0.9645755571987558, 0.9645755571987558, 0.9645755571987558, 0.9645755571987558, 0.9645755571987558, 0.9645755571987558, 0.9645755571987558, 0.9645755571987558, 0.9645755571987558, 0.9645755571987558, 0.9645755571987558, 0.9645755571987558]}]}, \"metricName\": null, \"primaryMetricName\": \"AUC_weighted\", \"showLegend\": false}, \"run_metrics\": [{\"name\": \"experiment_status\", \"run_id\": \"AutoML_f0166041-60b0-404f-bdd5-880e74fdb44e\", \"categories\": [0, 1, 2, 3, 4, 5, 6, 7, 8, 9, 10, 11, 12, 13, 14], \"series\": [{\"data\": [\"DatasetEvaluation\", \"FeaturesGeneration\", \"DatasetFeaturization\", \"DatasetFeaturizationCompleted\", \"DatasetBalancing\", \"DatasetCrossValidationSplit\", \"ModelSelection\", \"BestRunExplainModel\", \"ModelExplanationDataSetSetup\", \"PickSurrogateModel\", \"EngineeredFeatureExplanations\", \"EngineeredFeatureExplanations\", \"RawFeaturesExplanations\", \"RawFeaturesExplanations\", \"BestRunExplainModel\"]}]}, {\"name\": \"experiment_status_description\", \"run_id\": \"AutoML_f0166041-60b0-404f-bdd5-880e74fdb44e\", \"categories\": [0, 1, 2, 3, 4, 5, 6, 7, 8, 9, 10, 11, 12, 13, 14], \"series\": [{\"data\": [\"Gathering dataset statistics.\", \"Generating features for the dataset.\", \"Beginning to fit featurizers and featurize the dataset.\", \"Completed fit featurizers and featurizing the dataset.\", \"Performing class balancing sweeping\", \"Generating individually featurized CV splits.\", \"Beginning model selection.\", \"Best run model explanations started\", \"Model explanations data setup completed\", \"Choosing LightGBM as the surrogate model for explanations\", \"Computation of engineered features started\", \"Computation of engineered features completed\", \"Computation of raw features started\", \"Computation of raw features completed\", \"Best run model explanations completed\"]}]}, {\"name\": \"recall_score_macro\", \"run_id\": \"AutoML_f0166041-60b0-404f-bdd5-880e74fdb44e\", \"categories\": [0], \"series\": [{\"data\": [0.6544391248231879]}]}, {\"name\": \"average_precision_score_weighted\", \"run_id\": \"AutoML_f0166041-60b0-404f-bdd5-880e74fdb44e\", \"categories\": [0], \"series\": [{\"data\": [0.8987521365926515]}]}, {\"name\": \"precision_score_micro\", \"run_id\": \"AutoML_f0166041-60b0-404f-bdd5-880e74fdb44e\", \"categories\": [0], \"series\": [{\"data\": [0.8775510204081632]}]}, {\"name\": \"average_precision_score_micro\", \"run_id\": \"AutoML_f0166041-60b0-404f-bdd5-880e74fdb44e\", \"categories\": [0], \"series\": [{\"data\": [0.9268823636734916]}]}, {\"name\": \"recall_score_micro\", \"run_id\": \"AutoML_f0166041-60b0-404f-bdd5-880e74fdb44e\", \"categories\": [0], \"series\": [{\"data\": [0.8775510204081632]}]}, {\"name\": \"recall_score_weighted\", \"run_id\": \"AutoML_f0166041-60b0-404f-bdd5-880e74fdb44e\", \"categories\": [0], \"series\": [{\"data\": [0.8775510204081632]}]}, {\"name\": \"AUC_macro\", \"run_id\": \"AutoML_f0166041-60b0-404f-bdd5-880e74fdb44e\", \"categories\": [0], \"series\": [{\"data\": [0.84267755042465]}]}, {\"name\": \"f1_score_micro\", \"run_id\": \"AutoML_f0166041-60b0-404f-bdd5-880e74fdb44e\", \"categories\": [0], \"series\": [{\"data\": [0.8775510204081632]}]}, {\"name\": \"f1_score_weighted\", \"run_id\": \"AutoML_f0166041-60b0-404f-bdd5-880e74fdb44e\", \"categories\": [0], \"series\": [{\"data\": [0.8529333888324526]}]}, {\"name\": \"accuracy\", \"run_id\": \"AutoML_f0166041-60b0-404f-bdd5-880e74fdb44e\", \"categories\": [0], \"series\": [{\"data\": [0.8775510204081632]}]}, {\"name\": \"precision_score_macro\", \"run_id\": \"AutoML_f0166041-60b0-404f-bdd5-880e74fdb44e\", \"categories\": [0], \"series\": [{\"data\": [0.8624115608886221]}]}, {\"name\": \"AUC_micro\", \"run_id\": \"AutoML_f0166041-60b0-404f-bdd5-880e74fdb44e\", \"categories\": [0], \"series\": [{\"data\": [0.9353001064371327]}]}, {\"name\": \"precision_score_weighted\", \"run_id\": \"AutoML_f0166041-60b0-404f-bdd5-880e74fdb44e\", \"categories\": [0], \"series\": [{\"data\": [0.8744500921698514]}]}, {\"name\": \"norm_macro_recall\", \"run_id\": \"AutoML_f0166041-60b0-404f-bdd5-880e74fdb44e\", \"categories\": [0], \"series\": [{\"data\": [0.30887824964637584]}]}, {\"name\": \"matthews_correlation\", \"run_id\": \"AutoML_f0166041-60b0-404f-bdd5-880e74fdb44e\", \"categories\": [0], \"series\": [{\"data\": [0.4682894976601232]}]}, {\"name\": \"average_precision_score_macro\", \"run_id\": \"AutoML_f0166041-60b0-404f-bdd5-880e74fdb44e\", \"categories\": [0], \"series\": [{\"data\": [0.7878989981749115]}]}, {\"name\": \"log_loss\", \"run_id\": \"AutoML_f0166041-60b0-404f-bdd5-880e74fdb44e\", \"categories\": [0], \"series\": [{\"data\": [0.3638084448547915]}]}, {\"name\": \"weighted_accuracy\", \"run_id\": \"AutoML_f0166041-60b0-404f-bdd5-880e74fdb44e\", \"categories\": [0], \"series\": [{\"data\": [0.9604198554687488]}]}, {\"name\": \"AUC_weighted\", \"run_id\": \"AutoML_f0166041-60b0-404f-bdd5-880e74fdb44e\", \"categories\": [0], \"series\": [{\"data\": [0.84267755042465]}]}, {\"name\": \"f1_score_macro\", \"run_id\": \"AutoML_f0166041-60b0-404f-bdd5-880e74fdb44e\", \"categories\": [0], \"series\": [{\"data\": [0.6940534588255118]}]}, {\"name\": \"balanced_accuracy\", \"run_id\": \"AutoML_f0166041-60b0-404f-bdd5-880e74fdb44e\", \"categories\": [0], \"series\": [{\"data\": [0.6544391248231879]}]}], \"run_logs\": \"\\nRun is completed.\", \"graph\": {}, \"widget_settings\": {\"childWidgetDisplay\": \"popup\", \"send_telemetry\": false, \"log_level\": \"INFO\", \"sdk_version\": \"1.20.0\"}, \"loading\": false}"
          },
          "metadata": {}
        }
      ],
      "execution_count": 11,
      "metadata": {
        "gather": {
          "logged": 1613774291465
        },
        "jupyter": {
          "outputs_hidden": false,
          "source_hidden": false
        },
        "nteract": {
          "transient": {
            "deleting": false
          }
        }
      }
    },
    {
      "cell_type": "markdown",
      "source": [
        "## Best Model\n",
        "\n"
      ],
      "metadata": {}
    },
    {
      "cell_type": "code",
      "source": [
        "best_automl_run, best_automl_model = remote_run.get_output()"
      ],
      "outputs": [
        {
          "output_type": "stream",
          "name": "stderr",
          "text": [
            "WARNING:root:The version of the SDK does not match the version the model was trained on.\n",
            "WARNING:root:The consistency in the result may not be guaranteed.\n",
            "WARNING:root:Package:azureml-automl-core, training version:1.21.0, current version:1.20.0\n",
            "Package:azureml-automl-runtime, training version:1.21.0, current version:1.20.0\n",
            "Package:azureml-core, training version:1.21.0.post1, current version:1.20.0\n",
            "Package:azureml-dataprep, training version:2.8.2, current version:2.7.3\n",
            "Package:azureml-dataprep-native, training version:28.0.0, current version:27.0.0\n",
            "Package:azureml-dataprep-rslex, training version:1.6.0, current version:1.5.0\n",
            "Package:azureml-dataset-runtime, training version:1.21.0, current version:1.20.0\n",
            "Package:azureml-defaults, training version:1.21.0, current version:1.20.0\n",
            "Package:azureml-interpret, training version:1.21.0, current version:1.20.0\n",
            "Package:azureml-pipeline-core, training version:1.21.0, current version:1.20.0\n",
            "Package:azureml-telemetry, training version:1.21.0, current version:1.20.0\n",
            "Package:azureml-train-automl-client, training version:1.21.0, current version:1.20.0\n",
            "Package:azureml-train-automl-runtime, training version:1.21.0, current version:1.20.0\n",
            "WARNING:root:Please ensure the version of your local conda dependencies match the version on which your model was trained in order to properly retrieve your model.\n"
          ]
        }
      ],
      "execution_count": 12,
      "metadata": {
        "gather": {
          "logged": 1613774432419
        },
        "jupyter": {
          "outputs_hidden": false,
          "source_hidden": false
        },
        "nteract": {
          "transient": {
            "deleting": false
          }
        }
      }
    },
    {
      "cell_type": "code",
      "execution_count": null,
      "metadata": {},
      "outputs": [],
      "source": [
        "best_automl_model.steps[1][1].estimators"
      ]
    },
    {
      "cell_type": "code",
      "source": [
        "print(best_automl_model)"
      ],
      "outputs": [
        {
          "output_type": "stream",
          "name": "stdout",
          "text": [
            "Pipeline(memory=None,\n",
            "         steps=[('datatransformer',\n",
            "                 DataTransformer(enable_dnn=None, enable_feature_sweeping=None,\n",
            "                                 feature_sweeping_config=None,\n",
            "                                 feature_sweeping_timeout=None,\n",
            "                                 featurization_config=None, force_text_dnn=None,\n",
            "                                 is_cross_validation=None,\n",
            "                                 is_onnx_compatible=None, logger=None,\n",
            "                                 observer=None, task=None, working_dir=None)),\n",
            "                ('prefittedsoftvotingclassifier',...\n",
            "                                                                                                  min_weight_fraction_leaf=0.0,\n",
            "                                                                                                  n_estimators=100,\n",
            "                                                                                                  n_jobs=1,\n",
            "                                                                                                  oob_score=False,\n",
            "                                                                                                  random_state=None,\n",
            "                                                                                                  verbose=0,\n",
            "                                                                                                  warm_start=False))],\n",
            "                                                                     verbose=False))],\n",
            "                                               flatten_transform=None,\n",
            "                                               weights=[0.13333333333333333,\n",
            "                                                        0.06666666666666667,\n",
            "                                                        0.06666666666666667,\n",
            "                                                        0.06666666666666667,\n",
            "                                                        0.06666666666666667,\n",
            "                                                        0.06666666666666667,\n",
            "                                                        0.13333333333333333,\n",
            "                                                        0.06666666666666667,\n",
            "                                                        0.13333333333333333,\n",
            "                                                        0.2]))],\n",
            "         verbose=False)\n",
            "Y_transformer(['LabelEncoder', LabelEncoder()])\n"
          ]
        }
      ],
      "execution_count": 13,
      "metadata": {
        "gather": {
          "logged": 1613774440058
        }
      }
    },
    {
      "cell_type": "code",
      "source": [
        "best_automl_run"
      ],
      "outputs": [
        {
          "output_type": "execute_result",
          "execution_count": 14,
          "data": {
            "text/plain": "Run(Experiment: automl-experiment,\nId: AutoML_f0166041-60b0-404f-bdd5-880e74fdb44e_62,\nType: azureml.scriptrun,\nStatus: Completed)",
            "text/html": "<table style=\"width:100%\"><tr><th>Experiment</th><th>Id</th><th>Type</th><th>Status</th><th>Details Page</th><th>Docs Page</th></tr><tr><td>automl-experiment</td><td>AutoML_f0166041-60b0-404f-bdd5-880e74fdb44e_62</td><td>azureml.scriptrun</td><td>Completed</td><td><a href=\"https://ml.azure.com/experiments/automl-experiment/runs/AutoML_f0166041-60b0-404f-bdd5-880e74fdb44e_62?wsid=/subscriptions/9e65f93e-bdd8-437b-b1e8-0647cd6098f7/resourcegroups/aml-quickstarts-139183/workspaces/quick-starts-ws-139183\" target=\"_blank\" rel=\"noopener\">Link to Azure Machine Learning studio</a></td><td><a href=\"https://docs.microsoft.com/en-us/python/api/azureml-core/azureml.core.run.Run?view=azure-ml-py\" target=\"_blank\" rel=\"noopener\">Link to Documentation</a></td></tr></table>"
          },
          "metadata": {}
        }
      ],
      "execution_count": 14,
      "metadata": {
        "gather": {
          "logged": 1613774449391
        }
      }
    },
    {
      "cell_type": "code",
      "source": [
        "get_best_automl_metrics = best_automl_run.get_metrics()\n",
        "\n",
        "for metric_name in get_best_automl_metrics:\n",
        "    metric = get_best_automl_metrics[metric_name]\n",
        "    print(metric_name, metric)"
      ],
      "outputs": [
        {
          "output_type": "stream",
          "name": "stdout",
          "text": [
            "recall_score_macro 0.6544391248231879\n",
            "matthews_correlation 0.4682894976601232\n",
            "log_loss 0.3638084448547915\n",
            "precision_score_macro 0.8624115608886221\n",
            "average_precision_score_micro 0.9268823636734916\n",
            "weighted_accuracy 0.9604198554687488\n",
            "AUC_micro 0.9353001064371327\n",
            "AUC_weighted 0.84267755042465\n",
            "f1_score_micro 0.8775510204081632\n",
            "average_precision_score_weighted 0.8987521365926515\n",
            "precision_score_weighted 0.8744500921698514\n",
            "recall_score_weighted 0.8775510204081632\n",
            "norm_macro_recall 0.30887824964637584\n",
            "f1_score_macro 0.6940534588255118\n",
            "accuracy 0.8775510204081632\n",
            "precision_score_micro 0.8775510204081632\n",
            "balanced_accuracy 0.6544391248231879\n",
            "f1_score_weighted 0.8529333888324526\n",
            "recall_score_micro 0.8775510204081632\n",
            "average_precision_score_macro 0.7878989981749115\n",
            "AUC_macro 0.84267755042465\n",
            "confusion_matrix aml://artifactId/ExperimentRun/dcid.AutoML_f0166041-60b0-404f-bdd5-880e74fdb44e_62/confusion_matrix\n",
            "accuracy_table aml://artifactId/ExperimentRun/dcid.AutoML_f0166041-60b0-404f-bdd5-880e74fdb44e_62/accuracy_table\n"
          ]
        }
      ],
      "execution_count": 15,
      "metadata": {
        "gather": {
          "logged": 1613774468642
        }
      }
    },
    {
      "cell_type": "markdown",
      "source": [
        "View updated transformation summary"
      ],
      "metadata": {}
    },
    {
      "cell_type": "code",
      "source": [
        "custom_featurizer = best_automl_model.named_steps['datatransformer']\n",
        "df = custom_featurizer.get_featurization_summary(is_user_friendly=True)\n",
        "pd.DataFrame(data=df)"
      ],
      "outputs": [
        {
          "output_type": "execute_result",
          "execution_count": 16,
          "data": {
            "text/plain": "              RawFeatureName TypeDetected Dropped  EngineeredFeatureCount  \\\n0                        Age  Categorical      No                      43   \n1             BusinessTravel  Categorical      No                       3   \n2                 Department  Categorical      No                       3   \n3           DistanceFromHome  Categorical      No                      29   \n4                  Education  Categorical      No                       5   \n5             EducationField  Categorical      No                       6   \n6    EnvironmentSatisfaction  Categorical      No                       4   \n7                     Gender  Categorical      No                       1   \n8             JobInvolvement  Categorical      No                       4   \n9                   JobLevel  Categorical      No                       5   \n10                   JobRole  Categorical      No                       9   \n11           JobSatisfaction  Categorical      No                       4   \n12             MaritalStatus  Categorical      No                       3   \n13        NumCompaniesWorked  Categorical      No                      10   \n14                  OverTime  Categorical      No                       1   \n15         PercentSalaryHike  Categorical      No                      15   \n16         PerformanceRating  Categorical      No                       1   \n17  RelationshipSatisfaction  Categorical      No                       4   \n18          StockOptionLevel  Categorical      No                       4   \n19         TotalWorkingYears  Categorical      No                      40   \n20     TrainingTimesLastYear  Categorical      No                       7   \n21           WorkLifeBalance  Categorical      No                       4   \n22            YearsAtCompany  Categorical      No                      37   \n23        YearsInCurrentRole  Categorical      No                      19   \n24   YearsSinceLastPromotion  Categorical      No                      16   \n25      YearsWithCurrManager  Categorical      No                      18   \n26                 DailyRate      Numeric      No                       1   \n27            EmployeeNumber      Numeric      No                       1   \n28                HourlyRate      Numeric      No                       1   \n29             MonthlyIncome      Numeric      No                       1   \n30               MonthlyRate      Numeric      No                       1   \n31             EmployeeCount       Ignore     Yes                       0   \n32                    Over18       Ignore     Yes                       0   \n33             StandardHours       Ignore     Yes                       0   \n\n                             Transformations  \n0       [StringCast-CharGramCountVectorizer]  \n1       [StringCast-CharGramCountVectorizer]  \n2       [StringCast-CharGramCountVectorizer]  \n3       [StringCast-CharGramCountVectorizer]  \n4       [StringCast-CharGramCountVectorizer]  \n5       [StringCast-CharGramCountVectorizer]  \n6       [StringCast-CharGramCountVectorizer]  \n7   [ModeCatImputer-StringCast-LabelEncoder]  \n8       [StringCast-CharGramCountVectorizer]  \n9       [StringCast-CharGramCountVectorizer]  \n10      [StringCast-CharGramCountVectorizer]  \n11      [StringCast-CharGramCountVectorizer]  \n12      [StringCast-CharGramCountVectorizer]  \n13      [StringCast-CharGramCountVectorizer]  \n14  [ModeCatImputer-StringCast-LabelEncoder]  \n15      [StringCast-CharGramCountVectorizer]  \n16  [ModeCatImputer-StringCast-LabelEncoder]  \n17      [StringCast-CharGramCountVectorizer]  \n18      [StringCast-CharGramCountVectorizer]  \n19      [StringCast-CharGramCountVectorizer]  \n20      [StringCast-CharGramCountVectorizer]  \n21      [StringCast-CharGramCountVectorizer]  \n22      [StringCast-CharGramCountVectorizer]  \n23      [StringCast-CharGramCountVectorizer]  \n24      [StringCast-CharGramCountVectorizer]  \n25      [StringCast-CharGramCountVectorizer]  \n26                             [MeanImputer]  \n27                             [MeanImputer]  \n28                             [MeanImputer]  \n29                             [MeanImputer]  \n30                             [MeanImputer]  \n31                                        []  \n32                                        []  \n33                                        []  ",
            "text/html": "<div>\n<style scoped>\n    .dataframe tbody tr th:only-of-type {\n        vertical-align: middle;\n    }\n\n    .dataframe tbody tr th {\n        vertical-align: top;\n    }\n\n    .dataframe thead th {\n        text-align: right;\n    }\n</style>\n<table border=\"1\" class=\"dataframe\">\n  <thead>\n    <tr style=\"text-align: right;\">\n      <th></th>\n      <th>RawFeatureName</th>\n      <th>TypeDetected</th>\n      <th>Dropped</th>\n      <th>EngineeredFeatureCount</th>\n      <th>Transformations</th>\n    </tr>\n  </thead>\n  <tbody>\n    <tr>\n      <th>0</th>\n      <td>Age</td>\n      <td>Categorical</td>\n      <td>No</td>\n      <td>43</td>\n      <td>[StringCast-CharGramCountVectorizer]</td>\n    </tr>\n    <tr>\n      <th>1</th>\n      <td>BusinessTravel</td>\n      <td>Categorical</td>\n      <td>No</td>\n      <td>3</td>\n      <td>[StringCast-CharGramCountVectorizer]</td>\n    </tr>\n    <tr>\n      <th>2</th>\n      <td>Department</td>\n      <td>Categorical</td>\n      <td>No</td>\n      <td>3</td>\n      <td>[StringCast-CharGramCountVectorizer]</td>\n    </tr>\n    <tr>\n      <th>3</th>\n      <td>DistanceFromHome</td>\n      <td>Categorical</td>\n      <td>No</td>\n      <td>29</td>\n      <td>[StringCast-CharGramCountVectorizer]</td>\n    </tr>\n    <tr>\n      <th>4</th>\n      <td>Education</td>\n      <td>Categorical</td>\n      <td>No</td>\n      <td>5</td>\n      <td>[StringCast-CharGramCountVectorizer]</td>\n    </tr>\n    <tr>\n      <th>5</th>\n      <td>EducationField</td>\n      <td>Categorical</td>\n      <td>No</td>\n      <td>6</td>\n      <td>[StringCast-CharGramCountVectorizer]</td>\n    </tr>\n    <tr>\n      <th>6</th>\n      <td>EnvironmentSatisfaction</td>\n      <td>Categorical</td>\n      <td>No</td>\n      <td>4</td>\n      <td>[StringCast-CharGramCountVectorizer]</td>\n    </tr>\n    <tr>\n      <th>7</th>\n      <td>Gender</td>\n      <td>Categorical</td>\n      <td>No</td>\n      <td>1</td>\n      <td>[ModeCatImputer-StringCast-LabelEncoder]</td>\n    </tr>\n    <tr>\n      <th>8</th>\n      <td>JobInvolvement</td>\n      <td>Categorical</td>\n      <td>No</td>\n      <td>4</td>\n      <td>[StringCast-CharGramCountVectorizer]</td>\n    </tr>\n    <tr>\n      <th>9</th>\n      <td>JobLevel</td>\n      <td>Categorical</td>\n      <td>No</td>\n      <td>5</td>\n      <td>[StringCast-CharGramCountVectorizer]</td>\n    </tr>\n    <tr>\n      <th>10</th>\n      <td>JobRole</td>\n      <td>Categorical</td>\n      <td>No</td>\n      <td>9</td>\n      <td>[StringCast-CharGramCountVectorizer]</td>\n    </tr>\n    <tr>\n      <th>11</th>\n      <td>JobSatisfaction</td>\n      <td>Categorical</td>\n      <td>No</td>\n      <td>4</td>\n      <td>[StringCast-CharGramCountVectorizer]</td>\n    </tr>\n    <tr>\n      <th>12</th>\n      <td>MaritalStatus</td>\n      <td>Categorical</td>\n      <td>No</td>\n      <td>3</td>\n      <td>[StringCast-CharGramCountVectorizer]</td>\n    </tr>\n    <tr>\n      <th>13</th>\n      <td>NumCompaniesWorked</td>\n      <td>Categorical</td>\n      <td>No</td>\n      <td>10</td>\n      <td>[StringCast-CharGramCountVectorizer]</td>\n    </tr>\n    <tr>\n      <th>14</th>\n      <td>OverTime</td>\n      <td>Categorical</td>\n      <td>No</td>\n      <td>1</td>\n      <td>[ModeCatImputer-StringCast-LabelEncoder]</td>\n    </tr>\n    <tr>\n      <th>15</th>\n      <td>PercentSalaryHike</td>\n      <td>Categorical</td>\n      <td>No</td>\n      <td>15</td>\n      <td>[StringCast-CharGramCountVectorizer]</td>\n    </tr>\n    <tr>\n      <th>16</th>\n      <td>PerformanceRating</td>\n      <td>Categorical</td>\n      <td>No</td>\n      <td>1</td>\n      <td>[ModeCatImputer-StringCast-LabelEncoder]</td>\n    </tr>\n    <tr>\n      <th>17</th>\n      <td>RelationshipSatisfaction</td>\n      <td>Categorical</td>\n      <td>No</td>\n      <td>4</td>\n      <td>[StringCast-CharGramCountVectorizer]</td>\n    </tr>\n    <tr>\n      <th>18</th>\n      <td>StockOptionLevel</td>\n      <td>Categorical</td>\n      <td>No</td>\n      <td>4</td>\n      <td>[StringCast-CharGramCountVectorizer]</td>\n    </tr>\n    <tr>\n      <th>19</th>\n      <td>TotalWorkingYears</td>\n      <td>Categorical</td>\n      <td>No</td>\n      <td>40</td>\n      <td>[StringCast-CharGramCountVectorizer]</td>\n    </tr>\n    <tr>\n      <th>20</th>\n      <td>TrainingTimesLastYear</td>\n      <td>Categorical</td>\n      <td>No</td>\n      <td>7</td>\n      <td>[StringCast-CharGramCountVectorizer]</td>\n    </tr>\n    <tr>\n      <th>21</th>\n      <td>WorkLifeBalance</td>\n      <td>Categorical</td>\n      <td>No</td>\n      <td>4</td>\n      <td>[StringCast-CharGramCountVectorizer]</td>\n    </tr>\n    <tr>\n      <th>22</th>\n      <td>YearsAtCompany</td>\n      <td>Categorical</td>\n      <td>No</td>\n      <td>37</td>\n      <td>[StringCast-CharGramCountVectorizer]</td>\n    </tr>\n    <tr>\n      <th>23</th>\n      <td>YearsInCurrentRole</td>\n      <td>Categorical</td>\n      <td>No</td>\n      <td>19</td>\n      <td>[StringCast-CharGramCountVectorizer]</td>\n    </tr>\n    <tr>\n      <th>24</th>\n      <td>YearsSinceLastPromotion</td>\n      <td>Categorical</td>\n      <td>No</td>\n      <td>16</td>\n      <td>[StringCast-CharGramCountVectorizer]</td>\n    </tr>\n    <tr>\n      <th>25</th>\n      <td>YearsWithCurrManager</td>\n      <td>Categorical</td>\n      <td>No</td>\n      <td>18</td>\n      <td>[StringCast-CharGramCountVectorizer]</td>\n    </tr>\n    <tr>\n      <th>26</th>\n      <td>DailyRate</td>\n      <td>Numeric</td>\n      <td>No</td>\n      <td>1</td>\n      <td>[MeanImputer]</td>\n    </tr>\n    <tr>\n      <th>27</th>\n      <td>EmployeeNumber</td>\n      <td>Numeric</td>\n      <td>No</td>\n      <td>1</td>\n      <td>[MeanImputer]</td>\n    </tr>\n    <tr>\n      <th>28</th>\n      <td>HourlyRate</td>\n      <td>Numeric</td>\n      <td>No</td>\n      <td>1</td>\n      <td>[MeanImputer]</td>\n    </tr>\n    <tr>\n      <th>29</th>\n      <td>MonthlyIncome</td>\n      <td>Numeric</td>\n      <td>No</td>\n      <td>1</td>\n      <td>[MeanImputer]</td>\n    </tr>\n    <tr>\n      <th>30</th>\n      <td>MonthlyRate</td>\n      <td>Numeric</td>\n      <td>No</td>\n      <td>1</td>\n      <td>[MeanImputer]</td>\n    </tr>\n    <tr>\n      <th>31</th>\n      <td>EmployeeCount</td>\n      <td>Ignore</td>\n      <td>Yes</td>\n      <td>0</td>\n      <td>[]</td>\n    </tr>\n    <tr>\n      <th>32</th>\n      <td>Over18</td>\n      <td>Ignore</td>\n      <td>Yes</td>\n      <td>0</td>\n      <td>[]</td>\n    </tr>\n    <tr>\n      <th>33</th>\n      <td>StandardHours</td>\n      <td>Ignore</td>\n      <td>Yes</td>\n      <td>0</td>\n      <td>[]</td>\n    </tr>\n  </tbody>\n</table>\n</div>"
          },
          "metadata": {}
        }
      ],
      "execution_count": 16,
      "metadata": {
        "gather": {
          "logged": 1613774506232
        }
      }
    },
    {
      "cell_type": "code",
      "source": [
        "df = custom_featurizer.get_featurization_summary(is_user_friendly=False)\n",
        "pd.DataFrame(data=df)"
      ],
      "outputs": [
        {
          "output_type": "execute_result",
          "execution_count": 17,
          "data": {
            "text/plain": "              RawFeatureName TypeDetected Dropped  EngineeredFeatureCount  \\\n0                        Age  Categorical      No                      43   \n1             BusinessTravel  Categorical      No                       3   \n2                 Department  Categorical      No                       3   \n3           DistanceFromHome  Categorical      No                      29   \n4                  Education  Categorical      No                       5   \n5             EducationField  Categorical      No                       6   \n6    EnvironmentSatisfaction  Categorical      No                       4   \n7                     Gender  Categorical      No                       1   \n8             JobInvolvement  Categorical      No                       4   \n9                   JobLevel  Categorical      No                       5   \n10                   JobRole  Categorical      No                       9   \n11           JobSatisfaction  Categorical      No                       4   \n12             MaritalStatus  Categorical      No                       3   \n13        NumCompaniesWorked  Categorical      No                      10   \n14                  OverTime  Categorical      No                       1   \n15         PercentSalaryHike  Categorical      No                      15   \n16         PerformanceRating  Categorical      No                       1   \n17  RelationshipSatisfaction  Categorical      No                       4   \n18          StockOptionLevel  Categorical      No                       4   \n19         TotalWorkingYears  Categorical      No                      40   \n20     TrainingTimesLastYear  Categorical      No                       7   \n21           WorkLifeBalance  Categorical      No                       4   \n22            YearsAtCompany  Categorical      No                      37   \n23        YearsInCurrentRole  Categorical      No                      19   \n24   YearsSinceLastPromotion  Categorical      No                      16   \n25      YearsWithCurrManager  Categorical      No                      18   \n26                 DailyRate      Numeric      No                       1   \n27            EmployeeNumber      Numeric      No                       1   \n28                HourlyRate      Numeric      No                       1   \n29             MonthlyIncome      Numeric      No                       1   \n30               MonthlyRate      Numeric      No                       1   \n31             EmployeeCount       Ignore     Yes                       0   \n32                    Over18       Ignore     Yes                       0   \n33             StandardHours       Ignore     Yes                       0   \n\n                             Transformations  \\\n0       [StringCast-CharGramCountVectorizer]   \n1       [StringCast-CharGramCountVectorizer]   \n2       [StringCast-CharGramCountVectorizer]   \n3       [StringCast-CharGramCountVectorizer]   \n4       [StringCast-CharGramCountVectorizer]   \n5       [StringCast-CharGramCountVectorizer]   \n6       [StringCast-CharGramCountVectorizer]   \n7   [ModeCatImputer-StringCast-LabelEncoder]   \n8       [StringCast-CharGramCountVectorizer]   \n9       [StringCast-CharGramCountVectorizer]   \n10      [StringCast-CharGramCountVectorizer]   \n11      [StringCast-CharGramCountVectorizer]   \n12      [StringCast-CharGramCountVectorizer]   \n13      [StringCast-CharGramCountVectorizer]   \n14  [ModeCatImputer-StringCast-LabelEncoder]   \n15      [StringCast-CharGramCountVectorizer]   \n16  [ModeCatImputer-StringCast-LabelEncoder]   \n17      [StringCast-CharGramCountVectorizer]   \n18      [StringCast-CharGramCountVectorizer]   \n19      [StringCast-CharGramCountVectorizer]   \n20      [StringCast-CharGramCountVectorizer]   \n21      [StringCast-CharGramCountVectorizer]   \n22      [StringCast-CharGramCountVectorizer]   \n23      [StringCast-CharGramCountVectorizer]   \n24      [StringCast-CharGramCountVectorizer]   \n25      [StringCast-CharGramCountVectorizer]   \n26                             [MeanImputer]   \n27                             [MeanImputer]   \n28                             [MeanImputer]   \n29                             [MeanImputer]   \n30                             [MeanImputer]   \n31                                        []   \n32                                        []   \n33                                        []   \n\n                                 TransformationParams  \n0   {'Transformer1': {'Input': ['Age'], 'Transform...  \n1   {'Transformer1': {'Input': ['BusinessTravel'],...  \n2   {'Transformer1': {'Input': ['Department'], 'Tr...  \n3   {'Transformer1': {'Input': ['DistanceFromHome'...  \n4   {'Transformer1': {'Input': ['Education'], 'Tra...  \n5   {'Transformer1': {'Input': ['EducationField'],...  \n6   {'Transformer1': {'Input': ['EnvironmentSatisf...  \n7   {'Transformer1': {'Input': ['Gender'], 'Transf...  \n8   {'Transformer1': {'Input': ['JobInvolvement'],...  \n9   {'Transformer1': {'Input': ['JobLevel'], 'Tran...  \n10  {'Transformer1': {'Input': ['JobRole'], 'Trans...  \n11  {'Transformer1': {'Input': ['JobSatisfaction']...  \n12  {'Transformer1': {'Input': ['MaritalStatus'], ...  \n13  {'Transformer1': {'Input': ['NumCompaniesWorke...  \n14  {'Transformer1': {'Input': ['OverTime'], 'Tran...  \n15  {'Transformer1': {'Input': ['PercentSalaryHike...  \n16  {'Transformer1': {'Input': ['PerformanceRating...  \n17  {'Transformer1': {'Input': ['RelationshipSatis...  \n18  {'Transformer1': {'Input': ['StockOptionLevel'...  \n19  {'Transformer1': {'Input': ['TotalWorkingYears...  \n20  {'Transformer1': {'Input': ['TrainingTimesLast...  \n21  {'Transformer1': {'Input': ['WorkLifeBalance']...  \n22  {'Transformer1': {'Input': ['YearsAtCompany'],...  \n23  {'Transformer1': {'Input': ['YearsInCurrentRol...  \n24  {'Transformer1': {'Input': ['YearsSinceLastPro...  \n25  {'Transformer1': {'Input': ['YearsWithCurrMana...  \n26  {'Transformer1': {'Input': ['DailyRate'], 'Tra...  \n27  {'Transformer1': {'Input': ['EmployeeNumber'],...  \n28  {'Transformer1': {'Input': ['HourlyRate'], 'Tr...  \n29  {'Transformer1': {'Input': ['MonthlyIncome'], ...  \n30  {'Transformer1': {'Input': ['MonthlyRate'], 'T...  \n31  {'Transformer1': {'Input': ['EmployeeCount'], ...  \n32  {'Transformer1': {'Input': ['Over18'], 'Transf...  \n33  {'Transformer1': {'Input': ['StandardHours'], ...  ",
            "text/html": "<div>\n<style scoped>\n    .dataframe tbody tr th:only-of-type {\n        vertical-align: middle;\n    }\n\n    .dataframe tbody tr th {\n        vertical-align: top;\n    }\n\n    .dataframe thead th {\n        text-align: right;\n    }\n</style>\n<table border=\"1\" class=\"dataframe\">\n  <thead>\n    <tr style=\"text-align: right;\">\n      <th></th>\n      <th>RawFeatureName</th>\n      <th>TypeDetected</th>\n      <th>Dropped</th>\n      <th>EngineeredFeatureCount</th>\n      <th>Transformations</th>\n      <th>TransformationParams</th>\n    </tr>\n  </thead>\n  <tbody>\n    <tr>\n      <th>0</th>\n      <td>Age</td>\n      <td>Categorical</td>\n      <td>No</td>\n      <td>43</td>\n      <td>[StringCast-CharGramCountVectorizer]</td>\n      <td>{'Transformer1': {'Input': ['Age'], 'Transform...</td>\n    </tr>\n    <tr>\n      <th>1</th>\n      <td>BusinessTravel</td>\n      <td>Categorical</td>\n      <td>No</td>\n      <td>3</td>\n      <td>[StringCast-CharGramCountVectorizer]</td>\n      <td>{'Transformer1': {'Input': ['BusinessTravel'],...</td>\n    </tr>\n    <tr>\n      <th>2</th>\n      <td>Department</td>\n      <td>Categorical</td>\n      <td>No</td>\n      <td>3</td>\n      <td>[StringCast-CharGramCountVectorizer]</td>\n      <td>{'Transformer1': {'Input': ['Department'], 'Tr...</td>\n    </tr>\n    <tr>\n      <th>3</th>\n      <td>DistanceFromHome</td>\n      <td>Categorical</td>\n      <td>No</td>\n      <td>29</td>\n      <td>[StringCast-CharGramCountVectorizer]</td>\n      <td>{'Transformer1': {'Input': ['DistanceFromHome'...</td>\n    </tr>\n    <tr>\n      <th>4</th>\n      <td>Education</td>\n      <td>Categorical</td>\n      <td>No</td>\n      <td>5</td>\n      <td>[StringCast-CharGramCountVectorizer]</td>\n      <td>{'Transformer1': {'Input': ['Education'], 'Tra...</td>\n    </tr>\n    <tr>\n      <th>5</th>\n      <td>EducationField</td>\n      <td>Categorical</td>\n      <td>No</td>\n      <td>6</td>\n      <td>[StringCast-CharGramCountVectorizer]</td>\n      <td>{'Transformer1': {'Input': ['EducationField'],...</td>\n    </tr>\n    <tr>\n      <th>6</th>\n      <td>EnvironmentSatisfaction</td>\n      <td>Categorical</td>\n      <td>No</td>\n      <td>4</td>\n      <td>[StringCast-CharGramCountVectorizer]</td>\n      <td>{'Transformer1': {'Input': ['EnvironmentSatisf...</td>\n    </tr>\n    <tr>\n      <th>7</th>\n      <td>Gender</td>\n      <td>Categorical</td>\n      <td>No</td>\n      <td>1</td>\n      <td>[ModeCatImputer-StringCast-LabelEncoder]</td>\n      <td>{'Transformer1': {'Input': ['Gender'], 'Transf...</td>\n    </tr>\n    <tr>\n      <th>8</th>\n      <td>JobInvolvement</td>\n      <td>Categorical</td>\n      <td>No</td>\n      <td>4</td>\n      <td>[StringCast-CharGramCountVectorizer]</td>\n      <td>{'Transformer1': {'Input': ['JobInvolvement'],...</td>\n    </tr>\n    <tr>\n      <th>9</th>\n      <td>JobLevel</td>\n      <td>Categorical</td>\n      <td>No</td>\n      <td>5</td>\n      <td>[StringCast-CharGramCountVectorizer]</td>\n      <td>{'Transformer1': {'Input': ['JobLevel'], 'Tran...</td>\n    </tr>\n    <tr>\n      <th>10</th>\n      <td>JobRole</td>\n      <td>Categorical</td>\n      <td>No</td>\n      <td>9</td>\n      <td>[StringCast-CharGramCountVectorizer]</td>\n      <td>{'Transformer1': {'Input': ['JobRole'], 'Trans...</td>\n    </tr>\n    <tr>\n      <th>11</th>\n      <td>JobSatisfaction</td>\n      <td>Categorical</td>\n      <td>No</td>\n      <td>4</td>\n      <td>[StringCast-CharGramCountVectorizer]</td>\n      <td>{'Transformer1': {'Input': ['JobSatisfaction']...</td>\n    </tr>\n    <tr>\n      <th>12</th>\n      <td>MaritalStatus</td>\n      <td>Categorical</td>\n      <td>No</td>\n      <td>3</td>\n      <td>[StringCast-CharGramCountVectorizer]</td>\n      <td>{'Transformer1': {'Input': ['MaritalStatus'], ...</td>\n    </tr>\n    <tr>\n      <th>13</th>\n      <td>NumCompaniesWorked</td>\n      <td>Categorical</td>\n      <td>No</td>\n      <td>10</td>\n      <td>[StringCast-CharGramCountVectorizer]</td>\n      <td>{'Transformer1': {'Input': ['NumCompaniesWorke...</td>\n    </tr>\n    <tr>\n      <th>14</th>\n      <td>OverTime</td>\n      <td>Categorical</td>\n      <td>No</td>\n      <td>1</td>\n      <td>[ModeCatImputer-StringCast-LabelEncoder]</td>\n      <td>{'Transformer1': {'Input': ['OverTime'], 'Tran...</td>\n    </tr>\n    <tr>\n      <th>15</th>\n      <td>PercentSalaryHike</td>\n      <td>Categorical</td>\n      <td>No</td>\n      <td>15</td>\n      <td>[StringCast-CharGramCountVectorizer]</td>\n      <td>{'Transformer1': {'Input': ['PercentSalaryHike...</td>\n    </tr>\n    <tr>\n      <th>16</th>\n      <td>PerformanceRating</td>\n      <td>Categorical</td>\n      <td>No</td>\n      <td>1</td>\n      <td>[ModeCatImputer-StringCast-LabelEncoder]</td>\n      <td>{'Transformer1': {'Input': ['PerformanceRating...</td>\n    </tr>\n    <tr>\n      <th>17</th>\n      <td>RelationshipSatisfaction</td>\n      <td>Categorical</td>\n      <td>No</td>\n      <td>4</td>\n      <td>[StringCast-CharGramCountVectorizer]</td>\n      <td>{'Transformer1': {'Input': ['RelationshipSatis...</td>\n    </tr>\n    <tr>\n      <th>18</th>\n      <td>StockOptionLevel</td>\n      <td>Categorical</td>\n      <td>No</td>\n      <td>4</td>\n      <td>[StringCast-CharGramCountVectorizer]</td>\n      <td>{'Transformer1': {'Input': ['StockOptionLevel'...</td>\n    </tr>\n    <tr>\n      <th>19</th>\n      <td>TotalWorkingYears</td>\n      <td>Categorical</td>\n      <td>No</td>\n      <td>40</td>\n      <td>[StringCast-CharGramCountVectorizer]</td>\n      <td>{'Transformer1': {'Input': ['TotalWorkingYears...</td>\n    </tr>\n    <tr>\n      <th>20</th>\n      <td>TrainingTimesLastYear</td>\n      <td>Categorical</td>\n      <td>No</td>\n      <td>7</td>\n      <td>[StringCast-CharGramCountVectorizer]</td>\n      <td>{'Transformer1': {'Input': ['TrainingTimesLast...</td>\n    </tr>\n    <tr>\n      <th>21</th>\n      <td>WorkLifeBalance</td>\n      <td>Categorical</td>\n      <td>No</td>\n      <td>4</td>\n      <td>[StringCast-CharGramCountVectorizer]</td>\n      <td>{'Transformer1': {'Input': ['WorkLifeBalance']...</td>\n    </tr>\n    <tr>\n      <th>22</th>\n      <td>YearsAtCompany</td>\n      <td>Categorical</td>\n      <td>No</td>\n      <td>37</td>\n      <td>[StringCast-CharGramCountVectorizer]</td>\n      <td>{'Transformer1': {'Input': ['YearsAtCompany'],...</td>\n    </tr>\n    <tr>\n      <th>23</th>\n      <td>YearsInCurrentRole</td>\n      <td>Categorical</td>\n      <td>No</td>\n      <td>19</td>\n      <td>[StringCast-CharGramCountVectorizer]</td>\n      <td>{'Transformer1': {'Input': ['YearsInCurrentRol...</td>\n    </tr>\n    <tr>\n      <th>24</th>\n      <td>YearsSinceLastPromotion</td>\n      <td>Categorical</td>\n      <td>No</td>\n      <td>16</td>\n      <td>[StringCast-CharGramCountVectorizer]</td>\n      <td>{'Transformer1': {'Input': ['YearsSinceLastPro...</td>\n    </tr>\n    <tr>\n      <th>25</th>\n      <td>YearsWithCurrManager</td>\n      <td>Categorical</td>\n      <td>No</td>\n      <td>18</td>\n      <td>[StringCast-CharGramCountVectorizer]</td>\n      <td>{'Transformer1': {'Input': ['YearsWithCurrMana...</td>\n    </tr>\n    <tr>\n      <th>26</th>\n      <td>DailyRate</td>\n      <td>Numeric</td>\n      <td>No</td>\n      <td>1</td>\n      <td>[MeanImputer]</td>\n      <td>{'Transformer1': {'Input': ['DailyRate'], 'Tra...</td>\n    </tr>\n    <tr>\n      <th>27</th>\n      <td>EmployeeNumber</td>\n      <td>Numeric</td>\n      <td>No</td>\n      <td>1</td>\n      <td>[MeanImputer]</td>\n      <td>{'Transformer1': {'Input': ['EmployeeNumber'],...</td>\n    </tr>\n    <tr>\n      <th>28</th>\n      <td>HourlyRate</td>\n      <td>Numeric</td>\n      <td>No</td>\n      <td>1</td>\n      <td>[MeanImputer]</td>\n      <td>{'Transformer1': {'Input': ['HourlyRate'], 'Tr...</td>\n    </tr>\n    <tr>\n      <th>29</th>\n      <td>MonthlyIncome</td>\n      <td>Numeric</td>\n      <td>No</td>\n      <td>1</td>\n      <td>[MeanImputer]</td>\n      <td>{'Transformer1': {'Input': ['MonthlyIncome'], ...</td>\n    </tr>\n    <tr>\n      <th>30</th>\n      <td>MonthlyRate</td>\n      <td>Numeric</td>\n      <td>No</td>\n      <td>1</td>\n      <td>[MeanImputer]</td>\n      <td>{'Transformer1': {'Input': ['MonthlyRate'], 'T...</td>\n    </tr>\n    <tr>\n      <th>31</th>\n      <td>EmployeeCount</td>\n      <td>Ignore</td>\n      <td>Yes</td>\n      <td>0</td>\n      <td>[]</td>\n      <td>{'Transformer1': {'Input': ['EmployeeCount'], ...</td>\n    </tr>\n    <tr>\n      <th>32</th>\n      <td>Over18</td>\n      <td>Ignore</td>\n      <td>Yes</td>\n      <td>0</td>\n      <td>[]</td>\n      <td>{'Transformer1': {'Input': ['Over18'], 'Transf...</td>\n    </tr>\n    <tr>\n      <th>33</th>\n      <td>StandardHours</td>\n      <td>Ignore</td>\n      <td>Yes</td>\n      <td>0</td>\n      <td>[]</td>\n      <td>{'Transformer1': {'Input': ['StandardHours'], ...</td>\n    </tr>\n  </tbody>\n</table>\n</div>"
          },
          "metadata": {}
        }
      ],
      "execution_count": 17,
      "metadata": {
        "gather": {
          "logged": 1613774510575
        }
      }
    },
    {
      "cell_type": "markdown",
      "source": [
        "## Model explanation"
      ],
      "metadata": {
        "nteract": {
          "transient": {
            "deleting": false
          }
        }
      }
    },
    {
      "cell_type": "code",
      "source": [
        "from azureml.interpret import ExplanationClient"
      ],
      "outputs": [],
      "execution_count": 21,
      "metadata": {
        "collapsed": true,
        "jupyter": {
          "source_hidden": false,
          "outputs_hidden": false
        },
        "nteract": {
          "transient": {
            "deleting": false
          }
        },
        "gather": {
          "logged": 1613775470369
        }
      }
    },
    {
      "cell_type": "code",
      "source": [
        "from azureml.core.run import Run\r\n",
        "\r\n",
        "model_explainability_run_id = remote_run.id + \"_\" + \"ModelExplain\"\r\n",
        "print(model_explainability_run_id)\r\n",
        "model_explainability_run = Run(experiment=experiment, run_id= model_explainability_run_id)\r\n",
        "model_explainability_run.wait_for_completion()\r\n",
        "\r\n",
        "# get the best fitted model\r\n",
        "best_run, fitted_model = remote_run.get_output()"
      ],
      "outputs": [
        {
          "output_type": "stream",
          "name": "stdout",
          "text": [
            "AutoML_f0166041-60b0-404f-bdd5-880e74fdb44e_ModelExplain\n"
          ]
        },
        {
          "output_type": "stream",
          "name": "stderr",
          "text": [
            "WARNING:root:The version of the SDK does not match the version the model was trained on.\n",
            "WARNING:root:The consistency in the result may not be guaranteed.\n",
            "WARNING:root:Package:azureml-automl-core, training version:1.21.0, current version:1.20.0\n",
            "Package:azureml-automl-runtime, training version:1.21.0, current version:1.20.0\n",
            "Package:azureml-core, training version:1.21.0.post1, current version:1.20.0\n",
            "Package:azureml-dataprep, training version:2.8.2, current version:2.7.3\n",
            "Package:azureml-dataprep-native, training version:28.0.0, current version:27.0.0\n",
            "Package:azureml-dataprep-rslex, training version:1.6.0, current version:1.5.0\n",
            "Package:azureml-dataset-runtime, training version:1.21.0, current version:1.20.0\n",
            "Package:azureml-defaults, training version:1.21.0, current version:1.20.0\n",
            "Package:azureml-interpret, training version:1.21.0, current version:1.20.0\n",
            "Package:azureml-pipeline-core, training version:1.21.0, current version:1.20.0\n",
            "Package:azureml-telemetry, training version:1.21.0, current version:1.20.0\n",
            "Package:azureml-train-automl-client, training version:1.21.0, current version:1.20.0\n",
            "Package:azureml-train-automl-runtime, training version:1.21.0, current version:1.20.0\n",
            "WARNING:root:Please ensure the version of your local conda dependencies match the version on which your model was trained in order to properly retrieve your model.\n"
          ]
        }
      ],
      "execution_count": 18,
      "metadata": {
        "collapsed": true,
        "jupyter": {
          "source_hidden": false,
          "outputs_hidden": false
        },
        "nteract": {
          "transient": {
            "deleting": false
          }
        },
        "gather": {
          "logged": 1613775374173
        }
      }
    },
    {
      "cell_type": "code",
      "source": [
        "client = ExplanationClient.from_run(best_run)\r\n",
        "engineered_explanations = client.download_model_explanation(raw=True)\r\n",
        "exp_data = engineered_explanations.get_feature_importance_dict()\r\n",
        "exp_data"
      ],
      "outputs": [
        {
          "output_type": "execute_result",
          "execution_count": 23,
          "data": {
            "text/plain": "{'OverTime': 0.30062742381367397,\n 'StockOptionLevel': 0.24703925404431035,\n 'JobLevel': 0.20227149424030477,\n 'JobRole': 0.13085451283088062,\n 'YearsWithCurrManager': 0.12598004730265036,\n 'JobSatisfaction': 0.12224713263094114,\n 'EnvironmentSatisfaction': 0.12218218278306063,\n 'MonthlyIncome': 0.09306574364839597,\n 'BusinessTravel': 0.09119591416251104,\n 'WorkLifeBalance': 0.06976388742663556,\n 'Department': 0.06300627840515224,\n 'RelationshipSatisfaction': 0.06137949879092114,\n 'NumCompaniesWorked': 0.059544361281181214,\n 'JobInvolvement': 0.05791328438091513,\n 'YearsAtCompany': 0.056215543006235685,\n 'EducationField': 0.053464062873238266,\n 'MaritalStatus': 0.052213204932455175,\n 'PercentSalaryHike': 0.04937514938277283,\n 'YearsInCurrentRole': 0.0443063273433923,\n 'DailyRate': 0.041911901891016144,\n 'Age': 0.04116846489440599,\n 'TrainingTimesLastYear': 0.03682256024259807,\n 'TotalWorkingYears': 0.03631796060938037,\n 'DistanceFromHome': 0.0355472534429109,\n 'YearsSinceLastPromotion': 0.025843266023496934,\n 'Gender': 0.02021360451776579,\n 'MonthlyRate': 0.019147865991564563,\n 'EmployeeNumber': 0.01764749883721043,\n 'HourlyRate': 0.013355248602964899,\n 'Education': 0.012121137410571607,\n 'PerformanceRating': 0.002179239959431095,\n 'EmployeeCount': 0.0,\n 'StandardHours': 0.0,\n 'Over18': 0.0}"
          },
          "metadata": {}
        }
      ],
      "execution_count": 23,
      "metadata": {
        "collapsed": true,
        "jupyter": {
          "source_hidden": false,
          "outputs_hidden": false
        },
        "nteract": {
          "transient": {
            "deleting": false
          }
        },
        "gather": {
          "logged": 1613775488860
        }
      }
    },
    {
      "cell_type": "code",
      "source": [
        "client = ExplanationClient.from_run(best_run)\r\n",
        "engineered_explanations = client.download_model_explanation(raw=False)\r\n",
        "exp_data = engineered_explanations.get_feature_importance_dict()\r\n",
        "exp_data"
      ],
      "outputs": [
        {
          "output_type": "execute_result",
          "execution_count": 24,
          "data": {
            "text/plain": "{'OverTime_ModeCatImputer_LabelEncoder': 0.30062742381367397,\n 'StockOptionLevel_CharGramCountVectorizer_0': 0.20350925764084088,\n 'JobLevel_CharGramCountVectorizer_1': 0.15575560881068023,\n 'YearsWithCurrManager_CharGramCountVectorizer_0': 0.10666372279615224,\n 'EnvironmentSatisfaction_CharGramCountVectorizer_1': 0.10329311896894094,\n 'MonthlyIncome_MeanImputer': 0.09306574364839597,\n 'BusinessTravel_CharGramCountVectorizer_travel_frequently': 0.06949139900695524,\n 'JobSatisfaction_CharGramCountVectorizer_4': 0.06254735081048571,\n 'JobSatisfaction_CharGramCountVectorizer_1': 0.05647672074948927,\n 'RelationshipSatisfaction_CharGramCountVectorizer_1': 0.05123781203444644,\n 'JobRole_CharGramCountVectorizer_sales executive': 0.048267783720710535,\n 'WorkLifeBalance_CharGramCountVectorizer_3': 0.046981029212079306,\n 'MaritalStatus_CharGramCountVectorizer_single': 0.04238175393218858,\n 'DailyRate_MeanImputer': 0.041911901891016144,\n 'JobRole_CharGramCountVectorizer_research scientist': 0.039543508098400716,\n 'StockOptionLevel_CharGramCountVectorizer_1': 0.038866721392344566,\n 'Department_CharGramCountVectorizer_research & development': 0.03256213596039984,\n 'Department_CharGramCountVectorizer_sales': 0.030444142444752395,\n 'YearsAtCompany_CharGramCountVectorizer_1': 0.030233504902372005,\n 'JobInvolvement_CharGramCountVectorizer_1': 0.027251203197456133,\n 'JobLevel_CharGramCountVectorizer_3': 0.026748454028533188,\n 'EducationField_CharGramCountVectorizer_technical degree': 0.024723908200956976,\n 'JobRole_CharGramCountVectorizer_laboratory technician': 0.024589435366365785,\n 'YearsInCurrentRole_CharGramCountVectorizer_2': 0.022445813201842732,\n 'Gender_ModeCatImputer_LabelEncoder': 0.02021360451776579,\n 'WorkLifeBalance_CharGramCountVectorizer_1': 0.019671520565628858,\n 'BusinessTravel_CharGramCountVectorizer_non-travel': 0.019608640975213976,\n 'MonthlyRate_MeanImputer': 0.019147865991564563,\n 'EmployeeNumber_MeanImputer': 0.01764749883721043,\n 'JobLevel_CharGramCountVectorizer_2': 0.016854849265180025,\n 'TotalWorkingYears_CharGramCountVectorizer_1': 0.016289341925786856,\n 'JobRole_CharGramCountVectorizer_sales representative': 0.01603247488471036,\n 'PercentSalaryHike_CharGramCountVectorizer_14': 0.01511357998332539,\n 'HourlyRate_MeanImputer': 0.013355248602964899,\n 'EducationField_CharGramCountVectorizer_marketing': 0.012427226848000492,\n 'JobInvolvement_CharGramCountVectorizer_2': 0.012301311323747701,\n 'JobInvolvement_CharGramCountVectorizer_4': 0.012042346956607443,\n 'NumCompaniesWorked_CharGramCountVectorizer_7': 0.012034442812481998,\n 'PercentSalaryHike_CharGramCountVectorizer_11': 0.0116857159727977,\n 'DistanceFromHome_CharGramCountVectorizer_1': 0.011102462328375988,\n 'YearsSinceLastPromotion_CharGramCountVectorizer_7': 0.010964385103233628,\n 'NumCompaniesWorked_CharGramCountVectorizer_5': 0.010347403107419228,\n 'EducationField_CharGramCountVectorizer_life sciences': 0.010230612886387843,\n 'TrainingTimesLastYear_CharGramCountVectorizer_3': 0.010169637354389045,\n 'YearsAtCompany_CharGramCountVectorizer_5': 0.010141717760214858,\n 'YearsInCurrentRole_CharGramCountVectorizer_0': 0.009795501579772397,\n 'YearsWithCurrManager_CharGramCountVectorizer_7': 0.00971973723418841,\n 'NumCompaniesWorked_CharGramCountVectorizer_0': 0.00947912619741514,\n 'TrainingTimesLastYear_CharGramCountVectorizer_0': 0.00932570723326478,\n 'EnvironmentSatisfaction_CharGramCountVectorizer_4': 0.008851277097157526,\n 'TrainingTimesLastYear_CharGramCountVectorizer_2': 0.0087687947836591,\n 'YearsAtCompany_CharGramCountVectorizer_10': 0.008303277874423578,\n 'NumCompaniesWorked_CharGramCountVectorizer_3': 0.00781357826384017,\n 'NumCompaniesWorked_CharGramCountVectorizer_6': 0.006917146508894818,\n 'NumCompaniesWorked_CharGramCountVectorizer_9': 0.006724510263169114,\n 'MaritalStatus_CharGramCountVectorizer_divorced': 0.006543258021628861,\n 'EnvironmentSatisfaction_CharGramCountVectorizer_2': 0.006323296118472312,\n 'JobInvolvement_CharGramCountVectorizer_3': 0.006318422903103851,\n 'YearsInCurrentRole_CharGramCountVectorizer_7': 0.006193135921707849,\n 'YearsSinceLastPromotion_CharGramCountVectorizer_0': 0.005853225860162164,\n 'Age_CharGramCountVectorizer_38': 0.005682939401933239,\n 'YearsWithCurrManager_CharGramCountVectorizer_2': 0.005503296448203033,\n 'EducationField_CharGramCountVectorizer_medical': 0.005394460406383102,\n 'Education_CharGramCountVectorizer_3': 0.0053635598643687644,\n 'Age_CharGramCountVectorizer_27': 0.0053024217828026,\n 'RelationshipSatisfaction_CharGramCountVectorizer_4': 0.005267373405167462,\n 'RelationshipSatisfaction_CharGramCountVectorizer_3': 0.004874313351307236,\n 'StockOptionLevel_CharGramCountVectorizer_3': 0.004503215769019773,\n 'PercentSalaryHike_CharGramCountVectorizer_16': 0.004458626513960306,\n 'NumCompaniesWorked_CharGramCountVectorizer_1': 0.004433141474657424,\n 'Age_CharGramCountVectorizer_42': 0.004366021027233047,\n 'TrainingTimesLastYear_CharGramCountVectorizer_4': 0.004364383597380786,\n 'PercentSalaryHike_CharGramCountVectorizer_12': 0.004250763409201735,\n 'Age_CharGramCountVectorizer_36': 0.00397473018968267,\n 'Age_CharGramCountVectorizer_35': 0.003932984307477012,\n 'TotalWorkingYears_CharGramCountVectorizer_7': 0.003723727700124655,\n 'EnvironmentSatisfaction_CharGramCountVectorizer_3': 0.003714490598489848,\n 'PercentSalaryHike_CharGramCountVectorizer_20': 0.0036874163933897303,\n 'MaritalStatus_CharGramCountVectorizer_married': 0.0032881929786377365,\n 'DistanceFromHome_CharGramCountVectorizer_23': 0.0032838621104510305,\n 'Age_CharGramCountVectorizer_31': 0.003201885674003011,\n 'TotalWorkingYears_CharGramCountVectorizer_5': 0.003183994150689374,\n 'DistanceFromHome_CharGramCountVectorizer_29': 0.0031035380618879985,\n 'YearsSinceLastPromotion_CharGramCountVectorizer_6': 0.0030659542833111554,\n 'YearsSinceLastPromotion_CharGramCountVectorizer_3': 0.0029355015300927107,\n 'JobLevel_CharGramCountVectorizer_4': 0.0029125821359113164,\n 'Age_CharGramCountVectorizer_29': 0.002799512737223192,\n 'DistanceFromHome_CharGramCountVectorizer_6': 0.0027690593039911868,\n 'DistanceFromHome_CharGramCountVectorizer_4': 0.0027598231168091307,\n 'DistanceFromHome_CharGramCountVectorizer_2': 0.0026872285468923503,\n 'Education_CharGramCountVectorizer_4': 0.0026236029795812955,\n 'PercentSalaryHike_CharGramCountVectorizer_22': 0.0026046901636155367,\n 'DistanceFromHome_CharGramCountVectorizer_9': 0.002601743358362509,\n 'TotalWorkingYears_CharGramCountVectorizer_10': 0.0025521588613777236,\n 'JobSatisfaction_CharGramCountVectorizer_3': 0.0025007622541736454,\n 'YearsSinceLastPromotion_CharGramCountVectorizer_1': 0.0023564927204593822,\n 'YearsAtCompany_CharGramCountVectorizer_2': 0.0023092360859725707,\n 'YearsInCurrentRole_CharGramCountVectorizer_5': 0.002302943116366194,\n 'Age_CharGramCountVectorizer_26': 0.0021845852316106354,\n 'PerformanceRating_ModeCatImputer_LabelEncoder': 0.002179239959431095}"
          },
          "metadata": {}
        }
      ],
      "execution_count": 24,
      "metadata": {
        "collapsed": true,
        "jupyter": {
          "source_hidden": false,
          "outputs_hidden": false
        },
        "nteract": {
          "transient": {
            "deleting": false
          }
        },
        "gather": {
          "logged": 1613775497583
        }
      }
    },
    {
      "cell_type": "markdown",
      "source": [
        "## Model Deployment\n",
        "\n",
        "Remember you have to deploy only one of the two models you trained.. Perform the steps in the rest of this notebook only if you wish to deploy this model.\n",
        "\n",
        "TODO: In the cell below, register the model, create an inference config and deploy the model as a web service."
      ],
      "metadata": {}
    },
    {
      "cell_type": "code",
      "source": [
        "model_name = best_automl_run.properties[\"model_name\"]\r\n",
        "script_file_name = \"inference/score.py\"\r\n",
        "best_automl_run.download_file('outputs/scoring_file_v_1_0_0.py', script_file_name)"
      ],
      "outputs": [],
      "execution_count": 25,
      "metadata": {
        "collapsed": true,
        "jupyter": {
          "source_hidden": false,
          "outputs_hidden": false
        },
        "nteract": {
          "transient": {
            "deleting": false
          }
        },
        "gather": {
          "logged": 1613775956687
        }
      }
    },
    {
      "cell_type": "code",
      "source": [
        "print(remote_run.model_id)"
      ],
      "outputs": [
        {
          "output_type": "stream",
          "name": "stdout",
          "text": [
            "None\n"
          ]
        }
      ],
      "execution_count": 26,
      "metadata": {
        "collapsed": true,
        "jupyter": {
          "source_hidden": false,
          "outputs_hidden": false
        },
        "nteract": {
          "transient": {
            "deleting": false
          }
        },
        "gather": {
          "logged": 1613775959805
        }
      }
    },
    {
      "cell_type": "code",
      "source": [
        "# Register the model to deploy\n",
        "# model = run.register_model(model_name = \"mymodel\", model_path = \"outputs/model.pkl\")\n",
        "description = 'sample service for Automl Classification'\n",
        "model = best_automl_run.register_model(description = description,\n",
        "                                       model_name=model_name,\n",
        "                                       tags={'area': \"Attrition\", 'type': \"automl_classification\"},\n",
        "                                       model_path = \"outputs/model.pkl\")\n",
        "\n",
        "# Combine scoring script & environment in Inference configuration\n",
        "inference_config = InferenceConfig(entry_script=script_file_name)\n",
        "\n",
        "# Set deployment configuration\n",
        "deployment_config = AciWebservice.deploy_configuration(cpu_cores=1, \n",
        "                                                       memory_gb=1,\n",
        "                                                       tags={'area': \"AttritionData\", 'type': \"automl_classification\"},\n",
        "                                                       description=description)\n",
        "\n",
        "# Define the model, inference, & deployment configuration and web service name and location to deploy\n",
        "service = Model.deploy(\n",
        "    workspace=ws,\n",
        "    name=\"automl-web-service\",\n",
        "    models=[model],\n",
        "    inference_config=inference_config,\n",
        "    deployment_config=deployment_config)\n",
        "\n",
        "service.wait_for_deployment(show_output=True)\n",
        "print(service.state)"
      ],
      "outputs": [
        {
          "output_type": "stream",
          "name": "stdout",
          "text": [
            "Tips: You can try get_logs(): https://aka.ms/debugimage#dockerlog or local deployment: https://aka.ms/debugimage#debug-locally to debug if deployment takes longer than 10 minutes.\n",
            "Running................................\n",
            "Succeeded\n",
            "ACI service creation operation finished, operation \"Succeeded\"\n",
            "Healthy\n"
          ]
        }
      ],
      "execution_count": 27,
      "metadata": {
        "gather": {
          "logged": 1613776187396
        },
        "jupyter": {
          "outputs_hidden": false,
          "source_hidden": false
        },
        "nteract": {
          "transient": {
            "deleting": false
          }
        }
      }
    },
    {
      "cell_type": "code",
      "source": [
        "# Enable application insights\n",
        "service.update(enable_app_insights = True)"
      ],
      "outputs": [],
      "execution_count": 29,
      "metadata": {
        "gather": {
          "logged": 1613776286735
        }
      }
    },
    {
      "cell_type": "code",
      "source": [
        "print(\"State : \", service.state)\n",
        "# print(\"Key :\", service.get_keys()[0])\n",
        "print(\"Swagger URI : \", service.swagger_uri)\n",
        "print(\"Scoring URI : \", service.scoring_uri)"
      ],
      "outputs": [
        {
          "output_type": "stream",
          "name": "stdout",
          "text": [
            "State :  Healthy\n",
            "Swagger URI :  http://684cb6fc-ab9c-4c8f-8032-654e904eb4f1.southcentralus.azurecontainer.io/swagger.json\n",
            "Scoring URI :  http://684cb6fc-ab9c-4c8f-8032-654e904eb4f1.southcentralus.azurecontainer.io/score\n"
          ]
        }
      ],
      "execution_count": 34,
      "metadata": {
        "gather": {
          "logged": 1613777114255
        }
      }
    },
    {
      "cell_type": "markdown",
      "source": [
        "## Test Deployed model"
      ],
      "metadata": {
        "collapsed": true,
        "gather": {
          "logged": 1598431657736
        },
        "jupyter": {
          "outputs_hidden": false,
          "source_hidden": false
        },
        "nteract": {
          "transient": {
            "deleting": false
          }
        }
      }
    },
    {
      "cell_type": "code",
      "source": [
        "from numpy import array"
      ],
      "outputs": [],
      "execution_count": 35,
      "metadata": {
        "gather": {
          "logged": 1613777181636
        },
        "jupyter": {
          "outputs_hidden": false,
          "source_hidden": false
        },
        "nteract": {
          "transient": {
            "deleting": false
          }
        }
      }
    },
    {
      "cell_type": "code",
      "source": [
        "X_test = ibm_ds.drop_columns(columns=['Attrition'])\r\n",
        "y_test = ibm_ds.keep_columns(columns=['Attrition'], validate=True)"
      ],
      "outputs": [],
      "execution_count": 36,
      "metadata": {
        "collapsed": true,
        "jupyter": {
          "source_hidden": false,
          "outputs_hidden": false
        },
        "nteract": {
          "transient": {
            "deleting": false
          }
        },
        "gather": {
          "logged": 1613777186955
        }
      }
    },
    {
      "cell_type": "code",
      "source": [
        "X_test = X_test.to_pandas_dataframe()\r\n",
        "y_test = y_test.to_pandas_dataframe()"
      ],
      "outputs": [],
      "execution_count": 37,
      "metadata": {
        "collapsed": true,
        "jupyter": {
          "source_hidden": false,
          "outputs_hidden": false
        },
        "nteract": {
          "transient": {
            "deleting": false
          }
        },
        "gather": {
          "logged": 1613777190319
        }
      }
    },
    {
      "cell_type": "code",
      "source": [
        "import json\r\n",
        "import requests\r\n",
        "\r\n",
        "X_test_json = X_test.to_json(orient='records')\r\n",
        "data = \"{\\\"data\\\": \" + X_test_json +\"}\"\r\n",
        "headers = {'Content-Type': 'application/json'}\r\n",
        "\r\n",
        "resp = requests.post(service.scoring_uri, data, headers=headers)\r\n",
        "\r\n",
        "y_pred = json.loads(json.loads(resp.text))['result']"
      ],
      "outputs": [],
      "execution_count": 38,
      "metadata": {
        "collapsed": true,
        "jupyter": {
          "source_hidden": false,
          "outputs_hidden": false
        },
        "nteract": {
          "transient": {
            "deleting": false
          }
        },
        "gather": {
          "logged": 1613777195045
        }
      }
    },
    {
      "cell_type": "code",
      "source": [
        "actual = array(y_test)\r\n",
        "actual = actual[:,0]\r\n",
        "print(len(y_pred), \" \", len(actual))"
      ],
      "outputs": [
        {
          "output_type": "stream",
          "name": "stdout",
          "text": [
            "1470   1470\n"
          ]
        }
      ],
      "execution_count": 39,
      "metadata": {
        "collapsed": true,
        "jupyter": {
          "source_hidden": false,
          "outputs_hidden": false
        },
        "nteract": {
          "transient": {
            "deleting": false
          }
        },
        "gather": {
          "logged": 1613777198763
        }
      }
    },
    {
      "cell_type": "code",
      "source": [
        "%matplotlib inline\r\n",
        "from sklearn.metrics import confusion_matrix\r\n",
        "import matplotlib.pyplot as plt\r\n",
        "import numpy as np\r\n",
        "import itertools\r\n",
        "\r\n",
        "cf =confusion_matrix(actual,y_pred)\r\n",
        "plt.imshow(cf,cmap=plt.cm.Blues,interpolation='nearest')\r\n",
        "plt.colorbar()\r\n",
        "plt.title('Confusion Matrix')\r\n",
        "plt.xlabel('Predicted')\r\n",
        "plt.ylabel('Actual')\r\n",
        "class_labels = ['no','yes']\r\n",
        "tick_marks = np.arange(len(class_labels))\r\n",
        "plt.xticks(tick_marks,class_labels)\r\n",
        "plt.yticks([-0.5,0,1,1.5],['','no','yes',''])\r\n",
        "\r\n",
        "# plotting text value inside cells\r\n",
        "thresh = cf.max() / 2.\r\n",
        "for i,j in itertools.product(range(cf.shape[0]),range(cf.shape[1])):\r\n",
        "    plt.text(j,i,format(cf[i,j],'d'),horizontalalignment='center',color='white' if cf[i,j] >thresh else 'black')\r\n",
        "plt.show()"
      ],
      "outputs": [
        {
          "output_type": "display_data",
          "data": {
            "text/plain": "<Figure size 432x288 with 2 Axes>",
            "image/png": "[encoded data removed]"
          },
          "metadata": {
            "needs_background": "light"
          }
        }
      ],
      "execution_count": 40,
      "metadata": {
        "collapsed": true,
        "jupyter": {
          "source_hidden": false,
          "outputs_hidden": false
        },
        "nteract": {
          "transient": {
            "deleting": false
          }
        },
        "gather": {
          "logged": 1613777204056
        }
      }
    },
    {
      "cell_type": "markdown",
      "source": [
        "TODO: In the cell below, print the logs of the web service and delete the service"
      ],
      "metadata": {
        "collapsed": true,
        "gather": {
          "logged": 1598432765711
        },
        "jupyter": {
          "outputs_hidden": false,
          "source_hidden": false
        },
        "nteract": {
          "transient": {
            "deleting": false
          }
        }
      }
    },
    {
      "cell_type": "code",
      "source": [
        "print(service.get_logs())"
      ],
      "outputs": [
        {
          "output_type": "stream",
          "name": "stdout",
          "text": [
            "2021-02-19T23:16:42,169137200+00:00 - gunicorn/run \n",
            "2021-02-19T23:16:42,176823100+00:00 - rsyslog/run \n",
            "2021-02-19T23:16:42,185851800+00:00 - iot-server/run \n",
            "2021-02-19T23:16:42,202802500+00:00 - nginx/run \n",
            "/usr/sbin/nginx: /azureml-envs/azureml_20a8278aa8b20dd48cc50f56a6d2586c/lib/libcrypto.so.1.0.0: no version information available (required by /usr/sbin/nginx)\n",
            "/usr/sbin/nginx: /azureml-envs/azureml_20a8278aa8b20dd48cc50f56a6d2586c/lib/libcrypto.so.1.0.0: no version information available (required by /usr/sbin/nginx)\n",
            "/usr/sbin/nginx: /azureml-envs/azureml_20a8278aa8b20dd48cc50f56a6d2586c/lib/libssl.so.1.0.0: no version information available (required by /usr/sbin/nginx)\n",
            "/usr/sbin/nginx: /azureml-envs/azureml_20a8278aa8b20dd48cc50f56a6d2586c/lib/libssl.so.1.0.0: no version information available (required by /usr/sbin/nginx)\n",
            "/usr/sbin/nginx: /azureml-envs/azureml_20a8278aa8b20dd48cc50f56a6d2586c/lib/libssl.so.1.0.0: no version information available (required by /usr/sbin/nginx)\n",
            "rsyslogd: /azureml-envs/azureml_20a8278aa8b20dd48cc50f56a6d2586c/lib/libuuid.so.1: no version information available (required by rsyslogd)\n",
            "EdgeHubConnectionString and IOTEDGE_IOTHUBHOSTNAME are not set. Exiting...\n",
            "2021-02-19T23:16:44,155688200+00:00 - iot-server/finish 1 0\n",
            "2021-02-19T23:16:44,172201200+00:00 - Exit code 1 is normal. Not restarting iot-server.\n",
            "Starting gunicorn 19.9.0\n",
            "Listening at: http://127.0.0.1:31311 (69)\n",
            "Using worker: sync\n",
            "worker timeout is set to 300\n",
            "Booting worker with pid: 102\n",
            "SPARK_HOME not set. Skipping PySpark Initialization.\n",
            "Generating new fontManager, this may take some time...\n",
            "Initializing logger\n",
            "2021-02-19 23:16:50,551 | root | INFO | Starting up app insights client\n",
            "2021-02-19 23:16:50,552 | root | INFO | Starting up request id generator\n",
            "2021-02-19 23:16:50,552 | root | INFO | Starting up app insight hooks\n",
            "2021-02-19 23:16:50,552 | root | INFO | Invoking user's init function\n",
            "2021-02-19 23:17:03,753 | root | INFO | Users's init has completed successfully\n",
            "2021-02-19 23:17:03,764 | root | INFO | Skipping middleware: dbg_model_info as it's not enabled.\n",
            "2021-02-19 23:17:03,764 | root | INFO | Skipping middleware: dbg_resource_usage as it's not enabled.\n",
            "2021-02-19 23:17:03,766 | root | INFO | Scoring timeout is found from os.environ: 60000 ms\n",
            "2021-02-19 23:17:08,213 | root | INFO | 200\n",
            "127.0.0.1 - - [19/Feb/2021:23:17:08 +0000] \"GET /swagger.json HTTP/1.0\" 200 4582 \"-\" \"Go-http-client/1.1\"\n",
            "2021-02-19 23:23:26,792 | root | INFO | 200\n",
            "127.0.0.1 - - [19/Feb/2021:23:23:26 +0000] \"GET /swagger.json HTTP/1.0\" 200 4582 \"-\" \"Go-http-client/1.1\"\n",
            "2021-02-19 23:26:33,898 | root | INFO | Validation Request Content-Type\n",
            "2021-02-19 23:26:33,951 | root | INFO | Scoring Timer is set to 60.0 seconds\n",
            "2021-02-19 23:26:34,979 | root | INFO | 200\n",
            "127.0.0.1 - - [19/Feb/2021:23:26:34 +0000] \"POST /score HTTP/1.0\" 200 10114 \"-\" \"python-requests/2.25.1\"\n",
            "\n"
          ]
        }
      ],
      "execution_count": 41,
      "metadata": {
        "jupyter": {
          "outputs_hidden": false,
          "source_hidden": false
        },
        "nteract": {
          "transient": {
            "deleting": false
          }
        },
        "gather": {
          "logged": 1613777218299
        }
      }
    },
    {
      "cell_type": "code",
      "source": [
        "service.delete()"
      ],
      "outputs": [],
      "execution_count": 42,
      "metadata": {
        "collapsed": true,
        "jupyter": {
          "source_hidden": false,
          "outputs_hidden": false
        },
        "nteract": {
          "transient": {
            "deleting": false
          }
        },
        "gather": {
          "logged": 1613781127846
        }
      }
    },
    {
      "cell_type": "code",
      "source": [
        "compute_target.delete()"
      ],
      "outputs": [],
      "execution_count": 43,
      "metadata": {
        "collapsed": true,
        "jupyter": {
          "source_hidden": false,
          "outputs_hidden": false
        },
        "nteract": {
          "transient": {
            "deleting": false
          }
        },
        "gather": {
          "logged": 1613781130718
        }
      }
    }
  ],
  "metadata": {
    "kernel_info": {
      "name": "python3"
    },
    "kernelspec": {
      "name": "python3",
      "language": "python",
      "display_name": "Python 3"
    },
    "language_info": {
      "name": "python",
      "version": "3.6.9",
      "mimetype": "text/x-python",
      "codemirror_mode": {
        "name": "ipython",
        "version": 3
      },
      "pygments_lexer": "ipython3",
      "nbconvert_exporter": "python",
      "file_extension": ".py"
    },
    "nteract": {
      "version": "nteract-front-end@1.0.0"
    }
  },
  "nbformat": 4,
  "nbformat_minor": 2
}