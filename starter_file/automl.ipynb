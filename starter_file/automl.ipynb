{
  "cells": [
    {
      "cell_type": "markdown",
      "source": [
        "# Automated ML"
      ],
      "metadata": {}
    },
    {
      "cell_type": "code",
      "source": [
        "from azureml.core import Experiment, Dataset, Workspace\n",
        "from azureml.core.dataset import Dataset\n",
        "from azureml.train.automl import AutoMLConfig\n",
        "from azureml.core.compute import AmlCompute, ComputeTarget\n",
        "from azureml.core.compute_target import ComputeTargetException\n",
        "from azureml.widgets import RunDetails\n",
        "from azureml.core.model import InferenceConfig, Model\n",
        "from azureml.core.webservice import AciWebservice, Webservice\n",
        "\n",
        "import pandas as pd\n",
        "import logging"
      ],
      "outputs": [],
      "execution_count": 1,
      "metadata": {
        "gather": {
          "logged": 1613964517257
        },
        "jupyter": {
          "outputs_hidden": false,
          "source_hidden": false
        },
        "nteract": {
          "transient": {
            "deleting": false
          }
        }
      }
    },
    {
      "cell_type": "code",
      "source": [
        "ws = Workspace.from_config()\n",
        "\n",
        "# choose a name for experiment\n",
        "experiment_name = 'automl-experiment'\n",
        "\n",
        "experiment=Experiment(ws, experiment_name)"
      ],
      "outputs": [
        {
          "output_type": "stream",
          "name": "stdout",
          "text": [
            "Performing interactive authentication. Please follow the instructions on the terminal.\n",
            "To sign in, use a web browser to open the page https://microsoft.com/devicelogin and enter the code EKV3FRZF3 to authenticate.\n",
            "You have logged in. Now let us find all the subscriptions to which you have access...\n",
            "Interactive authentication successfully completed.\n"
          ]
        }
      ],
      "execution_count": 2,
      "metadata": {
        "gather": {
          "logged": 1613964544802
        },
        "jupyter": {
          "outputs_hidden": false,
          "source_hidden": false
        },
        "nteract": {
          "transient": {
            "deleting": false
          }
        }
      }
    },
    {
      "cell_type": "markdown",
      "source": [
        "## Attrition Dataset\n",
        "\n",
        "### Overview\n",
        "\n",
        "This is a fictional dataset made by the IBM data scientists to find relations between dependent and independent variables. The prediction task consist in detect the factors that lead to employee attrition."
      ],
      "metadata": {}
    },
    {
      "cell_type": "code",
      "source": [
        "# data_path = \"https://raw.githubusercontent.com/jaircastruita/nd00333-capstone/master/starter_file/data/WA_Fn-UseC_-HR-Employee-Attrition.csv\"\n",
        "# ibm_ds = Dataset.Tabular.from_delimited_files(path=data_path)\n",
        "\n",
        "ibm_ds = Dataset.get_by_name(ws, 'attrition-dataset')"
      ],
      "outputs": [],
      "execution_count": 3,
      "metadata": {
        "gather": {
          "logged": 1613964550015
        }
      }
    },
    {
      "cell_type": "code",
      "source": [
        "ibm_ds.to_pandas_dataframe().head()"
      ],
      "outputs": [
        {
          "output_type": "execute_result",
          "execution_count": 4,
          "data": {
            "text/plain": "   Age  Attrition     BusinessTravel  DailyRate              Department  \\\n0   41       True      Travel_Rarely       1102                   Sales   \n1   49      False  Travel_Frequently        279  Research & Development   \n2   37       True      Travel_Rarely       1373  Research & Development   \n3   33      False  Travel_Frequently       1392  Research & Development   \n4   27      False      Travel_Rarely        591  Research & Development   \n\n   DistanceFromHome  Education EducationField  EmployeeCount  EmployeeNumber  \\\n0                 1          2  Life Sciences              1               1   \n1                 8          1  Life Sciences              1               2   \n2                 2          2          Other              1               4   \n3                 3          4  Life Sciences              1               5   \n4                 2          1        Medical              1               7   \n\n   ...  RelationshipSatisfaction StandardHours  StockOptionLevel  \\\n0  ...                         1            80                 0   \n1  ...                         4            80                 1   \n2  ...                         2            80                 0   \n3  ...                         3            80                 0   \n4  ...                         4            80                 1   \n\n   TotalWorkingYears  TrainingTimesLastYear WorkLifeBalance  YearsAtCompany  \\\n0                  8                      0               1               6   \n1                 10                      3               3              10   \n2                  7                      3               3               0   \n3                  8                      3               3               8   \n4                  6                      3               3               2   \n\n  YearsInCurrentRole  YearsSinceLastPromotion  YearsWithCurrManager  \n0                  4                        0                     5  \n1                  7                        1                     7  \n2                  0                        0                     0  \n3                  7                        3                     0  \n4                  2                        2                     2  \n\n[5 rows x 35 columns]",
            "text/html": "<div>\n<style scoped>\n    .dataframe tbody tr th:only-of-type {\n        vertical-align: middle;\n    }\n\n    .dataframe tbody tr th {\n        vertical-align: top;\n    }\n\n    .dataframe thead th {\n        text-align: right;\n    }\n</style>\n<table border=\"1\" class=\"dataframe\">\n  <thead>\n    <tr style=\"text-align: right;\">\n      <th></th>\n      <th>Age</th>\n      <th>Attrition</th>\n      <th>BusinessTravel</th>\n      <th>DailyRate</th>\n      <th>Department</th>\n      <th>DistanceFromHome</th>\n      <th>Education</th>\n      <th>EducationField</th>\n      <th>EmployeeCount</th>\n      <th>EmployeeNumber</th>\n      <th>...</th>\n      <th>RelationshipSatisfaction</th>\n      <th>StandardHours</th>\n      <th>StockOptionLevel</th>\n      <th>TotalWorkingYears</th>\n      <th>TrainingTimesLastYear</th>\n      <th>WorkLifeBalance</th>\n      <th>YearsAtCompany</th>\n      <th>YearsInCurrentRole</th>\n      <th>YearsSinceLastPromotion</th>\n      <th>YearsWithCurrManager</th>\n    </tr>\n  </thead>\n  <tbody>\n    <tr>\n      <th>0</th>\n      <td>41</td>\n      <td>True</td>\n      <td>Travel_Rarely</td>\n      <td>1102</td>\n      <td>Sales</td>\n      <td>1</td>\n      <td>2</td>\n      <td>Life Sciences</td>\n      <td>1</td>\n      <td>1</td>\n      <td>...</td>\n      <td>1</td>\n      <td>80</td>\n      <td>0</td>\n      <td>8</td>\n      <td>0</td>\n      <td>1</td>\n      <td>6</td>\n      <td>4</td>\n      <td>0</td>\n      <td>5</td>\n    </tr>\n    <tr>\n      <th>1</th>\n      <td>49</td>\n      <td>False</td>\n      <td>Travel_Frequently</td>\n      <td>279</td>\n      <td>Research &amp; Development</td>\n      <td>8</td>\n      <td>1</td>\n      <td>Life Sciences</td>\n      <td>1</td>\n      <td>2</td>\n      <td>...</td>\n      <td>4</td>\n      <td>80</td>\n      <td>1</td>\n      <td>10</td>\n      <td>3</td>\n      <td>3</td>\n      <td>10</td>\n      <td>7</td>\n      <td>1</td>\n      <td>7</td>\n    </tr>\n    <tr>\n      <th>2</th>\n      <td>37</td>\n      <td>True</td>\n      <td>Travel_Rarely</td>\n      <td>1373</td>\n      <td>Research &amp; Development</td>\n      <td>2</td>\n      <td>2</td>\n      <td>Other</td>\n      <td>1</td>\n      <td>4</td>\n      <td>...</td>\n      <td>2</td>\n      <td>80</td>\n      <td>0</td>\n      <td>7</td>\n      <td>3</td>\n      <td>3</td>\n      <td>0</td>\n      <td>0</td>\n      <td>0</td>\n      <td>0</td>\n    </tr>\n    <tr>\n      <th>3</th>\n      <td>33</td>\n      <td>False</td>\n      <td>Travel_Frequently</td>\n      <td>1392</td>\n      <td>Research &amp; Development</td>\n      <td>3</td>\n      <td>4</td>\n      <td>Life Sciences</td>\n      <td>1</td>\n      <td>5</td>\n      <td>...</td>\n      <td>3</td>\n      <td>80</td>\n      <td>0</td>\n      <td>8</td>\n      <td>3</td>\n      <td>3</td>\n      <td>8</td>\n      <td>7</td>\n      <td>3</td>\n      <td>0</td>\n    </tr>\n    <tr>\n      <th>4</th>\n      <td>27</td>\n      <td>False</td>\n      <td>Travel_Rarely</td>\n      <td>591</td>\n      <td>Research &amp; Development</td>\n      <td>2</td>\n      <td>1</td>\n      <td>Medical</td>\n      <td>1</td>\n      <td>7</td>\n      <td>...</td>\n      <td>4</td>\n      <td>80</td>\n      <td>1</td>\n      <td>6</td>\n      <td>3</td>\n      <td>3</td>\n      <td>2</td>\n      <td>2</td>\n      <td>2</td>\n      <td>2</td>\n    </tr>\n  </tbody>\n</table>\n<p>5 rows × 35 columns</p>\n</div>"
          },
          "metadata": {}
        }
      ],
      "execution_count": 4,
      "metadata": {
        "collapsed": true,
        "jupyter": {
          "source_hidden": false,
          "outputs_hidden": false
        },
        "nteract": {
          "transient": {
            "deleting": false
          }
        },
        "gather": {
          "logged": 1613964559204
        }
      }
    },
    {
      "cell_type": "markdown",
      "source": [
        "## Creating a compute instance"
      ],
      "metadata": {}
    },
    {
      "cell_type": "code",
      "source": [
        "cluster_name = \"automl-cluster\"\n",
        "\n",
        "try:\n",
        "    compute_target = ComputeTarget(workspace=ws, name=cluster_name)\n",
        "    print(\"Reusing already created cluster: {}\".format(cluster_name))\n",
        "\n",
        "except ComputeTargetException:\n",
        "    print(\"Creating a new compute cluster...\")\n",
        "    cluster_config = AmlCompute.provisioning_configuration(vm_size='STANDARD_D2_V2', max_nodes=5)\n",
        "    compute_target = ComputeTarget.create(workspace=ws, name=cluster_name, provisioning_configuration=cluster_config)\n",
        "\n",
        "compute_target.wait_for_completion(show_output=True)"
      ],
      "outputs": [
        {
          "output_type": "stream",
          "name": "stdout",
          "text": [
            "Creating a new compute cluster...\n",
            "Creating\n",
            "Succeeded\n",
            "AmlCompute wait for completion finished\n",
            "\n",
            "Minimum number of nodes requested have been provisioned\n"
          ]
        }
      ],
      "execution_count": 5,
      "metadata": {
        "gather": {
          "logged": 1613964586697
        }
      }
    },
    {
      "cell_type": "markdown",
      "source": [
        "## AutoML Configuration\n",
        "\n",
        "Given the nature of the selected dataset: tabular, with categorical and numeric columns, relatively few observations with relatively many columns, the following settings were selected in the automl configuration:\n",
        "\n",
        "- *iteration_timeout_minutes* to 30, just to make sure the experiment will finish in a feasible time\n",
        "- *enable_early_stopping* to True in order to not waste resources when the model performance is not improving\n",
        "- *primary_metric* \"AUC_weighted\" given we are facing an umbalanced dataset problem\n",
        "- *verbosity* logging.INFO to capture important events for the model experiments\n",
        "- *max_concurrent_iterations* to 5 in order to parallelize experimentation\n",
        "- *n_cross_validations* to 5 to give an estimated 80-20 proportion to the training-testing sets in each fold\n",
        "- *task* will be \"classification\" because the objective is to identify attrition as a \"Yes\", \"No\" labeling problem "
      ],
      "metadata": {}
    },
    {
      "cell_type": "code",
      "source": [
        "automl_settings = {\"iteration_timeout_minutes\": 30,\n",
        "                    \"enable_early_stopping\": True,\n",
        "                    \"primary_metric\": \"AUC_weighted\",\n",
        "                    \"verbosity\": logging.INFO,\n",
        "                    \"max_concurrent_iterations\": 5,\n",
        "                    \"n_cross_validations\": 5\n",
        "                    }\n",
        "\n",
        "automl_config = AutoMLConfig(task=\"classification\",\n",
        "                             compute_target=compute_target,\n",
        "                             training_data=ibm_ds,\n",
        "                             label_column_name=\"Attrition\",\n",
        "                             **automl_settings)"
      ],
      "outputs": [],
      "execution_count": 6,
      "metadata": {
        "gather": {
          "logged": 1613964596671
        },
        "jupyter": {
          "outputs_hidden": false,
          "source_hidden": false
        },
        "nteract": {
          "transient": {
            "deleting": false
          }
        }
      }
    },
    {
      "cell_type": "code",
      "source": [
        "remote_run = experiment.submit(automl_config, show_output=True)\n",
        "remote_run.wait_for_completion(show_output=True)"
      ],
      "outputs": [
        {
          "output_type": "stream",
          "name": "stdout",
          "text": [
            "Running on remote.\n",
            "No run_configuration provided, running on automl-cluster with default configuration\n",
            "Running on remote compute: automl-cluster\n",
            "Parent Run ID: AutoML_8312b950-2bf8-4a69-ad45-e3a6632c9bca\n",
            "\n",
            "Current status: FeaturesGeneration. Generating features for the dataset.\n",
            "Current status: DatasetFeaturization. Beginning to fit featurizers and featurize the dataset.\n",
            "Current status: DatasetCrossValidationSplit. Generating individually featurized CV splits.\n",
            "Current status: ModelSelection. Beginning model selection.\n",
            "\n",
            "****************************************************************************************************\n",
            "DATA GUARDRAILS: \n",
            "\n",
            "TYPE:         Class balancing detection\n",
            "STATUS:       ALERTED\n",
            "DESCRIPTION:  To decrease model bias, please cancel the current run and fix balancing problem.\n",
            "              Learn more about imbalanced data: https://aka.ms/AutomatedMLImbalancedData\n",
            "DETAILS:      Imbalanced data can lead to a falsely perceived positive effect of a model's accuracy because the input data has bias towards one class.\n",
            "+---------------------------------+---------------------------------+--------------------------------------+\n",
            "|Size of the smallest class       |Name/Label of the smallest class |Number of samples in the training data|\n",
            "+=================================+=================================+======================================+\n",
            "|237                              |True                             |1470                                  |\n",
            "+---------------------------------+---------------------------------+--------------------------------------+\n",
            "\n",
            "****************************************************************************************************\n",
            "\n",
            "TYPE:         Missing feature values imputation\n",
            "STATUS:       PASSED\n",
            "DESCRIPTION:  No feature missing values were detected in the training data.\n",
            "              Learn more about missing value imputation: https://aka.ms/AutomatedMLFeaturization\n",
            "\n",
            "****************************************************************************************************\n",
            "\n",
            "TYPE:         High cardinality feature detection\n",
            "STATUS:       PASSED\n",
            "DESCRIPTION:  Your inputs were analyzed, and no high cardinality features were detected.\n",
            "              Learn more about high cardinality feature handling: https://aka.ms/AutomatedMLFeaturization\n",
            "\n",
            "****************************************************************************************************\n",
            "\n",
            "****************************************************************************************************\n",
            "ITERATION: The iteration being evaluated.\n",
            "PIPELINE: A summary description of the pipeline being evaluated.\n",
            "DURATION: Time taken for the current iteration.\n",
            "METRIC: The result of computing score on the fitted pipeline.\n",
            "BEST: The best observed score thus far.\n",
            "****************************************************************************************************\n",
            "\n",
            " ITERATION   PIPELINE                                       DURATION      METRIC      BEST\n",
            "         0   MaxAbsScaler LightGBM                          0:01:15       0.7989    0.7989\n",
            "         4   MaxAbsScaler RandomForest                      0:01:08       0.7552    0.7989\n",
            "         1   MaxAbsScaler XGBoostClassifier                 0:01:09       0.7960    0.7989\n",
            "         7   MaxAbsScaler ExtremeRandomTrees                0:01:16       0.7839    0.7989\n",
            "         6   MaxAbsScaler ExtremeRandomTrees                0:03:32       0.7972    0.7989\n",
            "         2   MaxAbsScaler RandomForest                      0:03:51       0.7657    0.7989\n",
            "         3   MaxAbsScaler RandomForest                      0:03:42       0.7692    0.7989\n",
            "         5   MaxAbsScaler ExtremeRandomTrees                0:03:46       0.7711    0.7989\n",
            "         8   MaxAbsScaler RandomForest                      0:01:13       0.7772    0.7989\n",
            "        10   MaxAbsScaler RandomForest                      0:01:09       0.7526    0.7989\n",
            "         9   MaxAbsScaler ExtremeRandomTrees                0:01:10       0.7858    0.7989\n",
            "        11   MaxAbsScaler RandomForest                      0:01:06       0.7579    0.7989\n",
            "        12   MaxAbsScaler RandomForest                      0:01:04       0.7784    0.7989\n",
            "        13   StandardScalerWrapper XGBoostClassifier        0:01:16       0.7770    0.7989\n",
            "        14   MaxAbsScaler RandomForest                      0:01:11       0.7631    0.7989\n",
            "        15   StandardScalerWrapper ExtremeRandomTrees       0:01:11       0.7431    0.7989\n",
            "        16   MaxAbsScaler ExtremeRandomTrees                0:01:04       0.7849    0.7989\n",
            "        17   MaxAbsScaler ExtremeRandomTrees                0:01:10       0.7996    0.7996\n",
            "        18   MaxAbsScaler RandomForest                      0:01:04       0.7670    0.7996\n",
            "        19   StandardScalerWrapper LogisticRegression       0:01:13       0.7948    0.7996\n",
            "        20   MaxAbsScaler LightGBM                          0:01:08       0.8185    0.8185\n",
            "        21   MaxAbsScaler LightGBM                          0:01:08       0.8104    0.8185\n",
            "        23   MaxAbsScaler LightGBM                          0:01:04       0.8032    0.8185\n",
            "        22   MaxAbsScaler LightGBM                          0:01:09       0.8005    0.8185\n",
            "        24   MaxAbsScaler LightGBM                          0:01:10       0.8067    0.8185\n",
            "        25   StandardScalerWrapper LightGBM                 0:01:07       0.7851    0.8185\n",
            "        26   StandardScalerWrapper XGBoostClassifier        0:01:06       0.7991    0.8185\n",
            "        27   StandardScalerWrapper ExtremeRandomTrees       0:01:18       0.7732    0.8185\n",
            "        28   StandardScalerWrapper XGBoostClassifier        0:01:10       0.8126    0.8185\n",
            "        29   MaxAbsScaler LogisticRegression                0:01:14       0.8013    0.8185\n",
            "        30   SparseNormalizer LightGBM                      0:01:04       0.8128    0.8185\n",
            "        31   MaxAbsScaler LogisticRegression                0:01:17       0.7897    0.8185\n",
            "        32   SparseNormalizer XGBoostClassifier             0:01:30       0.8057    0.8185\n",
            "        33   SparseNormalizer LightGBM                      0:01:07       0.8032    0.8185\n",
            "        34   SparseNormalizer LightGBM                      0:01:13       0.8003    0.8185\n",
            "        35   SparseNormalizer LightGBM                      0:01:05       0.8125    0.8185\n",
            "        36                                                  0:00:16          nan    0.8185\n",
            "        38    StackEnsemble                                 0:01:28       0.8354    0.8354\n",
            "        37    VotingEnsemble                                0:01:32       0.8387    0.8387\n",
            "\n",
            "\n",
            "****************************************************************************************************\n",
            "DATA GUARDRAILS: \n",
            "\n",
            "TYPE:         Class balancing detection\n",
            "STATUS:       ALERTED\n",
            "DESCRIPTION:  To decrease model bias, please cancel the current run and fix balancing problem.\n",
            "              Learn more about imbalanced data: https://aka.ms/AutomatedMLImbalancedData\n",
            "DETAILS:      Imbalanced data can lead to a falsely perceived positive effect of a model's accuracy because the input data has bias towards one class.\n",
            "+---------------------------------+---------------------------------+--------------------------------------+\n",
            "|Size of the smallest class       |Name/Label of the smallest class |Number of samples in the training data|\n",
            "+=================================+=================================+======================================+\n",
            "|237                              |True                             |1470                                  |\n",
            "+---------------------------------+---------------------------------+--------------------------------------+\n",
            "\n",
            "****************************************************************************************************\n",
            "\n",
            "TYPE:         Missing feature values imputation\n",
            "STATUS:       PASSED\n",
            "DESCRIPTION:  No feature missing values were detected in the training data.\n",
            "              Learn more about missing value imputation: https://aka.ms/AutomatedMLFeaturization\n",
            "\n",
            "****************************************************************************************************\n",
            "\n",
            "TYPE:         High cardinality feature detection\n",
            "STATUS:       PASSED\n",
            "DESCRIPTION:  Your inputs were analyzed, and no high cardinality features were detected.\n",
            "              Learn more about high cardinality feature handling: https://aka.ms/AutomatedMLFeaturization\n",
            "\n",
            "****************************************************************************************************\n",
            "\n",
            "****************************************************************************************************\n",
            "ITERATION: The iteration being evaluated.\n",
            "PIPELINE: A summary description of the pipeline being evaluated.\n",
            "DURATION: Time taken for the current iteration.\n",
            "METRIC: The result of computing score on the fitted pipeline.\n",
            "BEST: The best observed score thus far.\n",
            "****************************************************************************************************\n",
            "\n",
            " ITERATION   PIPELINE                                       DURATION      METRIC      BEST\n",
            "         0   MaxAbsScaler LightGBM                          0:01:15       0.7989    0.7989\n",
            "         1   MaxAbsScaler XGBoostClassifier                 0:01:09       0.7960    0.7989\n",
            "         2   MaxAbsScaler RandomForest                      0:03:51       0.7657    0.7989\n",
            "         3   MaxAbsScaler RandomForest                      0:03:42       0.7692    0.7989\n",
            "         4   MaxAbsScaler RandomForest                      0:01:08       0.7552    0.7989\n",
            "         5   MaxAbsScaler ExtremeRandomTrees                0:03:46       0.7711    0.7989\n",
            "         6   MaxAbsScaler ExtremeRandomTrees                0:03:32       0.7972    0.7989\n",
            "         7   MaxAbsScaler ExtremeRandomTrees                0:01:16       0.7839    0.7989\n",
            "         8   MaxAbsScaler RandomForest                      0:01:13       0.7772    0.7989\n",
            "         9   MaxAbsScaler ExtremeRandomTrees                0:01:10       0.7858    0.7989\n",
            "        10   MaxAbsScaler RandomForest                      0:01:09       0.7526    0.7989\n",
            "        11   MaxAbsScaler RandomForest                      0:01:06       0.7579    0.7989\n",
            "        12   MaxAbsScaler RandomForest                      0:01:04       0.7784    0.7989\n",
            "        13   StandardScalerWrapper XGBoostClassifier        0:01:16       0.7770    0.7989\n",
            "        14   MaxAbsScaler RandomForest                      0:01:11       0.7631    0.7989\n",
            "        15   StandardScalerWrapper ExtremeRandomTrees       0:01:11       0.7431    0.7989\n",
            "        16   MaxAbsScaler ExtremeRandomTrees                0:01:04       0.7849    0.7989\n",
            "        17   MaxAbsScaler ExtremeRandomTrees                0:01:10       0.7996    0.7996\n",
            "        18   MaxAbsScaler RandomForest                      0:01:04       0.7670    0.7996\n",
            "        19   StandardScalerWrapper LogisticRegression       0:01:13       0.7948    0.7996\n",
            "        20   MaxAbsScaler LightGBM                          0:01:08       0.8185    0.8185\n",
            "        21   MaxAbsScaler LightGBM                          0:01:08       0.8104    0.8185\n",
            "        22   MaxAbsScaler LightGBM                          0:01:09       0.8005    0.8185\n",
            "        23   MaxAbsScaler LightGBM                          0:01:04       0.8032    0.8185\n",
            "        24   MaxAbsScaler LightGBM                          0:01:10       0.8067    0.8185\n",
            "        25   StandardScalerWrapper LightGBM                 0:01:07       0.7851    0.8185\n",
            "        26   StandardScalerWrapper XGBoostClassifier        0:01:06       0.7991    0.8185\n",
            "        27   StandardScalerWrapper ExtremeRandomTrees       0:01:18       0.7732    0.8185\n",
            "        28   StandardScalerWrapper XGBoostClassifier        0:01:10       0.8126    0.8185\n",
            "        29   MaxAbsScaler LogisticRegression                0:01:14       0.8013    0.8185\n",
            "        30   SparseNormalizer LightGBM                      0:01:04       0.8128    0.8185\n",
            "        31   MaxAbsScaler LogisticRegression                0:01:17       0.7897    0.8185\n",
            "        32   SparseNormalizer XGBoostClassifier             0:01:30       0.8057    0.8185\n",
            "        33   SparseNormalizer LightGBM                      0:01:07       0.8032    0.8185\n",
            "        34   SparseNormalizer LightGBM                      0:01:13       0.8003    0.8185\n",
            "        35   SparseNormalizer LightGBM                      0:01:05       0.8125    0.8185\n",
            "        36                                                  0:00:16          nan    0.8185\n",
            "        37    VotingEnsemble                                0:01:32       0.8387    0.8387\n",
            "        38    StackEnsemble                                 0:01:28       0.8354    0.8387\n"
          ]
        },
        {
          "output_type": "execute_result",
          "execution_count": 7,
          "data": {
            "text/plain": "{'runId': 'AutoML_8312b950-2bf8-4a69-ad45-e3a6632c9bca',\n 'target': 'automl-cluster',\n 'status': 'Completed',\n 'startTimeUtc': '2021-02-22T03:30:25.391237Z',\n 'endTimeUtc': '2021-02-22T03:58:46.432569Z',\n 'properties': {'num_iterations': '1000',\n  'training_type': 'TrainFull',\n  'acquisition_function': 'EI',\n  'primary_metric': 'AUC_weighted',\n  'train_split': '0',\n  'acquisition_parameter': '0',\n  'num_cross_validation': '5',\n  'target': 'automl-cluster',\n  'AMLSettingsJsonString': '{\"path\":null,\"name\":\"automl-experiment\",\"subscription_id\":\"510b94ba-e453-4417-988b-fbdc37b55ca7\",\"resource_group\":\"aml-quickstarts-139301\",\"workspace_name\":\"quick-starts-ws-139301\",\"region\":\"southcentralus\",\"compute_target\":\"automl-cluster\",\"spark_service\":null,\"azure_service\":\"remote\",\"many_models\":false,\"pipeline_fetch_max_batch_size\":1,\"iterations\":1000,\"primary_metric\":\"AUC_weighted\",\"task_type\":\"classification\",\"data_script\":null,\"validation_size\":0.0,\"n_cross_validations\":5,\"y_min\":null,\"y_max\":null,\"num_classes\":null,\"featurization\":\"auto\",\"_ignore_package_version_incompatibilities\":false,\"is_timeseries\":false,\"max_cores_per_iteration\":1,\"max_concurrent_iterations\":5,\"iteration_timeout_minutes\":30,\"mem_in_mb\":null,\"enforce_time_on_windows\":false,\"experiment_timeout_minutes\":8640,\"experiment_exit_score\":null,\"whitelist_models\":null,\"blacklist_algos\":[\"TensorFlowLinearClassifier\",\"TensorFlowDNN\"],\"supported_models\":[\"SGD\",\"MultinomialNaiveBayes\",\"TensorFlowDNN\",\"SVM\",\"LinearSVM\",\"BernoulliNaiveBayes\",\"LightGBM\",\"KNN\",\"LogisticRegression\",\"RandomForest\",\"XGBoostClassifier\",\"GradientBoosting\",\"DecisionTree\",\"ExtremeRandomTrees\",\"AveragedPerceptronClassifier\",\"TensorFlowLinearClassifier\"],\"auto_blacklist\":true,\"blacklist_samples_reached\":false,\"exclude_nan_labels\":true,\"verbosity\":20,\"_debug_log\":\"azureml_automl.log\",\"show_warnings\":false,\"model_explainability\":true,\"service_url\":null,\"sdk_url\":null,\"sdk_packages\":null,\"enable_onnx_compatible_models\":false,\"enable_split_onnx_featurizer_estimator_models\":false,\"vm_type\":\"STANDARD_D2_V2\",\"telemetry_verbosity\":20,\"send_telemetry\":true,\"enable_dnn\":false,\"scenario\":\"SDK-1.13.0\",\"environment_label\":null,\"force_text_dnn\":false,\"enable_feature_sweeping\":true,\"enable_early_stopping\":true,\"early_stopping_n_iters\":10,\"metrics\":null,\"enable_ensembling\":true,\"enable_stack_ensembling\":true,\"ensemble_iterations\":15,\"enable_tf\":false,\"enable_subsampling\":null,\"subsample_seed\":null,\"enable_nimbusml\":false,\"enable_streaming\":false,\"force_streaming\":false,\"track_child_runs\":true,\"allowed_private_models\":[],\"label_column_name\":\"Attrition\",\"weight_column_name\":null,\"cv_split_column_names\":null,\"enable_local_managed\":false,\"_local_managed_run_id\":null,\"cost_mode\":1,\"lag_length\":0,\"metric_operation\":\"maximize\",\"preprocess\":true}',\n  'DataPrepJsonString': '{\\\\\"training_data\\\\\": \\\\\"{\\\\\\\\\\\\\"blocks\\\\\\\\\\\\\": [{\\\\\\\\\\\\\"id\\\\\\\\\\\\\": \\\\\\\\\\\\\"603bbbc0-db02-44f0-a65c-e6383e1632f1\\\\\\\\\\\\\", \\\\\\\\\\\\\"type\\\\\\\\\\\\\": \\\\\\\\\\\\\"Microsoft.DPrep.GetDatastoreFilesBlock\\\\\\\\\\\\\", \\\\\\\\\\\\\"arguments\\\\\\\\\\\\\": {\\\\\\\\\\\\\"datastores\\\\\\\\\\\\\": [{\\\\\\\\\\\\\"datastoreName\\\\\\\\\\\\\": \\\\\\\\\\\\\"workspaceblobstore\\\\\\\\\\\\\", \\\\\\\\\\\\\"path\\\\\\\\\\\\\": \\\\\\\\\\\\\"UI/02-22-2021_032648_UTC/WA_Fn-UseC_-HR-Employee-Attrition.csv\\\\\\\\\\\\\", \\\\\\\\\\\\\"resourceGroup\\\\\\\\\\\\\": \\\\\\\\\\\\\"aml-quickstarts-139301\\\\\\\\\\\\\", \\\\\\\\\\\\\"subscription\\\\\\\\\\\\\": \\\\\\\\\\\\\"510b94ba-e453-4417-988b-fbdc37b55ca7\\\\\\\\\\\\\", \\\\\\\\\\\\\"workspaceName\\\\\\\\\\\\\": \\\\\\\\\\\\\"quick-starts-ws-139301\\\\\\\\\\\\\"}]}, \\\\\\\\\\\\\"localData\\\\\\\\\\\\\": {}, \\\\\\\\\\\\\"isEnabled\\\\\\\\\\\\\": true, \\\\\\\\\\\\\"name\\\\\\\\\\\\\": null, \\\\\\\\\\\\\"annotation\\\\\\\\\\\\\": null}, {\\\\\\\\\\\\\"id\\\\\\\\\\\\\": \\\\\\\\\\\\\"fc386f24-6342-4551-95be-40e92a3186d4\\\\\\\\\\\\\", \\\\\\\\\\\\\"type\\\\\\\\\\\\\": \\\\\\\\\\\\\"Microsoft.DPrep.ParseDelimitedBlock\\\\\\\\\\\\\", \\\\\\\\\\\\\"arguments\\\\\\\\\\\\\": {\\\\\\\\\\\\\"columnHeadersMode\\\\\\\\\\\\\": 1, \\\\\\\\\\\\\"fileEncoding\\\\\\\\\\\\\": 0, \\\\\\\\\\\\\"handleQuotedLineBreaks\\\\\\\\\\\\\": false, \\\\\\\\\\\\\"preview\\\\\\\\\\\\\": false, \\\\\\\\\\\\\"separator\\\\\\\\\\\\\": \\\\\\\\\\\\\",\\\\\\\\\\\\\", \\\\\\\\\\\\\"skipRows\\\\\\\\\\\\\": 0, \\\\\\\\\\\\\"skipRowsMode\\\\\\\\\\\\\": 0}, \\\\\\\\\\\\\"localData\\\\\\\\\\\\\": {}, \\\\\\\\\\\\\"isEnabled\\\\\\\\\\\\\": true, \\\\\\\\\\\\\"name\\\\\\\\\\\\\": null, \\\\\\\\\\\\\"annotation\\\\\\\\\\\\\": null}, {\\\\\\\\\\\\\"id\\\\\\\\\\\\\": \\\\\\\\\\\\\"603e510a-4935-4dfc-a5fb-d11bb9811fc0\\\\\\\\\\\\\", \\\\\\\\\\\\\"type\\\\\\\\\\\\\": \\\\\\\\\\\\\"Microsoft.DPrep.DropColumnsBlock\\\\\\\\\\\\\", \\\\\\\\\\\\\"arguments\\\\\\\\\\\\\": {\\\\\\\\\\\\\"columns\\\\\\\\\\\\\": {\\\\\\\\\\\\\"type\\\\\\\\\\\\\": 0, \\\\\\\\\\\\\"details\\\\\\\\\\\\\": {\\\\\\\\\\\\\"selectedColumns\\\\\\\\\\\\\": [\\\\\\\\\\\\\"Path\\\\\\\\\\\\\"]}}}, \\\\\\\\\\\\\"localData\\\\\\\\\\\\\": {}, \\\\\\\\\\\\\"isEnabled\\\\\\\\\\\\\": true, \\\\\\\\\\\\\"name\\\\\\\\\\\\\": null, \\\\\\\\\\\\\"annotation\\\\\\\\\\\\\": null}, {\\\\\\\\\\\\\"id\\\\\\\\\\\\\": \\\\\\\\\\\\\"7bd819a9-5a74-4a75-a0d5-0c4156619e89\\\\\\\\\\\\\", \\\\\\\\\\\\\"type\\\\\\\\\\\\\": \\\\\\\\\\\\\"Microsoft.DPrep.SetColumnTypesBlock\\\\\\\\\\\\\", \\\\\\\\\\\\\"arguments\\\\\\\\\\\\\": {\\\\\\\\\\\\\"columnConversion\\\\\\\\\\\\\": [{\\\\\\\\\\\\\"column\\\\\\\\\\\\\": {\\\\\\\\\\\\\"type\\\\\\\\\\\\\": 2, \\\\\\\\\\\\\"details\\\\\\\\\\\\\": {\\\\\\\\\\\\\"selectedColumn\\\\\\\\\\\\\": \\\\\\\\\\\\\"Path\\\\\\\\\\\\\"}}, \\\\\\\\\\\\\"typeProperty\\\\\\\\\\\\\": 0}, {\\\\\\\\\\\\\"column\\\\\\\\\\\\\": {\\\\\\\\\\\\\"type\\\\\\\\\\\\\": 2, \\\\\\\\\\\\\"details\\\\\\\\\\\\\": {\\\\\\\\\\\\\"selectedColumn\\\\\\\\\\\\\": \\\\\\\\\\\\\"Age\\\\\\\\\\\\\"}}, \\\\\\\\\\\\\"typeProperty\\\\\\\\\\\\\": 2}, {\\\\\\\\\\\\\"column\\\\\\\\\\\\\": {\\\\\\\\\\\\\"type\\\\\\\\\\\\\": 2, \\\\\\\\\\\\\"details\\\\\\\\\\\\\": {\\\\\\\\\\\\\"selectedColumn\\\\\\\\\\\\\": \\\\\\\\\\\\\"Attrition\\\\\\\\\\\\\"}}, \\\\\\\\\\\\\"typeProperty\\\\\\\\\\\\\": 1}, {\\\\\\\\\\\\\"column\\\\\\\\\\\\\": {\\\\\\\\\\\\\"type\\\\\\\\\\\\\": 2, \\\\\\\\\\\\\"details\\\\\\\\\\\\\": {\\\\\\\\\\\\\"selectedColumn\\\\\\\\\\\\\": \\\\\\\\\\\\\"BusinessTravel\\\\\\\\\\\\\"}}, \\\\\\\\\\\\\"typeProperty\\\\\\\\\\\\\": 0}, {\\\\\\\\\\\\\"column\\\\\\\\\\\\\": {\\\\\\\\\\\\\"type\\\\\\\\\\\\\": 2, \\\\\\\\\\\\\"details\\\\\\\\\\\\\": {\\\\\\\\\\\\\"selectedColumn\\\\\\\\\\\\\": \\\\\\\\\\\\\"DailyRate\\\\\\\\\\\\\"}}, \\\\\\\\\\\\\"typeProperty\\\\\\\\\\\\\": 2}, {\\\\\\\\\\\\\"column\\\\\\\\\\\\\": {\\\\\\\\\\\\\"type\\\\\\\\\\\\\": 2, \\\\\\\\\\\\\"details\\\\\\\\\\\\\": {\\\\\\\\\\\\\"selectedColumn\\\\\\\\\\\\\": \\\\\\\\\\\\\"Department\\\\\\\\\\\\\"}}, \\\\\\\\\\\\\"typeProperty\\\\\\\\\\\\\": 0}, {\\\\\\\\\\\\\"column\\\\\\\\\\\\\": {\\\\\\\\\\\\\"type\\\\\\\\\\\\\": 2, \\\\\\\\\\\\\"details\\\\\\\\\\\\\": {\\\\\\\\\\\\\"selectedColumn\\\\\\\\\\\\\": \\\\\\\\\\\\\"DistanceFromHome\\\\\\\\\\\\\"}}, \\\\\\\\\\\\\"typeProperty\\\\\\\\\\\\\": 2}, {\\\\\\\\\\\\\"column\\\\\\\\\\\\\": {\\\\\\\\\\\\\"type\\\\\\\\\\\\\": 2, \\\\\\\\\\\\\"details\\\\\\\\\\\\\": {\\\\\\\\\\\\\"selectedColumn\\\\\\\\\\\\\": \\\\\\\\\\\\\"Education\\\\\\\\\\\\\"}}, \\\\\\\\\\\\\"typeProperty\\\\\\\\\\\\\": 2}, {\\\\\\\\\\\\\"column\\\\\\\\\\\\\": {\\\\\\\\\\\\\"type\\\\\\\\\\\\\": 2, \\\\\\\\\\\\\"details\\\\\\\\\\\\\": {\\\\\\\\\\\\\"selectedColumn\\\\\\\\\\\\\": \\\\\\\\\\\\\"EducationField\\\\\\\\\\\\\"}}, \\\\\\\\\\\\\"typeProperty\\\\\\\\\\\\\": 0}, {\\\\\\\\\\\\\"column\\\\\\\\\\\\\": {\\\\\\\\\\\\\"type\\\\\\\\\\\\\": 2, \\\\\\\\\\\\\"details\\\\\\\\\\\\\": {\\\\\\\\\\\\\"selectedColumn\\\\\\\\\\\\\": \\\\\\\\\\\\\"EmployeeCount\\\\\\\\\\\\\"}}, \\\\\\\\\\\\\"typeProperty\\\\\\\\\\\\\": 2}, {\\\\\\\\\\\\\"column\\\\\\\\\\\\\": {\\\\\\\\\\\\\"type\\\\\\\\\\\\\": 2, \\\\\\\\\\\\\"details\\\\\\\\\\\\\": {\\\\\\\\\\\\\"selectedColumn\\\\\\\\\\\\\": \\\\\\\\\\\\\"EmployeeNumber\\\\\\\\\\\\\"}}, \\\\\\\\\\\\\"typeProperty\\\\\\\\\\\\\": 2}, {\\\\\\\\\\\\\"column\\\\\\\\\\\\\": {\\\\\\\\\\\\\"type\\\\\\\\\\\\\": 2, \\\\\\\\\\\\\"details\\\\\\\\\\\\\": {\\\\\\\\\\\\\"selectedColumn\\\\\\\\\\\\\": \\\\\\\\\\\\\"EnvironmentSatisfaction\\\\\\\\\\\\\"}}, \\\\\\\\\\\\\"typeProperty\\\\\\\\\\\\\": 2}, {\\\\\\\\\\\\\"column\\\\\\\\\\\\\": {\\\\\\\\\\\\\"type\\\\\\\\\\\\\": 2, \\\\\\\\\\\\\"details\\\\\\\\\\\\\": {\\\\\\\\\\\\\"selectedColumn\\\\\\\\\\\\\": \\\\\\\\\\\\\"Gender\\\\\\\\\\\\\"}}, \\\\\\\\\\\\\"typeProperty\\\\\\\\\\\\\": 0}, {\\\\\\\\\\\\\"column\\\\\\\\\\\\\": {\\\\\\\\\\\\\"type\\\\\\\\\\\\\": 2, \\\\\\\\\\\\\"details\\\\\\\\\\\\\": {\\\\\\\\\\\\\"selectedColumn\\\\\\\\\\\\\": \\\\\\\\\\\\\"HourlyRate\\\\\\\\\\\\\"}}, \\\\\\\\\\\\\"typeProperty\\\\\\\\\\\\\": 2}, {\\\\\\\\\\\\\"column\\\\\\\\\\\\\": {\\\\\\\\\\\\\"type\\\\\\\\\\\\\": 2, \\\\\\\\\\\\\"details\\\\\\\\\\\\\": {\\\\\\\\\\\\\"selectedColumn\\\\\\\\\\\\\": \\\\\\\\\\\\\"JobInvolvement\\\\\\\\\\\\\"}}, \\\\\\\\\\\\\"typeProperty\\\\\\\\\\\\\": 2}, {\\\\\\\\\\\\\"column\\\\\\\\\\\\\": {\\\\\\\\\\\\\"type\\\\\\\\\\\\\": 2, \\\\\\\\\\\\\"details\\\\\\\\\\\\\": {\\\\\\\\\\\\\"selectedColumn\\\\\\\\\\\\\": \\\\\\\\\\\\\"JobLevel\\\\\\\\\\\\\"}}, \\\\\\\\\\\\\"typeProperty\\\\\\\\\\\\\": 2}, {\\\\\\\\\\\\\"column\\\\\\\\\\\\\": {\\\\\\\\\\\\\"type\\\\\\\\\\\\\": 2, \\\\\\\\\\\\\"details\\\\\\\\\\\\\": {\\\\\\\\\\\\\"selectedColumn\\\\\\\\\\\\\": \\\\\\\\\\\\\"JobRole\\\\\\\\\\\\\"}}, \\\\\\\\\\\\\"typeProperty\\\\\\\\\\\\\": 0}, {\\\\\\\\\\\\\"column\\\\\\\\\\\\\": {\\\\\\\\\\\\\"type\\\\\\\\\\\\\": 2, \\\\\\\\\\\\\"details\\\\\\\\\\\\\": {\\\\\\\\\\\\\"selectedColumn\\\\\\\\\\\\\": \\\\\\\\\\\\\"JobSatisfaction\\\\\\\\\\\\\"}}, \\\\\\\\\\\\\"typeProperty\\\\\\\\\\\\\": 2}, {\\\\\\\\\\\\\"column\\\\\\\\\\\\\": {\\\\\\\\\\\\\"type\\\\\\\\\\\\\": 2, \\\\\\\\\\\\\"details\\\\\\\\\\\\\": {\\\\\\\\\\\\\"selectedColumn\\\\\\\\\\\\\": \\\\\\\\\\\\\"MaritalStatus\\\\\\\\\\\\\"}}, \\\\\\\\\\\\\"typeProperty\\\\\\\\\\\\\": 0}, {\\\\\\\\\\\\\"column\\\\\\\\\\\\\": {\\\\\\\\\\\\\"type\\\\\\\\\\\\\": 2, \\\\\\\\\\\\\"details\\\\\\\\\\\\\": {\\\\\\\\\\\\\"selectedColumn\\\\\\\\\\\\\": \\\\\\\\\\\\\"MonthlyIncome\\\\\\\\\\\\\"}}, \\\\\\\\\\\\\"typeProperty\\\\\\\\\\\\\": 2}, {\\\\\\\\\\\\\"column\\\\\\\\\\\\\": {\\\\\\\\\\\\\"type\\\\\\\\\\\\\": 2, \\\\\\\\\\\\\"details\\\\\\\\\\\\\": {\\\\\\\\\\\\\"selectedColumn\\\\\\\\\\\\\": \\\\\\\\\\\\\"MonthlyRate\\\\\\\\\\\\\"}}, \\\\\\\\\\\\\"typeProperty\\\\\\\\\\\\\": 2}, {\\\\\\\\\\\\\"column\\\\\\\\\\\\\": {\\\\\\\\\\\\\"type\\\\\\\\\\\\\": 2, \\\\\\\\\\\\\"details\\\\\\\\\\\\\": {\\\\\\\\\\\\\"selectedColumn\\\\\\\\\\\\\": \\\\\\\\\\\\\"NumCompaniesWorked\\\\\\\\\\\\\"}}, \\\\\\\\\\\\\"typeProperty\\\\\\\\\\\\\": 2}, {\\\\\\\\\\\\\"column\\\\\\\\\\\\\": {\\\\\\\\\\\\\"type\\\\\\\\\\\\\": 2, \\\\\\\\\\\\\"details\\\\\\\\\\\\\": {\\\\\\\\\\\\\"selectedColumn\\\\\\\\\\\\\": \\\\\\\\\\\\\"Over18\\\\\\\\\\\\\"}}, \\\\\\\\\\\\\"typeProperty\\\\\\\\\\\\\": 1}, {\\\\\\\\\\\\\"column\\\\\\\\\\\\\": {\\\\\\\\\\\\\"type\\\\\\\\\\\\\": 2, \\\\\\\\\\\\\"details\\\\\\\\\\\\\": {\\\\\\\\\\\\\"selectedColumn\\\\\\\\\\\\\": \\\\\\\\\\\\\"OverTime\\\\\\\\\\\\\"}}, \\\\\\\\\\\\\"typeProperty\\\\\\\\\\\\\": 1}, {\\\\\\\\\\\\\"column\\\\\\\\\\\\\": {\\\\\\\\\\\\\"type\\\\\\\\\\\\\": 2, \\\\\\\\\\\\\"details\\\\\\\\\\\\\": {\\\\\\\\\\\\\"selectedColumn\\\\\\\\\\\\\": \\\\\\\\\\\\\"PercentSalaryHike\\\\\\\\\\\\\"}}, \\\\\\\\\\\\\"typeProperty\\\\\\\\\\\\\": 2}, {\\\\\\\\\\\\\"column\\\\\\\\\\\\\": {\\\\\\\\\\\\\"type\\\\\\\\\\\\\": 2, \\\\\\\\\\\\\"details\\\\\\\\\\\\\": {\\\\\\\\\\\\\"selectedColumn\\\\\\\\\\\\\": \\\\\\\\\\\\\"PerformanceRating\\\\\\\\\\\\\"}}, \\\\\\\\\\\\\"typeProperty\\\\\\\\\\\\\": 2}, {\\\\\\\\\\\\\"column\\\\\\\\\\\\\": {\\\\\\\\\\\\\"type\\\\\\\\\\\\\": 2, \\\\\\\\\\\\\"details\\\\\\\\\\\\\": {\\\\\\\\\\\\\"selectedColumn\\\\\\\\\\\\\": \\\\\\\\\\\\\"RelationshipSatisfaction\\\\\\\\\\\\\"}}, \\\\\\\\\\\\\"typeProperty\\\\\\\\\\\\\": 2}, {\\\\\\\\\\\\\"column\\\\\\\\\\\\\": {\\\\\\\\\\\\\"type\\\\\\\\\\\\\": 2, \\\\\\\\\\\\\"details\\\\\\\\\\\\\": {\\\\\\\\\\\\\"selectedColumn\\\\\\\\\\\\\": \\\\\\\\\\\\\"StandardHours\\\\\\\\\\\\\"}}, \\\\\\\\\\\\\"typeProperty\\\\\\\\\\\\\": 2}, {\\\\\\\\\\\\\"column\\\\\\\\\\\\\": {\\\\\\\\\\\\\"type\\\\\\\\\\\\\": 2, \\\\\\\\\\\\\"details\\\\\\\\\\\\\": {\\\\\\\\\\\\\"selectedColumn\\\\\\\\\\\\\": \\\\\\\\\\\\\"StockOptionLevel\\\\\\\\\\\\\"}}, \\\\\\\\\\\\\"typeProperty\\\\\\\\\\\\\": 2}, {\\\\\\\\\\\\\"column\\\\\\\\\\\\\": {\\\\\\\\\\\\\"type\\\\\\\\\\\\\": 2, \\\\\\\\\\\\\"details\\\\\\\\\\\\\": {\\\\\\\\\\\\\"selectedColumn\\\\\\\\\\\\\": \\\\\\\\\\\\\"TotalWorkingYears\\\\\\\\\\\\\"}}, \\\\\\\\\\\\\"typeProperty\\\\\\\\\\\\\": 2}, {\\\\\\\\\\\\\"column\\\\\\\\\\\\\": {\\\\\\\\\\\\\"type\\\\\\\\\\\\\": 2, \\\\\\\\\\\\\"details\\\\\\\\\\\\\": {\\\\\\\\\\\\\"selectedColumn\\\\\\\\\\\\\": \\\\\\\\\\\\\"TrainingTimesLastYear\\\\\\\\\\\\\"}}, \\\\\\\\\\\\\"typeProperty\\\\\\\\\\\\\": 2}, {\\\\\\\\\\\\\"column\\\\\\\\\\\\\": {\\\\\\\\\\\\\"type\\\\\\\\\\\\\": 2, \\\\\\\\\\\\\"details\\\\\\\\\\\\\": {\\\\\\\\\\\\\"selectedColumn\\\\\\\\\\\\\": \\\\\\\\\\\\\"WorkLifeBalance\\\\\\\\\\\\\"}}, \\\\\\\\\\\\\"typeProperty\\\\\\\\\\\\\": 2}, {\\\\\\\\\\\\\"column\\\\\\\\\\\\\": {\\\\\\\\\\\\\"type\\\\\\\\\\\\\": 2, \\\\\\\\\\\\\"details\\\\\\\\\\\\\": {\\\\\\\\\\\\\"selectedColumn\\\\\\\\\\\\\": \\\\\\\\\\\\\"YearsAtCompany\\\\\\\\\\\\\"}}, \\\\\\\\\\\\\"typeProperty\\\\\\\\\\\\\": 2}, {\\\\\\\\\\\\\"column\\\\\\\\\\\\\": {\\\\\\\\\\\\\"type\\\\\\\\\\\\\": 2, \\\\\\\\\\\\\"details\\\\\\\\\\\\\": {\\\\\\\\\\\\\"selectedColumn\\\\\\\\\\\\\": \\\\\\\\\\\\\"YearsInCurrentRole\\\\\\\\\\\\\"}}, \\\\\\\\\\\\\"typeProperty\\\\\\\\\\\\\": 2}, {\\\\\\\\\\\\\"column\\\\\\\\\\\\\": {\\\\\\\\\\\\\"type\\\\\\\\\\\\\": 2, \\\\\\\\\\\\\"details\\\\\\\\\\\\\": {\\\\\\\\\\\\\"selectedColumn\\\\\\\\\\\\\": \\\\\\\\\\\\\"YearsSinceLastPromotion\\\\\\\\\\\\\"}}, \\\\\\\\\\\\\"typeProperty\\\\\\\\\\\\\": 2}, {\\\\\\\\\\\\\"column\\\\\\\\\\\\\": {\\\\\\\\\\\\\"type\\\\\\\\\\\\\": 2, \\\\\\\\\\\\\"details\\\\\\\\\\\\\": {\\\\\\\\\\\\\"selectedColumn\\\\\\\\\\\\\": \\\\\\\\\\\\\"YearsWithCurrManager\\\\\\\\\\\\\"}}, \\\\\\\\\\\\\"typeProperty\\\\\\\\\\\\\": 2}]}, \\\\\\\\\\\\\"localData\\\\\\\\\\\\\": {}, \\\\\\\\\\\\\"isEnabled\\\\\\\\\\\\\": true, \\\\\\\\\\\\\"name\\\\\\\\\\\\\": null, \\\\\\\\\\\\\"annotation\\\\\\\\\\\\\": null}], \\\\\\\\\\\\\"inspectors\\\\\\\\\\\\\": [], \\\\\\\\\\\\\"meta\\\\\\\\\\\\\": {\\\\\\\\\\\\\"savedDatasetId\\\\\\\\\\\\\": \\\\\\\\\\\\\"7bd01591-c82c-4ca2-b528-a50f4e675341\\\\\\\\\\\\\", \\\\\\\\\\\\\"datasetType\\\\\\\\\\\\\": \\\\\\\\\\\\\"tabular\\\\\\\\\\\\\", \\\\\\\\\\\\\"subscriptionId\\\\\\\\\\\\\": \\\\\\\\\\\\\"510b94ba-e453-4417-988b-fbdc37b55ca7\\\\\\\\\\\\\", \\\\\\\\\\\\\"workspaceId\\\\\\\\\\\\\": \\\\\\\\\\\\\"faf9a834-a658-4485-a4a0-96b08318a8fa\\\\\\\\\\\\\", \\\\\\\\\\\\\"workspaceLocation\\\\\\\\\\\\\": \\\\\\\\\\\\\"southcentralus\\\\\\\\\\\\\"}}\\\\\", \\\\\"activities\\\\\": 0}',\n  'EnableSubsampling': None,\n  'runTemplate': 'AutoML',\n  'azureml.runsource': 'automl',\n  'display_task_type': 'classification',\n  'dependencies_versions': '{\"azureml-widgets\": \"1.20.0\", \"azureml-train\": \"1.20.0\", \"azureml-train-restclients-hyperdrive\": \"1.20.0\", \"azureml-train-core\": \"1.20.0\", \"azureml-train-automl\": \"1.20.0\", \"azureml-train-automl-runtime\": \"1.20.0\", \"azureml-train-automl-client\": \"1.20.0\", \"azureml-tensorboard\": \"1.20.0\", \"azureml-telemetry\": \"1.20.0\", \"azureml-sdk\": \"1.20.0\", \"azureml-samples\": \"0+unknown\", \"azureml-pipeline\": \"1.20.0\", \"azureml-pipeline-steps\": \"1.20.0\", \"azureml-pipeline-core\": \"1.20.0\", \"azureml-opendatasets\": \"1.20.0\", \"azureml-model-management-sdk\": \"1.0.1b6.post1\", \"azureml-mlflow\": \"1.20.0.post1\", \"azureml-interpret\": \"1.20.0\", \"azureml-explain-model\": \"1.20.0\", \"azureml-defaults\": \"1.20.0\", \"azureml-dataset-runtime\": \"1.20.0\", \"azureml-dataprep\": \"2.7.3\", \"azureml-dataprep-rslex\": \"1.5.0\", \"azureml-dataprep-native\": \"27.0.0\", \"azureml-datadrift\": \"1.20.0\", \"azureml-core\": \"1.20.0\", \"azureml-contrib-services\": \"1.20.0\", \"azureml-contrib-server\": \"1.20.0\", \"azureml-contrib-reinforcementlearning\": \"1.20.0\", \"azureml-contrib-pipeline-steps\": \"1.20.0\", \"azureml-contrib-notebook\": \"1.20.0\", \"azureml-contrib-interpret\": \"1.20.0\", \"azureml-contrib-gbdt\": \"1.20.0\", \"azureml-contrib-fairness\": \"1.20.0\", \"azureml-contrib-dataset\": \"1.20.0\", \"azureml-cli-common\": \"1.20.0\", \"azureml-automl-runtime\": \"1.20.0\", \"azureml-automl-core\": \"1.20.0\", \"azureml-accel-models\": \"1.20.0\"}',\n  '_aml_system_scenario_identification': 'Remote.Parent',\n  'ClientType': 'SDK',\n  'environment_cpu_name': 'AzureML-AutoML',\n  'environment_cpu_label': 'prod',\n  'environment_gpu_name': 'AzureML-AutoML-GPU',\n  'environment_gpu_label': 'prod',\n  'root_attribution': 'automl',\n  'attribution': 'AutoML',\n  'Orchestrator': 'AutoML',\n  'CancelUri': 'https://southcentralus.experiments.azureml.net/jasmine/v1.0/subscriptions/510b94ba-e453-4417-988b-fbdc37b55ca7/resourceGroups/aml-quickstarts-139301/providers/Microsoft.MachineLearningServices/workspaces/quick-starts-ws-139301/experimentids/06a076b1-834e-4fc7-9088-283299bb7e74/cancel/AutoML_8312b950-2bf8-4a69-ad45-e3a6632c9bca',\n  'ClientSdkVersion': '1.22.0',\n  'snapshotId': '00000000-0000-0000-0000-000000000000',\n  'SetupRunId': 'AutoML_8312b950-2bf8-4a69-ad45-e3a6632c9bca_setup',\n  'SetupRunContainerId': 'dcid.AutoML_8312b950-2bf8-4a69-ad45-e3a6632c9bca_setup',\n  'FeaturizationRunJsonPath': 'featurizer_container.json',\n  'FeaturizationRunId': 'AutoML_8312b950-2bf8-4a69-ad45-e3a6632c9bca_featurize',\n  'ProblemInfoJsonString': '{\"dataset_num_categorical\": 0, \"is_sparse\": true, \"subsampling\": false, \"dataset_classes\": 2, \"dataset_features\": 300, \"dataset_samples\": 1470, \"single_frequency_class_detected\": false}',\n  'ModelExplainRunId': 'AutoML_8312b950-2bf8-4a69-ad45-e3a6632c9bca_ModelExplain'},\n 'inputDatasets': [{'dataset': {'id': '7bd01591-c82c-4ca2-b528-a50f4e675341'}, 'consumptionDetails': {'type': 'RunInput', 'inputName': 'training_data', 'mechanism': 'Direct'}}],\n 'outputDatasets': [],\n 'logFiles': {},\n 'submittedBy': 'ODL_User 139301'}"
          },
          "metadata": {}
        }
      ],
      "execution_count": 7,
      "metadata": {
        "gather": {
          "logged": 1613966538578
        },
        "jupyter": {
          "outputs_hidden": false,
          "source_hidden": false
        },
        "nteract": {
          "transient": {
            "deleting": false
          }
        }
      }
    },
    {
      "cell_type": "code",
      "source": [
        "# from azureml.train.automl.run import AutoMLRun\r\n",
        "\r\n",
        "# remote_run = AutoMLRun(experiment=experiment, run_id='AutoML_087c6ad3-ea12-4397-aec0-abb21503bc96')"
      ],
      "outputs": [],
      "execution_count": 9,
      "metadata": {
        "collapsed": true,
        "jupyter": {
          "source_hidden": false,
          "outputs_hidden": false
        },
        "nteract": {
          "transient": {
            "deleting": false
          }
        },
        "gather": {
          "logged": 1613774281558
        }
      }
    },
    {
      "cell_type": "code",
      "source": [
        "remote_run"
      ],
      "outputs": [
        {
          "output_type": "execute_result",
          "execution_count": 8,
          "data": {
            "text/plain": "Run(Experiment: automl-experiment,\nId: AutoML_8312b950-2bf8-4a69-ad45-e3a6632c9bca,\nType: automl,\nStatus: Completed)",
            "text/html": "<table style=\"width:100%\"><tr><th>Experiment</th><th>Id</th><th>Type</th><th>Status</th><th>Details Page</th><th>Docs Page</th></tr><tr><td>automl-experiment</td><td>AutoML_8312b950-2bf8-4a69-ad45-e3a6632c9bca</td><td>automl</td><td>Completed</td><td><a href=\"https://ml.azure.com/experiments/automl-experiment/runs/AutoML_8312b950-2bf8-4a69-ad45-e3a6632c9bca?wsid=/subscriptions/510b94ba-e453-4417-988b-fbdc37b55ca7/resourcegroups/aml-quickstarts-139301/workspaces/quick-starts-ws-139301\" target=\"_blank\" rel=\"noopener\">Link to Azure Machine Learning studio</a></td><td><a href=\"https://docs.microsoft.com/en-us/python/api/overview/azure/ml/intro?view=azure-ml-py\" target=\"_blank\" rel=\"noopener\">Link to Documentation</a></td></tr></table>"
          },
          "metadata": {}
        }
      ],
      "execution_count": 8,
      "metadata": {
        "collapsed": true,
        "jupyter": {
          "source_hidden": false,
          "outputs_hidden": false
        },
        "nteract": {
          "transient": {
            "deleting": false
          }
        },
        "gather": {
          "logged": 1613966650889
        }
      }
    },
    {
      "cell_type": "markdown",
      "source": [
        "## Run Details\n",
        "\n",
        "OPTIONAL: Write about the different models trained and their performance. Why do you think some models did better than others?"
      ],
      "metadata": {}
    },
    {
      "cell_type": "code",
      "source": [
        "RunDetails(remote_run).show()"
      ],
      "outputs": [
        {
          "output_type": "display_data",
          "data": {
            "text/plain": "_AutoMLWidget(widget_settings={'childWidgetDisplay': 'popup', 'send_telemetry': False, 'log_level': 'INFO', 's…",
            "application/vnd.jupyter.widget-view+json": {
              "version_major": 2,
              "version_minor": 0,
              "model_id": "47da41b38599437bb8aa7b5fb221c285"
            }
          },
          "metadata": {}
        },
        {
          "output_type": "display_data",
          "data": {
            "application/aml.mini.widget.v1": "{\"status\": \"Completed\", \"workbench_run_details_uri\": \"https://ml.azure.com/experiments/automl-experiment/runs/AutoML_8312b950-2bf8-4a69-ad45-e3a6632c9bca?wsid=/subscriptions/510b94ba-e453-4417-988b-fbdc37b55ca7/resourcegroups/aml-quickstarts-139301/workspaces/quick-starts-ws-139301\", \"run_id\": \"AutoML_8312b950-2bf8-4a69-ad45-e3a6632c9bca\", \"run_properties\": {\"run_id\": \"AutoML_8312b950-2bf8-4a69-ad45-e3a6632c9bca\", \"created_utc\": \"2021-02-22T03:30:08.874405Z\", \"properties\": {\"num_iterations\": \"1000\", \"training_type\": \"TrainFull\", \"acquisition_function\": \"EI\", \"primary_metric\": \"AUC_weighted\", \"train_split\": \"0\", \"acquisition_parameter\": \"0\", \"num_cross_validation\": \"5\", \"target\": \"automl-cluster\", \"AMLSettingsJsonString\": \"{\\\"path\\\":null,\\\"name\\\":\\\"automl-experiment\\\",\\\"subscription_id\\\":\\\"510b94ba-e453-4417-988b-fbdc37b55ca7\\\",\\\"resource_group\\\":\\\"aml-quickstarts-139301\\\",\\\"workspace_name\\\":\\\"quick-starts-ws-139301\\\",\\\"region\\\":\\\"southcentralus\\\",\\\"compute_target\\\":\\\"automl-cluster\\\",\\\"spark_service\\\":null,\\\"azure_service\\\":\\\"remote\\\",\\\"many_models\\\":false,\\\"pipeline_fetch_max_batch_size\\\":1,\\\"iterations\\\":1000,\\\"primary_metric\\\":\\\"AUC_weighted\\\",\\\"task_type\\\":\\\"classification\\\",\\\"data_script\\\":null,\\\"validation_size\\\":0.0,\\\"n_cross_validations\\\":5,\\\"y_min\\\":null,\\\"y_max\\\":null,\\\"num_classes\\\":null,\\\"featurization\\\":\\\"auto\\\",\\\"_ignore_package_version_incompatibilities\\\":false,\\\"is_timeseries\\\":false,\\\"max_cores_per_iteration\\\":1,\\\"max_concurrent_iterations\\\":5,\\\"iteration_timeout_minutes\\\":30,\\\"mem_in_mb\\\":null,\\\"enforce_time_on_windows\\\":false,\\\"experiment_timeout_minutes\\\":8640,\\\"experiment_exit_score\\\":null,\\\"whitelist_models\\\":null,\\\"blacklist_algos\\\":[\\\"TensorFlowLinearClassifier\\\",\\\"TensorFlowDNN\\\"],\\\"supported_models\\\":[\\\"SGD\\\",\\\"MultinomialNaiveBayes\\\",\\\"TensorFlowDNN\\\",\\\"SVM\\\",\\\"LinearSVM\\\",\\\"BernoulliNaiveBayes\\\",\\\"LightGBM\\\",\\\"KNN\\\",\\\"LogisticRegression\\\",\\\"RandomForest\\\",\\\"XGBoostClassifier\\\",\\\"GradientBoosting\\\",\\\"DecisionTree\\\",\\\"ExtremeRandomTrees\\\",\\\"AveragedPerceptronClassifier\\\",\\\"TensorFlowLinearClassifier\\\"],\\\"auto_blacklist\\\":true,\\\"blacklist_samples_reached\\\":false,\\\"exclude_nan_labels\\\":true,\\\"verbosity\\\":20,\\\"_debug_log\\\":\\\"azureml_automl.log\\\",\\\"show_warnings\\\":false,\\\"model_explainability\\\":true,\\\"service_url\\\":null,\\\"sdk_url\\\":null,\\\"sdk_packages\\\":null,\\\"enable_onnx_compatible_models\\\":false,\\\"enable_split_onnx_featurizer_estimator_models\\\":false,\\\"vm_type\\\":\\\"STANDARD_D2_V2\\\",\\\"telemetry_verbosity\\\":20,\\\"send_telemetry\\\":true,\\\"enable_dnn\\\":false,\\\"scenario\\\":\\\"SDK-1.13.0\\\",\\\"environment_label\\\":null,\\\"force_text_dnn\\\":false,\\\"enable_feature_sweeping\\\":true,\\\"enable_early_stopping\\\":true,\\\"early_stopping_n_iters\\\":10,\\\"metrics\\\":null,\\\"enable_ensembling\\\":true,\\\"enable_stack_ensembling\\\":true,\\\"ensemble_iterations\\\":15,\\\"enable_tf\\\":false,\\\"enable_subsampling\\\":null,\\\"subsample_seed\\\":null,\\\"enable_nimbusml\\\":false,\\\"enable_streaming\\\":false,\\\"force_streaming\\\":false,\\\"track_child_runs\\\":true,\\\"allowed_private_models\\\":[],\\\"label_column_name\\\":\\\"Attrition\\\",\\\"weight_column_name\\\":null,\\\"cv_split_column_names\\\":null,\\\"enable_local_managed\\\":false,\\\"_local_managed_run_id\\\":null,\\\"cost_mode\\\":1,\\\"lag_length\\\":0,\\\"metric_operation\\\":\\\"maximize\\\",\\\"preprocess\\\":true}\", \"DataPrepJsonString\": \"{\\\\\\\"training_data\\\\\\\": \\\\\\\"{\\\\\\\\\\\\\\\"blocks\\\\\\\\\\\\\\\": [{\\\\\\\\\\\\\\\"id\\\\\\\\\\\\\\\": \\\\\\\\\\\\\\\"603bbbc0-db02-44f0-a65c-e6383e1632f1\\\\\\\\\\\\\\\", \\\\\\\\\\\\\\\"type\\\\\\\\\\\\\\\": \\\\\\\\\\\\\\\"Microsoft.DPrep.GetDatastoreFilesBlock\\\\\\\\\\\\\\\", \\\\\\\\\\\\\\\"arguments\\\\\\\\\\\\\\\": {\\\\\\\\\\\\\\\"datastores\\\\\\\\\\\\\\\": [{\\\\\\\\\\\\\\\"datastoreName\\\\\\\\\\\\\\\": \\\\\\\\\\\\\\\"workspaceblobstore\\\\\\\\\\\\\\\", \\\\\\\\\\\\\\\"path\\\\\\\\\\\\\\\": \\\\\\\\\\\\\\\"UI/02-22-2021_032648_UTC/WA_Fn-UseC_-HR-Employee-Attrition.csv\\\\\\\\\\\\\\\", \\\\\\\\\\\\\\\"resourceGroup\\\\\\\\\\\\\\\": \\\\\\\\\\\\\\\"aml-quickstarts-139301\\\\\\\\\\\\\\\", \\\\\\\\\\\\\\\"subscription\\\\\\\\\\\\\\\": \\\\\\\\\\\\\\\"510b94ba-e453-4417-988b-fbdc37b55ca7\\\\\\\\\\\\\\\", \\\\\\\\\\\\\\\"workspaceName\\\\\\\\\\\\\\\": \\\\\\\\\\\\\\\"quick-starts-ws-139301\\\\\\\\\\\\\\\"}]}, \\\\\\\\\\\\\\\"localData\\\\\\\\\\\\\\\": {}, \\\\\\\\\\\\\\\"isEnabled\\\\\\\\\\\\\\\": true, \\\\\\\\\\\\\\\"name\\\\\\\\\\\\\\\": null, \\\\\\\\\\\\\\\"annotation\\\\\\\\\\\\\\\": null}, {\\\\\\\\\\\\\\\"id\\\\\\\\\\\\\\\": \\\\\\\\\\\\\\\"fc386f24-6342-4551-95be-40e92a3186d4\\\\\\\\\\\\\\\", \\\\\\\\\\\\\\\"type\\\\\\\\\\\\\\\": \\\\\\\\\\\\\\\"Microsoft.DPrep.ParseDelimitedBlock\\\\\\\\\\\\\\\", \\\\\\\\\\\\\\\"arguments\\\\\\\\\\\\\\\": {\\\\\\\\\\\\\\\"columnHeadersMode\\\\\\\\\\\\\\\": 1, \\\\\\\\\\\\\\\"fileEncoding\\\\\\\\\\\\\\\": 0, \\\\\\\\\\\\\\\"handleQuotedLineBreaks\\\\\\\\\\\\\\\": false, \\\\\\\\\\\\\\\"preview\\\\\\\\\\\\\\\": false, \\\\\\\\\\\\\\\"separator\\\\\\\\\\\\\\\": \\\\\\\\\\\\\\\",\\\\\\\\\\\\\\\", \\\\\\\\\\\\\\\"skipRows\\\\\\\\\\\\\\\": 0, \\\\\\\\\\\\\\\"skipRowsMode\\\\\\\\\\\\\\\": 0}, \\\\\\\\\\\\\\\"localData\\\\\\\\\\\\\\\": {}, \\\\\\\\\\\\\\\"isEnabled\\\\\\\\\\\\\\\": true, \\\\\\\\\\\\\\\"name\\\\\\\\\\\\\\\": null, \\\\\\\\\\\\\\\"annotation\\\\\\\\\\\\\\\": null}, {\\\\\\\\\\\\\\\"id\\\\\\\\\\\\\\\": \\\\\\\\\\\\\\\"603e510a-4935-4dfc-a5fb-d11bb9811fc0\\\\\\\\\\\\\\\", \\\\\\\\\\\\\\\"type\\\\\\\\\\\\\\\": \\\\\\\\\\\\\\\"Microsoft.DPrep.DropColumnsBlock\\\\\\\\\\\\\\\", \\\\\\\\\\\\\\\"arguments\\\\\\\\\\\\\\\": {\\\\\\\\\\\\\\\"columns\\\\\\\\\\\\\\\": {\\\\\\\\\\\\\\\"type\\\\\\\\\\\\\\\": 0, \\\\\\\\\\\\\\\"details\\\\\\\\\\\\\\\": {\\\\\\\\\\\\\\\"selectedColumns\\\\\\\\\\\\\\\": [\\\\\\\\\\\\\\\"Path\\\\\\\\\\\\\\\"]}}}, \\\\\\\\\\\\\\\"localData\\\\\\\\\\\\\\\": {}, \\\\\\\\\\\\\\\"isEnabled\\\\\\\\\\\\\\\": true, \\\\\\\\\\\\\\\"name\\\\\\\\\\\\\\\": null, \\\\\\\\\\\\\\\"annotation\\\\\\\\\\\\\\\": null}, {\\\\\\\\\\\\\\\"id\\\\\\\\\\\\\\\": \\\\\\\\\\\\\\\"7bd819a9-5a74-4a75-a0d5-0c4156619e89\\\\\\\\\\\\\\\", \\\\\\\\\\\\\\\"type\\\\\\\\\\\\\\\": \\\\\\\\\\\\\\\"Microsoft.DPrep.SetColumnTypesBlock\\\\\\\\\\\\\\\", \\\\\\\\\\\\\\\"arguments\\\\\\\\\\\\\\\": {\\\\\\\\\\\\\\\"columnConversion\\\\\\\\\\\\\\\": [{\\\\\\\\\\\\\\\"column\\\\\\\\\\\\\\\": {\\\\\\\\\\\\\\\"type\\\\\\\\\\\\\\\": 2, \\\\\\\\\\\\\\\"details\\\\\\\\\\\\\\\": {\\\\\\\\\\\\\\\"selectedColumn\\\\\\\\\\\\\\\": \\\\\\\\\\\\\\\"Path\\\\\\\\\\\\\\\"}}, \\\\\\\\\\\\\\\"typeProperty\\\\\\\\\\\\\\\": 0}, {\\\\\\\\\\\\\\\"column\\\\\\\\\\\\\\\": {\\\\\\\\\\\\\\\"type\\\\\\\\\\\\\\\": 2, \\\\\\\\\\\\\\\"details\\\\\\\\\\\\\\\": {\\\\\\\\\\\\\\\"selectedColumn\\\\\\\\\\\\\\\": \\\\\\\\\\\\\\\"Age\\\\\\\\\\\\\\\"}}, \\\\\\\\\\\\\\\"typeProperty\\\\\\\\\\\\\\\": 2}, {\\\\\\\\\\\\\\\"column\\\\\\\\\\\\\\\": {\\\\\\\\\\\\\\\"type\\\\\\\\\\\\\\\": 2, \\\\\\\\\\\\\\\"details\\\\\\\\\\\\\\\": {\\\\\\\\\\\\\\\"selectedColumn\\\\\\\\\\\\\\\": \\\\\\\\\\\\\\\"Attrition\\\\\\\\\\\\\\\"}}, \\\\\\\\\\\\\\\"typeProperty\\\\\\\\\\\\\\\": 1}, {\\\\\\\\\\\\\\\"column\\\\\\\\\\\\\\\": {\\\\\\\\\\\\\\\"type\\\\\\\\\\\\\\\": 2, \\\\\\\\\\\\\\\"details\\\\\\\\\\\\\\\": {\\\\\\\\\\\\\\\"selectedColumn\\\\\\\\\\\\\\\": \\\\\\\\\\\\\\\"BusinessTravel\\\\\\\\\\\\\\\"}}, \\\\\\\\\\\\\\\"typeProperty\\\\\\\\\\\\\\\": 0}, {\\\\\\\\\\\\\\\"column\\\\\\\\\\\\\\\": {\\\\\\\\\\\\\\\"type\\\\\\\\\\\\\\\": 2, \\\\\\\\\\\\\\\"details\\\\\\\\\\\\\\\": {\\\\\\\\\\\\\\\"selectedColumn\\\\\\\\\\\\\\\": \\\\\\\\\\\\\\\"DailyRate\\\\\\\\\\\\\\\"}}, \\\\\\\\\\\\\\\"typeProperty\\\\\\\\\\\\\\\": 2}, {\\\\\\\\\\\\\\\"column\\\\\\\\\\\\\\\": {\\\\\\\\\\\\\\\"type\\\\\\\\\\\\\\\": 2, \\\\\\\\\\\\\\\"details\\\\\\\\\\\\\\\": {\\\\\\\\\\\\\\\"selectedColumn\\\\\\\\\\\\\\\": \\\\\\\\\\\\\\\"Department\\\\\\\\\\\\\\\"}}, \\\\\\\\\\\\\\\"typeProperty\\\\\\\\\\\\\\\": 0}, {\\\\\\\\\\\\\\\"column\\\\\\\\\\\\\\\": {\\\\\\\\\\\\\\\"type\\\\\\\\\\\\\\\": 2, \\\\\\\\\\\\\\\"details\\\\\\\\\\\\\\\": {\\\\\\\\\\\\\\\"selectedColumn\\\\\\\\\\\\\\\": \\\\\\\\\\\\\\\"DistanceFromHome\\\\\\\\\\\\\\\"}}, \\\\\\\\\\\\\\\"typeProperty\\\\\\\\\\\\\\\": 2}, {\\\\\\\\\\\\\\\"column\\\\\\\\\\\\\\\": {\\\\\\\\\\\\\\\"type\\\\\\\\\\\\\\\": 2, \\\\\\\\\\\\\\\"details\\\\\\\\\\\\\\\": {\\\\\\\\\\\\\\\"selectedColumn\\\\\\\\\\\\\\\": \\\\\\\\\\\\\\\"Education\\\\\\\\\\\\\\\"}}, \\\\\\\\\\\\\\\"typeProperty\\\\\\\\\\\\\\\": 2}, {\\\\\\\\\\\\\\\"column\\\\\\\\\\\\\\\": {\\\\\\\\\\\\\\\"type\\\\\\\\\\\\\\\": 2, \\\\\\\\\\\\\\\"details\\\\\\\\\\\\\\\": {\\\\\\\\\\\\\\\"selectedColumn\\\\\\\\\\\\\\\": \\\\\\\\\\\\\\\"EducationField\\\\\\\\\\\\\\\"}}, \\\\\\\\\\\\\\\"typeProperty\\\\\\\\\\\\\\\": 0}, {\\\\\\\\\\\\\\\"column\\\\\\\\\\\\\\\": {\\\\\\\\\\\\\\\"type\\\\\\\\\\\\\\\": 2, \\\\\\\\\\\\\\\"details\\\\\\\\\\\\\\\": {\\\\\\\\\\\\\\\"selectedColumn\\\\\\\\\\\\\\\": \\\\\\\\\\\\\\\"EmployeeCount\\\\\\\\\\\\\\\"}}, \\\\\\\\\\\\\\\"typeProperty\\\\\\\\\\\\\\\": 2}, {\\\\\\\\\\\\\\\"column\\\\\\\\\\\\\\\": {\\\\\\\\\\\\\\\"type\\\\\\\\\\\\\\\": 2, \\\\\\\\\\\\\\\"details\\\\\\\\\\\\\\\": {\\\\\\\\\\\\\\\"selectedColumn\\\\\\\\\\\\\\\": \\\\\\\\\\\\\\\"EmployeeNumber\\\\\\\\\\\\\\\"}}, \\\\\\\\\\\\\\\"typeProperty\\\\\\\\\\\\\\\": 2}, {\\\\\\\\\\\\\\\"column\\\\\\\\\\\\\\\": {\\\\\\\\\\\\\\\"type\\\\\\\\\\\\\\\": 2, \\\\\\\\\\\\\\\"details\\\\\\\\\\\\\\\": {\\\\\\\\\\\\\\\"selectedColumn\\\\\\\\\\\\\\\": \\\\\\\\\\\\\\\"EnvironmentSatisfaction\\\\\\\\\\\\\\\"}}, \\\\\\\\\\\\\\\"typeProperty\\\\\\\\\\\\\\\": 2}, {\\\\\\\\\\\\\\\"column\\\\\\\\\\\\\\\": {\\\\\\\\\\\\\\\"type\\\\\\\\\\\\\\\": 2, \\\\\\\\\\\\\\\"details\\\\\\\\\\\\\\\": {\\\\\\\\\\\\\\\"selectedColumn\\\\\\\\\\\\\\\": \\\\\\\\\\\\\\\"Gender\\\\\\\\\\\\\\\"}}, \\\\\\\\\\\\\\\"typeProperty\\\\\\\\\\\\\\\": 0}, {\\\\\\\\\\\\\\\"column\\\\\\\\\\\\\\\": {\\\\\\\\\\\\\\\"type\\\\\\\\\\\\\\\": 2, \\\\\\\\\\\\\\\"details\\\\\\\\\\\\\\\": {\\\\\\\\\\\\\\\"selectedColumn\\\\\\\\\\\\\\\": \\\\\\\\\\\\\\\"HourlyRate\\\\\\\\\\\\\\\"}}, \\\\\\\\\\\\\\\"typeProperty\\\\\\\\\\\\\\\": 2}, {\\\\\\\\\\\\\\\"column\\\\\\\\\\\\\\\": {\\\\\\\\\\\\\\\"type\\\\\\\\\\\\\\\": 2, \\\\\\\\\\\\\\\"details\\\\\\\\\\\\\\\": {\\\\\\\\\\\\\\\"selectedColumn\\\\\\\\\\\\\\\": \\\\\\\\\\\\\\\"JobInvolvement\\\\\\\\\\\\\\\"}}, \\\\\\\\\\\\\\\"typeProperty\\\\\\\\\\\\\\\": 2}, {\\\\\\\\\\\\\\\"column\\\\\\\\\\\\\\\": {\\\\\\\\\\\\\\\"type\\\\\\\\\\\\\\\": 2, \\\\\\\\\\\\\\\"details\\\\\\\\\\\\\\\": {\\\\\\\\\\\\\\\"selectedColumn\\\\\\\\\\\\\\\": \\\\\\\\\\\\\\\"JobLevel\\\\\\\\\\\\\\\"}}, \\\\\\\\\\\\\\\"typeProperty\\\\\\\\\\\\\\\": 2}, {\\\\\\\\\\\\\\\"column\\\\\\\\\\\\\\\": {\\\\\\\\\\\\\\\"type\\\\\\\\\\\\\\\": 2, \\\\\\\\\\\\\\\"details\\\\\\\\\\\\\\\": {\\\\\\\\\\\\\\\"selectedColumn\\\\\\\\\\\\\\\": \\\\\\\\\\\\\\\"JobRole\\\\\\\\\\\\\\\"}}, \\\\\\\\\\\\\\\"typeProperty\\\\\\\\\\\\\\\": 0}, {\\\\\\\\\\\\\\\"column\\\\\\\\\\\\\\\": {\\\\\\\\\\\\\\\"type\\\\\\\\\\\\\\\": 2, \\\\\\\\\\\\\\\"details\\\\\\\\\\\\\\\": {\\\\\\\\\\\\\\\"selectedColumn\\\\\\\\\\\\\\\": \\\\\\\\\\\\\\\"JobSatisfaction\\\\\\\\\\\\\\\"}}, \\\\\\\\\\\\\\\"typeProperty\\\\\\\\\\\\\\\": 2}, {\\\\\\\\\\\\\\\"column\\\\\\\\\\\\\\\": {\\\\\\\\\\\\\\\"type\\\\\\\\\\\\\\\": 2, \\\\\\\\\\\\\\\"details\\\\\\\\\\\\\\\": {\\\\\\\\\\\\\\\"selectedColumn\\\\\\\\\\\\\\\": \\\\\\\\\\\\\\\"MaritalStatus\\\\\\\\\\\\\\\"}}, \\\\\\\\\\\\\\\"typeProperty\\\\\\\\\\\\\\\": 0}, {\\\\\\\\\\\\\\\"column\\\\\\\\\\\\\\\": {\\\\\\\\\\\\\\\"type\\\\\\\\\\\\\\\": 2, \\\\\\\\\\\\\\\"details\\\\\\\\\\\\\\\": {\\\\\\\\\\\\\\\"selectedColumn\\\\\\\\\\\\\\\": \\\\\\\\\\\\\\\"MonthlyIncome\\\\\\\\\\\\\\\"}}, \\\\\\\\\\\\\\\"typeProperty\\\\\\\\\\\\\\\": 2}, {\\\\\\\\\\\\\\\"column\\\\\\\\\\\\\\\": {\\\\\\\\\\\\\\\"type\\\\\\\\\\\\\\\": 2, \\\\\\\\\\\\\\\"details\\\\\\\\\\\\\\\": {\\\\\\\\\\\\\\\"selectedColumn\\\\\\\\\\\\\\\": \\\\\\\\\\\\\\\"MonthlyRate\\\\\\\\\\\\\\\"}}, \\\\\\\\\\\\\\\"typeProperty\\\\\\\\\\\\\\\": 2}, {\\\\\\\\\\\\\\\"column\\\\\\\\\\\\\\\": {\\\\\\\\\\\\\\\"type\\\\\\\\\\\\\\\": 2, \\\\\\\\\\\\\\\"details\\\\\\\\\\\\\\\": {\\\\\\\\\\\\\\\"selectedColumn\\\\\\\\\\\\\\\": \\\\\\\\\\\\\\\"NumCompaniesWorked\\\\\\\\\\\\\\\"}}, \\\\\\\\\\\\\\\"typeProperty\\\\\\\\\\\\\\\": 2}, {\\\\\\\\\\\\\\\"column\\\\\\\\\\\\\\\": {\\\\\\\\\\\\\\\"type\\\\\\\\\\\\\\\": 2, \\\\\\\\\\\\\\\"details\\\\\\\\\\\\\\\": {\\\\\\\\\\\\\\\"selectedColumn\\\\\\\\\\\\\\\": \\\\\\\\\\\\\\\"Over18\\\\\\\\\\\\\\\"}}, \\\\\\\\\\\\\\\"typeProperty\\\\\\\\\\\\\\\": 1}, {\\\\\\\\\\\\\\\"column\\\\\\\\\\\\\\\": {\\\\\\\\\\\\\\\"type\\\\\\\\\\\\\\\": 2, \\\\\\\\\\\\\\\"details\\\\\\\\\\\\\\\": {\\\\\\\\\\\\\\\"selectedColumn\\\\\\\\\\\\\\\": \\\\\\\\\\\\\\\"OverTime\\\\\\\\\\\\\\\"}}, \\\\\\\\\\\\\\\"typeProperty\\\\\\\\\\\\\\\": 1}, {\\\\\\\\\\\\\\\"column\\\\\\\\\\\\\\\": {\\\\\\\\\\\\\\\"type\\\\\\\\\\\\\\\": 2, \\\\\\\\\\\\\\\"details\\\\\\\\\\\\\\\": {\\\\\\\\\\\\\\\"selectedColumn\\\\\\\\\\\\\\\": \\\\\\\\\\\\\\\"PercentSalaryHike\\\\\\\\\\\\\\\"}}, \\\\\\\\\\\\\\\"typeProperty\\\\\\\\\\\\\\\": 2}, {\\\\\\\\\\\\\\\"column\\\\\\\\\\\\\\\": {\\\\\\\\\\\\\\\"type\\\\\\\\\\\\\\\": 2, \\\\\\\\\\\\\\\"details\\\\\\\\\\\\\\\": {\\\\\\\\\\\\\\\"selectedColumn\\\\\\\\\\\\\\\": \\\\\\\\\\\\\\\"PerformanceRating\\\\\\\\\\\\\\\"}}, \\\\\\\\\\\\\\\"typeProperty\\\\\\\\\\\\\\\": 2}, {\\\\\\\\\\\\\\\"column\\\\\\\\\\\\\\\": {\\\\\\\\\\\\\\\"type\\\\\\\\\\\\\\\": 2, \\\\\\\\\\\\\\\"details\\\\\\\\\\\\\\\": {\\\\\\\\\\\\\\\"selectedColumn\\\\\\\\\\\\\\\": \\\\\\\\\\\\\\\"RelationshipSatisfaction\\\\\\\\\\\\\\\"}}, \\\\\\\\\\\\\\\"typeProperty\\\\\\\\\\\\\\\": 2}, {\\\\\\\\\\\\\\\"column\\\\\\\\\\\\\\\": {\\\\\\\\\\\\\\\"type\\\\\\\\\\\\\\\": 2, \\\\\\\\\\\\\\\"details\\\\\\\\\\\\\\\": {\\\\\\\\\\\\\\\"selectedColumn\\\\\\\\\\\\\\\": \\\\\\\\\\\\\\\"StandardHours\\\\\\\\\\\\\\\"}}, \\\\\\\\\\\\\\\"typeProperty\\\\\\\\\\\\\\\": 2}, {\\\\\\\\\\\\\\\"column\\\\\\\\\\\\\\\": {\\\\\\\\\\\\\\\"type\\\\\\\\\\\\\\\": 2, \\\\\\\\\\\\\\\"details\\\\\\\\\\\\\\\": {\\\\\\\\\\\\\\\"selectedColumn\\\\\\\\\\\\\\\": \\\\\\\\\\\\\\\"StockOptionLevel\\\\\\\\\\\\\\\"}}, \\\\\\\\\\\\\\\"typeProperty\\\\\\\\\\\\\\\": 2}, {\\\\\\\\\\\\\\\"column\\\\\\\\\\\\\\\": {\\\\\\\\\\\\\\\"type\\\\\\\\\\\\\\\": 2, \\\\\\\\\\\\\\\"details\\\\\\\\\\\\\\\": {\\\\\\\\\\\\\\\"selectedColumn\\\\\\\\\\\\\\\": \\\\\\\\\\\\\\\"TotalWorkingYears\\\\\\\\\\\\\\\"}}, \\\\\\\\\\\\\\\"typeProperty\\\\\\\\\\\\\\\": 2}, {\\\\\\\\\\\\\\\"column\\\\\\\\\\\\\\\": {\\\\\\\\\\\\\\\"type\\\\\\\\\\\\\\\": 2, \\\\\\\\\\\\\\\"details\\\\\\\\\\\\\\\": {\\\\\\\\\\\\\\\"selectedColumn\\\\\\\\\\\\\\\": \\\\\\\\\\\\\\\"TrainingTimesLastYear\\\\\\\\\\\\\\\"}}, \\\\\\\\\\\\\\\"typeProperty\\\\\\\\\\\\\\\": 2}, {\\\\\\\\\\\\\\\"column\\\\\\\\\\\\\\\": {\\\\\\\\\\\\\\\"type\\\\\\\\\\\\\\\": 2, \\\\\\\\\\\\\\\"details\\\\\\\\\\\\\\\": {\\\\\\\\\\\\\\\"selectedColumn\\\\\\\\\\\\\\\": \\\\\\\\\\\\\\\"WorkLifeBalance\\\\\\\\\\\\\\\"}}, \\\\\\\\\\\\\\\"typeProperty\\\\\\\\\\\\\\\": 2}, {\\\\\\\\\\\\\\\"column\\\\\\\\\\\\\\\": {\\\\\\\\\\\\\\\"type\\\\\\\\\\\\\\\": 2, \\\\\\\\\\\\\\\"details\\\\\\\\\\\\\\\": {\\\\\\\\\\\\\\\"selectedColumn\\\\\\\\\\\\\\\": \\\\\\\\\\\\\\\"YearsAtCompany\\\\\\\\\\\\\\\"}}, \\\\\\\\\\\\\\\"typeProperty\\\\\\\\\\\\\\\": 2}, {\\\\\\\\\\\\\\\"column\\\\\\\\\\\\\\\": {\\\\\\\\\\\\\\\"type\\\\\\\\\\\\\\\": 2, \\\\\\\\\\\\\\\"details\\\\\\\\\\\\\\\": {\\\\\\\\\\\\\\\"selectedColumn\\\\\\\\\\\\\\\": \\\\\\\\\\\\\\\"YearsInCurrentRole\\\\\\\\\\\\\\\"}}, \\\\\\\\\\\\\\\"typeProperty\\\\\\\\\\\\\\\": 2}, {\\\\\\\\\\\\\\\"column\\\\\\\\\\\\\\\": {\\\\\\\\\\\\\\\"type\\\\\\\\\\\\\\\": 2, \\\\\\\\\\\\\\\"details\\\\\\\\\\\\\\\": {\\\\\\\\\\\\\\\"selectedColumn\\\\\\\\\\\\\\\": \\\\\\\\\\\\\\\"YearsSinceLastPromotion\\\\\\\\\\\\\\\"}}, \\\\\\\\\\\\\\\"typeProperty\\\\\\\\\\\\\\\": 2}, {\\\\\\\\\\\\\\\"column\\\\\\\\\\\\\\\": {\\\\\\\\\\\\\\\"type\\\\\\\\\\\\\\\": 2, \\\\\\\\\\\\\\\"details\\\\\\\\\\\\\\\": {\\\\\\\\\\\\\\\"selectedColumn\\\\\\\\\\\\\\\": \\\\\\\\\\\\\\\"YearsWithCurrManager\\\\\\\\\\\\\\\"}}, \\\\\\\\\\\\\\\"typeProperty\\\\\\\\\\\\\\\": 2}]}, \\\\\\\\\\\\\\\"localData\\\\\\\\\\\\\\\": {}, \\\\\\\\\\\\\\\"isEnabled\\\\\\\\\\\\\\\": true, \\\\\\\\\\\\\\\"name\\\\\\\\\\\\\\\": null, \\\\\\\\\\\\\\\"annotation\\\\\\\\\\\\\\\": null}], \\\\\\\\\\\\\\\"inspectors\\\\\\\\\\\\\\\": [], \\\\\\\\\\\\\\\"meta\\\\\\\\\\\\\\\": {\\\\\\\\\\\\\\\"savedDatasetId\\\\\\\\\\\\\\\": \\\\\\\\\\\\\\\"7bd01591-c82c-4ca2-b528-a50f4e675341\\\\\\\\\\\\\\\", \\\\\\\\\\\\\\\"datasetType\\\\\\\\\\\\\\\": \\\\\\\\\\\\\\\"tabular\\\\\\\\\\\\\\\", \\\\\\\\\\\\\\\"subscriptionId\\\\\\\\\\\\\\\": \\\\\\\\\\\\\\\"510b94ba-e453-4417-988b-fbdc37b55ca7\\\\\\\\\\\\\\\", \\\\\\\\\\\\\\\"workspaceId\\\\\\\\\\\\\\\": \\\\\\\\\\\\\\\"faf9a834-a658-4485-a4a0-96b08318a8fa\\\\\\\\\\\\\\\", \\\\\\\\\\\\\\\"workspaceLocation\\\\\\\\\\\\\\\": \\\\\\\\\\\\\\\"southcentralus\\\\\\\\\\\\\\\"}}\\\\\\\", \\\\\\\"activities\\\\\\\": 0}\", \"EnableSubsampling\": null, \"runTemplate\": \"AutoML\", \"azureml.runsource\": \"automl\", \"display_task_type\": \"classification\", \"dependencies_versions\": \"{\\\"azureml-widgets\\\": \\\"1.20.0\\\", \\\"azureml-train\\\": \\\"1.20.0\\\", \\\"azureml-train-restclients-hyperdrive\\\": \\\"1.20.0\\\", \\\"azureml-train-core\\\": \\\"1.20.0\\\", \\\"azureml-train-automl\\\": \\\"1.20.0\\\", \\\"azureml-train-automl-runtime\\\": \\\"1.20.0\\\", \\\"azureml-train-automl-client\\\": \\\"1.20.0\\\", \\\"azureml-tensorboard\\\": \\\"1.20.0\\\", \\\"azureml-telemetry\\\": \\\"1.20.0\\\", \\\"azureml-sdk\\\": \\\"1.20.0\\\", \\\"azureml-samples\\\": \\\"0+unknown\\\", \\\"azureml-pipeline\\\": \\\"1.20.0\\\", \\\"azureml-pipeline-steps\\\": \\\"1.20.0\\\", \\\"azureml-pipeline-core\\\": \\\"1.20.0\\\", \\\"azureml-opendatasets\\\": \\\"1.20.0\\\", \\\"azureml-model-management-sdk\\\": \\\"1.0.1b6.post1\\\", \\\"azureml-mlflow\\\": \\\"1.20.0.post1\\\", \\\"azureml-interpret\\\": \\\"1.20.0\\\", \\\"azureml-explain-model\\\": \\\"1.20.0\\\", \\\"azureml-defaults\\\": \\\"1.20.0\\\", \\\"azureml-dataset-runtime\\\": \\\"1.20.0\\\", \\\"azureml-dataprep\\\": \\\"2.7.3\\\", \\\"azureml-dataprep-rslex\\\": \\\"1.5.0\\\", \\\"azureml-dataprep-native\\\": \\\"27.0.0\\\", \\\"azureml-datadrift\\\": \\\"1.20.0\\\", \\\"azureml-core\\\": \\\"1.20.0\\\", \\\"azureml-contrib-services\\\": \\\"1.20.0\\\", \\\"azureml-contrib-server\\\": \\\"1.20.0\\\", \\\"azureml-contrib-reinforcementlearning\\\": \\\"1.20.0\\\", \\\"azureml-contrib-pipeline-steps\\\": \\\"1.20.0\\\", \\\"azureml-contrib-notebook\\\": \\\"1.20.0\\\", \\\"azureml-contrib-interpret\\\": \\\"1.20.0\\\", \\\"azureml-contrib-gbdt\\\": \\\"1.20.0\\\", \\\"azureml-contrib-fairness\\\": \\\"1.20.0\\\", \\\"azureml-contrib-dataset\\\": \\\"1.20.0\\\", \\\"azureml-cli-common\\\": \\\"1.20.0\\\", \\\"azureml-automl-runtime\\\": \\\"1.20.0\\\", \\\"azureml-automl-core\\\": \\\"1.20.0\\\", \\\"azureml-accel-models\\\": \\\"1.20.0\\\"}\", \"_aml_system_scenario_identification\": \"Remote.Parent\", \"ClientType\": \"SDK\", \"environment_cpu_name\": \"AzureML-AutoML\", \"environment_cpu_label\": \"prod\", \"environment_gpu_name\": \"AzureML-AutoML-GPU\", \"environment_gpu_label\": \"prod\", \"root_attribution\": \"automl\", \"attribution\": \"AutoML\", \"Orchestrator\": \"AutoML\", \"CancelUri\": \"https://southcentralus.experiments.azureml.net/jasmine/v1.0/subscriptions/510b94ba-e453-4417-988b-fbdc37b55ca7/resourceGroups/aml-quickstarts-139301/providers/Microsoft.MachineLearningServices/workspaces/quick-starts-ws-139301/experimentids/06a076b1-834e-4fc7-9088-283299bb7e74/cancel/AutoML_8312b950-2bf8-4a69-ad45-e3a6632c9bca\", \"ClientSdkVersion\": \"1.22.0\", \"snapshotId\": \"00000000-0000-0000-0000-000000000000\", \"SetupRunId\": \"AutoML_8312b950-2bf8-4a69-ad45-e3a6632c9bca_setup\", \"SetupRunContainerId\": \"dcid.AutoML_8312b950-2bf8-4a69-ad45-e3a6632c9bca_setup\", \"FeaturizationRunJsonPath\": \"featurizer_container.json\", \"FeaturizationRunId\": \"AutoML_8312b950-2bf8-4a69-ad45-e3a6632c9bca_featurize\", \"ProblemInfoJsonString\": \"{\\\"dataset_num_categorical\\\": 0, \\\"is_sparse\\\": true, \\\"subsampling\\\": false, \\\"dataset_classes\\\": 2, \\\"dataset_features\\\": 300, \\\"dataset_samples\\\": 1470, \\\"single_frequency_class_detected\\\": false}\", \"ModelExplainRunId\": \"AutoML_8312b950-2bf8-4a69-ad45-e3a6632c9bca_ModelExplain\"}, \"tags\": {\"model_explain_run\": \"best_run\", \"_aml_system_azureml.automlComponent\": \"AutoML\", \"pipeline_id\": \"\", \"score\": \"\", \"predicted_cost\": \"\", \"fit_time\": \"\", \"training_percent\": \"\", \"iteration\": \"\", \"run_preprocessor\": \"\", \"run_algorithm\": \"\", \"dynamic_whitelisting_iterations\": \"<25>;<30>;<35>;\", \"automl_best_child_run_id\": \"AutoML_8312b950-2bf8-4a69-ad45-e3a6632c9bca_37\", \"model_explain_best_run_child_id\": \"AutoML_8312b950-2bf8-4a69-ad45-e3a6632c9bca_37\"}, \"end_time_utc\": \"2021-02-22T03:58:46.432569Z\", \"status\": \"Completed\", \"log_files\": {}, \"log_groups\": [], \"run_duration\": \"0:28:37\"}, \"child_runs\": [{\"run_id\": \"AutoML_8312b950-2bf8-4a69-ad45-e3a6632c9bca_0\", \"run_number\": 5, \"metric\": null, \"status\": \"Completed\", \"run_type\": \"azureml.scriptrun\", \"training_percent\": \"100\", \"start_time\": \"2021-02-22T03:40:33.319881Z\", \"end_time\": \"2021-02-22T03:41:48.446303Z\", \"created_time\": \"2021-02-22T03:40:22.454062Z\", \"created_time_dt\": \"2021-02-22T03:40:22.454062Z\", \"duration\": \"0:01:25\", \"iteration\": \"0\", \"goal\": \"AUC_weighted_max\", \"run_name\": \"MaxAbsScaler, LightGBM\", \"run_properties\": \"copy=True\", \"primary_metric\": 0.79891559, \"best_metric\": 0.79891559}, {\"run_id\": \"AutoML_8312b950-2bf8-4a69-ad45-e3a6632c9bca_1\", \"run_number\": 6, \"metric\": null, \"status\": \"Completed\", \"run_type\": \"azureml.scriptrun\", \"training_percent\": \"100\", \"start_time\": \"2021-02-22T03:43:01.076781Z\", \"end_time\": \"2021-02-22T03:44:10.544494Z\", \"created_time\": \"2021-02-22T03:40:22.593003Z\", \"created_time_dt\": \"2021-02-22T03:40:22.593003Z\", \"duration\": \"0:03:47\", \"iteration\": \"1\", \"goal\": \"AUC_weighted_max\", \"run_name\": \"MaxAbsScaler, XGBoostClassifier\", \"run_properties\": \"copy=True\", \"primary_metric\": 0.79601962, \"best_metric\": 0.79891559}, {\"run_id\": \"AutoML_8312b950-2bf8-4a69-ad45-e3a6632c9bca_4\", \"run_number\": 7, \"metric\": null, \"status\": \"Completed\", \"run_type\": \"azureml.scriptrun\", \"training_percent\": \"100\", \"start_time\": \"2021-02-22T03:41:52.399149Z\", \"end_time\": \"2021-02-22T03:43:00.030396Z\", \"created_time\": \"2021-02-22T03:40:22.629395Z\", \"created_time_dt\": \"2021-02-22T03:40:22.629395Z\", \"duration\": \"0:02:37\", \"iteration\": \"4\", \"goal\": \"AUC_weighted_max\", \"run_name\": \"MaxAbsScaler, RandomForest\", \"run_properties\": \"copy=True\", \"primary_metric\": 0.75515841, \"best_metric\": 0.79891559}, {\"run_id\": \"AutoML_8312b950-2bf8-4a69-ad45-e3a6632c9bca_2\", \"run_number\": 8, \"metric\": null, \"status\": \"Completed\", \"run_type\": \"azureml.scriptrun\", \"training_percent\": \"100\", \"start_time\": \"2021-02-22T03:43:16.040793Z\", \"end_time\": \"2021-02-22T03:47:07.446229Z\", \"created_time\": \"2021-02-22T03:40:22.680251Z\", \"created_time_dt\": \"2021-02-22T03:40:22.680251Z\", \"duration\": \"0:06:44\", \"iteration\": \"2\", \"goal\": \"AUC_weighted_max\", \"run_name\": \"MaxAbsScaler, RandomForest\", \"run_properties\": \"copy=True\", \"primary_metric\": 0.76574181, \"best_metric\": 0.79891559}, {\"run_id\": \"AutoML_8312b950-2bf8-4a69-ad45-e3a6632c9bca_3\", \"run_number\": 9, \"metric\": null, \"status\": \"Completed\", \"run_type\": \"azureml.scriptrun\", \"training_percent\": \"100\", \"start_time\": \"2021-02-22T03:43:16.734254Z\", \"end_time\": \"2021-02-22T03:46:58.739802Z\", \"created_time\": \"2021-02-22T03:40:22.682234Z\", \"created_time_dt\": \"2021-02-22T03:40:22.682234Z\", \"duration\": \"0:06:36\", \"iteration\": \"3\", \"goal\": \"AUC_weighted_max\", \"run_name\": \"MaxAbsScaler, RandomForest\", \"run_properties\": \"copy=True\", \"primary_metric\": 0.76915265, \"best_metric\": 0.79891559}, {\"run_id\": \"AutoML_8312b950-2bf8-4a69-ad45-e3a6632c9bca_5\", \"run_number\": 10, \"metric\": null, \"status\": \"Completed\", \"run_type\": \"azureml.scriptrun\", \"training_percent\": \"100\", \"start_time\": \"2021-02-22T03:43:17.577015Z\", \"end_time\": \"2021-02-22T03:47:03.336146Z\", \"created_time\": \"2021-02-22T03:41:50.807911Z\", \"created_time_dt\": \"2021-02-22T03:41:50.807911Z\", \"duration\": \"0:05:12\", \"iteration\": \"5\", \"goal\": \"AUC_weighted_max\", \"run_name\": \"MaxAbsScaler, ExtremeRandomTrees\", \"run_properties\": \"copy=True\", \"primary_metric\": 0.77108312, \"best_metric\": 0.79891559}, {\"run_id\": \"AutoML_8312b950-2bf8-4a69-ad45-e3a6632c9bca_6\", \"run_number\": 11, \"metric\": null, \"status\": \"Completed\", \"run_type\": \"azureml.scriptrun\", \"training_percent\": \"100\", \"start_time\": \"2021-02-22T03:43:15.393424Z\", \"end_time\": \"2021-02-22T03:46:47.7441Z\", \"created_time\": \"2021-02-22T03:43:04.05179Z\", \"created_time_dt\": \"2021-02-22T03:43:04.05179Z\", \"duration\": \"0:03:43\", \"iteration\": \"6\", \"goal\": \"AUC_weighted_max\", \"run_name\": \"MaxAbsScaler, ExtremeRandomTrees\", \"run_properties\": \"copy=True\", \"primary_metric\": 0.79719275, \"best_metric\": 0.79891559}, {\"run_id\": \"AutoML_8312b950-2bf8-4a69-ad45-e3a6632c9bca_7\", \"run_number\": 12, \"metric\": null, \"status\": \"Completed\", \"run_type\": \"azureml.scriptrun\", \"training_percent\": \"100\", \"start_time\": \"2021-02-22T03:44:24.386925Z\", \"end_time\": \"2021-02-22T03:45:39.93958Z\", \"created_time\": \"2021-02-22T03:44:15.737255Z\", \"created_time_dt\": \"2021-02-22T03:44:15.737255Z\", \"duration\": \"0:01:24\", \"iteration\": \"7\", \"goal\": \"AUC_weighted_max\", \"run_name\": \"MaxAbsScaler, ExtremeRandomTrees\", \"run_properties\": \"copy=True\", \"primary_metric\": 0.78385858, \"best_metric\": 0.79891559}, {\"run_id\": \"AutoML_8312b950-2bf8-4a69-ad45-e3a6632c9bca_8\", \"run_number\": 13, \"metric\": null, \"status\": \"Completed\", \"run_type\": \"azureml.scriptrun\", \"training_percent\": \"100\", \"start_time\": \"2021-02-22T03:46:05.406371Z\", \"end_time\": \"2021-02-22T03:47:18.069291Z\", \"created_time\": \"2021-02-22T03:45:43.231723Z\", \"created_time_dt\": \"2021-02-22T03:45:43.231723Z\", \"duration\": \"0:01:34\", \"iteration\": \"8\", \"goal\": \"AUC_weighted_max\", \"run_name\": \"MaxAbsScaler, RandomForest\", \"run_properties\": \"copy=True\", \"primary_metric\": 0.77724578, \"best_metric\": 0.79891559}, {\"run_id\": \"AutoML_8312b950-2bf8-4a69-ad45-e3a6632c9bca_9\", \"run_number\": 14, \"metric\": null, \"status\": \"Completed\", \"run_type\": \"azureml.scriptrun\", \"training_percent\": \"100\", \"start_time\": \"2021-02-22T03:47:02.361619Z\", \"end_time\": \"2021-02-22T03:48:12.405043Z\", \"created_time\": \"2021-02-22T03:46:50.914182Z\", \"created_time_dt\": \"2021-02-22T03:46:50.914182Z\", \"duration\": \"0:01:21\", \"iteration\": \"9\", \"goal\": \"AUC_weighted_max\", \"run_name\": \"MaxAbsScaler, ExtremeRandomTrees\", \"run_properties\": \"copy=True\", \"primary_metric\": 0.78579471, \"best_metric\": 0.79891559}, {\"run_id\": \"AutoML_8312b950-2bf8-4a69-ad45-e3a6632c9bca_10\", \"run_number\": 15, \"metric\": null, \"status\": \"Completed\", \"run_type\": \"azureml.scriptrun\", \"training_percent\": \"100\", \"start_time\": \"2021-02-22T03:47:09.589746Z\", \"end_time\": \"2021-02-22T03:48:18.172801Z\", \"created_time\": \"2021-02-22T03:47:01.941447Z\", \"created_time_dt\": \"2021-02-22T03:47:01.941447Z\", \"duration\": \"0:01:16\", \"iteration\": \"10\", \"goal\": \"AUC_weighted_max\", \"run_name\": \"MaxAbsScaler, RandomForest\", \"run_properties\": \"copy=True\", \"primary_metric\": 0.75260843, \"best_metric\": 0.79891559}, {\"run_id\": \"AutoML_8312b950-2bf8-4a69-ad45-e3a6632c9bca_11\", \"run_number\": 16, \"metric\": null, \"status\": \"Completed\", \"run_type\": \"azureml.scriptrun\", \"training_percent\": \"100\", \"start_time\": \"2021-02-22T03:47:25.097696Z\", \"end_time\": \"2021-02-22T03:48:30.842211Z\", \"created_time\": \"2021-02-22T03:47:06.580795Z\", \"created_time_dt\": \"2021-02-22T03:47:06.580795Z\", \"duration\": \"0:01:24\", \"iteration\": \"11\", \"goal\": \"AUC_weighted_max\", \"run_name\": \"MaxAbsScaler, RandomForest\", \"run_properties\": \"copy=True\", \"primary_metric\": 0.7579491, \"best_metric\": 0.79891559}, {\"run_id\": \"AutoML_8312b950-2bf8-4a69-ad45-e3a6632c9bca_12\", \"run_number\": 17, \"metric\": null, \"status\": \"Completed\", \"run_type\": \"azureml.scriptrun\", \"training_percent\": \"100\", \"start_time\": \"2021-02-22T03:47:30.020385Z\", \"end_time\": \"2021-02-22T03:48:33.535251Z\", \"created_time\": \"2021-02-22T03:47:21.974207Z\", \"created_time_dt\": \"2021-02-22T03:47:21.974207Z\", \"duration\": \"0:01:11\", \"iteration\": \"12\", \"goal\": \"AUC_weighted_max\", \"run_name\": \"MaxAbsScaler, RandomForest\", \"run_properties\": \"copy=True\", \"primary_metric\": 0.77840839, \"best_metric\": 0.79891559}, {\"run_id\": \"AutoML_8312b950-2bf8-4a69-ad45-e3a6632c9bca_13\", \"run_number\": 18, \"metric\": null, \"status\": \"Completed\", \"run_type\": \"azureml.scriptrun\", \"training_percent\": \"100\", \"start_time\": \"2021-02-22T03:47:30.331081Z\", \"end_time\": \"2021-02-22T03:48:46.385724Z\", \"created_time\": \"2021-02-22T03:47:22.016922Z\", \"created_time_dt\": \"2021-02-22T03:47:22.016922Z\", \"duration\": \"0:01:24\", \"iteration\": \"13\", \"goal\": \"AUC_weighted_max\", \"run_name\": \"StandardScalerWrapper, XGBoostClassifier\", \"run_properties\": \"<azureml.automl.runtime.shared.model_wrappers.StandardScalerWrapper object at 0x7f724dac1eb8\", \"primary_metric\": 0.77701124, \"best_metric\": 0.79891559}, {\"run_id\": \"AutoML_8312b950-2bf8-4a69-ad45-e3a6632c9bca_14\", \"run_number\": 19, \"metric\": null, \"status\": \"Completed\", \"run_type\": \"azureml.scriptrun\", \"training_percent\": \"100\", \"start_time\": \"2021-02-22T03:48:45.259776Z\", \"end_time\": \"2021-02-22T03:49:56.493729Z\", \"created_time\": \"2021-02-22T03:48:16.579364Z\", \"created_time_dt\": \"2021-02-22T03:48:16.579364Z\", \"duration\": \"0:01:39\", \"iteration\": \"14\", \"goal\": \"AUC_weighted_max\", \"run_name\": \"MaxAbsScaler, RandomForest\", \"run_properties\": \"copy=True\", \"primary_metric\": 0.76314676, \"best_metric\": 0.79891559}, {\"run_id\": \"AutoML_8312b950-2bf8-4a69-ad45-e3a6632c9bca_15\", \"run_number\": 20, \"metric\": null, \"status\": \"Completed\", \"run_type\": \"azureml.scriptrun\", \"training_percent\": \"100\", \"start_time\": \"2021-02-22T03:48:49.734739Z\", \"end_time\": \"2021-02-22T03:50:00.970574Z\", \"created_time\": \"2021-02-22T03:48:40.717789Z\", \"created_time_dt\": \"2021-02-22T03:48:40.717789Z\", \"duration\": \"0:01:20\", \"iteration\": \"15\", \"goal\": \"AUC_weighted_max\", \"run_name\": \"StandardScalerWrapper, ExtremeRandomTrees\", \"run_properties\": \"<azureml.automl.runtime.shared.model_wrappers.StandardScalerWrapper object at 0x7feacdc9dd30\", \"primary_metric\": 0.74312957, \"best_metric\": 0.79891559}, {\"run_id\": \"AutoML_8312b950-2bf8-4a69-ad45-e3a6632c9bca_17\", \"run_number\": 21, \"metric\": null, \"status\": \"Completed\", \"run_type\": \"azureml.scriptrun\", \"training_percent\": \"100\", \"start_time\": \"2021-02-22T03:49:09.149695Z\", \"end_time\": \"2021-02-22T03:50:19.48657Z\", \"created_time\": \"2021-02-22T03:48:40.725749Z\", \"created_time_dt\": \"2021-02-22T03:48:40.725749Z\", \"duration\": \"0:01:38\", \"iteration\": \"17\", \"goal\": \"AUC_weighted_max\", \"run_name\": \"MaxAbsScaler, ExtremeRandomTrees\", \"run_properties\": \"copy=True\", \"primary_metric\": 0.79962102, \"best_metric\": 0.79962102}, {\"run_id\": \"AutoML_8312b950-2bf8-4a69-ad45-e3a6632c9bca_16\", \"run_number\": 22, \"metric\": null, \"status\": \"Completed\", \"run_type\": \"azureml.scriptrun\", \"training_percent\": \"100\", \"start_time\": \"2021-02-22T03:48:53.987334Z\", \"end_time\": \"2021-02-22T03:49:57.998819Z\", \"created_time\": \"2021-02-22T03:48:40.792436Z\", \"created_time_dt\": \"2021-02-22T03:48:40.792436Z\", \"duration\": \"0:01:17\", \"iteration\": \"16\", \"goal\": \"AUC_weighted_max\", \"run_name\": \"MaxAbsScaler, ExtremeRandomTrees\", \"run_properties\": \"copy=True\", \"primary_metric\": 0.78493442, \"best_metric\": 0.79891559}, {\"run_id\": \"AutoML_8312b950-2bf8-4a69-ad45-e3a6632c9bca_18\", \"run_number\": 23, \"metric\": null, \"status\": \"Completed\", \"run_type\": \"azureml.scriptrun\", \"training_percent\": \"100\", \"start_time\": \"2021-02-22T03:49:31.551716Z\", \"end_time\": \"2021-02-22T03:50:35.599Z\", \"created_time\": \"2021-02-22T03:49:04.838401Z\", \"created_time_dt\": \"2021-02-22T03:49:04.838401Z\", \"duration\": \"0:01:30\", \"iteration\": \"18\", \"goal\": \"AUC_weighted_max\", \"run_name\": \"MaxAbsScaler, RandomForest\", \"run_properties\": \"copy=True\", \"primary_metric\": 0.76698342, \"best_metric\": 0.79962102}, {\"run_id\": \"AutoML_8312b950-2bf8-4a69-ad45-e3a6632c9bca_19\", \"run_number\": 24, \"metric\": null, \"status\": \"Completed\", \"run_type\": \"azureml.scriptrun\", \"training_percent\": \"100\", \"start_time\": \"2021-02-22T03:50:09.121346Z\", \"end_time\": \"2021-02-22T03:51:21.949963Z\", \"created_time\": \"2021-02-22T03:49:59.213414Z\", \"created_time_dt\": \"2021-02-22T03:49:59.213414Z\", \"duration\": \"0:01:22\", \"iteration\": \"19\", \"goal\": \"AUC_weighted_max\", \"run_name\": \"StandardScalerWrapper, LogisticRegression\", \"run_properties\": \"<azureml.automl.runtime.shared.model_wrappers.StandardScalerWrapper object at 0x7f467bae4518\", \"primary_metric\": 0.79476962, \"best_metric\": 0.79962102}, {\"run_id\": \"AutoML_8312b950-2bf8-4a69-ad45-e3a6632c9bca_21\", \"run_number\": 25, \"metric\": null, \"status\": \"Completed\", \"run_type\": \"azureml.scriptrun\", \"training_percent\": \"100\", \"start_time\": \"2021-02-22T03:50:47.579085Z\", \"end_time\": \"2021-02-22T03:51:55.291909Z\", \"created_time\": \"2021-02-22T03:50:04.966399Z\", \"created_time_dt\": \"2021-02-22T03:50:04.966399Z\", \"duration\": \"0:01:50\", \"iteration\": \"21\", \"goal\": \"AUC_weighted_max\", \"run_name\": \"MaxAbsScaler, LightGBM\", \"run_properties\": \"copy=True\", \"primary_metric\": 0.81039928, \"best_metric\": 0.81848538}, {\"run_id\": \"AutoML_8312b950-2bf8-4a69-ad45-e3a6632c9bca_20\", \"run_number\": 26, \"metric\": null, \"status\": \"Completed\", \"run_type\": \"azureml.scriptrun\", \"training_percent\": \"100\", \"start_time\": \"2021-02-22T03:50:16.475697Z\", \"end_time\": \"2021-02-22T03:51:24.032222Z\", \"created_time\": \"2021-02-22T03:50:05.213686Z\", \"created_time_dt\": \"2021-02-22T03:50:05.213686Z\", \"duration\": \"0:01:18\", \"iteration\": \"20\", \"goal\": \"AUC_weighted_max\", \"run_name\": \"MaxAbsScaler, LightGBM\", \"run_properties\": \"copy=True\", \"primary_metric\": 0.81848538, \"best_metric\": 0.81848538}, {\"run_id\": \"AutoML_8312b950-2bf8-4a69-ad45-e3a6632c9bca_22\", \"run_number\": 27, \"metric\": null, \"status\": \"Completed\", \"run_type\": \"azureml.scriptrun\", \"training_percent\": \"100\", \"start_time\": \"2021-02-22T03:51:19.479147Z\", \"end_time\": \"2021-02-22T03:52:28.632029Z\", \"created_time\": \"2021-02-22T03:50:51.169977Z\", \"created_time_dt\": \"2021-02-22T03:50:51.169977Z\", \"duration\": \"0:01:37\", \"iteration\": \"22\", \"goal\": \"AUC_weighted_max\", \"run_name\": \"MaxAbsScaler, LightGBM\", \"run_properties\": \"copy=True\", \"primary_metric\": 0.80049536, \"best_metric\": 0.81848538}, {\"run_id\": \"AutoML_8312b950-2bf8-4a69-ad45-e3a6632c9bca_23\", \"run_number\": 28, \"metric\": null, \"status\": \"Completed\", \"run_type\": \"azureml.scriptrun\", \"training_percent\": \"100\", \"start_time\": \"2021-02-22T03:51:01.646782Z\", \"end_time\": \"2021-02-22T03:52:05.288726Z\", \"created_time\": \"2021-02-22T03:50:51.194819Z\", \"created_time_dt\": \"2021-02-22T03:50:51.194819Z\", \"duration\": \"0:01:14\", \"iteration\": \"23\", \"goal\": \"AUC_weighted_max\", \"run_name\": \"MaxAbsScaler, LightGBM\", \"run_properties\": \"copy=True\", \"primary_metric\": 0.80324536, \"best_metric\": 0.81848538}, {\"run_id\": \"AutoML_8312b950-2bf8-4a69-ad45-e3a6632c9bca_24\", \"run_number\": 29, \"metric\": null, \"status\": \"Completed\", \"run_type\": \"azureml.scriptrun\", \"training_percent\": \"100\", \"start_time\": \"2021-02-22T03:51:33.506997Z\", \"end_time\": \"2021-02-22T03:52:43.283544Z\", \"created_time\": \"2021-02-22T03:51:23.699537Z\", \"created_time_dt\": \"2021-02-22T03:51:23.699537Z\", \"duration\": \"0:01:19\", \"iteration\": \"24\", \"goal\": \"AUC_weighted_max\", \"run_name\": \"MaxAbsScaler, LightGBM\", \"run_properties\": \"copy=True\", \"primary_metric\": 0.80673988, \"best_metric\": 0.81848538}, {\"run_id\": \"AutoML_8312b950-2bf8-4a69-ad45-e3a6632c9bca_25\", \"run_number\": 30, \"metric\": null, \"status\": \"Completed\", \"run_type\": \"azureml.scriptrun\", \"training_percent\": \"100\", \"start_time\": \"2021-02-22T03:51:57.241499Z\", \"end_time\": \"2021-02-22T03:53:04.729714Z\", \"created_time\": \"2021-02-22T03:51:28.431832Z\", \"created_time_dt\": \"2021-02-22T03:51:28.431832Z\", \"duration\": \"0:01:36\", \"iteration\": \"25\", \"goal\": \"AUC_weighted_max\", \"run_name\": \"StandardScalerWrapper, LightGBM\", \"run_properties\": \"<azureml.automl.runtime.shared.model_wrappers.StandardScalerWrapper object at 0x7fdbe39abd30\", \"primary_metric\": 0.7851394, \"best_metric\": 0.81848538}, {\"run_id\": \"AutoML_8312b950-2bf8-4a69-ad45-e3a6632c9bca_26\", \"run_number\": 31, \"metric\": null, \"status\": \"Completed\", \"run_type\": \"azureml.scriptrun\", \"training_percent\": \"100\", \"start_time\": \"2021-02-22T03:52:06.230415Z\", \"end_time\": \"2021-02-22T03:53:12.49492Z\", \"created_time\": \"2021-02-22T03:51:56.905678Z\", \"created_time_dt\": \"2021-02-22T03:51:56.905678Z\", \"duration\": \"0:01:15\", \"iteration\": \"26\", \"goal\": \"AUC_weighted_max\", \"run_name\": \"StandardScalerWrapper, XGBoostClassifier\", \"run_properties\": \"<azureml.automl.runtime.shared.model_wrappers.StandardScalerWrapper object at 0x7fb3baadd6d8\", \"primary_metric\": 0.79914447, \"best_metric\": 0.81848538}, {\"run_id\": \"AutoML_8312b950-2bf8-4a69-ad45-e3a6632c9bca_27\", \"run_number\": 32, \"metric\": null, \"status\": \"Completed\", \"run_type\": \"azureml.scriptrun\", \"training_percent\": \"100\", \"start_time\": \"2021-02-22T03:52:34.405049Z\", \"end_time\": \"2021-02-22T03:53:52.538709Z\", \"created_time\": \"2021-02-22T03:52:07.078574Z\", \"created_time_dt\": \"2021-02-22T03:52:07.078574Z\", \"duration\": \"0:01:45\", \"iteration\": \"27\", \"goal\": \"AUC_weighted_max\", \"run_name\": \"StandardScalerWrapper, ExtremeRandomTrees\", \"run_properties\": \"<azureml.automl.runtime.shared.model_wrappers.StandardScalerWrapper object at 0x7f1874fe5fd0\", \"primary_metric\": 0.77323295, \"best_metric\": 0.81848538}, {\"run_id\": \"AutoML_8312b950-2bf8-4a69-ad45-e3a6632c9bca_28\", \"run_number\": 33, \"metric\": null, \"status\": \"Completed\", \"run_type\": \"azureml.scriptrun\", \"training_percent\": \"100\", \"start_time\": \"2021-02-22T03:52:40.215384Z\", \"end_time\": \"2021-02-22T03:53:50.455926Z\", \"created_time\": \"2021-02-22T03:52:30.502468Z\", \"created_time_dt\": \"2021-02-22T03:52:30.502468Z\", \"duration\": \"0:01:19\", \"iteration\": \"28\", \"goal\": \"AUC_weighted_max\", \"run_name\": \"StandardScalerWrapper, XGBoostClassifier\", \"run_properties\": \"<azureml.automl.runtime.shared.model_wrappers.StandardScalerWrapper object at 0x7f18f2d17048\", \"primary_metric\": 0.8126281, \"best_metric\": 0.81848538}, {\"run_id\": \"AutoML_8312b950-2bf8-4a69-ad45-e3a6632c9bca_29\", \"run_number\": 34, \"metric\": null, \"status\": \"Completed\", \"run_type\": \"azureml.scriptrun\", \"training_percent\": \"100\", \"start_time\": \"2021-02-22T03:52:55.496398Z\", \"end_time\": \"2021-02-22T03:54:09.411313Z\", \"created_time\": \"2021-02-22T03:52:45.040593Z\", \"created_time_dt\": \"2021-02-22T03:52:45.040593Z\", \"duration\": \"0:01:24\", \"iteration\": \"29\", \"goal\": \"AUC_weighted_max\", \"run_name\": \"MaxAbsScaler, LogisticRegression\", \"run_properties\": \"copy=True\", \"primary_metric\": 0.80130893, \"best_metric\": 0.81848538}, {\"run_id\": \"AutoML_8312b950-2bf8-4a69-ad45-e3a6632c9bca_30\", \"run_number\": 35, \"metric\": null, \"status\": \"Completed\", \"run_type\": \"azureml.scriptrun\", \"training_percent\": \"100\", \"start_time\": \"2021-02-22T03:53:48.303642Z\", \"end_time\": \"2021-02-22T03:54:51.835673Z\", \"created_time\": \"2021-02-22T03:53:07.470212Z\", \"created_time_dt\": \"2021-02-22T03:53:07.470212Z\", \"duration\": \"0:01:44\", \"iteration\": \"30\", \"goal\": \"AUC_weighted_max\", \"run_name\": \"SparseNormalizer, LightGBM\", \"run_properties\": \"<azureml.automl.runtime.shared.model_wrappers.SparseNormalizer object at 0x7f5841bf45c0\", \"primary_metric\": 0.81277997, \"best_metric\": 0.81848538}, {\"run_id\": \"AutoML_8312b950-2bf8-4a69-ad45-e3a6632c9bca_31\", \"run_number\": 36, \"metric\": null, \"status\": \"Completed\", \"run_type\": \"azureml.scriptrun\", \"training_percent\": \"100\", \"start_time\": \"2021-02-22T03:54:21.085006Z\", \"end_time\": \"2021-02-22T03:55:38.383046Z\", \"created_time\": \"2021-02-22T03:53:52.182975Z\", \"created_time_dt\": \"2021-02-22T03:53:52.182975Z\", \"duration\": \"0:01:46\", \"iteration\": \"31\", \"goal\": \"AUC_weighted_max\", \"run_name\": \"MaxAbsScaler, LogisticRegression\", \"run_properties\": \"copy=True\", \"primary_metric\": 0.78970508, \"best_metric\": 0.81848538}, {\"run_id\": \"AutoML_8312b950-2bf8-4a69-ad45-e3a6632c9bca_32\", \"run_number\": 37, \"metric\": null, \"status\": \"Completed\", \"run_type\": \"azureml.scriptrun\", \"training_percent\": \"100\", \"start_time\": \"2021-02-22T03:54:01.957789Z\", \"end_time\": \"2021-02-22T03:55:32.09184Z\", \"created_time\": \"2021-02-22T03:53:52.219598Z\", \"created_time_dt\": \"2021-02-22T03:53:52.219598Z\", \"duration\": \"0:01:39\", \"iteration\": \"32\", \"goal\": \"AUC_weighted_max\", \"run_name\": \"SparseNormalizer, XGBoostClassifier\", \"run_properties\": \"<azureml.automl.runtime.shared.model_wrappers.SparseNormalizer object at 0x7f720659c240\", \"primary_metric\": 0.80569796, \"best_metric\": 0.81848538}, {\"run_id\": \"AutoML_8312b950-2bf8-4a69-ad45-e3a6632c9bca_33\", \"run_number\": 38, \"metric\": null, \"status\": \"Completed\", \"run_type\": \"azureml.scriptrun\", \"training_percent\": \"100\", \"start_time\": \"2021-02-22T03:54:43.258071Z\", \"end_time\": \"2021-02-22T03:55:50.336681Z\", \"created_time\": \"2021-02-22T03:54:14.1495Z\", \"created_time_dt\": \"2021-02-22T03:54:14.1495Z\", \"duration\": \"0:01:36\", \"iteration\": \"33\", \"goal\": \"AUC_weighted_max\", \"run_name\": \"SparseNormalizer, LightGBM\", \"run_properties\": \"<azureml.automl.runtime.shared.model_wrappers.SparseNormalizer object at 0x7f4aa0757198\", \"primary_metric\": 0.803235, \"best_metric\": 0.81848538}, {\"run_id\": \"AutoML_8312b950-2bf8-4a69-ad45-e3a6632c9bca_34\", \"run_number\": 39, \"metric\": null, \"status\": \"Completed\", \"run_type\": \"azureml.scriptrun\", \"training_percent\": \"100\", \"start_time\": \"2021-02-22T03:54:42.471035Z\", \"end_time\": \"2021-02-22T03:55:55.960833Z\", \"created_time\": \"2021-02-22T03:54:14.165788Z\", \"created_time_dt\": \"2021-02-22T03:54:14.165788Z\", \"duration\": \"0:01:41\", \"iteration\": \"34\", \"goal\": \"AUC_weighted_max\", \"run_name\": \"SparseNormalizer, LightGBM\", \"run_properties\": \"<azureml.automl.runtime.shared.model_wrappers.SparseNormalizer object at 0x7f31534835f8\", \"primary_metric\": 0.80026031, \"best_metric\": 0.81848538}, {\"run_id\": \"AutoML_8312b950-2bf8-4a69-ad45-e3a6632c9bca_35\", \"run_number\": 40, \"metric\": null, \"status\": \"Completed\", \"run_type\": \"azureml.scriptrun\", \"training_percent\": \"100\", \"start_time\": \"2021-02-22T03:55:02.351148Z\", \"end_time\": \"2021-02-22T03:56:07.650015Z\", \"created_time\": \"2021-02-22T03:54:54.703174Z\", \"created_time_dt\": \"2021-02-22T03:54:54.703174Z\", \"duration\": \"0:01:12\", \"iteration\": \"35\", \"goal\": \"AUC_weighted_max\", \"run_name\": \"SparseNormalizer, LightGBM\", \"run_properties\": \"<azureml.automl.runtime.shared.model_wrappers.SparseNormalizer object at 0x7f586c5af048\", \"primary_metric\": 0.8124643, \"best_metric\": 0.81848538}, {\"run_id\": \"AutoML_8312b950-2bf8-4a69-ad45-e3a6632c9bca_36\", \"run_number\": 41, \"metric\": null, \"status\": \"Canceled\", \"run_type\": \"azureml.scriptrun\", \"training_percent\": \"100\", \"start_time\": \"2021-02-22T03:56:12.319893Z\", \"end_time\": \"2021-02-22T03:56:28.113876Z\", \"created_time\": \"2021-02-22T03:55:33.865497Z\", \"created_time_dt\": \"2021-02-22T03:55:33.865497Z\", \"duration\": \"0:00:54\", \"iteration\": \"36\", \"goal\": null, \"run_name\": \"Canceled\", \"run_properties\": null}, {\"run_id\": \"AutoML_8312b950-2bf8-4a69-ad45-e3a6632c9bca_37\", \"run_number\": 42, \"metric\": null, \"status\": \"Completed\", \"run_type\": \"azureml.scriptrun\", \"training_percent\": \"100\", \"start_time\": \"2021-02-22T03:57:01.809742Z\", \"end_time\": \"2021-02-22T03:58:33.519466Z\", \"created_time\": \"2021-02-22T03:56:28.890699Z\", \"created_time_dt\": \"2021-02-22T03:56:28.890699Z\", \"duration\": \"0:02:04\", \"iteration\": \"37\", \"goal\": \"AUC_weighted_max\", \"run_name\": \"VotingEnsemble\", \"run_properties\": \"classification_labels=None,\\n                              estimators=[('20',\\n                                           Pipeline(memory=None,\\n                                                    steps=[('maxabsscaler',\\n                                                            MaxAbsScaler(copy=True\", \"primary_metric\": 0.83868319, \"best_metric\": 0.83868319}, {\"run_id\": \"AutoML_8312b950-2bf8-4a69-ad45-e3a6632c9bca_38\", \"run_number\": 43, \"metric\": null, \"status\": \"Completed\", \"run_type\": \"azureml.scriptrun\", \"training_percent\": \"100\", \"start_time\": \"2021-02-22T03:56:36.856863Z\", \"end_time\": \"2021-02-22T03:58:04.881944Z\", \"created_time\": \"2021-02-22T03:56:28.95219Z\", \"created_time_dt\": \"2021-02-22T03:56:28.95219Z\", \"duration\": \"0:01:35\", \"iteration\": \"38\", \"goal\": \"AUC_weighted_max\", \"run_name\": \"StackEnsemble\", \"run_properties\": \"base_learners=[('20',\\n                                        Pipeline(memory=None,\\n                                                 steps=[('maxabsscaler',\\n                                                         MaxAbsScaler(copy=True\", \"primary_metric\": 0.83538581, \"best_metric\": 0.83868319}], \"children_metrics\": {\"categories\": [0], \"series\": {\"f1_score_macro\": [{\"categories\": [\"0\", \"1\", \"2\", \"3\", \"4\", \"5\", \"6\", \"7\", \"8\", \"9\", \"10\", \"11\", \"12\", \"13\", \"14\", \"15\", \"16\", \"17\", \"18\", \"19\", \"20\", \"21\", \"22\", \"23\", \"24\", \"25\", \"26\", \"27\", \"28\", \"29\", \"30\", \"31\", \"32\", \"33\", \"34\", \"35\", \"37\", \"38\"], \"mode\": \"markers\", \"name\": \"f1_score_macro\", \"stepped\": false, \"type\": \"scatter\", \"data\": [0.6639171660976787, 0.6561804294506011, 0.45603541964656447, 0.6702113562367461, 0.45603541964656447, 0.5164336844736493, 0.5221211834699158, 0.45603541964656447, 0.45603541964656447, 0.6452402913073622, 0.6091126184723508, 0.6192547680699715, 0.644751904451965, 0.5680562052841053, 0.45603541964656447, 0.5706314048213782, 0.6499683840936572, 0.6846067891829591, 0.6212730812258906, 0.67164997428334, 0.7060373596421984, 0.6928573498429821, 0.6870684780056187, 0.6867065604635202, 0.6716808012218392, 0.6399630651157537, 0.666580840427897, 0.6020106092892956, 0.674687152779053, 0.6937476023241005, 0.69361481850653, 0.6618622471163348, 0.6841733969863986, 0.6433137786943246, 0.693277535601526, 0.6788698193193041, 0.6829443533499282, 0.6974607794105834]}, {\"categories\": [\"0\", \"1\", \"2\", \"3\", \"4\", \"5\", \"6\", \"7\", \"8\", \"9\", \"10\", \"11\", \"12\", \"13\", \"14\", \"15\", \"16\", \"17\", \"18\", \"19\", \"20\", \"21\", \"22\", \"23\", \"24\", \"25\", \"26\", \"27\", \"28\", \"29\", \"30\", \"31\", \"32\", \"33\", \"34\", \"35\", \"37\", \"38\"], \"mode\": \"lines\", \"name\": \"f1_score_macro_max\", \"stepped\": true, \"type\": \"scatter\", \"data\": [0.6639171660976787, 0.6639171660976787, 0.6639171660976787, 0.6702113562367461, 0.6702113562367461, 0.6702113562367461, 0.6702113562367461, 0.6702113562367461, 0.6702113562367461, 0.6702113562367461, 0.6702113562367461, 0.6702113562367461, 0.6702113562367461, 0.6702113562367461, 0.6702113562367461, 0.6702113562367461, 0.6702113562367461, 0.6846067891829591, 0.6846067891829591, 0.6846067891829591, 0.7060373596421984, 0.7060373596421984, 0.7060373596421984, 0.7060373596421984, 0.7060373596421984, 0.7060373596421984, 0.7060373596421984, 0.7060373596421984, 0.7060373596421984, 0.7060373596421984, 0.7060373596421984, 0.7060373596421984, 0.7060373596421984, 0.7060373596421984, 0.7060373596421984, 0.7060373596421984, 0.7060373596421984, 0.7060373596421984]}], \"f1_score_micro\": [{\"categories\": [\"0\", \"1\", \"2\", \"3\", \"4\", \"5\", \"6\", \"7\", \"8\", \"9\", \"10\", \"11\", \"12\", \"13\", \"14\", \"15\", \"16\", \"17\", \"18\", \"19\", \"20\", \"21\", \"22\", \"23\", \"24\", \"25\", \"26\", \"27\", \"28\", \"29\", \"30\", \"31\", \"32\", \"33\", \"34\", \"35\", \"37\", \"38\"], \"mode\": \"markers\", \"name\": \"f1_score_micro\", \"stepped\": false, \"type\": \"scatter\", \"data\": [0.8619047619047618, 0.8666666666666666, 0.8387755102040817, 0.7952380952380953, 0.8387755102040817, 0.8394557823129251, 0.8448979591836734, 0.8387755102040817, 0.8387755102040817, 0.7489795918367348, 0.7081632653061224, 0.7197278911564626, 0.7408163265306122, 0.8510204081632654, 0.8387755102040817, 0.8360544217687076, 0.7564625850340135, 0.8061224489795918, 0.7095238095238096, 0.7904761904761906, 0.8687074829931973, 0.8748299319727891, 0.8666666666666666, 0.8687074829931973, 0.8693877551020407, 0.858503401360544, 0.8619047619047618, 0.6877551020408162, 0.8591836734693878, 0.8326530612244898, 0.865986394557823, 0.7789115646258502, 0.8666666666666666, 0.8591836734693878, 0.8591836734693876, 0.8598639455782313, 0.8741496598639455, 0.8768707482993199]}, {\"categories\": [\"0\", \"1\", \"2\", \"3\", \"4\", \"5\", \"6\", \"7\", \"8\", \"9\", \"10\", \"11\", \"12\", \"13\", \"14\", \"15\", \"16\", \"17\", \"18\", \"19\", \"20\", \"21\", \"22\", \"23\", \"24\", \"25\", \"26\", \"27\", \"28\", \"29\", \"30\", \"31\", \"32\", \"33\", \"34\", \"35\", \"37\", \"38\"], \"mode\": \"lines\", \"name\": \"f1_score_micro_max\", \"stepped\": true, \"type\": \"scatter\", \"data\": [0.8619047619047618, 0.8666666666666666, 0.8666666666666666, 0.8666666666666666, 0.8666666666666666, 0.8666666666666666, 0.8666666666666666, 0.8666666666666666, 0.8666666666666666, 0.8666666666666666, 0.8666666666666666, 0.8666666666666666, 0.8666666666666666, 0.8666666666666666, 0.8666666666666666, 0.8666666666666666, 0.8666666666666666, 0.8666666666666666, 0.8666666666666666, 0.8666666666666666, 0.8687074829931973, 0.8748299319727891, 0.8748299319727891, 0.8748299319727891, 0.8748299319727891, 0.8748299319727891, 0.8748299319727891, 0.8748299319727891, 0.8748299319727891, 0.8748299319727891, 0.8748299319727891, 0.8748299319727891, 0.8748299319727891, 0.8748299319727891, 0.8748299319727891, 0.8748299319727891, 0.8748299319727891, 0.8768707482993199]}], \"average_precision_score_macro\": [{\"categories\": [\"0\", \"1\", \"2\", \"3\", \"4\", \"5\", \"6\", \"7\", \"8\", \"9\", \"10\", \"11\", \"12\", \"13\", \"14\", \"15\", \"16\", \"17\", \"18\", \"19\", \"20\", \"21\", \"22\", \"23\", \"24\", \"25\", \"26\", \"27\", \"28\", \"29\", \"30\", \"31\", \"32\", \"33\", \"34\", \"35\", \"37\", \"38\"], \"mode\": \"markers\", \"name\": \"average_precision_score_macro\", \"stepped\": false, \"type\": \"scatter\", \"data\": [0.7420786179357055, 0.7468963270272365, 0.695213770755162, 0.7088164969852334, 0.6954817818764498, 0.6844626596302767, 0.7236375655542332, 0.705696596708903, 0.7003539115932857, 0.7127390289735271, 0.6817543131000768, 0.7041816121368074, 0.7131093127065935, 0.7161846921319889, 0.6787380819501401, 0.6434891476880162, 0.7197893462037807, 0.728974697890697, 0.7090358888014097, 0.7265294610703711, 0.7633553565966587, 0.7639387883234008, 0.7445870038640301, 0.750381898811973, 0.7480523452175036, 0.7213175756107029, 0.7383901846252199, 0.7163842916826952, 0.7485899580346317, 0.7336244720380425, 0.7573593429099769, 0.7151450084079375, 0.7426401887362026, 0.7320891946556014, 0.7412888286047595, 0.7498986732943196, 0.7822299326970426, 0.7805731301674281]}, {\"categories\": [\"0\", \"1\", \"2\", \"3\", \"4\", \"5\", \"6\", \"7\", \"8\", \"9\", \"10\", \"11\", \"12\", \"13\", \"14\", \"15\", \"16\", \"17\", \"18\", \"19\", \"20\", \"21\", \"22\", \"23\", \"24\", \"25\", \"26\", \"27\", \"28\", \"29\", \"30\", \"31\", \"32\", \"33\", \"34\", \"35\", \"37\", \"38\"], \"mode\": \"lines\", \"name\": \"average_precision_score_macro_max\", \"stepped\": true, \"type\": \"scatter\", \"data\": [0.7420786179357055, 0.7468963270272365, 0.7468963270272365, 0.7468963270272365, 0.7468963270272365, 0.7468963270272365, 0.7468963270272365, 0.7468963270272365, 0.7468963270272365, 0.7468963270272365, 0.7468963270272365, 0.7468963270272365, 0.7468963270272365, 0.7468963270272365, 0.7468963270272365, 0.7468963270272365, 0.7468963270272365, 0.7468963270272365, 0.7468963270272365, 0.7468963270272365, 0.7633553565966587, 0.7639387883234008, 0.7639387883234008, 0.7639387883234008, 0.7639387883234008, 0.7639387883234008, 0.7639387883234008, 0.7639387883234008, 0.7639387883234008, 0.7639387883234008, 0.7639387883234008, 0.7639387883234008, 0.7639387883234008, 0.7639387883234008, 0.7639387883234008, 0.7639387883234008, 0.7822299326970426, 0.7822299326970426]}], \"AUC_macro\": [{\"categories\": [\"0\", \"1\", \"2\", \"3\", \"4\", \"5\", \"6\", \"7\", \"8\", \"9\", \"10\", \"11\", \"12\", \"13\", \"14\", \"15\", \"16\", \"17\", \"18\", \"19\", \"20\", \"21\", \"22\", \"23\", \"24\", \"25\", \"26\", \"27\", \"28\", \"29\", \"30\", \"31\", \"32\", \"33\", \"34\", \"35\", \"37\", \"38\"], \"mode\": \"markers\", \"name\": \"AUC_macro\", \"stepped\": false, \"type\": \"scatter\", \"data\": [0.7989155856183239, 0.7960196173171672, 0.7657418102263598, 0.769152648801618, 0.755158413127355, 0.7710831198274608, 0.7971927529980831, 0.7838585774430976, 0.7772457808389206, 0.7857947072748117, 0.7526084265286306, 0.7579490980939096, 0.7784083914450052, 0.7770112441752852, 0.7631467639831472, 0.7431295739084932, 0.784934417228469, 0.7996210155750845, 0.7669834163437352, 0.7947696218114177, 0.8184853798898966, 0.8103992759191044, 0.8004953622236245, 0.8032453557472584, 0.8067398839506577, 0.7851394019170612, 0.7991444699302525, 0.7732329486659806, 0.8126280976732225, 0.8013089271022846, 0.8127799708007233, 0.789705909866942, 0.8056979585599953, 0.8032349995777954, 0.8002603136774619, 0.8124643003780282, 0.8386831931419086, 0.8353858095230213]}, {\"categories\": [\"0\", \"1\", \"2\", \"3\", \"4\", \"5\", \"6\", \"7\", \"8\", \"9\", \"10\", \"11\", \"12\", \"13\", \"14\", \"15\", \"16\", \"17\", \"18\", \"19\", \"20\", \"21\", \"22\", \"23\", \"24\", \"25\", \"26\", \"27\", \"28\", \"29\", \"30\", \"31\", \"32\", \"33\", \"34\", \"35\", \"37\", \"38\"], \"mode\": \"lines\", \"name\": \"AUC_macro_max\", \"stepped\": true, \"type\": \"scatter\", \"data\": [0.7989155856183239, 0.7989155856183239, 0.7989155856183239, 0.7989155856183239, 0.7989155856183239, 0.7989155856183239, 0.7989155856183239, 0.7989155856183239, 0.7989155856183239, 0.7989155856183239, 0.7989155856183239, 0.7989155856183239, 0.7989155856183239, 0.7989155856183239, 0.7989155856183239, 0.7989155856183239, 0.7989155856183239, 0.7996210155750845, 0.7996210155750845, 0.7996210155750845, 0.8184853798898966, 0.8184853798898966, 0.8184853798898966, 0.8184853798898966, 0.8184853798898966, 0.8184853798898966, 0.8184853798898966, 0.8184853798898966, 0.8184853798898966, 0.8184853798898966, 0.8184853798898966, 0.8184853798898966, 0.8184853798898966, 0.8184853798898966, 0.8184853798898966, 0.8184853798898966, 0.8386831931419086, 0.8386831931419086]}], \"recall_score_macro\": [{\"categories\": [\"0\", \"1\", \"2\", \"3\", \"4\", \"5\", \"6\", \"7\", \"8\", \"9\", \"10\", \"11\", \"12\", \"13\", \"14\", \"15\", \"16\", \"17\", \"18\", \"19\", \"20\", \"21\", \"22\", \"23\", \"24\", \"25\", \"26\", \"27\", \"28\", \"29\", \"30\", \"31\", \"32\", \"33\", \"34\", \"35\", \"37\", \"38\"], \"mode\": \"markers\", \"name\": \"recall_score_macro\", \"stepped\": false, \"type\": \"scatter\", \"data\": [0.6325173812828442, 0.6225954127298282, 0.5, 0.7015284803781048, 0.5, 0.529887091079169, 0.5336486028853321, 0.5, 0.5, 0.7119518412521942, 0.6817448394737889, 0.6916800472041835, 0.7240775475509922, 0.5601851049291162, 0.5, 0.5787712134364404, 0.711160068457315, 0.7183362969310721, 0.7131278511463762, 0.7131613156185008, 0.6794623272615179, 0.6548560196004598, 0.6546238067730036, 0.655246420757701, 0.6393827867695328, 0.6116692694121992, 0.6373353547191745, 0.6928246127270644, 0.6492289758555801, 0.7008386676344674, 0.6629658034983358, 0.7082335059714369, 0.6518431490289532, 0.6164130694337956, 0.6686091024488182, 0.6511419376119223, 0.646571906060376, 0.6602368545683184]}, {\"categories\": [\"0\", \"1\", \"2\", \"3\", \"4\", \"5\", \"6\", \"7\", \"8\", \"9\", \"10\", \"11\", \"12\", \"13\", \"14\", \"15\", \"16\", \"17\", \"18\", \"19\", \"20\", \"21\", \"22\", \"23\", \"24\", \"25\", \"26\", \"27\", \"28\", \"29\", \"30\", \"31\", \"32\", \"33\", \"34\", \"35\", \"37\", \"38\"], \"mode\": \"lines\", \"name\": \"recall_score_macro_max\", \"stepped\": true, \"type\": \"scatter\", \"data\": [0.6325173812828442, 0.6325173812828442, 0.6325173812828442, 0.7015284803781048, 0.7015284803781048, 0.7015284803781048, 0.7015284803781048, 0.7015284803781048, 0.7015284803781048, 0.7119518412521942, 0.7119518412521942, 0.7119518412521942, 0.7240775475509922, 0.7240775475509922, 0.7240775475509922, 0.7240775475509922, 0.7240775475509922, 0.7240775475509922, 0.7240775475509922, 0.7240775475509922, 0.7240775475509922, 0.7240775475509922, 0.7240775475509922, 0.7240775475509922, 0.7240775475509922, 0.7240775475509922, 0.7240775475509922, 0.7240775475509922, 0.7240775475509922, 0.7240775475509922, 0.7240775475509922, 0.7240775475509922, 0.7240775475509922, 0.7240775475509922, 0.7240775475509922, 0.7240775475509922, 0.7240775475509922, 0.7240775475509922]}], \"norm_macro_recall\": [{\"categories\": [\"0\", \"1\", \"2\", \"3\", \"4\", \"5\", \"6\", \"7\", \"8\", \"9\", \"10\", \"11\", \"12\", \"13\", \"14\", \"15\", \"16\", \"17\", \"18\", \"19\", \"20\", \"21\", \"22\", \"23\", \"24\", \"25\", \"26\", \"27\", \"28\", \"29\", \"30\", \"31\", \"32\", \"33\", \"34\", \"35\", \"37\", \"38\"], \"mode\": \"markers\", \"name\": \"norm_macro_recall\", \"stepped\": false, \"type\": \"scatter\", \"data\": [0.2650347625656882, 0.24519082545965648, 0.0, 0.40305696075620945, 0.0, 0.06146194587141829, 0.0672972057706644, 0.0, 0.0, 0.4239036825043884, 0.363489678947578, 0.38336009440836716, 0.44815509510198465, 0.12037020985823235, 0.0, 0.15754242687288084, 0.42232013691463005, 0.43667259386214424, 0.4262557022927524, 0.42632263123700176, 0.3589246545230356, 0.3097120392009195, 0.3092476135460073, 0.31049284151540213, 0.2787655735390656, 0.22333853882439839, 0.27467070943834865, 0.38564922545412894, 0.2984579517111604, 0.40167733526893484, 0.32593160699667145, 0.41646701194287383, 0.3036862980579065, 0.23282613886759118, 0.3372182048976365, 0.3022838752238447, 0.29314381212075186, 0.3204737091366369]}, {\"categories\": [\"0\", \"1\", \"2\", \"3\", \"4\", \"5\", \"6\", \"7\", \"8\", \"9\", \"10\", \"11\", \"12\", \"13\", \"14\", \"15\", \"16\", \"17\", \"18\", \"19\", \"20\", \"21\", \"22\", \"23\", \"24\", \"25\", \"26\", \"27\", \"28\", \"29\", \"30\", \"31\", \"32\", \"33\", \"34\", \"35\", \"37\", \"38\"], \"mode\": \"lines\", \"name\": \"norm_macro_recall_max\", \"stepped\": true, \"type\": \"scatter\", \"data\": [0.2650347625656882, 0.2650347625656882, 0.2650347625656882, 0.40305696075620945, 0.40305696075620945, 0.40305696075620945, 0.40305696075620945, 0.40305696075620945, 0.40305696075620945, 0.4239036825043884, 0.4239036825043884, 0.4239036825043884, 0.44815509510198465, 0.44815509510198465, 0.44815509510198465, 0.44815509510198465, 0.44815509510198465, 0.44815509510198465, 0.44815509510198465, 0.44815509510198465, 0.44815509510198465, 0.44815509510198465, 0.44815509510198465, 0.44815509510198465, 0.44815509510198465, 0.44815509510198465, 0.44815509510198465, 0.44815509510198465, 0.44815509510198465, 0.44815509510198465, 0.44815509510198465, 0.44815509510198465, 0.44815509510198465, 0.44815509510198465, 0.44815509510198465, 0.44815509510198465, 0.44815509510198465, 0.44815509510198465]}], \"AUC_weighted\": [{\"categories\": [\"0\", \"1\", \"2\", \"3\", \"4\", \"5\", \"6\", \"7\", \"8\", \"9\", \"10\", \"11\", \"12\", \"13\", \"14\", \"15\", \"16\", \"17\", \"18\", \"19\", \"20\", \"21\", \"22\", \"23\", \"24\", \"25\", \"26\", \"27\", \"28\", \"29\", \"30\", \"31\", \"32\", \"33\", \"34\", \"35\", \"37\", \"38\"], \"mode\": \"markers\", \"name\": \"AUC_weighted\", \"stepped\": false, \"type\": \"scatter\", \"data\": [0.7989155856183239, 0.7960196173171672, 0.7657418102263597, 0.769152648801618, 0.755158413127355, 0.7710831198274608, 0.7971927529980831, 0.7838585774430976, 0.7772457808389207, 0.7857947072748117, 0.7526084265286306, 0.7579490980939096, 0.7784083914450053, 0.7770112441752852, 0.7631467639831474, 0.7431295739084931, 0.784934417228469, 0.7996210155750845, 0.7669834163437352, 0.7947696218114177, 0.8184853798898966, 0.8103992759191044, 0.8004953622236245, 0.8032453557472584, 0.8067398839506577, 0.7851394019170613, 0.7991444699302525, 0.7732329486659806, 0.8126280976732225, 0.8013089271022846, 0.8127799708007233, 0.7897050796445613, 0.8056979585599953, 0.8032349995777952, 0.8002603136774619, 0.8124643003780282, 0.8386831931419086, 0.8353858095230213]}, {\"categories\": [\"0\", \"1\", \"2\", \"3\", \"4\", \"5\", \"6\", \"7\", \"8\", \"9\", \"10\", \"11\", \"12\", \"13\", \"14\", \"15\", \"16\", \"17\", \"18\", \"19\", \"20\", \"21\", \"22\", \"23\", \"24\", \"25\", \"26\", \"27\", \"28\", \"29\", \"30\", \"31\", \"32\", \"33\", \"34\", \"35\", \"37\", \"38\"], \"mode\": \"lines\", \"name\": \"AUC_weighted_max\", \"stepped\": true, \"type\": \"scatter\", \"data\": [0.7989155856183239, 0.7989155856183239, 0.7989155856183239, 0.7989155856183239, 0.7989155856183239, 0.7989155856183239, 0.7989155856183239, 0.7989155856183239, 0.7989155856183239, 0.7989155856183239, 0.7989155856183239, 0.7989155856183239, 0.7989155856183239, 0.7989155856183239, 0.7989155856183239, 0.7989155856183239, 0.7989155856183239, 0.7996210155750845, 0.7996210155750845, 0.7996210155750845, 0.8184853798898966, 0.8184853798898966, 0.8184853798898966, 0.8184853798898966, 0.8184853798898966, 0.8184853798898966, 0.8184853798898966, 0.8184853798898966, 0.8184853798898966, 0.8184853798898966, 0.8184853798898966, 0.8184853798898966, 0.8184853798898966, 0.8184853798898966, 0.8184853798898966, 0.8184853798898966, 0.8386831931419086, 0.8386831931419086]}], \"balanced_accuracy\": [{\"categories\": [\"0\", \"1\", \"2\", \"3\", \"4\", \"5\", \"6\", \"7\", \"8\", \"9\", \"10\", \"11\", \"12\", \"13\", \"14\", \"15\", \"16\", \"17\", \"18\", \"19\", \"20\", \"21\", \"22\", \"23\", \"24\", \"25\", \"26\", \"27\", \"28\", \"29\", \"30\", \"31\", \"32\", \"33\", \"34\", \"35\", \"37\", \"38\"], \"mode\": \"markers\", \"name\": \"balanced_accuracy\", \"stepped\": false, \"type\": \"scatter\", \"data\": [0.6325173812828442, 0.6225954127298282, 0.5, 0.7015284803781048, 0.5, 0.529887091079169, 0.5336486028853321, 0.5, 0.5, 0.7119518412521942, 0.6817448394737889, 0.6916800472041835, 0.7240775475509922, 0.5601851049291162, 0.5, 0.5787712134364404, 0.711160068457315, 0.7183362969310721, 0.7131278511463762, 0.7131613156185008, 0.6794623272615179, 0.6548560196004598, 0.6546238067730036, 0.655246420757701, 0.6393827867695328, 0.6116692694121992, 0.6373353547191745, 0.6928246127270644, 0.6492289758555801, 0.7008386676344674, 0.6629658034983358, 0.7082335059714369, 0.6518431490289532, 0.6164130694337956, 0.6686091024488182, 0.6511419376119223, 0.646571906060376, 0.6602368545683184]}, {\"categories\": [\"0\", \"1\", \"2\", \"3\", \"4\", \"5\", \"6\", \"7\", \"8\", \"9\", \"10\", \"11\", \"12\", \"13\", \"14\", \"15\", \"16\", \"17\", \"18\", \"19\", \"20\", \"21\", \"22\", \"23\", \"24\", \"25\", \"26\", \"27\", \"28\", \"29\", \"30\", \"31\", \"32\", \"33\", \"34\", \"35\", \"37\", \"38\"], \"mode\": \"lines\", \"name\": \"balanced_accuracy_max\", \"stepped\": true, \"type\": \"scatter\", \"data\": [0.6325173812828442, 0.6325173812828442, 0.6325173812828442, 0.7015284803781048, 0.7015284803781048, 0.7015284803781048, 0.7015284803781048, 0.7015284803781048, 0.7015284803781048, 0.7119518412521942, 0.7119518412521942, 0.7119518412521942, 0.7240775475509922, 0.7240775475509922, 0.7240775475509922, 0.7240775475509922, 0.7240775475509922, 0.7240775475509922, 0.7240775475509922, 0.7240775475509922, 0.7240775475509922, 0.7240775475509922, 0.7240775475509922, 0.7240775475509922, 0.7240775475509922, 0.7240775475509922, 0.7240775475509922, 0.7240775475509922, 0.7240775475509922, 0.7240775475509922, 0.7240775475509922, 0.7240775475509922, 0.7240775475509922, 0.7240775475509922, 0.7240775475509922, 0.7240775475509922, 0.7240775475509922, 0.7240775475509922]}], \"precision_score_weighted\": [{\"categories\": [\"0\", \"1\", \"2\", \"3\", \"4\", \"5\", \"6\", \"7\", \"8\", \"9\", \"10\", \"11\", \"12\", \"13\", \"14\", \"15\", \"16\", \"17\", \"18\", \"19\", \"20\", \"21\", \"22\", \"23\", \"24\", \"25\", \"26\", \"27\", \"28\", \"29\", \"30\", \"31\", \"32\", \"33\", \"34\", \"35\", \"37\", \"38\"], \"mode\": \"markers\", \"name\": \"precision_score_weighted\", \"stepped\": false, \"type\": \"scatter\", \"data\": [0.8450346008852863, 0.8565560301787951, 0.7043153315748069, 0.8272566726201779, 0.7043153315748069, 0.7838446095157812, 0.8371796865879446, 0.7043153315748069, 0.7043153315748069, 0.827519794920877, 0.814433183740386, 0.81969976312526, 0.8343136361650787, 0.8427451978131181, 0.7043153315748069, 0.7713786728278356, 0.828666784363491, 0.8350247536962975, 0.8301832913769915, 0.833472383451757, 0.8545936945878791, 0.867476137936076, 0.8523767115769821, 0.8550790614865793, 0.8599580951664418, 0.838951353677874, 0.8449618718353381, 0.8219713227065538, 0.8418848697234393, 0.8382918203926956, 0.8516663432555367, 0.8315957687312168, 0.8514568522120463, 0.8417561720209594, 0.8451869083109639, 0.8406265538600726, 0.867746987095775, 0.8676763356778935]}, {\"categories\": [\"0\", \"1\", \"2\", \"3\", \"4\", \"5\", \"6\", \"7\", \"8\", \"9\", \"10\", \"11\", \"12\", \"13\", \"14\", \"15\", \"16\", \"17\", \"18\", \"19\", \"20\", \"21\", \"22\", \"23\", \"24\", \"25\", \"26\", \"27\", \"28\", \"29\", \"30\", \"31\", \"32\", \"33\", \"34\", \"35\", \"37\", \"38\"], \"mode\": \"lines\", \"name\": \"precision_score_weighted_max\", \"stepped\": true, \"type\": \"scatter\", \"data\": [0.8450346008852863, 0.8565560301787951, 0.8565560301787951, 0.8565560301787951, 0.8565560301787951, 0.8565560301787951, 0.8565560301787951, 0.8565560301787951, 0.8565560301787951, 0.8565560301787951, 0.8565560301787951, 0.8565560301787951, 0.8565560301787951, 0.8565560301787951, 0.8565560301787951, 0.8565560301787951, 0.8565560301787951, 0.8565560301787951, 0.8565560301787951, 0.8565560301787951, 0.8565560301787951, 0.867476137936076, 0.867476137936076, 0.867476137936076, 0.867476137936076, 0.867476137936076, 0.867476137936076, 0.867476137936076, 0.867476137936076, 0.867476137936076, 0.867476137936076, 0.867476137936076, 0.867476137936076, 0.867476137936076, 0.867476137936076, 0.867476137936076, 0.867746987095775, 0.867746987095775]}], \"precision_score_macro\": [{\"categories\": [\"0\", \"1\", \"2\", \"3\", \"4\", \"5\", \"6\", \"7\", \"8\", \"9\", \"10\", \"11\", \"12\", \"13\", \"14\", \"15\", \"16\", \"17\", \"18\", \"19\", \"20\", \"21\", \"22\", \"23\", \"24\", \"25\", \"26\", \"27\", \"28\", \"29\", \"30\", \"31\", \"32\", \"33\", \"34\", \"35\", \"37\", \"38\"], \"mode\": \"markers\", \"name\": \"precision_score_macro\", \"stepped\": false, \"type\": \"scatter\", \"data\": [0.7773201030864005, 0.8241139956479303, 0.41938775510204085, 0.6550952595838668, 0.41938775510204085, 0.6512846446063831, 0.813727091473746, 0.41938775510204085, 0.41938775510204085, 0.6337499979812387, 0.6084382810336605, 0.6160999851143166, 0.636196691333884, 0.8123003696626828, 0.41938775510204085, 0.5747574634751562, 0.6371237365883131, 0.668627579052985, 0.6227172244120428, 0.6576526590603491, 0.7707189062705535, 0.8332708749705668, 0.7884879640710547, 0.792054808238413, 0.8183921177109141, 0.7699731504237194, 0.7761153360271709, 0.6103723798463884, 0.7547791353383457, 0.6940088218274985, 0.7783857043388531, 0.6504150124071426, 0.7858212083168448, 0.772152285356655, 0.749670946586978, 0.7535611922245649, 0.8420194782270547, 0.8321484939105488]}, {\"categories\": [\"0\", \"1\", \"2\", \"3\", \"4\", \"5\", \"6\", \"7\", \"8\", \"9\", \"10\", \"11\", \"12\", \"13\", \"14\", \"15\", \"16\", \"17\", \"18\", \"19\", \"20\", \"21\", \"22\", \"23\", \"24\", \"25\", \"26\", \"27\", \"28\", \"29\", \"30\", \"31\", \"32\", \"33\", \"34\", \"35\", \"37\", \"38\"], \"mode\": \"lines\", \"name\": \"precision_score_macro_max\", \"stepped\": true, \"type\": \"scatter\", \"data\": [0.7773201030864005, 0.8241139956479303, 0.8241139956479303, 0.8241139956479303, 0.8241139956479303, 0.8241139956479303, 0.8241139956479303, 0.8241139956479303, 0.8241139956479303, 0.8241139956479303, 0.8241139956479303, 0.8241139956479303, 0.8241139956479303, 0.8241139956479303, 0.8241139956479303, 0.8241139956479303, 0.8241139956479303, 0.8241139956479303, 0.8241139956479303, 0.8241139956479303, 0.8241139956479303, 0.8332708749705668, 0.8332708749705668, 0.8332708749705668, 0.8332708749705668, 0.8332708749705668, 0.8332708749705668, 0.8332708749705668, 0.8332708749705668, 0.8332708749705668, 0.8332708749705668, 0.8332708749705668, 0.8332708749705668, 0.8332708749705668, 0.8332708749705668, 0.8332708749705668, 0.8420194782270547, 0.8420194782270547]}], \"weighted_accuracy\": [{\"categories\": [\"0\", \"1\", \"2\", \"3\", \"4\", \"5\", \"6\", \"7\", \"8\", \"9\", \"10\", \"11\", \"12\", \"13\", \"14\", \"15\", \"16\", \"17\", \"18\", \"19\", \"20\", \"21\", \"22\", \"23\", \"24\", \"25\", \"26\", \"27\", \"28\", \"29\", \"30\", \"31\", \"32\", \"33\", \"34\", \"35\", \"37\", \"38\"], \"mode\": \"markers\", \"name\": \"weighted_accuracy\", \"stepped\": false, \"type\": \"scatter\", \"data\": [0.9459741060945535, 0.9563343611257199, 0.962650571738967, 0.8299467481898365, 0.962650571738967, 0.9533228437750297, 0.9595103348590749, 0.962650571738967, 0.962650571738967, 0.7627306186760292, 0.7171639677254227, 0.7302820228314195, 0.7475950151144417, 0.957860503068931, 0.962650571738967, 0.9295978837649027, 0.7730392428739651, 0.8398772306702453, 0.7083372075130531, 0.8200155354488003, 0.9377397577830188, 0.956262212271881, 0.9449919253656137, 0.9474854160870623, 0.9539342490417285, 0.9484909801390662, 0.944560459035725, 0.6862214310383191, 0.9365016072660712, 0.8820082362214985, 0.941115808346056, 0.8055805448056523, 0.9462301370738657, 0.948040416681355, 0.9291605728257334, 0.937098737193921, 0.9580407416269894, 0.9572786446253512]}, {\"categories\": [\"0\", \"1\", \"2\", \"3\", \"4\", \"5\", \"6\", \"7\", \"8\", \"9\", \"10\", \"11\", \"12\", \"13\", \"14\", \"15\", \"16\", \"17\", \"18\", \"19\", \"20\", \"21\", \"22\", \"23\", \"24\", \"25\", \"26\", \"27\", \"28\", \"29\", \"30\", \"31\", \"32\", \"33\", \"34\", \"35\", \"37\", \"38\"], \"mode\": \"lines\", \"name\": \"weighted_accuracy_max\", \"stepped\": true, \"type\": \"scatter\", \"data\": [0.9459741060945535, 0.9563343611257199, 0.962650571738967, 0.962650571738967, 0.962650571738967, 0.962650571738967, 0.962650571738967, 0.962650571738967, 0.962650571738967, 0.962650571738967, 0.962650571738967, 0.962650571738967, 0.962650571738967, 0.962650571738967, 0.962650571738967, 0.962650571738967, 0.962650571738967, 0.962650571738967, 0.962650571738967, 0.962650571738967, 0.962650571738967, 0.962650571738967, 0.962650571738967, 0.962650571738967, 0.962650571738967, 0.962650571738967, 0.962650571738967, 0.962650571738967, 0.962650571738967, 0.962650571738967, 0.962650571738967, 0.962650571738967, 0.962650571738967, 0.962650571738967, 0.962650571738967, 0.962650571738967, 0.962650571738967, 0.962650571738967]}], \"precision_score_micro\": [{\"categories\": [\"0\", \"1\", \"2\", \"3\", \"4\", \"5\", \"6\", \"7\", \"8\", \"9\", \"10\", \"11\", \"12\", \"13\", \"14\", \"15\", \"16\", \"17\", \"18\", \"19\", \"20\", \"21\", \"22\", \"23\", \"24\", \"25\", \"26\", \"27\", \"28\", \"29\", \"30\", \"31\", \"32\", \"33\", \"34\", \"35\", \"37\", \"38\"], \"mode\": \"markers\", \"name\": \"precision_score_micro\", \"stepped\": false, \"type\": \"scatter\", \"data\": [0.8619047619047618, 0.8666666666666666, 0.8387755102040817, 0.7952380952380953, 0.8387755102040817, 0.8394557823129251, 0.8448979591836734, 0.8387755102040817, 0.8387755102040817, 0.7489795918367348, 0.7081632653061224, 0.7197278911564626, 0.7408163265306122, 0.8510204081632654, 0.8387755102040817, 0.8360544217687075, 0.7564625850340135, 0.8061224489795918, 0.7095238095238096, 0.7904761904761906, 0.8687074829931973, 0.8748299319727891, 0.8666666666666666, 0.8687074829931973, 0.8693877551020408, 0.858503401360544, 0.8619047619047618, 0.6877551020408162, 0.8591836734693878, 0.8326530612244898, 0.865986394557823, 0.7789115646258502, 0.8666666666666666, 0.8591836734693878, 0.8591836734693876, 0.8598639455782313, 0.8741496598639455, 0.8768707482993197]}, {\"categories\": [\"0\", \"1\", \"2\", \"3\", \"4\", \"5\", \"6\", \"7\", \"8\", \"9\", \"10\", \"11\", \"12\", \"13\", \"14\", \"15\", \"16\", \"17\", \"18\", \"19\", \"20\", \"21\", \"22\", \"23\", \"24\", \"25\", \"26\", \"27\", \"28\", \"29\", \"30\", \"31\", \"32\", \"33\", \"34\", \"35\", \"37\", \"38\"], \"mode\": \"lines\", \"name\": \"precision_score_micro_max\", \"stepped\": true, \"type\": \"scatter\", \"data\": [0.8619047619047618, 0.8666666666666666, 0.8666666666666666, 0.8666666666666666, 0.8666666666666666, 0.8666666666666666, 0.8666666666666666, 0.8666666666666666, 0.8666666666666666, 0.8666666666666666, 0.8666666666666666, 0.8666666666666666, 0.8666666666666666, 0.8666666666666666, 0.8666666666666666, 0.8666666666666666, 0.8666666666666666, 0.8666666666666666, 0.8666666666666666, 0.8666666666666666, 0.8687074829931973, 0.8748299319727891, 0.8748299319727891, 0.8748299319727891, 0.8748299319727891, 0.8748299319727891, 0.8748299319727891, 0.8748299319727891, 0.8748299319727891, 0.8748299319727891, 0.8748299319727891, 0.8748299319727891, 0.8748299319727891, 0.8748299319727891, 0.8748299319727891, 0.8748299319727891, 0.8748299319727891, 0.8768707482993197]}], \"f1_score_weighted\": [{\"categories\": [\"0\", \"1\", \"2\", \"3\", \"4\", \"5\", \"6\", \"7\", \"8\", \"9\", \"10\", \"11\", \"12\", \"13\", \"14\", \"15\", \"16\", \"17\", \"18\", \"19\", \"20\", \"21\", \"22\", \"23\", \"24\", \"25\", \"26\", \"27\", \"28\", \"29\", \"30\", \"31\", \"32\", \"33\", \"34\", \"35\", \"37\", \"38\"], \"mode\": \"markers\", \"name\": \"f1_score_weighted\", \"stepped\": false, \"type\": \"scatter\", \"data\": [0.8384158202410876, 0.8377645988229133, 0.7654801811150342, 0.8078703242758797, 0.7654801811150342, 0.7834928307330123, 0.7871637551117859, 0.7654801811150342, 0.7654801811150342, 0.7748971761884123, 0.7421842233595835, 0.7521101088104262, 0.7703413134201421, 0.8044212073700165, 0.7654801811150342, 0.7994472325115711, 0.781153303460565, 0.8171662580035557, 0.7451929868816312, 0.8062252927095102, 0.8545460455881324, 0.8520783752660771, 0.8468323296124465, 0.8480655275325877, 0.8440323578420148, 0.8303137148187891, 0.8388038462047657, 0.7275416647356069, 0.8402452349330695, 0.8339522819572635, 0.8484531344385141, 0.7973366052792289, 0.8458667721909311, 0.8316461606813057, 0.8460328807399795, 0.8412069175762221, 0.849045816953754, 0.8540081395103494]}, {\"categories\": [\"0\", \"1\", \"2\", \"3\", \"4\", \"5\", \"6\", \"7\", \"8\", \"9\", \"10\", \"11\", \"12\", \"13\", \"14\", \"15\", \"16\", \"17\", \"18\", \"19\", \"20\", \"21\", \"22\", \"23\", \"24\", \"25\", \"26\", \"27\", \"28\", \"29\", \"30\", \"31\", \"32\", \"33\", \"34\", \"35\", \"37\", \"38\"], \"mode\": \"lines\", \"name\": \"f1_score_weighted_max\", \"stepped\": true, \"type\": \"scatter\", \"data\": [0.8384158202410876, 0.8384158202410876, 0.8384158202410876, 0.8384158202410876, 0.8384158202410876, 0.8384158202410876, 0.8384158202410876, 0.8384158202410876, 0.8384158202410876, 0.8384158202410876, 0.8384158202410876, 0.8384158202410876, 0.8384158202410876, 0.8384158202410876, 0.8384158202410876, 0.8384158202410876, 0.8384158202410876, 0.8384158202410876, 0.8384158202410876, 0.8384158202410876, 0.8545460455881324, 0.8545460455881324, 0.8545460455881324, 0.8545460455881324, 0.8545460455881324, 0.8545460455881324, 0.8545460455881324, 0.8545460455881324, 0.8545460455881324, 0.8545460455881324, 0.8545460455881324, 0.8545460455881324, 0.8545460455881324, 0.8545460455881324, 0.8545460455881324, 0.8545460455881324, 0.8545460455881324, 0.8545460455881324]}], \"matthews_correlation\": [{\"categories\": [\"0\", \"1\", \"2\", \"3\", \"4\", \"5\", \"6\", \"7\", \"8\", \"9\", \"10\", \"11\", \"12\", \"13\", \"14\", \"15\", \"16\", \"17\", \"18\", \"19\", \"20\", \"21\", \"22\", \"23\", \"24\", \"25\", \"26\", \"27\", \"28\", \"29\", \"30\", \"31\", \"32\", \"33\", \"34\", \"35\", \"37\", \"38\"], \"mode\": \"markers\", \"name\": \"matthews_correlation\", \"stepped\": false, \"type\": \"scatter\", \"data\": [0.3818562587798965, 0.3965238070034194, 0.0, 0.353191397670262, 0.0, 0.13392098395226543, 0.19933618135767175, 0.0, 0.0, 0.3363978002572045, 0.2805718036403576, 0.2977535476059944, 0.3487508794507914, 0.2709479381657536, 0.0, 0.18333069961629617, 0.33993429696023536, 0.38282413589008213, 0.32297264068799997, 0.3652515084050535, 0.43800931768065066, 0.45157342498155806, 0.41972706936918336, 0.42209510781238074, 0.41505741492199066, 0.34626377303842687, 0.38578927200254504, 0.2912383456536506, 0.38628574482357536, 0.3930411659625338, 0.42388510208861047, 0.3524051399723072, 0.4147966099593973, 0.35248464949235064, 0.40862586057769246, 0.39030924730097016, 0.4423427586002556, 0.4580378379387005]}, {\"categories\": [\"0\", \"1\", \"2\", \"3\", \"4\", \"5\", \"6\", \"7\", \"8\", \"9\", \"10\", \"11\", \"12\", \"13\", \"14\", \"15\", \"16\", \"17\", \"18\", \"19\", \"20\", \"21\", \"22\", \"23\", \"24\", \"25\", \"26\", \"27\", \"28\", \"29\", \"30\", \"31\", \"32\", \"33\", \"34\", \"35\", \"37\", \"38\"], \"mode\": \"lines\", \"name\": \"matthews_correlation_max\", \"stepped\": true, \"type\": \"scatter\", \"data\": [0.3818562587798965, 0.3965238070034194, 0.3965238070034194, 0.3965238070034194, 0.3965238070034194, 0.3965238070034194, 0.3965238070034194, 0.3965238070034194, 0.3965238070034194, 0.3965238070034194, 0.3965238070034194, 0.3965238070034194, 0.3965238070034194, 0.3965238070034194, 0.3965238070034194, 0.3965238070034194, 0.3965238070034194, 0.3965238070034194, 0.3965238070034194, 0.3965238070034194, 0.43800931768065066, 0.45157342498155806, 0.45157342498155806, 0.45157342498155806, 0.45157342498155806, 0.45157342498155806, 0.45157342498155806, 0.45157342498155806, 0.45157342498155806, 0.45157342498155806, 0.45157342498155806, 0.45157342498155806, 0.45157342498155806, 0.45157342498155806, 0.45157342498155806, 0.45157342498155806, 0.45157342498155806, 0.4580378379387005]}], \"average_precision_score_micro\": [{\"categories\": [\"0\", \"1\", \"2\", \"3\", \"4\", \"5\", \"6\", \"7\", \"8\", \"9\", \"10\", \"11\", \"12\", \"13\", \"14\", \"15\", \"16\", \"17\", \"18\", \"19\", \"20\", \"21\", \"22\", \"23\", \"24\", \"25\", \"26\", \"27\", \"28\", \"29\", \"30\", \"31\", \"32\", \"33\", \"34\", \"35\", \"37\", \"38\"], \"mode\": \"markers\", \"name\": \"average_precision_score_micro\", \"stepped\": false, \"type\": \"scatter\", \"data\": [0.9110472266117606, 0.911859676726713, 0.8958263616191576, 0.8659032691870667, 0.8956898521316828, 0.8977187332867821, 0.9093657433675878, 0.9047191220177198, 0.9027740680233128, 0.8328793327594388, 0.7899741128867557, 0.7952692074146155, 0.8048871380885322, 0.904981649453798, 0.9033553425228227, 0.885182805867449, 0.8220620501707714, 0.8744588570891887, 0.7871669708395327, 0.8680476523401033, 0.9197393684507638, 0.9198462775872637, 0.9155186494090124, 0.9160283521266095, 0.9176834383248886, 0.9058659465706353, 0.9115516657859107, 0.7819335089964653, 0.9176084448372134, 0.8998971388998136, 0.9207586983255286, 0.8545961591148462, 0.91694497589485, 0.9155982858891119, 0.912104540146399, 0.9185998124080663, 0.9273029834144587, 0.9270358329659685]}, {\"categories\": [\"0\", \"1\", \"2\", \"3\", \"4\", \"5\", \"6\", \"7\", \"8\", \"9\", \"10\", \"11\", \"12\", \"13\", \"14\", \"15\", \"16\", \"17\", \"18\", \"19\", \"20\", \"21\", \"22\", \"23\", \"24\", \"25\", \"26\", \"27\", \"28\", \"29\", \"30\", \"31\", \"32\", \"33\", \"34\", \"35\", \"37\", \"38\"], \"mode\": \"lines\", \"name\": \"average_precision_score_micro_max\", \"stepped\": true, \"type\": \"scatter\", \"data\": [0.9110472266117606, 0.911859676726713, 0.911859676726713, 0.911859676726713, 0.911859676726713, 0.911859676726713, 0.911859676726713, 0.911859676726713, 0.911859676726713, 0.911859676726713, 0.911859676726713, 0.911859676726713, 0.911859676726713, 0.911859676726713, 0.911859676726713, 0.911859676726713, 0.911859676726713, 0.911859676726713, 0.911859676726713, 0.911859676726713, 0.9197393684507638, 0.9198462775872637, 0.9198462775872637, 0.9198462775872637, 0.9198462775872637, 0.9198462775872637, 0.9198462775872637, 0.9198462775872637, 0.9198462775872637, 0.9198462775872637, 0.9207586983255286, 0.9207586983255286, 0.9207586983255286, 0.9207586983255286, 0.9207586983255286, 0.9207586983255286, 0.9273029834144587, 0.9273029834144587]}], \"AUC_micro\": [{\"categories\": [\"0\", \"1\", \"2\", \"3\", \"4\", \"5\", \"6\", \"7\", \"8\", \"9\", \"10\", \"11\", \"12\", \"13\", \"14\", \"15\", \"16\", \"17\", \"18\", \"19\", \"20\", \"21\", \"22\", \"23\", \"24\", \"25\", \"26\", \"27\", \"28\", \"29\", \"30\", \"31\", \"32\", \"33\", \"34\", \"35\", \"37\", \"38\"], \"mode\": \"markers\", \"name\": \"AUC_micro\", \"stepped\": false, \"type\": \"scatter\", \"data\": [0.9221551205516221, 0.9216900365588412, 0.9082187977231708, 0.87352260632144, 0.9061432736359849, 0.9110486371419316, 0.9181313341663195, 0.914172335600907, 0.9122379564070526, 0.8363806747188672, 0.7897936045166365, 0.7996482946920265, 0.8083090379008746, 0.9136332083853949, 0.9088782451756213, 0.9034846591697903, 0.8284580498866212, 0.8818478411772872, 0.7875214031190707, 0.8745245036790227, 0.9277407561664122, 0.9261187468184552, 0.9223749363691056, 0.9237377944375027, 0.9241473460132351, 0.9172057938821787, 0.9215581470683512, 0.7754153362025082, 0.9258804201952889, 0.9068675089083253, 0.9264357443657735, 0.8606668517747235, 0.9235966495441714, 0.9221551205516219, 0.9198597806469527, 0.9258734786431582, 0.9342241658568188, 0.9337567680133277]}, {\"categories\": [\"0\", \"1\", \"2\", \"3\", \"4\", \"5\", \"6\", \"7\", \"8\", \"9\", \"10\", \"11\", \"12\", \"13\", \"14\", \"15\", \"16\", \"17\", \"18\", \"19\", \"20\", \"21\", \"22\", \"23\", \"24\", \"25\", \"26\", \"27\", \"28\", \"29\", \"30\", \"31\", \"32\", \"33\", \"34\", \"35\", \"37\", \"38\"], \"mode\": \"lines\", \"name\": \"AUC_micro_max\", \"stepped\": true, \"type\": \"scatter\", \"data\": [0.9221551205516221, 0.9221551205516221, 0.9221551205516221, 0.9221551205516221, 0.9221551205516221, 0.9221551205516221, 0.9221551205516221, 0.9221551205516221, 0.9221551205516221, 0.9221551205516221, 0.9221551205516221, 0.9221551205516221, 0.9221551205516221, 0.9221551205516221, 0.9221551205516221, 0.9221551205516221, 0.9221551205516221, 0.9221551205516221, 0.9221551205516221, 0.9221551205516221, 0.9277407561664122, 0.9277407561664122, 0.9277407561664122, 0.9277407561664122, 0.9277407561664122, 0.9277407561664122, 0.9277407561664122, 0.9277407561664122, 0.9277407561664122, 0.9277407561664122, 0.9277407561664122, 0.9277407561664122, 0.9277407561664122, 0.9277407561664122, 0.9277407561664122, 0.9277407561664122, 0.9342241658568188, 0.9342241658568188]}], \"log_loss\": [{\"categories\": [\"0\", \"1\", \"2\", \"3\", \"4\", \"5\", \"6\", \"7\", \"8\", \"9\", \"10\", \"11\", \"12\", \"13\", \"14\", \"15\", \"16\", \"17\", \"18\", \"19\", \"20\", \"21\", \"22\", \"23\", \"24\", \"25\", \"26\", \"27\", \"28\", \"29\", \"30\", \"31\", \"32\", \"33\", \"34\", \"35\", \"37\", \"38\"], \"mode\": \"markers\", \"name\": \"log_loss\", \"stepped\": false, \"type\": \"scatter\", \"data\": [0.44203379102002494, 0.35148722993020576, 0.3902486458215093, 0.5558313522998596, 0.40220257579148244, 0.37736816752183955, 0.3663952727053907, 0.38937350239594404, 0.3959352798509225, 0.5670681341065871, 0.5986985720664275, 0.5832547271096135, 0.6132071816686169, 0.43652852663734826, 0.3965127257483355, 0.394301782985724, 0.5408179337540423, 0.5581311105361177, 0.6309714372549571, 0.5910891902458558, 0.34521450219733363, 0.3392232175804555, 0.3623894761857355, 0.3481320023178821, 0.3471190734248996, 0.3626544308322483, 0.36535913352570554, 0.5905668346894742, 0.40269246347999843, 0.6536383473877105, 0.3489066505539373, 1.4288190971941734, 0.471652962125059, 0.35283159232178524, 0.3776757097113864, 0.356261377901575, 0.3283199457956455, 0.32874178648441743]}, {\"categories\": [\"0\", \"1\", \"2\", \"3\", \"4\", \"5\", \"6\", \"7\", \"8\", \"9\", \"10\", \"11\", \"12\", \"13\", \"14\", \"15\", \"16\", \"17\", \"18\", \"19\", \"20\", \"21\", \"22\", \"23\", \"24\", \"25\", \"26\", \"27\", \"28\", \"29\", \"30\", \"31\", \"32\", \"33\", \"34\", \"35\", \"37\", \"38\"], \"mode\": \"lines\", \"name\": \"log_loss_min\", \"stepped\": true, \"type\": \"scatter\", \"data\": [0.44203379102002494, 0.35148722993020576, 0.35148722993020576, 0.35148722993020576, 0.35148722993020576, 0.35148722993020576, 0.35148722993020576, 0.35148722993020576, 0.35148722993020576, 0.35148722993020576, 0.35148722993020576, 0.35148722993020576, 0.35148722993020576, 0.35148722993020576, 0.35148722993020576, 0.35148722993020576, 0.35148722993020576, 0.35148722993020576, 0.35148722993020576, 0.35148722993020576, 0.34521450219733363, 0.3392232175804555, 0.3392232175804555, 0.3392232175804555, 0.3392232175804555, 0.3392232175804555, 0.3392232175804555, 0.3392232175804555, 0.3392232175804555, 0.3392232175804555, 0.3392232175804555, 0.3392232175804555, 0.3392232175804555, 0.3392232175804555, 0.3392232175804555, 0.3392232175804555, 0.3283199457956455, 0.3283199457956455]}], \"recall_score_weighted\": [{\"categories\": [\"0\", \"1\", \"2\", \"3\", \"4\", \"5\", \"6\", \"7\", \"8\", \"9\", \"10\", \"11\", \"12\", \"13\", \"14\", \"15\", \"16\", \"17\", \"18\", \"19\", \"20\", \"21\", \"22\", \"23\", \"24\", \"25\", \"26\", \"27\", \"28\", \"29\", \"30\", \"31\", \"32\", \"33\", \"34\", \"35\", \"37\", \"38\"], \"mode\": \"markers\", \"name\": \"recall_score_weighted\", \"stepped\": false, \"type\": \"scatter\", \"data\": [0.8619047619047618, 0.8666666666666666, 0.8387755102040817, 0.7952380952380953, 0.8387755102040817, 0.8394557823129251, 0.8448979591836734, 0.8387755102040817, 0.8387755102040817, 0.7489795918367348, 0.7081632653061224, 0.7197278911564626, 0.7408163265306122, 0.8510204081632654, 0.8387755102040817, 0.8360544217687075, 0.7564625850340135, 0.8061224489795918, 0.7095238095238096, 0.7904761904761906, 0.8687074829931973, 0.8748299319727891, 0.8666666666666666, 0.8687074829931973, 0.8693877551020408, 0.858503401360544, 0.8619047619047618, 0.6877551020408162, 0.8591836734693878, 0.8326530612244898, 0.865986394557823, 0.7789115646258502, 0.8666666666666666, 0.8591836734693878, 0.8591836734693876, 0.8598639455782313, 0.8741496598639455, 0.8768707482993197]}, {\"categories\": [\"0\", \"1\", \"2\", \"3\", \"4\", \"5\", \"6\", \"7\", \"8\", \"9\", \"10\", \"11\", \"12\", \"13\", \"14\", \"15\", \"16\", \"17\", \"18\", \"19\", \"20\", \"21\", \"22\", \"23\", \"24\", \"25\", \"26\", \"27\", \"28\", \"29\", \"30\", \"31\", \"32\", \"33\", \"34\", \"35\", \"37\", \"38\"], \"mode\": \"lines\", \"name\": \"recall_score_weighted_max\", \"stepped\": true, \"type\": \"scatter\", \"data\": [0.8619047619047618, 0.8666666666666666, 0.8666666666666666, 0.8666666666666666, 0.8666666666666666, 0.8666666666666666, 0.8666666666666666, 0.8666666666666666, 0.8666666666666666, 0.8666666666666666, 0.8666666666666666, 0.8666666666666666, 0.8666666666666666, 0.8666666666666666, 0.8666666666666666, 0.8666666666666666, 0.8666666666666666, 0.8666666666666666, 0.8666666666666666, 0.8666666666666666, 0.8687074829931973, 0.8748299319727891, 0.8748299319727891, 0.8748299319727891, 0.8748299319727891, 0.8748299319727891, 0.8748299319727891, 0.8748299319727891, 0.8748299319727891, 0.8748299319727891, 0.8748299319727891, 0.8748299319727891, 0.8748299319727891, 0.8748299319727891, 0.8748299319727891, 0.8748299319727891, 0.8748299319727891, 0.8768707482993197]}], \"recall_score_micro\": [{\"categories\": [\"0\", \"1\", \"2\", \"3\", \"4\", \"5\", \"6\", \"7\", \"8\", \"9\", \"10\", \"11\", \"12\", \"13\", \"14\", \"15\", \"16\", \"17\", \"18\", \"19\", \"20\", \"21\", \"22\", \"23\", \"24\", \"25\", \"26\", \"27\", \"28\", \"29\", \"30\", \"31\", \"32\", \"33\", \"34\", \"35\", \"37\", \"38\"], \"mode\": \"markers\", \"name\": \"recall_score_micro\", \"stepped\": false, \"type\": \"scatter\", \"data\": [0.8619047619047618, 0.8666666666666666, 0.8387755102040817, 0.7952380952380953, 0.8387755102040817, 0.8394557823129251, 0.8448979591836734, 0.8387755102040817, 0.8387755102040817, 0.7489795918367348, 0.7081632653061224, 0.7197278911564626, 0.7408163265306122, 0.8510204081632654, 0.8387755102040817, 0.8360544217687075, 0.7564625850340135, 0.8061224489795918, 0.7095238095238096, 0.7904761904761906, 0.8687074829931973, 0.8748299319727891, 0.8666666666666666, 0.8687074829931973, 0.8693877551020408, 0.858503401360544, 0.8619047619047618, 0.6877551020408162, 0.8591836734693878, 0.8326530612244898, 0.865986394557823, 0.7789115646258502, 0.8666666666666666, 0.8591836734693878, 0.8591836734693876, 0.8598639455782313, 0.8741496598639455, 0.8768707482993197]}, {\"categories\": [\"0\", \"1\", \"2\", \"3\", \"4\", \"5\", \"6\", \"7\", \"8\", \"9\", \"10\", \"11\", \"12\", \"13\", \"14\", \"15\", \"16\", \"17\", \"18\", \"19\", \"20\", \"21\", \"22\", \"23\", \"24\", \"25\", \"26\", \"27\", \"28\", \"29\", \"30\", \"31\", \"32\", \"33\", \"34\", \"35\", \"37\", \"38\"], \"mode\": \"lines\", \"name\": \"recall_score_micro_max\", \"stepped\": true, \"type\": \"scatter\", \"data\": [0.8619047619047618, 0.8666666666666666, 0.8666666666666666, 0.8666666666666666, 0.8666666666666666, 0.8666666666666666, 0.8666666666666666, 0.8666666666666666, 0.8666666666666666, 0.8666666666666666, 0.8666666666666666, 0.8666666666666666, 0.8666666666666666, 0.8666666666666666, 0.8666666666666666, 0.8666666666666666, 0.8666666666666666, 0.8666666666666666, 0.8666666666666666, 0.8666666666666666, 0.8687074829931973, 0.8748299319727891, 0.8748299319727891, 0.8748299319727891, 0.8748299319727891, 0.8748299319727891, 0.8748299319727891, 0.8748299319727891, 0.8748299319727891, 0.8748299319727891, 0.8748299319727891, 0.8748299319727891, 0.8748299319727891, 0.8748299319727891, 0.8748299319727891, 0.8748299319727891, 0.8748299319727891, 0.8768707482993197]}], \"accuracy\": [{\"categories\": [\"0\", \"1\", \"2\", \"3\", \"4\", \"5\", \"6\", \"7\", \"8\", \"9\", \"10\", \"11\", \"12\", \"13\", \"14\", \"15\", \"16\", \"17\", \"18\", \"19\", \"20\", \"21\", \"22\", \"23\", \"24\", \"25\", \"26\", \"27\", \"28\", \"29\", \"30\", \"31\", \"32\", \"33\", \"34\", \"35\", \"37\", \"38\"], \"mode\": \"markers\", \"name\": \"accuracy\", \"stepped\": false, \"type\": \"scatter\", \"data\": [0.8619047619047618, 0.8666666666666666, 0.8387755102040817, 0.7952380952380953, 0.8387755102040817, 0.8394557823129251, 0.8448979591836734, 0.8387755102040817, 0.8387755102040817, 0.7489795918367348, 0.7081632653061224, 0.7197278911564626, 0.7408163265306122, 0.8510204081632654, 0.8387755102040817, 0.8360544217687075, 0.7564625850340135, 0.8061224489795918, 0.7095238095238096, 0.7904761904761906, 0.8687074829931973, 0.8748299319727891, 0.8666666666666666, 0.8687074829931973, 0.8693877551020408, 0.858503401360544, 0.8619047619047618, 0.6877551020408162, 0.8591836734693878, 0.8326530612244898, 0.865986394557823, 0.7789115646258502, 0.8666666666666666, 0.8591836734693878, 0.8591836734693876, 0.8598639455782313, 0.8741496598639455, 0.8768707482993197]}, {\"categories\": [\"0\", \"1\", \"2\", \"3\", \"4\", \"5\", \"6\", \"7\", \"8\", \"9\", \"10\", \"11\", \"12\", \"13\", \"14\", \"15\", \"16\", \"17\", \"18\", \"19\", \"20\", \"21\", \"22\", \"23\", \"24\", \"25\", \"26\", \"27\", \"28\", \"29\", \"30\", \"31\", \"32\", \"33\", \"34\", \"35\", \"37\", \"38\"], \"mode\": \"lines\", \"name\": \"accuracy_max\", \"stepped\": true, \"type\": \"scatter\", \"data\": [0.8619047619047618, 0.8666666666666666, 0.8666666666666666, 0.8666666666666666, 0.8666666666666666, 0.8666666666666666, 0.8666666666666666, 0.8666666666666666, 0.8666666666666666, 0.8666666666666666, 0.8666666666666666, 0.8666666666666666, 0.8666666666666666, 0.8666666666666666, 0.8666666666666666, 0.8666666666666666, 0.8666666666666666, 0.8666666666666666, 0.8666666666666666, 0.8666666666666666, 0.8687074829931973, 0.8748299319727891, 0.8748299319727891, 0.8748299319727891, 0.8748299319727891, 0.8748299319727891, 0.8748299319727891, 0.8748299319727891, 0.8748299319727891, 0.8748299319727891, 0.8748299319727891, 0.8748299319727891, 0.8748299319727891, 0.8748299319727891, 0.8748299319727891, 0.8748299319727891, 0.8748299319727891, 0.8768707482993197]}], \"average_precision_score_weighted\": [{\"categories\": [\"0\", \"1\", \"2\", \"3\", \"4\", \"5\", \"6\", \"7\", \"8\", \"9\", \"10\", \"11\", \"12\", \"13\", \"14\", \"15\", \"16\", \"17\", \"18\", \"19\", \"20\", \"21\", \"22\", \"23\", \"24\", \"25\", \"26\", \"27\", \"28\", \"29\", \"30\", \"31\", \"32\", \"33\", \"34\", \"35\", \"37\", \"38\"], \"mode\": \"markers\", \"name\": \"average_precision_score_weighted\", \"stepped\": false, \"type\": \"scatter\", \"data\": [0.8745536715307383, 0.8765001844508739, 0.8508440479922502, 0.8593263117479042, 0.8528517605883843, 0.8505763572027307, 0.870423581218828, 0.8609890938363656, 0.8582850733852305, 0.8654753351085492, 0.8501064681215535, 0.8533840619684178, 0.8637875615539455, 0.8646170540768818, 0.8532602333865386, 0.8301756422253493, 0.8672035273073361, 0.8716900804077448, 0.8601431304485331, 0.8708444068664457, 0.8872566740217784, 0.8876672925543092, 0.8792901267827341, 0.8810886591944167, 0.8818914127899294, 0.8658721611313807, 0.8742102938020269, 0.8637465935554524, 0.8816698566898978, 0.8757013007710984, 0.8861528906154698, 0.8673818758168579, 0.879602057346211, 0.8766559358446363, 0.8775602317436879, 0.8826188367297085, 0.8976320453069434, 0.8968906019104054]}, {\"categories\": [\"0\", \"1\", \"2\", \"3\", \"4\", \"5\", \"6\", \"7\", \"8\", \"9\", \"10\", \"11\", \"12\", \"13\", \"14\", \"15\", \"16\", \"17\", \"18\", \"19\", \"20\", \"21\", \"22\", \"23\", \"24\", \"25\", \"26\", \"27\", \"28\", \"29\", \"30\", \"31\", \"32\", \"33\", \"34\", \"35\", \"37\", \"38\"], \"mode\": \"lines\", \"name\": \"average_precision_score_weighted_max\", \"stepped\": true, \"type\": \"scatter\", \"data\": [0.8745536715307383, 0.8765001844508739, 0.8765001844508739, 0.8765001844508739, 0.8765001844508739, 0.8765001844508739, 0.8765001844508739, 0.8765001844508739, 0.8765001844508739, 0.8765001844508739, 0.8765001844508739, 0.8765001844508739, 0.8765001844508739, 0.8765001844508739, 0.8765001844508739, 0.8765001844508739, 0.8765001844508739, 0.8765001844508739, 0.8765001844508739, 0.8765001844508739, 0.8872566740217784, 0.8876672925543092, 0.8876672925543092, 0.8876672925543092, 0.8876672925543092, 0.8876672925543092, 0.8876672925543092, 0.8876672925543092, 0.8876672925543092, 0.8876672925543092, 0.8876672925543092, 0.8876672925543092, 0.8876672925543092, 0.8876672925543092, 0.8876672925543092, 0.8876672925543092, 0.8976320453069434, 0.8976320453069434]}]}, \"metricName\": null, \"primaryMetricName\": \"AUC_weighted\", \"showLegend\": false}, \"run_metrics\": [{\"name\": \"experiment_status\", \"run_id\": \"AutoML_8312b950-2bf8-4a69-ad45-e3a6632c9bca\", \"categories\": [0, 1, 2, 3, 4, 5, 6, 7, 8, 9, 10, 11, 12, 13, 14], \"series\": [{\"data\": [\"DatasetEvaluation\", \"FeaturesGeneration\", \"DatasetFeaturization\", \"DatasetFeaturizationCompleted\", \"DatasetBalancing\", \"DatasetCrossValidationSplit\", \"ModelSelection\", \"BestRunExplainModel\", \"ModelExplanationDataSetSetup\", \"PickSurrogateModel\", \"EngineeredFeatureExplanations\", \"EngineeredFeatureExplanations\", \"RawFeaturesExplanations\", \"RawFeaturesExplanations\", \"BestRunExplainModel\"]}]}, {\"name\": \"experiment_status_description\", \"run_id\": \"AutoML_8312b950-2bf8-4a69-ad45-e3a6632c9bca\", \"categories\": [0, 1, 2, 3, 4, 5, 6, 7, 8, 9, 10, 11, 12, 13, 14], \"series\": [{\"data\": [\"Gathering dataset statistics.\", \"Generating features for the dataset.\", \"Beginning to fit featurizers and featurize the dataset.\", \"Completed fit featurizers and featurizing the dataset.\", \"Performing class balancing sweeping\", \"Generating individually featurized CV splits.\", \"Beginning model selection.\", \"Best run model explanations started\", \"Model explanations data setup completed\", \"Choosing LightGBM as the surrogate model for explanations\", \"Computation of engineered features started\", \"Computation of engineered features completed\", \"Computation of raw features started\", \"Computation of raw features completed\", \"Best run model explanations completed\"]}]}, {\"name\": \"average_precision_score_macro\", \"run_id\": \"AutoML_8312b950-2bf8-4a69-ad45-e3a6632c9bca\", \"categories\": [0], \"series\": [{\"data\": [0.7822299326970426]}]}, {\"name\": \"average_precision_score_micro\", \"run_id\": \"AutoML_8312b950-2bf8-4a69-ad45-e3a6632c9bca\", \"categories\": [0], \"series\": [{\"data\": [0.9273029834144587]}]}, {\"name\": \"precision_score_weighted\", \"run_id\": \"AutoML_8312b950-2bf8-4a69-ad45-e3a6632c9bca\", \"categories\": [0], \"series\": [{\"data\": [0.867746987095775]}]}, {\"name\": \"balanced_accuracy\", \"run_id\": \"AutoML_8312b950-2bf8-4a69-ad45-e3a6632c9bca\", \"categories\": [0], \"series\": [{\"data\": [0.646571906060376]}]}, {\"name\": \"norm_macro_recall\", \"run_id\": \"AutoML_8312b950-2bf8-4a69-ad45-e3a6632c9bca\", \"categories\": [0], \"series\": [{\"data\": [0.29314381212075186]}]}, {\"name\": \"precision_score_macro\", \"run_id\": \"AutoML_8312b950-2bf8-4a69-ad45-e3a6632c9bca\", \"categories\": [0], \"series\": [{\"data\": [0.8420194782270547]}]}, {\"name\": \"f1_score_macro\", \"run_id\": \"AutoML_8312b950-2bf8-4a69-ad45-e3a6632c9bca\", \"categories\": [0], \"series\": [{\"data\": [0.6829443533499282]}]}, {\"name\": \"accuracy\", \"run_id\": \"AutoML_8312b950-2bf8-4a69-ad45-e3a6632c9bca\", \"categories\": [0], \"series\": [{\"data\": [0.8741496598639455]}]}, {\"name\": \"AUC_weighted\", \"run_id\": \"AutoML_8312b950-2bf8-4a69-ad45-e3a6632c9bca\", \"categories\": [0], \"series\": [{\"data\": [0.8386831931419086]}]}, {\"name\": \"average_precision_score_weighted\", \"run_id\": \"AutoML_8312b950-2bf8-4a69-ad45-e3a6632c9bca\", \"categories\": [0], \"series\": [{\"data\": [0.8976320453069434]}]}, {\"name\": \"weighted_accuracy\", \"run_id\": \"AutoML_8312b950-2bf8-4a69-ad45-e3a6632c9bca\", \"categories\": [0], \"series\": [{\"data\": [0.9580407416269894]}]}, {\"name\": \"AUC_macro\", \"run_id\": \"AutoML_8312b950-2bf8-4a69-ad45-e3a6632c9bca\", \"categories\": [0], \"series\": [{\"data\": [0.8386831931419086]}]}, {\"name\": \"recall_score_micro\", \"run_id\": \"AutoML_8312b950-2bf8-4a69-ad45-e3a6632c9bca\", \"categories\": [0], \"series\": [{\"data\": [0.8741496598639455]}]}, {\"name\": \"f1_score_weighted\", \"run_id\": \"AutoML_8312b950-2bf8-4a69-ad45-e3a6632c9bca\", \"categories\": [0], \"series\": [{\"data\": [0.849045816953754]}]}, {\"name\": \"recall_score_weighted\", \"run_id\": \"AutoML_8312b950-2bf8-4a69-ad45-e3a6632c9bca\", \"categories\": [0], \"series\": [{\"data\": [0.8741496598639455]}]}, {\"name\": \"precision_score_micro\", \"run_id\": \"AutoML_8312b950-2bf8-4a69-ad45-e3a6632c9bca\", \"categories\": [0], \"series\": [{\"data\": [0.8741496598639455]}]}, {\"name\": \"matthews_correlation\", \"run_id\": \"AutoML_8312b950-2bf8-4a69-ad45-e3a6632c9bca\", \"categories\": [0], \"series\": [{\"data\": [0.4423427586002556]}]}, {\"name\": \"recall_score_macro\", \"run_id\": \"AutoML_8312b950-2bf8-4a69-ad45-e3a6632c9bca\", \"categories\": [0], \"series\": [{\"data\": [0.646571906060376]}]}, {\"name\": \"f1_score_micro\", \"run_id\": \"AutoML_8312b950-2bf8-4a69-ad45-e3a6632c9bca\", \"categories\": [0], \"series\": [{\"data\": [0.8741496598639455]}]}, {\"name\": \"AUC_micro\", \"run_id\": \"AutoML_8312b950-2bf8-4a69-ad45-e3a6632c9bca\", \"categories\": [0], \"series\": [{\"data\": [0.9342241658568188]}]}, {\"name\": \"log_loss\", \"run_id\": \"AutoML_8312b950-2bf8-4a69-ad45-e3a6632c9bca\", \"categories\": [0], \"series\": [{\"data\": [0.3283199457956455]}]}], \"run_logs\": \"\\nRun is completed.\", \"graph\": {}, \"widget_settings\": {\"childWidgetDisplay\": \"popup\", \"send_telemetry\": false, \"log_level\": \"INFO\", \"sdk_version\": \"1.20.0\"}, \"loading\": false}"
          },
          "metadata": {}
        }
      ],
      "execution_count": 9,
      "metadata": {
        "gather": {
          "logged": 1613966674886
        },
        "jupyter": {
          "outputs_hidden": false,
          "source_hidden": false
        },
        "nteract": {
          "transient": {
            "deleting": false
          }
        }
      }
    },
    {
      "cell_type": "markdown",
      "source": [
        "## Best Model\n",
        "\n"
      ],
      "metadata": {}
    },
    {
      "cell_type": "code",
      "source": [
        "best_automl_run, best_automl_model = remote_run.get_output()"
      ],
      "outputs": [
        {
          "output_type": "stream",
          "name": "stderr",
          "text": [
            "WARNING:root:The version of the SDK does not match the version the model was trained on.\n",
            "WARNING:root:The consistency in the result may not be guaranteed.\n",
            "WARNING:root:Package:azureml-automl-core, training version:1.22.0, current version:1.20.0\n",
            "Package:azureml-automl-runtime, training version:1.22.0, current version:1.20.0\n",
            "Package:azureml-core, training version:1.22.0, current version:1.20.0\n",
            "Package:azureml-dataprep, training version:2.9.1, current version:2.7.3\n",
            "Package:azureml-dataprep-native, training version:29.0.0, current version:27.0.0\n",
            "Package:azureml-dataprep-rslex, training version:1.7.0, current version:1.5.0\n",
            "Package:azureml-dataset-runtime, training version:1.22.0, current version:1.20.0\n",
            "Package:azureml-defaults, training version:1.22.0, current version:1.20.0\n",
            "Package:azureml-interpret, training version:1.22.0, current version:1.20.0\n",
            "Package:azureml-pipeline-core, training version:1.22.0, current version:1.20.0\n",
            "Package:azureml-telemetry, training version:1.22.0, current version:1.20.0\n",
            "Package:azureml-train-automl-client, training version:1.22.0, current version:1.20.0\n",
            "Package:azureml-train-automl-runtime, training version:1.22.0, current version:1.20.0\n",
            "WARNING:root:Please ensure the version of your local conda dependencies match the version on which your model was trained in order to properly retrieve your model.\n"
          ]
        }
      ],
      "execution_count": 10,
      "metadata": {
        "gather": {
          "logged": 1613966735815
        },
        "jupyter": {
          "outputs_hidden": false,
          "source_hidden": false
        },
        "nteract": {
          "transient": {
            "deleting": false
          }
        }
      }
    },
    {
      "cell_type": "code",
      "source": [
        "print(best_automl_model)"
      ],
      "outputs": [
        {
          "output_type": "stream",
          "name": "stdout",
          "text": [
            "Pipeline(memory=None,\n",
            "         steps=[('datatransformer',\n",
            "                 DataTransformer(enable_dnn=None, enable_feature_sweeping=None,\n",
            "                                 feature_sweeping_config=None,\n",
            "                                 feature_sweeping_timeout=None,\n",
            "                                 featurization_config=None, force_text_dnn=None,\n",
            "                                 is_cross_validation=None,\n",
            "                                 is_onnx_compatible=None, logger=None,\n",
            "                                 observer=None, task=None, working_dir=None)),\n",
            "                ('prefittedsoftvotingclassifier',...\n",
            "                                                                                                    min_weight_fraction_leaf=0.0,\n",
            "                                                                                                    n_estimators=10,\n",
            "                                                                                                    n_jobs=1,\n",
            "                                                                                                    oob_score=False,\n",
            "                                                                                                    random_state=None,\n",
            "                                                                                                    verbose=0,\n",
            "                                                                                                    warm_start=False))],\n",
            "                                                                     verbose=False))],\n",
            "                                               flatten_transform=None,\n",
            "                                               weights=[0.13333333333333333,\n",
            "                                                        0.06666666666666667,\n",
            "                                                        0.06666666666666667,\n",
            "                                                        0.2,\n",
            "                                                        0.06666666666666667,\n",
            "                                                        0.06666666666666667,\n",
            "                                                        0.06666666666666667,\n",
            "                                                        0.06666666666666667,\n",
            "                                                        0.13333333333333333,\n",
            "                                                        0.13333333333333333]))],\n",
            "         verbose=False)\n",
            "Y_transformer(['LabelEncoder', LabelEncoder()])\n"
          ]
        }
      ],
      "execution_count": 11,
      "metadata": {
        "gather": {
          "logged": 1613966736244
        }
      }
    },
    {
      "cell_type": "markdown",
      "source": [
        "### Fitted automl model estimators\r\n",
        "\r\n",
        "The cell below shows models members from the ensemble along its parameters. It helps to get a better understanding of the conforming models of the ensemble."
      ],
      "metadata": {
        "nteract": {
          "transient": {
            "deleting": false
          }
        }
      }
    },
    {
      "cell_type": "code",
      "source": [
        "best_automl_model.steps[1][1]"
      ],
      "outputs": [
        {
          "output_type": "execute_result",
          "execution_count": 47,
          "data": {
            "text/plain": "PreFittedSoftVotingClassifier(classification_labels=None,\n                              estimators=[('20',\n                                           Pipeline(memory=None,\n                                                    steps=[('maxabsscaler',\n                                                            MaxAbsScaler(copy=True)),\n                                                           ('lightgbmclassifier',\n                                                            LightGBMClassifier(boosting_type='goss',\n                                                                               class_weight=None,\n                                                                               colsample_bytree=0.6933333333333332,\n                                                                               importance_type='split',\n                                                                               learning_rate=0.06842421052631578,\n                                                                               max_bin=330,\n                                                                               max_depth=2,\n                                                                               min_chil...\n                                                                                   min_weight_fraction_leaf=0.0,\n                                                                                   n_estimators=10,\n                                                                                   n_jobs=1,\n                                                                                   oob_score=False,\n                                                                                   random_state=None,\n                                                                                   verbose=0,\n                                                                                   warm_start=False))],\n                                                    verbose=False))],\n                              flatten_transform=None,\n                              weights=[0.13333333333333333, 0.06666666666666667,\n                                       0.06666666666666667, 0.2,\n                                       0.06666666666666667, 0.06666666666666667,\n                                       0.06666666666666667, 0.06666666666666667,\n                                       0.13333333333333333,\n                                       0.13333333333333333])"
          },
          "metadata": {}
        }
      ],
      "execution_count": 47,
      "metadata": {
        "collapsed": true,
        "jupyter": {
          "source_hidden": false,
          "outputs_hidden": false
        },
        "nteract": {
          "transient": {
            "deleting": false
          }
        },
        "gather": {
          "logged": 1613970615179
        }
      }
    },
    {
      "cell_type": "code",
      "source": [
        "best_automl_model.steps[1][1].estimators"
      ],
      "outputs": [
        {
          "output_type": "execute_result",
          "execution_count": 12,
          "data": {
            "text/plain": "[('20',\n  Pipeline(memory=None,\n           steps=[('maxabsscaler', MaxAbsScaler(copy=True)),\n                  ('lightgbmclassifier',\n                   LightGBMClassifier(boosting_type='goss', class_weight=None,\n                                      colsample_bytree=0.6933333333333332,\n                                      importance_type='split',\n                                      learning_rate=0.06842421052631578,\n                                      max_bin=330, max_depth=2,\n                                      min_child_samples=46, min_child_weight=8,\n                                      min_split_gain=0.3684210526315789,\n                                      n_estimators=400, n_jobs=1, num_leaves=74,\n                                      objective=None, random_state=None,\n                                      reg_alpha=0.21052631578947367,\n                                      reg_lambda=0.10526315789473684, silent=True,\n                                      subsample=1, subsample_for_bin=200000,\n                                      subsample_freq=0, verbose=-10))],\n           verbose=False)),\n ('30',\n  Pipeline(memory=None,\n           steps=[('sparsenormalizer',\n                   <azureml.automl.runtime.shared.model_wrappers.SparseNormalizer object at 0x7fc0f86eca20>),\n                  ('lightgbmclassifier',\n                   LightGBMClassifier(boosting_type='goss', class_weight=None,\n                                      colsample_bytree=0.5944444444444444,\n                                      importance_type='split', learning_rate=0.1,\n                                      max_bin=220, max_depth=3,\n                                      min_child_samples=31, min_child_weight=1,\n                                      min_split_gain=0.05263157894736842,\n                                      n_estimators=200, n_jobs=1, num_leaves=191,\n                                      objective=None, random_state=None,\n                                      reg_alpha=0.8421052631578947,\n                                      reg_lambda=0.6842105263157894, silent=True,\n                                      subsample=1, subsample_for_bin=200000,\n                                      subsample_freq=0, verbose=-10))],\n           verbose=False)),\n ('28',\n  Pipeline(memory=None,\n           steps=[('standardscalerwrapper',\n                   <azureml.automl.runtime.shared.model_wrappers.StandardScalerWrapper object at 0x7fc0f8676208>),\n                  ('xgboostclassifier',\n                   XGBoostClassifier(base_score=0.5, booster='gbtree',\n                                     colsample_bylevel=1, colsample_bynode=1,\n                                     colsample_bytree=0.6, eta=0.1, gamma=0,\n                                     grow_policy='lossguide', learning_rate=0.1,\n                                     max_bin=63, max_delta_step=0, max_depth=6,\n                                     max_leaves=0, min_child_weight=1,\n                                     missing=nan, n_estimators=800, n_jobs=1,\n                                     nthread=None, objective='reg:logistic',\n                                     random_state=0, reg_alpha=1.1458333333333335,\n                                     reg_lambda=0.5208333333333334,\n                                     scale_pos_weight=1, seed=None, silent=None,\n                                     subsample=0.5, tree_method='hist',\n                                     verbose=-10, verbosity=0))],\n           verbose=False)),\n ('35',\n  Pipeline(memory=None,\n           steps=[('sparsenormalizer',\n                   <azureml.automl.runtime.shared.model_wrappers.SparseNormalizer object at 0x7fc0f867cda0>),\n                  ('lightgbmclassifier',\n                   LightGBMClassifier(boosting_type='goss', class_weight=None,\n                                      colsample_bytree=0.1,\n                                      importance_type='split',\n                                      learning_rate=0.07894947368421053,\n                                      max_bin=50, max_depth=-1,\n                                      min_child_samples=31, min_child_weight=7,\n                                      min_split_gain=0.3684210526315789,\n                                      n_estimators=600, n_jobs=1, num_leaves=11,\n                                      objective=None, random_state=None,\n                                      reg_alpha=1, reg_lambda=1, silent=True,\n                                      subsample=1, subsample_for_bin=200000,\n                                      subsample_freq=0, verbose=-10))],\n           verbose=False)),\n ('21',\n  Pipeline(memory=None,\n           steps=[('maxabsscaler', MaxAbsScaler(copy=True)),\n                  ('lightgbmclassifier',\n                   LightGBMClassifier(boosting_type='goss', class_weight=None,\n                                      colsample_bytree=0.1988888888888889,\n                                      importance_type='split',\n                                      learning_rate=0.09473736842105263,\n                                      max_bin=300, max_depth=3,\n                                      min_child_samples=26, min_child_weight=8,\n                                      min_split_gain=0.631578947368421,\n                                      n_estimators=100, n_jobs=1, num_leaves=11,\n                                      objective=None, random_state=None,\n                                      reg_alpha=0.2631578947368421,\n                                      reg_lambda=0.15789473684210525, silent=True,\n                                      subsample=1, subsample_for_bin=200000,\n                                      subsample_freq=0, verbose=-10))],\n           verbose=False)),\n ('29',\n  Pipeline(memory=None,\n           steps=[('maxabsscaler', MaxAbsScaler(copy=True)),\n                  ('logisticregression',\n                   LogisticRegression(C=719.6856730011514, class_weight=None,\n                                      dual=False, fit_intercept=True,\n                                      intercept_scaling=1, l1_ratio=None,\n                                      max_iter=100, multi_class='multinomial',\n                                      n_jobs=1, penalty='l2', random_state=None,\n                                      solver='saga', tol=0.0001, verbose=0,\n                                      warm_start=False))],\n           verbose=False)),\n ('0',\n  Pipeline(memory=None,\n           steps=[('maxabsscaler', MaxAbsScaler(copy=True)),\n                  ('lightgbmclassifier',\n                   LightGBMClassifier(boosting_type='gbdt', class_weight=None,\n                                      colsample_bytree=1.0,\n                                      importance_type='split', learning_rate=0.1,\n                                      max_depth=-1, min_child_samples=20,\n                                      min_child_weight=0.001, min_split_gain=0.0,\n                                      n_estimators=100, n_jobs=1, num_leaves=31,\n                                      objective=None, random_state=None,\n                                      reg_alpha=0.0, reg_lambda=0.0, silent=True,\n                                      subsample=1.0, subsample_for_bin=200000,\n                                      subsample_freq=0, verbose=-10))],\n           verbose=False)),\n ('19',\n  Pipeline(memory=None,\n           steps=[('standardscalerwrapper',\n                   <azureml.automl.runtime.shared.model_wrappers.StandardScalerWrapper object at 0x7fc0f86868d0>),\n                  ('logisticregression',\n                   LogisticRegression(C=3.727593720314938,\n                                      class_weight='balanced', dual=False,\n                                      fit_intercept=True, intercept_scaling=1,\n                                      l1_ratio=None, max_iter=100,\n                                      multi_class='ovr', n_jobs=1, penalty='l2',\n                                      random_state=None, solver='saga',\n                                      tol=0.0001, verbose=0, warm_start=False))],\n           verbose=False)),\n ('13',\n  Pipeline(memory=None,\n           steps=[('standardscalerwrapper',\n                   <azureml.automl.runtime.shared.model_wrappers.StandardScalerWrapper object at 0x7fc0f868b128>),\n                  ('xgboostclassifier',\n                   XGBoostClassifier(base_score=0.5, booster='gbtree',\n                                     colsample_bylevel=1, colsample_bynode=1,\n                                     colsample_bytree=0.7, eta=0.001, gamma=0,\n                                     learning_rate=0.1, max_delta_step=0,\n                                     max_depth=5, max_leaves=0,\n                                     min_child_weight=1, missing=nan,\n                                     n_estimators=10, n_jobs=1, nthread=None,\n                                     objective='reg:logistic', random_state=0,\n                                     reg_alpha=1.1458333333333335,\n                                     reg_lambda=1.3541666666666667,\n                                     scale_pos_weight=1, seed=None, silent=None,\n                                     subsample=0.6, tree_method='auto',\n                                     verbose=-10, verbosity=0))],\n           verbose=False)),\n ('14',\n  Pipeline(memory=None,\n           steps=[('maxabsscaler', MaxAbsScaler(copy=True)),\n                  ('randomforestclassifier',\n                   RandomForestClassifier(bootstrap=True, ccp_alpha=0.0,\n                                          class_weight=None, criterion='gini',\n                                          max_depth=None, max_features='log2',\n                                          max_leaf_nodes=None, max_samples=None,\n                                          min_impurity_decrease=0.0,\n                                          min_impurity_split=None,\n                                          min_samples_leaf=0.01,\n                                          min_samples_split=0.01,\n                                          min_weight_fraction_leaf=0.0,\n                                          n_estimators=10, n_jobs=1,\n                                          oob_score=False, random_state=None,\n                                          verbose=0, warm_start=False))],\n           verbose=False))]"
          },
          "metadata": {}
        }
      ],
      "execution_count": 12,
      "metadata": {
        "collapsed": true,
        "jupyter": {
          "source_hidden": false,
          "outputs_hidden": false
        },
        "nteract": {
          "transient": {
            "deleting": false
          }
        },
        "gather": {
          "logged": 1613966782146
        }
      }
    },
    {
      "cell_type": "code",
      "source": [
        "best_automl_run"
      ],
      "outputs": [
        {
          "output_type": "execute_result",
          "execution_count": 14,
          "data": {
            "text/plain": "Run(Experiment: automl-experiment,\nId: AutoML_8312b950-2bf8-4a69-ad45-e3a6632c9bca_37,\nType: azureml.scriptrun,\nStatus: Completed)",
            "text/html": "<table style=\"width:100%\"><tr><th>Experiment</th><th>Id</th><th>Type</th><th>Status</th><th>Details Page</th><th>Docs Page</th></tr><tr><td>automl-experiment</td><td>AutoML_8312b950-2bf8-4a69-ad45-e3a6632c9bca_37</td><td>azureml.scriptrun</td><td>Completed</td><td><a href=\"https://ml.azure.com/experiments/automl-experiment/runs/AutoML_8312b950-2bf8-4a69-ad45-e3a6632c9bca_37?wsid=/subscriptions/510b94ba-e453-4417-988b-fbdc37b55ca7/resourcegroups/aml-quickstarts-139301/workspaces/quick-starts-ws-139301\" target=\"_blank\" rel=\"noopener\">Link to Azure Machine Learning studio</a></td><td><a href=\"https://docs.microsoft.com/en-us/python/api/azureml-core/azureml.core.run.Run?view=azure-ml-py\" target=\"_blank\" rel=\"noopener\">Link to Documentation</a></td></tr></table>"
          },
          "metadata": {}
        }
      ],
      "execution_count": 14,
      "metadata": {
        "gather": {
          "logged": 1613966884889
        }
      }
    },
    {
      "cell_type": "code",
      "source": [
        "get_best_automl_metrics = best_automl_run.get_metrics()\n",
        "\n",
        "for metric_name in get_best_automl_metrics:\n",
        "    metric = get_best_automl_metrics[metric_name]\n",
        "    print(metric_name, metric)"
      ],
      "outputs": [
        {
          "output_type": "stream",
          "name": "stdout",
          "text": [
            "log_loss 0.3283199457956455\n",
            "AUC_micro 0.9342241658568188\n",
            "recall_score_macro 0.646571906060376\n",
            "f1_score_weighted 0.849045816953754\n",
            "average_precision_score_macro 0.7822299326970426\n",
            "norm_macro_recall 0.29314381212075186\n",
            "f1_score_micro 0.8741496598639455\n",
            "matthews_correlation 0.4423427586002556\n",
            "precision_score_micro 0.8741496598639455\n",
            "precision_score_weighted 0.867746987095775\n",
            "accuracy 0.8741496598639455\n",
            "AUC_weighted 0.8386831931419086\n",
            "f1_score_macro 0.6829443533499282\n",
            "recall_score_weighted 0.8741496598639455\n",
            "recall_score_micro 0.8741496598639455\n",
            "balanced_accuracy 0.646571906060376\n",
            "average_precision_score_micro 0.9273029834144587\n",
            "weighted_accuracy 0.9580407416269894\n",
            "AUC_macro 0.8386831931419086\n",
            "precision_score_macro 0.8420194782270547\n",
            "average_precision_score_weighted 0.8976320453069434\n",
            "accuracy_table aml://artifactId/ExperimentRun/dcid.AutoML_8312b950-2bf8-4a69-ad45-e3a6632c9bca_37/accuracy_table\n",
            "confusion_matrix aml://artifactId/ExperimentRun/dcid.AutoML_8312b950-2bf8-4a69-ad45-e3a6632c9bca_37/confusion_matrix\n"
          ]
        }
      ],
      "execution_count": 15,
      "metadata": {
        "gather": {
          "logged": 1613966899568
        }
      }
    },
    {
      "cell_type": "markdown",
      "source": [
        "View updated transformation summary"
      ],
      "metadata": {}
    },
    {
      "cell_type": "code",
      "source": [
        "custom_featurizer = best_automl_model.named_steps['datatransformer']\n",
        "df = custom_featurizer.get_featurization_summary(is_user_friendly=True)\n",
        "pd.DataFrame(data=df)"
      ],
      "outputs": [
        {
          "output_type": "execute_result",
          "execution_count": 16,
          "data": {
            "text/plain": "              RawFeatureName TypeDetected Dropped  EngineeredFeatureCount  \\\n0                        Age  Categorical      No                      43   \n1             BusinessTravel  Categorical      No                       3   \n2                 Department  Categorical      No                       3   \n3           DistanceFromHome  Categorical      No                      29   \n4                  Education  Categorical      No                       5   \n5             EducationField  Categorical      No                       6   \n6    EnvironmentSatisfaction  Categorical      No                       4   \n7                     Gender  Categorical      No                       1   \n8             JobInvolvement  Categorical      No                       4   \n9                   JobLevel  Categorical      No                       5   \n10                   JobRole  Categorical      No                       9   \n11           JobSatisfaction  Categorical      No                       4   \n12             MaritalStatus  Categorical      No                       3   \n13        NumCompaniesWorked  Categorical      No                      10   \n14                  OverTime  Categorical      No                       1   \n15         PercentSalaryHike  Categorical      No                      15   \n16         PerformanceRating  Categorical      No                       1   \n17  RelationshipSatisfaction  Categorical      No                       4   \n18          StockOptionLevel  Categorical      No                       4   \n19         TotalWorkingYears  Categorical      No                      40   \n20     TrainingTimesLastYear  Categorical      No                       7   \n21           WorkLifeBalance  Categorical      No                       4   \n22            YearsAtCompany  Categorical      No                      37   \n23        YearsInCurrentRole  Categorical      No                      19   \n24   YearsSinceLastPromotion  Categorical      No                      16   \n25      YearsWithCurrManager  Categorical      No                      18   \n26                 DailyRate      Numeric      No                       1   \n27            EmployeeNumber      Numeric      No                       1   \n28                HourlyRate      Numeric      No                       1   \n29             MonthlyIncome      Numeric      No                       1   \n30               MonthlyRate      Numeric      No                       1   \n31             EmployeeCount       Ignore     Yes                       0   \n32                    Over18       Ignore     Yes                       0   \n33             StandardHours       Ignore     Yes                       0   \n\n                             Transformations  \n0       [StringCast-CharGramCountVectorizer]  \n1       [StringCast-CharGramCountVectorizer]  \n2       [StringCast-CharGramCountVectorizer]  \n3       [StringCast-CharGramCountVectorizer]  \n4       [StringCast-CharGramCountVectorizer]  \n5       [StringCast-CharGramCountVectorizer]  \n6       [StringCast-CharGramCountVectorizer]  \n7   [ModeCatImputer-StringCast-LabelEncoder]  \n8       [StringCast-CharGramCountVectorizer]  \n9       [StringCast-CharGramCountVectorizer]  \n10      [StringCast-CharGramCountVectorizer]  \n11      [StringCast-CharGramCountVectorizer]  \n12      [StringCast-CharGramCountVectorizer]  \n13      [StringCast-CharGramCountVectorizer]  \n14  [ModeCatImputer-StringCast-LabelEncoder]  \n15      [StringCast-CharGramCountVectorizer]  \n16  [ModeCatImputer-StringCast-LabelEncoder]  \n17      [StringCast-CharGramCountVectorizer]  \n18      [StringCast-CharGramCountVectorizer]  \n19      [StringCast-CharGramCountVectorizer]  \n20      [StringCast-CharGramCountVectorizer]  \n21      [StringCast-CharGramCountVectorizer]  \n22      [StringCast-CharGramCountVectorizer]  \n23      [StringCast-CharGramCountVectorizer]  \n24      [StringCast-CharGramCountVectorizer]  \n25      [StringCast-CharGramCountVectorizer]  \n26                             [MeanImputer]  \n27                             [MeanImputer]  \n28                             [MeanImputer]  \n29                             [MeanImputer]  \n30                             [MeanImputer]  \n31                                        []  \n32                                        []  \n33                                        []  ",
            "text/html": "<div>\n<style scoped>\n    .dataframe tbody tr th:only-of-type {\n        vertical-align: middle;\n    }\n\n    .dataframe tbody tr th {\n        vertical-align: top;\n    }\n\n    .dataframe thead th {\n        text-align: right;\n    }\n</style>\n<table border=\"1\" class=\"dataframe\">\n  <thead>\n    <tr style=\"text-align: right;\">\n      <th></th>\n      <th>RawFeatureName</th>\n      <th>TypeDetected</th>\n      <th>Dropped</th>\n      <th>EngineeredFeatureCount</th>\n      <th>Transformations</th>\n    </tr>\n  </thead>\n  <tbody>\n    <tr>\n      <th>0</th>\n      <td>Age</td>\n      <td>Categorical</td>\n      <td>No</td>\n      <td>43</td>\n      <td>[StringCast-CharGramCountVectorizer]</td>\n    </tr>\n    <tr>\n      <th>1</th>\n      <td>BusinessTravel</td>\n      <td>Categorical</td>\n      <td>No</td>\n      <td>3</td>\n      <td>[StringCast-CharGramCountVectorizer]</td>\n    </tr>\n    <tr>\n      <th>2</th>\n      <td>Department</td>\n      <td>Categorical</td>\n      <td>No</td>\n      <td>3</td>\n      <td>[StringCast-CharGramCountVectorizer]</td>\n    </tr>\n    <tr>\n      <th>3</th>\n      <td>DistanceFromHome</td>\n      <td>Categorical</td>\n      <td>No</td>\n      <td>29</td>\n      <td>[StringCast-CharGramCountVectorizer]</td>\n    </tr>\n    <tr>\n      <th>4</th>\n      <td>Education</td>\n      <td>Categorical</td>\n      <td>No</td>\n      <td>5</td>\n      <td>[StringCast-CharGramCountVectorizer]</td>\n    </tr>\n    <tr>\n      <th>5</th>\n      <td>EducationField</td>\n      <td>Categorical</td>\n      <td>No</td>\n      <td>6</td>\n      <td>[StringCast-CharGramCountVectorizer]</td>\n    </tr>\n    <tr>\n      <th>6</th>\n      <td>EnvironmentSatisfaction</td>\n      <td>Categorical</td>\n      <td>No</td>\n      <td>4</td>\n      <td>[StringCast-CharGramCountVectorizer]</td>\n    </tr>\n    <tr>\n      <th>7</th>\n      <td>Gender</td>\n      <td>Categorical</td>\n      <td>No</td>\n      <td>1</td>\n      <td>[ModeCatImputer-StringCast-LabelEncoder]</td>\n    </tr>\n    <tr>\n      <th>8</th>\n      <td>JobInvolvement</td>\n      <td>Categorical</td>\n      <td>No</td>\n      <td>4</td>\n      <td>[StringCast-CharGramCountVectorizer]</td>\n    </tr>\n    <tr>\n      <th>9</th>\n      <td>JobLevel</td>\n      <td>Categorical</td>\n      <td>No</td>\n      <td>5</td>\n      <td>[StringCast-CharGramCountVectorizer]</td>\n    </tr>\n    <tr>\n      <th>10</th>\n      <td>JobRole</td>\n      <td>Categorical</td>\n      <td>No</td>\n      <td>9</td>\n      <td>[StringCast-CharGramCountVectorizer]</td>\n    </tr>\n    <tr>\n      <th>11</th>\n      <td>JobSatisfaction</td>\n      <td>Categorical</td>\n      <td>No</td>\n      <td>4</td>\n      <td>[StringCast-CharGramCountVectorizer]</td>\n    </tr>\n    <tr>\n      <th>12</th>\n      <td>MaritalStatus</td>\n      <td>Categorical</td>\n      <td>No</td>\n      <td>3</td>\n      <td>[StringCast-CharGramCountVectorizer]</td>\n    </tr>\n    <tr>\n      <th>13</th>\n      <td>NumCompaniesWorked</td>\n      <td>Categorical</td>\n      <td>No</td>\n      <td>10</td>\n      <td>[StringCast-CharGramCountVectorizer]</td>\n    </tr>\n    <tr>\n      <th>14</th>\n      <td>OverTime</td>\n      <td>Categorical</td>\n      <td>No</td>\n      <td>1</td>\n      <td>[ModeCatImputer-StringCast-LabelEncoder]</td>\n    </tr>\n    <tr>\n      <th>15</th>\n      <td>PercentSalaryHike</td>\n      <td>Categorical</td>\n      <td>No</td>\n      <td>15</td>\n      <td>[StringCast-CharGramCountVectorizer]</td>\n    </tr>\n    <tr>\n      <th>16</th>\n      <td>PerformanceRating</td>\n      <td>Categorical</td>\n      <td>No</td>\n      <td>1</td>\n      <td>[ModeCatImputer-StringCast-LabelEncoder]</td>\n    </tr>\n    <tr>\n      <th>17</th>\n      <td>RelationshipSatisfaction</td>\n      <td>Categorical</td>\n      <td>No</td>\n      <td>4</td>\n      <td>[StringCast-CharGramCountVectorizer]</td>\n    </tr>\n    <tr>\n      <th>18</th>\n      <td>StockOptionLevel</td>\n      <td>Categorical</td>\n      <td>No</td>\n      <td>4</td>\n      <td>[StringCast-CharGramCountVectorizer]</td>\n    </tr>\n    <tr>\n      <th>19</th>\n      <td>TotalWorkingYears</td>\n      <td>Categorical</td>\n      <td>No</td>\n      <td>40</td>\n      <td>[StringCast-CharGramCountVectorizer]</td>\n    </tr>\n    <tr>\n      <th>20</th>\n      <td>TrainingTimesLastYear</td>\n      <td>Categorical</td>\n      <td>No</td>\n      <td>7</td>\n      <td>[StringCast-CharGramCountVectorizer]</td>\n    </tr>\n    <tr>\n      <th>21</th>\n      <td>WorkLifeBalance</td>\n      <td>Categorical</td>\n      <td>No</td>\n      <td>4</td>\n      <td>[StringCast-CharGramCountVectorizer]</td>\n    </tr>\n    <tr>\n      <th>22</th>\n      <td>YearsAtCompany</td>\n      <td>Categorical</td>\n      <td>No</td>\n      <td>37</td>\n      <td>[StringCast-CharGramCountVectorizer]</td>\n    </tr>\n    <tr>\n      <th>23</th>\n      <td>YearsInCurrentRole</td>\n      <td>Categorical</td>\n      <td>No</td>\n      <td>19</td>\n      <td>[StringCast-CharGramCountVectorizer]</td>\n    </tr>\n    <tr>\n      <th>24</th>\n      <td>YearsSinceLastPromotion</td>\n      <td>Categorical</td>\n      <td>No</td>\n      <td>16</td>\n      <td>[StringCast-CharGramCountVectorizer]</td>\n    </tr>\n    <tr>\n      <th>25</th>\n      <td>YearsWithCurrManager</td>\n      <td>Categorical</td>\n      <td>No</td>\n      <td>18</td>\n      <td>[StringCast-CharGramCountVectorizer]</td>\n    </tr>\n    <tr>\n      <th>26</th>\n      <td>DailyRate</td>\n      <td>Numeric</td>\n      <td>No</td>\n      <td>1</td>\n      <td>[MeanImputer]</td>\n    </tr>\n    <tr>\n      <th>27</th>\n      <td>EmployeeNumber</td>\n      <td>Numeric</td>\n      <td>No</td>\n      <td>1</td>\n      <td>[MeanImputer]</td>\n    </tr>\n    <tr>\n      <th>28</th>\n      <td>HourlyRate</td>\n      <td>Numeric</td>\n      <td>No</td>\n      <td>1</td>\n      <td>[MeanImputer]</td>\n    </tr>\n    <tr>\n      <th>29</th>\n      <td>MonthlyIncome</td>\n      <td>Numeric</td>\n      <td>No</td>\n      <td>1</td>\n      <td>[MeanImputer]</td>\n    </tr>\n    <tr>\n      <th>30</th>\n      <td>MonthlyRate</td>\n      <td>Numeric</td>\n      <td>No</td>\n      <td>1</td>\n      <td>[MeanImputer]</td>\n    </tr>\n    <tr>\n      <th>31</th>\n      <td>EmployeeCount</td>\n      <td>Ignore</td>\n      <td>Yes</td>\n      <td>0</td>\n      <td>[]</td>\n    </tr>\n    <tr>\n      <th>32</th>\n      <td>Over18</td>\n      <td>Ignore</td>\n      <td>Yes</td>\n      <td>0</td>\n      <td>[]</td>\n    </tr>\n    <tr>\n      <th>33</th>\n      <td>StandardHours</td>\n      <td>Ignore</td>\n      <td>Yes</td>\n      <td>0</td>\n      <td>[]</td>\n    </tr>\n  </tbody>\n</table>\n</div>"
          },
          "metadata": {}
        }
      ],
      "execution_count": 16,
      "metadata": {
        "gather": {
          "logged": 1613967109417
        }
      }
    },
    {
      "cell_type": "code",
      "source": [
        "df = custom_featurizer.get_featurization_summary(is_user_friendly=False)\n",
        "pd.DataFrame(data=df)"
      ],
      "outputs": [
        {
          "output_type": "execute_result",
          "execution_count": 17,
          "data": {
            "text/plain": "              RawFeatureName TypeDetected Dropped  EngineeredFeatureCount  \\\n0                        Age  Categorical      No                      43   \n1             BusinessTravel  Categorical      No                       3   \n2                 Department  Categorical      No                       3   \n3           DistanceFromHome  Categorical      No                      29   \n4                  Education  Categorical      No                       5   \n5             EducationField  Categorical      No                       6   \n6    EnvironmentSatisfaction  Categorical      No                       4   \n7                     Gender  Categorical      No                       1   \n8             JobInvolvement  Categorical      No                       4   \n9                   JobLevel  Categorical      No                       5   \n10                   JobRole  Categorical      No                       9   \n11           JobSatisfaction  Categorical      No                       4   \n12             MaritalStatus  Categorical      No                       3   \n13        NumCompaniesWorked  Categorical      No                      10   \n14                  OverTime  Categorical      No                       1   \n15         PercentSalaryHike  Categorical      No                      15   \n16         PerformanceRating  Categorical      No                       1   \n17  RelationshipSatisfaction  Categorical      No                       4   \n18          StockOptionLevel  Categorical      No                       4   \n19         TotalWorkingYears  Categorical      No                      40   \n20     TrainingTimesLastYear  Categorical      No                       7   \n21           WorkLifeBalance  Categorical      No                       4   \n22            YearsAtCompany  Categorical      No                      37   \n23        YearsInCurrentRole  Categorical      No                      19   \n24   YearsSinceLastPromotion  Categorical      No                      16   \n25      YearsWithCurrManager  Categorical      No                      18   \n26                 DailyRate      Numeric      No                       1   \n27            EmployeeNumber      Numeric      No                       1   \n28                HourlyRate      Numeric      No                       1   \n29             MonthlyIncome      Numeric      No                       1   \n30               MonthlyRate      Numeric      No                       1   \n31             EmployeeCount       Ignore     Yes                       0   \n32                    Over18       Ignore     Yes                       0   \n33             StandardHours       Ignore     Yes                       0   \n\n                             Transformations  \\\n0       [StringCast-CharGramCountVectorizer]   \n1       [StringCast-CharGramCountVectorizer]   \n2       [StringCast-CharGramCountVectorizer]   \n3       [StringCast-CharGramCountVectorizer]   \n4       [StringCast-CharGramCountVectorizer]   \n5       [StringCast-CharGramCountVectorizer]   \n6       [StringCast-CharGramCountVectorizer]   \n7   [ModeCatImputer-StringCast-LabelEncoder]   \n8       [StringCast-CharGramCountVectorizer]   \n9       [StringCast-CharGramCountVectorizer]   \n10      [StringCast-CharGramCountVectorizer]   \n11      [StringCast-CharGramCountVectorizer]   \n12      [StringCast-CharGramCountVectorizer]   \n13      [StringCast-CharGramCountVectorizer]   \n14  [ModeCatImputer-StringCast-LabelEncoder]   \n15      [StringCast-CharGramCountVectorizer]   \n16  [ModeCatImputer-StringCast-LabelEncoder]   \n17      [StringCast-CharGramCountVectorizer]   \n18      [StringCast-CharGramCountVectorizer]   \n19      [StringCast-CharGramCountVectorizer]   \n20      [StringCast-CharGramCountVectorizer]   \n21      [StringCast-CharGramCountVectorizer]   \n22      [StringCast-CharGramCountVectorizer]   \n23      [StringCast-CharGramCountVectorizer]   \n24      [StringCast-CharGramCountVectorizer]   \n25      [StringCast-CharGramCountVectorizer]   \n26                             [MeanImputer]   \n27                             [MeanImputer]   \n28                             [MeanImputer]   \n29                             [MeanImputer]   \n30                             [MeanImputer]   \n31                                        []   \n32                                        []   \n33                                        []   \n\n                                 TransformationParams  \n0   {'Transformer1': {'Input': ['Age'], 'Transform...  \n1   {'Transformer1': {'Input': ['BusinessTravel'],...  \n2   {'Transformer1': {'Input': ['Department'], 'Tr...  \n3   {'Transformer1': {'Input': ['DistanceFromHome'...  \n4   {'Transformer1': {'Input': ['Education'], 'Tra...  \n5   {'Transformer1': {'Input': ['EducationField'],...  \n6   {'Transformer1': {'Input': ['EnvironmentSatisf...  \n7   {'Transformer1': {'Input': ['Gender'], 'Transf...  \n8   {'Transformer1': {'Input': ['JobInvolvement'],...  \n9   {'Transformer1': {'Input': ['JobLevel'], 'Tran...  \n10  {'Transformer1': {'Input': ['JobRole'], 'Trans...  \n11  {'Transformer1': {'Input': ['JobSatisfaction']...  \n12  {'Transformer1': {'Input': ['MaritalStatus'], ...  \n13  {'Transformer1': {'Input': ['NumCompaniesWorke...  \n14  {'Transformer1': {'Input': ['OverTime'], 'Tran...  \n15  {'Transformer1': {'Input': ['PercentSalaryHike...  \n16  {'Transformer1': {'Input': ['PerformanceRating...  \n17  {'Transformer1': {'Input': ['RelationshipSatis...  \n18  {'Transformer1': {'Input': ['StockOptionLevel'...  \n19  {'Transformer1': {'Input': ['TotalWorkingYears...  \n20  {'Transformer1': {'Input': ['TrainingTimesLast...  \n21  {'Transformer1': {'Input': ['WorkLifeBalance']...  \n22  {'Transformer1': {'Input': ['YearsAtCompany'],...  \n23  {'Transformer1': {'Input': ['YearsInCurrentRol...  \n24  {'Transformer1': {'Input': ['YearsSinceLastPro...  \n25  {'Transformer1': {'Input': ['YearsWithCurrMana...  \n26  {'Transformer1': {'Input': ['DailyRate'], 'Tra...  \n27  {'Transformer1': {'Input': ['EmployeeNumber'],...  \n28  {'Transformer1': {'Input': ['HourlyRate'], 'Tr...  \n29  {'Transformer1': {'Input': ['MonthlyIncome'], ...  \n30  {'Transformer1': {'Input': ['MonthlyRate'], 'T...  \n31  {'Transformer1': {'Input': ['EmployeeCount'], ...  \n32  {'Transformer1': {'Input': ['Over18'], 'Transf...  \n33  {'Transformer1': {'Input': ['StandardHours'], ...  ",
            "text/html": "<div>\n<style scoped>\n    .dataframe tbody tr th:only-of-type {\n        vertical-align: middle;\n    }\n\n    .dataframe tbody tr th {\n        vertical-align: top;\n    }\n\n    .dataframe thead th {\n        text-align: right;\n    }\n</style>\n<table border=\"1\" class=\"dataframe\">\n  <thead>\n    <tr style=\"text-align: right;\">\n      <th></th>\n      <th>RawFeatureName</th>\n      <th>TypeDetected</th>\n      <th>Dropped</th>\n      <th>EngineeredFeatureCount</th>\n      <th>Transformations</th>\n      <th>TransformationParams</th>\n    </tr>\n  </thead>\n  <tbody>\n    <tr>\n      <th>0</th>\n      <td>Age</td>\n      <td>Categorical</td>\n      <td>No</td>\n      <td>43</td>\n      <td>[StringCast-CharGramCountVectorizer]</td>\n      <td>{'Transformer1': {'Input': ['Age'], 'Transform...</td>\n    </tr>\n    <tr>\n      <th>1</th>\n      <td>BusinessTravel</td>\n      <td>Categorical</td>\n      <td>No</td>\n      <td>3</td>\n      <td>[StringCast-CharGramCountVectorizer]</td>\n      <td>{'Transformer1': {'Input': ['BusinessTravel'],...</td>\n    </tr>\n    <tr>\n      <th>2</th>\n      <td>Department</td>\n      <td>Categorical</td>\n      <td>No</td>\n      <td>3</td>\n      <td>[StringCast-CharGramCountVectorizer]</td>\n      <td>{'Transformer1': {'Input': ['Department'], 'Tr...</td>\n    </tr>\n    <tr>\n      <th>3</th>\n      <td>DistanceFromHome</td>\n      <td>Categorical</td>\n      <td>No</td>\n      <td>29</td>\n      <td>[StringCast-CharGramCountVectorizer]</td>\n      <td>{'Transformer1': {'Input': ['DistanceFromHome'...</td>\n    </tr>\n    <tr>\n      <th>4</th>\n      <td>Education</td>\n      <td>Categorical</td>\n      <td>No</td>\n      <td>5</td>\n      <td>[StringCast-CharGramCountVectorizer]</td>\n      <td>{'Transformer1': {'Input': ['Education'], 'Tra...</td>\n    </tr>\n    <tr>\n      <th>5</th>\n      <td>EducationField</td>\n      <td>Categorical</td>\n      <td>No</td>\n      <td>6</td>\n      <td>[StringCast-CharGramCountVectorizer]</td>\n      <td>{'Transformer1': {'Input': ['EducationField'],...</td>\n    </tr>\n    <tr>\n      <th>6</th>\n      <td>EnvironmentSatisfaction</td>\n      <td>Categorical</td>\n      <td>No</td>\n      <td>4</td>\n      <td>[StringCast-CharGramCountVectorizer]</td>\n      <td>{'Transformer1': {'Input': ['EnvironmentSatisf...</td>\n    </tr>\n    <tr>\n      <th>7</th>\n      <td>Gender</td>\n      <td>Categorical</td>\n      <td>No</td>\n      <td>1</td>\n      <td>[ModeCatImputer-StringCast-LabelEncoder]</td>\n      <td>{'Transformer1': {'Input': ['Gender'], 'Transf...</td>\n    </tr>\n    <tr>\n      <th>8</th>\n      <td>JobInvolvement</td>\n      <td>Categorical</td>\n      <td>No</td>\n      <td>4</td>\n      <td>[StringCast-CharGramCountVectorizer]</td>\n      <td>{'Transformer1': {'Input': ['JobInvolvement'],...</td>\n    </tr>\n    <tr>\n      <th>9</th>\n      <td>JobLevel</td>\n      <td>Categorical</td>\n      <td>No</td>\n      <td>5</td>\n      <td>[StringCast-CharGramCountVectorizer]</td>\n      <td>{'Transformer1': {'Input': ['JobLevel'], 'Tran...</td>\n    </tr>\n    <tr>\n      <th>10</th>\n      <td>JobRole</td>\n      <td>Categorical</td>\n      <td>No</td>\n      <td>9</td>\n      <td>[StringCast-CharGramCountVectorizer]</td>\n      <td>{'Transformer1': {'Input': ['JobRole'], 'Trans...</td>\n    </tr>\n    <tr>\n      <th>11</th>\n      <td>JobSatisfaction</td>\n      <td>Categorical</td>\n      <td>No</td>\n      <td>4</td>\n      <td>[StringCast-CharGramCountVectorizer]</td>\n      <td>{'Transformer1': {'Input': ['JobSatisfaction']...</td>\n    </tr>\n    <tr>\n      <th>12</th>\n      <td>MaritalStatus</td>\n      <td>Categorical</td>\n      <td>No</td>\n      <td>3</td>\n      <td>[StringCast-CharGramCountVectorizer]</td>\n      <td>{'Transformer1': {'Input': ['MaritalStatus'], ...</td>\n    </tr>\n    <tr>\n      <th>13</th>\n      <td>NumCompaniesWorked</td>\n      <td>Categorical</td>\n      <td>No</td>\n      <td>10</td>\n      <td>[StringCast-CharGramCountVectorizer]</td>\n      <td>{'Transformer1': {'Input': ['NumCompaniesWorke...</td>\n    </tr>\n    <tr>\n      <th>14</th>\n      <td>OverTime</td>\n      <td>Categorical</td>\n      <td>No</td>\n      <td>1</td>\n      <td>[ModeCatImputer-StringCast-LabelEncoder]</td>\n      <td>{'Transformer1': {'Input': ['OverTime'], 'Tran...</td>\n    </tr>\n    <tr>\n      <th>15</th>\n      <td>PercentSalaryHike</td>\n      <td>Categorical</td>\n      <td>No</td>\n      <td>15</td>\n      <td>[StringCast-CharGramCountVectorizer]</td>\n      <td>{'Transformer1': {'Input': ['PercentSalaryHike...</td>\n    </tr>\n    <tr>\n      <th>16</th>\n      <td>PerformanceRating</td>\n      <td>Categorical</td>\n      <td>No</td>\n      <td>1</td>\n      <td>[ModeCatImputer-StringCast-LabelEncoder]</td>\n      <td>{'Transformer1': {'Input': ['PerformanceRating...</td>\n    </tr>\n    <tr>\n      <th>17</th>\n      <td>RelationshipSatisfaction</td>\n      <td>Categorical</td>\n      <td>No</td>\n      <td>4</td>\n      <td>[StringCast-CharGramCountVectorizer]</td>\n      <td>{'Transformer1': {'Input': ['RelationshipSatis...</td>\n    </tr>\n    <tr>\n      <th>18</th>\n      <td>StockOptionLevel</td>\n      <td>Categorical</td>\n      <td>No</td>\n      <td>4</td>\n      <td>[StringCast-CharGramCountVectorizer]</td>\n      <td>{'Transformer1': {'Input': ['StockOptionLevel'...</td>\n    </tr>\n    <tr>\n      <th>19</th>\n      <td>TotalWorkingYears</td>\n      <td>Categorical</td>\n      <td>No</td>\n      <td>40</td>\n      <td>[StringCast-CharGramCountVectorizer]</td>\n      <td>{'Transformer1': {'Input': ['TotalWorkingYears...</td>\n    </tr>\n    <tr>\n      <th>20</th>\n      <td>TrainingTimesLastYear</td>\n      <td>Categorical</td>\n      <td>No</td>\n      <td>7</td>\n      <td>[StringCast-CharGramCountVectorizer]</td>\n      <td>{'Transformer1': {'Input': ['TrainingTimesLast...</td>\n    </tr>\n    <tr>\n      <th>21</th>\n      <td>WorkLifeBalance</td>\n      <td>Categorical</td>\n      <td>No</td>\n      <td>4</td>\n      <td>[StringCast-CharGramCountVectorizer]</td>\n      <td>{'Transformer1': {'Input': ['WorkLifeBalance']...</td>\n    </tr>\n    <tr>\n      <th>22</th>\n      <td>YearsAtCompany</td>\n      <td>Categorical</td>\n      <td>No</td>\n      <td>37</td>\n      <td>[StringCast-CharGramCountVectorizer]</td>\n      <td>{'Transformer1': {'Input': ['YearsAtCompany'],...</td>\n    </tr>\n    <tr>\n      <th>23</th>\n      <td>YearsInCurrentRole</td>\n      <td>Categorical</td>\n      <td>No</td>\n      <td>19</td>\n      <td>[StringCast-CharGramCountVectorizer]</td>\n      <td>{'Transformer1': {'Input': ['YearsInCurrentRol...</td>\n    </tr>\n    <tr>\n      <th>24</th>\n      <td>YearsSinceLastPromotion</td>\n      <td>Categorical</td>\n      <td>No</td>\n      <td>16</td>\n      <td>[StringCast-CharGramCountVectorizer]</td>\n      <td>{'Transformer1': {'Input': ['YearsSinceLastPro...</td>\n    </tr>\n    <tr>\n      <th>25</th>\n      <td>YearsWithCurrManager</td>\n      <td>Categorical</td>\n      <td>No</td>\n      <td>18</td>\n      <td>[StringCast-CharGramCountVectorizer]</td>\n      <td>{'Transformer1': {'Input': ['YearsWithCurrMana...</td>\n    </tr>\n    <tr>\n      <th>26</th>\n      <td>DailyRate</td>\n      <td>Numeric</td>\n      <td>No</td>\n      <td>1</td>\n      <td>[MeanImputer]</td>\n      <td>{'Transformer1': {'Input': ['DailyRate'], 'Tra...</td>\n    </tr>\n    <tr>\n      <th>27</th>\n      <td>EmployeeNumber</td>\n      <td>Numeric</td>\n      <td>No</td>\n      <td>1</td>\n      <td>[MeanImputer]</td>\n      <td>{'Transformer1': {'Input': ['EmployeeNumber'],...</td>\n    </tr>\n    <tr>\n      <th>28</th>\n      <td>HourlyRate</td>\n      <td>Numeric</td>\n      <td>No</td>\n      <td>1</td>\n      <td>[MeanImputer]</td>\n      <td>{'Transformer1': {'Input': ['HourlyRate'], 'Tr...</td>\n    </tr>\n    <tr>\n      <th>29</th>\n      <td>MonthlyIncome</td>\n      <td>Numeric</td>\n      <td>No</td>\n      <td>1</td>\n      <td>[MeanImputer]</td>\n      <td>{'Transformer1': {'Input': ['MonthlyIncome'], ...</td>\n    </tr>\n    <tr>\n      <th>30</th>\n      <td>MonthlyRate</td>\n      <td>Numeric</td>\n      <td>No</td>\n      <td>1</td>\n      <td>[MeanImputer]</td>\n      <td>{'Transformer1': {'Input': ['MonthlyRate'], 'T...</td>\n    </tr>\n    <tr>\n      <th>31</th>\n      <td>EmployeeCount</td>\n      <td>Ignore</td>\n      <td>Yes</td>\n      <td>0</td>\n      <td>[]</td>\n      <td>{'Transformer1': {'Input': ['EmployeeCount'], ...</td>\n    </tr>\n    <tr>\n      <th>32</th>\n      <td>Over18</td>\n      <td>Ignore</td>\n      <td>Yes</td>\n      <td>0</td>\n      <td>[]</td>\n      <td>{'Transformer1': {'Input': ['Over18'], 'Transf...</td>\n    </tr>\n    <tr>\n      <th>33</th>\n      <td>StandardHours</td>\n      <td>Ignore</td>\n      <td>Yes</td>\n      <td>0</td>\n      <td>[]</td>\n      <td>{'Transformer1': {'Input': ['StandardHours'], ...</td>\n    </tr>\n  </tbody>\n</table>\n</div>"
          },
          "metadata": {}
        }
      ],
      "execution_count": 17,
      "metadata": {
        "gather": {
          "logged": 1613967113616
        }
      }
    },
    {
      "cell_type": "markdown",
      "source": [
        "## Model explanation"
      ],
      "metadata": {
        "nteract": {
          "transient": {
            "deleting": false
          }
        }
      }
    },
    {
      "cell_type": "code",
      "source": [
        "from azureml.interpret import ExplanationClient"
      ],
      "outputs": [],
      "execution_count": 18,
      "metadata": {
        "collapsed": true,
        "jupyter": {
          "source_hidden": false,
          "outputs_hidden": false
        },
        "nteract": {
          "transient": {
            "deleting": false
          }
        },
        "gather": {
          "logged": 1613967119344
        }
      }
    },
    {
      "cell_type": "code",
      "source": [
        "from azureml.core.run import Run\r\n",
        "\r\n",
        "model_explainability_run_id = remote_run.id + \"_\" + \"ModelExplain\"\r\n",
        "print(model_explainability_run_id)\r\n",
        "model_explainability_run = Run(experiment=experiment, run_id= model_explainability_run_id)\r\n",
        "model_explainability_run.wait_for_completion()\r\n",
        "\r\n",
        "# get the best fitted model\r\n",
        "best_run, fitted_model = remote_run.get_output()"
      ],
      "outputs": [
        {
          "output_type": "stream",
          "name": "stdout",
          "text": [
            "AutoML_8312b950-2bf8-4a69-ad45-e3a6632c9bca_ModelExplain\n"
          ]
        },
        {
          "output_type": "stream",
          "name": "stderr",
          "text": [
            "WARNING:root:The version of the SDK does not match the version the model was trained on.\n",
            "WARNING:root:The consistency in the result may not be guaranteed.\n",
            "WARNING:root:Package:azureml-automl-core, training version:1.22.0, current version:1.20.0\n",
            "Package:azureml-automl-runtime, training version:1.22.0, current version:1.20.0\n",
            "Package:azureml-core, training version:1.22.0, current version:1.20.0\n",
            "Package:azureml-dataprep, training version:2.9.1, current version:2.7.3\n",
            "Package:azureml-dataprep-native, training version:29.0.0, current version:27.0.0\n",
            "Package:azureml-dataprep-rslex, training version:1.7.0, current version:1.5.0\n",
            "Package:azureml-dataset-runtime, training version:1.22.0, current version:1.20.0\n",
            "Package:azureml-defaults, training version:1.22.0, current version:1.20.0\n",
            "Package:azureml-interpret, training version:1.22.0, current version:1.20.0\n",
            "Package:azureml-pipeline-core, training version:1.22.0, current version:1.20.0\n",
            "Package:azureml-telemetry, training version:1.22.0, current version:1.20.0\n",
            "Package:azureml-train-automl-client, training version:1.22.0, current version:1.20.0\n",
            "Package:azureml-train-automl-runtime, training version:1.22.0, current version:1.20.0\n",
            "WARNING:root:Please ensure the version of your local conda dependencies match the version on which your model was trained in order to properly retrieve your model.\n"
          ]
        }
      ],
      "execution_count": 19,
      "metadata": {
        "collapsed": true,
        "jupyter": {
          "source_hidden": false,
          "outputs_hidden": false
        },
        "nteract": {
          "transient": {
            "deleting": false
          }
        },
        "gather": {
          "logged": 1613967838012
        }
      }
    },
    {
      "cell_type": "code",
      "source": [
        "client = ExplanationClient.from_run(best_run)\r\n",
        "engineered_explanations = client.download_model_explanation(raw=True)\r\n",
        "exp_data = engineered_explanations.get_feature_importance_dict()\r\n",
        "exp_data"
      ],
      "outputs": [
        {
          "output_type": "execute_result",
          "execution_count": 20,
          "data": {
            "text/plain": "{'OverTime': 0.378089967259378,\n 'StockOptionLevel': 0.2794407614800039,\n 'JobLevel': 0.2621790624831745,\n 'JobRole': 0.1939363403055988,\n 'YearsWithCurrManager': 0.1919325543792423,\n 'JobSatisfaction': 0.17700451187678148,\n 'EnvironmentSatisfaction': 0.16358020649675137,\n 'MonthlyIncome': 0.13788608596521054,\n 'BusinessTravel': 0.12746599532247166,\n 'WorkLifeBalance': 0.10503569968701616,\n 'RelationshipSatisfaction': 0.10260388600153031,\n 'EducationField': 0.09321215359354758,\n 'JobInvolvement': 0.09157454781674226,\n 'Department': 0.09114040229579314,\n 'NumCompaniesWorked': 0.07343258720029149,\n 'YearsInCurrentRole': 0.06961655047243742,\n 'PercentSalaryHike': 0.06500518091357774,\n 'MaritalStatus': 0.0631735515805559,\n 'DailyRate': 0.06184800350691182,\n 'TotalWorkingYears': 0.056158398655401946,\n 'TrainingTimesLastYear': 0.05004053238395005,\n 'Age': 0.04782756035786472,\n 'YearsAtCompany': 0.04593627138636555,\n 'DistanceFromHome': 0.045074974769909015,\n 'MonthlyRate': 0.039429370069436136,\n 'YearsSinceLastPromotion': 0.038641190969699646,\n 'Gender': 0.03323359138977547,\n 'EmployeeNumber': 0.02139024300910679,\n 'HourlyRate': 0.020880421489908645,\n 'Education': 0.015043144969149397,\n 'PerformanceRating': 0.001146180794914676,\n 'Over18': 0.0,\n 'StandardHours': 0.0,\n 'EmployeeCount': 0.0}"
          },
          "metadata": {}
        }
      ],
      "execution_count": 20,
      "metadata": {
        "collapsed": true,
        "jupyter": {
          "source_hidden": false,
          "outputs_hidden": false
        },
        "nteract": {
          "transient": {
            "deleting": false
          }
        },
        "gather": {
          "logged": 1613967920753
        }
      }
    },
    {
      "cell_type": "code",
      "source": [
        "client = ExplanationClient.from_run(best_run)\r\n",
        "engineered_explanations = client.download_model_explanation(raw=False)\r\n",
        "exp_data = engineered_explanations.get_feature_importance_dict()\r\n",
        "exp_data"
      ],
      "outputs": [
        {
          "output_type": "execute_result",
          "execution_count": 21,
          "data": {
            "text/plain": "{'OverTime_ModeCatImputer_LabelEncoder': 0.378089967259378,\n 'StockOptionLevel_CharGramCountVectorizer_0': 0.24121354017363064,\n 'JobLevel_CharGramCountVectorizer_1': 0.19469353959856014,\n 'YearsWithCurrManager_CharGramCountVectorizer_0': 0.15460990079402545,\n 'MonthlyIncome_MeanImputer': 0.13788608596521054,\n 'EnvironmentSatisfaction_CharGramCountVectorizer_1': 0.1335486877543116,\n 'BusinessTravel_CharGramCountVectorizer_travel_frequently': 0.09789282550092226,\n 'JobSatisfaction_CharGramCountVectorizer_1': 0.08748287320470019,\n 'RelationshipSatisfaction_CharGramCountVectorizer_1': 0.08746088048680623,\n 'JobSatisfaction_CharGramCountVectorizer_4': 0.08210933107663572,\n 'WorkLifeBalance_CharGramCountVectorizer_3': 0.07794798905316094,\n 'JobRole_CharGramCountVectorizer_sales executive': 0.06257169735293924,\n 'DailyRate_MeanImputer': 0.06184800350691182,\n 'JobRole_CharGramCountVectorizer_research scientist': 0.05943744484035707,\n 'Department_CharGramCountVectorizer_research & development': 0.0551877806207533,\n 'MaritalStatus_CharGramCountVectorizer_single': 0.05276983253389477,\n 'TotalWorkingYears_CharGramCountVectorizer_1': 0.040630917547836196,\n 'JobInvolvement_CharGramCountVectorizer_1': 0.04024500250811092,\n 'MonthlyRate_MeanImputer': 0.039429370069436136,\n 'JobRole_CharGramCountVectorizer_laboratory technician': 0.03831778989456174,\n 'YearsInCurrentRole_CharGramCountVectorizer_2': 0.03774774332706158,\n 'JobLevel_CharGramCountVectorizer_2': 0.036192068555964366,\n 'EducationField_CharGramCountVectorizer_technical degree': 0.03600328500978458,\n 'Department_CharGramCountVectorizer_sales': 0.035952621675039834,\n 'Gender_ModeCatImputer_LabelEncoder': 0.03323359138977547,\n 'StockOptionLevel_CharGramCountVectorizer_1': 0.031471034589109464,\n 'JobLevel_CharGramCountVectorizer_3': 0.0304047421947503,\n 'EducationField_CharGramCountVectorizer_life sciences': 0.029350033510771752,\n 'BusinessTravel_CharGramCountVectorizer_non-travel': 0.02686175767332522,\n 'JobRole_CharGramCountVectorizer_sales representative': 0.026715541959261874,\n 'EducationField_CharGramCountVectorizer_marketing': 0.022473415611335135,\n 'WorkLifeBalance_CharGramCountVectorizer_1': 0.02190442915462942,\n 'PercentSalaryHike_CharGramCountVectorizer_14': 0.021838401248372566,\n 'EmployeeNumber_MeanImputer': 0.02139024300910679,\n 'HourlyRate_MeanImputer': 0.020880421489908645,\n 'JobInvolvement_CharGramCountVectorizer_2': 0.019075503768376165,\n 'TrainingTimesLastYear_CharGramCountVectorizer_3': 0.01834486260018898,\n 'JobInvolvement_CharGramCountVectorizer_3': 0.017656985734981527,\n 'YearsWithCurrManager_CharGramCountVectorizer_7': 0.017603897212476904,\n 'YearsAtCompany_CharGramCountVectorizer_10': 0.01756764766747372,\n 'EnvironmentSatisfaction_CharGramCountVectorizer_4': 0.017317088039733915,\n 'NumCompaniesWorked_CharGramCountVectorizer_5': 0.017019022111813317,\n 'DistanceFromHome_CharGramCountVectorizer_1': 0.01652136286393933,\n 'PercentSalaryHike_CharGramCountVectorizer_11': 0.01639664065405123,\n 'YearsSinceLastPromotion_CharGramCountVectorizer_7': 0.015442052466744982,\n 'JobInvolvement_CharGramCountVectorizer_4': 0.014597055805273637,\n 'TrainingTimesLastYear_CharGramCountVectorizer_2': 0.012803179014390285,\n 'YearsWithCurrManager_CharGramCountVectorizer_2': 0.012686290823589425,\n 'YearsAtCompany_CharGramCountVectorizer_1': 0.012228331144291447,\n 'YearsInCurrentRole_CharGramCountVectorizer_7': 0.012115736201220745,\n 'NumCompaniesWorked_CharGramCountVectorizer_7': 0.011883339284982055,\n 'NumCompaniesWorked_CharGramCountVectorizer_0': 0.011404331340119913,\n 'Education_CharGramCountVectorizer_3': 0.010199742640262787,\n 'YearsSinceLastPromotion_CharGramCountVectorizer_0': 0.009909708404480529,\n 'DistanceFromHome_CharGramCountVectorizer_2': 0.00938176083036701,\n 'TrainingTimesLastYear_CharGramCountVectorizer_0': 0.009174646964221567,\n 'RelationshipSatisfaction_CharGramCountVectorizer_4': 0.008900873893114449,\n 'NumCompaniesWorked_CharGramCountVectorizer_6': 0.008589104622083012,\n 'EnvironmentSatisfaction_CharGramCountVectorizer_2': 0.007698411793842481,\n 'NumCompaniesWorked_CharGramCountVectorizer_9': 0.007438647177693844,\n 'YearsAtCompany_CharGramCountVectorizer_2': 0.006673325358494925,\n 'Age_CharGramCountVectorizer_35': 0.006606989012620119,\n 'JobSatisfaction_CharGramCountVectorizer_3': 0.006560073377753434,\n 'MaritalStatus_CharGramCountVectorizer_divorced': 0.0063331250728360395,\n 'StockOptionLevel_CharGramCountVectorizer_3': 0.006225589963093447,\n 'JobRole_CharGramCountVectorizer_research director': 0.006168217944232813,\n 'RelationshipSatisfaction_CharGramCountVectorizer_3': 0.005606332090361136,\n 'NumCompaniesWorked_CharGramCountVectorizer_3': 0.005435104764699736,\n 'EducationField_CharGramCountVectorizer_medical': 0.005385419461656117,\n 'NumCompaniesWorked_CharGramCountVectorizer_1': 0.005275290461149146,\n 'Age_CharGramCountVectorizer_27': 0.005181673078835677,\n 'EnvironmentSatisfaction_CharGramCountVectorizer_3': 0.0050160189088633515,\n 'YearsInCurrentRole_CharGramCountVectorizer_5': 0.004997516935750961,\n 'PercentSalaryHike_CharGramCountVectorizer_12': 0.004874538987596635,\n 'TrainingTimesLastYear_CharGramCountVectorizer_4': 0.004845617612745704,\n 'Age_CharGramCountVectorizer_36': 0.0047830204700280475,\n 'TotalWorkingYears_CharGramCountVectorizer_7': 0.004651035366934058,\n 'YearsSinceLastPromotion_CharGramCountVectorizer_3': 0.004533439992172604,\n 'Age_CharGramCountVectorizer_42': 0.004410673064175858,\n 'YearsInCurrentRole_CharGramCountVectorizer_9': 0.004168928580331286,\n 'YearsInCurrentRole_CharGramCountVectorizer_0': 0.004103853274525188,\n 'WorkLifeBalance_CharGramCountVectorizer_2': 0.0040977609499818456,\n 'PercentSalaryHike_CharGramCountVectorizer_16': 0.004077953109004794,\n 'MaritalStatus_CharGramCountVectorizer_married': 0.0040705939738250995,\n 'Age_CharGramCountVectorizer_46': 0.004042043131750728,\n 'YearsAtCompany_CharGramCountVectorizer_5': 0.003885293105738399,\n 'DistanceFromHome_CharGramCountVectorizer_29': 0.00333541086871864,\n 'NumCompaniesWorked_CharGramCountVectorizer_2': 0.0033080342919835463,\n 'Age_CharGramCountVectorizer_26': 0.003243153081612601,\n 'YearsSinceLastPromotion_CharGramCountVectorizer_1': 0.003200467254486969,\n 'DistanceFromHome_CharGramCountVectorizer_9': 0.0031547078258890157,\n 'TotalWorkingYears_CharGramCountVectorizer_20': 0.003139523517143961,\n 'Age_CharGramCountVectorizer_38': 0.0031361224891928727,\n 'TrainingTimesLastYear_CharGramCountVectorizer_5': 0.0031132292333891382,\n 'PercentSalaryHike_CharGramCountVectorizer_19': 0.0029965005998835717,\n 'PercentSalaryHike_CharGramCountVectorizer_15': 0.0029734974164369516,\n 'YearsSinceLastPromotion_CharGramCountVectorizer_6': 0.002775103557972425,\n 'BusinessTravel_CharGramCountVectorizer_travel_rarely': 0.002711412148224174,\n 'PercentSalaryHike_CharGramCountVectorizer_20': 0.0026970562748650784,\n 'TotalWorkingYears_CharGramCountVectorizer_10': 0.002625501095365714}"
          },
          "metadata": {}
        }
      ],
      "execution_count": 21,
      "metadata": {
        "collapsed": true,
        "jupyter": {
          "source_hidden": false,
          "outputs_hidden": false
        },
        "nteract": {
          "transient": {
            "deleting": false
          }
        },
        "gather": {
          "logged": 1613967927535
        }
      }
    },
    {
      "cell_type": "markdown",
      "source": [
        "## Model Deployment\n",
        "\n",
        "Remember you have to deploy only one of the two models you trained.. Perform the steps in the rest of this notebook only if you wish to deploy this model."
      ],
      "metadata": {}
    },
    {
      "cell_type": "markdown",
      "source": [
        "To get an environment that was used after the training finishes, use the *get_environment()* method"
      ],
      "metadata": {
        "nteract": {
          "transient": {
            "deleting": false
          }
        }
      }
    },
    {
      "cell_type": "code",
      "source": [
        "automl_env = best_automl_run.get_environment()"
      ],
      "outputs": [],
      "execution_count": 28,
      "metadata": {
        "collapsed": true,
        "jupyter": {
          "source_hidden": false,
          "outputs_hidden": false
        },
        "nteract": {
          "transient": {
            "deleting": false
          }
        },
        "gather": {
          "logged": 1613968466101
        }
      }
    },
    {
      "cell_type": "code",
      "source": [
        "model_name = best_automl_run.properties[\"model_name\"]\r\n",
        "script_file_name = \"inference/score.py\"\r\n",
        "best_automl_run.download_file('outputs/scoring_file_v_1_0_0.py', script_file_name)"
      ],
      "outputs": [],
      "execution_count": 31,
      "metadata": {
        "collapsed": true,
        "jupyter": {
          "source_hidden": false,
          "outputs_hidden": false
        },
        "nteract": {
          "transient": {
            "deleting": false
          }
        },
        "gather": {
          "logged": 1613968875591
        }
      }
    },
    {
      "cell_type": "code",
      "source": [
        "print(remote_run.model_id)"
      ],
      "outputs": [
        {
          "output_type": "stream",
          "name": "stdout",
          "text": [
            "None\n"
          ]
        }
      ],
      "execution_count": 33,
      "metadata": {
        "collapsed": true,
        "jupyter": {
          "source_hidden": false,
          "outputs_hidden": false
        },
        "nteract": {
          "transient": {
            "deleting": false
          }
        },
        "gather": {
          "logged": 1613969222480
        }
      }
    },
    {
      "cell_type": "code",
      "source": [
        "# Register the model to deploy\n",
        "# model = run.register_model(model_name = \"mymodel\", model_path = \"outputs/model.pkl\")\n",
        "description = 'sample service for Automl Classification'\n",
        "model = best_automl_run.register_model(description = description,\n",
        "                                       model_name=model_name,\n",
        "                                       tags={'area': \"Attrition\", 'type': \"automl_classification\"},\n",
        "                                       model_path = \"outputs/model.pkl\")\n",
        "\n",
        "# Combine scoring script & environment in Inference configuration\n",
        "inference_config = InferenceConfig(entry_script=script_file_name)\n",
        "\n",
        "# Set deployment configuration\n",
        "deployment_config = AciWebservice.deploy_configuration(cpu_cores=1, \n",
        "                                                       memory_gb=1,\n",
        "                                                       tags={'area': \"AttritionData\", 'type': \"automl_classification\"},\n",
        "                                                       description=description)\n",
        "\n",
        "# Define the model, inference, & deployment configuration and web service name and location to deploy\n",
        "service = Model.deploy(\n",
        "    workspace=ws,\n",
        "    name=\"automl-web-service\",\n",
        "    models=[model],\n",
        "    inference_config=inference_config,\n",
        "    deployment_config=deployment_config)\n",
        "\n",
        "service.wait_for_deployment(show_output=True)\n",
        "print(service.state)"
      ],
      "outputs": [
        {
          "output_type": "stream",
          "name": "stdout",
          "text": [
            "Tips: You can try get_logs(): https://aka.ms/debugimage#dockerlog or local deployment: https://aka.ms/debugimage#debug-locally to debug if deployment takes longer than 10 minutes.\n",
            "Running...........................................\n",
            "Succeeded\n",
            "ACI service creation operation finished, operation \"Succeeded\"\n",
            "Healthy\n"
          ]
        }
      ],
      "execution_count": 34,
      "metadata": {
        "gather": {
          "logged": 1613969676668
        },
        "jupyter": {
          "outputs_hidden": false,
          "source_hidden": false
        },
        "nteract": {
          "transient": {
            "deleting": false
          }
        }
      }
    },
    {
      "cell_type": "code",
      "source": [
        "# Enable application insights\n",
        "service.update(enable_app_insights = True)"
      ],
      "outputs": [],
      "execution_count": 35,
      "metadata": {
        "gather": {
          "logged": 1613969739557
        }
      }
    },
    {
      "cell_type": "code",
      "source": [
        "print(\"State : \", service.state)\n",
        "# print(\"Key :\", service.get_keys()[0])\n",
        "print(\"Swagger URI : \", service.swagger_uri)\n",
        "print(\"Scoring URI : \", service.scoring_uri)"
      ],
      "outputs": [
        {
          "output_type": "stream",
          "name": "stdout",
          "text": [
            "State :  Healthy\n",
            "Swagger URI :  http://5136bfd2-3d1b-4ac6-86c8-e48ad2c0ac2f.southcentralus.azurecontainer.io/swagger.json\n",
            "Scoring URI :  http://5136bfd2-3d1b-4ac6-86c8-e48ad2c0ac2f.southcentralus.azurecontainer.io/score\n"
          ]
        }
      ],
      "execution_count": 36,
      "metadata": {
        "gather": {
          "logged": 1613969747688
        }
      }
    },
    {
      "cell_type": "markdown",
      "source": [
        "## Test Deployed model"
      ],
      "metadata": {
        "collapsed": true,
        "gather": {
          "logged": 1598431657736
        },
        "jupyter": {
          "outputs_hidden": false,
          "source_hidden": false
        },
        "nteract": {
          "transient": {
            "deleting": false
          }
        }
      }
    },
    {
      "cell_type": "code",
      "source": [
        "from numpy import array"
      ],
      "outputs": [],
      "execution_count": 37,
      "metadata": {
        "gather": {
          "logged": 1613969755444
        },
        "jupyter": {
          "outputs_hidden": false,
          "source_hidden": false
        },
        "nteract": {
          "transient": {
            "deleting": false
          }
        }
      }
    },
    {
      "cell_type": "code",
      "source": [
        "X_test = ibm_ds.drop_columns(columns=['Attrition'])\r\n",
        "y_test = ibm_ds.keep_columns(columns=['Attrition'], validate=True)"
      ],
      "outputs": [],
      "execution_count": 38,
      "metadata": {
        "collapsed": true,
        "jupyter": {
          "source_hidden": false,
          "outputs_hidden": false
        },
        "nteract": {
          "transient": {
            "deleting": false
          }
        },
        "gather": {
          "logged": 1613969757932
        }
      }
    },
    {
      "cell_type": "code",
      "source": [
        "X_test = X_test.to_pandas_dataframe()\r\n",
        "y_test = y_test.to_pandas_dataframe()"
      ],
      "outputs": [],
      "execution_count": 39,
      "metadata": {
        "collapsed": true,
        "jupyter": {
          "source_hidden": false,
          "outputs_hidden": false
        },
        "nteract": {
          "transient": {
            "deleting": false
          }
        },
        "gather": {
          "logged": 1613969759934
        }
      }
    },
    {
      "cell_type": "code",
      "source": [
        "import json\r\n",
        "import requests\r\n",
        "\r\n",
        "X_test_json = X_test.to_json(orient='records')\r\n",
        "data = \"{\\\"data\\\": \" + X_test_json +\"}\"\r\n",
        "headers = {'Content-Type': 'application/json'}\r\n",
        "\r\n",
        "resp = requests.post(service.scoring_uri, data, headers=headers)\r\n",
        "\r\n",
        "y_pred = json.loads(json.loads(resp.text))['result']"
      ],
      "outputs": [],
      "execution_count": 40,
      "metadata": {
        "collapsed": true,
        "jupyter": {
          "source_hidden": false,
          "outputs_hidden": false
        },
        "nteract": {
          "transient": {
            "deleting": false
          }
        },
        "gather": {
          "logged": 1613969764764
        }
      }
    },
    {
      "cell_type": "code",
      "source": [
        "actual = array(y_test)\r\n",
        "actual = actual[:,0]\r\n",
        "print(len(y_pred), \" \", len(actual))"
      ],
      "outputs": [
        {
          "output_type": "stream",
          "name": "stdout",
          "text": [
            "1470   1470\n"
          ]
        }
      ],
      "execution_count": 41,
      "metadata": {
        "collapsed": true,
        "jupyter": {
          "source_hidden": false,
          "outputs_hidden": false
        },
        "nteract": {
          "transient": {
            "deleting": false
          }
        },
        "gather": {
          "logged": 1613969768226
        }
      }
    },
    {
      "cell_type": "code",
      "source": [
        "%matplotlib inline\r\n",
        "from sklearn.metrics import confusion_matrix\r\n",
        "import matplotlib.pyplot as plt\r\n",
        "import numpy as np\r\n",
        "import itertools\r\n",
        "\r\n",
        "cf =confusion_matrix(actual,y_pred)\r\n",
        "plt.imshow(cf,cmap=plt.cm.Blues,interpolation='nearest')\r\n",
        "plt.colorbar()\r\n",
        "plt.title('Confusion Matrix')\r\n",
        "plt.xlabel('Predicted')\r\n",
        "plt.ylabel('Actual')\r\n",
        "class_labels = ['no','yes']\r\n",
        "tick_marks = np.arange(len(class_labels))\r\n",
        "plt.xticks(tick_marks,class_labels)\r\n",
        "plt.yticks([-0.5,0,1,1.5],['','no','yes',''])\r\n",
        "\r\n",
        "# plotting text value inside cells\r\n",
        "thresh = cf.max() / 2.\r\n",
        "for i,j in itertools.product(range(cf.shape[0]),range(cf.shape[1])):\r\n",
        "    plt.text(j,i,format(cf[i,j],'d'),horizontalalignment='center',color='white' if cf[i,j] >thresh else 'black')\r\n",
        "plt.show()"
      ],
      "outputs": [
        {
          "output_type": "display_data",
          "data": {
            "text/plain": "<Figure size 432x288 with 2 Axes>",
            "image/png": "[encoded data removed]"
          },
          "metadata": {
            "needs_background": "light"
          }
        }
      ],
      "execution_count": 42,
      "metadata": {
        "collapsed": true,
        "jupyter": {
          "source_hidden": false,
          "outputs_hidden": false
        },
        "nteract": {
          "transient": {
            "deleting": false
          }
        },
        "gather": {
          "logged": 1613969774010
        }
      }
    },
    {
      "cell_type": "markdown",
      "source": [
        "The next cell helps to show the log of deploying"
      ],
      "metadata": {
        "collapsed": true,
        "gather": {
          "logged": 1598432765711
        },
        "jupyter": {
          "outputs_hidden": false,
          "source_hidden": false
        },
        "nteract": {
          "transient": {
            "deleting": false
          }
        }
      }
    },
    {
      "cell_type": "code",
      "source": [
        "print(service.get_logs())"
      ],
      "outputs": [
        {
          "output_type": "stream",
          "name": "stdout",
          "text": [
            "2021-02-22T04:55:47,385017439+00:00 - iot-server/run \n",
            "2021-02-22T04:55:47,387215701+00:00 - rsyslog/run \n",
            "2021-02-22T04:55:47,385441570+00:00 - gunicorn/run \n",
            "/usr/sbin/nginx: /azureml-envs/azureml_09ff55f546b313bb1ab136a466214499/lib/libcrypto.so.1.0.0: no version information available (required by /usr/sbin/nginx)\n",
            "/usr/sbin/nginx: /azureml-envs/azureml_09ff55f546b313bb1ab136a466214499/lib/libcrypto.so.1.0.0: no version information available (required by /usr/sbin/nginx)\n",
            "/usr/sbin/nginx: /azureml-envs/azureml_09ff55f546b313bb1ab136a466214499/lib/libssl.so.1.0.0: no version information available (required by /usr/sbin/nginx)\n",
            "/usr/sbin/nginx: /azureml-envs/azureml_09ff55f546b313bb1ab136a466214499/lib/libssl.so.1.0.0: no version information available (required by /usr/sbin/nginx)\n",
            "/usr/sbin/nginx: /azureml-envs/azureml_09ff55f546b313bb1ab136a466214499/lib/libssl.so.1.0.0: no version information available (required by /usr/sbin/nginx)\n",
            "2021-02-22T04:55:47,387792743+00:00 - nginx/run \n",
            "rsyslogd: /azureml-envs/azureml_09ff55f546b313bb1ab136a466214499/lib/libuuid.so.1: no version information available (required by rsyslogd)\n",
            "EdgeHubConnectionString and IOTEDGE_IOTHUBHOSTNAME are not set. Exiting...\n",
            "2021-02-22T04:55:47,525970607+00:00 - iot-server/finish 1 0\n",
            "2021-02-22T04:55:47,527514220+00:00 - Exit code 1 is normal. Not restarting iot-server.\n",
            "Starting gunicorn 19.9.0\n",
            "Listening at: http://127.0.0.1:31311 (12)\n",
            "Using worker: sync\n",
            "worker timeout is set to 300\n",
            "Booting worker with pid: 42\n",
            "SPARK_HOME not set. Skipping PySpark Initialization.\n",
            "Generating new fontManager, this may take some time...\n",
            "Initializing logger\n",
            "2021-02-22 04:55:48,747 | root | INFO | Starting up app insights client\n",
            "2021-02-22 04:55:48,747 | root | INFO | Starting up request id generator\n",
            "2021-02-22 04:55:48,747 | root | INFO | Starting up app insight hooks\n",
            "2021-02-22 04:55:48,747 | root | INFO | Invoking user's init function\n",
            "2021-02-22 04:55:51,132 | root | INFO | Users's init has completed successfully\n",
            "2021-02-22 04:55:51,136 | root | INFO | Skipping middleware: dbg_model_info as it's not enabled.\n",
            "2021-02-22 04:55:51,136 | root | INFO | Skipping middleware: dbg_resource_usage as it's not enabled.\n",
            "2021-02-22 04:55:51,138 | root | INFO | Scoring timeout is found from os.environ: 60000 ms\n",
            "2021-02-22 04:55:55,622 | root | INFO | 200\n",
            "127.0.0.1 - - [22/Feb/2021:04:55:55 +0000] \"GET /swagger.json HTTP/1.0\" 200 4582 \"-\" \"Go-http-client/1.1\"\n",
            "2021-02-22 04:56:03,769 | root | INFO | Validation Request Content-Type\n",
            "2021-02-22 04:56:03,793 | root | INFO | Scoring Timer is set to 60.0 seconds\n",
            "2021-02-22 04:56:04,640 | root | INFO | 200\n",
            "127.0.0.1 - - [22/Feb/2021:04:56:04 +0000] \"POST /score HTTP/1.0\" 200 10130 \"-\" \"python-requests/2.25.1\"\n",
            "\n"
          ]
        }
      ],
      "execution_count": 43,
      "metadata": {
        "jupyter": {
          "outputs_hidden": false,
          "source_hidden": false
        },
        "nteract": {
          "transient": {
            "deleting": false
          }
        },
        "gather": {
          "logged": 1613969849808
        }
      }
    },
    {
      "cell_type": "code",
      "source": [
        "service.delete()"
      ],
      "outputs": [],
      "execution_count": 42,
      "metadata": {
        "collapsed": true,
        "jupyter": {
          "source_hidden": false,
          "outputs_hidden": false
        },
        "nteract": {
          "transient": {
            "deleting": false
          }
        },
        "gather": {
          "logged": 1613781127846
        }
      }
    },
    {
      "cell_type": "code",
      "source": [
        "compute_target.delete()"
      ],
      "outputs": [],
      "execution_count": 43,
      "metadata": {
        "collapsed": true,
        "jupyter": {
          "source_hidden": false,
          "outputs_hidden": false
        },
        "nteract": {
          "transient": {
            "deleting": false
          }
        },
        "gather": {
          "logged": 1613781130718
        }
      }
    }
  ],
  "metadata": {
    "kernel_info": {
      "name": "python3"
    },
    "kernelspec": {
      "name": "python3",
      "language": "python",
      "display_name": "Python 3"
    },
    "language_info": {
      "name": "python",
      "version": "3.6.9",
      "mimetype": "text/x-python",
      "codemirror_mode": {
        "name": "ipython",
        "version": 3
      },
      "pygments_lexer": "ipython3",
      "nbconvert_exporter": "python",
      "file_extension": ".py"
    },
    "nteract": {
      "version": "nteract-front-end@1.0.0"
    }
  },
  "nbformat": 4,
  "nbformat_minor": 2
}