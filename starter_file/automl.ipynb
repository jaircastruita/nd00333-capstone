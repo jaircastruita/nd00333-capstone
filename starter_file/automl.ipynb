{
  "cells": [
    {
      "cell_type": "markdown",
      "source": [
        "# Automated ML"
      ],
      "metadata": {}
    },
    {
      "cell_type": "code",
      "source": [
        "from azureml.core import Experiment, Dataset, Workspace\n",
        "from azureml.core.dataset import Dataset\n",
        "from azureml.train.automl import AutoMLConfig\n",
        "from azureml.core.compute import AmlCompute, ComputeTarget\n",
        "from azureml.core.compute_target import ComputeTargetException\n",
        "from azureml.widgets import RunDetails\n",
        "from azureml.core.model import InferenceConfig, Model\n",
        "from azureml.core.webservice import AciWebservice, Webservice\n",
        "\n",
        "import pandas as pd\n",
        "import logging"
      ],
      "outputs": [],
      "execution_count": 11,
      "metadata": {
        "gather": {
          "logged": 1613609080580
        },
        "jupyter": {
          "outputs_hidden": false,
          "source_hidden": false
        },
        "nteract": {
          "transient": {
            "deleting": false
          }
        }
      }
    },
    {
      "cell_type": "markdown",
      "source": [
        "## Attrition Dataset\n",
        "\n",
        "### Overview\n",
        "\n",
        "This is a fictional dataset made by the IBM data scientists to find relations between dependent and independent variables. The prediction task consist in detect the factors that lead to employee attrition."
      ],
      "metadata": {}
    },
    {
      "cell_type": "code",
      "source": [
        "data_path = \"https://raw.githubusercontent.com/jaircastruita/nd00333-capstone/master/starter_file/data/WA_Fn-UseC_-HR-Employee-Attrition.csv\"\n",
        "\n",
        "ibm_ds = Dataset.Tabular.from_delimited_files(path=data_path)\n",
        "# ds = Dataset.get_by_name(ws, 'attrition-dataset')"
      ],
      "outputs": [],
      "execution_count": 2,
      "metadata": {
        "gather": {
          "logged": 1613608890271
        }
      }
    },
    {
      "cell_type": "code",
      "source": [
        "ibm_ds.to_pandas_dataframe().head()"
      ],
      "outputs": [
        {
          "output_type": "execute_result",
          "execution_count": 3,
          "data": {
            "text/plain": "   Age  Attrition     BusinessTravel  DailyRate              Department  \\\n0   41       True      Travel_Rarely       1102                   Sales   \n1   49      False  Travel_Frequently        279  Research & Development   \n2   37       True      Travel_Rarely       1373  Research & Development   \n3   33      False  Travel_Frequently       1392  Research & Development   \n4   27      False      Travel_Rarely        591  Research & Development   \n\n   DistanceFromHome  Education EducationField  EmployeeCount  EmployeeNumber  \\\n0                 1          2  Life Sciences              1               1   \n1                 8          1  Life Sciences              1               2   \n2                 2          2          Other              1               4   \n3                 3          4  Life Sciences              1               5   \n4                 2          1        Medical              1               7   \n\n   ...  RelationshipSatisfaction StandardHours  StockOptionLevel  \\\n0  ...                         1            80                 0   \n1  ...                         4            80                 1   \n2  ...                         2            80                 0   \n3  ...                         3            80                 0   \n4  ...                         4            80                 1   \n\n   TotalWorkingYears  TrainingTimesLastYear WorkLifeBalance  YearsAtCompany  \\\n0                  8                      0               1               6   \n1                 10                      3               3              10   \n2                  7                      3               3               0   \n3                  8                      3               3               8   \n4                  6                      3               3               2   \n\n  YearsInCurrentRole  YearsSinceLastPromotion  YearsWithCurrManager  \n0                  4                        0                     5  \n1                  7                        1                     7  \n2                  0                        0                     0  \n3                  7                        3                     0  \n4                  2                        2                     2  \n\n[5 rows x 35 columns]",
            "text/html": "<div>\n<style scoped>\n    .dataframe tbody tr th:only-of-type {\n        vertical-align: middle;\n    }\n\n    .dataframe tbody tr th {\n        vertical-align: top;\n    }\n\n    .dataframe thead th {\n        text-align: right;\n    }\n</style>\n<table border=\"1\" class=\"dataframe\">\n  <thead>\n    <tr style=\"text-align: right;\">\n      <th></th>\n      <th>Age</th>\n      <th>Attrition</th>\n      <th>BusinessTravel</th>\n      <th>DailyRate</th>\n      <th>Department</th>\n      <th>DistanceFromHome</th>\n      <th>Education</th>\n      <th>EducationField</th>\n      <th>EmployeeCount</th>\n      <th>EmployeeNumber</th>\n      <th>...</th>\n      <th>RelationshipSatisfaction</th>\n      <th>StandardHours</th>\n      <th>StockOptionLevel</th>\n      <th>TotalWorkingYears</th>\n      <th>TrainingTimesLastYear</th>\n      <th>WorkLifeBalance</th>\n      <th>YearsAtCompany</th>\n      <th>YearsInCurrentRole</th>\n      <th>YearsSinceLastPromotion</th>\n      <th>YearsWithCurrManager</th>\n    </tr>\n  </thead>\n  <tbody>\n    <tr>\n      <th>0</th>\n      <td>41</td>\n      <td>True</td>\n      <td>Travel_Rarely</td>\n      <td>1102</td>\n      <td>Sales</td>\n      <td>1</td>\n      <td>2</td>\n      <td>Life Sciences</td>\n      <td>1</td>\n      <td>1</td>\n      <td>...</td>\n      <td>1</td>\n      <td>80</td>\n      <td>0</td>\n      <td>8</td>\n      <td>0</td>\n      <td>1</td>\n      <td>6</td>\n      <td>4</td>\n      <td>0</td>\n      <td>5</td>\n    </tr>\n    <tr>\n      <th>1</th>\n      <td>49</td>\n      <td>False</td>\n      <td>Travel_Frequently</td>\n      <td>279</td>\n      <td>Research &amp; Development</td>\n      <td>8</td>\n      <td>1</td>\n      <td>Life Sciences</td>\n      <td>1</td>\n      <td>2</td>\n      <td>...</td>\n      <td>4</td>\n      <td>80</td>\n      <td>1</td>\n      <td>10</td>\n      <td>3</td>\n      <td>3</td>\n      <td>10</td>\n      <td>7</td>\n      <td>1</td>\n      <td>7</td>\n    </tr>\n    <tr>\n      <th>2</th>\n      <td>37</td>\n      <td>True</td>\n      <td>Travel_Rarely</td>\n      <td>1373</td>\n      <td>Research &amp; Development</td>\n      <td>2</td>\n      <td>2</td>\n      <td>Other</td>\n      <td>1</td>\n      <td>4</td>\n      <td>...</td>\n      <td>2</td>\n      <td>80</td>\n      <td>0</td>\n      <td>7</td>\n      <td>3</td>\n      <td>3</td>\n      <td>0</td>\n      <td>0</td>\n      <td>0</td>\n      <td>0</td>\n    </tr>\n    <tr>\n      <th>3</th>\n      <td>33</td>\n      <td>False</td>\n      <td>Travel_Frequently</td>\n      <td>1392</td>\n      <td>Research &amp; Development</td>\n      <td>3</td>\n      <td>4</td>\n      <td>Life Sciences</td>\n      <td>1</td>\n      <td>5</td>\n      <td>...</td>\n      <td>3</td>\n      <td>80</td>\n      <td>0</td>\n      <td>8</td>\n      <td>3</td>\n      <td>3</td>\n      <td>8</td>\n      <td>7</td>\n      <td>3</td>\n      <td>0</td>\n    </tr>\n    <tr>\n      <th>4</th>\n      <td>27</td>\n      <td>False</td>\n      <td>Travel_Rarely</td>\n      <td>591</td>\n      <td>Research &amp; Development</td>\n      <td>2</td>\n      <td>1</td>\n      <td>Medical</td>\n      <td>1</td>\n      <td>7</td>\n      <td>...</td>\n      <td>4</td>\n      <td>80</td>\n      <td>1</td>\n      <td>6</td>\n      <td>3</td>\n      <td>3</td>\n      <td>2</td>\n      <td>2</td>\n      <td>2</td>\n      <td>2</td>\n    </tr>\n  </tbody>\n</table>\n<p>5 rows × 35 columns</p>\n</div>"
          },
          "metadata": {}
        }
      ],
      "execution_count": 3,
      "metadata": {
        "collapsed": true,
        "jupyter": {
          "source_hidden": false,
          "outputs_hidden": false
        },
        "nteract": {
          "transient": {
            "deleting": false
          }
        },
        "gather": {
          "logged": 1613608896237
        }
      }
    },
    {
      "cell_type": "code",
      "source": [
        "ws = Workspace.from_config()\n",
        "\n",
        "# choose a name for experiment\n",
        "experiment_name = 'automl-experiment'\n",
        "\n",
        "experiment=Experiment(ws, experiment_name)"
      ],
      "outputs": [],
      "execution_count": 4,
      "metadata": {
        "gather": {
          "logged": 1613608904327
        },
        "jupyter": {
          "outputs_hidden": false,
          "source_hidden": false
        },
        "nteract": {
          "transient": {
            "deleting": false
          }
        }
      }
    },
    {
      "cell_type": "markdown",
      "source": [
        "## Creating a compute instance"
      ],
      "metadata": {}
    },
    {
      "cell_type": "code",
      "source": [
        "cluster_name = \"automl-cluster\"\n",
        "\n",
        "try:\n",
        "    compute_target = ComputeTarget(workspace=ws, name=cluster_name)\n",
        "    print(\"Reusing already created cluster: {}\".format(cluster_name))\n",
        "\n",
        "except ComputeTargetException:\n",
        "    print(\"Creating a new compute cluster...\")\n",
        "    cluster_config = AmlCompute.provisioning_configuration(vm_size='STANDARD_D2_V2', max_nodes=5)\n",
        "    compute_target = ComputeTarget.create(workspace=ws, name=cluster_name, provisioning_configuration=cluster_config)\n",
        "\n",
        "compute_target.wait_for_completion(show_output=True)"
      ],
      "outputs": [
        {
          "output_type": "stream",
          "name": "stdout",
          "text": [
            "Reusing already created cluster: automl-cluster\n",
            "Succeeded\n",
            "AmlCompute wait for completion finished\n",
            "\n",
            "Minimum number of nodes requested have been provisioned\n"
          ]
        }
      ],
      "execution_count": 5,
      "metadata": {
        "gather": {
          "logged": 1613608920231
        }
      }
    },
    {
      "cell_type": "markdown",
      "source": [
        "## AutoML Configuration\n",
        "\n",
        "Given the nature of the selected dataset: tabular, with categorical and numeric columns, relatively few observations with relatively many columns, the following settings were selected in the automl configuration:\n",
        "\n",
        "- *iteration_timeout_minutes* to 20, just to make sure the experiment will finish in a feasible time\n",
        "- *enable_early_stopping* to True in order to not waste resources when the model performance is not improving\n",
        "- *primary_metric* \"AUC_weighted\" given we are facing an umbalanced dataset problem\n",
        "- *verbosity* logging.INFO to capture important events for the model experiments\n",
        "- *max_concurrent_iterations* to 5 in order to parallelize experimentation\n",
        "- *n_cross_validations* to 5 to give an estimated 80-20 proportion to the training-testing sets in each fold\n",
        "- *task* will be \"classification\" because the objective is to identify attrition as a \"Yes\", \"No\" labeling problem "
      ],
      "metadata": {}
    },
    {
      "cell_type": "code",
      "source": [
        "automl_settings = {\"iteration_timeout_minutes\": 20,\n",
        "                    \"enable_early_stopping\": True,\n",
        "                    \"primary_metric\": \"AUC_weighted\",\n",
        "                    \"verbosity\": logging.INFO,\n",
        "                    \"max_concurrent_iterations\": 5,\n",
        "                    \"n_cross_validations\": 5\n",
        "                    }\n",
        "\n",
        "automl_config = AutoMLConfig(task=\"classification\",\n",
        "                             compute_target=compute_target,\n",
        "                             training_data=ibm_ds,\n",
        "                             label_column_name=\"Attrition\",\n",
        "                             **automl_settings)"
      ],
      "outputs": [],
      "execution_count": 6,
      "metadata": {
        "gather": {
          "logged": 1613608931819
        },
        "jupyter": {
          "outputs_hidden": false,
          "source_hidden": false
        },
        "nteract": {
          "transient": {
            "deleting": false
          }
        }
      }
    },
    {
      "cell_type": "code",
      "source": [
        "remote_run = experiment.submit(automl_config, show_output=True)\n",
        "remote_run.wait_for_completion(show_output=True)"
      ],
      "outputs": [
        {
          "output_type": "stream",
          "name": "stdout",
          "text": [
            "Running on remote.\n",
            "No run_configuration provided, running on automl-cluster with default configuration\n",
            "Running on remote compute: automl-cluster\n",
            "Parent Run ID: AutoML_087c6ad3-ea12-4397-aec0-abb21503bc96\n",
            "\n"
          ]
        }
      ],
      "execution_count": 7,
      "metadata": {
        "gather": {
          "logged": 1613426947157
        },
        "jupyter": {
          "outputs_hidden": false,
          "source_hidden": false
        },
        "nteract": {
          "transient": {
            "deleting": false
          }
        }
      }
    },
    {
      "cell_type": "code",
      "source": [
        "# from azureml.train.automl.run import AutoMLRun\r\n",
        "\r\n",
        "# remote_run = AutoMLRun(experiment=experiment, run_id='AutoML_087c6ad3-ea12-4397-aec0-abb21503bc96')\r\n",
        "# remote_run"
      ],
      "outputs": [
        {
          "output_type": "execute_result",
          "execution_count": 7,
          "data": {
            "text/plain": "Run(Experiment: automl-experiment,\nId: AutoML_087c6ad3-ea12-4397-aec0-abb21503bc96,\nType: automl,\nStatus: Completed)",
            "text/html": "<table style=\"width:100%\"><tr><th>Experiment</th><th>Id</th><th>Type</th><th>Status</th><th>Details Page</th><th>Docs Page</th></tr><tr><td>automl-experiment</td><td>AutoML_087c6ad3-ea12-4397-aec0-abb21503bc96</td><td>automl</td><td>Completed</td><td><a href=\"https://ml.azure.com/experiments/automl-experiment/runs/AutoML_087c6ad3-ea12-4397-aec0-abb21503bc96?wsid=/subscriptions/9b72f9e6-56c5-4c16-991b-19c652994860/resourcegroups/aml-quickstarts-139097/workspaces/quick-starts-ws-139097\" target=\"_blank\" rel=\"noopener\">Link to Azure Machine Learning studio</a></td><td><a href=\"https://docs.microsoft.com/en-us/python/api/overview/azure/ml/intro?view=azure-ml-py\" target=\"_blank\" rel=\"noopener\">Link to Documentation</a></td></tr></table>"
          },
          "metadata": {}
        }
      ],
      "execution_count": 7,
      "metadata": {
        "collapsed": true,
        "jupyter": {
          "source_hidden": false,
          "outputs_hidden": false
        },
        "nteract": {
          "transient": {
            "deleting": false
          }
        },
        "gather": {
          "logged": 1613608958268
        }
      }
    },
    {
      "cell_type": "markdown",
      "source": [
        "## Run Details\n",
        "\n",
        "OPTIONAL: Write about the different models trained and their performance. Why do you think some models did better than others?"
      ],
      "metadata": {}
    },
    {
      "cell_type": "code",
      "source": [
        "RunDetails(remote_run).show()"
      ],
      "outputs": [
        {
          "output_type": "display_data",
          "data": {
            "text/plain": "_AutoMLWidget(widget_settings={'childWidgetDisplay': 'popup', 'send_telemetry': False, 'log_level': 'INFO', 's…",
            "application/vnd.jupyter.widget-view+json": {
              "version_major": 2,
              "version_minor": 0,
              "model_id": "de4cf25812114e79b2f8a698492c214a"
            }
          },
          "metadata": {}
        },
        {
          "output_type": "display_data",
          "data": {
            "application/aml.mini.widget.v1": "{\"status\": \"Completed\", \"workbench_run_details_uri\": \"https://ml.azure.com/experiments/automl-experiment/runs/AutoML_087c6ad3-ea12-4397-aec0-abb21503bc96?wsid=/subscriptions/9b72f9e6-56c5-4c16-991b-19c652994860/resourcegroups/aml-quickstarts-139097/workspaces/quick-starts-ws-139097\", \"run_id\": \"AutoML_087c6ad3-ea12-4397-aec0-abb21503bc96\", \"run_properties\": {\"run_id\": \"AutoML_087c6ad3-ea12-4397-aec0-abb21503bc96\", \"created_utc\": \"2021-02-18T00:03:49.571572Z\", \"properties\": {\"num_iterations\": \"1000\", \"training_type\": \"TrainFull\", \"acquisition_function\": \"EI\", \"primary_metric\": \"AUC_weighted\", \"train_split\": \"0\", \"acquisition_parameter\": \"0\", \"num_cross_validation\": \"5\", \"target\": \"automl-cluster\", \"AMLSettingsJsonString\": \"{\\\"path\\\":null,\\\"name\\\":\\\"automl-experiment\\\",\\\"subscription_id\\\":\\\"9b72f9e6-56c5-4c16-991b-19c652994860\\\",\\\"resource_group\\\":\\\"aml-quickstarts-139097\\\",\\\"workspace_name\\\":\\\"quick-starts-ws-139097\\\",\\\"region\\\":\\\"southcentralus\\\",\\\"compute_target\\\":\\\"automl-cluster\\\",\\\"spark_service\\\":null,\\\"azure_service\\\":\\\"remote\\\",\\\"many_models\\\":false,\\\"pipeline_fetch_max_batch_size\\\":1,\\\"iterations\\\":1000,\\\"primary_metric\\\":\\\"AUC_weighted\\\",\\\"task_type\\\":\\\"classification\\\",\\\"data_script\\\":null,\\\"validation_size\\\":0.0,\\\"n_cross_validations\\\":5,\\\"y_min\\\":null,\\\"y_max\\\":null,\\\"num_classes\\\":null,\\\"featurization\\\":\\\"auto\\\",\\\"_ignore_package_version_incompatibilities\\\":false,\\\"is_timeseries\\\":false,\\\"max_cores_per_iteration\\\":1,\\\"max_concurrent_iterations\\\":5,\\\"iteration_timeout_minutes\\\":20,\\\"mem_in_mb\\\":null,\\\"enforce_time_on_windows\\\":false,\\\"experiment_timeout_minutes\\\":8640,\\\"experiment_exit_score\\\":null,\\\"whitelist_models\\\":null,\\\"blacklist_algos\\\":[\\\"TensorFlowLinearClassifier\\\",\\\"TensorFlowDNN\\\"],\\\"supported_models\\\":[\\\"KNN\\\",\\\"RandomForest\\\",\\\"AveragedPerceptronClassifier\\\",\\\"GradientBoosting\\\",\\\"LinearSVM\\\",\\\"DecisionTree\\\",\\\"LightGBM\\\",\\\"XGBoostClassifier\\\",\\\"TensorFlowDNN\\\",\\\"LogisticRegression\\\",\\\"MultinomialNaiveBayes\\\",\\\"BernoulliNaiveBayes\\\",\\\"ExtremeRandomTrees\\\",\\\"SGD\\\",\\\"TensorFlowLinearClassifier\\\",\\\"SVM\\\"],\\\"auto_blacklist\\\":true,\\\"blacklist_samples_reached\\\":false,\\\"exclude_nan_labels\\\":true,\\\"verbosity\\\":20,\\\"_debug_log\\\":\\\"azureml_automl.log\\\",\\\"show_warnings\\\":false,\\\"model_explainability\\\":true,\\\"service_url\\\":null,\\\"sdk_url\\\":null,\\\"sdk_packages\\\":null,\\\"enable_onnx_compatible_models\\\":false,\\\"enable_split_onnx_featurizer_estimator_models\\\":false,\\\"vm_type\\\":\\\"STANDARD_D2_V2\\\",\\\"telemetry_verbosity\\\":20,\\\"send_telemetry\\\":true,\\\"enable_dnn\\\":false,\\\"scenario\\\":\\\"SDK-1.13.0\\\",\\\"environment_label\\\":null,\\\"force_text_dnn\\\":false,\\\"enable_feature_sweeping\\\":true,\\\"enable_early_stopping\\\":true,\\\"early_stopping_n_iters\\\":10,\\\"metrics\\\":null,\\\"enable_ensembling\\\":true,\\\"enable_stack_ensembling\\\":true,\\\"ensemble_iterations\\\":15,\\\"enable_tf\\\":false,\\\"enable_subsampling\\\":null,\\\"subsample_seed\\\":null,\\\"enable_nimbusml\\\":false,\\\"enable_streaming\\\":false,\\\"force_streaming\\\":false,\\\"track_child_runs\\\":true,\\\"allowed_private_models\\\":[],\\\"label_column_name\\\":\\\"Attrition\\\",\\\"weight_column_name\\\":null,\\\"cv_split_column_names\\\":null,\\\"enable_local_managed\\\":false,\\\"_local_managed_run_id\\\":null,\\\"cost_mode\\\":1,\\\"lag_length\\\":0,\\\"metric_operation\\\":\\\"maximize\\\",\\\"preprocess\\\":true}\", \"DataPrepJsonString\": \"{\\\\\\\"training_data\\\\\\\": \\\\\\\"{\\\\\\\\\\\\\\\"blocks\\\\\\\\\\\\\\\": [{\\\\\\\\\\\\\\\"id\\\\\\\\\\\\\\\": \\\\\\\\\\\\\\\"3a601a8b-506b-43c1-8c9b-9d865eaf5753\\\\\\\\\\\\\\\", \\\\\\\\\\\\\\\"type\\\\\\\\\\\\\\\": \\\\\\\\\\\\\\\"Microsoft.DPrep.GetFilesBlock\\\\\\\\\\\\\\\", \\\\\\\\\\\\\\\"arguments\\\\\\\\\\\\\\\": {\\\\\\\\\\\\\\\"isArchive\\\\\\\\\\\\\\\": false, \\\\\\\\\\\\\\\"path\\\\\\\\\\\\\\\": {\\\\\\\\\\\\\\\"target\\\\\\\\\\\\\\\": 4, \\\\\\\\\\\\\\\"resourceDetails\\\\\\\\\\\\\\\": [{\\\\\\\\\\\\\\\"path\\\\\\\\\\\\\\\": \\\\\\\\\\\\\\\"https://raw.githubusercontent.com/jaircastruita/nd00333-capstone/master/starter_file/data/WA_Fn-UseC_-HR-Employee-Attrition.csv\\\\\\\\\\\\\\\"}]}}, \\\\\\\\\\\\\\\"localData\\\\\\\\\\\\\\\": {}, \\\\\\\\\\\\\\\"isEnabled\\\\\\\\\\\\\\\": true, \\\\\\\\\\\\\\\"name\\\\\\\\\\\\\\\": null, \\\\\\\\\\\\\\\"annotation\\\\\\\\\\\\\\\": null}, {\\\\\\\\\\\\\\\"id\\\\\\\\\\\\\\\": \\\\\\\\\\\\\\\"14315f16-d419-4d82-bca2-79d9d006e53a\\\\\\\\\\\\\\\", \\\\\\\\\\\\\\\"type\\\\\\\\\\\\\\\": \\\\\\\\\\\\\\\"Microsoft.DPrep.ParseDelimitedBlock\\\\\\\\\\\\\\\", \\\\\\\\\\\\\\\"arguments\\\\\\\\\\\\\\\": {\\\\\\\\\\\\\\\"columnHeadersMode\\\\\\\\\\\\\\\": 3, \\\\\\\\\\\\\\\"fileEncoding\\\\\\\\\\\\\\\": 0, \\\\\\\\\\\\\\\"handleQuotedLineBreaks\\\\\\\\\\\\\\\": false, \\\\\\\\\\\\\\\"preview\\\\\\\\\\\\\\\": false, \\\\\\\\\\\\\\\"separator\\\\\\\\\\\\\\\": \\\\\\\\\\\\\\\",\\\\\\\\\\\\\\\", \\\\\\\\\\\\\\\"skipRows\\\\\\\\\\\\\\\": 0, \\\\\\\\\\\\\\\"skipRowsMode\\\\\\\\\\\\\\\": 0}, \\\\\\\\\\\\\\\"localData\\\\\\\\\\\\\\\": {}, \\\\\\\\\\\\\\\"isEnabled\\\\\\\\\\\\\\\": true, \\\\\\\\\\\\\\\"name\\\\\\\\\\\\\\\": null, \\\\\\\\\\\\\\\"annotation\\\\\\\\\\\\\\\": null}, {\\\\\\\\\\\\\\\"id\\\\\\\\\\\\\\\": \\\\\\\\\\\\\\\"689dc3fe-9893-4d4c-ba97-251f6dcfce2c\\\\\\\\\\\\\\\", \\\\\\\\\\\\\\\"type\\\\\\\\\\\\\\\": \\\\\\\\\\\\\\\"Microsoft.DPrep.DropColumnsBlock\\\\\\\\\\\\\\\", \\\\\\\\\\\\\\\"arguments\\\\\\\\\\\\\\\": {\\\\\\\\\\\\\\\"columns\\\\\\\\\\\\\\\": {\\\\\\\\\\\\\\\"type\\\\\\\\\\\\\\\": 0, \\\\\\\\\\\\\\\"details\\\\\\\\\\\\\\\": {\\\\\\\\\\\\\\\"selectedColumns\\\\\\\\\\\\\\\": [\\\\\\\\\\\\\\\"Path\\\\\\\\\\\\\\\"]}}}, \\\\\\\\\\\\\\\"localData\\\\\\\\\\\\\\\": {}, \\\\\\\\\\\\\\\"isEnabled\\\\\\\\\\\\\\\": true, \\\\\\\\\\\\\\\"name\\\\\\\\\\\\\\\": null, \\\\\\\\\\\\\\\"annotation\\\\\\\\\\\\\\\": null}, {\\\\\\\\\\\\\\\"id\\\\\\\\\\\\\\\": \\\\\\\\\\\\\\\"564d62c3-c554-40ec-9a46-37aef4f7f262\\\\\\\\\\\\\\\", \\\\\\\\\\\\\\\"type\\\\\\\\\\\\\\\": \\\\\\\\\\\\\\\"Microsoft.DPrep.SetColumnTypesBlock\\\\\\\\\\\\\\\", \\\\\\\\\\\\\\\"arguments\\\\\\\\\\\\\\\": {\\\\\\\\\\\\\\\"columnConversion\\\\\\\\\\\\\\\": [{\\\\\\\\\\\\\\\"column\\\\\\\\\\\\\\\": {\\\\\\\\\\\\\\\"type\\\\\\\\\\\\\\\": 2, \\\\\\\\\\\\\\\"details\\\\\\\\\\\\\\\": {\\\\\\\\\\\\\\\"selectedColumn\\\\\\\\\\\\\\\": \\\\\\\\\\\\\\\"Age\\\\\\\\\\\\\\\"}}, \\\\\\\\\\\\\\\"typeProperty\\\\\\\\\\\\\\\": 2}, {\\\\\\\\\\\\\\\"column\\\\\\\\\\\\\\\": {\\\\\\\\\\\\\\\"type\\\\\\\\\\\\\\\": 2, \\\\\\\\\\\\\\\"details\\\\\\\\\\\\\\\": {\\\\\\\\\\\\\\\"selectedColumn\\\\\\\\\\\\\\\": \\\\\\\\\\\\\\\"Attrition\\\\\\\\\\\\\\\"}}, \\\\\\\\\\\\\\\"typeProperty\\\\\\\\\\\\\\\": 1}, {\\\\\\\\\\\\\\\"column\\\\\\\\\\\\\\\": {\\\\\\\\\\\\\\\"type\\\\\\\\\\\\\\\": 2, \\\\\\\\\\\\\\\"details\\\\\\\\\\\\\\\": {\\\\\\\\\\\\\\\"selectedColumn\\\\\\\\\\\\\\\": \\\\\\\\\\\\\\\"BusinessTravel\\\\\\\\\\\\\\\"}}, \\\\\\\\\\\\\\\"typeProperty\\\\\\\\\\\\\\\": 0}, {\\\\\\\\\\\\\\\"column\\\\\\\\\\\\\\\": {\\\\\\\\\\\\\\\"type\\\\\\\\\\\\\\\": 2, \\\\\\\\\\\\\\\"details\\\\\\\\\\\\\\\": {\\\\\\\\\\\\\\\"selectedColumn\\\\\\\\\\\\\\\": \\\\\\\\\\\\\\\"DailyRate\\\\\\\\\\\\\\\"}}, \\\\\\\\\\\\\\\"typeProperty\\\\\\\\\\\\\\\": 2}, {\\\\\\\\\\\\\\\"column\\\\\\\\\\\\\\\": {\\\\\\\\\\\\\\\"type\\\\\\\\\\\\\\\": 2, \\\\\\\\\\\\\\\"details\\\\\\\\\\\\\\\": {\\\\\\\\\\\\\\\"selectedColumn\\\\\\\\\\\\\\\": \\\\\\\\\\\\\\\"Department\\\\\\\\\\\\\\\"}}, \\\\\\\\\\\\\\\"typeProperty\\\\\\\\\\\\\\\": 0}, {\\\\\\\\\\\\\\\"column\\\\\\\\\\\\\\\": {\\\\\\\\\\\\\\\"type\\\\\\\\\\\\\\\": 2, \\\\\\\\\\\\\\\"details\\\\\\\\\\\\\\\": {\\\\\\\\\\\\\\\"selectedColumn\\\\\\\\\\\\\\\": \\\\\\\\\\\\\\\"DistanceFromHome\\\\\\\\\\\\\\\"}}, \\\\\\\\\\\\\\\"typeProperty\\\\\\\\\\\\\\\": 2}, {\\\\\\\\\\\\\\\"column\\\\\\\\\\\\\\\": {\\\\\\\\\\\\\\\"type\\\\\\\\\\\\\\\": 2, \\\\\\\\\\\\\\\"details\\\\\\\\\\\\\\\": {\\\\\\\\\\\\\\\"selectedColumn\\\\\\\\\\\\\\\": \\\\\\\\\\\\\\\"Education\\\\\\\\\\\\\\\"}}, \\\\\\\\\\\\\\\"typeProperty\\\\\\\\\\\\\\\": 2}, {\\\\\\\\\\\\\\\"column\\\\\\\\\\\\\\\": {\\\\\\\\\\\\\\\"type\\\\\\\\\\\\\\\": 2, \\\\\\\\\\\\\\\"details\\\\\\\\\\\\\\\": {\\\\\\\\\\\\\\\"selectedColumn\\\\\\\\\\\\\\\": \\\\\\\\\\\\\\\"EducationField\\\\\\\\\\\\\\\"}}, \\\\\\\\\\\\\\\"typeProperty\\\\\\\\\\\\\\\": 0}, {\\\\\\\\\\\\\\\"column\\\\\\\\\\\\\\\": {\\\\\\\\\\\\\\\"type\\\\\\\\\\\\\\\": 2, \\\\\\\\\\\\\\\"details\\\\\\\\\\\\\\\": {\\\\\\\\\\\\\\\"selectedColumn\\\\\\\\\\\\\\\": \\\\\\\\\\\\\\\"EmployeeCount\\\\\\\\\\\\\\\"}}, \\\\\\\\\\\\\\\"typeProperty\\\\\\\\\\\\\\\": 2}, {\\\\\\\\\\\\\\\"column\\\\\\\\\\\\\\\": {\\\\\\\\\\\\\\\"type\\\\\\\\\\\\\\\": 2, \\\\\\\\\\\\\\\"details\\\\\\\\\\\\\\\": {\\\\\\\\\\\\\\\"selectedColumn\\\\\\\\\\\\\\\": \\\\\\\\\\\\\\\"EmployeeNumber\\\\\\\\\\\\\\\"}}, \\\\\\\\\\\\\\\"typeProperty\\\\\\\\\\\\\\\": 2}, {\\\\\\\\\\\\\\\"column\\\\\\\\\\\\\\\": {\\\\\\\\\\\\\\\"type\\\\\\\\\\\\\\\": 2, \\\\\\\\\\\\\\\"details\\\\\\\\\\\\\\\": {\\\\\\\\\\\\\\\"selectedColumn\\\\\\\\\\\\\\\": \\\\\\\\\\\\\\\"EnvironmentSatisfaction\\\\\\\\\\\\\\\"}}, \\\\\\\\\\\\\\\"typeProperty\\\\\\\\\\\\\\\": 2}, {\\\\\\\\\\\\\\\"column\\\\\\\\\\\\\\\": {\\\\\\\\\\\\\\\"type\\\\\\\\\\\\\\\": 2, \\\\\\\\\\\\\\\"details\\\\\\\\\\\\\\\": {\\\\\\\\\\\\\\\"selectedColumn\\\\\\\\\\\\\\\": \\\\\\\\\\\\\\\"Gender\\\\\\\\\\\\\\\"}}, \\\\\\\\\\\\\\\"typeProperty\\\\\\\\\\\\\\\": 0}, {\\\\\\\\\\\\\\\"column\\\\\\\\\\\\\\\": {\\\\\\\\\\\\\\\"type\\\\\\\\\\\\\\\": 2, \\\\\\\\\\\\\\\"details\\\\\\\\\\\\\\\": {\\\\\\\\\\\\\\\"selectedColumn\\\\\\\\\\\\\\\": \\\\\\\\\\\\\\\"HourlyRate\\\\\\\\\\\\\\\"}}, \\\\\\\\\\\\\\\"typeProperty\\\\\\\\\\\\\\\": 2}, {\\\\\\\\\\\\\\\"column\\\\\\\\\\\\\\\": {\\\\\\\\\\\\\\\"type\\\\\\\\\\\\\\\": 2, \\\\\\\\\\\\\\\"details\\\\\\\\\\\\\\\": {\\\\\\\\\\\\\\\"selectedColumn\\\\\\\\\\\\\\\": \\\\\\\\\\\\\\\"JobInvolvement\\\\\\\\\\\\\\\"}}, \\\\\\\\\\\\\\\"typeProperty\\\\\\\\\\\\\\\": 2}, {\\\\\\\\\\\\\\\"column\\\\\\\\\\\\\\\": {\\\\\\\\\\\\\\\"type\\\\\\\\\\\\\\\": 2, \\\\\\\\\\\\\\\"details\\\\\\\\\\\\\\\": {\\\\\\\\\\\\\\\"selectedColumn\\\\\\\\\\\\\\\": \\\\\\\\\\\\\\\"JobLevel\\\\\\\\\\\\\\\"}}, \\\\\\\\\\\\\\\"typeProperty\\\\\\\\\\\\\\\": 2}, {\\\\\\\\\\\\\\\"column\\\\\\\\\\\\\\\": {\\\\\\\\\\\\\\\"type\\\\\\\\\\\\\\\": 2, \\\\\\\\\\\\\\\"details\\\\\\\\\\\\\\\": {\\\\\\\\\\\\\\\"selectedColumn\\\\\\\\\\\\\\\": \\\\\\\\\\\\\\\"JobRole\\\\\\\\\\\\\\\"}}, \\\\\\\\\\\\\\\"typeProperty\\\\\\\\\\\\\\\": 0}, {\\\\\\\\\\\\\\\"column\\\\\\\\\\\\\\\": {\\\\\\\\\\\\\\\"type\\\\\\\\\\\\\\\": 2, \\\\\\\\\\\\\\\"details\\\\\\\\\\\\\\\": {\\\\\\\\\\\\\\\"selectedColumn\\\\\\\\\\\\\\\": \\\\\\\\\\\\\\\"JobSatisfaction\\\\\\\\\\\\\\\"}}, \\\\\\\\\\\\\\\"typeProperty\\\\\\\\\\\\\\\": 2}, {\\\\\\\\\\\\\\\"column\\\\\\\\\\\\\\\": {\\\\\\\\\\\\\\\"type\\\\\\\\\\\\\\\": 2, \\\\\\\\\\\\\\\"details\\\\\\\\\\\\\\\": {\\\\\\\\\\\\\\\"selectedColumn\\\\\\\\\\\\\\\": \\\\\\\\\\\\\\\"MaritalStatus\\\\\\\\\\\\\\\"}}, \\\\\\\\\\\\\\\"typeProperty\\\\\\\\\\\\\\\": 0}, {\\\\\\\\\\\\\\\"column\\\\\\\\\\\\\\\": {\\\\\\\\\\\\\\\"type\\\\\\\\\\\\\\\": 2, \\\\\\\\\\\\\\\"details\\\\\\\\\\\\\\\": {\\\\\\\\\\\\\\\"selectedColumn\\\\\\\\\\\\\\\": \\\\\\\\\\\\\\\"MonthlyIncome\\\\\\\\\\\\\\\"}}, \\\\\\\\\\\\\\\"typeProperty\\\\\\\\\\\\\\\": 2}, {\\\\\\\\\\\\\\\"column\\\\\\\\\\\\\\\": {\\\\\\\\\\\\\\\"type\\\\\\\\\\\\\\\": 2, \\\\\\\\\\\\\\\"details\\\\\\\\\\\\\\\": {\\\\\\\\\\\\\\\"selectedColumn\\\\\\\\\\\\\\\": \\\\\\\\\\\\\\\"MonthlyRate\\\\\\\\\\\\\\\"}}, \\\\\\\\\\\\\\\"typeProperty\\\\\\\\\\\\\\\": 2}, {\\\\\\\\\\\\\\\"column\\\\\\\\\\\\\\\": {\\\\\\\\\\\\\\\"type\\\\\\\\\\\\\\\": 2, \\\\\\\\\\\\\\\"details\\\\\\\\\\\\\\\": {\\\\\\\\\\\\\\\"selectedColumn\\\\\\\\\\\\\\\": \\\\\\\\\\\\\\\"NumCompaniesWorked\\\\\\\\\\\\\\\"}}, \\\\\\\\\\\\\\\"typeProperty\\\\\\\\\\\\\\\": 2}, {\\\\\\\\\\\\\\\"column\\\\\\\\\\\\\\\": {\\\\\\\\\\\\\\\"type\\\\\\\\\\\\\\\": 2, \\\\\\\\\\\\\\\"details\\\\\\\\\\\\\\\": {\\\\\\\\\\\\\\\"selectedColumn\\\\\\\\\\\\\\\": \\\\\\\\\\\\\\\"Over18\\\\\\\\\\\\\\\"}}, \\\\\\\\\\\\\\\"typeProperty\\\\\\\\\\\\\\\": 1}, {\\\\\\\\\\\\\\\"column\\\\\\\\\\\\\\\": {\\\\\\\\\\\\\\\"type\\\\\\\\\\\\\\\": 2, \\\\\\\\\\\\\\\"details\\\\\\\\\\\\\\\": {\\\\\\\\\\\\\\\"selectedColumn\\\\\\\\\\\\\\\": \\\\\\\\\\\\\\\"OverTime\\\\\\\\\\\\\\\"}}, \\\\\\\\\\\\\\\"typeProperty\\\\\\\\\\\\\\\": 1}, {\\\\\\\\\\\\\\\"column\\\\\\\\\\\\\\\": {\\\\\\\\\\\\\\\"type\\\\\\\\\\\\\\\": 2, \\\\\\\\\\\\\\\"details\\\\\\\\\\\\\\\": {\\\\\\\\\\\\\\\"selectedColumn\\\\\\\\\\\\\\\": \\\\\\\\\\\\\\\"PercentSalaryHike\\\\\\\\\\\\\\\"}}, \\\\\\\\\\\\\\\"typeProperty\\\\\\\\\\\\\\\": 2}, {\\\\\\\\\\\\\\\"column\\\\\\\\\\\\\\\": {\\\\\\\\\\\\\\\"type\\\\\\\\\\\\\\\": 2, \\\\\\\\\\\\\\\"details\\\\\\\\\\\\\\\": {\\\\\\\\\\\\\\\"selectedColumn\\\\\\\\\\\\\\\": \\\\\\\\\\\\\\\"PerformanceRating\\\\\\\\\\\\\\\"}}, \\\\\\\\\\\\\\\"typeProperty\\\\\\\\\\\\\\\": 2}, {\\\\\\\\\\\\\\\"column\\\\\\\\\\\\\\\": {\\\\\\\\\\\\\\\"type\\\\\\\\\\\\\\\": 2, \\\\\\\\\\\\\\\"details\\\\\\\\\\\\\\\": {\\\\\\\\\\\\\\\"selectedColumn\\\\\\\\\\\\\\\": \\\\\\\\\\\\\\\"RelationshipSatisfaction\\\\\\\\\\\\\\\"}}, \\\\\\\\\\\\\\\"typeProperty\\\\\\\\\\\\\\\": 2}, {\\\\\\\\\\\\\\\"column\\\\\\\\\\\\\\\": {\\\\\\\\\\\\\\\"type\\\\\\\\\\\\\\\": 2, \\\\\\\\\\\\\\\"details\\\\\\\\\\\\\\\": {\\\\\\\\\\\\\\\"selectedColumn\\\\\\\\\\\\\\\": \\\\\\\\\\\\\\\"StandardHours\\\\\\\\\\\\\\\"}}, \\\\\\\\\\\\\\\"typeProperty\\\\\\\\\\\\\\\": 2}, {\\\\\\\\\\\\\\\"column\\\\\\\\\\\\\\\": {\\\\\\\\\\\\\\\"type\\\\\\\\\\\\\\\": 2, \\\\\\\\\\\\\\\"details\\\\\\\\\\\\\\\": {\\\\\\\\\\\\\\\"selectedColumn\\\\\\\\\\\\\\\": \\\\\\\\\\\\\\\"StockOptionLevel\\\\\\\\\\\\\\\"}}, \\\\\\\\\\\\\\\"typeProperty\\\\\\\\\\\\\\\": 2}, {\\\\\\\\\\\\\\\"column\\\\\\\\\\\\\\\": {\\\\\\\\\\\\\\\"type\\\\\\\\\\\\\\\": 2, \\\\\\\\\\\\\\\"details\\\\\\\\\\\\\\\": {\\\\\\\\\\\\\\\"selectedColumn\\\\\\\\\\\\\\\": \\\\\\\\\\\\\\\"TotalWorkingYears\\\\\\\\\\\\\\\"}}, \\\\\\\\\\\\\\\"typeProperty\\\\\\\\\\\\\\\": 2}, {\\\\\\\\\\\\\\\"column\\\\\\\\\\\\\\\": {\\\\\\\\\\\\\\\"type\\\\\\\\\\\\\\\": 2, \\\\\\\\\\\\\\\"details\\\\\\\\\\\\\\\": {\\\\\\\\\\\\\\\"selectedColumn\\\\\\\\\\\\\\\": \\\\\\\\\\\\\\\"TrainingTimesLastYear\\\\\\\\\\\\\\\"}}, \\\\\\\\\\\\\\\"typeProperty\\\\\\\\\\\\\\\": 2}, {\\\\\\\\\\\\\\\"column\\\\\\\\\\\\\\\": {\\\\\\\\\\\\\\\"type\\\\\\\\\\\\\\\": 2, \\\\\\\\\\\\\\\"details\\\\\\\\\\\\\\\": {\\\\\\\\\\\\\\\"selectedColumn\\\\\\\\\\\\\\\": \\\\\\\\\\\\\\\"WorkLifeBalance\\\\\\\\\\\\\\\"}}, \\\\\\\\\\\\\\\"typeProperty\\\\\\\\\\\\\\\": 2}, {\\\\\\\\\\\\\\\"column\\\\\\\\\\\\\\\": {\\\\\\\\\\\\\\\"type\\\\\\\\\\\\\\\": 2, \\\\\\\\\\\\\\\"details\\\\\\\\\\\\\\\": {\\\\\\\\\\\\\\\"selectedColumn\\\\\\\\\\\\\\\": \\\\\\\\\\\\\\\"YearsAtCompany\\\\\\\\\\\\\\\"}}, \\\\\\\\\\\\\\\"typeProperty\\\\\\\\\\\\\\\": 2}, {\\\\\\\\\\\\\\\"column\\\\\\\\\\\\\\\": {\\\\\\\\\\\\\\\"type\\\\\\\\\\\\\\\": 2, \\\\\\\\\\\\\\\"details\\\\\\\\\\\\\\\": {\\\\\\\\\\\\\\\"selectedColumn\\\\\\\\\\\\\\\": \\\\\\\\\\\\\\\"YearsInCurrentRole\\\\\\\\\\\\\\\"}}, \\\\\\\\\\\\\\\"typeProperty\\\\\\\\\\\\\\\": 2}, {\\\\\\\\\\\\\\\"column\\\\\\\\\\\\\\\": {\\\\\\\\\\\\\\\"type\\\\\\\\\\\\\\\": 2, \\\\\\\\\\\\\\\"details\\\\\\\\\\\\\\\": {\\\\\\\\\\\\\\\"selectedColumn\\\\\\\\\\\\\\\": \\\\\\\\\\\\\\\"YearsSinceLastPromotion\\\\\\\\\\\\\\\"}}, \\\\\\\\\\\\\\\"typeProperty\\\\\\\\\\\\\\\": 2}, {\\\\\\\\\\\\\\\"column\\\\\\\\\\\\\\\": {\\\\\\\\\\\\\\\"type\\\\\\\\\\\\\\\": 2, \\\\\\\\\\\\\\\"details\\\\\\\\\\\\\\\": {\\\\\\\\\\\\\\\"selectedColumn\\\\\\\\\\\\\\\": \\\\\\\\\\\\\\\"YearsWithCurrManager\\\\\\\\\\\\\\\"}}, \\\\\\\\\\\\\\\"typeProperty\\\\\\\\\\\\\\\": 2}]}, \\\\\\\\\\\\\\\"localData\\\\\\\\\\\\\\\": {}, \\\\\\\\\\\\\\\"isEnabled\\\\\\\\\\\\\\\": true, \\\\\\\\\\\\\\\"name\\\\\\\\\\\\\\\": null, \\\\\\\\\\\\\\\"annotation\\\\\\\\\\\\\\\": null}], \\\\\\\\\\\\\\\"inspectors\\\\\\\\\\\\\\\": [], \\\\\\\\\\\\\\\"meta\\\\\\\\\\\\\\\": {\\\\\\\\\\\\\\\"savedDatasetId\\\\\\\\\\\\\\\": \\\\\\\\\\\\\\\"a7cb76f2-62d1-4a73-a0c9-0fa04487e465\\\\\\\\\\\\\\\", \\\\\\\\\\\\\\\"datasetType\\\\\\\\\\\\\\\": \\\\\\\\\\\\\\\"tabular\\\\\\\\\\\\\\\", \\\\\\\\\\\\\\\"subscriptionId\\\\\\\\\\\\\\\": \\\\\\\\\\\\\\\"9b72f9e6-56c5-4c16-991b-19c652994860\\\\\\\\\\\\\\\", \\\\\\\\\\\\\\\"workspaceId\\\\\\\\\\\\\\\": \\\\\\\\\\\\\\\"21a4e330-0768-4a74-8624-36caa4713ef4\\\\\\\\\\\\\\\", \\\\\\\\\\\\\\\"workspaceLocation\\\\\\\\\\\\\\\": \\\\\\\\\\\\\\\"southcentralus\\\\\\\\\\\\\\\"}}\\\\\\\", \\\\\\\"activities\\\\\\\": 0}\", \"EnableSubsampling\": null, \"runTemplate\": \"AutoML\", \"azureml.runsource\": \"automl\", \"display_task_type\": \"classification\", \"dependencies_versions\": \"{\\\"azureml-widgets\\\": \\\"1.20.0\\\", \\\"azureml-train\\\": \\\"1.20.0\\\", \\\"azureml-train-restclients-hyperdrive\\\": \\\"1.20.0\\\", \\\"azureml-train-core\\\": \\\"1.20.0\\\", \\\"azureml-train-automl\\\": \\\"1.20.0\\\", \\\"azureml-train-automl-runtime\\\": \\\"1.20.0\\\", \\\"azureml-train-automl-client\\\": \\\"1.20.0\\\", \\\"azureml-tensorboard\\\": \\\"1.20.0\\\", \\\"azureml-telemetry\\\": \\\"1.20.0\\\", \\\"azureml-sdk\\\": \\\"1.20.0\\\", \\\"azureml-samples\\\": \\\"0+unknown\\\", \\\"azureml-pipeline\\\": \\\"1.20.0\\\", \\\"azureml-pipeline-steps\\\": \\\"1.20.0\\\", \\\"azureml-pipeline-core\\\": \\\"1.20.0\\\", \\\"azureml-opendatasets\\\": \\\"1.20.0\\\", \\\"azureml-model-management-sdk\\\": \\\"1.0.1b6.post1\\\", \\\"azureml-mlflow\\\": \\\"1.20.0.post1\\\", \\\"azureml-interpret\\\": \\\"1.20.0\\\", \\\"azureml-explain-model\\\": \\\"1.20.0\\\", \\\"azureml-defaults\\\": \\\"1.20.0\\\", \\\"azureml-dataset-runtime\\\": \\\"1.20.0\\\", \\\"azureml-dataprep\\\": \\\"2.7.3\\\", \\\"azureml-dataprep-rslex\\\": \\\"1.5.0\\\", \\\"azureml-dataprep-native\\\": \\\"27.0.0\\\", \\\"azureml-datadrift\\\": \\\"1.20.0\\\", \\\"azureml-core\\\": \\\"1.20.0\\\", \\\"azureml-contrib-services\\\": \\\"1.20.0\\\", \\\"azureml-contrib-server\\\": \\\"1.20.0\\\", \\\"azureml-contrib-reinforcementlearning\\\": \\\"1.20.0\\\", \\\"azureml-contrib-pipeline-steps\\\": \\\"1.20.0\\\", \\\"azureml-contrib-notebook\\\": \\\"1.20.0\\\", \\\"azureml-contrib-interpret\\\": \\\"1.20.0\\\", \\\"azureml-contrib-gbdt\\\": \\\"1.20.0\\\", \\\"azureml-contrib-fairness\\\": \\\"1.20.0\\\", \\\"azureml-contrib-dataset\\\": \\\"1.20.0\\\", \\\"azureml-cli-common\\\": \\\"1.20.0\\\", \\\"azureml-automl-runtime\\\": \\\"1.20.0\\\", \\\"azureml-automl-core\\\": \\\"1.20.0\\\", \\\"azureml-accel-models\\\": \\\"1.20.0\\\"}\", \"_aml_system_scenario_identification\": \"Remote.Parent\", \"ClientType\": \"SDK\", \"environment_cpu_name\": \"AzureML-AutoML\", \"environment_cpu_label\": \"prod\", \"environment_gpu_name\": \"AzureML-AutoML-GPU\", \"environment_gpu_label\": \"prod\", \"root_attribution\": \"automl\", \"attribution\": \"AutoML\", \"Orchestrator\": \"AutoML\", \"CancelUri\": \"https://southcentralus.experiments.azureml.net/jasmine/v1.0/subscriptions/9b72f9e6-56c5-4c16-991b-19c652994860/resourceGroups/aml-quickstarts-139097/providers/Microsoft.MachineLearningServices/workspaces/quick-starts-ws-139097/experimentids/228594d0-c5cb-42e6-89ca-13aab7dd8b09/cancel/AutoML_087c6ad3-ea12-4397-aec0-abb21503bc96\", \"ClientSdkVersion\": \"1.21.0\", \"snapshotId\": \"00000000-0000-0000-0000-000000000000\", \"SetupRunId\": \"AutoML_087c6ad3-ea12-4397-aec0-abb21503bc96_setup\", \"SetupRunContainerId\": \"dcid.AutoML_087c6ad3-ea12-4397-aec0-abb21503bc96_setup\", \"FeaturizationRunJsonPath\": \"featurizer_container.json\", \"FeaturizationRunId\": \"AutoML_087c6ad3-ea12-4397-aec0-abb21503bc96_featurize\", \"ProblemInfoJsonString\": \"{\\\"dataset_num_categorical\\\": 0, \\\"is_sparse\\\": true, \\\"subsampling\\\": false, \\\"dataset_classes\\\": 2, \\\"dataset_features\\\": 300, \\\"dataset_samples\\\": 1470, \\\"single_frequency_class_detected\\\": false}\", \"ModelExplainRunId\": \"AutoML_087c6ad3-ea12-4397-aec0-abb21503bc96_ModelExplain\"}, \"tags\": {\"model_explain_run\": \"best_run\", \"_aml_system_azureml.automlComponent\": \"AutoML\", \"pipeline_id\": \"\", \"score\": \"\", \"predicted_cost\": \"\", \"fit_time\": \"\", \"training_percent\": \"\", \"iteration\": \"\", \"run_preprocessor\": \"\", \"run_algorithm\": \"\", \"dynamic_whitelisting_iterations\": \"<25>;<30>;<35>;<40>;<44>;\", \"automl_best_child_run_id\": \"AutoML_087c6ad3-ea12-4397-aec0-abb21503bc96_50\", \"model_explain_best_run_child_id\": \"AutoML_087c6ad3-ea12-4397-aec0-abb21503bc96_50\"}, \"end_time_utc\": \"2021-02-18T00:36:24.133184Z\", \"status\": \"Completed\", \"log_files\": {}, \"log_groups\": [], \"run_duration\": \"0:32:34\"}, \"child_runs\": [{\"run_id\": \"AutoML_087c6ad3-ea12-4397-aec0-abb21503bc96_0\", \"run_number\": 5, \"metric\": null, \"status\": \"Completed\", \"run_type\": \"azureml.scriptrun\", \"training_percent\": \"100\", \"start_time\": \"2021-02-18T00:15:57.640615Z\", \"end_time\": \"2021-02-18T00:17:02.107097Z\", \"created_time\": \"2021-02-18T00:15:46.04573Z\", \"created_time_dt\": \"2021-02-18T00:15:46.04573Z\", \"duration\": \"0:01:16\", \"iteration\": \"0\", \"goal\": \"AUC_weighted_max\", \"run_name\": \"MaxAbsScaler, LightGBM\", \"run_properties\": \"copy=True\", \"primary_metric\": 0.79891559, \"best_metric\": 0.79891559}, {\"run_id\": \"AutoML_087c6ad3-ea12-4397-aec0-abb21503bc96_2\", \"run_number\": 6, \"metric\": null, \"status\": \"Completed\", \"run_type\": \"azureml.scriptrun\", \"training_percent\": \"100\", \"start_time\": \"2021-02-18T00:18:19.431142Z\", \"end_time\": \"2021-02-18T00:22:04.767323Z\", \"created_time\": \"2021-02-18T00:15:46.133514Z\", \"created_time_dt\": \"2021-02-18T00:15:46.133514Z\", \"duration\": \"0:06:18\", \"iteration\": \"2\", \"goal\": \"AUC_weighted_max\", \"run_name\": \"MaxAbsScaler, RandomForest\", \"run_properties\": \"copy=True\", \"primary_metric\": 0.76240715, \"best_metric\": 0.79891559}, {\"run_id\": \"AutoML_087c6ad3-ea12-4397-aec0-abb21503bc96_4\", \"run_number\": 7, \"metric\": null, \"status\": \"Completed\", \"run_type\": \"azureml.scriptrun\", \"training_percent\": \"100\", \"start_time\": \"2021-02-18T00:18:18.317301Z\", \"end_time\": \"2021-02-18T00:19:32.350464Z\", \"created_time\": \"2021-02-18T00:15:46.13675Z\", \"created_time_dt\": \"2021-02-18T00:15:46.13675Z\", \"duration\": \"0:03:46\", \"iteration\": \"4\", \"goal\": \"AUC_weighted_max\", \"run_name\": \"MaxAbsScaler, RandomForest\", \"run_properties\": \"copy=True\", \"primary_metric\": 0.76271423, \"best_metric\": 0.79891559}, {\"run_id\": \"AutoML_087c6ad3-ea12-4397-aec0-abb21503bc96_3\", \"run_number\": 8, \"metric\": null, \"status\": \"Completed\", \"run_type\": \"azureml.scriptrun\", \"training_percent\": \"100\", \"start_time\": \"2021-02-18T00:18:18.409207Z\", \"end_time\": \"2021-02-18T00:22:05.134721Z\", \"created_time\": \"2021-02-18T00:15:46.16423Z\", \"created_time_dt\": \"2021-02-18T00:15:46.16423Z\", \"duration\": \"0:06:18\", \"iteration\": \"3\", \"goal\": \"AUC_weighted_max\", \"run_name\": \"MaxAbsScaler, RandomForest\", \"run_properties\": \"copy=True\", \"primary_metric\": 0.77470617, \"best_metric\": 0.79891559}, {\"run_id\": \"AutoML_087c6ad3-ea12-4397-aec0-abb21503bc96_1\", \"run_number\": 9, \"metric\": null, \"status\": \"Completed\", \"run_type\": \"azureml.scriptrun\", \"training_percent\": \"100\", \"start_time\": \"2021-02-18T00:17:06.029898Z\", \"end_time\": \"2021-02-18T00:18:13.622298Z\", \"created_time\": \"2021-02-18T00:15:46.138819Z\", \"created_time_dt\": \"2021-02-18T00:15:46.138819Z\", \"duration\": \"0:02:27\", \"iteration\": \"1\", \"goal\": \"AUC_weighted_max\", \"run_name\": \"MaxAbsScaler, XGBoostClassifier\", \"run_properties\": \"copy=True\", \"primary_metric\": 0.79601962, \"best_metric\": 0.79891559}, {\"run_id\": \"AutoML_087c6ad3-ea12-4397-aec0-abb21503bc96_5\", \"run_number\": 10, \"metric\": null, \"status\": \"Completed\", \"run_type\": \"azureml.scriptrun\", \"training_percent\": \"100\", \"start_time\": \"2021-02-18T00:18:22.932345Z\", \"end_time\": \"2021-02-18T00:22:03.775739Z\", \"created_time\": \"2021-02-18T00:17:05.242205Z\", \"created_time_dt\": \"2021-02-18T00:17:05.242205Z\", \"duration\": \"0:04:58\", \"iteration\": \"5\", \"goal\": \"AUC_weighted_max\", \"run_name\": \"MaxAbsScaler, ExtremeRandomTrees\", \"run_properties\": \"copy=True\", \"primary_metric\": 0.77155428, \"best_metric\": 0.79891559}, {\"run_id\": \"AutoML_087c6ad3-ea12-4397-aec0-abb21503bc96_6\", \"run_number\": 11, \"metric\": null, \"status\": \"Completed\", \"run_type\": \"azureml.scriptrun\", \"training_percent\": \"100\", \"start_time\": \"2021-02-18T00:18:29.996139Z\", \"end_time\": \"2021-02-18T00:22:06.142113Z\", \"created_time\": \"2021-02-18T00:18:14.906057Z\", \"created_time_dt\": \"2021-02-18T00:18:14.906057Z\", \"duration\": \"0:03:51\", \"iteration\": \"6\", \"goal\": \"AUC_weighted_max\", \"run_name\": \"MaxAbsScaler, ExtremeRandomTrees\", \"run_properties\": \"copy=True\", \"primary_metric\": 0.79899954, \"best_metric\": 0.79899954}, {\"run_id\": \"AutoML_087c6ad3-ea12-4397-aec0-abb21503bc96_7\", \"run_number\": 12, \"metric\": null, \"status\": \"Completed\", \"run_type\": \"azureml.scriptrun\", \"training_percent\": \"100\", \"start_time\": \"2021-02-18T00:19:47.591424Z\", \"end_time\": \"2021-02-18T00:20:53.237232Z\", \"created_time\": \"2021-02-18T00:19:36.118725Z\", \"created_time_dt\": \"2021-02-18T00:19:36.118725Z\", \"duration\": \"0:01:17\", \"iteration\": \"7\", \"goal\": \"AUC_weighted_max\", \"run_name\": \"MaxAbsScaler, ExtremeRandomTrees\", \"run_properties\": \"copy=True\", \"primary_metric\": 0.78798242, \"best_metric\": 0.79899954}, {\"run_id\": \"AutoML_087c6ad3-ea12-4397-aec0-abb21503bc96_8\", \"run_number\": 13, \"metric\": null, \"status\": \"Completed\", \"run_type\": \"azureml.scriptrun\", \"training_percent\": \"100\", \"start_time\": \"2021-02-18T00:21:08.166995Z\", \"end_time\": \"2021-02-18T00:22:14.059742Z\", \"created_time\": \"2021-02-18T00:20:56.831393Z\", \"created_time_dt\": \"2021-02-18T00:20:56.831393Z\", \"duration\": \"0:01:17\", \"iteration\": \"8\", \"goal\": \"AUC_weighted_max\", \"run_name\": \"MaxAbsScaler, RandomForest\", \"run_properties\": \"copy=True\", \"primary_metric\": 0.77071202, \"best_metric\": 0.79899954}, {\"run_id\": \"AutoML_087c6ad3-ea12-4397-aec0-abb21503bc96_9\", \"run_number\": 14, \"metric\": null, \"status\": \"Completed\", \"run_type\": \"azureml.scriptrun\", \"training_percent\": \"100\", \"start_time\": \"2021-02-18T00:22:22.44241Z\", \"end_time\": \"2021-02-18T00:23:30.141625Z\", \"created_time\": \"2021-02-18T00:22:08.099471Z\", \"created_time_dt\": \"2021-02-18T00:22:08.099471Z\", \"duration\": \"0:01:22\", \"iteration\": \"9\", \"goal\": \"AUC_weighted_max\", \"run_name\": \"MaxAbsScaler, ExtremeRandomTrees\", \"run_properties\": \"copy=True\", \"primary_metric\": 0.78030123, \"best_metric\": 0.79899954}, {\"run_id\": \"AutoML_087c6ad3-ea12-4397-aec0-abb21503bc96_10\", \"run_number\": 15, \"metric\": null, \"status\": \"Completed\", \"run_type\": \"azureml.scriptrun\", \"training_percent\": \"100\", \"start_time\": \"2021-02-18T00:22:19.141304Z\", \"end_time\": \"2021-02-18T00:23:28.856248Z\", \"created_time\": \"2021-02-18T00:22:08.253297Z\", \"created_time_dt\": \"2021-02-18T00:22:08.253297Z\", \"duration\": \"0:01:20\", \"iteration\": \"10\", \"goal\": \"AUC_weighted_max\", \"run_name\": \"MaxAbsScaler, RandomForest\", \"run_properties\": \"copy=True\", \"primary_metric\": 0.76694131, \"best_metric\": 0.79899954}, {\"run_id\": \"AutoML_087c6ad3-ea12-4397-aec0-abb21503bc96_12\", \"run_number\": 16, \"metric\": null, \"status\": \"Completed\", \"run_type\": \"azureml.scriptrun\", \"training_percent\": \"100\", \"start_time\": \"2021-02-18T00:22:28.068549Z\", \"end_time\": \"2021-02-18T00:23:36.399264Z\", \"created_time\": \"2021-02-18T00:22:14.050623Z\", \"created_time_dt\": \"2021-02-18T00:22:14.050623Z\", \"duration\": \"0:01:22\", \"iteration\": \"12\", \"goal\": \"AUC_weighted_max\", \"run_name\": \"MaxAbsScaler, RandomForest\", \"run_properties\": \"copy=True\", \"primary_metric\": 0.78137775, \"best_metric\": 0.79899954}, {\"run_id\": \"AutoML_087c6ad3-ea12-4397-aec0-abb21503bc96_11\", \"run_number\": 17, \"metric\": null, \"status\": \"Completed\", \"run_type\": \"azureml.scriptrun\", \"training_percent\": \"100\", \"start_time\": \"2021-02-18T00:22:27.540358Z\", \"end_time\": \"2021-02-18T00:23:39.431492Z\", \"created_time\": \"2021-02-18T00:22:14.078112Z\", \"created_time_dt\": \"2021-02-18T00:22:14.078112Z\", \"duration\": \"0:01:25\", \"iteration\": \"11\", \"goal\": \"AUC_weighted_max\", \"run_name\": \"MaxAbsScaler, RandomForest\", \"run_properties\": \"copy=True\", \"primary_metric\": 0.76671345, \"best_metric\": 0.79899954}, {\"run_id\": \"AutoML_087c6ad3-ea12-4397-aec0-abb21503bc96_13\", \"run_number\": 18, \"metric\": null, \"status\": \"Completed\", \"run_type\": \"azureml.scriptrun\", \"training_percent\": \"100\", \"start_time\": \"2021-02-18T00:22:31.362402Z\", \"end_time\": \"2021-02-18T00:23:34.003571Z\", \"created_time\": \"2021-02-18T00:22:20.86925Z\", \"created_time_dt\": \"2021-02-18T00:22:20.86925Z\", \"duration\": \"0:01:13\", \"iteration\": \"13\", \"goal\": \"AUC_weighted_max\", \"run_name\": \"StandardScalerWrapper, XGBoostClassifier\", \"run_properties\": \"<azureml.automl.runtime.shared.model_wrappers.StandardScalerWrapper object at 0x7f8905c99080\", \"primary_metric\": 0.77701124, \"best_metric\": 0.79899954}, {\"run_id\": \"AutoML_087c6ad3-ea12-4397-aec0-abb21503bc96_14\", \"run_number\": 19, \"metric\": null, \"status\": \"Completed\", \"run_type\": \"azureml.scriptrun\", \"training_percent\": \"100\", \"start_time\": \"2021-02-18T00:23:49.659313Z\", \"end_time\": \"2021-02-18T00:25:01.402416Z\", \"created_time\": \"2021-02-18T00:23:32.733645Z\", \"created_time_dt\": \"2021-02-18T00:23:32.733645Z\", \"duration\": \"0:01:28\", \"iteration\": \"14\", \"goal\": \"AUC_weighted_max\", \"run_name\": \"MaxAbsScaler, RandomForest\", \"run_properties\": \"copy=True\", \"primary_metric\": 0.7614876, \"best_metric\": 0.79899954}, {\"run_id\": \"AutoML_087c6ad3-ea12-4397-aec0-abb21503bc96_16\", \"run_number\": 20, \"metric\": null, \"status\": \"Completed\", \"run_type\": \"azureml.scriptrun\", \"training_percent\": \"100\", \"start_time\": \"2021-02-18T00:23:59.42986Z\", \"end_time\": \"2021-02-18T00:25:14.918794Z\", \"created_time\": \"2021-02-18T00:23:43.953384Z\", \"created_time_dt\": \"2021-02-18T00:23:43.953384Z\", \"duration\": \"0:01:30\", \"iteration\": \"16\", \"goal\": \"AUC_weighted_max\", \"run_name\": \"MaxAbsScaler, ExtremeRandomTrees\", \"run_properties\": \"copy=True\", \"primary_metric\": 0.77125633, \"best_metric\": 0.79899954}, {\"run_id\": \"AutoML_087c6ad3-ea12-4397-aec0-abb21503bc96_17\", \"run_number\": 21, \"metric\": null, \"status\": \"Completed\", \"run_type\": \"azureml.scriptrun\", \"training_percent\": \"100\", \"start_time\": \"2021-02-18T00:23:56.878099Z\", \"end_time\": \"2021-02-18T00:25:08.148248Z\", \"created_time\": \"2021-02-18T00:23:43.973889Z\", \"created_time_dt\": \"2021-02-18T00:23:43.973889Z\", \"duration\": \"0:01:24\", \"iteration\": \"17\", \"goal\": \"AUC_weighted_max\", \"run_name\": \"MaxAbsScaler, ExtremeRandomTrees\", \"run_properties\": \"copy=True\", \"primary_metric\": 0.78888333, \"best_metric\": 0.79899954}, {\"run_id\": \"AutoML_087c6ad3-ea12-4397-aec0-abb21503bc96_15\", \"run_number\": 22, \"metric\": null, \"status\": \"Completed\", \"run_type\": \"azureml.scriptrun\", \"training_percent\": \"100\", \"start_time\": \"2021-02-18T00:23:58.949363Z\", \"end_time\": \"2021-02-18T00:25:06.856911Z\", \"created_time\": \"2021-02-18T00:23:44.118045Z\", \"created_time_dt\": \"2021-02-18T00:23:44.118045Z\", \"duration\": \"0:01:22\", \"iteration\": \"15\", \"goal\": \"AUC_weighted_max\", \"run_name\": \"StandardScalerWrapper, ExtremeRandomTrees\", \"run_properties\": \"<azureml.automl.runtime.shared.model_wrappers.StandardScalerWrapper object at 0x7fd66672cef0\", \"primary_metric\": 0.74140235, \"best_metric\": 0.79899954}, {\"run_id\": \"AutoML_087c6ad3-ea12-4397-aec0-abb21503bc96_18\", \"run_number\": 23, \"metric\": null, \"status\": \"Completed\", \"run_type\": \"azureml.scriptrun\", \"training_percent\": \"100\", \"start_time\": \"2021-02-18T00:24:07.977488Z\", \"end_time\": \"2021-02-18T00:25:10.962788Z\", \"created_time\": \"2021-02-18T00:23:52.633383Z\", \"created_time_dt\": \"2021-02-18T00:23:52.633383Z\", \"duration\": \"0:01:18\", \"iteration\": \"18\", \"goal\": \"AUC_weighted_max\", \"run_name\": \"MaxAbsScaler, RandomForest\", \"run_properties\": \"copy=True\", \"primary_metric\": 0.76260673, \"best_metric\": 0.79899954}, {\"run_id\": \"AutoML_087c6ad3-ea12-4397-aec0-abb21503bc96_19\", \"run_number\": 24, \"metric\": null, \"status\": \"Completed\", \"run_type\": \"azureml.scriptrun\", \"training_percent\": \"100\", \"start_time\": \"2021-02-18T00:25:18.409047Z\", \"end_time\": \"2021-02-18T00:26:50.142545Z\", \"created_time\": \"2021-02-18T00:25:05.737007Z\", \"created_time_dt\": \"2021-02-18T00:25:05.737007Z\", \"duration\": \"0:01:44\", \"iteration\": \"19\", \"goal\": \"AUC_weighted_max\", \"run_name\": \"StandardScalerWrapper, LogisticRegression\", \"run_properties\": \"<azureml.automl.runtime.shared.model_wrappers.StandardScalerWrapper object at 0x7fe74d9d2b38\", \"primary_metric\": 0.7946066, \"best_metric\": 0.79899954}, {\"run_id\": \"AutoML_087c6ad3-ea12-4397-aec0-abb21503bc96_20\", \"run_number\": 25, \"metric\": null, \"status\": \"Completed\", \"run_type\": \"azureml.scriptrun\", \"training_percent\": \"100\", \"start_time\": \"2021-02-18T00:25:22.858419Z\", \"end_time\": \"2021-02-18T00:26:29.734033Z\", \"created_time\": \"2021-02-18T00:25:11.209423Z\", \"created_time_dt\": \"2021-02-18T00:25:11.209423Z\", \"duration\": \"0:01:18\", \"iteration\": \"20\", \"goal\": \"AUC_weighted_max\", \"run_name\": \"StandardScalerWrapper, XGBoostClassifier\", \"run_properties\": \"<azureml.automl.runtime.shared.model_wrappers.StandardScalerWrapper object at 0x7f4d339439b0\", \"primary_metric\": 0.78407863, \"best_metric\": 0.79899954}, {\"run_id\": \"AutoML_087c6ad3-ea12-4397-aec0-abb21503bc96_21\", \"run_number\": 26, \"metric\": null, \"status\": \"Completed\", \"run_type\": \"azureml.scriptrun\", \"training_percent\": \"100\", \"start_time\": \"2021-02-18T00:25:23.645593Z\", \"end_time\": \"2021-02-18T00:26:36.956325Z\", \"created_time\": \"2021-02-18T00:25:11.371473Z\", \"created_time_dt\": \"2021-02-18T00:25:11.371473Z\", \"duration\": \"0:01:25\", \"iteration\": \"21\", \"goal\": \"AUC_weighted_max\", \"run_name\": \"StandardScalerWrapper, LogisticRegression\", \"run_properties\": \"<azureml.automl.runtime.shared.model_wrappers.StandardScalerWrapper object at 0x7fec87cc8208\", \"primary_metric\": 0.79564153, \"best_metric\": 0.79899954}, {\"run_id\": \"AutoML_087c6ad3-ea12-4397-aec0-abb21503bc96_22\", \"run_number\": 27, \"metric\": null, \"status\": \"Completed\", \"run_type\": \"azureml.scriptrun\", \"training_percent\": \"100\", \"start_time\": \"2021-02-18T00:25:31.036786Z\", \"end_time\": \"2021-02-18T00:26:35.32836Z\", \"created_time\": \"2021-02-18T00:25:16.606793Z\", \"created_time_dt\": \"2021-02-18T00:25:16.606793Z\", \"duration\": \"0:01:18\", \"iteration\": \"22\", \"goal\": \"AUC_weighted_max\", \"run_name\": \"MaxAbsScaler, LightGBM\", \"run_properties\": \"copy=True\", \"primary_metric\": 0.80049536, \"best_metric\": 0.80049536}, {\"run_id\": \"AutoML_087c6ad3-ea12-4397-aec0-abb21503bc96_23\", \"run_number\": 28, \"metric\": null, \"status\": \"Completed\", \"run_type\": \"azureml.scriptrun\", \"training_percent\": \"100\", \"start_time\": \"2021-02-18T00:25:33.352334Z\", \"end_time\": \"2021-02-18T00:26:43.093241Z\", \"created_time\": \"2021-02-18T00:25:21.819474Z\", \"created_time_dt\": \"2021-02-18T00:25:21.819474Z\", \"duration\": \"0:01:21\", \"iteration\": \"23\", \"goal\": \"AUC_weighted_max\", \"run_name\": \"MaxAbsScaler, LightGBM\", \"run_properties\": \"copy=True\", \"primary_metric\": 0.80324536, \"best_metric\": 0.80324536}, {\"run_id\": \"AutoML_087c6ad3-ea12-4397-aec0-abb21503bc96_24\", \"run_number\": 29, \"metric\": null, \"status\": \"Completed\", \"run_type\": \"azureml.scriptrun\", \"training_percent\": \"100\", \"start_time\": \"2021-02-18T00:26:47.900571Z\", \"end_time\": \"2021-02-18T00:27:52.243349Z\", \"created_time\": \"2021-02-18T00:26:33.55614Z\", \"created_time_dt\": \"2021-02-18T00:26:33.55614Z\", \"duration\": \"0:01:18\", \"iteration\": \"24\", \"goal\": \"AUC_weighted_max\", \"run_name\": \"MaxAbsScaler, LightGBM\", \"run_properties\": \"copy=True\", \"primary_metric\": 0.80673988, \"best_metric\": 0.80673988}, {\"run_id\": \"AutoML_087c6ad3-ea12-4397-aec0-abb21503bc96_25\", \"run_number\": 30, \"metric\": null, \"status\": \"Completed\", \"run_type\": \"azureml.scriptrun\", \"training_percent\": \"100\", \"start_time\": \"2021-02-18T00:26:53.16379Z\", \"end_time\": \"2021-02-18T00:28:07.879715Z\", \"created_time\": \"2021-02-18T00:26:39.615189Z\", \"created_time_dt\": \"2021-02-18T00:26:39.615189Z\", \"duration\": \"0:01:28\", \"iteration\": \"25\", \"goal\": \"AUC_weighted_max\", \"run_name\": \"StandardScalerWrapper, LightGBM\", \"run_properties\": \"<azureml.automl.runtime.shared.model_wrappers.StandardScalerWrapper object at 0x7f3c4bf07d68\", \"primary_metric\": 0.7851394, \"best_metric\": 0.80673988}, {\"run_id\": \"AutoML_087c6ad3-ea12-4397-aec0-abb21503bc96_26\", \"run_number\": 31, \"metric\": null, \"status\": \"Completed\", \"run_type\": \"azureml.scriptrun\", \"training_percent\": \"100\", \"start_time\": \"2021-02-18T00:26:56.761629Z\", \"end_time\": \"2021-02-18T00:27:59.420308Z\", \"created_time\": \"2021-02-18T00:26:44.650301Z\", \"created_time_dt\": \"2021-02-18T00:26:44.650301Z\", \"duration\": \"0:01:14\", \"iteration\": \"26\", \"goal\": \"AUC_weighted_max\", \"run_name\": \"StandardScalerWrapper, XGBoostClassifier\", \"run_properties\": \"<azureml.automl.runtime.shared.model_wrappers.StandardScalerWrapper object at 0x7f4c0f55dac8\", \"primary_metric\": 0.79914447, \"best_metric\": 0.80673988}, {\"run_id\": \"AutoML_087c6ad3-ea12-4397-aec0-abb21503bc96_27\", \"run_number\": 32, \"metric\": null, \"status\": \"Completed\", \"run_type\": \"azureml.scriptrun\", \"training_percent\": \"100\", \"start_time\": \"2021-02-18T00:27:03.219058Z\", \"end_time\": \"2021-02-18T00:28:11.933585Z\", \"created_time\": \"2021-02-18T00:26:50.150033Z\", \"created_time_dt\": \"2021-02-18T00:26:50.150033Z\", \"duration\": \"0:01:21\", \"iteration\": \"27\", \"goal\": \"AUC_weighted_max\", \"run_name\": \"StandardScalerWrapper, XGBoostClassifier\", \"run_properties\": \"<azureml.automl.runtime.shared.model_wrappers.StandardScalerWrapper object at 0x7f1f00321898\", \"primary_metric\": 0.8126281, \"best_metric\": 0.8126281}, {\"run_id\": \"AutoML_087c6ad3-ea12-4397-aec0-abb21503bc96_28\", \"run_number\": 33, \"metric\": null, \"status\": \"Completed\", \"run_type\": \"azureml.scriptrun\", \"training_percent\": \"100\", \"start_time\": \"2021-02-18T00:27:06.702756Z\", \"end_time\": \"2021-02-18T00:28:04.892972Z\", \"created_time\": \"2021-02-18T00:26:53.774158Z\", \"created_time_dt\": \"2021-02-18T00:26:53.774158Z\", \"duration\": \"0:01:11\", \"iteration\": \"28\", \"goal\": \"AUC_weighted_max\", \"run_name\": \"StandardScalerWrapper, LightGBM\", \"run_properties\": \"<azureml.automl.runtime.shared.model_wrappers.StandardScalerWrapper object at 0x7f18f609dbe0\", \"primary_metric\": 0.78483414, \"best_metric\": 0.8126281}, {\"run_id\": \"AutoML_087c6ad3-ea12-4397-aec0-abb21503bc96_29\", \"run_number\": 34, \"metric\": null, \"status\": \"Completed\", \"run_type\": \"azureml.scriptrun\", \"training_percent\": \"100\", \"start_time\": \"2021-02-18T00:28:04.16412Z\", \"end_time\": \"2021-02-18T00:29:17.30501Z\", \"created_time\": \"2021-02-18T00:27:54.287226Z\", \"created_time_dt\": \"2021-02-18T00:27:54.287226Z\", \"duration\": \"0:01:23\", \"iteration\": \"29\", \"goal\": \"AUC_weighted_max\", \"run_name\": \"MaxAbsScaler, LogisticRegression\", \"run_properties\": \"copy=True\", \"primary_metric\": 0.79313989, \"best_metric\": 0.8126281}, {\"run_id\": \"AutoML_087c6ad3-ea12-4397-aec0-abb21503bc96_30\", \"run_number\": 35, \"metric\": null, \"status\": \"Completed\", \"run_type\": \"azureml.scriptrun\", \"training_percent\": \"100\", \"start_time\": \"2021-02-18T00:28:14.045672Z\", \"end_time\": \"2021-02-18T00:29:16.567296Z\", \"created_time\": \"2021-02-18T00:28:02.461409Z\", \"created_time_dt\": \"2021-02-18T00:28:02.461409Z\", \"duration\": \"0:01:14\", \"iteration\": \"30\", \"goal\": \"AUC_weighted_max\", \"run_name\": \"SparseNormalizer, LightGBM\", \"run_properties\": \"<azureml.automl.runtime.shared.model_wrappers.SparseNormalizer object at 0x7f16e7158fd0\", \"primary_metric\": 0.7668828, \"best_metric\": 0.8126281}, {\"run_id\": \"AutoML_087c6ad3-ea12-4397-aec0-abb21503bc96_31\", \"run_number\": 36, \"metric\": null, \"status\": \"Completed\", \"run_type\": \"azureml.scriptrun\", \"training_percent\": \"100\", \"start_time\": \"2021-02-18T00:28:20.391941Z\", \"end_time\": \"2021-02-18T00:29:31.430467Z\", \"created_time\": \"2021-02-18T00:28:07.673725Z\", \"created_time_dt\": \"2021-02-18T00:28:07.673725Z\", \"duration\": \"0:01:23\", \"iteration\": \"31\", \"goal\": \"AUC_weighted_max\", \"run_name\": \"StandardScalerWrapper, GradientBoosting\", \"run_properties\": \"<azureml.automl.runtime.shared.model_wrappers.StandardScalerWrapper object at 0x7eff7e5b82b0\", \"primary_metric\": 0.81668242, \"best_metric\": 0.81668242}, {\"run_id\": \"AutoML_087c6ad3-ea12-4397-aec0-abb21503bc96_32\", \"run_number\": 37, \"metric\": null, \"status\": \"Completed\", \"run_type\": \"azureml.scriptrun\", \"training_percent\": \"100\", \"start_time\": \"2021-02-18T00:28:22.578141Z\", \"end_time\": \"2021-02-18T00:29:22.848205Z\", \"created_time\": \"2021-02-18T00:28:12.588543Z\", \"created_time_dt\": \"2021-02-18T00:28:12.588543Z\", \"duration\": \"0:01:10\", \"iteration\": \"32\", \"goal\": \"AUC_weighted_max\", \"run_name\": \"MaxAbsScaler, LogisticRegression\", \"run_properties\": \"copy=True\", \"primary_metric\": 0.79523318, \"best_metric\": 0.81668242}, {\"run_id\": \"AutoML_087c6ad3-ea12-4397-aec0-abb21503bc96_33\", \"run_number\": 38, \"metric\": null, \"status\": \"Completed\", \"run_type\": \"azureml.scriptrun\", \"training_percent\": \"100\", \"start_time\": \"2021-02-18T00:28:28.976987Z\", \"end_time\": \"2021-02-18T00:29:36.362648Z\", \"created_time\": \"2021-02-18T00:28:17.103839Z\", \"created_time_dt\": \"2021-02-18T00:28:17.103839Z\", \"duration\": \"0:01:19\", \"iteration\": \"33\", \"goal\": \"AUC_weighted_max\", \"run_name\": \"MaxAbsScaler, LogisticRegression\", \"run_properties\": \"copy=True\", \"primary_metric\": 0.80104198, \"best_metric\": 0.81668242}, {\"run_id\": \"AutoML_087c6ad3-ea12-4397-aec0-abb21503bc96_34\", \"run_number\": 39, \"metric\": null, \"status\": \"Completed\", \"run_type\": \"azureml.scriptrun\", \"training_percent\": \"100\", \"start_time\": \"2021-02-18T00:29:31.510653Z\", \"end_time\": \"2021-02-18T00:30:56.14763Z\", \"created_time\": \"2021-02-18T00:29:18.417969Z\", \"created_time_dt\": \"2021-02-18T00:29:18.417969Z\", \"duration\": \"0:01:37\", \"iteration\": \"34\", \"goal\": \"AUC_weighted_max\", \"run_name\": \"SparseNormalizer, XGBoostClassifier\", \"run_properties\": \"<azureml.automl.runtime.shared.model_wrappers.SparseNormalizer object at 0x7f41c6b63b70\", \"primary_metric\": 0.80569796, \"best_metric\": 0.81668242}, {\"run_id\": \"AutoML_087c6ad3-ea12-4397-aec0-abb21503bc96_35\", \"run_number\": 40, \"metric\": null, \"status\": \"Completed\", \"run_type\": \"azureml.scriptrun\", \"training_percent\": \"100\", \"start_time\": \"2021-02-18T00:29:35.462231Z\", \"end_time\": \"2021-02-18T00:31:06.550662Z\", \"created_time\": \"2021-02-18T00:29:23.958155Z\", \"created_time_dt\": \"2021-02-18T00:29:23.958155Z\", \"duration\": \"0:01:42\", \"iteration\": \"35\", \"goal\": \"AUC_weighted_max\", \"run_name\": \"TruncatedSVDWrapper, XGBoostClassifier\", \"run_properties\": \"n_components=0.95, random_state=None\", \"primary_metric\": 0.80122918, \"best_metric\": 0.81668242}, {\"run_id\": \"AutoML_087c6ad3-ea12-4397-aec0-abb21503bc96_36\", \"run_number\": 41, \"metric\": null, \"status\": \"Completed\", \"run_type\": \"azureml.scriptrun\", \"training_percent\": \"100\", \"start_time\": \"2021-02-18T00:29:38.745842Z\", \"end_time\": \"2021-02-18T00:31:39.45809Z\", \"created_time\": \"2021-02-18T00:29:27.317905Z\", \"created_time_dt\": \"2021-02-18T00:29:27.317905Z\", \"duration\": \"0:02:12\", \"iteration\": \"36\", \"goal\": \"AUC_weighted_max\", \"run_name\": \"TruncatedSVDWrapper, XGBoostClassifier\", \"run_properties\": \"n_components=0.8015789473684211, random_state=None\", \"primary_metric\": 0.79956617, \"best_metric\": 0.81668242}, {\"run_id\": \"AutoML_087c6ad3-ea12-4397-aec0-abb21503bc96_37\", \"run_number\": 42, \"metric\": null, \"status\": \"Completed\", \"run_type\": \"azureml.scriptrun\", \"training_percent\": \"100\", \"start_time\": \"2021-02-18T00:29:44.514213Z\", \"end_time\": \"2021-02-18T00:31:07.399626Z\", \"created_time\": \"2021-02-18T00:29:33.323998Z\", \"created_time_dt\": \"2021-02-18T00:29:33.323998Z\", \"duration\": \"0:01:34\", \"iteration\": \"37\", \"goal\": \"AUC_weighted_max\", \"run_name\": \"TruncatedSVDWrapper, XGBoostClassifier\", \"run_properties\": \"n_components=0.8510526315789474, random_state=None\", \"primary_metric\": 0.74288618, \"best_metric\": 0.81668242}, {\"run_id\": \"AutoML_087c6ad3-ea12-4397-aec0-abb21503bc96_38\", \"run_number\": 43, \"metric\": null, \"status\": \"Completed\", \"run_type\": \"azureml.scriptrun\", \"training_percent\": \"100\", \"start_time\": \"2021-02-18T00:29:51.911707Z\", \"end_time\": \"2021-02-18T00:31:05.880363Z\", \"created_time\": \"2021-02-18T00:29:38.938372Z\", \"created_time_dt\": \"2021-02-18T00:29:38.938372Z\", \"duration\": \"0:01:26\", \"iteration\": \"38\", \"goal\": \"AUC_weighted_max\", \"run_name\": \"TruncatedSVDWrapper, XGBoostClassifier\", \"run_properties\": \"n_components=0.6036842105263158, random_state=None\", \"primary_metric\": 0.77719106, \"best_metric\": 0.81668242}, {\"run_id\": \"AutoML_087c6ad3-ea12-4397-aec0-abb21503bc96_39\", \"run_number\": 44, \"metric\": null, \"status\": \"Completed\", \"run_type\": \"azureml.scriptrun\", \"training_percent\": \"100\", \"start_time\": \"2021-02-18T00:31:11.174162Z\", \"end_time\": \"2021-02-18T00:32:28.404282Z\", \"created_time\": \"2021-02-18T00:30:59.360203Z\", \"created_time_dt\": \"2021-02-18T00:30:59.360203Z\", \"duration\": \"0:01:29\", \"iteration\": \"39\", \"goal\": \"AUC_weighted_max\", \"run_name\": \"TruncatedSVDWrapper, XGBoostClassifier\", \"run_properties\": \"n_components=0.8015789473684211, random_state=None\", \"primary_metric\": 0.72510508, \"best_metric\": 0.81668242}, {\"run_id\": \"AutoML_087c6ad3-ea12-4397-aec0-abb21503bc96_40\", \"run_number\": 45, \"metric\": null, \"status\": \"Completed\", \"run_type\": \"azureml.scriptrun\", \"training_percent\": \"100\", \"start_time\": \"2021-02-18T00:31:21.638082Z\", \"end_time\": \"2021-02-18T00:32:30.284225Z\", \"created_time\": \"2021-02-18T00:31:08.848218Z\", \"created_time_dt\": \"2021-02-18T00:31:08.848218Z\", \"duration\": \"0:01:21\", \"iteration\": \"40\", \"goal\": \"AUC_weighted_max\", \"run_name\": \"MaxAbsScaler, GradientBoosting\", \"run_properties\": \"copy=True\", \"primary_metric\": 0.79511435, \"best_metric\": 0.81668242}, {\"run_id\": \"AutoML_087c6ad3-ea12-4397-aec0-abb21503bc96_41\", \"run_number\": 46, \"metric\": null, \"status\": \"Completed\", \"run_type\": \"azureml.scriptrun\", \"training_percent\": \"100\", \"start_time\": \"2021-02-18T00:31:27.739616Z\", \"end_time\": \"2021-02-18T00:32:28.91179Z\", \"created_time\": \"2021-02-18T00:31:13.497293Z\", \"created_time_dt\": \"2021-02-18T00:31:13.497293Z\", \"duration\": \"0:01:15\", \"iteration\": \"41\", \"goal\": \"AUC_weighted_max\", \"run_name\": \"SparseNormalizer, LightGBM\", \"run_properties\": \"<azureml.automl.runtime.shared.model_wrappers.SparseNormalizer object at 0x7fb3ac33a390\", \"primary_metric\": 0.78331721, \"best_metric\": 0.81668242}, {\"run_id\": \"AutoML_087c6ad3-ea12-4397-aec0-abb21503bc96_42\", \"run_number\": 47, \"metric\": null, \"status\": \"Completed\", \"run_type\": \"azureml.scriptrun\", \"training_percent\": \"100\", \"start_time\": \"2021-02-18T00:31:27.828129Z\", \"end_time\": \"2021-02-18T00:32:32.699925Z\", \"created_time\": \"2021-02-18T00:31:13.522572Z\", \"created_time_dt\": \"2021-02-18T00:31:13.522572Z\", \"duration\": \"0:01:19\", \"iteration\": \"42\", \"goal\": \"AUC_weighted_max\", \"run_name\": \"MaxAbsScaler, LightGBM\", \"run_properties\": \"copy=True\", \"primary_metric\": 0.80083267, \"best_metric\": 0.81668242}, {\"run_id\": \"AutoML_087c6ad3-ea12-4397-aec0-abb21503bc96_43\", \"run_number\": 48, \"metric\": null, \"status\": \"Completed\", \"run_type\": \"azureml.scriptrun\", \"training_percent\": \"100\", \"start_time\": \"2021-02-18T00:31:56.256853Z\", \"end_time\": \"2021-02-18T00:33:10.191191Z\", \"created_time\": \"2021-02-18T00:31:42.959692Z\", \"created_time_dt\": \"2021-02-18T00:31:42.959692Z\", \"duration\": \"0:01:27\", \"iteration\": \"43\", \"goal\": \"AUC_weighted_max\", \"run_name\": \"MaxAbsScaler, GradientBoosting\", \"run_properties\": \"copy=True\", \"primary_metric\": 0.78780868, \"best_metric\": 0.81668242}, {\"run_id\": \"AutoML_087c6ad3-ea12-4397-aec0-abb21503bc96_44\", \"run_number\": 49, \"metric\": null, \"status\": \"Completed\", \"run_type\": \"azureml.scriptrun\", \"training_percent\": \"100\", \"start_time\": \"2021-02-18T00:32:42.405246Z\", \"end_time\": \"2021-02-18T00:33:49.775379Z\", \"created_time\": \"2021-02-18T00:32:31.290685Z\", \"created_time_dt\": \"2021-02-18T00:32:31.290685Z\", \"duration\": \"0:01:18\", \"iteration\": \"44\", \"goal\": \"AUC_weighted_max\", \"run_name\": \"StandardScalerWrapper, GradientBoosting\", \"run_properties\": \"<azureml.automl.runtime.shared.model_wrappers.StandardScalerWrapper object at 0x7fc80e1ada20\", \"primary_metric\": 0.75549351, \"best_metric\": 0.81668242}, {\"run_id\": \"AutoML_087c6ad3-ea12-4397-aec0-abb21503bc96_45\", \"run_number\": 50, \"metric\": null, \"status\": \"Completed\", \"run_type\": \"azureml.scriptrun\", \"training_percent\": \"100\", \"start_time\": \"2021-02-18T00:32:43.48957Z\", \"end_time\": \"2021-02-18T00:33:51.298667Z\", \"created_time\": \"2021-02-18T00:32:31.309152Z\", \"created_time_dt\": \"2021-02-18T00:32:31.309152Z\", \"duration\": \"0:01:19\", \"iteration\": \"45\", \"goal\": \"AUC_weighted_max\", \"run_name\": \"SparseNormalizer, GradientBoosting\", \"run_properties\": \"<azureml.automl.runtime.shared.model_wrappers.SparseNormalizer object at 0x7f5e07ccb208\", \"primary_metric\": 0.76966156, \"best_metric\": 0.81668242}, {\"run_id\": \"AutoML_087c6ad3-ea12-4397-aec0-abb21503bc96_46\", \"run_number\": 51, \"metric\": null, \"status\": \"Canceled\", \"run_type\": \"azureml.scriptrun\", \"training_percent\": \"100\", \"start_time\": \"2021-02-18T00:32:46.791348Z\", \"end_time\": \"2021-02-18T00:34:02.785377Z\", \"created_time\": \"2021-02-18T00:32:34.963927Z\", \"created_time_dt\": \"2021-02-18T00:32:34.963927Z\", \"duration\": \"0:01:27\", \"iteration\": \"46\", \"goal\": \"AUC_weighted_max\", \"run_name\": \"StandardScalerWrapper, LogisticRegression\", \"run_properties\": \"<azureml.automl.runtime.shared.model_wrappers.StandardScalerWrapper object at 0x7f719d4b6cf8\", \"primary_metric\": 0.79208608, \"best_metric\": 0.81668242}, {\"run_id\": \"AutoML_087c6ad3-ea12-4397-aec0-abb21503bc96_47\", \"run_number\": 52, \"metric\": null, \"status\": \"Completed\", \"run_type\": \"azureml.scriptrun\", \"training_percent\": \"100\", \"start_time\": \"2021-02-18T00:32:45.17151Z\", \"end_time\": \"2021-02-18T00:33:54.797679Z\", \"created_time\": \"2021-02-18T00:32:34.977205Z\", \"created_time_dt\": \"2021-02-18T00:32:34.977205Z\", \"duration\": \"0:01:19\", \"iteration\": \"47\", \"goal\": \"AUC_weighted_max\", \"run_name\": \"SparseNormalizer, XGBoostClassifier\", \"run_properties\": \"<azureml.automl.runtime.shared.model_wrappers.SparseNormalizer object at 0x7f678d41a2e8\", \"primary_metric\": 0.78562774, \"best_metric\": 0.81668242}, {\"run_id\": \"AutoML_087c6ad3-ea12-4397-aec0-abb21503bc96_48\", \"run_number\": 53, \"metric\": null, \"status\": \"Canceled\", \"run_type\": \"azureml.scriptrun\", \"training_percent\": \"100\", \"start_time\": \"2021-02-18T00:33:24.194637Z\", \"end_time\": \"2021-02-18T00:34:04.676795Z\", \"created_time\": \"2021-02-18T00:33:12.132528Z\", \"created_time_dt\": \"2021-02-18T00:33:12.132528Z\", \"duration\": \"0:00:52\", \"iteration\": \"48\", \"goal\": null, \"run_name\": \"SparseNormalizer, LightGBM\", \"run_properties\": null}, {\"run_id\": \"AutoML_087c6ad3-ea12-4397-aec0-abb21503bc96_49\", \"run_number\": 54, \"metric\": null, \"status\": \"Canceled\", \"run_type\": \"azureml.scriptrun\", \"training_percent\": \"100\", \"start_time\": \"2021-02-18T00:33:53.878268Z\", \"end_time\": \"2021-02-18T00:33:58.150504Z\", \"created_time\": \"2021-02-18T00:33:53.878268Z\", \"created_time_dt\": \"2021-02-18T00:33:53.878268Z\", \"duration\": \"0:00:04\", \"iteration\": \"49\", \"goal\": null, \"run_name\": \"Canceled\", \"run_properties\": null}, {\"run_id\": \"AutoML_087c6ad3-ea12-4397-aec0-abb21503bc96_50\", \"run_number\": 55, \"metric\": null, \"status\": \"Completed\", \"run_type\": \"azureml.scriptrun\", \"training_percent\": \"100\", \"start_time\": \"2021-02-18T00:34:18.017305Z\", \"end_time\": \"2021-02-18T00:36:13.207633Z\", \"created_time\": \"2021-02-18T00:34:05.662261Z\", \"created_time_dt\": \"2021-02-18T00:34:05.662261Z\", \"duration\": \"0:02:07\", \"iteration\": \"50\", \"goal\": \"AUC_weighted_max\", \"run_name\": \"VotingEnsemble\", \"run_properties\": \"classification_labels=None,\\n                              estimators=[('31',\\n                                           Pipeline(memory=None,\\n                                                    steps=[('standardscalerwrapper',\\n                                                            <azureml.automl.runtime.shared.model_wrappers.StandardScalerWrapper object at 0x7fd6370c9278>\", \"primary_metric\": 0.83925058, \"best_metric\": 0.83925058}, {\"run_id\": \"AutoML_087c6ad3-ea12-4397-aec0-abb21503bc96_51\", \"run_number\": 56, \"metric\": null, \"status\": \"Completed\", \"run_type\": \"azureml.scriptrun\", \"training_percent\": \"100\", \"start_time\": \"2021-02-18T00:34:17.210621Z\", \"end_time\": \"2021-02-18T00:36:11.697153Z\", \"created_time\": \"2021-02-18T00:34:05.700325Z\", \"created_time_dt\": \"2021-02-18T00:34:05.700325Z\", \"duration\": \"0:02:05\", \"iteration\": \"51\", \"goal\": \"AUC_weighted_max\", \"run_name\": \"StackEnsemble\", \"run_properties\": \"base_learners=[('31',\\n                                        Pipeline(memory=None,\\n                                                 steps=[('standardscalerwrapper',\\n                                                         <azureml.automl.runtime.shared.model_wrappers.StandardScalerWrapper object at 0x7f0e6ec5d6a0>\", \"primary_metric\": 0.83513892, \"best_metric\": 0.83925058}], \"children_metrics\": {\"categories\": [0], \"series\": {\"AUC_micro\": [{\"categories\": [\"0\", \"1\", \"2\", \"3\", \"4\", \"5\", \"6\", \"7\", \"8\", \"9\", \"10\", \"11\", \"12\", \"13\", \"14\", \"15\", \"16\", \"17\", \"18\", \"19\", \"20\", \"21\", \"22\", \"23\", \"24\", \"25\", \"26\", \"27\", \"28\", \"29\", \"30\", \"31\", \"32\", \"33\", \"34\", \"35\", \"36\", \"37\", \"38\", \"39\", \"40\", \"41\", \"42\", \"43\", \"44\", \"45\", \"46\", \"47\", \"50\", \"51\"], \"mode\": \"markers\", \"name\": \"AUC_micro\", \"stepped\": false, \"type\": \"scatter\", \"data\": [0.9221551205516221, 0.9216900365588412, 0.9079943542042667, 0.875183951131473, 0.9081470683511501, 0.911136563468925, 0.9183604053866444, 0.9149127678282198, 0.9106413994169096, 0.8360081447545005, 0.7930306816604192, 0.8031329538618168, 0.8085797584339858, 0.9136332083853949, 0.9084941459577027, 0.9030982461011616, 0.8226826785135823, 0.872543847470961, 0.7808436299689943, 0.8744944236197881, 0.9170600212874265, 0.8747350640936645, 0.9223749363691056, 0.9237377944375027, 0.9241473460132351, 0.9172057938821787, 0.9215581470683512, 0.9258804201952889, 0.9145541209681152, 0.8727358970799204, 0.9094358831968161, 0.9251584987736592, 0.8683789161923272, 0.9066754592993661, 0.9235966495441714, 0.9213984913693368, 0.920644176037762, 0.9041047711601647, 0.9132745615252903, 0.8985399602017677, 0.9176107177564903, 0.9159308621407746, 0.9202253690591883, 0.9152598454347725, 0.9067078532093109, 0.91044703595724, 0.8722037114165394, 0.9171965384793372, 0.9331852468878707, 0.9302998750520617]}, {\"categories\": [\"0\", \"1\", \"2\", \"3\", \"4\", \"5\", \"6\", \"7\", \"8\", \"9\", \"10\", \"11\", \"12\", \"13\", \"14\", \"15\", \"16\", \"17\", \"18\", \"19\", \"20\", \"21\", \"22\", \"23\", \"24\", \"25\", \"26\", \"27\", \"28\", \"29\", \"30\", \"31\", \"32\", \"33\", \"34\", \"35\", \"36\", \"37\", \"38\", \"39\", \"40\", \"41\", \"42\", \"43\", \"44\", \"45\", \"46\", \"47\", \"50\", \"51\"], \"mode\": \"lines\", \"name\": \"AUC_micro_max\", \"stepped\": true, \"type\": \"scatter\", \"data\": [0.9221551205516221, 0.9221551205516221, 0.9221551205516221, 0.9221551205516221, 0.9221551205516221, 0.9221551205516221, 0.9221551205516221, 0.9221551205516221, 0.9221551205516221, 0.9221551205516221, 0.9221551205516221, 0.9221551205516221, 0.9221551205516221, 0.9221551205516221, 0.9221551205516221, 0.9221551205516221, 0.9221551205516221, 0.9221551205516221, 0.9221551205516221, 0.9221551205516221, 0.9221551205516221, 0.9221551205516221, 0.9223749363691056, 0.9237377944375027, 0.9241473460132351, 0.9241473460132351, 0.9241473460132351, 0.9258804201952889, 0.9258804201952889, 0.9258804201952889, 0.9258804201952889, 0.9258804201952889, 0.9258804201952889, 0.9258804201952889, 0.9258804201952889, 0.9258804201952889, 0.9258804201952889, 0.9258804201952889, 0.9258804201952889, 0.9258804201952889, 0.9258804201952889, 0.9258804201952889, 0.9258804201952889, 0.9258804201952889, 0.9258804201952889, 0.9258804201952889, 0.9258804201952889, 0.9258804201952889, 0.9331852468878707, 0.9331852468878707]}], \"average_precision_score_macro\": [{\"categories\": [\"0\", \"1\", \"2\", \"3\", \"4\", \"5\", \"6\", \"7\", \"8\", \"9\", \"10\", \"11\", \"12\", \"13\", \"14\", \"15\", \"16\", \"17\", \"18\", \"19\", \"20\", \"21\", \"22\", \"23\", \"24\", \"25\", \"26\", \"27\", \"28\", \"29\", \"30\", \"31\", \"32\", \"33\", \"34\", \"35\", \"36\", \"37\", \"38\", \"39\", \"40\", \"41\", \"42\", \"43\", \"44\", \"45\", \"46\", \"47\", \"50\", \"51\"], \"mode\": \"markers\", \"name\": \"average_precision_score_macro\", \"stepped\": false, \"type\": \"scatter\", \"data\": [0.7420786179357055, 0.7468963270272365, 0.6904541096690897, 0.7102448583887833, 0.6791725068510551, 0.6960857952883598, 0.714925091711293, 0.7066999760349559, 0.6925177899434141, 0.7174611885032054, 0.694402008380268, 0.6966517471406501, 0.7184191121772739, 0.7161846921319889, 0.6797860618556864, 0.6424609500132896, 0.6900731338666588, 0.7106568043727572, 0.6957045608852492, 0.7266081015913632, 0.7229424443478132, 0.7266105272726469, 0.7445870038640301, 0.750381898811973, 0.7480523452175036, 0.7213175756107029, 0.7383901846252199, 0.7485899580346317, 0.7173983370379065, 0.7219489504782303, 0.7023756955872434, 0.7597090786962633, 0.7265883256249601, 0.7334345067256697, 0.7426401887362026, 0.7453276372234914, 0.7384438993757422, 0.6841150508624825, 0.7272210046548708, 0.6631112104745306, 0.7371226053185339, 0.7239390761718715, 0.7393812922653533, 0.7292253973785469, 0.6814997172290093, 0.7046653319097151, 0.7229548279464652, 0.7108309247302016, 0.7840350391858847, 0.7807899654443122]}, {\"categories\": [\"0\", \"1\", \"2\", \"3\", \"4\", \"5\", \"6\", \"7\", \"8\", \"9\", \"10\", \"11\", \"12\", \"13\", \"14\", \"15\", \"16\", \"17\", \"18\", \"19\", \"20\", \"21\", \"22\", \"23\", \"24\", \"25\", \"26\", \"27\", \"28\", \"29\", \"30\", \"31\", \"32\", \"33\", \"34\", \"35\", \"36\", \"37\", \"38\", \"39\", \"40\", \"41\", \"42\", \"43\", \"44\", \"45\", \"46\", \"47\", \"50\", \"51\"], \"mode\": \"lines\", \"name\": \"average_precision_score_macro_max\", \"stepped\": true, \"type\": \"scatter\", \"data\": [0.7420786179357055, 0.7468963270272365, 0.7468963270272365, 0.7468963270272365, 0.7468963270272365, 0.7468963270272365, 0.7468963270272365, 0.7468963270272365, 0.7468963270272365, 0.7468963270272365, 0.7468963270272365, 0.7468963270272365, 0.7468963270272365, 0.7468963270272365, 0.7468963270272365, 0.7468963270272365, 0.7468963270272365, 0.7468963270272365, 0.7468963270272365, 0.7468963270272365, 0.7468963270272365, 0.7468963270272365, 0.7468963270272365, 0.750381898811973, 0.750381898811973, 0.750381898811973, 0.750381898811973, 0.750381898811973, 0.750381898811973, 0.750381898811973, 0.750381898811973, 0.7597090786962633, 0.7597090786962633, 0.7597090786962633, 0.7597090786962633, 0.7597090786962633, 0.7597090786962633, 0.7597090786962633, 0.7597090786962633, 0.7597090786962633, 0.7597090786962633, 0.7597090786962633, 0.7597090786962633, 0.7597090786962633, 0.7597090786962633, 0.7597090786962633, 0.7597090786962633, 0.7597090786962633, 0.7840350391858847, 0.7840350391858847]}], \"average_precision_score_weighted\": [{\"categories\": [\"0\", \"1\", \"2\", \"3\", \"4\", \"5\", \"6\", \"7\", \"8\", \"9\", \"10\", \"11\", \"12\", \"13\", \"14\", \"15\", \"16\", \"17\", \"18\", \"19\", \"20\", \"21\", \"22\", \"23\", \"24\", \"25\", \"26\", \"27\", \"28\", \"29\", \"30\", \"31\", \"32\", \"33\", \"34\", \"35\", \"36\", \"37\", \"38\", \"39\", \"40\", \"41\", \"42\", \"43\", \"44\", \"45\", \"46\", \"47\", \"50\", \"51\"], \"mode\": \"markers\", \"name\": \"average_precision_score_weighted\", \"stepped\": false, \"type\": \"scatter\", \"data\": [0.8745536715307383, 0.8765001844508739, 0.8521655591317989, 0.8604176601506024, 0.8495824624774915, 0.8572976567124154, 0.8672622900917192, 0.8622775273130234, 0.8555054634447682, 0.8652612288606554, 0.8546211888415656, 0.8575400407284764, 0.8650334284892907, 0.8646170540768818, 0.8528536427885767, 0.8291030442398306, 0.8549132866003551, 0.8661794556442224, 0.8559632490771829, 0.8707864298822525, 0.8663728151510712, 0.870995591817565, 0.8792901267827341, 0.8810886591944167, 0.8818914127899294, 0.8658721611313807, 0.8742102938020269, 0.8816698566898978, 0.863978464963259, 0.8701064323285614, 0.8551700735329438, 0.8839259217988914, 0.8721006902849322, 0.8759228225427252, 0.879602057346211, 0.8779637297557124, 0.8762014251145626, 0.8455592245059622, 0.8668524367255888, 0.8348160142919386, 0.8734931526293088, 0.8673266599447252, 0.8758253512540003, 0.869594167560439, 0.8480601254435728, 0.8569753771904061, 0.8685607768260658, 0.8661178457008946, 0.898145120270215, 0.8967345155438844]}, {\"categories\": [\"0\", \"1\", \"2\", \"3\", \"4\", \"5\", \"6\", \"7\", \"8\", \"9\", \"10\", \"11\", \"12\", \"13\", \"14\", \"15\", \"16\", \"17\", \"18\", \"19\", \"20\", \"21\", \"22\", \"23\", \"24\", \"25\", \"26\", \"27\", \"28\", \"29\", \"30\", \"31\", \"32\", \"33\", \"34\", \"35\", \"36\", \"37\", \"38\", \"39\", \"40\", \"41\", \"42\", \"43\", \"44\", \"45\", \"46\", \"47\", \"50\", \"51\"], \"mode\": \"lines\", \"name\": \"average_precision_score_weighted_max\", \"stepped\": true, \"type\": \"scatter\", \"data\": [0.8745536715307383, 0.8765001844508739, 0.8765001844508739, 0.8765001844508739, 0.8765001844508739, 0.8765001844508739, 0.8765001844508739, 0.8765001844508739, 0.8765001844508739, 0.8765001844508739, 0.8765001844508739, 0.8765001844508739, 0.8765001844508739, 0.8765001844508739, 0.8765001844508739, 0.8765001844508739, 0.8765001844508739, 0.8765001844508739, 0.8765001844508739, 0.8765001844508739, 0.8765001844508739, 0.8765001844508739, 0.8792901267827341, 0.8810886591944167, 0.8818914127899294, 0.8818914127899294, 0.8818914127899294, 0.8818914127899294, 0.8818914127899294, 0.8818914127899294, 0.8818914127899294, 0.8839259217988914, 0.8839259217988914, 0.8839259217988914, 0.8839259217988914, 0.8839259217988914, 0.8839259217988914, 0.8839259217988914, 0.8839259217988914, 0.8839259217988914, 0.8839259217988914, 0.8839259217988914, 0.8839259217988914, 0.8839259217988914, 0.8839259217988914, 0.8839259217988914, 0.8839259217988914, 0.8839259217988914, 0.898145120270215, 0.898145120270215]}], \"log_loss\": [{\"categories\": [\"0\", \"1\", \"2\", \"3\", \"4\", \"5\", \"6\", \"7\", \"8\", \"9\", \"10\", \"11\", \"12\", \"13\", \"14\", \"15\", \"16\", \"17\", \"18\", \"19\", \"20\", \"21\", \"22\", \"23\", \"24\", \"25\", \"26\", \"27\", \"28\", \"29\", \"30\", \"31\", \"32\", \"33\", \"34\", \"35\", \"36\", \"37\", \"38\", \"39\", \"40\", \"41\", \"42\", \"43\", \"44\", \"45\", \"46\", \"47\", \"50\", \"51\"], \"mode\": \"markers\", \"name\": \"log_loss\", \"stepped\": false, \"type\": \"scatter\", \"data\": [0.44203379102002494, 0.35148722993020576, 0.39088497804048616, 0.5543614903978827, 0.40423023720189966, 0.3779128481829731, 0.3652672318172561, 0.3875970142929118, 0.39699831493398235, 0.562132633791956, 0.601206889397074, 0.5829504979433148, 0.6168338020819636, 0.43652852663734826, 0.39659714800081175, 0.3958659249610774, 0.5423023568731481, 0.5599141108537037, 0.6338719056481187, 0.591915216335745, 0.36205815550826803, 0.5869030619048301, 0.3623894761857355, 0.3481320023178821, 0.3471190734248996, 0.3626544308322483, 0.36535913352570554, 0.40269246347999843, 0.3747644048986422, 0.7647412582552066, 0.3873713623248825, 0.34651191541721105, 0.7459019588005612, 0.6548747061518205, 0.471652962125059, 0.437619659427351, 0.41367951272440767, 0.40663545921844396, 0.3897472741951614, 0.3956225504645943, 0.3687257464721617, 0.36429566466745483, 0.3583687734793496, 0.38545595312362557, 0.3907537076514042, 0.3894239500012781, 0.6093813621540798, 0.3884452968774581, 0.3359384656890981, 0.40177029123554575]}, {\"categories\": [\"0\", \"1\", \"2\", \"3\", \"4\", \"5\", \"6\", \"7\", \"8\", \"9\", \"10\", \"11\", \"12\", \"13\", \"14\", \"15\", \"16\", \"17\", \"18\", \"19\", \"20\", \"21\", \"22\", \"23\", \"24\", \"25\", \"26\", \"27\", \"28\", \"29\", \"30\", \"31\", \"32\", \"33\", \"34\", \"35\", \"36\", \"37\", \"38\", \"39\", \"40\", \"41\", \"42\", \"43\", \"44\", \"45\", \"46\", \"47\", \"50\", \"51\"], \"mode\": \"lines\", \"name\": \"log_loss_min\", \"stepped\": true, \"type\": \"scatter\", \"data\": [0.44203379102002494, 0.35148722993020576, 0.35148722993020576, 0.35148722993020576, 0.35148722993020576, 0.35148722993020576, 0.35148722993020576, 0.35148722993020576, 0.35148722993020576, 0.35148722993020576, 0.35148722993020576, 0.35148722993020576, 0.35148722993020576, 0.35148722993020576, 0.35148722993020576, 0.35148722993020576, 0.35148722993020576, 0.35148722993020576, 0.35148722993020576, 0.35148722993020576, 0.35148722993020576, 0.35148722993020576, 0.35148722993020576, 0.3481320023178821, 0.3471190734248996, 0.3471190734248996, 0.3471190734248996, 0.3471190734248996, 0.3471190734248996, 0.3471190734248996, 0.3471190734248996, 0.34651191541721105, 0.34651191541721105, 0.34651191541721105, 0.34651191541721105, 0.34651191541721105, 0.34651191541721105, 0.34651191541721105, 0.34651191541721105, 0.34651191541721105, 0.34651191541721105, 0.34651191541721105, 0.34651191541721105, 0.34651191541721105, 0.34651191541721105, 0.34651191541721105, 0.34651191541721105, 0.34651191541721105, 0.3359384656890981, 0.3359384656890981]}], \"average_precision_score_micro\": [{\"categories\": [\"0\", \"1\", \"2\", \"3\", \"4\", \"5\", \"6\", \"7\", \"8\", \"9\", \"10\", \"11\", \"12\", \"13\", \"14\", \"15\", \"16\", \"17\", \"18\", \"19\", \"20\", \"21\", \"22\", \"23\", \"24\", \"25\", \"26\", \"27\", \"28\", \"29\", \"30\", \"31\", \"32\", \"33\", \"34\", \"35\", \"36\", \"37\", \"38\", \"39\", \"40\", \"41\", \"42\", \"43\", \"44\", \"45\", \"46\", \"47\", \"50\", \"51\"], \"mode\": \"markers\", \"name\": \"average_precision_score_micro\", \"stepped\": false, \"type\": \"scatter\", \"data\": [0.9110472266117606, 0.911859676726713, 0.8977436270540544, 0.8665401591055583, 0.8986725993264992, 0.9023336611841927, 0.9096169356082167, 0.9059815334665757, 0.9012687563559355, 0.8320259017296742, 0.788254721510331, 0.7985159031451379, 0.807636654472409, 0.904981649453798, 0.9019344928620757, 0.8841902801029573, 0.8138551187305361, 0.867091405120363, 0.7807961268721797, 0.8679448697837733, 0.9063532948163413, 0.8680732916670353, 0.9155186494090124, 0.9160283521266095, 0.9176834383248886, 0.9058659465706353, 0.9115516657859107, 0.9176084448372134, 0.9033122752305504, 0.8675975788839722, 0.8968454635529277, 0.9155507417189221, 0.8631559138484736, 0.9001481279272705, 0.91694497589485, 0.9127659946435139, 0.9120302286026567, 0.8907453186785249, 0.9039562497022311, 0.884912713429048, 0.9084413497967067, 0.9058838260005582, 0.9115384600144513, 0.9054098794884224, 0.8938215087713728, 0.8989204552925278, 0.8648098520384728, 0.909533169906981, 0.926740868035373, 0.9241045379613129]}, {\"categories\": [\"0\", \"1\", \"2\", \"3\", \"4\", \"5\", \"6\", \"7\", \"8\", \"9\", \"10\", \"11\", \"12\", \"13\", \"14\", \"15\", \"16\", \"17\", \"18\", \"19\", \"20\", \"21\", \"22\", \"23\", \"24\", \"25\", \"26\", \"27\", \"28\", \"29\", \"30\", \"31\", \"32\", \"33\", \"34\", \"35\", \"36\", \"37\", \"38\", \"39\", \"40\", \"41\", \"42\", \"43\", \"44\", \"45\", \"46\", \"47\", \"50\", \"51\"], \"mode\": \"lines\", \"name\": \"average_precision_score_micro_max\", \"stepped\": true, \"type\": \"scatter\", \"data\": [0.9110472266117606, 0.911859676726713, 0.911859676726713, 0.911859676726713, 0.911859676726713, 0.911859676726713, 0.911859676726713, 0.911859676726713, 0.911859676726713, 0.911859676726713, 0.911859676726713, 0.911859676726713, 0.911859676726713, 0.911859676726713, 0.911859676726713, 0.911859676726713, 0.911859676726713, 0.911859676726713, 0.911859676726713, 0.911859676726713, 0.911859676726713, 0.911859676726713, 0.9155186494090124, 0.9160283521266095, 0.9176834383248886, 0.9176834383248886, 0.9176834383248886, 0.9176834383248886, 0.9176834383248886, 0.9176834383248886, 0.9176834383248886, 0.9176834383248886, 0.9176834383248886, 0.9176834383248886, 0.9176834383248886, 0.9176834383248886, 0.9176834383248886, 0.9176834383248886, 0.9176834383248886, 0.9176834383248886, 0.9176834383248886, 0.9176834383248886, 0.9176834383248886, 0.9176834383248886, 0.9176834383248886, 0.9176834383248886, 0.9176834383248886, 0.9176834383248886, 0.926740868035373, 0.926740868035373]}], \"precision_score_micro\": [{\"categories\": [\"0\", \"1\", \"2\", \"3\", \"4\", \"5\", \"6\", \"7\", \"8\", \"9\", \"10\", \"11\", \"12\", \"13\", \"14\", \"15\", \"16\", \"17\", \"18\", \"19\", \"20\", \"21\", \"22\", \"23\", \"24\", \"25\", \"26\", \"27\", \"28\", \"29\", \"30\", \"31\", \"32\", \"33\", \"34\", \"35\", \"36\", \"37\", \"38\", \"39\", \"40\", \"41\", \"42\", \"43\", \"44\", \"45\", \"46\", \"47\", \"50\", \"51\"], \"mode\": \"markers\", \"name\": \"precision_score_micro\", \"stepped\": false, \"type\": \"scatter\", \"data\": [0.8619047619047618, 0.8666666666666666, 0.8387755102040817, 0.8061224489795918, 0.8387755102040817, 0.8442176870748298, 0.845578231292517, 0.8387755102040817, 0.8387755102040817, 0.7619047619047619, 0.7204081632653062, 0.726530612244898, 0.727891156462585, 0.8510204081632654, 0.8387755102040817, 0.8360544217687075, 0.7557823129251702, 0.7891156462585035, 0.7054421768707483, 0.789795918367347, 0.8605442176870749, 0.791156462585034, 0.8666666666666666, 0.8687074829931973, 0.8693877551020408, 0.858503401360544, 0.8619047619047618, 0.8591836734693878, 0.8435374149659864, 0.7843537414965988, 0.8421768707482993, 0.8659863945578232, 0.7850340136054422, 0.8319727891156463, 0.8666666666666666, 0.8598639455782313, 0.8625850340136054, 0.8476190476190476, 0.8510204081632654, 0.846938775510204, 0.8510204081632653, 0.8591836734693878, 0.8564625850340135, 0.8387755102040817, 0.8387755102040817, 0.8394557823129253, 0.792517006802721, 0.8571428571428571, 0.8734693877551021, 0.8496598639455784]}, {\"categories\": [\"0\", \"1\", \"2\", \"3\", \"4\", \"5\", \"6\", \"7\", \"8\", \"9\", \"10\", \"11\", \"12\", \"13\", \"14\", \"15\", \"16\", \"17\", \"18\", \"19\", \"20\", \"21\", \"22\", \"23\", \"24\", \"25\", \"26\", \"27\", \"28\", \"29\", \"30\", \"31\", \"32\", \"33\", \"34\", \"35\", \"36\", \"37\", \"38\", \"39\", \"40\", \"41\", \"42\", \"43\", \"44\", \"45\", \"46\", \"47\", \"50\", \"51\"], \"mode\": \"lines\", \"name\": \"precision_score_micro_max\", \"stepped\": true, \"type\": \"scatter\", \"data\": [0.8619047619047618, 0.8666666666666666, 0.8666666666666666, 0.8666666666666666, 0.8666666666666666, 0.8666666666666666, 0.8666666666666666, 0.8666666666666666, 0.8666666666666666, 0.8666666666666666, 0.8666666666666666, 0.8666666666666666, 0.8666666666666666, 0.8666666666666666, 0.8666666666666666, 0.8666666666666666, 0.8666666666666666, 0.8666666666666666, 0.8666666666666666, 0.8666666666666666, 0.8666666666666666, 0.8666666666666666, 0.8666666666666666, 0.8687074829931973, 0.8693877551020408, 0.8693877551020408, 0.8693877551020408, 0.8693877551020408, 0.8693877551020408, 0.8693877551020408, 0.8693877551020408, 0.8693877551020408, 0.8693877551020408, 0.8693877551020408, 0.8693877551020408, 0.8693877551020408, 0.8693877551020408, 0.8693877551020408, 0.8693877551020408, 0.8693877551020408, 0.8693877551020408, 0.8693877551020408, 0.8693877551020408, 0.8693877551020408, 0.8693877551020408, 0.8693877551020408, 0.8693877551020408, 0.8693877551020408, 0.8734693877551021, 0.8734693877551021]}], \"recall_score_micro\": [{\"categories\": [\"0\", \"1\", \"2\", \"3\", \"4\", \"5\", \"6\", \"7\", \"8\", \"9\", \"10\", \"11\", \"12\", \"13\", \"14\", \"15\", \"16\", \"17\", \"18\", \"19\", \"20\", \"21\", \"22\", \"23\", \"24\", \"25\", \"26\", \"27\", \"28\", \"29\", \"30\", \"31\", \"32\", \"33\", \"34\", \"35\", \"36\", \"37\", \"38\", \"39\", \"40\", \"41\", \"42\", \"43\", \"44\", \"45\", \"46\", \"47\", \"50\", \"51\"], \"mode\": \"markers\", \"name\": \"recall_score_micro\", \"stepped\": false, \"type\": \"scatter\", \"data\": [0.8619047619047618, 0.8666666666666666, 0.8387755102040817, 0.8061224489795918, 0.8387755102040817, 0.8442176870748298, 0.845578231292517, 0.8387755102040817, 0.8387755102040817, 0.7619047619047619, 0.7204081632653062, 0.726530612244898, 0.727891156462585, 0.8510204081632654, 0.8387755102040817, 0.8360544217687075, 0.7557823129251702, 0.7891156462585035, 0.7054421768707483, 0.789795918367347, 0.8605442176870749, 0.791156462585034, 0.8666666666666666, 0.8687074829931973, 0.8693877551020408, 0.858503401360544, 0.8619047619047618, 0.8591836734693878, 0.8435374149659864, 0.7843537414965988, 0.8421768707482993, 0.8659863945578232, 0.7850340136054422, 0.8319727891156463, 0.8666666666666666, 0.8598639455782313, 0.8625850340136054, 0.8476190476190476, 0.8510204081632654, 0.846938775510204, 0.8510204081632653, 0.8591836734693878, 0.8564625850340135, 0.8387755102040817, 0.8387755102040817, 0.8394557823129253, 0.792517006802721, 0.8571428571428571, 0.8734693877551021, 0.8496598639455784]}, {\"categories\": [\"0\", \"1\", \"2\", \"3\", \"4\", \"5\", \"6\", \"7\", \"8\", \"9\", \"10\", \"11\", \"12\", \"13\", \"14\", \"15\", \"16\", \"17\", \"18\", \"19\", \"20\", \"21\", \"22\", \"23\", \"24\", \"25\", \"26\", \"27\", \"28\", \"29\", \"30\", \"31\", \"32\", \"33\", \"34\", \"35\", \"36\", \"37\", \"38\", \"39\", \"40\", \"41\", \"42\", \"43\", \"44\", \"45\", \"46\", \"47\", \"50\", \"51\"], \"mode\": \"lines\", \"name\": \"recall_score_micro_max\", \"stepped\": true, \"type\": \"scatter\", \"data\": [0.8619047619047618, 0.8666666666666666, 0.8666666666666666, 0.8666666666666666, 0.8666666666666666, 0.8666666666666666, 0.8666666666666666, 0.8666666666666666, 0.8666666666666666, 0.8666666666666666, 0.8666666666666666, 0.8666666666666666, 0.8666666666666666, 0.8666666666666666, 0.8666666666666666, 0.8666666666666666, 0.8666666666666666, 0.8666666666666666, 0.8666666666666666, 0.8666666666666666, 0.8666666666666666, 0.8666666666666666, 0.8666666666666666, 0.8687074829931973, 0.8693877551020408, 0.8693877551020408, 0.8693877551020408, 0.8693877551020408, 0.8693877551020408, 0.8693877551020408, 0.8693877551020408, 0.8693877551020408, 0.8693877551020408, 0.8693877551020408, 0.8693877551020408, 0.8693877551020408, 0.8693877551020408, 0.8693877551020408, 0.8693877551020408, 0.8693877551020408, 0.8693877551020408, 0.8693877551020408, 0.8693877551020408, 0.8693877551020408, 0.8693877551020408, 0.8693877551020408, 0.8693877551020408, 0.8693877551020408, 0.8734693877551021, 0.8734693877551021]}], \"recall_score_macro\": [{\"categories\": [\"0\", \"1\", \"2\", \"3\", \"4\", \"5\", \"6\", \"7\", \"8\", \"9\", \"10\", \"11\", \"12\", \"13\", \"14\", \"15\", \"16\", \"17\", \"18\", \"19\", \"20\", \"21\", \"22\", \"23\", \"24\", \"25\", \"26\", \"27\", \"28\", \"29\", \"30\", \"31\", \"32\", \"33\", \"34\", \"35\", \"36\", \"37\", \"38\", \"39\", \"40\", \"41\", \"42\", \"43\", \"44\", \"45\", \"46\", \"47\", \"50\", \"51\"], \"mode\": \"markers\", \"name\": \"recall_score_macro\", \"stepped\": false, \"type\": \"scatter\", \"data\": [0.6325173812828442, 0.6225954127298282, 0.5, 0.7091423271849413, 0.5, 0.5228742834301704, 0.5459463749019485, 0.5, 0.5, 0.7156559963576988, 0.7138940936798932, 0.6994889504421528, 0.723531258382733, 0.5601851049291162, 0.5, 0.5787712134364404, 0.7152801660770558, 0.6930745950978247, 0.7112259357271632, 0.7127597091927981, 0.6108120630471372, 0.7149157015834132, 0.6546238067730036, 0.655246420757701, 0.6393827867695328, 0.6116692694121992, 0.6373353547191745, 0.6492289758555801, 0.5172163886933283, 0.704416989668523, 0.5108625730994152, 0.5990665177667871, 0.7211282443755115, 0.7004480426344675, 0.6518431490289532, 0.5873718100957936, 0.5931625536006622, 0.5343257232110573, 0.5477321559595953, 0.5361542446458779, 0.5436939965056762, 0.575094743483333, 0.5727662288919897, 0.5, 0.5, 0.5022222222222222, 0.7160029695020593, 0.6062788442861089, 0.6322729540329874, 0.530735065511881]}, {\"categories\": [\"0\", \"1\", \"2\", \"3\", \"4\", \"5\", \"6\", \"7\", \"8\", \"9\", \"10\", \"11\", \"12\", \"13\", \"14\", \"15\", \"16\", \"17\", \"18\", \"19\", \"20\", \"21\", \"22\", \"23\", \"24\", \"25\", \"26\", \"27\", \"28\", \"29\", \"30\", \"31\", \"32\", \"33\", \"34\", \"35\", \"36\", \"37\", \"38\", \"39\", \"40\", \"41\", \"42\", \"43\", \"44\", \"45\", \"46\", \"47\", \"50\", \"51\"], \"mode\": \"lines\", \"name\": \"recall_score_macro_max\", \"stepped\": true, \"type\": \"scatter\", \"data\": [0.6325173812828442, 0.6325173812828442, 0.6325173812828442, 0.7091423271849413, 0.7091423271849413, 0.7091423271849413, 0.7091423271849413, 0.7091423271849413, 0.7091423271849413, 0.7156559963576988, 0.7156559963576988, 0.7156559963576988, 0.723531258382733, 0.723531258382733, 0.723531258382733, 0.723531258382733, 0.723531258382733, 0.723531258382733, 0.723531258382733, 0.723531258382733, 0.723531258382733, 0.723531258382733, 0.723531258382733, 0.723531258382733, 0.723531258382733, 0.723531258382733, 0.723531258382733, 0.723531258382733, 0.723531258382733, 0.723531258382733, 0.723531258382733, 0.723531258382733, 0.723531258382733, 0.723531258382733, 0.723531258382733, 0.723531258382733, 0.723531258382733, 0.723531258382733, 0.723531258382733, 0.723531258382733, 0.723531258382733, 0.723531258382733, 0.723531258382733, 0.723531258382733, 0.723531258382733, 0.723531258382733, 0.723531258382733, 0.723531258382733, 0.723531258382733, 0.723531258382733]}], \"balanced_accuracy\": [{\"categories\": [\"0\", \"1\", \"2\", \"3\", \"4\", \"5\", \"6\", \"7\", \"8\", \"9\", \"10\", \"11\", \"12\", \"13\", \"14\", \"15\", \"16\", \"17\", \"18\", \"19\", \"20\", \"21\", \"22\", \"23\", \"24\", \"25\", \"26\", \"27\", \"28\", \"29\", \"30\", \"31\", \"32\", \"33\", \"34\", \"35\", \"36\", \"37\", \"38\", \"39\", \"40\", \"41\", \"42\", \"43\", \"44\", \"45\", \"46\", \"47\", \"50\", \"51\"], \"mode\": \"markers\", \"name\": \"balanced_accuracy\", \"stepped\": false, \"type\": \"scatter\", \"data\": [0.6325173812828442, 0.6225954127298282, 0.5, 0.7091423271849413, 0.5, 0.5228742834301704, 0.5459463749019485, 0.5, 0.5, 0.7156559963576988, 0.7138940936798932, 0.6994889504421528, 0.723531258382733, 0.5601851049291162, 0.5, 0.5787712134364404, 0.7152801660770558, 0.6930745950978247, 0.7112259357271632, 0.7127597091927981, 0.6108120630471372, 0.7149157015834132, 0.6546238067730036, 0.655246420757701, 0.6393827867695328, 0.6116692694121992, 0.6373353547191745, 0.6492289758555801, 0.5172163886933283, 0.704416989668523, 0.5108625730994152, 0.5990665177667871, 0.7211282443755115, 0.7004480426344675, 0.6518431490289532, 0.5873718100957936, 0.5931625536006622, 0.5343257232110573, 0.5477321559595953, 0.5361542446458779, 0.5436939965056762, 0.575094743483333, 0.5727662288919897, 0.5, 0.5, 0.5022222222222222, 0.7160029695020593, 0.6062788442861089, 0.6322729540329874, 0.530735065511881]}, {\"categories\": [\"0\", \"1\", \"2\", \"3\", \"4\", \"5\", \"6\", \"7\", \"8\", \"9\", \"10\", \"11\", \"12\", \"13\", \"14\", \"15\", \"16\", \"17\", \"18\", \"19\", \"20\", \"21\", \"22\", \"23\", \"24\", \"25\", \"26\", \"27\", \"28\", \"29\", \"30\", \"31\", \"32\", \"33\", \"34\", \"35\", \"36\", \"37\", \"38\", \"39\", \"40\", \"41\", \"42\", \"43\", \"44\", \"45\", \"46\", \"47\", \"50\", \"51\"], \"mode\": \"lines\", \"name\": \"balanced_accuracy_max\", \"stepped\": true, \"type\": \"scatter\", \"data\": [0.6325173812828442, 0.6325173812828442, 0.6325173812828442, 0.7091423271849413, 0.7091423271849413, 0.7091423271849413, 0.7091423271849413, 0.7091423271849413, 0.7091423271849413, 0.7156559963576988, 0.7156559963576988, 0.7156559963576988, 0.723531258382733, 0.723531258382733, 0.723531258382733, 0.723531258382733, 0.723531258382733, 0.723531258382733, 0.723531258382733, 0.723531258382733, 0.723531258382733, 0.723531258382733, 0.723531258382733, 0.723531258382733, 0.723531258382733, 0.723531258382733, 0.723531258382733, 0.723531258382733, 0.723531258382733, 0.723531258382733, 0.723531258382733, 0.723531258382733, 0.723531258382733, 0.723531258382733, 0.723531258382733, 0.723531258382733, 0.723531258382733, 0.723531258382733, 0.723531258382733, 0.723531258382733, 0.723531258382733, 0.723531258382733, 0.723531258382733, 0.723531258382733, 0.723531258382733, 0.723531258382733, 0.723531258382733, 0.723531258382733, 0.723531258382733, 0.723531258382733]}], \"f1_score_macro\": [{\"categories\": [\"0\", \"1\", \"2\", \"3\", \"4\", \"5\", \"6\", \"7\", \"8\", \"9\", \"10\", \"11\", \"12\", \"13\", \"14\", \"15\", \"16\", \"17\", \"18\", \"19\", \"20\", \"21\", \"22\", \"23\", \"24\", \"25\", \"26\", \"27\", \"28\", \"29\", \"30\", \"31\", \"32\", \"33\", \"34\", \"35\", \"36\", \"37\", \"38\", \"39\", \"40\", \"41\", \"42\", \"43\", \"44\", \"45\", \"46\", \"47\", \"50\", \"51\"], \"mode\": \"markers\", \"name\": \"f1_score_macro\", \"stepped\": false, \"type\": \"scatter\", \"data\": [0.6639171660976787, 0.6561804294506011, 0.45603541964656447, 0.6810938878956773, 0.45603541964656447, 0.5005974936559798, 0.5421363194090102, 0.45603541964656447, 0.45603541964656447, 0.6548223537521651, 0.6283177128534163, 0.6266317272430142, 0.6365260377255163, 0.5680562052841053, 0.45603541964656447, 0.5706314048213782, 0.6510028380537053, 0.6605794853888584, 0.6182486756911716, 0.6710261613136308, 0.6393633088692922, 0.6729612988190565, 0.6870684780056187, 0.6867065604635202, 0.6716808012218392, 0.6399630651157537, 0.666580840427897, 0.674687152779053, 0.49099795553279985, 0.6639594133682543, 0.4780148958148544, 0.6263613177419831, 0.6714833526897819, 0.693017237815717, 0.6841733969863986, 0.6094545952249162, 0.6185190393674793, 0.523941650129722, 0.5459660844361205, 0.5268542946046291, 0.5386395180420902, 0.5907667706815042, 0.5874641160990851, 0.45603541964656447, 0.45603541964656447, 0.4605524573703888, 0.6746262154929259, 0.6315914667766445, 0.6690866484277879, 0.5054996463106983]}, {\"categories\": [\"0\", \"1\", \"2\", \"3\", \"4\", \"5\", \"6\", \"7\", \"8\", \"9\", \"10\", \"11\", \"12\", \"13\", \"14\", \"15\", \"16\", \"17\", \"18\", \"19\", \"20\", \"21\", \"22\", \"23\", \"24\", \"25\", \"26\", \"27\", \"28\", \"29\", \"30\", \"31\", \"32\", \"33\", \"34\", \"35\", \"36\", \"37\", \"38\", \"39\", \"40\", \"41\", \"42\", \"43\", \"44\", \"45\", \"46\", \"47\", \"50\", \"51\"], \"mode\": \"lines\", \"name\": \"f1_score_macro_max\", \"stepped\": true, \"type\": \"scatter\", \"data\": [0.6639171660976787, 0.6639171660976787, 0.6639171660976787, 0.6810938878956773, 0.6810938878956773, 0.6810938878956773, 0.6810938878956773, 0.6810938878956773, 0.6810938878956773, 0.6810938878956773, 0.6810938878956773, 0.6810938878956773, 0.6810938878956773, 0.6810938878956773, 0.6810938878956773, 0.6810938878956773, 0.6810938878956773, 0.6810938878956773, 0.6810938878956773, 0.6810938878956773, 0.6810938878956773, 0.6810938878956773, 0.6870684780056187, 0.6870684780056187, 0.6870684780056187, 0.6870684780056187, 0.6870684780056187, 0.6870684780056187, 0.6870684780056187, 0.6870684780056187, 0.6870684780056187, 0.6870684780056187, 0.6870684780056187, 0.693017237815717, 0.693017237815717, 0.693017237815717, 0.693017237815717, 0.693017237815717, 0.693017237815717, 0.693017237815717, 0.693017237815717, 0.693017237815717, 0.693017237815717, 0.693017237815717, 0.693017237815717, 0.693017237815717, 0.693017237815717, 0.693017237815717, 0.693017237815717, 0.693017237815717]}], \"norm_macro_recall\": [{\"categories\": [\"0\", \"1\", \"2\", \"3\", \"4\", \"5\", \"6\", \"7\", \"8\", \"9\", \"10\", \"11\", \"12\", \"13\", \"14\", \"15\", \"16\", \"17\", \"18\", \"19\", \"20\", \"21\", \"22\", \"23\", \"24\", \"25\", \"26\", \"27\", \"28\", \"29\", \"30\", \"31\", \"32\", \"33\", \"34\", \"35\", \"36\", \"37\", \"38\", \"39\", \"40\", \"41\", \"42\", \"43\", \"44\", \"45\", \"46\", \"47\", \"50\", \"51\"], \"mode\": \"markers\", \"name\": \"norm_macro_recall\", \"stepped\": false, \"type\": \"scatter\", \"data\": [0.2650347625656882, 0.24519082545965648, 0.0, 0.4182846543698826, 0.0, 0.04574856686034088, 0.09189274980389697, 0.0, 0.0, 0.43131199271539755, 0.4277881873597863, 0.3989779008843054, 0.44706251676546593, 0.12037020985823235, 0.0, 0.15754242687288084, 0.4305603321541117, 0.3861491901956492, 0.4224518714543265, 0.4255194183855961, 0.22162412609427426, 0.42983140316682633, 0.3092476135460073, 0.31049284151540213, 0.2787655735390656, 0.22333853882439839, 0.27467070943834865, 0.2984579517111604, 0.03522017896145986, 0.4088339793370457, 0.021725146198830415, 0.19813303553357411, 0.44225648875102286, 0.40089608526893483, 0.3036862980579065, 0.1747436201915873, 0.1863251072013244, 0.06865144642211454, 0.09546431191919055, 0.07230848929175582, 0.08738799301135254, 0.15018948696666606, 0.14553245778397925, 0.0, 0.0, 0.004444444444444429, 0.43200593900411877, 0.21255768857221774, 0.2645459080659748, 0.061470131023761934]}, {\"categories\": [\"0\", \"1\", \"2\", \"3\", \"4\", \"5\", \"6\", \"7\", \"8\", \"9\", \"10\", \"11\", \"12\", \"13\", \"14\", \"15\", \"16\", \"17\", \"18\", \"19\", \"20\", \"21\", \"22\", \"23\", \"24\", \"25\", \"26\", \"27\", \"28\", \"29\", \"30\", \"31\", \"32\", \"33\", \"34\", \"35\", \"36\", \"37\", \"38\", \"39\", \"40\", \"41\", \"42\", \"43\", \"44\", \"45\", \"46\", \"47\", \"50\", \"51\"], \"mode\": \"lines\", \"name\": \"norm_macro_recall_max\", \"stepped\": true, \"type\": \"scatter\", \"data\": [0.2650347625656882, 0.2650347625656882, 0.2650347625656882, 0.4182846543698826, 0.4182846543698826, 0.4182846543698826, 0.4182846543698826, 0.4182846543698826, 0.4182846543698826, 0.43131199271539755, 0.43131199271539755, 0.43131199271539755, 0.44706251676546593, 0.44706251676546593, 0.44706251676546593, 0.44706251676546593, 0.44706251676546593, 0.44706251676546593, 0.44706251676546593, 0.44706251676546593, 0.44706251676546593, 0.44706251676546593, 0.44706251676546593, 0.44706251676546593, 0.44706251676546593, 0.44706251676546593, 0.44706251676546593, 0.44706251676546593, 0.44706251676546593, 0.44706251676546593, 0.44706251676546593, 0.44706251676546593, 0.44706251676546593, 0.44706251676546593, 0.44706251676546593, 0.44706251676546593, 0.44706251676546593, 0.44706251676546593, 0.44706251676546593, 0.44706251676546593, 0.44706251676546593, 0.44706251676546593, 0.44706251676546593, 0.44706251676546593, 0.44706251676546593, 0.44706251676546593, 0.44706251676546593, 0.44706251676546593, 0.44706251676546593, 0.44706251676546593]}], \"f1_score_weighted\": [{\"categories\": [\"0\", \"1\", \"2\", \"3\", \"4\", \"5\", \"6\", \"7\", \"8\", \"9\", \"10\", \"11\", \"12\", \"13\", \"14\", \"15\", \"16\", \"17\", \"18\", \"19\", \"20\", \"21\", \"22\", \"23\", \"24\", \"25\", \"26\", \"27\", \"28\", \"29\", \"30\", \"31\", \"32\", \"33\", \"34\", \"35\", \"36\", \"37\", \"38\", \"39\", \"40\", \"41\", \"42\", \"43\", \"44\", \"45\", \"46\", \"47\", \"50\", \"51\"], \"mode\": \"markers\", \"name\": \"f1_score_weighted\", \"stepped\": false, \"type\": \"scatter\", \"data\": [0.8384158202410876, 0.8377645988229133, 0.7654801811150342, 0.8165375191747419, 0.7654801811150342, 0.7801619555950237, 0.7936578322063852, 0.7654801811150342, 0.7654801811150342, 0.7859836399888847, 0.7543357098323918, 0.758015997557084, 0.7600769124042669, 0.8044212073700165, 0.7654801811150342, 0.7994472325115711, 0.7800438851418232, 0.8021757040455995, 0.7419639366529862, 0.8056950781405476, 0.8302764129401222, 0.8069667553367154, 0.8468323296124465, 0.8480655275325877, 0.8440323578420148, 0.8303137148187891, 0.8388038462047657, 0.8402452349330695, 0.7787994812531677, 0.8009050443251375, 0.7735118757058571, 0.8289233942082358, 0.8032115514542122, 0.8334377566916578, 0.8458667721909311, 0.8210019338052355, 0.8251971021365936, 0.7901236063450094, 0.796936412153489, 0.789620607914461, 0.7949129856628713, 0.814954635834981, 0.8130330810636389, 0.7654801811150342, 0.7654801811150342, 0.7670977720775725, 0.8081263641571708, 0.8260670147700633, 0.844667593052506, 0.7879797546103763]}, {\"categories\": [\"0\", \"1\", \"2\", \"3\", \"4\", \"5\", \"6\", \"7\", \"8\", \"9\", \"10\", \"11\", \"12\", \"13\", \"14\", \"15\", \"16\", \"17\", \"18\", \"19\", \"20\", \"21\", \"22\", \"23\", \"24\", \"25\", \"26\", \"27\", \"28\", \"29\", \"30\", \"31\", \"32\", \"33\", \"34\", \"35\", \"36\", \"37\", \"38\", \"39\", \"40\", \"41\", \"42\", \"43\", \"44\", \"45\", \"46\", \"47\", \"50\", \"51\"], \"mode\": \"lines\", \"name\": \"f1_score_weighted_max\", \"stepped\": true, \"type\": \"scatter\", \"data\": [0.8384158202410876, 0.8384158202410876, 0.8384158202410876, 0.8384158202410876, 0.8384158202410876, 0.8384158202410876, 0.8384158202410876, 0.8384158202410876, 0.8384158202410876, 0.8384158202410876, 0.8384158202410876, 0.8384158202410876, 0.8384158202410876, 0.8384158202410876, 0.8384158202410876, 0.8384158202410876, 0.8384158202410876, 0.8384158202410876, 0.8384158202410876, 0.8384158202410876, 0.8384158202410876, 0.8384158202410876, 0.8468323296124465, 0.8480655275325877, 0.8480655275325877, 0.8480655275325877, 0.8480655275325877, 0.8480655275325877, 0.8480655275325877, 0.8480655275325877, 0.8480655275325877, 0.8480655275325877, 0.8480655275325877, 0.8480655275325877, 0.8480655275325877, 0.8480655275325877, 0.8480655275325877, 0.8480655275325877, 0.8480655275325877, 0.8480655275325877, 0.8480655275325877, 0.8480655275325877, 0.8480655275325877, 0.8480655275325877, 0.8480655275325877, 0.8480655275325877, 0.8480655275325877, 0.8480655275325877, 0.8480655275325877, 0.8480655275325877]}], \"AUC_macro\": [{\"categories\": [\"0\", \"1\", \"2\", \"3\", \"4\", \"5\", \"6\", \"7\", \"8\", \"9\", \"10\", \"11\", \"12\", \"13\", \"14\", \"15\", \"16\", \"17\", \"18\", \"19\", \"20\", \"21\", \"22\", \"23\", \"24\", \"25\", \"26\", \"27\", \"28\", \"29\", \"30\", \"31\", \"32\", \"33\", \"34\", \"35\", \"36\", \"37\", \"38\", \"39\", \"40\", \"41\", \"42\", \"43\", \"44\", \"45\", \"46\", \"47\", \"50\", \"51\"], \"mode\": \"markers\", \"name\": \"AUC_macro\", \"stepped\": false, \"type\": \"scatter\", \"data\": [0.7989155856183239, 0.7960196173171672, 0.7624071537899412, 0.7747061714831684, 0.7627142253412517, 0.7715542761174572, 0.7989995434308808, 0.7879824157069085, 0.7707120246121887, 0.7803012343374055, 0.7669413075621175, 0.7667134508377794, 0.781377754045289, 0.7770112441752852, 0.7614875972401705, 0.7414023535826431, 0.7712563275344533, 0.7888833332314185, 0.7626067260272731, 0.7946066027567542, 0.7840786331470596, 0.7956415292347394, 0.8004953622236245, 0.8032453557472584, 0.8067398839506577, 0.7851394019170612, 0.7991444699302525, 0.8126280976732225, 0.7848341398455992, 0.793139889668288, 0.7668828028908624, 0.8166824221116006, 0.7952331827522109, 0.8010419758979925, 0.8056979585599953, 0.8012291798135063, 0.7995661703487235, 0.7428861797609421, 0.777191061588919, 0.7251050772923675, 0.7951143497687105, 0.783317214374024, 0.8008326731515998, 0.7878086805478967, 0.7554935054542925, 0.7696615590723039, 0.7920860781864304, 0.7856277418950298, 0.8392505843219285, 0.8351389187519269]}, {\"categories\": [\"0\", \"1\", \"2\", \"3\", \"4\", \"5\", \"6\", \"7\", \"8\", \"9\", \"10\", \"11\", \"12\", \"13\", \"14\", \"15\", \"16\", \"17\", \"18\", \"19\", \"20\", \"21\", \"22\", \"23\", \"24\", \"25\", \"26\", \"27\", \"28\", \"29\", \"30\", \"31\", \"32\", \"33\", \"34\", \"35\", \"36\", \"37\", \"38\", \"39\", \"40\", \"41\", \"42\", \"43\", \"44\", \"45\", \"46\", \"47\", \"50\", \"51\"], \"mode\": \"lines\", \"name\": \"AUC_macro_max\", \"stepped\": true, \"type\": \"scatter\", \"data\": [0.7989155856183239, 0.7989155856183239, 0.7989155856183239, 0.7989155856183239, 0.7989155856183239, 0.7989155856183239, 0.7989995434308808, 0.7989995434308808, 0.7989995434308808, 0.7989995434308808, 0.7989995434308808, 0.7989995434308808, 0.7989995434308808, 0.7989995434308808, 0.7989995434308808, 0.7989995434308808, 0.7989995434308808, 0.7989995434308808, 0.7989995434308808, 0.7989995434308808, 0.7989995434308808, 0.7989995434308808, 0.8004953622236245, 0.8032453557472584, 0.8067398839506577, 0.8067398839506577, 0.8067398839506577, 0.8126280976732225, 0.8126280976732225, 0.8126280976732225, 0.8126280976732225, 0.8166824221116006, 0.8166824221116006, 0.8166824221116006, 0.8166824221116006, 0.8166824221116006, 0.8166824221116006, 0.8166824221116006, 0.8166824221116006, 0.8166824221116006, 0.8166824221116006, 0.8166824221116006, 0.8166824221116006, 0.8166824221116006, 0.8166824221116006, 0.8166824221116006, 0.8166824221116006, 0.8166824221116006, 0.8392505843219285, 0.8392505843219285]}], \"AUC_weighted\": [{\"categories\": [\"0\", \"1\", \"2\", \"3\", \"4\", \"5\", \"6\", \"7\", \"8\", \"9\", \"10\", \"11\", \"12\", \"13\", \"14\", \"15\", \"16\", \"17\", \"18\", \"19\", \"20\", \"21\", \"22\", \"23\", \"24\", \"25\", \"26\", \"27\", \"28\", \"29\", \"30\", \"31\", \"32\", \"33\", \"34\", \"35\", \"36\", \"37\", \"38\", \"39\", \"40\", \"41\", \"42\", \"43\", \"44\", \"45\", \"46\", \"47\", \"50\", \"51\"], \"mode\": \"markers\", \"name\": \"AUC_weighted\", \"stepped\": false, \"type\": \"scatter\", \"data\": [0.7989155856183239, 0.7960196173171672, 0.7624071537899412, 0.7747061714831684, 0.7627142253412517, 0.7715542761174573, 0.7989995434308808, 0.7879824157069085, 0.7707120246121888, 0.7803012343374055, 0.7669413075621175, 0.7667134508377794, 0.7813777540452889, 0.7770112441752852, 0.7614875972401705, 0.7414023535826433, 0.7712563275344533, 0.7888833332314186, 0.7626067260272731, 0.7946066027567543, 0.7840786331470596, 0.7956415292347394, 0.8004953622236245, 0.8032453557472584, 0.8067398839506577, 0.7851394019170613, 0.7991444699302525, 0.8126280976732225, 0.7848341398455992, 0.7931398896682881, 0.7668828028908624, 0.8166824221116006, 0.7952331827522109, 0.8010419758979926, 0.8056979585599953, 0.8012291798135063, 0.7995661703487235, 0.7428861797609421, 0.777191061588919, 0.7251050772923675, 0.7951143497687104, 0.783317214374024, 0.8008326731516, 0.7878086805478965, 0.7554935054542924, 0.7696615590723039, 0.7920860781864304, 0.7856277418950298, 0.8392505843219285, 0.8351389187519269]}, {\"categories\": [\"0\", \"1\", \"2\", \"3\", \"4\", \"5\", \"6\", \"7\", \"8\", \"9\", \"10\", \"11\", \"12\", \"13\", \"14\", \"15\", \"16\", \"17\", \"18\", \"19\", \"20\", \"21\", \"22\", \"23\", \"24\", \"25\", \"26\", \"27\", \"28\", \"29\", \"30\", \"31\", \"32\", \"33\", \"34\", \"35\", \"36\", \"37\", \"38\", \"39\", \"40\", \"41\", \"42\", \"43\", \"44\", \"45\", \"46\", \"47\", \"50\", \"51\"], \"mode\": \"lines\", \"name\": \"AUC_weighted_max\", \"stepped\": true, \"type\": \"scatter\", \"data\": [0.7989155856183239, 0.7989155856183239, 0.7989155856183239, 0.7989155856183239, 0.7989155856183239, 0.7989155856183239, 0.7989995434308808, 0.7989995434308808, 0.7989995434308808, 0.7989995434308808, 0.7989995434308808, 0.7989995434308808, 0.7989995434308808, 0.7989995434308808, 0.7989995434308808, 0.7989995434308808, 0.7989995434308808, 0.7989995434308808, 0.7989995434308808, 0.7989995434308808, 0.7989995434308808, 0.7989995434308808, 0.8004953622236245, 0.8032453557472584, 0.8067398839506577, 0.8067398839506577, 0.8067398839506577, 0.8126280976732225, 0.8126280976732225, 0.8126280976732225, 0.8126280976732225, 0.8166824221116006, 0.8166824221116006, 0.8166824221116006, 0.8166824221116006, 0.8166824221116006, 0.8166824221116006, 0.8166824221116006, 0.8166824221116006, 0.8166824221116006, 0.8166824221116006, 0.8166824221116006, 0.8166824221116006, 0.8166824221116006, 0.8166824221116006, 0.8166824221116006, 0.8166824221116006, 0.8166824221116006, 0.8392505843219285, 0.8392505843219285]}], \"accuracy\": [{\"categories\": [\"0\", \"1\", \"2\", \"3\", \"4\", \"5\", \"6\", \"7\", \"8\", \"9\", \"10\", \"11\", \"12\", \"13\", \"14\", \"15\", \"16\", \"17\", \"18\", \"19\", \"20\", \"21\", \"22\", \"23\", \"24\", \"25\", \"26\", \"27\", \"28\", \"29\", \"30\", \"31\", \"32\", \"33\", \"34\", \"35\", \"36\", \"37\", \"38\", \"39\", \"40\", \"41\", \"42\", \"43\", \"44\", \"45\", \"46\", \"47\", \"50\", \"51\"], \"mode\": \"markers\", \"name\": \"accuracy\", \"stepped\": false, \"type\": \"scatter\", \"data\": [0.8619047619047618, 0.8666666666666666, 0.8387755102040817, 0.8061224489795918, 0.8387755102040817, 0.8442176870748298, 0.845578231292517, 0.8387755102040817, 0.8387755102040817, 0.7619047619047619, 0.7204081632653062, 0.726530612244898, 0.727891156462585, 0.8510204081632654, 0.8387755102040817, 0.8360544217687075, 0.7557823129251702, 0.7891156462585035, 0.7054421768707483, 0.789795918367347, 0.8605442176870749, 0.791156462585034, 0.8666666666666666, 0.8687074829931973, 0.8693877551020408, 0.858503401360544, 0.8619047619047618, 0.8591836734693878, 0.8435374149659864, 0.7843537414965988, 0.8421768707482993, 0.8659863945578232, 0.7850340136054422, 0.8319727891156463, 0.8666666666666666, 0.8598639455782313, 0.8625850340136054, 0.8476190476190476, 0.8510204081632654, 0.846938775510204, 0.8510204081632653, 0.8591836734693878, 0.8564625850340135, 0.8387755102040817, 0.8387755102040817, 0.8394557823129253, 0.792517006802721, 0.8571428571428571, 0.8734693877551021, 0.8496598639455784]}, {\"categories\": [\"0\", \"1\", \"2\", \"3\", \"4\", \"5\", \"6\", \"7\", \"8\", \"9\", \"10\", \"11\", \"12\", \"13\", \"14\", \"15\", \"16\", \"17\", \"18\", \"19\", \"20\", \"21\", \"22\", \"23\", \"24\", \"25\", \"26\", \"27\", \"28\", \"29\", \"30\", \"31\", \"32\", \"33\", \"34\", \"35\", \"36\", \"37\", \"38\", \"39\", \"40\", \"41\", \"42\", \"43\", \"44\", \"45\", \"46\", \"47\", \"50\", \"51\"], \"mode\": \"lines\", \"name\": \"accuracy_max\", \"stepped\": true, \"type\": \"scatter\", \"data\": [0.8619047619047618, 0.8666666666666666, 0.8666666666666666, 0.8666666666666666, 0.8666666666666666, 0.8666666666666666, 0.8666666666666666, 0.8666666666666666, 0.8666666666666666, 0.8666666666666666, 0.8666666666666666, 0.8666666666666666, 0.8666666666666666, 0.8666666666666666, 0.8666666666666666, 0.8666666666666666, 0.8666666666666666, 0.8666666666666666, 0.8666666666666666, 0.8666666666666666, 0.8666666666666666, 0.8666666666666666, 0.8666666666666666, 0.8687074829931973, 0.8693877551020408, 0.8693877551020408, 0.8693877551020408, 0.8693877551020408, 0.8693877551020408, 0.8693877551020408, 0.8693877551020408, 0.8693877551020408, 0.8693877551020408, 0.8693877551020408, 0.8693877551020408, 0.8693877551020408, 0.8693877551020408, 0.8693877551020408, 0.8693877551020408, 0.8693877551020408, 0.8693877551020408, 0.8693877551020408, 0.8693877551020408, 0.8693877551020408, 0.8693877551020408, 0.8693877551020408, 0.8693877551020408, 0.8693877551020408, 0.8734693877551021, 0.8734693877551021]}], \"precision_score_macro\": [{\"categories\": [\"0\", \"1\", \"2\", \"3\", \"4\", \"5\", \"6\", \"7\", \"8\", \"9\", \"10\", \"11\", \"12\", \"13\", \"14\", \"15\", \"16\", \"17\", \"18\", \"19\", \"20\", \"21\", \"22\", \"23\", \"24\", \"25\", \"26\", \"27\", \"28\", \"29\", \"30\", \"31\", \"32\", \"33\", \"34\", \"35\", \"36\", \"37\", \"38\", \"39\", \"40\", \"41\", \"42\", \"43\", \"44\", \"45\", \"46\", \"47\", \"50\", \"51\"], \"mode\": \"markers\", \"name\": \"precision_score_macro\", \"stepped\": false, \"type\": \"scatter\", \"data\": [0.7773201030864005, 0.8241139956479303, 0.41938775510204085, 0.6663278837859424, 0.41938775510204085, 0.7522324633859423, 0.7951071516860948, 0.41938775510204085, 0.41938775510204085, 0.6414077498656308, 0.6271954712353623, 0.6223418465949835, 0.6318572118753737, 0.8123003696626828, 0.41938775510204085, 0.5747574634751562, 0.6387672029026074, 0.6462493385210097, 0.6229363975733848, 0.6571382539159538, 0.7927527464026651, 0.6587642639088596, 0.7884879640710547, 0.792054808238413, 0.8183921177109141, 0.7699731504237194, 0.7761153360271709, 0.7547791353383457, 0.7718451550217983, 0.6507609538508614, 0.8208209970602857, 0.858696846066907, 0.6593707837117825, 0.6931941498749287, 0.7858212083168448, 0.8306114246872702, 0.8380977648082911, 0.8457197536711017, 0.8381021756021756, 0.812401310893442, 0.8941571235780896, 0.8477092237134116, 0.8350081635562459, 0.41938775510204085, 0.41938775510204085, 0.519676812704604, 0.660202277517147, 0.7648222186736595, 0.8737484647968519, 0.5145419335617458]}, {\"categories\": [\"0\", \"1\", \"2\", \"3\", \"4\", \"5\", \"6\", \"7\", \"8\", \"9\", \"10\", \"11\", \"12\", \"13\", \"14\", \"15\", \"16\", \"17\", \"18\", \"19\", \"20\", \"21\", \"22\", \"23\", \"24\", \"25\", \"26\", \"27\", \"28\", \"29\", \"30\", \"31\", \"32\", \"33\", \"34\", \"35\", \"36\", \"37\", \"38\", \"39\", \"40\", \"41\", \"42\", \"43\", \"44\", \"45\", \"46\", \"47\", \"50\", \"51\"], \"mode\": \"lines\", \"name\": \"precision_score_macro_max\", \"stepped\": true, \"type\": \"scatter\", \"data\": [0.7773201030864005, 0.8241139956479303, 0.8241139956479303, 0.8241139956479303, 0.8241139956479303, 0.8241139956479303, 0.8241139956479303, 0.8241139956479303, 0.8241139956479303, 0.8241139956479303, 0.8241139956479303, 0.8241139956479303, 0.8241139956479303, 0.8241139956479303, 0.8241139956479303, 0.8241139956479303, 0.8241139956479303, 0.8241139956479303, 0.8241139956479303, 0.8241139956479303, 0.8241139956479303, 0.8241139956479303, 0.8241139956479303, 0.8241139956479303, 0.8241139956479303, 0.8241139956479303, 0.8241139956479303, 0.8241139956479303, 0.8241139956479303, 0.8241139956479303, 0.8241139956479303, 0.858696846066907, 0.858696846066907, 0.858696846066907, 0.858696846066907, 0.858696846066907, 0.858696846066907, 0.858696846066907, 0.858696846066907, 0.858696846066907, 0.8941571235780896, 0.8941571235780896, 0.8941571235780896, 0.8941571235780896, 0.8941571235780896, 0.8941571235780896, 0.8941571235780896, 0.8941571235780896, 0.8941571235780896, 0.8941571235780896]}], \"weighted_accuracy\": [{\"categories\": [\"0\", \"1\", \"2\", \"3\", \"4\", \"5\", \"6\", \"7\", \"8\", \"9\", \"10\", \"11\", \"12\", \"13\", \"14\", \"15\", \"16\", \"17\", \"18\", \"19\", \"20\", \"21\", \"22\", \"23\", \"24\", \"25\", \"26\", \"27\", \"28\", \"29\", \"30\", \"31\", \"32\", \"33\", \"34\", \"35\", \"36\", \"37\", \"38\", \"39\", \"40\", \"41\", \"42\", \"43\", \"44\", \"45\", \"46\", \"47\", \"50\", \"51\"], \"mode\": \"markers\", \"name\": \"weighted_accuracy\", \"stepped\": false, \"type\": \"scatter\", \"data\": [0.9459741060945535, 0.9563343611257199, 0.962650571738967, 0.8425030314033413, 0.962650571738967, 0.9624334150922376, 0.9558741931333763, 0.962650571738967, 0.962650571738967, 0.778449526223276, 0.7233404752344605, 0.7358507990386539, 0.7300135737380793, 0.957860503068931, 0.962650571738967, 0.9295978837649027, 0.7699318829312206, 0.8253815756799385, 0.705429707781265, 0.8192377264337128, 0.9525640783367324, 0.8202073965010068, 0.9449919253656137, 0.9474854160870623, 0.9539342490417285, 0.9484909801390662, 0.944560459035725, 0.9365016072660712, 0.9626230838019293, 0.8147976542048664, 0.9634093278996548, 0.9638427986014586, 0.8102388722058051, 0.8812438289357415, 0.9462301370738657, 0.959914782828986, 0.9611727238926271, 0.9621764633985899, 0.9626878802417644, 0.961200035006782, 0.9639999302426066, 0.9635263583125511, 0.9604010116435407, 0.962650571738967, 0.962650571738967, 0.96279113963326, 0.8217460341504637, 0.9497550826705569, 0.9623379654985997, 0.9645085945603343]}, {\"categories\": [\"0\", \"1\", \"2\", \"3\", \"4\", \"5\", \"6\", \"7\", \"8\", \"9\", \"10\", \"11\", \"12\", \"13\", \"14\", \"15\", \"16\", \"17\", \"18\", \"19\", \"20\", \"21\", \"22\", \"23\", \"24\", \"25\", \"26\", \"27\", \"28\", \"29\", \"30\", \"31\", \"32\", \"33\", \"34\", \"35\", \"36\", \"37\", \"38\", \"39\", \"40\", \"41\", \"42\", \"43\", \"44\", \"45\", \"46\", \"47\", \"50\", \"51\"], \"mode\": \"lines\", \"name\": \"weighted_accuracy_max\", \"stepped\": true, \"type\": \"scatter\", \"data\": [0.9459741060945535, 0.9563343611257199, 0.962650571738967, 0.962650571738967, 0.962650571738967, 0.962650571738967, 0.962650571738967, 0.962650571738967, 0.962650571738967, 0.962650571738967, 0.962650571738967, 0.962650571738967, 0.962650571738967, 0.962650571738967, 0.962650571738967, 0.962650571738967, 0.962650571738967, 0.962650571738967, 0.962650571738967, 0.962650571738967, 0.962650571738967, 0.962650571738967, 0.962650571738967, 0.962650571738967, 0.962650571738967, 0.962650571738967, 0.962650571738967, 0.962650571738967, 0.962650571738967, 0.962650571738967, 0.9634093278996548, 0.9638427986014586, 0.9638427986014586, 0.9638427986014586, 0.9638427986014586, 0.9638427986014586, 0.9638427986014586, 0.9638427986014586, 0.9638427986014586, 0.9638427986014586, 0.9639999302426066, 0.9639999302426066, 0.9639999302426066, 0.9639999302426066, 0.9639999302426066, 0.9639999302426066, 0.9639999302426066, 0.9639999302426066, 0.9639999302426066, 0.9645085945603343]}], \"f1_score_micro\": [{\"categories\": [\"0\", \"1\", \"2\", \"3\", \"4\", \"5\", \"6\", \"7\", \"8\", \"9\", \"10\", \"11\", \"12\", \"13\", \"14\", \"15\", \"16\", \"17\", \"18\", \"19\", \"20\", \"21\", \"22\", \"23\", \"24\", \"25\", \"26\", \"27\", \"28\", \"29\", \"30\", \"31\", \"32\", \"33\", \"34\", \"35\", \"36\", \"37\", \"38\", \"39\", \"40\", \"41\", \"42\", \"43\", \"44\", \"45\", \"46\", \"47\", \"50\", \"51\"], \"mode\": \"markers\", \"name\": \"f1_score_micro\", \"stepped\": false, \"type\": \"scatter\", \"data\": [0.8619047619047618, 0.8666666666666666, 0.8387755102040817, 0.8061224489795918, 0.8387755102040817, 0.8442176870748298, 0.845578231292517, 0.8387755102040817, 0.8387755102040817, 0.7619047619047619, 0.7204081632653062, 0.726530612244898, 0.727891156462585, 0.8510204081632654, 0.8387755102040817, 0.8360544217687076, 0.7557823129251702, 0.7891156462585035, 0.7054421768707483, 0.789795918367347, 0.8605442176870749, 0.791156462585034, 0.8666666666666666, 0.8687074829931973, 0.8693877551020407, 0.858503401360544, 0.8619047619047618, 0.8591836734693878, 0.8435374149659864, 0.7843537414965986, 0.8421768707482993, 0.865986394557823, 0.7850340136054422, 0.8319727891156463, 0.8666666666666666, 0.8598639455782313, 0.8625850340136054, 0.8476190476190476, 0.8510204081632654, 0.846938775510204, 0.8510204081632653, 0.8591836734693878, 0.8564625850340135, 0.8387755102040817, 0.8387755102040817, 0.8394557823129253, 0.792517006802721, 0.8571428571428571, 0.8734693877551021, 0.8496598639455784]}, {\"categories\": [\"0\", \"1\", \"2\", \"3\", \"4\", \"5\", \"6\", \"7\", \"8\", \"9\", \"10\", \"11\", \"12\", \"13\", \"14\", \"15\", \"16\", \"17\", \"18\", \"19\", \"20\", \"21\", \"22\", \"23\", \"24\", \"25\", \"26\", \"27\", \"28\", \"29\", \"30\", \"31\", \"32\", \"33\", \"34\", \"35\", \"36\", \"37\", \"38\", \"39\", \"40\", \"41\", \"42\", \"43\", \"44\", \"45\", \"46\", \"47\", \"50\", \"51\"], \"mode\": \"lines\", \"name\": \"f1_score_micro_max\", \"stepped\": true, \"type\": \"scatter\", \"data\": [0.8619047619047618, 0.8666666666666666, 0.8666666666666666, 0.8666666666666666, 0.8666666666666666, 0.8666666666666666, 0.8666666666666666, 0.8666666666666666, 0.8666666666666666, 0.8666666666666666, 0.8666666666666666, 0.8666666666666666, 0.8666666666666666, 0.8666666666666666, 0.8666666666666666, 0.8666666666666666, 0.8666666666666666, 0.8666666666666666, 0.8666666666666666, 0.8666666666666666, 0.8666666666666666, 0.8666666666666666, 0.8666666666666666, 0.8687074829931973, 0.8693877551020407, 0.8693877551020407, 0.8693877551020407, 0.8693877551020407, 0.8693877551020407, 0.8693877551020407, 0.8693877551020407, 0.8693877551020407, 0.8693877551020407, 0.8693877551020407, 0.8693877551020407, 0.8693877551020407, 0.8693877551020407, 0.8693877551020407, 0.8693877551020407, 0.8693877551020407, 0.8693877551020407, 0.8693877551020407, 0.8693877551020407, 0.8693877551020407, 0.8693877551020407, 0.8693877551020407, 0.8693877551020407, 0.8693877551020407, 0.8734693877551021, 0.8734693877551021]}], \"matthews_correlation\": [{\"categories\": [\"0\", \"1\", \"2\", \"3\", \"4\", \"5\", \"6\", \"7\", \"8\", \"9\", \"10\", \"11\", \"12\", \"13\", \"14\", \"15\", \"16\", \"17\", \"18\", \"19\", \"20\", \"21\", \"22\", \"23\", \"24\", \"25\", \"26\", \"27\", \"28\", \"29\", \"30\", \"31\", \"32\", \"33\", \"34\", \"35\", \"36\", \"37\", \"38\", \"39\", \"40\", \"41\", \"42\", \"43\", \"44\", \"45\", \"46\", \"47\", \"50\", \"51\"], \"mode\": \"markers\", \"name\": \"matthews_correlation\", \"stepped\": false, \"type\": \"scatter\", \"data\": [0.3818562587798965, 0.3965238070034194, 0.0, 0.37241169319906403, 0.0, 0.14963033950217924, 0.21898909487058105, 0.0, 0.0, 0.34878266080972936, 0.3290508397394952, 0.31197111553640516, 0.34282569886517306, 0.2709479381657536, 0.0, 0.18333069961629617, 0.3454059308404549, 0.3354243699764833, 0.3212361507952003, 0.3642951008518608, 0.35857344551437925, 0.36807257594531156, 0.41972706936918336, 0.42209510781238074, 0.41505741492199066, 0.34626377303842687, 0.38578927200254504, 0.38628574482357536, 0.13174128947051955, 0.3498560140190018, 0.12100560875761246, 0.3750288709965182, 0.37331518483343296, 0.39177781459345457, 0.4147966099593973, 0.3380886135815235, 0.3539377702520793, 0.21526883685670803, 0.2501439673416747, 0.21023947944091798, 0.25105085328793086, 0.3212785663123242, 0.30892859860821437, 0.0, 0.0, 0.02748461147682198, 0.37068694836348903, 0.3342995953822917, 0.43926041383885106, 0.09651292111419524]}, {\"categories\": [\"0\", \"1\", \"2\", \"3\", \"4\", \"5\", \"6\", \"7\", \"8\", \"9\", \"10\", \"11\", \"12\", \"13\", \"14\", \"15\", \"16\", \"17\", \"18\", \"19\", \"20\", \"21\", \"22\", \"23\", \"24\", \"25\", \"26\", \"27\", \"28\", \"29\", \"30\", \"31\", \"32\", \"33\", \"34\", \"35\", \"36\", \"37\", \"38\", \"39\", \"40\", \"41\", \"42\", \"43\", \"44\", \"45\", \"46\", \"47\", \"50\", \"51\"], \"mode\": \"lines\", \"name\": \"matthews_correlation_max\", \"stepped\": true, \"type\": \"scatter\", \"data\": [0.3818562587798965, 0.3965238070034194, 0.3965238070034194, 0.3965238070034194, 0.3965238070034194, 0.3965238070034194, 0.3965238070034194, 0.3965238070034194, 0.3965238070034194, 0.3965238070034194, 0.3965238070034194, 0.3965238070034194, 0.3965238070034194, 0.3965238070034194, 0.3965238070034194, 0.3965238070034194, 0.3965238070034194, 0.3965238070034194, 0.3965238070034194, 0.3965238070034194, 0.3965238070034194, 0.3965238070034194, 0.41972706936918336, 0.42209510781238074, 0.42209510781238074, 0.42209510781238074, 0.42209510781238074, 0.42209510781238074, 0.42209510781238074, 0.42209510781238074, 0.42209510781238074, 0.42209510781238074, 0.42209510781238074, 0.42209510781238074, 0.42209510781238074, 0.42209510781238074, 0.42209510781238074, 0.42209510781238074, 0.42209510781238074, 0.42209510781238074, 0.42209510781238074, 0.42209510781238074, 0.42209510781238074, 0.42209510781238074, 0.42209510781238074, 0.42209510781238074, 0.42209510781238074, 0.42209510781238074, 0.43926041383885106, 0.43926041383885106]}], \"recall_score_weighted\": [{\"categories\": [\"0\", \"1\", \"2\", \"3\", \"4\", \"5\", \"6\", \"7\", \"8\", \"9\", \"10\", \"11\", \"12\", \"13\", \"14\", \"15\", \"16\", \"17\", \"18\", \"19\", \"20\", \"21\", \"22\", \"23\", \"24\", \"25\", \"26\", \"27\", \"28\", \"29\", \"30\", \"31\", \"32\", \"33\", \"34\", \"35\", \"36\", \"37\", \"38\", \"39\", \"40\", \"41\", \"42\", \"43\", \"44\", \"45\", \"46\", \"47\", \"50\", \"51\"], \"mode\": \"markers\", \"name\": \"recall_score_weighted\", \"stepped\": false, \"type\": \"scatter\", \"data\": [0.8619047619047618, 0.8666666666666666, 0.8387755102040817, 0.8061224489795918, 0.8387755102040817, 0.8442176870748298, 0.845578231292517, 0.8387755102040817, 0.8387755102040817, 0.7619047619047619, 0.7204081632653062, 0.726530612244898, 0.727891156462585, 0.8510204081632654, 0.8387755102040817, 0.8360544217687075, 0.7557823129251702, 0.7891156462585035, 0.7054421768707483, 0.789795918367347, 0.8605442176870749, 0.791156462585034, 0.8666666666666666, 0.8687074829931973, 0.8693877551020408, 0.858503401360544, 0.8619047619047618, 0.8591836734693878, 0.8435374149659864, 0.7843537414965988, 0.8421768707482993, 0.8659863945578232, 0.7850340136054422, 0.8319727891156463, 0.8666666666666666, 0.8598639455782313, 0.8625850340136054, 0.8476190476190476, 0.8510204081632654, 0.846938775510204, 0.8510204081632653, 0.8591836734693878, 0.8564625850340135, 0.8387755102040817, 0.8387755102040817, 0.8394557823129253, 0.792517006802721, 0.8571428571428571, 0.8734693877551021, 0.8496598639455784]}, {\"categories\": [\"0\", \"1\", \"2\", \"3\", \"4\", \"5\", \"6\", \"7\", \"8\", \"9\", \"10\", \"11\", \"12\", \"13\", \"14\", \"15\", \"16\", \"17\", \"18\", \"19\", \"20\", \"21\", \"22\", \"23\", \"24\", \"25\", \"26\", \"27\", \"28\", \"29\", \"30\", \"31\", \"32\", \"33\", \"34\", \"35\", \"36\", \"37\", \"38\", \"39\", \"40\", \"41\", \"42\", \"43\", \"44\", \"45\", \"46\", \"47\", \"50\", \"51\"], \"mode\": \"lines\", \"name\": \"recall_score_weighted_max\", \"stepped\": true, \"type\": \"scatter\", \"data\": [0.8619047619047618, 0.8666666666666666, 0.8666666666666666, 0.8666666666666666, 0.8666666666666666, 0.8666666666666666, 0.8666666666666666, 0.8666666666666666, 0.8666666666666666, 0.8666666666666666, 0.8666666666666666, 0.8666666666666666, 0.8666666666666666, 0.8666666666666666, 0.8666666666666666, 0.8666666666666666, 0.8666666666666666, 0.8666666666666666, 0.8666666666666666, 0.8666666666666666, 0.8666666666666666, 0.8666666666666666, 0.8666666666666666, 0.8687074829931973, 0.8693877551020408, 0.8693877551020408, 0.8693877551020408, 0.8693877551020408, 0.8693877551020408, 0.8693877551020408, 0.8693877551020408, 0.8693877551020408, 0.8693877551020408, 0.8693877551020408, 0.8693877551020408, 0.8693877551020408, 0.8693877551020408, 0.8693877551020408, 0.8693877551020408, 0.8693877551020408, 0.8693877551020408, 0.8693877551020408, 0.8693877551020408, 0.8693877551020408, 0.8693877551020408, 0.8693877551020408, 0.8693877551020408, 0.8693877551020408, 0.8734693877551021, 0.8734693877551021]}], \"precision_score_weighted\": [{\"categories\": [\"0\", \"1\", \"2\", \"3\", \"4\", \"5\", \"6\", \"7\", \"8\", \"9\", \"10\", \"11\", \"12\", \"13\", \"14\", \"15\", \"16\", \"17\", \"18\", \"19\", \"20\", \"21\", \"22\", \"23\", \"24\", \"25\", \"26\", \"27\", \"28\", \"29\", \"30\", \"31\", \"32\", \"33\", \"34\", \"35\", \"36\", \"37\", \"38\", \"39\", \"40\", \"41\", \"42\", \"43\", \"44\", \"45\", \"46\", \"47\", \"50\", \"51\"], \"mode\": \"markers\", \"name\": \"precision_score_weighted\", \"stepped\": false, \"type\": \"scatter\", \"data\": [0.8450346008852863, 0.8565560301787951, 0.7043153315748069, 0.8321219223357973, 0.7043153315748069, 0.8118982189981307, 0.8349277183229411, 0.7043153315748069, 0.7043153315748069, 0.8322659070681236, 0.8317489169032768, 0.8246969196182649, 0.8338892261500629, 0.8427451978131181, 0.7043153315748069, 0.7713786728278356, 0.8300254643418319, 0.8225895518437631, 0.8303218162278675, 0.8332650417820151, 0.8470507505620415, 0.834402574066246, 0.8523767115769821, 0.8550790614865793, 0.8599580951664418, 0.838951353677874, 0.8449618718353381, 0.8418848697234393, 0.8270758594268892, 0.8290349785592808, 0.8291711559254091, 0.8646291843746079, 0.8375612273206405, 0.8380362038777227, 0.8514568522120463, 0.8538598351405062, 0.8560268543566073, 0.8473182124855647, 0.8460392339825837, 0.8356481395455096, 0.8643668231885961, 0.856940021078122, 0.851745172603478, 0.7043153315748069, 0.7043153315748069, 0.7354172046566996, 0.8349034758827963, 0.8355853679897669, 0.8756331213589279, 0.7475230886833109]}, {\"categories\": [\"0\", \"1\", \"2\", \"3\", \"4\", \"5\", \"6\", \"7\", \"8\", \"9\", \"10\", \"11\", \"12\", \"13\", \"14\", \"15\", \"16\", \"17\", \"18\", \"19\", \"20\", \"21\", \"22\", \"23\", \"24\", \"25\", \"26\", \"27\", \"28\", \"29\", \"30\", \"31\", \"32\", \"33\", \"34\", \"35\", \"36\", \"37\", \"38\", \"39\", \"40\", \"41\", \"42\", \"43\", \"44\", \"45\", \"46\", \"47\", \"50\", \"51\"], \"mode\": \"lines\", \"name\": \"precision_score_weighted_max\", \"stepped\": true, \"type\": \"scatter\", \"data\": [0.8450346008852863, 0.8565560301787951, 0.8565560301787951, 0.8565560301787951, 0.8565560301787951, 0.8565560301787951, 0.8565560301787951, 0.8565560301787951, 0.8565560301787951, 0.8565560301787951, 0.8565560301787951, 0.8565560301787951, 0.8565560301787951, 0.8565560301787951, 0.8565560301787951, 0.8565560301787951, 0.8565560301787951, 0.8565560301787951, 0.8565560301787951, 0.8565560301787951, 0.8565560301787951, 0.8565560301787951, 0.8565560301787951, 0.8565560301787951, 0.8599580951664418, 0.8599580951664418, 0.8599580951664418, 0.8599580951664418, 0.8599580951664418, 0.8599580951664418, 0.8599580951664418, 0.8646291843746079, 0.8646291843746079, 0.8646291843746079, 0.8646291843746079, 0.8646291843746079, 0.8646291843746079, 0.8646291843746079, 0.8646291843746079, 0.8646291843746079, 0.8646291843746079, 0.8646291843746079, 0.8646291843746079, 0.8646291843746079, 0.8646291843746079, 0.8646291843746079, 0.8646291843746079, 0.8646291843746079, 0.8756331213589279, 0.8756331213589279]}]}, \"metricName\": null, \"primaryMetricName\": \"AUC_weighted\", \"showLegend\": false}, \"run_metrics\": [{\"name\": \"experiment_status\", \"run_id\": \"AutoML_087c6ad3-ea12-4397-aec0-abb21503bc96\", \"categories\": [0, 1, 2, 3, 4, 5, 6, 7, 8, 9, 10, 11, 12, 13, 14], \"series\": [{\"data\": [\"DatasetEvaluation\", \"FeaturesGeneration\", \"DatasetFeaturization\", \"DatasetFeaturizationCompleted\", \"DatasetBalancing\", \"DatasetCrossValidationSplit\", \"ModelSelection\", \"BestRunExplainModel\", \"ModelExplanationDataSetSetup\", \"PickSurrogateModel\", \"EngineeredFeatureExplanations\", \"EngineeredFeatureExplanations\", \"RawFeaturesExplanations\", \"RawFeaturesExplanations\", \"BestRunExplainModel\"]}]}, {\"name\": \"experiment_status_description\", \"run_id\": \"AutoML_087c6ad3-ea12-4397-aec0-abb21503bc96\", \"categories\": [0, 1, 2, 3, 4, 5, 6, 7, 8, 9, 10, 11, 12, 13, 14], \"series\": [{\"data\": [\"Gathering dataset statistics.\", \"Generating features for the dataset.\", \"Beginning to fit featurizers and featurize the dataset.\", \"Completed fit featurizers and featurizing the dataset.\", \"Performing class balancing sweeping\", \"Generating individually featurized CV splits.\", \"Beginning model selection.\", \"Best run model explanations started\", \"Model explanations data setup completed\", \"Choosing LightGBM as the surrogate model for explanations\", \"Computation of engineered features started\", \"Computation of engineered features completed\", \"Computation of raw features started\", \"Computation of raw features completed\", \"Best run model explanations completed\"]}]}, {\"name\": \"f1_score_macro\", \"run_id\": \"AutoML_087c6ad3-ea12-4397-aec0-abb21503bc96\", \"categories\": [0], \"series\": [{\"data\": [0.6690866484277879]}]}, {\"name\": \"balanced_accuracy\", \"run_id\": \"AutoML_087c6ad3-ea12-4397-aec0-abb21503bc96\", \"categories\": [0], \"series\": [{\"data\": [0.6322729540329874]}]}, {\"name\": \"norm_macro_recall\", \"run_id\": \"AutoML_087c6ad3-ea12-4397-aec0-abb21503bc96\", \"categories\": [0], \"series\": [{\"data\": [0.2645459080659748]}]}, {\"name\": \"average_precision_score_micro\", \"run_id\": \"AutoML_087c6ad3-ea12-4397-aec0-abb21503bc96\", \"categories\": [0], \"series\": [{\"data\": [0.926740868035373]}]}, {\"name\": \"weighted_accuracy\", \"run_id\": \"AutoML_087c6ad3-ea12-4397-aec0-abb21503bc96\", \"categories\": [0], \"series\": [{\"data\": [0.9623379654985997]}]}, {\"name\": \"precision_score_micro\", \"run_id\": \"AutoML_087c6ad3-ea12-4397-aec0-abb21503bc96\", \"categories\": [0], \"series\": [{\"data\": [0.8734693877551021]}]}, {\"name\": \"recall_score_macro\", \"run_id\": \"AutoML_087c6ad3-ea12-4397-aec0-abb21503bc96\", \"categories\": [0], \"series\": [{\"data\": [0.6322729540329874]}]}, {\"name\": \"log_loss\", \"run_id\": \"AutoML_087c6ad3-ea12-4397-aec0-abb21503bc96\", \"categories\": [0], \"series\": [{\"data\": [0.3359384656890981]}]}, {\"name\": \"average_precision_score_macro\", \"run_id\": \"AutoML_087c6ad3-ea12-4397-aec0-abb21503bc96\", \"categories\": [0], \"series\": [{\"data\": [0.7840350391858847]}]}, {\"name\": \"precision_score_weighted\", \"run_id\": \"AutoML_087c6ad3-ea12-4397-aec0-abb21503bc96\", \"categories\": [0], \"series\": [{\"data\": [0.8756331213589279]}]}, {\"name\": \"precision_score_macro\", \"run_id\": \"AutoML_087c6ad3-ea12-4397-aec0-abb21503bc96\", \"categories\": [0], \"series\": [{\"data\": [0.8737484647968519]}]}, {\"name\": \"f1_score_weighted\", \"run_id\": \"AutoML_087c6ad3-ea12-4397-aec0-abb21503bc96\", \"categories\": [0], \"series\": [{\"data\": [0.844667593052506]}]}, {\"name\": \"recall_score_weighted\", \"run_id\": \"AutoML_087c6ad3-ea12-4397-aec0-abb21503bc96\", \"categories\": [0], \"series\": [{\"data\": [0.8734693877551021]}]}, {\"name\": \"accuracy\", \"run_id\": \"AutoML_087c6ad3-ea12-4397-aec0-abb21503bc96\", \"categories\": [0], \"series\": [{\"data\": [0.8734693877551021]}]}, {\"name\": \"AUC_weighted\", \"run_id\": \"AutoML_087c6ad3-ea12-4397-aec0-abb21503bc96\", \"categories\": [0], \"series\": [{\"data\": [0.8392505843219285]}]}, {\"name\": \"matthews_correlation\", \"run_id\": \"AutoML_087c6ad3-ea12-4397-aec0-abb21503bc96\", \"categories\": [0], \"series\": [{\"data\": [0.43926041383885106]}]}, {\"name\": \"AUC_micro\", \"run_id\": \"AutoML_087c6ad3-ea12-4397-aec0-abb21503bc96\", \"categories\": [0], \"series\": [{\"data\": [0.9331852468878707]}]}, {\"name\": \"recall_score_micro\", \"run_id\": \"AutoML_087c6ad3-ea12-4397-aec0-abb21503bc96\", \"categories\": [0], \"series\": [{\"data\": [0.8734693877551021]}]}, {\"name\": \"AUC_macro\", \"run_id\": \"AutoML_087c6ad3-ea12-4397-aec0-abb21503bc96\", \"categories\": [0], \"series\": [{\"data\": [0.8392505843219285]}]}, {\"name\": \"f1_score_micro\", \"run_id\": \"AutoML_087c6ad3-ea12-4397-aec0-abb21503bc96\", \"categories\": [0], \"series\": [{\"data\": [0.8734693877551021]}]}, {\"name\": \"average_precision_score_weighted\", \"run_id\": \"AutoML_087c6ad3-ea12-4397-aec0-abb21503bc96\", \"categories\": [0], \"series\": [{\"data\": [0.898145120270215]}]}], \"run_logs\": \"\\nRun is completed.\", \"graph\": {}, \"widget_settings\": {\"childWidgetDisplay\": \"popup\", \"send_telemetry\": false, \"log_level\": \"INFO\", \"sdk_version\": \"1.20.0\"}, \"loading\": false}"
          },
          "metadata": {}
        }
      ],
      "execution_count": 8,
      "metadata": {
        "gather": {
          "logged": 1613608981952
        },
        "jupyter": {
          "outputs_hidden": false,
          "source_hidden": false
        },
        "nteract": {
          "transient": {
            "deleting": false
          }
        }
      }
    },
    {
      "cell_type": "markdown",
      "source": [
        "## Best Model\n",
        "\n"
      ],
      "metadata": {}
    },
    {
      "cell_type": "code",
      "source": [
        "best_automl_run, best_automl_model = remote_run.get_output()"
      ],
      "outputs": [
        {
          "output_type": "stream",
          "name": "stderr",
          "text": [
            "WARNING:root:The version of the SDK does not match the version the model was trained on.\n",
            "WARNING:root:The consistency in the result may not be guaranteed.\n",
            "WARNING:root:Package:azureml-automl-core, training version:1.21.0, current version:1.20.0\n",
            "Package:azureml-automl-runtime, training version:1.21.0, current version:1.20.0\n",
            "Package:azureml-core, training version:1.21.0.post1, current version:1.20.0\n",
            "Package:azureml-dataprep, training version:2.8.2, current version:2.7.3\n",
            "Package:azureml-dataprep-native, training version:28.0.0, current version:27.0.0\n",
            "Package:azureml-dataprep-rslex, training version:1.6.0, current version:1.5.0\n",
            "Package:azureml-dataset-runtime, training version:1.21.0, current version:1.20.0\n",
            "Package:azureml-defaults, training version:1.21.0, current version:1.20.0\n",
            "Package:azureml-interpret, training version:1.21.0, current version:1.20.0\n",
            "Package:azureml-pipeline-core, training version:1.21.0, current version:1.20.0\n",
            "Package:azureml-telemetry, training version:1.21.0, current version:1.20.0\n",
            "Package:azureml-train-automl-client, training version:1.21.0, current version:1.20.0\n",
            "Package:azureml-train-automl-runtime, training version:1.21.0, current version:1.20.0\n",
            "WARNING:root:Please ensure the version of your local conda dependencies match the version on which your model was trained in order to properly retrieve your model.\n"
          ]
        }
      ],
      "execution_count": 9,
      "metadata": {
        "gather": {
          "logged": 1613609050048
        },
        "jupyter": {
          "outputs_hidden": false,
          "source_hidden": false
        },
        "nteract": {
          "transient": {
            "deleting": false
          }
        }
      }
    },
    {
      "cell_type": "code",
      "execution_count": null,
      "metadata": {},
      "outputs": [],
      "source": [
        "print(best_automl_model)"
      ]
    },
    {
      "cell_type": "code",
      "execution_count": null,
      "metadata": {},
      "outputs": [],
      "source": [
        "best_automl_run"
      ]
    },
    {
      "cell_type": "code",
      "execution_count": null,
      "metadata": {},
      "outputs": [],
      "source": [
        "get_best_automl_metrics = best_automl_run.get_metrics()\n",
        "\n",
        "for metric_name in get_best_automl_metrics:\n",
        "    metric = get_best_automl_metrics[metric_name]\n",
        "    print(metric_name, metric)"
      ]
    },
    {
      "cell_type": "markdown",
      "source": [
        "View updated transformation summary"
      ],
      "metadata": {}
    },
    {
      "cell_type": "code",
      "source": [
        "custom_featurizer = best_automl_model.named_steps['datatransformer']\n",
        "df = custom_featurizer.get_featurization_summary(is_user_friendly=True)\n",
        "pd.DataFrame(data=df)"
      ],
      "outputs": [
        {
          "output_type": "execute_result",
          "execution_count": 12,
          "data": {
            "text/plain": "              RawFeatureName TypeDetected Dropped  EngineeredFeatureCount  \\\n0                        Age  Categorical      No                      43   \n1             BusinessTravel  Categorical      No                       3   \n2                 Department  Categorical      No                       3   \n3           DistanceFromHome  Categorical      No                      29   \n4                  Education  Categorical      No                       5   \n5             EducationField  Categorical      No                       6   \n6    EnvironmentSatisfaction  Categorical      No                       4   \n7                     Gender  Categorical      No                       1   \n8             JobInvolvement  Categorical      No                       4   \n9                   JobLevel  Categorical      No                       5   \n10                   JobRole  Categorical      No                       9   \n11           JobSatisfaction  Categorical      No                       4   \n12             MaritalStatus  Categorical      No                       3   \n13        NumCompaniesWorked  Categorical      No                      10   \n14                  OverTime  Categorical      No                       1   \n15         PercentSalaryHike  Categorical      No                      15   \n16         PerformanceRating  Categorical      No                       1   \n17  RelationshipSatisfaction  Categorical      No                       4   \n18          StockOptionLevel  Categorical      No                       4   \n19         TotalWorkingYears  Categorical      No                      40   \n20     TrainingTimesLastYear  Categorical      No                       7   \n21           WorkLifeBalance  Categorical      No                       4   \n22            YearsAtCompany  Categorical      No                      37   \n23        YearsInCurrentRole  Categorical      No                      19   \n24   YearsSinceLastPromotion  Categorical      No                      16   \n25      YearsWithCurrManager  Categorical      No                      18   \n26                 DailyRate      Numeric      No                       1   \n27            EmployeeNumber      Numeric      No                       1   \n28                HourlyRate      Numeric      No                       1   \n29             MonthlyIncome      Numeric      No                       1   \n30               MonthlyRate      Numeric      No                       1   \n31             EmployeeCount       Ignore     Yes                       0   \n32                    Over18       Ignore     Yes                       0   \n33             StandardHours       Ignore     Yes                       0   \n\n                             Transformations  \n0       [StringCast-CharGramCountVectorizer]  \n1       [StringCast-CharGramCountVectorizer]  \n2       [StringCast-CharGramCountVectorizer]  \n3       [StringCast-CharGramCountVectorizer]  \n4       [StringCast-CharGramCountVectorizer]  \n5       [StringCast-CharGramCountVectorizer]  \n6       [StringCast-CharGramCountVectorizer]  \n7   [ModeCatImputer-StringCast-LabelEncoder]  \n8       [StringCast-CharGramCountVectorizer]  \n9       [StringCast-CharGramCountVectorizer]  \n10      [StringCast-CharGramCountVectorizer]  \n11      [StringCast-CharGramCountVectorizer]  \n12      [StringCast-CharGramCountVectorizer]  \n13      [StringCast-CharGramCountVectorizer]  \n14  [ModeCatImputer-StringCast-LabelEncoder]  \n15      [StringCast-CharGramCountVectorizer]  \n16  [ModeCatImputer-StringCast-LabelEncoder]  \n17      [StringCast-CharGramCountVectorizer]  \n18      [StringCast-CharGramCountVectorizer]  \n19      [StringCast-CharGramCountVectorizer]  \n20      [StringCast-CharGramCountVectorizer]  \n21      [StringCast-CharGramCountVectorizer]  \n22      [StringCast-CharGramCountVectorizer]  \n23      [StringCast-CharGramCountVectorizer]  \n24      [StringCast-CharGramCountVectorizer]  \n25      [StringCast-CharGramCountVectorizer]  \n26                             [MeanImputer]  \n27                             [MeanImputer]  \n28                             [MeanImputer]  \n29                             [MeanImputer]  \n30                             [MeanImputer]  \n31                                        []  \n32                                        []  \n33                                        []  ",
            "text/html": "<div>\n<style scoped>\n    .dataframe tbody tr th:only-of-type {\n        vertical-align: middle;\n    }\n\n    .dataframe tbody tr th {\n        vertical-align: top;\n    }\n\n    .dataframe thead th {\n        text-align: right;\n    }\n</style>\n<table border=\"1\" class=\"dataframe\">\n  <thead>\n    <tr style=\"text-align: right;\">\n      <th></th>\n      <th>RawFeatureName</th>\n      <th>TypeDetected</th>\n      <th>Dropped</th>\n      <th>EngineeredFeatureCount</th>\n      <th>Transformations</th>\n    </tr>\n  </thead>\n  <tbody>\n    <tr>\n      <th>0</th>\n      <td>Age</td>\n      <td>Categorical</td>\n      <td>No</td>\n      <td>43</td>\n      <td>[StringCast-CharGramCountVectorizer]</td>\n    </tr>\n    <tr>\n      <th>1</th>\n      <td>BusinessTravel</td>\n      <td>Categorical</td>\n      <td>No</td>\n      <td>3</td>\n      <td>[StringCast-CharGramCountVectorizer]</td>\n    </tr>\n    <tr>\n      <th>2</th>\n      <td>Department</td>\n      <td>Categorical</td>\n      <td>No</td>\n      <td>3</td>\n      <td>[StringCast-CharGramCountVectorizer]</td>\n    </tr>\n    <tr>\n      <th>3</th>\n      <td>DistanceFromHome</td>\n      <td>Categorical</td>\n      <td>No</td>\n      <td>29</td>\n      <td>[StringCast-CharGramCountVectorizer]</td>\n    </tr>\n    <tr>\n      <th>4</th>\n      <td>Education</td>\n      <td>Categorical</td>\n      <td>No</td>\n      <td>5</td>\n      <td>[StringCast-CharGramCountVectorizer]</td>\n    </tr>\n    <tr>\n      <th>5</th>\n      <td>EducationField</td>\n      <td>Categorical</td>\n      <td>No</td>\n      <td>6</td>\n      <td>[StringCast-CharGramCountVectorizer]</td>\n    </tr>\n    <tr>\n      <th>6</th>\n      <td>EnvironmentSatisfaction</td>\n      <td>Categorical</td>\n      <td>No</td>\n      <td>4</td>\n      <td>[StringCast-CharGramCountVectorizer]</td>\n    </tr>\n    <tr>\n      <th>7</th>\n      <td>Gender</td>\n      <td>Categorical</td>\n      <td>No</td>\n      <td>1</td>\n      <td>[ModeCatImputer-StringCast-LabelEncoder]</td>\n    </tr>\n    <tr>\n      <th>8</th>\n      <td>JobInvolvement</td>\n      <td>Categorical</td>\n      <td>No</td>\n      <td>4</td>\n      <td>[StringCast-CharGramCountVectorizer]</td>\n    </tr>\n    <tr>\n      <th>9</th>\n      <td>JobLevel</td>\n      <td>Categorical</td>\n      <td>No</td>\n      <td>5</td>\n      <td>[StringCast-CharGramCountVectorizer]</td>\n    </tr>\n    <tr>\n      <th>10</th>\n      <td>JobRole</td>\n      <td>Categorical</td>\n      <td>No</td>\n      <td>9</td>\n      <td>[StringCast-CharGramCountVectorizer]</td>\n    </tr>\n    <tr>\n      <th>11</th>\n      <td>JobSatisfaction</td>\n      <td>Categorical</td>\n      <td>No</td>\n      <td>4</td>\n      <td>[StringCast-CharGramCountVectorizer]</td>\n    </tr>\n    <tr>\n      <th>12</th>\n      <td>MaritalStatus</td>\n      <td>Categorical</td>\n      <td>No</td>\n      <td>3</td>\n      <td>[StringCast-CharGramCountVectorizer]</td>\n    </tr>\n    <tr>\n      <th>13</th>\n      <td>NumCompaniesWorked</td>\n      <td>Categorical</td>\n      <td>No</td>\n      <td>10</td>\n      <td>[StringCast-CharGramCountVectorizer]</td>\n    </tr>\n    <tr>\n      <th>14</th>\n      <td>OverTime</td>\n      <td>Categorical</td>\n      <td>No</td>\n      <td>1</td>\n      <td>[ModeCatImputer-StringCast-LabelEncoder]</td>\n    </tr>\n    <tr>\n      <th>15</th>\n      <td>PercentSalaryHike</td>\n      <td>Categorical</td>\n      <td>No</td>\n      <td>15</td>\n      <td>[StringCast-CharGramCountVectorizer]</td>\n    </tr>\n    <tr>\n      <th>16</th>\n      <td>PerformanceRating</td>\n      <td>Categorical</td>\n      <td>No</td>\n      <td>1</td>\n      <td>[ModeCatImputer-StringCast-LabelEncoder]</td>\n    </tr>\n    <tr>\n      <th>17</th>\n      <td>RelationshipSatisfaction</td>\n      <td>Categorical</td>\n      <td>No</td>\n      <td>4</td>\n      <td>[StringCast-CharGramCountVectorizer]</td>\n    </tr>\n    <tr>\n      <th>18</th>\n      <td>StockOptionLevel</td>\n      <td>Categorical</td>\n      <td>No</td>\n      <td>4</td>\n      <td>[StringCast-CharGramCountVectorizer]</td>\n    </tr>\n    <tr>\n      <th>19</th>\n      <td>TotalWorkingYears</td>\n      <td>Categorical</td>\n      <td>No</td>\n      <td>40</td>\n      <td>[StringCast-CharGramCountVectorizer]</td>\n    </tr>\n    <tr>\n      <th>20</th>\n      <td>TrainingTimesLastYear</td>\n      <td>Categorical</td>\n      <td>No</td>\n      <td>7</td>\n      <td>[StringCast-CharGramCountVectorizer]</td>\n    </tr>\n    <tr>\n      <th>21</th>\n      <td>WorkLifeBalance</td>\n      <td>Categorical</td>\n      <td>No</td>\n      <td>4</td>\n      <td>[StringCast-CharGramCountVectorizer]</td>\n    </tr>\n    <tr>\n      <th>22</th>\n      <td>YearsAtCompany</td>\n      <td>Categorical</td>\n      <td>No</td>\n      <td>37</td>\n      <td>[StringCast-CharGramCountVectorizer]</td>\n    </tr>\n    <tr>\n      <th>23</th>\n      <td>YearsInCurrentRole</td>\n      <td>Categorical</td>\n      <td>No</td>\n      <td>19</td>\n      <td>[StringCast-CharGramCountVectorizer]</td>\n    </tr>\n    <tr>\n      <th>24</th>\n      <td>YearsSinceLastPromotion</td>\n      <td>Categorical</td>\n      <td>No</td>\n      <td>16</td>\n      <td>[StringCast-CharGramCountVectorizer]</td>\n    </tr>\n    <tr>\n      <th>25</th>\n      <td>YearsWithCurrManager</td>\n      <td>Categorical</td>\n      <td>No</td>\n      <td>18</td>\n      <td>[StringCast-CharGramCountVectorizer]</td>\n    </tr>\n    <tr>\n      <th>26</th>\n      <td>DailyRate</td>\n      <td>Numeric</td>\n      <td>No</td>\n      <td>1</td>\n      <td>[MeanImputer]</td>\n    </tr>\n    <tr>\n      <th>27</th>\n      <td>EmployeeNumber</td>\n      <td>Numeric</td>\n      <td>No</td>\n      <td>1</td>\n      <td>[MeanImputer]</td>\n    </tr>\n    <tr>\n      <th>28</th>\n      <td>HourlyRate</td>\n      <td>Numeric</td>\n      <td>No</td>\n      <td>1</td>\n      <td>[MeanImputer]</td>\n    </tr>\n    <tr>\n      <th>29</th>\n      <td>MonthlyIncome</td>\n      <td>Numeric</td>\n      <td>No</td>\n      <td>1</td>\n      <td>[MeanImputer]</td>\n    </tr>\n    <tr>\n      <th>30</th>\n      <td>MonthlyRate</td>\n      <td>Numeric</td>\n      <td>No</td>\n      <td>1</td>\n      <td>[MeanImputer]</td>\n    </tr>\n    <tr>\n      <th>31</th>\n      <td>EmployeeCount</td>\n      <td>Ignore</td>\n      <td>Yes</td>\n      <td>0</td>\n      <td>[]</td>\n    </tr>\n    <tr>\n      <th>32</th>\n      <td>Over18</td>\n      <td>Ignore</td>\n      <td>Yes</td>\n      <td>0</td>\n      <td>[]</td>\n    </tr>\n    <tr>\n      <th>33</th>\n      <td>StandardHours</td>\n      <td>Ignore</td>\n      <td>Yes</td>\n      <td>0</td>\n      <td>[]</td>\n    </tr>\n  </tbody>\n</table>\n</div>"
          },
          "metadata": {}
        }
      ],
      "execution_count": 12,
      "metadata": {
        "gather": {
          "logged": 1613609091518
        }
      }
    },
    {
      "cell_type": "code",
      "source": [
        "df = custom_featurizer.get_featurization_summary(is_user_friendly=False)\n",
        "pd.DataFrame(data=df)"
      ],
      "outputs": [
        {
          "output_type": "execute_result",
          "execution_count": 13,
          "data": {
            "text/plain": "              RawFeatureName TypeDetected Dropped  EngineeredFeatureCount  \\\n0                        Age  Categorical      No                      43   \n1             BusinessTravel  Categorical      No                       3   \n2                 Department  Categorical      No                       3   \n3           DistanceFromHome  Categorical      No                      29   \n4                  Education  Categorical      No                       5   \n5             EducationField  Categorical      No                       6   \n6    EnvironmentSatisfaction  Categorical      No                       4   \n7                     Gender  Categorical      No                       1   \n8             JobInvolvement  Categorical      No                       4   \n9                   JobLevel  Categorical      No                       5   \n10                   JobRole  Categorical      No                       9   \n11           JobSatisfaction  Categorical      No                       4   \n12             MaritalStatus  Categorical      No                       3   \n13        NumCompaniesWorked  Categorical      No                      10   \n14                  OverTime  Categorical      No                       1   \n15         PercentSalaryHike  Categorical      No                      15   \n16         PerformanceRating  Categorical      No                       1   \n17  RelationshipSatisfaction  Categorical      No                       4   \n18          StockOptionLevel  Categorical      No                       4   \n19         TotalWorkingYears  Categorical      No                      40   \n20     TrainingTimesLastYear  Categorical      No                       7   \n21           WorkLifeBalance  Categorical      No                       4   \n22            YearsAtCompany  Categorical      No                      37   \n23        YearsInCurrentRole  Categorical      No                      19   \n24   YearsSinceLastPromotion  Categorical      No                      16   \n25      YearsWithCurrManager  Categorical      No                      18   \n26                 DailyRate      Numeric      No                       1   \n27            EmployeeNumber      Numeric      No                       1   \n28                HourlyRate      Numeric      No                       1   \n29             MonthlyIncome      Numeric      No                       1   \n30               MonthlyRate      Numeric      No                       1   \n31             EmployeeCount       Ignore     Yes                       0   \n32                    Over18       Ignore     Yes                       0   \n33             StandardHours       Ignore     Yes                       0   \n\n                             Transformations  \\\n0       [StringCast-CharGramCountVectorizer]   \n1       [StringCast-CharGramCountVectorizer]   \n2       [StringCast-CharGramCountVectorizer]   \n3       [StringCast-CharGramCountVectorizer]   \n4       [StringCast-CharGramCountVectorizer]   \n5       [StringCast-CharGramCountVectorizer]   \n6       [StringCast-CharGramCountVectorizer]   \n7   [ModeCatImputer-StringCast-LabelEncoder]   \n8       [StringCast-CharGramCountVectorizer]   \n9       [StringCast-CharGramCountVectorizer]   \n10      [StringCast-CharGramCountVectorizer]   \n11      [StringCast-CharGramCountVectorizer]   \n12      [StringCast-CharGramCountVectorizer]   \n13      [StringCast-CharGramCountVectorizer]   \n14  [ModeCatImputer-StringCast-LabelEncoder]   \n15      [StringCast-CharGramCountVectorizer]   \n16  [ModeCatImputer-StringCast-LabelEncoder]   \n17      [StringCast-CharGramCountVectorizer]   \n18      [StringCast-CharGramCountVectorizer]   \n19      [StringCast-CharGramCountVectorizer]   \n20      [StringCast-CharGramCountVectorizer]   \n21      [StringCast-CharGramCountVectorizer]   \n22      [StringCast-CharGramCountVectorizer]   \n23      [StringCast-CharGramCountVectorizer]   \n24      [StringCast-CharGramCountVectorizer]   \n25      [StringCast-CharGramCountVectorizer]   \n26                             [MeanImputer]   \n27                             [MeanImputer]   \n28                             [MeanImputer]   \n29                             [MeanImputer]   \n30                             [MeanImputer]   \n31                                        []   \n32                                        []   \n33                                        []   \n\n                                 TransformationParams  \n0   {'Transformer1': {'Input': ['Age'], 'Transform...  \n1   {'Transformer1': {'Input': ['BusinessTravel'],...  \n2   {'Transformer1': {'Input': ['Department'], 'Tr...  \n3   {'Transformer1': {'Input': ['DistanceFromHome'...  \n4   {'Transformer1': {'Input': ['Education'], 'Tra...  \n5   {'Transformer1': {'Input': ['EducationField'],...  \n6   {'Transformer1': {'Input': ['EnvironmentSatisf...  \n7   {'Transformer1': {'Input': ['Gender'], 'Transf...  \n8   {'Transformer1': {'Input': ['JobInvolvement'],...  \n9   {'Transformer1': {'Input': ['JobLevel'], 'Tran...  \n10  {'Transformer1': {'Input': ['JobRole'], 'Trans...  \n11  {'Transformer1': {'Input': ['JobSatisfaction']...  \n12  {'Transformer1': {'Input': ['MaritalStatus'], ...  \n13  {'Transformer1': {'Input': ['NumCompaniesWorke...  \n14  {'Transformer1': {'Input': ['OverTime'], 'Tran...  \n15  {'Transformer1': {'Input': ['PercentSalaryHike...  \n16  {'Transformer1': {'Input': ['PerformanceRating...  \n17  {'Transformer1': {'Input': ['RelationshipSatis...  \n18  {'Transformer1': {'Input': ['StockOptionLevel'...  \n19  {'Transformer1': {'Input': ['TotalWorkingYears...  \n20  {'Transformer1': {'Input': ['TrainingTimesLast...  \n21  {'Transformer1': {'Input': ['WorkLifeBalance']...  \n22  {'Transformer1': {'Input': ['YearsAtCompany'],...  \n23  {'Transformer1': {'Input': ['YearsInCurrentRol...  \n24  {'Transformer1': {'Input': ['YearsSinceLastPro...  \n25  {'Transformer1': {'Input': ['YearsWithCurrMana...  \n26  {'Transformer1': {'Input': ['DailyRate'], 'Tra...  \n27  {'Transformer1': {'Input': ['EmployeeNumber'],...  \n28  {'Transformer1': {'Input': ['HourlyRate'], 'Tr...  \n29  {'Transformer1': {'Input': ['MonthlyIncome'], ...  \n30  {'Transformer1': {'Input': ['MonthlyRate'], 'T...  \n31  {'Transformer1': {'Input': ['EmployeeCount'], ...  \n32  {'Transformer1': {'Input': ['Over18'], 'Transf...  \n33  {'Transformer1': {'Input': ['StandardHours'], ...  ",
            "text/html": "<div>\n<style scoped>\n    .dataframe tbody tr th:only-of-type {\n        vertical-align: middle;\n    }\n\n    .dataframe tbody tr th {\n        vertical-align: top;\n    }\n\n    .dataframe thead th {\n        text-align: right;\n    }\n</style>\n<table border=\"1\" class=\"dataframe\">\n  <thead>\n    <tr style=\"text-align: right;\">\n      <th></th>\n      <th>RawFeatureName</th>\n      <th>TypeDetected</th>\n      <th>Dropped</th>\n      <th>EngineeredFeatureCount</th>\n      <th>Transformations</th>\n      <th>TransformationParams</th>\n    </tr>\n  </thead>\n  <tbody>\n    <tr>\n      <th>0</th>\n      <td>Age</td>\n      <td>Categorical</td>\n      <td>No</td>\n      <td>43</td>\n      <td>[StringCast-CharGramCountVectorizer]</td>\n      <td>{'Transformer1': {'Input': ['Age'], 'Transform...</td>\n    </tr>\n    <tr>\n      <th>1</th>\n      <td>BusinessTravel</td>\n      <td>Categorical</td>\n      <td>No</td>\n      <td>3</td>\n      <td>[StringCast-CharGramCountVectorizer]</td>\n      <td>{'Transformer1': {'Input': ['BusinessTravel'],...</td>\n    </tr>\n    <tr>\n      <th>2</th>\n      <td>Department</td>\n      <td>Categorical</td>\n      <td>No</td>\n      <td>3</td>\n      <td>[StringCast-CharGramCountVectorizer]</td>\n      <td>{'Transformer1': {'Input': ['Department'], 'Tr...</td>\n    </tr>\n    <tr>\n      <th>3</th>\n      <td>DistanceFromHome</td>\n      <td>Categorical</td>\n      <td>No</td>\n      <td>29</td>\n      <td>[StringCast-CharGramCountVectorizer]</td>\n      <td>{'Transformer1': {'Input': ['DistanceFromHome'...</td>\n    </tr>\n    <tr>\n      <th>4</th>\n      <td>Education</td>\n      <td>Categorical</td>\n      <td>No</td>\n      <td>5</td>\n      <td>[StringCast-CharGramCountVectorizer]</td>\n      <td>{'Transformer1': {'Input': ['Education'], 'Tra...</td>\n    </tr>\n    <tr>\n      <th>5</th>\n      <td>EducationField</td>\n      <td>Categorical</td>\n      <td>No</td>\n      <td>6</td>\n      <td>[StringCast-CharGramCountVectorizer]</td>\n      <td>{'Transformer1': {'Input': ['EducationField'],...</td>\n    </tr>\n    <tr>\n      <th>6</th>\n      <td>EnvironmentSatisfaction</td>\n      <td>Categorical</td>\n      <td>No</td>\n      <td>4</td>\n      <td>[StringCast-CharGramCountVectorizer]</td>\n      <td>{'Transformer1': {'Input': ['EnvironmentSatisf...</td>\n    </tr>\n    <tr>\n      <th>7</th>\n      <td>Gender</td>\n      <td>Categorical</td>\n      <td>No</td>\n      <td>1</td>\n      <td>[ModeCatImputer-StringCast-LabelEncoder]</td>\n      <td>{'Transformer1': {'Input': ['Gender'], 'Transf...</td>\n    </tr>\n    <tr>\n      <th>8</th>\n      <td>JobInvolvement</td>\n      <td>Categorical</td>\n      <td>No</td>\n      <td>4</td>\n      <td>[StringCast-CharGramCountVectorizer]</td>\n      <td>{'Transformer1': {'Input': ['JobInvolvement'],...</td>\n    </tr>\n    <tr>\n      <th>9</th>\n      <td>JobLevel</td>\n      <td>Categorical</td>\n      <td>No</td>\n      <td>5</td>\n      <td>[StringCast-CharGramCountVectorizer]</td>\n      <td>{'Transformer1': {'Input': ['JobLevel'], 'Tran...</td>\n    </tr>\n    <tr>\n      <th>10</th>\n      <td>JobRole</td>\n      <td>Categorical</td>\n      <td>No</td>\n      <td>9</td>\n      <td>[StringCast-CharGramCountVectorizer]</td>\n      <td>{'Transformer1': {'Input': ['JobRole'], 'Trans...</td>\n    </tr>\n    <tr>\n      <th>11</th>\n      <td>JobSatisfaction</td>\n      <td>Categorical</td>\n      <td>No</td>\n      <td>4</td>\n      <td>[StringCast-CharGramCountVectorizer]</td>\n      <td>{'Transformer1': {'Input': ['JobSatisfaction']...</td>\n    </tr>\n    <tr>\n      <th>12</th>\n      <td>MaritalStatus</td>\n      <td>Categorical</td>\n      <td>No</td>\n      <td>3</td>\n      <td>[StringCast-CharGramCountVectorizer]</td>\n      <td>{'Transformer1': {'Input': ['MaritalStatus'], ...</td>\n    </tr>\n    <tr>\n      <th>13</th>\n      <td>NumCompaniesWorked</td>\n      <td>Categorical</td>\n      <td>No</td>\n      <td>10</td>\n      <td>[StringCast-CharGramCountVectorizer]</td>\n      <td>{'Transformer1': {'Input': ['NumCompaniesWorke...</td>\n    </tr>\n    <tr>\n      <th>14</th>\n      <td>OverTime</td>\n      <td>Categorical</td>\n      <td>No</td>\n      <td>1</td>\n      <td>[ModeCatImputer-StringCast-LabelEncoder]</td>\n      <td>{'Transformer1': {'Input': ['OverTime'], 'Tran...</td>\n    </tr>\n    <tr>\n      <th>15</th>\n      <td>PercentSalaryHike</td>\n      <td>Categorical</td>\n      <td>No</td>\n      <td>15</td>\n      <td>[StringCast-CharGramCountVectorizer]</td>\n      <td>{'Transformer1': {'Input': ['PercentSalaryHike...</td>\n    </tr>\n    <tr>\n      <th>16</th>\n      <td>PerformanceRating</td>\n      <td>Categorical</td>\n      <td>No</td>\n      <td>1</td>\n      <td>[ModeCatImputer-StringCast-LabelEncoder]</td>\n      <td>{'Transformer1': {'Input': ['PerformanceRating...</td>\n    </tr>\n    <tr>\n      <th>17</th>\n      <td>RelationshipSatisfaction</td>\n      <td>Categorical</td>\n      <td>No</td>\n      <td>4</td>\n      <td>[StringCast-CharGramCountVectorizer]</td>\n      <td>{'Transformer1': {'Input': ['RelationshipSatis...</td>\n    </tr>\n    <tr>\n      <th>18</th>\n      <td>StockOptionLevel</td>\n      <td>Categorical</td>\n      <td>No</td>\n      <td>4</td>\n      <td>[StringCast-CharGramCountVectorizer]</td>\n      <td>{'Transformer1': {'Input': ['StockOptionLevel'...</td>\n    </tr>\n    <tr>\n      <th>19</th>\n      <td>TotalWorkingYears</td>\n      <td>Categorical</td>\n      <td>No</td>\n      <td>40</td>\n      <td>[StringCast-CharGramCountVectorizer]</td>\n      <td>{'Transformer1': {'Input': ['TotalWorkingYears...</td>\n    </tr>\n    <tr>\n      <th>20</th>\n      <td>TrainingTimesLastYear</td>\n      <td>Categorical</td>\n      <td>No</td>\n      <td>7</td>\n      <td>[StringCast-CharGramCountVectorizer]</td>\n      <td>{'Transformer1': {'Input': ['TrainingTimesLast...</td>\n    </tr>\n    <tr>\n      <th>21</th>\n      <td>WorkLifeBalance</td>\n      <td>Categorical</td>\n      <td>No</td>\n      <td>4</td>\n      <td>[StringCast-CharGramCountVectorizer]</td>\n      <td>{'Transformer1': {'Input': ['WorkLifeBalance']...</td>\n    </tr>\n    <tr>\n      <th>22</th>\n      <td>YearsAtCompany</td>\n      <td>Categorical</td>\n      <td>No</td>\n      <td>37</td>\n      <td>[StringCast-CharGramCountVectorizer]</td>\n      <td>{'Transformer1': {'Input': ['YearsAtCompany'],...</td>\n    </tr>\n    <tr>\n      <th>23</th>\n      <td>YearsInCurrentRole</td>\n      <td>Categorical</td>\n      <td>No</td>\n      <td>19</td>\n      <td>[StringCast-CharGramCountVectorizer]</td>\n      <td>{'Transformer1': {'Input': ['YearsInCurrentRol...</td>\n    </tr>\n    <tr>\n      <th>24</th>\n      <td>YearsSinceLastPromotion</td>\n      <td>Categorical</td>\n      <td>No</td>\n      <td>16</td>\n      <td>[StringCast-CharGramCountVectorizer]</td>\n      <td>{'Transformer1': {'Input': ['YearsSinceLastPro...</td>\n    </tr>\n    <tr>\n      <th>25</th>\n      <td>YearsWithCurrManager</td>\n      <td>Categorical</td>\n      <td>No</td>\n      <td>18</td>\n      <td>[StringCast-CharGramCountVectorizer]</td>\n      <td>{'Transformer1': {'Input': ['YearsWithCurrMana...</td>\n    </tr>\n    <tr>\n      <th>26</th>\n      <td>DailyRate</td>\n      <td>Numeric</td>\n      <td>No</td>\n      <td>1</td>\n      <td>[MeanImputer]</td>\n      <td>{'Transformer1': {'Input': ['DailyRate'], 'Tra...</td>\n    </tr>\n    <tr>\n      <th>27</th>\n      <td>EmployeeNumber</td>\n      <td>Numeric</td>\n      <td>No</td>\n      <td>1</td>\n      <td>[MeanImputer]</td>\n      <td>{'Transformer1': {'Input': ['EmployeeNumber'],...</td>\n    </tr>\n    <tr>\n      <th>28</th>\n      <td>HourlyRate</td>\n      <td>Numeric</td>\n      <td>No</td>\n      <td>1</td>\n      <td>[MeanImputer]</td>\n      <td>{'Transformer1': {'Input': ['HourlyRate'], 'Tr...</td>\n    </tr>\n    <tr>\n      <th>29</th>\n      <td>MonthlyIncome</td>\n      <td>Numeric</td>\n      <td>No</td>\n      <td>1</td>\n      <td>[MeanImputer]</td>\n      <td>{'Transformer1': {'Input': ['MonthlyIncome'], ...</td>\n    </tr>\n    <tr>\n      <th>30</th>\n      <td>MonthlyRate</td>\n      <td>Numeric</td>\n      <td>No</td>\n      <td>1</td>\n      <td>[MeanImputer]</td>\n      <td>{'Transformer1': {'Input': ['MonthlyRate'], 'T...</td>\n    </tr>\n    <tr>\n      <th>31</th>\n      <td>EmployeeCount</td>\n      <td>Ignore</td>\n      <td>Yes</td>\n      <td>0</td>\n      <td>[]</td>\n      <td>{'Transformer1': {'Input': ['EmployeeCount'], ...</td>\n    </tr>\n    <tr>\n      <th>32</th>\n      <td>Over18</td>\n      <td>Ignore</td>\n      <td>Yes</td>\n      <td>0</td>\n      <td>[]</td>\n      <td>{'Transformer1': {'Input': ['Over18'], 'Transf...</td>\n    </tr>\n    <tr>\n      <th>33</th>\n      <td>StandardHours</td>\n      <td>Ignore</td>\n      <td>Yes</td>\n      <td>0</td>\n      <td>[]</td>\n      <td>{'Transformer1': {'Input': ['StandardHours'], ...</td>\n    </tr>\n  </tbody>\n</table>\n</div>"
          },
          "metadata": {}
        }
      ],
      "execution_count": 13,
      "metadata": {
        "gather": {
          "logged": 1613609118397
        }
      }
    },
    {
      "cell_type": "code",
      "source": [
        "# df = custom_featurizer.get_stats_feature_type_summary()\n",
        "# pd.DataFrame(data=df)"
      ],
      "outputs": [
        {
          "output_type": "execute_result",
          "execution_count": 15,
          "data": {
            "text/plain": "Empty DataFrame\nColumns: []\nIndex: []",
            "text/html": "<div>\n<style scoped>\n    .dataframe tbody tr th:only-of-type {\n        vertical-align: middle;\n    }\n\n    .dataframe tbody tr th {\n        vertical-align: top;\n    }\n\n    .dataframe thead th {\n        text-align: right;\n    }\n</style>\n<table border=\"1\" class=\"dataframe\">\n  <thead>\n    <tr style=\"text-align: right;\">\n      <th></th>\n    </tr>\n  </thead>\n  <tbody>\n  </tbody>\n</table>\n</div>"
          },
          "metadata": {}
        }
      ],
      "execution_count": 15,
      "metadata": {
        "gather": {
          "logged": 1613609168539
        }
      }
    },
    {
      "cell_type": "markdown",
      "source": [
        "## Model Deployment\n",
        "\n",
        "Remember you have to deploy only one of the two models you trained.. Perform the steps in the rest of this notebook only if you wish to deploy this model.\n",
        "\n",
        "TODO: In the cell below, register the model, create an inference config and deploy the model as a web service."
      ],
      "metadata": {}
    },
    {
      "cell_type": "code",
      "source": [
        "model_name = best_automl_run.properties[\"model_name\"]\r\n",
        "script_file_name = \"inference/score.py\"\r\n",
        "best_automl_run.download_file('outputs/scoring_file_v_1_0_0.py', script_file_name)"
      ],
      "outputs": [],
      "execution_count": 22,
      "metadata": {
        "collapsed": true,
        "jupyter": {
          "source_hidden": false,
          "outputs_hidden": false
        },
        "nteract": {
          "transient": {
            "deleting": false
          }
        },
        "gather": {
          "logged": 1613609735828
        }
      }
    },
    {
      "cell_type": "code",
      "source": [
        "print(remote_run.model_id)"
      ],
      "outputs": [
        {
          "output_type": "stream",
          "name": "stdout",
          "text": [
            "None\n"
          ]
        }
      ],
      "execution_count": 23,
      "metadata": {
        "collapsed": true,
        "jupyter": {
          "source_hidden": false,
          "outputs_hidden": false
        },
        "nteract": {
          "transient": {
            "deleting": false
          }
        },
        "gather": {
          "logged": 1613609816693
        }
      }
    },
    {
      "cell_type": "code",
      "source": [
        "# Register the model to deploy\n",
        "# model = run.register_model(model_name = \"mymodel\", model_path = \"outputs/model.pkl\")\n",
        "description = 'sample service for Automl Classification'\n",
        "model = best_automl_run.register_model(description = description,\n",
        "                                       model_name=model_name,\n",
        "                                       tags={'area': \"Attrition\", 'type': \"automl_classification\"},\n",
        "                                       model_path = \"outputs/model.pkl\")\n",
        "\n",
        "# Combine scoring script & environment in Inference configuration\n",
        "inference_config = InferenceConfig(entry_script=script_file_name)\n",
        "\n",
        "# Set deployment configuration\n",
        "deployment_config = AciWebservice.deploy_configuration(cpu_cores=1, \n",
        "                                                       memory_gb=1,\n",
        "                                                       tags={'area': \"AttritionData\", 'type': \"automl_classification\"},\n",
        "                                                       description='sample service for Automl Classification')\n",
        "\n",
        "# Define the model, inference, & deployment configuration and web service name and location to deploy\n",
        "service = Model.deploy(\n",
        "    workspace=ws,\n",
        "    name=\"automl-web-service\",\n",
        "    models=[model],\n",
        "    inference_config=inference_config,\n",
        "    deployment_config=deployment_config)\n",
        "\n",
        "service.wait_for_deployment(show_output=True)\n",
        "print(service.state)"
      ],
      "outputs": [
        {
          "output_type": "stream",
          "name": "stdout",
          "text": [
            "Tips: You can try get_logs(): https://aka.ms/debugimage#dockerlog or local deployment: https://aka.ms/debugimage#debug-locally to debug if deployment takes longer than 10 minutes.\n",
            "Running...........................................\n",
            "Succeeded\n",
            "ACI service creation operation finished, operation \"Succeeded\"\n",
            "Healthy\n"
          ]
        }
      ],
      "execution_count": 25,
      "metadata": {
        "gather": {
          "logged": 1613610488318
        },
        "jupyter": {
          "outputs_hidden": false,
          "source_hidden": false
        },
        "nteract": {
          "transient": {
            "deleting": false
          }
        }
      }
    },
    {
      "cell_type": "code",
      "source": [
        "print(service.scoring_uri)"
      ],
      "outputs": [
        {
          "output_type": "stream",
          "name": "stdout",
          "text": [
            "http://fb677e09-e443-4274-8359-1a7840d64bad.southcentralus.azurecontainer.io/score\n"
          ]
        }
      ],
      "execution_count": 34,
      "metadata": {
        "collapsed": true,
        "jupyter": {
          "source_hidden": false,
          "outputs_hidden": false
        },
        "nteract": {
          "transient": {
            "deleting": false
          }
        },
        "gather": {
          "logged": 1613612067047
        }
      }
    },
    {
      "cell_type": "code",
      "execution_count": null,
      "metadata": {},
      "outputs": [],
      "source": [
        "# Enable application insights\n",
        "service.update(enable_app_insights = True)"
      ]
    },
    {
      "cell_type": "code",
      "execution_count": null,
      "metadata": {},
      "outputs": [],
      "source": [
        "print(\"State : \"+service.state)\n",
        "print(\"Key \" + service.get_keys()[0])\n",
        "print(\"Swagger URI : \"+service.swagger_uri)\n",
        "print(\"Scoring URI : \"+service.scoring_uri)"
      ]
    },
    {
      "cell_type": "markdown",
      "source": [
        "TODO: In the cell below, send a request to the web service you deployed to test it."
      ],
      "metadata": {
        "collapsed": true,
        "gather": {
          "logged": 1598431657736
        },
        "jupyter": {
          "outputs_hidden": false,
          "source_hidden": false
        },
        "nteract": {
          "transient": {
            "deleting": false
          }
        }
      }
    },
    {
      "cell_type": "code",
      "source": [
        "from numpy import array"
      ],
      "outputs": [],
      "execution_count": 26,
      "metadata": {
        "gather": {
          "logged": 1613611811613
        },
        "jupyter": {
          "outputs_hidden": false,
          "source_hidden": false
        },
        "nteract": {
          "transient": {
            "deleting": false
          }
        }
      }
    },
    {
      "cell_type": "code",
      "source": [
        "X_test = ibm_ds.drop_columns(columns=['Attrition'])\r\n",
        "y_test = ibm_ds.keep_columns(columns=['Attrition'], validate=True)"
      ],
      "outputs": [],
      "execution_count": 29,
      "metadata": {
        "collapsed": true,
        "jupyter": {
          "source_hidden": false,
          "outputs_hidden": false
        },
        "nteract": {
          "transient": {
            "deleting": false
          }
        },
        "gather": {
          "logged": 1613611875757
        }
      }
    },
    {
      "cell_type": "code",
      "source": [
        "X_test = X_test.to_pandas_dataframe()\r\n",
        "y_test = y_test.to_pandas_dataframe()"
      ],
      "outputs": [],
      "execution_count": 31,
      "metadata": {
        "collapsed": true,
        "jupyter": {
          "source_hidden": false,
          "outputs_hidden": false
        },
        "nteract": {
          "transient": {
            "deleting": false
          }
        },
        "gather": {
          "logged": 1613611953427
        }
      }
    },
    {
      "cell_type": "code",
      "source": [
        "import json\r\n",
        "import requests\r\n",
        "\r\n",
        "X_test_json = X_test.to_json(orient='records')\r\n",
        "data = \"{\\\"data\\\": \" + X_test_json +\"}\"\r\n",
        "headers = {'Content-Type': 'application/json'}\r\n",
        "\r\n",
        "resp = requests.post(service.scoring_uri, data, headers=headers)\r\n",
        "\r\n",
        "y_pred = json.loads(json.loads(resp.text))['result']"
      ],
      "outputs": [],
      "execution_count": 35,
      "metadata": {
        "collapsed": true,
        "jupyter": {
          "source_hidden": false,
          "outputs_hidden": false
        },
        "nteract": {
          "transient": {
            "deleting": false
          }
        },
        "gather": {
          "logged": 1613612093260
        }
      }
    },
    {
      "cell_type": "code",
      "source": [
        "actual = array(y_test)\r\n",
        "actual = actual[:,0]\r\n",
        "print(len(y_pred), \" \", len(actual))"
      ],
      "outputs": [
        {
          "output_type": "stream",
          "name": "stdout",
          "text": [
            "1470   1470\n"
          ]
        }
      ],
      "execution_count": 36,
      "metadata": {
        "collapsed": true,
        "jupyter": {
          "source_hidden": false,
          "outputs_hidden": false
        },
        "nteract": {
          "transient": {
            "deleting": false
          }
        },
        "gather": {
          "logged": 1613612126921
        }
      }
    },
    {
      "cell_type": "code",
      "source": [
        "%matplotlib inline\r\n",
        "from sklearn.metrics import confusion_matrix\r\n",
        "import matplotlib.pyplot as plt\r\n",
        "import numpy as np\r\n",
        "import itertools\r\n",
        "\r\n",
        "cf =confusion_matrix(actual,y_pred)\r\n",
        "plt.imshow(cf,cmap=plt.cm.Blues,interpolation='nearest')\r\n",
        "plt.colorbar()\r\n",
        "plt.title('Confusion Matrix')\r\n",
        "plt.xlabel('Predicted')\r\n",
        "plt.ylabel('Actual')\r\n",
        "class_labels = ['no','yes']\r\n",
        "tick_marks = np.arange(len(class_labels))\r\n",
        "plt.xticks(tick_marks,class_labels)\r\n",
        "plt.yticks([-0.5,0,1,1.5],['','no','yes',''])\r\n",
        "\r\n",
        "# plotting text value inside cells\r\n",
        "thresh = cf.max() / 2.\r\n",
        "for i,j in itertools.product(range(cf.shape[0]),range(cf.shape[1])):\r\n",
        "    plt.text(j,i,format(cf[i,j],'d'),horizontalalignment='center',color='white' if cf[i,j] >thresh else 'black')\r\n",
        "plt.show()"
      ],
      "outputs": [
        {
          "output_type": "display_data",
          "data": {
            "text/plain": "<Figure size 432x288 with 2 Axes>",
            "image/png": "[encoded data removed]"
          },
          "metadata": {
            "needs_background": "light"
          }
        }
      ],
      "execution_count": 43,
      "metadata": {
        "collapsed": true,
        "jupyter": {
          "source_hidden": false,
          "outputs_hidden": false
        },
        "nteract": {
          "transient": {
            "deleting": false
          }
        },
        "gather": {
          "logged": 1613612875991
        }
      }
    },
    {
      "cell_type": "markdown",
      "source": [
        "TODO: In the cell below, print the logs of the web service and delete the service"
      ],
      "metadata": {
        "collapsed": true,
        "gather": {
          "logged": 1598432765711
        },
        "jupyter": {
          "outputs_hidden": false,
          "source_hidden": false
        },
        "nteract": {
          "transient": {
            "deleting": false
          }
        }
      }
    },
    {
      "cell_type": "code",
      "source": [
        "print(service.get_logs())"
      ],
      "outputs": [
        {
          "output_type": "execute_result",
          "execution_count": 40,
          "data": {
            "text/plain": "'2021-02-18T01:07:48,081044795+00:00 - gunicorn/run \\n2021-02-18T01:07:48,081759702+00:00 - iot-server/run \\n2021-02-18T01:07:48,085241638+00:00 - nginx/run \\n2021-02-18T01:07:48,082787213+00:00 - rsyslog/run \\n/usr/sbin/nginx: /azureml-envs/azureml_20a8278aa8b20dd48cc50f56a6d2586c/lib/libcrypto.so.1.0.0: no version information available (required by /usr/sbin/nginx)\\n/usr/sbin/nginx: /azureml-envs/azureml_20a8278aa8b20dd48cc50f56a6d2586c/lib/libcrypto.so.1.0.0: no version information available (required by /usr/sbin/nginx)\\n/usr/sbin/nginx: /azureml-envs/azureml_20a8278aa8b20dd48cc50f56a6d2586c/lib/libssl.so.1.0.0: no version information available (required by /usr/sbin/nginx)\\n/usr/sbin/nginx: /azureml-envs/azureml_20a8278aa8b20dd48cc50f56a6d2586c/lib/libssl.so.1.0.0: no version information available (required by /usr/sbin/nginx)\\n/usr/sbin/nginx: /azureml-envs/azureml_20a8278aa8b20dd48cc50f56a6d2586c/lib/libssl.so.1.0.0: no version information available (required by /usr/sbin/nginx)\\nrsyslogd: /azureml-envs/azureml_20a8278aa8b20dd48cc50f56a6d2586c/lib/libuuid.so.1: no version information available (required by rsyslogd)\\nEdgeHubConnectionString and IOTEDGE_IOTHUBHOSTNAME are not set. Exiting...\\n2021-02-18T01:07:48,153217448+00:00 - iot-server/finish 1 0\\n2021-02-18T01:07:48,154280959+00:00 - Exit code 1 is normal. Not restarting iot-server.\\nStarting gunicorn 19.9.0\\nListening at: http://127.0.0.1:31311 (11)\\nUsing worker: sync\\nworker timeout is set to 300\\nBooting worker with pid: 42\\nSPARK_HOME not set. Skipping PySpark Initialization.\\nGenerating new fontManager, this may take some time...\\nInitializing logger\\n2021-02-18 01:07:49,201 | root | INFO | Starting up app insights client\\n2021-02-18 01:07:49,201 | root | INFO | Starting up request id generator\\n2021-02-18 01:07:49,201 | root | INFO | Starting up app insight hooks\\n2021-02-18 01:07:49,201 | root | INFO | Invoking user\\'s init function\\n2021-02-18 01:07:51,232 | root | INFO | Users\\'s init has completed successfully\\n2021-02-18 01:07:51,236 | root | INFO | Skipping middleware: dbg_model_info as it\\'s not enabled.\\n2021-02-18 01:07:51,311 | root | INFO | Skipping middleware: dbg_resource_usage as it\\'s not enabled.\\n2021-02-18 01:07:51,313 | root | INFO | Scoring timeout is found from os.environ: 60000 ms\\n2021-02-18 01:08:04,292 | root | INFO | 200\\n127.0.0.1 - - [18/Feb/2021:01:08:04 +0000] \"GET /swagger.json HTTP/1.0\" 200 4582 \"-\" \"Go-http-client/1.1\"\\n2021-02-18 01:08:08,087 | root | INFO | 200\\n127.0.0.1 - - [18/Feb/2021:01:08:08 +0000] \"GET /swagger.json HTTP/1.0\" 200 4582 \"-\" \"Go-http-client/1.1\"\\n2021-02-18 01:34:52,287 | root | INFO | Validation Request Content-Type\\n2021-02-18 01:34:52,308 | root | INFO | Scoring Timer is set to 60.0 seconds\\n2021-02-18 01:34:53,224 | root | INFO | 200\\n127.0.0.1 - - [18/Feb/2021:01:34:53 +0000] \"POST /score HTTP/1.0\" 200 10069 \"-\" \"python-requests/2.25.1\"\\n'"
          },
          "metadata": {}
        }
      ],
      "execution_count": 40,
      "metadata": {
        "jupyter": {
          "outputs_hidden": false,
          "source_hidden": false
        },
        "nteract": {
          "transient": {
            "deleting": false
          }
        },
        "gather": {
          "logged": 1613612269827
        }
      }
    },
    {
      "cell_type": "code",
      "source": [
        "service.delete()"
      ],
      "outputs": [],
      "execution_count": 42,
      "metadata": {
        "collapsed": true,
        "jupyter": {
          "source_hidden": false,
          "outputs_hidden": false
        },
        "nteract": {
          "transient": {
            "deleting": false
          }
        },
        "gather": {
          "logged": 1613612330338
        }
      }
    },
    {
      "cell_type": "code",
      "source": [
        "compute_target.delete()"
      ],
      "outputs": [],
      "execution_count": null,
      "metadata": {
        "collapsed": true,
        "jupyter": {
          "source_hidden": false,
          "outputs_hidden": false
        },
        "nteract": {
          "transient": {
            "deleting": false
          }
        }
      }
    }
  ],
  "metadata": {
    "kernel_info": {
      "name": "python3"
    },
    "kernelspec": {
      "name": "python3",
      "language": "python",
      "display_name": "Python 3"
    },
    "language_info": {
      "name": "python",
      "version": "3.6.9",
      "mimetype": "text/x-python",
      "codemirror_mode": {
        "name": "ipython",
        "version": 3
      },
      "pygments_lexer": "ipython3",
      "nbconvert_exporter": "python",
      "file_extension": ".py"
    },
    "nteract": {
      "version": "nteract-front-end@1.0.0"
    }
  },
  "nbformat": 4,
  "nbformat_minor": 2
}